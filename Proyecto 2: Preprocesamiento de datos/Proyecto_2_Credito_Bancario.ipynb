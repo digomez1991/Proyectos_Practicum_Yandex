{
 "cells": [
  {
   "cell_type": "markdown",
   "metadata": {},
   "source": [
    "# Credito Bancario"
   ]
  },
  {
   "cell_type": "markdown",
   "metadata": {},
   "source": [
    "# Contenido <a id='back'></a>\n",
    "\n",
    "* [Análisis del riesgo de incumplimiento de los prestatarios](#intro)\n",
    "* [Etapa 1. Abre el archivo de datos y mira la información general](#data_review)\n",
    "* [Etapa 2. Exploración de datos](#exploration)\n",
    "* [Etapa 3. Transformación de datos](#transformation)\n",
    "    * [3.1 Restaurar valores en total_income](#total_income)\n",
    "    * [3.2 Restaurar valores en days_employed](#days_employed)\n",
    "* [Etapa 4. Clasificación de datos](#classification)    \n",
    "* [Etapa 5. Comprobación de las hipótesis](#hypotheses)  \n",
    "* [Conclusión general](#end)"
   ]
  },
  {
   "cell_type": "markdown",
   "metadata": {},
   "source": [
    "# Análisis del riesgo de incumplimiento de los prestatarios\n",
    "\n",
    "El proyecto consiste en preparar un informe para la división de préstamos de un banco. Se Deberá averiguar si el estado civil y el número de hijos de un cliente tienen un impacto en el incumplimiento de pago de un préstamo. El banco ya tiene algunos datos sobre la solvencia crediticia de los clientes.\n",
    "\n",
    "El informe se tendrá en cuenta al crear una **puntuación de crédito** para un cliente potencial. La **puntuación de crédito** se utiliza para evaluar la capacidad de un prestatario potencial para pagar su préstamo."
   ]
  },
  {
   "cell_type": "markdown",
   "metadata": {},
   "source": [
    "## Abrir el archivo de datos y mirar la información general. "
   ]
  },
  {
   "cell_type": "code",
   "execution_count": 1,
   "metadata": {},
   "outputs": [],
   "source": [
    "import pandas as pd"
   ]
  },
  {
   "cell_type": "code",
   "execution_count": 3,
   "metadata": {},
   "outputs": [],
   "source": [
    "banco = pd.read_csv(\"datasets/credit_scoring_eng.csv\")"
   ]
  },
  {
   "cell_type": "markdown",
   "metadata": {},
   "source": [
    "## Exploración de datos <a id=\"exploration\"></a>\n",
    "\n",
    "**Descripción de los datos**\n",
    "- `children` - el número de hijos en la familia\n",
    "- `days_employed` - experiencia laboral en días\n",
    "- `dob_years` - la edad del cliente en años\n",
    "- `education` - la educación del cliente\n",
    "- `education_id` - identificador de educación\n",
    "- `family_status` - estado civil\n",
    "- `family_status_id` - identificador de estado civil\n",
    "- `gender` - género del cliente\n",
    "- `income_type` - tipo de empleo\n",
    "- `debt` - ¿había alguna deuda en el pago de un préstamo?\n",
    "- `total_income` - ingreso mensual\n",
    "- `purpose` - el propósito de obtener un préstamo"
   ]
  },
  {
   "cell_type": "markdown",
   "metadata": {},
   "source": [
    "Observaremos cuántas filas y columnas tiene nuestro conjunto de datos"
   ]
  },
  {
   "cell_type": "code",
   "execution_count": 4,
   "metadata": {},
   "outputs": [
    {
     "data": {
      "text/plain": [
       "(21525, 12)"
      ]
     },
     "execution_count": 4,
     "metadata": {},
     "output_type": "execute_result"
    }
   ],
   "source": [
    "banco.shape"
   ]
  },
  {
   "cell_type": "code",
   "execution_count": 5,
   "metadata": {
    "scrolled": true
   },
   "outputs": [
    {
     "data": {
      "text/html": [
       "<div>\n",
       "<style scoped>\n",
       "    .dataframe tbody tr th:only-of-type {\n",
       "        vertical-align: middle;\n",
       "    }\n",
       "\n",
       "    .dataframe tbody tr th {\n",
       "        vertical-align: top;\n",
       "    }\n",
       "\n",
       "    .dataframe thead th {\n",
       "        text-align: right;\n",
       "    }\n",
       "</style>\n",
       "<table border=\"1\" class=\"dataframe\">\n",
       "  <thead>\n",
       "    <tr style=\"text-align: right;\">\n",
       "      <th></th>\n",
       "      <th>children</th>\n",
       "      <th>days_employed</th>\n",
       "      <th>dob_years</th>\n",
       "      <th>education</th>\n",
       "      <th>education_id</th>\n",
       "      <th>family_status</th>\n",
       "      <th>family_status_id</th>\n",
       "      <th>gender</th>\n",
       "      <th>income_type</th>\n",
       "      <th>debt</th>\n",
       "      <th>total_income</th>\n",
       "      <th>purpose</th>\n",
       "    </tr>\n",
       "  </thead>\n",
       "  <tbody>\n",
       "    <tr>\n",
       "      <th>0</th>\n",
       "      <td>1</td>\n",
       "      <td>-8437.673028</td>\n",
       "      <td>42</td>\n",
       "      <td>bachelor's degree</td>\n",
       "      <td>0</td>\n",
       "      <td>married</td>\n",
       "      <td>0</td>\n",
       "      <td>F</td>\n",
       "      <td>employee</td>\n",
       "      <td>0</td>\n",
       "      <td>40620.102</td>\n",
       "      <td>purchase of the house</td>\n",
       "    </tr>\n",
       "    <tr>\n",
       "      <th>1</th>\n",
       "      <td>1</td>\n",
       "      <td>-4024.803754</td>\n",
       "      <td>36</td>\n",
       "      <td>secondary education</td>\n",
       "      <td>1</td>\n",
       "      <td>married</td>\n",
       "      <td>0</td>\n",
       "      <td>F</td>\n",
       "      <td>employee</td>\n",
       "      <td>0</td>\n",
       "      <td>17932.802</td>\n",
       "      <td>car purchase</td>\n",
       "    </tr>\n",
       "    <tr>\n",
       "      <th>2</th>\n",
       "      <td>0</td>\n",
       "      <td>-5623.422610</td>\n",
       "      <td>33</td>\n",
       "      <td>Secondary Education</td>\n",
       "      <td>1</td>\n",
       "      <td>married</td>\n",
       "      <td>0</td>\n",
       "      <td>M</td>\n",
       "      <td>employee</td>\n",
       "      <td>0</td>\n",
       "      <td>23341.752</td>\n",
       "      <td>purchase of the house</td>\n",
       "    </tr>\n",
       "    <tr>\n",
       "      <th>3</th>\n",
       "      <td>3</td>\n",
       "      <td>-4124.747207</td>\n",
       "      <td>32</td>\n",
       "      <td>secondary education</td>\n",
       "      <td>1</td>\n",
       "      <td>married</td>\n",
       "      <td>0</td>\n",
       "      <td>M</td>\n",
       "      <td>employee</td>\n",
       "      <td>0</td>\n",
       "      <td>42820.568</td>\n",
       "      <td>supplementary education</td>\n",
       "    </tr>\n",
       "    <tr>\n",
       "      <th>4</th>\n",
       "      <td>0</td>\n",
       "      <td>340266.072047</td>\n",
       "      <td>53</td>\n",
       "      <td>secondary education</td>\n",
       "      <td>1</td>\n",
       "      <td>civil partnership</td>\n",
       "      <td>1</td>\n",
       "      <td>F</td>\n",
       "      <td>retiree</td>\n",
       "      <td>0</td>\n",
       "      <td>25378.572</td>\n",
       "      <td>to have a wedding</td>\n",
       "    </tr>\n",
       "    <tr>\n",
       "      <th>5</th>\n",
       "      <td>0</td>\n",
       "      <td>-926.185831</td>\n",
       "      <td>27</td>\n",
       "      <td>bachelor's degree</td>\n",
       "      <td>0</td>\n",
       "      <td>civil partnership</td>\n",
       "      <td>1</td>\n",
       "      <td>M</td>\n",
       "      <td>business</td>\n",
       "      <td>0</td>\n",
       "      <td>40922.170</td>\n",
       "      <td>purchase of the house</td>\n",
       "    </tr>\n",
       "    <tr>\n",
       "      <th>6</th>\n",
       "      <td>0</td>\n",
       "      <td>-2879.202052</td>\n",
       "      <td>43</td>\n",
       "      <td>bachelor's degree</td>\n",
       "      <td>0</td>\n",
       "      <td>married</td>\n",
       "      <td>0</td>\n",
       "      <td>F</td>\n",
       "      <td>business</td>\n",
       "      <td>0</td>\n",
       "      <td>38484.156</td>\n",
       "      <td>housing transactions</td>\n",
       "    </tr>\n",
       "    <tr>\n",
       "      <th>7</th>\n",
       "      <td>0</td>\n",
       "      <td>-152.779569</td>\n",
       "      <td>50</td>\n",
       "      <td>SECONDARY EDUCATION</td>\n",
       "      <td>1</td>\n",
       "      <td>married</td>\n",
       "      <td>0</td>\n",
       "      <td>M</td>\n",
       "      <td>employee</td>\n",
       "      <td>0</td>\n",
       "      <td>21731.829</td>\n",
       "      <td>education</td>\n",
       "    </tr>\n",
       "    <tr>\n",
       "      <th>8</th>\n",
       "      <td>2</td>\n",
       "      <td>-6929.865299</td>\n",
       "      <td>35</td>\n",
       "      <td>BACHELOR'S DEGREE</td>\n",
       "      <td>0</td>\n",
       "      <td>civil partnership</td>\n",
       "      <td>1</td>\n",
       "      <td>F</td>\n",
       "      <td>employee</td>\n",
       "      <td>0</td>\n",
       "      <td>15337.093</td>\n",
       "      <td>having a wedding</td>\n",
       "    </tr>\n",
       "    <tr>\n",
       "      <th>9</th>\n",
       "      <td>0</td>\n",
       "      <td>-2188.756445</td>\n",
       "      <td>41</td>\n",
       "      <td>secondary education</td>\n",
       "      <td>1</td>\n",
       "      <td>married</td>\n",
       "      <td>0</td>\n",
       "      <td>M</td>\n",
       "      <td>employee</td>\n",
       "      <td>0</td>\n",
       "      <td>23108.150</td>\n",
       "      <td>purchase of the house for my family</td>\n",
       "    </tr>\n",
       "    <tr>\n",
       "      <th>10</th>\n",
       "      <td>2</td>\n",
       "      <td>-4171.483647</td>\n",
       "      <td>36</td>\n",
       "      <td>bachelor's degree</td>\n",
       "      <td>0</td>\n",
       "      <td>married</td>\n",
       "      <td>0</td>\n",
       "      <td>M</td>\n",
       "      <td>business</td>\n",
       "      <td>0</td>\n",
       "      <td>18230.959</td>\n",
       "      <td>buy real estate</td>\n",
       "    </tr>\n",
       "    <tr>\n",
       "      <th>11</th>\n",
       "      <td>0</td>\n",
       "      <td>-792.701887</td>\n",
       "      <td>40</td>\n",
       "      <td>secondary education</td>\n",
       "      <td>1</td>\n",
       "      <td>married</td>\n",
       "      <td>0</td>\n",
       "      <td>F</td>\n",
       "      <td>employee</td>\n",
       "      <td>0</td>\n",
       "      <td>12331.077</td>\n",
       "      <td>buy commercial real estate</td>\n",
       "    </tr>\n",
       "    <tr>\n",
       "      <th>12</th>\n",
       "      <td>0</td>\n",
       "      <td>NaN</td>\n",
       "      <td>65</td>\n",
       "      <td>secondary education</td>\n",
       "      <td>1</td>\n",
       "      <td>civil partnership</td>\n",
       "      <td>1</td>\n",
       "      <td>M</td>\n",
       "      <td>retiree</td>\n",
       "      <td>0</td>\n",
       "      <td>NaN</td>\n",
       "      <td>to have a wedding</td>\n",
       "    </tr>\n",
       "    <tr>\n",
       "      <th>13</th>\n",
       "      <td>0</td>\n",
       "      <td>-1846.641941</td>\n",
       "      <td>54</td>\n",
       "      <td>some college</td>\n",
       "      <td>2</td>\n",
       "      <td>married</td>\n",
       "      <td>0</td>\n",
       "      <td>F</td>\n",
       "      <td>employee</td>\n",
       "      <td>0</td>\n",
       "      <td>20873.317</td>\n",
       "      <td>car purchase</td>\n",
       "    </tr>\n",
       "    <tr>\n",
       "      <th>14</th>\n",
       "      <td>0</td>\n",
       "      <td>-1844.956182</td>\n",
       "      <td>56</td>\n",
       "      <td>bachelor's degree</td>\n",
       "      <td>0</td>\n",
       "      <td>civil partnership</td>\n",
       "      <td>1</td>\n",
       "      <td>F</td>\n",
       "      <td>business</td>\n",
       "      <td>1</td>\n",
       "      <td>26420.466</td>\n",
       "      <td>buy residential real estate</td>\n",
       "    </tr>\n",
       "  </tbody>\n",
       "</table>\n",
       "</div>"
      ],
      "text/plain": [
       "    children  days_employed  dob_years            education  education_id  \\\n",
       "0          1   -8437.673028         42    bachelor's degree             0   \n",
       "1          1   -4024.803754         36  secondary education             1   \n",
       "2          0   -5623.422610         33  Secondary Education             1   \n",
       "3          3   -4124.747207         32  secondary education             1   \n",
       "4          0  340266.072047         53  secondary education             1   \n",
       "5          0    -926.185831         27    bachelor's degree             0   \n",
       "6          0   -2879.202052         43    bachelor's degree             0   \n",
       "7          0    -152.779569         50  SECONDARY EDUCATION             1   \n",
       "8          2   -6929.865299         35    BACHELOR'S DEGREE             0   \n",
       "9          0   -2188.756445         41  secondary education             1   \n",
       "10         2   -4171.483647         36    bachelor's degree             0   \n",
       "11         0    -792.701887         40  secondary education             1   \n",
       "12         0            NaN         65  secondary education             1   \n",
       "13         0   -1846.641941         54         some college             2   \n",
       "14         0   -1844.956182         56    bachelor's degree             0   \n",
       "\n",
       "        family_status  family_status_id gender income_type  debt  \\\n",
       "0             married                 0      F    employee     0   \n",
       "1             married                 0      F    employee     0   \n",
       "2             married                 0      M    employee     0   \n",
       "3             married                 0      M    employee     0   \n",
       "4   civil partnership                 1      F     retiree     0   \n",
       "5   civil partnership                 1      M    business     0   \n",
       "6             married                 0      F    business     0   \n",
       "7             married                 0      M    employee     0   \n",
       "8   civil partnership                 1      F    employee     0   \n",
       "9             married                 0      M    employee     0   \n",
       "10            married                 0      M    business     0   \n",
       "11            married                 0      F    employee     0   \n",
       "12  civil partnership                 1      M     retiree     0   \n",
       "13            married                 0      F    employee     0   \n",
       "14  civil partnership                 1      F    business     1   \n",
       "\n",
       "    total_income                              purpose  \n",
       "0      40620.102                purchase of the house  \n",
       "1      17932.802                         car purchase  \n",
       "2      23341.752                purchase of the house  \n",
       "3      42820.568              supplementary education  \n",
       "4      25378.572                    to have a wedding  \n",
       "5      40922.170                purchase of the house  \n",
       "6      38484.156                 housing transactions  \n",
       "7      21731.829                            education  \n",
       "8      15337.093                     having a wedding  \n",
       "9      23108.150  purchase of the house for my family  \n",
       "10     18230.959                      buy real estate  \n",
       "11     12331.077           buy commercial real estate  \n",
       "12           NaN                    to have a wedding  \n",
       "13     20873.317                         car purchase  \n",
       "14     26420.466          buy residential real estate  "
      ]
     },
     "execution_count": 5,
     "metadata": {},
     "output_type": "execute_result"
    }
   ],
   "source": [
    "banco.head(15)"
   ]
  },
  {
   "cell_type": "markdown",
   "metadata": {},
   "source": [
    "Se observan datos faltantes tanto en la columna \"days_empoyed\" como en la columna \"total_income\". Además se observan valores negativos y decimales irrelevantes en \"days_employed\" junto a diferencia de nomenclatura en la columna \"education\". Hay que proceder revisando la existencia de más datos faltantes en el resto de columnas, unificar nomenclatura y averiguar a que podría corresponder la existencia de valores negativos en \"days_employed\"."
   ]
  },
  {
   "cell_type": "code",
   "execution_count": 6,
   "metadata": {
    "scrolled": false
   },
   "outputs": [
    {
     "name": "stdout",
     "output_type": "stream",
     "text": [
      "<class 'pandas.core.frame.DataFrame'>\n",
      "RangeIndex: 21525 entries, 0 to 21524\n",
      "Data columns (total 12 columns):\n",
      " #   Column            Non-Null Count  Dtype  \n",
      "---  ------            --------------  -----  \n",
      " 0   children          21525 non-null  int64  \n",
      " 1   days_employed     19351 non-null  float64\n",
      " 2   dob_years         21525 non-null  int64  \n",
      " 3   education         21525 non-null  object \n",
      " 4   education_id      21525 non-null  int64  \n",
      " 5   family_status     21525 non-null  object \n",
      " 6   family_status_id  21525 non-null  int64  \n",
      " 7   gender            21525 non-null  object \n",
      " 8   income_type       21525 non-null  object \n",
      " 9   debt              21525 non-null  int64  \n",
      " 10  total_income      19351 non-null  float64\n",
      " 11  purpose           21525 non-null  object \n",
      "dtypes: float64(2), int64(5), object(5)\n",
      "memory usage: 2.0+ MB\n"
     ]
    }
   ],
   "source": [
    "banco.info()"
   ]
  },
  {
   "cell_type": "markdown",
   "metadata": {},
   "source": [
    "Se observan valores ausentes solamente en las columnas \"days_employed\" y \"total_income\", tal como se observó en las primeras 15 filas del DataSet anteriormente."
   ]
  },
  {
   "cell_type": "code",
   "execution_count": 7,
   "metadata": {
    "scrolled": true
   },
   "outputs": [
    {
     "data": {
      "text/html": [
       "<div>\n",
       "<style scoped>\n",
       "    .dataframe tbody tr th:only-of-type {\n",
       "        vertical-align: middle;\n",
       "    }\n",
       "\n",
       "    .dataframe tbody tr th {\n",
       "        vertical-align: top;\n",
       "    }\n",
       "\n",
       "    .dataframe thead th {\n",
       "        text-align: right;\n",
       "    }\n",
       "</style>\n",
       "<table border=\"1\" class=\"dataframe\">\n",
       "  <thead>\n",
       "    <tr style=\"text-align: right;\">\n",
       "      <th></th>\n",
       "      <th>children</th>\n",
       "      <th>days_employed</th>\n",
       "      <th>dob_years</th>\n",
       "      <th>education</th>\n",
       "      <th>education_id</th>\n",
       "      <th>family_status</th>\n",
       "      <th>family_status_id</th>\n",
       "      <th>gender</th>\n",
       "      <th>income_type</th>\n",
       "      <th>debt</th>\n",
       "      <th>total_income</th>\n",
       "      <th>purpose</th>\n",
       "    </tr>\n",
       "  </thead>\n",
       "  <tbody>\n",
       "    <tr>\n",
       "      <th>12</th>\n",
       "      <td>0</td>\n",
       "      <td>NaN</td>\n",
       "      <td>65</td>\n",
       "      <td>secondary education</td>\n",
       "      <td>1</td>\n",
       "      <td>civil partnership</td>\n",
       "      <td>1</td>\n",
       "      <td>M</td>\n",
       "      <td>retiree</td>\n",
       "      <td>0</td>\n",
       "      <td>NaN</td>\n",
       "      <td>to have a wedding</td>\n",
       "    </tr>\n",
       "    <tr>\n",
       "      <th>26</th>\n",
       "      <td>0</td>\n",
       "      <td>NaN</td>\n",
       "      <td>41</td>\n",
       "      <td>secondary education</td>\n",
       "      <td>1</td>\n",
       "      <td>married</td>\n",
       "      <td>0</td>\n",
       "      <td>M</td>\n",
       "      <td>civil servant</td>\n",
       "      <td>0</td>\n",
       "      <td>NaN</td>\n",
       "      <td>education</td>\n",
       "    </tr>\n",
       "    <tr>\n",
       "      <th>29</th>\n",
       "      <td>0</td>\n",
       "      <td>NaN</td>\n",
       "      <td>63</td>\n",
       "      <td>secondary education</td>\n",
       "      <td>1</td>\n",
       "      <td>unmarried</td>\n",
       "      <td>4</td>\n",
       "      <td>F</td>\n",
       "      <td>retiree</td>\n",
       "      <td>0</td>\n",
       "      <td>NaN</td>\n",
       "      <td>building a real estate</td>\n",
       "    </tr>\n",
       "    <tr>\n",
       "      <th>41</th>\n",
       "      <td>0</td>\n",
       "      <td>NaN</td>\n",
       "      <td>50</td>\n",
       "      <td>secondary education</td>\n",
       "      <td>1</td>\n",
       "      <td>married</td>\n",
       "      <td>0</td>\n",
       "      <td>F</td>\n",
       "      <td>civil servant</td>\n",
       "      <td>0</td>\n",
       "      <td>NaN</td>\n",
       "      <td>second-hand car purchase</td>\n",
       "    </tr>\n",
       "    <tr>\n",
       "      <th>55</th>\n",
       "      <td>0</td>\n",
       "      <td>NaN</td>\n",
       "      <td>54</td>\n",
       "      <td>secondary education</td>\n",
       "      <td>1</td>\n",
       "      <td>civil partnership</td>\n",
       "      <td>1</td>\n",
       "      <td>F</td>\n",
       "      <td>retiree</td>\n",
       "      <td>1</td>\n",
       "      <td>NaN</td>\n",
       "      <td>to have a wedding</td>\n",
       "    </tr>\n",
       "    <tr>\n",
       "      <th>65</th>\n",
       "      <td>0</td>\n",
       "      <td>NaN</td>\n",
       "      <td>21</td>\n",
       "      <td>secondary education</td>\n",
       "      <td>1</td>\n",
       "      <td>unmarried</td>\n",
       "      <td>4</td>\n",
       "      <td>M</td>\n",
       "      <td>business</td>\n",
       "      <td>0</td>\n",
       "      <td>NaN</td>\n",
       "      <td>transactions with commercial real estate</td>\n",
       "    </tr>\n",
       "    <tr>\n",
       "      <th>67</th>\n",
       "      <td>0</td>\n",
       "      <td>NaN</td>\n",
       "      <td>52</td>\n",
       "      <td>bachelor's degree</td>\n",
       "      <td>0</td>\n",
       "      <td>married</td>\n",
       "      <td>0</td>\n",
       "      <td>F</td>\n",
       "      <td>retiree</td>\n",
       "      <td>0</td>\n",
       "      <td>NaN</td>\n",
       "      <td>purchase of the house for my family</td>\n",
       "    </tr>\n",
       "    <tr>\n",
       "      <th>72</th>\n",
       "      <td>1</td>\n",
       "      <td>NaN</td>\n",
       "      <td>32</td>\n",
       "      <td>bachelor's degree</td>\n",
       "      <td>0</td>\n",
       "      <td>married</td>\n",
       "      <td>0</td>\n",
       "      <td>M</td>\n",
       "      <td>civil servant</td>\n",
       "      <td>0</td>\n",
       "      <td>NaN</td>\n",
       "      <td>transactions with commercial real estate</td>\n",
       "    </tr>\n",
       "    <tr>\n",
       "      <th>82</th>\n",
       "      <td>2</td>\n",
       "      <td>NaN</td>\n",
       "      <td>50</td>\n",
       "      <td>bachelor's degree</td>\n",
       "      <td>0</td>\n",
       "      <td>married</td>\n",
       "      <td>0</td>\n",
       "      <td>F</td>\n",
       "      <td>employee</td>\n",
       "      <td>0</td>\n",
       "      <td>NaN</td>\n",
       "      <td>housing</td>\n",
       "    </tr>\n",
       "    <tr>\n",
       "      <th>83</th>\n",
       "      <td>0</td>\n",
       "      <td>NaN</td>\n",
       "      <td>52</td>\n",
       "      <td>secondary education</td>\n",
       "      <td>1</td>\n",
       "      <td>married</td>\n",
       "      <td>0</td>\n",
       "      <td>M</td>\n",
       "      <td>employee</td>\n",
       "      <td>0</td>\n",
       "      <td>NaN</td>\n",
       "      <td>housing</td>\n",
       "    </tr>\n",
       "    <tr>\n",
       "      <th>90</th>\n",
       "      <td>2</td>\n",
       "      <td>NaN</td>\n",
       "      <td>35</td>\n",
       "      <td>bachelor's degree</td>\n",
       "      <td>0</td>\n",
       "      <td>married</td>\n",
       "      <td>0</td>\n",
       "      <td>F</td>\n",
       "      <td>employee</td>\n",
       "      <td>0</td>\n",
       "      <td>NaN</td>\n",
       "      <td>housing transactions</td>\n",
       "    </tr>\n",
       "    <tr>\n",
       "      <th>94</th>\n",
       "      <td>1</td>\n",
       "      <td>NaN</td>\n",
       "      <td>34</td>\n",
       "      <td>bachelor's degree</td>\n",
       "      <td>0</td>\n",
       "      <td>civil partnership</td>\n",
       "      <td>1</td>\n",
       "      <td>F</td>\n",
       "      <td>business</td>\n",
       "      <td>0</td>\n",
       "      <td>NaN</td>\n",
       "      <td>having a wedding</td>\n",
       "    </tr>\n",
       "    <tr>\n",
       "      <th>96</th>\n",
       "      <td>0</td>\n",
       "      <td>NaN</td>\n",
       "      <td>44</td>\n",
       "      <td>SECONDARY EDUCATION</td>\n",
       "      <td>1</td>\n",
       "      <td>married</td>\n",
       "      <td>0</td>\n",
       "      <td>F</td>\n",
       "      <td>employee</td>\n",
       "      <td>0</td>\n",
       "      <td>NaN</td>\n",
       "      <td>buy residential real estate</td>\n",
       "    </tr>\n",
       "    <tr>\n",
       "      <th>97</th>\n",
       "      <td>0</td>\n",
       "      <td>NaN</td>\n",
       "      <td>47</td>\n",
       "      <td>bachelor's degree</td>\n",
       "      <td>0</td>\n",
       "      <td>married</td>\n",
       "      <td>0</td>\n",
       "      <td>F</td>\n",
       "      <td>employee</td>\n",
       "      <td>0</td>\n",
       "      <td>NaN</td>\n",
       "      <td>profile education</td>\n",
       "    </tr>\n",
       "    <tr>\n",
       "      <th>120</th>\n",
       "      <td>0</td>\n",
       "      <td>NaN</td>\n",
       "      <td>46</td>\n",
       "      <td>secondary education</td>\n",
       "      <td>1</td>\n",
       "      <td>married</td>\n",
       "      <td>0</td>\n",
       "      <td>F</td>\n",
       "      <td>employee</td>\n",
       "      <td>0</td>\n",
       "      <td>NaN</td>\n",
       "      <td>university education</td>\n",
       "    </tr>\n",
       "    <tr>\n",
       "      <th>121</th>\n",
       "      <td>0</td>\n",
       "      <td>NaN</td>\n",
       "      <td>29</td>\n",
       "      <td>bachelor's degree</td>\n",
       "      <td>0</td>\n",
       "      <td>married</td>\n",
       "      <td>0</td>\n",
       "      <td>F</td>\n",
       "      <td>business</td>\n",
       "      <td>0</td>\n",
       "      <td>NaN</td>\n",
       "      <td>car</td>\n",
       "    </tr>\n",
       "    <tr>\n",
       "      <th>135</th>\n",
       "      <td>0</td>\n",
       "      <td>NaN</td>\n",
       "      <td>27</td>\n",
       "      <td>secondary education</td>\n",
       "      <td>1</td>\n",
       "      <td>married</td>\n",
       "      <td>0</td>\n",
       "      <td>M</td>\n",
       "      <td>business</td>\n",
       "      <td>0</td>\n",
       "      <td>NaN</td>\n",
       "      <td>housing</td>\n",
       "    </tr>\n",
       "    <tr>\n",
       "      <th>141</th>\n",
       "      <td>0</td>\n",
       "      <td>NaN</td>\n",
       "      <td>39</td>\n",
       "      <td>secondary education</td>\n",
       "      <td>1</td>\n",
       "      <td>civil partnership</td>\n",
       "      <td>1</td>\n",
       "      <td>M</td>\n",
       "      <td>employee</td>\n",
       "      <td>0</td>\n",
       "      <td>NaN</td>\n",
       "      <td>wedding ceremony</td>\n",
       "    </tr>\n",
       "    <tr>\n",
       "      <th>145</th>\n",
       "      <td>0</td>\n",
       "      <td>NaN</td>\n",
       "      <td>62</td>\n",
       "      <td>secondary education</td>\n",
       "      <td>1</td>\n",
       "      <td>married</td>\n",
       "      <td>0</td>\n",
       "      <td>M</td>\n",
       "      <td>retiree</td>\n",
       "      <td>0</td>\n",
       "      <td>NaN</td>\n",
       "      <td>building a property</td>\n",
       "    </tr>\n",
       "    <tr>\n",
       "      <th>174</th>\n",
       "      <td>0</td>\n",
       "      <td>NaN</td>\n",
       "      <td>55</td>\n",
       "      <td>bachelor's degree</td>\n",
       "      <td>0</td>\n",
       "      <td>widow / widower</td>\n",
       "      <td>2</td>\n",
       "      <td>F</td>\n",
       "      <td>business</td>\n",
       "      <td>0</td>\n",
       "      <td>NaN</td>\n",
       "      <td>to own a car</td>\n",
       "    </tr>\n",
       "    <tr>\n",
       "      <th>181</th>\n",
       "      <td>0</td>\n",
       "      <td>NaN</td>\n",
       "      <td>26</td>\n",
       "      <td>secondary education</td>\n",
       "      <td>1</td>\n",
       "      <td>civil partnership</td>\n",
       "      <td>1</td>\n",
       "      <td>F</td>\n",
       "      <td>business</td>\n",
       "      <td>1</td>\n",
       "      <td>NaN</td>\n",
       "      <td>purchase of the house for my family</td>\n",
       "    </tr>\n",
       "    <tr>\n",
       "      <th>189</th>\n",
       "      <td>1</td>\n",
       "      <td>NaN</td>\n",
       "      <td>30</td>\n",
       "      <td>secondary education</td>\n",
       "      <td>1</td>\n",
       "      <td>unmarried</td>\n",
       "      <td>4</td>\n",
       "      <td>F</td>\n",
       "      <td>employee</td>\n",
       "      <td>0</td>\n",
       "      <td>NaN</td>\n",
       "      <td>to own a car</td>\n",
       "    </tr>\n",
       "    <tr>\n",
       "      <th>205</th>\n",
       "      <td>1</td>\n",
       "      <td>NaN</td>\n",
       "      <td>31</td>\n",
       "      <td>bachelor's degree</td>\n",
       "      <td>0</td>\n",
       "      <td>married</td>\n",
       "      <td>0</td>\n",
       "      <td>F</td>\n",
       "      <td>employee</td>\n",
       "      <td>0</td>\n",
       "      <td>NaN</td>\n",
       "      <td>buying a second-hand car</td>\n",
       "    </tr>\n",
       "    <tr>\n",
       "      <th>220</th>\n",
       "      <td>1</td>\n",
       "      <td>NaN</td>\n",
       "      <td>23</td>\n",
       "      <td>some college</td>\n",
       "      <td>2</td>\n",
       "      <td>civil partnership</td>\n",
       "      <td>1</td>\n",
       "      <td>F</td>\n",
       "      <td>business</td>\n",
       "      <td>0</td>\n",
       "      <td>NaN</td>\n",
       "      <td>to have a wedding</td>\n",
       "    </tr>\n",
       "    <tr>\n",
       "      <th>241</th>\n",
       "      <td>0</td>\n",
       "      <td>NaN</td>\n",
       "      <td>47</td>\n",
       "      <td>secondary education</td>\n",
       "      <td>1</td>\n",
       "      <td>married</td>\n",
       "      <td>0</td>\n",
       "      <td>M</td>\n",
       "      <td>employee</td>\n",
       "      <td>0</td>\n",
       "      <td>NaN</td>\n",
       "      <td>construction of own property</td>\n",
       "    </tr>\n",
       "    <tr>\n",
       "      <th>242</th>\n",
       "      <td>0</td>\n",
       "      <td>NaN</td>\n",
       "      <td>58</td>\n",
       "      <td>secondary education</td>\n",
       "      <td>1</td>\n",
       "      <td>married</td>\n",
       "      <td>0</td>\n",
       "      <td>F</td>\n",
       "      <td>civil servant</td>\n",
       "      <td>0</td>\n",
       "      <td>NaN</td>\n",
       "      <td>purchase of my own house</td>\n",
       "    </tr>\n",
       "    <tr>\n",
       "      <th>247</th>\n",
       "      <td>1</td>\n",
       "      <td>NaN</td>\n",
       "      <td>60</td>\n",
       "      <td>bachelor's degree</td>\n",
       "      <td>0</td>\n",
       "      <td>married</td>\n",
       "      <td>0</td>\n",
       "      <td>F</td>\n",
       "      <td>retiree</td>\n",
       "      <td>1</td>\n",
       "      <td>NaN</td>\n",
       "      <td>going to university</td>\n",
       "    </tr>\n",
       "    <tr>\n",
       "      <th>250</th>\n",
       "      <td>0</td>\n",
       "      <td>NaN</td>\n",
       "      <td>54</td>\n",
       "      <td>bachelor's degree</td>\n",
       "      <td>0</td>\n",
       "      <td>married</td>\n",
       "      <td>0</td>\n",
       "      <td>F</td>\n",
       "      <td>employee</td>\n",
       "      <td>0</td>\n",
       "      <td>NaN</td>\n",
       "      <td>second-hand car purchase</td>\n",
       "    </tr>\n",
       "    <tr>\n",
       "      <th>264</th>\n",
       "      <td>2</td>\n",
       "      <td>NaN</td>\n",
       "      <td>40</td>\n",
       "      <td>secondary education</td>\n",
       "      <td>1</td>\n",
       "      <td>divorced</td>\n",
       "      <td>3</td>\n",
       "      <td>F</td>\n",
       "      <td>employee</td>\n",
       "      <td>0</td>\n",
       "      <td>NaN</td>\n",
       "      <td>property</td>\n",
       "    </tr>\n",
       "    <tr>\n",
       "      <th>278</th>\n",
       "      <td>1</td>\n",
       "      <td>NaN</td>\n",
       "      <td>23</td>\n",
       "      <td>Secondary Education</td>\n",
       "      <td>1</td>\n",
       "      <td>civil partnership</td>\n",
       "      <td>1</td>\n",
       "      <td>F</td>\n",
       "      <td>employee</td>\n",
       "      <td>1</td>\n",
       "      <td>NaN</td>\n",
       "      <td>car</td>\n",
       "    </tr>\n",
       "    <tr>\n",
       "      <th>279</th>\n",
       "      <td>0</td>\n",
       "      <td>NaN</td>\n",
       "      <td>44</td>\n",
       "      <td>Secondary Education</td>\n",
       "      <td>1</td>\n",
       "      <td>civil partnership</td>\n",
       "      <td>1</td>\n",
       "      <td>F</td>\n",
       "      <td>employee</td>\n",
       "      <td>0</td>\n",
       "      <td>NaN</td>\n",
       "      <td>transactions with my real estate</td>\n",
       "    </tr>\n",
       "    <tr>\n",
       "      <th>280</th>\n",
       "      <td>0</td>\n",
       "      <td>NaN</td>\n",
       "      <td>66</td>\n",
       "      <td>secondary education</td>\n",
       "      <td>1</td>\n",
       "      <td>married</td>\n",
       "      <td>0</td>\n",
       "      <td>F</td>\n",
       "      <td>retiree</td>\n",
       "      <td>0</td>\n",
       "      <td>NaN</td>\n",
       "      <td>housing transactions</td>\n",
       "    </tr>\n",
       "    <tr>\n",
       "      <th>312</th>\n",
       "      <td>1</td>\n",
       "      <td>NaN</td>\n",
       "      <td>33</td>\n",
       "      <td>secondary education</td>\n",
       "      <td>1</td>\n",
       "      <td>civil partnership</td>\n",
       "      <td>1</td>\n",
       "      <td>M</td>\n",
       "      <td>employee</td>\n",
       "      <td>1</td>\n",
       "      <td>NaN</td>\n",
       "      <td>buying property for renting out</td>\n",
       "    </tr>\n",
       "    <tr>\n",
       "      <th>317</th>\n",
       "      <td>0</td>\n",
       "      <td>NaN</td>\n",
       "      <td>21</td>\n",
       "      <td>bachelor's degree</td>\n",
       "      <td>0</td>\n",
       "      <td>unmarried</td>\n",
       "      <td>4</td>\n",
       "      <td>M</td>\n",
       "      <td>employee</td>\n",
       "      <td>0</td>\n",
       "      <td>NaN</td>\n",
       "      <td>purchase of a car</td>\n",
       "    </tr>\n",
       "    <tr>\n",
       "      <th>320</th>\n",
       "      <td>0</td>\n",
       "      <td>NaN</td>\n",
       "      <td>63</td>\n",
       "      <td>secondary education</td>\n",
       "      <td>1</td>\n",
       "      <td>widow / widower</td>\n",
       "      <td>2</td>\n",
       "      <td>F</td>\n",
       "      <td>employee</td>\n",
       "      <td>0</td>\n",
       "      <td>NaN</td>\n",
       "      <td>buying a second-hand car</td>\n",
       "    </tr>\n",
       "    <tr>\n",
       "      <th>321</th>\n",
       "      <td>1</td>\n",
       "      <td>NaN</td>\n",
       "      <td>34</td>\n",
       "      <td>bachelor's degree</td>\n",
       "      <td>0</td>\n",
       "      <td>civil partnership</td>\n",
       "      <td>1</td>\n",
       "      <td>M</td>\n",
       "      <td>business</td>\n",
       "      <td>0</td>\n",
       "      <td>NaN</td>\n",
       "      <td>having a wedding</td>\n",
       "    </tr>\n",
       "    <tr>\n",
       "      <th>322</th>\n",
       "      <td>0</td>\n",
       "      <td>NaN</td>\n",
       "      <td>56</td>\n",
       "      <td>SECONDARY EDUCATION</td>\n",
       "      <td>1</td>\n",
       "      <td>civil partnership</td>\n",
       "      <td>1</td>\n",
       "      <td>F</td>\n",
       "      <td>retiree</td>\n",
       "      <td>1</td>\n",
       "      <td>NaN</td>\n",
       "      <td>to have a wedding</td>\n",
       "    </tr>\n",
       "    <tr>\n",
       "      <th>328</th>\n",
       "      <td>0</td>\n",
       "      <td>NaN</td>\n",
       "      <td>69</td>\n",
       "      <td>secondary education</td>\n",
       "      <td>1</td>\n",
       "      <td>widow / widower</td>\n",
       "      <td>2</td>\n",
       "      <td>F</td>\n",
       "      <td>employee</td>\n",
       "      <td>0</td>\n",
       "      <td>NaN</td>\n",
       "      <td>car purchase</td>\n",
       "    </tr>\n",
       "    <tr>\n",
       "      <th>360</th>\n",
       "      <td>0</td>\n",
       "      <td>NaN</td>\n",
       "      <td>27</td>\n",
       "      <td>secondary education</td>\n",
       "      <td>1</td>\n",
       "      <td>married</td>\n",
       "      <td>0</td>\n",
       "      <td>M</td>\n",
       "      <td>business</td>\n",
       "      <td>0</td>\n",
       "      <td>NaN</td>\n",
       "      <td>buying property for renting out</td>\n",
       "    </tr>\n",
       "    <tr>\n",
       "      <th>361</th>\n",
       "      <td>0</td>\n",
       "      <td>NaN</td>\n",
       "      <td>59</td>\n",
       "      <td>secondary education</td>\n",
       "      <td>1</td>\n",
       "      <td>widow / widower</td>\n",
       "      <td>2</td>\n",
       "      <td>F</td>\n",
       "      <td>retiree</td>\n",
       "      <td>0</td>\n",
       "      <td>NaN</td>\n",
       "      <td>housing</td>\n",
       "    </tr>\n",
       "    <tr>\n",
       "      <th>364</th>\n",
       "      <td>0</td>\n",
       "      <td>NaN</td>\n",
       "      <td>57</td>\n",
       "      <td>secondary education</td>\n",
       "      <td>1</td>\n",
       "      <td>civil partnership</td>\n",
       "      <td>1</td>\n",
       "      <td>F</td>\n",
       "      <td>business</td>\n",
       "      <td>0</td>\n",
       "      <td>NaN</td>\n",
       "      <td>going to university</td>\n",
       "    </tr>\n",
       "    <tr>\n",
       "      <th>376</th>\n",
       "      <td>0</td>\n",
       "      <td>NaN</td>\n",
       "      <td>23</td>\n",
       "      <td>Some College</td>\n",
       "      <td>2</td>\n",
       "      <td>unmarried</td>\n",
       "      <td>4</td>\n",
       "      <td>M</td>\n",
       "      <td>employee</td>\n",
       "      <td>0</td>\n",
       "      <td>NaN</td>\n",
       "      <td>getting higher education</td>\n",
       "    </tr>\n",
       "    <tr>\n",
       "      <th>383</th>\n",
       "      <td>0</td>\n",
       "      <td>NaN</td>\n",
       "      <td>55</td>\n",
       "      <td>bachelor's degree</td>\n",
       "      <td>0</td>\n",
       "      <td>civil partnership</td>\n",
       "      <td>1</td>\n",
       "      <td>F</td>\n",
       "      <td>business</td>\n",
       "      <td>0</td>\n",
       "      <td>NaN</td>\n",
       "      <td>to have a wedding</td>\n",
       "    </tr>\n",
       "    <tr>\n",
       "      <th>389</th>\n",
       "      <td>1</td>\n",
       "      <td>NaN</td>\n",
       "      <td>31</td>\n",
       "      <td>SECONDARY EDUCATION</td>\n",
       "      <td>1</td>\n",
       "      <td>divorced</td>\n",
       "      <td>3</td>\n",
       "      <td>M</td>\n",
       "      <td>civil servant</td>\n",
       "      <td>0</td>\n",
       "      <td>NaN</td>\n",
       "      <td>supplementary education</td>\n",
       "    </tr>\n",
       "    <tr>\n",
       "      <th>415</th>\n",
       "      <td>0</td>\n",
       "      <td>NaN</td>\n",
       "      <td>57</td>\n",
       "      <td>bachelor's degree</td>\n",
       "      <td>0</td>\n",
       "      <td>widow / widower</td>\n",
       "      <td>2</td>\n",
       "      <td>F</td>\n",
       "      <td>retiree</td>\n",
       "      <td>0</td>\n",
       "      <td>NaN</td>\n",
       "      <td>housing</td>\n",
       "    </tr>\n",
       "    <tr>\n",
       "      <th>416</th>\n",
       "      <td>0</td>\n",
       "      <td>NaN</td>\n",
       "      <td>58</td>\n",
       "      <td>secondary education</td>\n",
       "      <td>1</td>\n",
       "      <td>civil partnership</td>\n",
       "      <td>1</td>\n",
       "      <td>F</td>\n",
       "      <td>retiree</td>\n",
       "      <td>0</td>\n",
       "      <td>NaN</td>\n",
       "      <td>profile education</td>\n",
       "    </tr>\n",
       "    <tr>\n",
       "      <th>421</th>\n",
       "      <td>0</td>\n",
       "      <td>NaN</td>\n",
       "      <td>45</td>\n",
       "      <td>secondary education</td>\n",
       "      <td>1</td>\n",
       "      <td>married</td>\n",
       "      <td>0</td>\n",
       "      <td>F</td>\n",
       "      <td>employee</td>\n",
       "      <td>0</td>\n",
       "      <td>NaN</td>\n",
       "      <td>profile education</td>\n",
       "    </tr>\n",
       "    <tr>\n",
       "      <th>444</th>\n",
       "      <td>0</td>\n",
       "      <td>NaN</td>\n",
       "      <td>53</td>\n",
       "      <td>secondary education</td>\n",
       "      <td>1</td>\n",
       "      <td>widow / widower</td>\n",
       "      <td>2</td>\n",
       "      <td>F</td>\n",
       "      <td>employee</td>\n",
       "      <td>1</td>\n",
       "      <td>NaN</td>\n",
       "      <td>to own a car</td>\n",
       "    </tr>\n",
       "    <tr>\n",
       "      <th>458</th>\n",
       "      <td>0</td>\n",
       "      <td>NaN</td>\n",
       "      <td>48</td>\n",
       "      <td>secondary education</td>\n",
       "      <td>1</td>\n",
       "      <td>civil partnership</td>\n",
       "      <td>1</td>\n",
       "      <td>F</td>\n",
       "      <td>business</td>\n",
       "      <td>0</td>\n",
       "      <td>NaN</td>\n",
       "      <td>wedding ceremony</td>\n",
       "    </tr>\n",
       "    <tr>\n",
       "      <th>466</th>\n",
       "      <td>0</td>\n",
       "      <td>NaN</td>\n",
       "      <td>56</td>\n",
       "      <td>secondary education</td>\n",
       "      <td>1</td>\n",
       "      <td>married</td>\n",
       "      <td>0</td>\n",
       "      <td>F</td>\n",
       "      <td>retiree</td>\n",
       "      <td>0</td>\n",
       "      <td>NaN</td>\n",
       "      <td>supplementary education</td>\n",
       "    </tr>\n",
       "    <tr>\n",
       "      <th>490</th>\n",
       "      <td>1</td>\n",
       "      <td>NaN</td>\n",
       "      <td>29</td>\n",
       "      <td>secondary education</td>\n",
       "      <td>1</td>\n",
       "      <td>married</td>\n",
       "      <td>0</td>\n",
       "      <td>F</td>\n",
       "      <td>business</td>\n",
       "      <td>0</td>\n",
       "      <td>NaN</td>\n",
       "      <td>to buy a car</td>\n",
       "    </tr>\n",
       "    <tr>\n",
       "      <th>499</th>\n",
       "      <td>0</td>\n",
       "      <td>NaN</td>\n",
       "      <td>54</td>\n",
       "      <td>bachelor's degree</td>\n",
       "      <td>0</td>\n",
       "      <td>unmarried</td>\n",
       "      <td>4</td>\n",
       "      <td>M</td>\n",
       "      <td>employee</td>\n",
       "      <td>0</td>\n",
       "      <td>NaN</td>\n",
       "      <td>buy real estate</td>\n",
       "    </tr>\n",
       "    <tr>\n",
       "      <th>503</th>\n",
       "      <td>1</td>\n",
       "      <td>NaN</td>\n",
       "      <td>30</td>\n",
       "      <td>bachelor's degree</td>\n",
       "      <td>0</td>\n",
       "      <td>civil partnership</td>\n",
       "      <td>1</td>\n",
       "      <td>M</td>\n",
       "      <td>employee</td>\n",
       "      <td>0</td>\n",
       "      <td>NaN</td>\n",
       "      <td>to have a wedding</td>\n",
       "    </tr>\n",
       "    <tr>\n",
       "      <th>515</th>\n",
       "      <td>1</td>\n",
       "      <td>NaN</td>\n",
       "      <td>51</td>\n",
       "      <td>SECONDARY EDUCATION</td>\n",
       "      <td>1</td>\n",
       "      <td>married</td>\n",
       "      <td>0</td>\n",
       "      <td>F</td>\n",
       "      <td>business</td>\n",
       "      <td>0</td>\n",
       "      <td>NaN</td>\n",
       "      <td>cars</td>\n",
       "    </tr>\n",
       "    <tr>\n",
       "      <th>518</th>\n",
       "      <td>0</td>\n",
       "      <td>NaN</td>\n",
       "      <td>29</td>\n",
       "      <td>bachelor's degree</td>\n",
       "      <td>0</td>\n",
       "      <td>unmarried</td>\n",
       "      <td>4</td>\n",
       "      <td>M</td>\n",
       "      <td>business</td>\n",
       "      <td>0</td>\n",
       "      <td>NaN</td>\n",
       "      <td>buy commercial real estate</td>\n",
       "    </tr>\n",
       "    <tr>\n",
       "      <th>520</th>\n",
       "      <td>0</td>\n",
       "      <td>NaN</td>\n",
       "      <td>35</td>\n",
       "      <td>secondary education</td>\n",
       "      <td>1</td>\n",
       "      <td>civil partnership</td>\n",
       "      <td>1</td>\n",
       "      <td>F</td>\n",
       "      <td>employee</td>\n",
       "      <td>0</td>\n",
       "      <td>NaN</td>\n",
       "      <td>to have a wedding</td>\n",
       "    </tr>\n",
       "    <tr>\n",
       "      <th>541</th>\n",
       "      <td>0</td>\n",
       "      <td>NaN</td>\n",
       "      <td>57</td>\n",
       "      <td>secondary education</td>\n",
       "      <td>1</td>\n",
       "      <td>married</td>\n",
       "      <td>0</td>\n",
       "      <td>F</td>\n",
       "      <td>employee</td>\n",
       "      <td>0</td>\n",
       "      <td>NaN</td>\n",
       "      <td>second-hand car purchase</td>\n",
       "    </tr>\n",
       "    <tr>\n",
       "      <th>554</th>\n",
       "      <td>0</td>\n",
       "      <td>NaN</td>\n",
       "      <td>60</td>\n",
       "      <td>secondary education</td>\n",
       "      <td>1</td>\n",
       "      <td>married</td>\n",
       "      <td>0</td>\n",
       "      <td>M</td>\n",
       "      <td>employee</td>\n",
       "      <td>0</td>\n",
       "      <td>NaN</td>\n",
       "      <td>buy real estate</td>\n",
       "    </tr>\n",
       "    <tr>\n",
       "      <th>573</th>\n",
       "      <td>0</td>\n",
       "      <td>NaN</td>\n",
       "      <td>52</td>\n",
       "      <td>secondary education</td>\n",
       "      <td>1</td>\n",
       "      <td>civil partnership</td>\n",
       "      <td>1</td>\n",
       "      <td>F</td>\n",
       "      <td>civil servant</td>\n",
       "      <td>0</td>\n",
       "      <td>NaN</td>\n",
       "      <td>having a wedding</td>\n",
       "    </tr>\n",
       "    <tr>\n",
       "      <th>619</th>\n",
       "      <td>1</td>\n",
       "      <td>NaN</td>\n",
       "      <td>37</td>\n",
       "      <td>secondary education</td>\n",
       "      <td>1</td>\n",
       "      <td>civil partnership</td>\n",
       "      <td>1</td>\n",
       "      <td>F</td>\n",
       "      <td>business</td>\n",
       "      <td>1</td>\n",
       "      <td>NaN</td>\n",
       "      <td>wedding ceremony</td>\n",
       "    </tr>\n",
       "  </tbody>\n",
       "</table>\n",
       "</div>"
      ],
      "text/plain": [
       "     children  days_employed  dob_years            education  education_id  \\\n",
       "12          0            NaN         65  secondary education             1   \n",
       "26          0            NaN         41  secondary education             1   \n",
       "29          0            NaN         63  secondary education             1   \n",
       "41          0            NaN         50  secondary education             1   \n",
       "55          0            NaN         54  secondary education             1   \n",
       "65          0            NaN         21  secondary education             1   \n",
       "67          0            NaN         52    bachelor's degree             0   \n",
       "72          1            NaN         32    bachelor's degree             0   \n",
       "82          2            NaN         50    bachelor's degree             0   \n",
       "83          0            NaN         52  secondary education             1   \n",
       "90          2            NaN         35    bachelor's degree             0   \n",
       "94          1            NaN         34    bachelor's degree             0   \n",
       "96          0            NaN         44  SECONDARY EDUCATION             1   \n",
       "97          0            NaN         47    bachelor's degree             0   \n",
       "120         0            NaN         46  secondary education             1   \n",
       "121         0            NaN         29    bachelor's degree             0   \n",
       "135         0            NaN         27  secondary education             1   \n",
       "141         0            NaN         39  secondary education             1   \n",
       "145         0            NaN         62  secondary education             1   \n",
       "174         0            NaN         55    bachelor's degree             0   \n",
       "181         0            NaN         26  secondary education             1   \n",
       "189         1            NaN         30  secondary education             1   \n",
       "205         1            NaN         31    bachelor's degree             0   \n",
       "220         1            NaN         23         some college             2   \n",
       "241         0            NaN         47  secondary education             1   \n",
       "242         0            NaN         58  secondary education             1   \n",
       "247         1            NaN         60    bachelor's degree             0   \n",
       "250         0            NaN         54    bachelor's degree             0   \n",
       "264         2            NaN         40  secondary education             1   \n",
       "278         1            NaN         23  Secondary Education             1   \n",
       "279         0            NaN         44  Secondary Education             1   \n",
       "280         0            NaN         66  secondary education             1   \n",
       "312         1            NaN         33  secondary education             1   \n",
       "317         0            NaN         21    bachelor's degree             0   \n",
       "320         0            NaN         63  secondary education             1   \n",
       "321         1            NaN         34    bachelor's degree             0   \n",
       "322         0            NaN         56  SECONDARY EDUCATION             1   \n",
       "328         0            NaN         69  secondary education             1   \n",
       "360         0            NaN         27  secondary education             1   \n",
       "361         0            NaN         59  secondary education             1   \n",
       "364         0            NaN         57  secondary education             1   \n",
       "376         0            NaN         23         Some College             2   \n",
       "383         0            NaN         55    bachelor's degree             0   \n",
       "389         1            NaN         31  SECONDARY EDUCATION             1   \n",
       "415         0            NaN         57    bachelor's degree             0   \n",
       "416         0            NaN         58  secondary education             1   \n",
       "421         0            NaN         45  secondary education             1   \n",
       "444         0            NaN         53  secondary education             1   \n",
       "458         0            NaN         48  secondary education             1   \n",
       "466         0            NaN         56  secondary education             1   \n",
       "490         1            NaN         29  secondary education             1   \n",
       "499         0            NaN         54    bachelor's degree             0   \n",
       "503         1            NaN         30    bachelor's degree             0   \n",
       "515         1            NaN         51  SECONDARY EDUCATION             1   \n",
       "518         0            NaN         29    bachelor's degree             0   \n",
       "520         0            NaN         35  secondary education             1   \n",
       "541         0            NaN         57  secondary education             1   \n",
       "554         0            NaN         60  secondary education             1   \n",
       "573         0            NaN         52  secondary education             1   \n",
       "619         1            NaN         37  secondary education             1   \n",
       "\n",
       "         family_status  family_status_id gender    income_type  debt  \\\n",
       "12   civil partnership                 1      M        retiree     0   \n",
       "26             married                 0      M  civil servant     0   \n",
       "29           unmarried                 4      F        retiree     0   \n",
       "41             married                 0      F  civil servant     0   \n",
       "55   civil partnership                 1      F        retiree     1   \n",
       "65           unmarried                 4      M       business     0   \n",
       "67             married                 0      F        retiree     0   \n",
       "72             married                 0      M  civil servant     0   \n",
       "82             married                 0      F       employee     0   \n",
       "83             married                 0      M       employee     0   \n",
       "90             married                 0      F       employee     0   \n",
       "94   civil partnership                 1      F       business     0   \n",
       "96             married                 0      F       employee     0   \n",
       "97             married                 0      F       employee     0   \n",
       "120            married                 0      F       employee     0   \n",
       "121            married                 0      F       business     0   \n",
       "135            married                 0      M       business     0   \n",
       "141  civil partnership                 1      M       employee     0   \n",
       "145            married                 0      M        retiree     0   \n",
       "174    widow / widower                 2      F       business     0   \n",
       "181  civil partnership                 1      F       business     1   \n",
       "189          unmarried                 4      F       employee     0   \n",
       "205            married                 0      F       employee     0   \n",
       "220  civil partnership                 1      F       business     0   \n",
       "241            married                 0      M       employee     0   \n",
       "242            married                 0      F  civil servant     0   \n",
       "247            married                 0      F        retiree     1   \n",
       "250            married                 0      F       employee     0   \n",
       "264           divorced                 3      F       employee     0   \n",
       "278  civil partnership                 1      F       employee     1   \n",
       "279  civil partnership                 1      F       employee     0   \n",
       "280            married                 0      F        retiree     0   \n",
       "312  civil partnership                 1      M       employee     1   \n",
       "317          unmarried                 4      M       employee     0   \n",
       "320    widow / widower                 2      F       employee     0   \n",
       "321  civil partnership                 1      M       business     0   \n",
       "322  civil partnership                 1      F        retiree     1   \n",
       "328    widow / widower                 2      F       employee     0   \n",
       "360            married                 0      M       business     0   \n",
       "361    widow / widower                 2      F        retiree     0   \n",
       "364  civil partnership                 1      F       business     0   \n",
       "376          unmarried                 4      M       employee     0   \n",
       "383  civil partnership                 1      F       business     0   \n",
       "389           divorced                 3      M  civil servant     0   \n",
       "415    widow / widower                 2      F        retiree     0   \n",
       "416  civil partnership                 1      F        retiree     0   \n",
       "421            married                 0      F       employee     0   \n",
       "444    widow / widower                 2      F       employee     1   \n",
       "458  civil partnership                 1      F       business     0   \n",
       "466            married                 0      F        retiree     0   \n",
       "490            married                 0      F       business     0   \n",
       "499          unmarried                 4      M       employee     0   \n",
       "503  civil partnership                 1      M       employee     0   \n",
       "515            married                 0      F       business     0   \n",
       "518          unmarried                 4      M       business     0   \n",
       "520  civil partnership                 1      F       employee     0   \n",
       "541            married                 0      F       employee     0   \n",
       "554            married                 0      M       employee     0   \n",
       "573  civil partnership                 1      F  civil servant     0   \n",
       "619  civil partnership                 1      F       business     1   \n",
       "\n",
       "     total_income                                   purpose  \n",
       "12            NaN                         to have a wedding  \n",
       "26            NaN                                 education  \n",
       "29            NaN                    building a real estate  \n",
       "41            NaN                  second-hand car purchase  \n",
       "55            NaN                         to have a wedding  \n",
       "65            NaN  transactions with commercial real estate  \n",
       "67            NaN       purchase of the house for my family  \n",
       "72            NaN  transactions with commercial real estate  \n",
       "82            NaN                                   housing  \n",
       "83            NaN                                   housing  \n",
       "90            NaN                      housing transactions  \n",
       "94            NaN                          having a wedding  \n",
       "96            NaN               buy residential real estate  \n",
       "97            NaN                         profile education  \n",
       "120           NaN                      university education  \n",
       "121           NaN                                       car  \n",
       "135           NaN                                   housing  \n",
       "141           NaN                          wedding ceremony  \n",
       "145           NaN                       building a property  \n",
       "174           NaN                              to own a car  \n",
       "181           NaN       purchase of the house for my family  \n",
       "189           NaN                              to own a car  \n",
       "205           NaN                  buying a second-hand car  \n",
       "220           NaN                         to have a wedding  \n",
       "241           NaN              construction of own property  \n",
       "242           NaN                  purchase of my own house  \n",
       "247           NaN                       going to university  \n",
       "250           NaN                  second-hand car purchase  \n",
       "264           NaN                                  property  \n",
       "278           NaN                                       car  \n",
       "279           NaN          transactions with my real estate  \n",
       "280           NaN                      housing transactions  \n",
       "312           NaN           buying property for renting out  \n",
       "317           NaN                         purchase of a car  \n",
       "320           NaN                  buying a second-hand car  \n",
       "321           NaN                          having a wedding  \n",
       "322           NaN                         to have a wedding  \n",
       "328           NaN                              car purchase  \n",
       "360           NaN           buying property for renting out  \n",
       "361           NaN                                   housing  \n",
       "364           NaN                       going to university  \n",
       "376           NaN                  getting higher education  \n",
       "383           NaN                         to have a wedding  \n",
       "389           NaN                   supplementary education  \n",
       "415           NaN                                   housing  \n",
       "416           NaN                         profile education  \n",
       "421           NaN                         profile education  \n",
       "444           NaN                              to own a car  \n",
       "458           NaN                          wedding ceremony  \n",
       "466           NaN                   supplementary education  \n",
       "490           NaN                              to buy a car  \n",
       "499           NaN                           buy real estate  \n",
       "503           NaN                         to have a wedding  \n",
       "515           NaN                                      cars  \n",
       "518           NaN                buy commercial real estate  \n",
       "520           NaN                         to have a wedding  \n",
       "541           NaN                  second-hand car purchase  \n",
       "554           NaN                           buy real estate  \n",
       "573           NaN                          having a wedding  \n",
       "619           NaN                          wedding ceremony  "
      ]
     },
     "execution_count": 7,
     "metadata": {},
     "output_type": "execute_result"
    }
   ],
   "source": [
    "banco_filtered_de = banco[banco[\"days_employed\"].isna()==True]\n",
    "banco_filtered_de.head(60)"
   ]
  },
  {
   "cell_type": "markdown",
   "metadata": {},
   "source": [
    "A primera vista, observando las primeras 60 filas del Dataframe filtrado con los valores ausentes de la columna \"days_employed\" se podría inferir que estos son simétricos con los datos ausentes de la columna \"total_income\", pero al ser una muestra pequeña en comparación a la cantidad de filas con datos ausentes, alrededor de un 3% de las filas con datos ausentes, no se puede asegurar esta observación. Lo más apropiado seria continuar comprobando si la ausencia de datos en ambas columnas es simétrica o no."
   ]
  },
  {
   "cell_type": "code",
   "execution_count": 8,
   "metadata": {},
   "outputs": [
    {
     "name": "stdout",
     "output_type": "stream",
     "text": [
      "Tamaño Dataframe banco filtrado por ausentes en days_employed: (2174, 12)\n",
      "Tamaño Dataframe banco filtrado vuelto a filtrar por ausentes en total_income: (2174, 12)\n"
     ]
    }
   ],
   "source": [
    "print(f'{\"Tamaño Dataframe banco filtrado por ausentes en days_employed:\"} {banco_filtered_de.shape}')\n",
    "banco_refiltered_ti = banco_filtered_de[banco_filtered_de[\"total_income\"].isna()==True]\n",
    "print(f'{\"Tamaño Dataframe banco filtrado vuelto a filtrar por ausentes en total_income:\"} {banco_refiltered_ti.shape}')"
   ]
  },
  {
   "cell_type": "markdown",
   "metadata": {},
   "source": [
    "**Conclusión intermedia**\n",
    "\n",
    "El número de filas de la tabla filtrada por los valores ausentes en days_employed coincide con los de la tabla vuelta a filtrar con los valores ausentes en total_income, con esto podemos concluir que los valores ausentes en ambas columnas son simétricos y se presentan en las mismas filas del Dataframe.\n",
    "\n",
    "Lo valores ausentes se encuentran en 2174 filas, lo que corresponde a un 10% de las filas del conjunto de datos por lo que debido a la gran cantidad de datos ausentes se procederá a buscar si existe alguna tendencia con respecto a otras columnas o si la ausencia de valores es aleatoria. En primer lugar se abordara que la característica que define esta ausencia de datos es el nivel de estudios de las personas, debido a que un menor nivel de estudios podría incidir en una menor experiencia laboral y un menor ingreso por lo que gente con menor nivel de estudios decidió omitir estos datos. Se procederá a comparar la distribución de datos en el Dataframe completo versus el Dataframe compuesto únicamente de las filas con datos ausentes con respecto al nivel de estudios de las personas y se observara si existe alguna diferencia en la distribución, de existir diferencias se concluiría que esa característica influye en la ausencia de datos."
   ]
  },
  {
   "cell_type": "code",
   "execution_count": 9,
   "metadata": {},
   "outputs": [
    {
     "data": {
      "text/plain": [
       "12     secondary education\n",
       "26     secondary education\n",
       "29     secondary education\n",
       "41     secondary education\n",
       "55     secondary education\n",
       "65     secondary education\n",
       "67       bachelor's degree\n",
       "72       bachelor's degree\n",
       "82       bachelor's degree\n",
       "83     secondary education\n",
       "90       bachelor's degree\n",
       "94       bachelor's degree\n",
       "96     SECONDARY EDUCATION\n",
       "97       bachelor's degree\n",
       "120    secondary education\n",
       "Name: education, dtype: object"
      ]
     },
     "execution_count": 9,
     "metadata": {},
     "output_type": "execute_result"
    }
   ],
   "source": [
    "banco_filtered_de[\"education\"].head(15)"
   ]
  },
  {
   "cell_type": "code",
   "execution_count": 10,
   "metadata": {},
   "outputs": [
    {
     "data": {
      "text/plain": [
       "secondary education    1408\n",
       "bachelor's degree       496\n",
       "SECONDARY EDUCATION      67\n",
       "Secondary Education      65\n",
       "some college             55\n",
       "Bachelor's Degree        25\n",
       "BACHELOR'S DEGREE        23\n",
       "primary education        19\n",
       "Some College              7\n",
       "SOME COLLEGE              7\n",
       "Primary Education         1\n",
       "PRIMARY EDUCATION         1\n",
       "Name: education, dtype: int64"
      ]
     },
     "execution_count": 10,
     "metadata": {},
     "output_type": "execute_result"
    }
   ],
   "source": [
    "banco_filtered_de[\"education\"].value_counts()"
   ]
  },
  {
   "cell_type": "markdown",
   "metadata": {},
   "source": [
    "Independiente de los problemas de nomenclaturas existentes, se puede observar por un lado que la mayor parte de los datos ausentes se encuentran en personas que tienen como máximo estudios secundarios lo que podría ir de la mano con la hipótesis antes planteada, pero por otra parte muy poca gente con menos estudios que los anteriormente descritos tiene datos ausentes. \n",
    "\n",
    "De momento no se podría atribuir la ausencia de datos a la característica del nivel de educación de las personas, para que la hipótesis fuera correcta la cantidad de personas con datos ausentes debería disminuir según aumenta el nivel de educación y aunque es así para la mayoría de los niveles educativos mostrados no lo es para la eduación primaria la cual es el nivel educativo más bajo de todos. Se procederá a comprobar la distribución del Dataframe entero para ver si existe algún cambio con respecto al recién analizado o si por el contrario es similar y por ende este no está afectando a la ausencia de datos"
   ]
  },
  {
   "cell_type": "code",
   "execution_count": 11,
   "metadata": {},
   "outputs": [
    {
     "data": {
      "text/plain": [
       "secondary education    13750\n",
       "bachelor's degree       4718\n",
       "SECONDARY EDUCATION      772\n",
       "Secondary Education      711\n",
       "some college             668\n",
       "BACHELOR'S DEGREE        274\n",
       "Bachelor's Degree        268\n",
       "primary education        250\n",
       "Some College              47\n",
       "SOME COLLEGE              29\n",
       "PRIMARY EDUCATION         17\n",
       "Primary Education         15\n",
       "graduate degree            4\n",
       "Graduate Degree            1\n",
       "GRADUATE DEGREE            1\n",
       "Name: education, dtype: int64"
      ]
     },
     "execution_count": 11,
     "metadata": {},
     "output_type": "execute_result"
    }
   ],
   "source": [
    "banco[\"education\"].value_counts()"
   ]
  },
  {
   "cell_type": "markdown",
   "metadata": {},
   "source": [
    "**Conclusión intermedia**\n",
    "\n",
    "La distribución en el Dataframe filtrado y entero con respecto al nivel educativo es coincidente por lo cual podemos descartar que esta característica influya de alguna forma en la ausencia de datos para estas personas.\n",
    "\n",
    "Se procederá a comprobar si alguna otra característica puede influir en la ausencia de datos, específicamente \"income_type\" ya que el tipo de empleo puede influir en la ausencia de datos con respecto al ingreso mensual, en caso de que este último no muestre indicios de afectar la ausencia de datos se realizará una comprobación del resto de columnas exceptuando las que poseen datos faltantes y dejando de lado también \"dob_years\" y \"purpose\" debido a la gran diversificación de características que estas poseen."
   ]
  },
  {
   "cell_type": "code",
   "execution_count": 12,
   "metadata": {},
   "outputs": [
    {
     "data": {
      "text/plain": [
       "employee         1105\n",
       "business          508\n",
       "retiree           413\n",
       "civil servant     147\n",
       "entrepreneur        1\n",
       "Name: income_type, dtype: int64"
      ]
     },
     "execution_count": 12,
     "metadata": {},
     "output_type": "execute_result"
    }
   ],
   "source": [
    "banco_filtered_de[\"income_type\"].value_counts()"
   ]
  },
  {
   "cell_type": "code",
   "execution_count": 13,
   "metadata": {},
   "outputs": [
    {
     "data": {
      "text/plain": [
       "employee                       11119\n",
       "business                        5085\n",
       "retiree                         3856\n",
       "civil servant                   1459\n",
       "unemployed                         2\n",
       "entrepreneur                       2\n",
       "student                            1\n",
       "paternity / maternity leave        1\n",
       "Name: income_type, dtype: int64"
      ]
     },
     "execution_count": 13,
     "metadata": {},
     "output_type": "execute_result"
    }
   ],
   "source": [
    "banco[\"income_type\"].value_counts()"
   ]
  },
  {
   "cell_type": "markdown",
   "metadata": {},
   "source": [
    "**Conclusión intermedia**\n",
    "\n",
    "Al comprobar la distribución de \"income_type\" se puede observar que tampoco existe alguna diferencia entre la distribución del Dataframe entero y el filtrado, por lo que aumenta la posibilidad de que la ausencia de datos sea aleatoria. Se procederá a realizar una comprobación rápida del resto de las columnas dejando de lado las anteriormente mencionadas para llegar a una conclusión final con respecto a la aleatoriedad de los datos ausentes**"
   ]
  },
  {
   "cell_type": "code",
   "execution_count": 20,
   "metadata": {},
   "outputs": [
    {
     "name": "stdout",
     "output_type": "stream",
     "text": [
      "filtrado\n",
      "0    0.921803\n",
      "1    0.078197\n",
      "Name: debt, dtype: float64\n",
      "completo\n",
      "0    0.919117\n",
      "1    0.080883\n",
      "Name: debt, dtype: float64\n",
      "\n",
      "filtrado\n",
      "F    0.682613\n",
      "M    0.317387\n",
      "Name: gender, dtype: float64\n",
      "completo\n",
      "F      0.661370\n",
      "M      0.338583\n",
      "XNA    0.000046\n",
      "Name: gender, dtype: float64\n",
      "\n",
      "filtrado\n",
      "married              0.568997\n",
      "civil partnership    0.203312\n",
      "unmarried            0.132475\n",
      "divorced             0.051518\n",
      "widow / widower      0.043698\n",
      "Name: family_status, dtype: float64\n",
      "completo\n",
      "married              0.575145\n",
      "civil partnership    0.194053\n",
      "unmarried            0.130685\n",
      "divorced             0.055517\n",
      "widow / widower      0.044599\n",
      "Name: family_status, dtype: float64\n",
      "\n",
      "filtrado\n",
      " 0     0.661914\n",
      " 1     0.218491\n",
      " 2     0.093836\n",
      " 3     0.016559\n",
      " 20    0.004140\n",
      " 4     0.003220\n",
      "-1     0.001380\n",
      " 5     0.000460\n",
      "Name: children, dtype: float64\n",
      "completo\n",
      " 0     0.657329\n",
      " 1     0.223833\n",
      " 2     0.095470\n",
      " 3     0.015331\n",
      " 20    0.003531\n",
      "-1     0.002184\n",
      " 4     0.001905\n",
      " 5     0.000418\n",
      "Name: children, dtype: float64\n",
      "\n"
     ]
    }
   ],
   "source": [
    "dataframes = [banco_filtered_de, banco]\n",
    "columnas = [\"debt\", \"gender\", \"family_status\", \"children\"]\n",
    "banco.name = 'completo'\n",
    "banco_filtered_de.name = 'filtrado'\n",
    "for column in columnas:\n",
    "    for df in dataframes:\n",
    "        print(df.name)\n",
    "        print(df[column].value_counts(normalize=True))\n",
    "    print(\"\")"
   ]
  },
  {
   "cell_type": "markdown",
   "metadata": {},
   "source": [
    "**Conclusiones**\n",
    "\n",
    "Después de revisar las distribuciones con respecto a diversas características y no encontrar ningún patrón entre ellas, podemos concluir que la ausencia de datos en el Dataframe es completamente aleatoria sin verse afectada por alguna columna en particular.\n",
    "\n",
    "Debido a la gran cantidad de valores ausentes y por ende la incapacidad de eliminar estas filas por lo determinantes que serían en el análisis final, se procederá a rellenar estos valores con la media o mediana, según se determine más adelante, de la característica que sea más representativa de estos, para lo cual se realizará otro análisis.\n",
    "\n",
    "Se procederá a analizar cada columna, una por una, buscando diversos problemas como los identificados al inicio del informe, es decir valores sin sentido, problemas de nomenclaturas en los registros, entre otros. Posteriormente se procederá a corregir cada problema según sea el caso."
   ]
  },
  {
   "cell_type": "markdown",
   "metadata": {},
   "source": [
    "## Transformación de datos <a id=\"transformation\"></a>"
   ]
  },
  {
   "cell_type": "markdown",
   "metadata": {},
   "source": [
    "Observaremos todos los valores en la columna de educación para verificar si será necesario corregir la ortografía y qué habrá que corregir exactamente"
   ]
  },
  {
   "cell_type": "code",
   "execution_count": 23,
   "metadata": {},
   "outputs": [
    {
     "data": {
      "text/plain": [
       "array([\"bachelor's degree\", 'secondary education', 'Secondary Education',\n",
       "       'SECONDARY EDUCATION', \"BACHELOR'S DEGREE\", 'some college',\n",
       "       'primary education', \"Bachelor's Degree\", 'SOME COLLEGE',\n",
       "       'Some College', 'PRIMARY EDUCATION', 'Primary Education',\n",
       "       'Graduate Degree', 'GRADUATE DEGREE', 'graduate degree'],\n",
       "      dtype=object)"
      ]
     },
     "execution_count": 23,
     "metadata": {},
     "output_type": "execute_result"
    }
   ],
   "source": [
    "banco[\"education\"].unique()"
   ]
  },
  {
   "cell_type": "code",
   "execution_count": 24,
   "metadata": {
    "scrolled": true
   },
   "outputs": [],
   "source": [
    "banco[\"education\"] = banco[\"education\"].str.lower()"
   ]
  },
  {
   "cell_type": "markdown",
   "metadata": {},
   "source": [
    "Comprobaremos todos los valores en la columna para asegurarnos de que los hayamos corregido"
   ]
  },
  {
   "cell_type": "code",
   "execution_count": 26,
   "metadata": {},
   "outputs": [
    {
     "data": {
      "text/plain": [
       "array([\"bachelor's degree\", 'secondary education', 'some college',\n",
       "       'primary education', 'graduate degree'], dtype=object)"
      ]
     },
     "execution_count": 26,
     "metadata": {},
     "output_type": "execute_result"
    }
   ],
   "source": [
    "banco[\"education\"].unique()"
   ]
  },
  {
   "cell_type": "markdown",
   "metadata": {},
   "source": [
    "Comprobaremos los datos en la columna 'children'"
   ]
  },
  {
   "cell_type": "code",
   "execution_count": 27,
   "metadata": {},
   "outputs": [
    {
     "data": {
      "text/plain": [
       " 0     14149\n",
       " 1      4818\n",
       " 2      2055\n",
       " 3       330\n",
       " 20       76\n",
       "-1        47\n",
       " 4        41\n",
       " 5         9\n",
       "Name: children, dtype: int64"
      ]
     },
     "execution_count": 27,
     "metadata": {},
     "output_type": "execute_result"
    }
   ],
   "source": [
    "banco[\"children\"].value_counts()"
   ]
  },
  {
   "cell_type": "markdown",
   "metadata": {},
   "source": [
    "Existen valores negativos en la cantidad de hijos que posee cada persona lo cual es imposible. El porcentaje de datos incorrectos es de un 0,2% por lo que lo más probable es que estos se hayan producido debido a un error humano durante el ingreso de los datos. Como la cantidad de datos erróneos es muy pequeña se procederá a reemplazarlos por su valor positivo sin que esto afecte la distribución de datos anteriormente mostrada. Por otra parte se observa el valor de 20 hijos lo cual es un valor altamente atípico, esto podria explicarse por un error de tipeo al ingresar los datos siendo el verdadero valor de estos de 2, se procederá a reemplazar los valores de 20 por 2."
   ]
  },
  {
   "cell_type": "code",
   "execution_count": 28,
   "metadata": {},
   "outputs": [],
   "source": [
    "banco[\"children\"] = banco[\"children\"].abs()\n",
    "banco[\"children\"] = banco[\"children\"].replace(20,2)"
   ]
  },
  {
   "cell_type": "markdown",
   "metadata": {},
   "source": [
    "Comprobaremos todos los valores en la columna para asegurarnos de que los hayamos corregido"
   ]
  },
  {
   "cell_type": "code",
   "execution_count": 29,
   "metadata": {},
   "outputs": [
    {
     "data": {
      "text/plain": [
       "0    14149\n",
       "1     4865\n",
       "2     2131\n",
       "3      330\n",
       "4       41\n",
       "5        9\n",
       "Name: children, dtype: int64"
      ]
     },
     "execution_count": 29,
     "metadata": {},
     "output_type": "execute_result"
    }
   ],
   "source": [
    "banco[\"children\"].value_counts()"
   ]
  },
  {
   "cell_type": "markdown",
   "metadata": {},
   "source": [
    "Como se mencionó al comienzo del informe la columna de \"days_employed\" posee valores negativos lo cual no es lógico con respecto a que la columna representa los días de experiencia que posee la persona, además que los valores cuentan con muchos decimales lo cual tampoco es relevante al ser la unidad de medida en días. Se comenzará comprobando que porcentaje de los datos posee el error de ser negativos."
   ]
  },
  {
   "cell_type": "code",
   "execution_count": 30,
   "metadata": {},
   "outputs": [
    {
     "name": "stdout",
     "output_type": "stream",
     "text": [
      "73.90%\n"
     ]
    }
   ],
   "source": [
    "days_negative = banco[banco[\"days_employed\"] < 0]\n",
    "percentaje_days = len(days_negative)/len(banco)\n",
    "percentaje_format_days = \"{:.2%}\".format(percentaje_days)\n",
    "print(percentaje_format_days)"
   ]
  },
  {
   "cell_type": "markdown",
   "metadata": {},
   "source": [
    "La cantidad de datos con problemas es muy alta por lo que supondremos que existió algún problema técnico durante el ingreso de estos datos y que su valor correcto es de signo positivo. Ya que no podemos eliminar estas filas puesto que componen prácticamente tres cuartos de los datos, se procederá a reemplazar estos valores por valores de la misma magnitud, pero positivos y de la misma forma se convertirán todos los valores a números enteros."
   ]
  },
  {
   "cell_type": "code",
   "execution_count": 31,
   "metadata": {},
   "outputs": [],
   "source": [
    "banco[\"days_employed\"] = banco[\"days_employed\"].abs()\n",
    "banco[\"days_employed\"] = banco[\"days_employed\"].round()"
   ]
  },
  {
   "cell_type": "markdown",
   "metadata": {},
   "source": [
    "Comprobaremos los resultados"
   ]
  },
  {
   "cell_type": "code",
   "execution_count": 33,
   "metadata": {
    "scrolled": true
   },
   "outputs": [
    {
     "data": {
      "text/html": [
       "<div>\n",
       "<style scoped>\n",
       "    .dataframe tbody tr th:only-of-type {\n",
       "        vertical-align: middle;\n",
       "    }\n",
       "\n",
       "    .dataframe tbody tr th {\n",
       "        vertical-align: top;\n",
       "    }\n",
       "\n",
       "    .dataframe thead th {\n",
       "        text-align: right;\n",
       "    }\n",
       "</style>\n",
       "<table border=\"1\" class=\"dataframe\">\n",
       "  <thead>\n",
       "    <tr style=\"text-align: right;\">\n",
       "      <th></th>\n",
       "      <th>children</th>\n",
       "      <th>days_employed</th>\n",
       "      <th>dob_years</th>\n",
       "      <th>education</th>\n",
       "      <th>education_id</th>\n",
       "      <th>family_status</th>\n",
       "      <th>family_status_id</th>\n",
       "      <th>gender</th>\n",
       "      <th>income_type</th>\n",
       "      <th>debt</th>\n",
       "      <th>total_income</th>\n",
       "      <th>purpose</th>\n",
       "    </tr>\n",
       "  </thead>\n",
       "  <tbody>\n",
       "    <tr>\n",
       "      <th>0</th>\n",
       "      <td>1</td>\n",
       "      <td>8438.0</td>\n",
       "      <td>42</td>\n",
       "      <td>bachelor's degree</td>\n",
       "      <td>0</td>\n",
       "      <td>married</td>\n",
       "      <td>0</td>\n",
       "      <td>F</td>\n",
       "      <td>employee</td>\n",
       "      <td>0</td>\n",
       "      <td>40620.102</td>\n",
       "      <td>purchase of the house</td>\n",
       "    </tr>\n",
       "    <tr>\n",
       "      <th>1</th>\n",
       "      <td>1</td>\n",
       "      <td>4025.0</td>\n",
       "      <td>36</td>\n",
       "      <td>secondary education</td>\n",
       "      <td>1</td>\n",
       "      <td>married</td>\n",
       "      <td>0</td>\n",
       "      <td>F</td>\n",
       "      <td>employee</td>\n",
       "      <td>0</td>\n",
       "      <td>17932.802</td>\n",
       "      <td>car purchase</td>\n",
       "    </tr>\n",
       "    <tr>\n",
       "      <th>2</th>\n",
       "      <td>0</td>\n",
       "      <td>5623.0</td>\n",
       "      <td>33</td>\n",
       "      <td>secondary education</td>\n",
       "      <td>1</td>\n",
       "      <td>married</td>\n",
       "      <td>0</td>\n",
       "      <td>M</td>\n",
       "      <td>employee</td>\n",
       "      <td>0</td>\n",
       "      <td>23341.752</td>\n",
       "      <td>purchase of the house</td>\n",
       "    </tr>\n",
       "    <tr>\n",
       "      <th>3</th>\n",
       "      <td>3</td>\n",
       "      <td>4125.0</td>\n",
       "      <td>32</td>\n",
       "      <td>secondary education</td>\n",
       "      <td>1</td>\n",
       "      <td>married</td>\n",
       "      <td>0</td>\n",
       "      <td>M</td>\n",
       "      <td>employee</td>\n",
       "      <td>0</td>\n",
       "      <td>42820.568</td>\n",
       "      <td>supplementary education</td>\n",
       "    </tr>\n",
       "    <tr>\n",
       "      <th>4</th>\n",
       "      <td>0</td>\n",
       "      <td>340266.0</td>\n",
       "      <td>53</td>\n",
       "      <td>secondary education</td>\n",
       "      <td>1</td>\n",
       "      <td>civil partnership</td>\n",
       "      <td>1</td>\n",
       "      <td>F</td>\n",
       "      <td>retiree</td>\n",
       "      <td>0</td>\n",
       "      <td>25378.572</td>\n",
       "      <td>to have a wedding</td>\n",
       "    </tr>\n",
       "    <tr>\n",
       "      <th>5</th>\n",
       "      <td>0</td>\n",
       "      <td>926.0</td>\n",
       "      <td>27</td>\n",
       "      <td>bachelor's degree</td>\n",
       "      <td>0</td>\n",
       "      <td>civil partnership</td>\n",
       "      <td>1</td>\n",
       "      <td>M</td>\n",
       "      <td>business</td>\n",
       "      <td>0</td>\n",
       "      <td>40922.170</td>\n",
       "      <td>purchase of the house</td>\n",
       "    </tr>\n",
       "    <tr>\n",
       "      <th>6</th>\n",
       "      <td>0</td>\n",
       "      <td>2879.0</td>\n",
       "      <td>43</td>\n",
       "      <td>bachelor's degree</td>\n",
       "      <td>0</td>\n",
       "      <td>married</td>\n",
       "      <td>0</td>\n",
       "      <td>F</td>\n",
       "      <td>business</td>\n",
       "      <td>0</td>\n",
       "      <td>38484.156</td>\n",
       "      <td>housing transactions</td>\n",
       "    </tr>\n",
       "    <tr>\n",
       "      <th>7</th>\n",
       "      <td>0</td>\n",
       "      <td>153.0</td>\n",
       "      <td>50</td>\n",
       "      <td>secondary education</td>\n",
       "      <td>1</td>\n",
       "      <td>married</td>\n",
       "      <td>0</td>\n",
       "      <td>M</td>\n",
       "      <td>employee</td>\n",
       "      <td>0</td>\n",
       "      <td>21731.829</td>\n",
       "      <td>education</td>\n",
       "    </tr>\n",
       "    <tr>\n",
       "      <th>8</th>\n",
       "      <td>2</td>\n",
       "      <td>6930.0</td>\n",
       "      <td>35</td>\n",
       "      <td>bachelor's degree</td>\n",
       "      <td>0</td>\n",
       "      <td>civil partnership</td>\n",
       "      <td>1</td>\n",
       "      <td>F</td>\n",
       "      <td>employee</td>\n",
       "      <td>0</td>\n",
       "      <td>15337.093</td>\n",
       "      <td>having a wedding</td>\n",
       "    </tr>\n",
       "    <tr>\n",
       "      <th>9</th>\n",
       "      <td>0</td>\n",
       "      <td>2189.0</td>\n",
       "      <td>41</td>\n",
       "      <td>secondary education</td>\n",
       "      <td>1</td>\n",
       "      <td>married</td>\n",
       "      <td>0</td>\n",
       "      <td>M</td>\n",
       "      <td>employee</td>\n",
       "      <td>0</td>\n",
       "      <td>23108.150</td>\n",
       "      <td>purchase of the house for my family</td>\n",
       "    </tr>\n",
       "    <tr>\n",
       "      <th>10</th>\n",
       "      <td>2</td>\n",
       "      <td>4171.0</td>\n",
       "      <td>36</td>\n",
       "      <td>bachelor's degree</td>\n",
       "      <td>0</td>\n",
       "      <td>married</td>\n",
       "      <td>0</td>\n",
       "      <td>M</td>\n",
       "      <td>business</td>\n",
       "      <td>0</td>\n",
       "      <td>18230.959</td>\n",
       "      <td>buy real estate</td>\n",
       "    </tr>\n",
       "    <tr>\n",
       "      <th>11</th>\n",
       "      <td>0</td>\n",
       "      <td>793.0</td>\n",
       "      <td>40</td>\n",
       "      <td>secondary education</td>\n",
       "      <td>1</td>\n",
       "      <td>married</td>\n",
       "      <td>0</td>\n",
       "      <td>F</td>\n",
       "      <td>employee</td>\n",
       "      <td>0</td>\n",
       "      <td>12331.077</td>\n",
       "      <td>buy commercial real estate</td>\n",
       "    </tr>\n",
       "    <tr>\n",
       "      <th>12</th>\n",
       "      <td>0</td>\n",
       "      <td>NaN</td>\n",
       "      <td>65</td>\n",
       "      <td>secondary education</td>\n",
       "      <td>1</td>\n",
       "      <td>civil partnership</td>\n",
       "      <td>1</td>\n",
       "      <td>M</td>\n",
       "      <td>retiree</td>\n",
       "      <td>0</td>\n",
       "      <td>NaN</td>\n",
       "      <td>to have a wedding</td>\n",
       "    </tr>\n",
       "    <tr>\n",
       "      <th>13</th>\n",
       "      <td>0</td>\n",
       "      <td>1847.0</td>\n",
       "      <td>54</td>\n",
       "      <td>some college</td>\n",
       "      <td>2</td>\n",
       "      <td>married</td>\n",
       "      <td>0</td>\n",
       "      <td>F</td>\n",
       "      <td>employee</td>\n",
       "      <td>0</td>\n",
       "      <td>20873.317</td>\n",
       "      <td>car purchase</td>\n",
       "    </tr>\n",
       "    <tr>\n",
       "      <th>14</th>\n",
       "      <td>0</td>\n",
       "      <td>1845.0</td>\n",
       "      <td>56</td>\n",
       "      <td>bachelor's degree</td>\n",
       "      <td>0</td>\n",
       "      <td>civil partnership</td>\n",
       "      <td>1</td>\n",
       "      <td>F</td>\n",
       "      <td>business</td>\n",
       "      <td>1</td>\n",
       "      <td>26420.466</td>\n",
       "      <td>buy residential real estate</td>\n",
       "    </tr>\n",
       "  </tbody>\n",
       "</table>\n",
       "</div>"
      ],
      "text/plain": [
       "    children  days_employed  dob_years            education  education_id  \\\n",
       "0          1         8438.0         42    bachelor's degree             0   \n",
       "1          1         4025.0         36  secondary education             1   \n",
       "2          0         5623.0         33  secondary education             1   \n",
       "3          3         4125.0         32  secondary education             1   \n",
       "4          0       340266.0         53  secondary education             1   \n",
       "5          0          926.0         27    bachelor's degree             0   \n",
       "6          0         2879.0         43    bachelor's degree             0   \n",
       "7          0          153.0         50  secondary education             1   \n",
       "8          2         6930.0         35    bachelor's degree             0   \n",
       "9          0         2189.0         41  secondary education             1   \n",
       "10         2         4171.0         36    bachelor's degree             0   \n",
       "11         0          793.0         40  secondary education             1   \n",
       "12         0            NaN         65  secondary education             1   \n",
       "13         0         1847.0         54         some college             2   \n",
       "14         0         1845.0         56    bachelor's degree             0   \n",
       "\n",
       "        family_status  family_status_id gender income_type  debt  \\\n",
       "0             married                 0      F    employee     0   \n",
       "1             married                 0      F    employee     0   \n",
       "2             married                 0      M    employee     0   \n",
       "3             married                 0      M    employee     0   \n",
       "4   civil partnership                 1      F     retiree     0   \n",
       "5   civil partnership                 1      M    business     0   \n",
       "6             married                 0      F    business     0   \n",
       "7             married                 0      M    employee     0   \n",
       "8   civil partnership                 1      F    employee     0   \n",
       "9             married                 0      M    employee     0   \n",
       "10            married                 0      M    business     0   \n",
       "11            married                 0      F    employee     0   \n",
       "12  civil partnership                 1      M     retiree     0   \n",
       "13            married                 0      F    employee     0   \n",
       "14  civil partnership                 1      F    business     1   \n",
       "\n",
       "    total_income                              purpose  \n",
       "0      40620.102                purchase of the house  \n",
       "1      17932.802                         car purchase  \n",
       "2      23341.752                purchase of the house  \n",
       "3      42820.568              supplementary education  \n",
       "4      25378.572                    to have a wedding  \n",
       "5      40922.170                purchase of the house  \n",
       "6      38484.156                 housing transactions  \n",
       "7      21731.829                            education  \n",
       "8      15337.093                     having a wedding  \n",
       "9      23108.150  purchase of the house for my family  \n",
       "10     18230.959                      buy real estate  \n",
       "11     12331.077           buy commercial real estate  \n",
       "12           NaN                    to have a wedding  \n",
       "13     20873.317                         car purchase  \n",
       "14     26420.466          buy residential real estate  "
      ]
     },
     "execution_count": 33,
     "metadata": {},
     "output_type": "execute_result"
    }
   ],
   "source": [
    "banco.head(15)"
   ]
  },
  {
   "cell_type": "markdown",
   "metadata": {},
   "source": [
    "Ahora observaremos la edad de los clientes"
   ]
  },
  {
   "cell_type": "code",
   "execution_count": 34,
   "metadata": {
    "scrolled": true
   },
   "outputs": [
    {
     "data": {
      "text/plain": [
       "array([42, 36, 33, 32, 53, 27, 43, 50, 35, 41, 40, 65, 54, 56, 26, 48, 24,\n",
       "       21, 57, 67, 28, 63, 62, 47, 34, 68, 25, 31, 30, 20, 49, 37, 45, 61,\n",
       "       64, 44, 52, 46, 23, 38, 39, 51,  0, 59, 29, 60, 55, 58, 71, 22, 73,\n",
       "       66, 69, 19, 72, 70, 74, 75], dtype=int64)"
      ]
     },
     "execution_count": 34,
     "metadata": {},
     "output_type": "execute_result"
    }
   ],
   "source": [
    "banco[\"dob_years\"].unique()"
   ]
  },
  {
   "cell_type": "code",
   "execution_count": 35,
   "metadata": {},
   "outputs": [
    {
     "name": "stdout",
     "output_type": "stream",
     "text": [
      "0.47%\n"
     ]
    }
   ],
   "source": [
    "years_zero = banco[banco[\"dob_years\"] == 0]\n",
    "percentaje_years = len(years_zero)/len(banco)\n",
    "percentaje_format = \"{:.2%}\".format(percentaje_years)\n",
    "print(percentaje_format)"
   ]
  },
  {
   "cell_type": "markdown",
   "metadata": {},
   "source": [
    "Se puede observar un valor de 0 lo cual no tiene sentido para la edad de las personas del Dataframe. Debido a que el porcentaje de filas con este error es muy baja, se procederá a reemplazar los valores de 0 por la mediana de los años, ya que la media de los datos puede arrojar valores no enteros lo cual no es apto para este tipo de dato, excluyendo a los años con el valor erróneo en sus datos."
   ]
  },
  {
   "cell_type": "code",
   "execution_count": 36,
   "metadata": {},
   "outputs": [],
   "source": [
    "banco_not_zero = banco[banco[\"dob_years\"]>0]\n",
    "median_years = banco_not_zero[\"dob_years\"].median()\n",
    "banco[\"dob_years\"] = banco[\"dob_years\"].replace(0,int(median_years))"
   ]
  },
  {
   "cell_type": "code",
   "execution_count": 37,
   "metadata": {},
   "outputs": [
    {
     "data": {
      "text/plain": [
       "array([42, 36, 33, 32, 53, 27, 43, 50, 35, 41, 40, 65, 54, 56, 26, 48, 24,\n",
       "       21, 57, 67, 28, 63, 62, 47, 34, 68, 25, 31, 30, 20, 49, 37, 45, 61,\n",
       "       64, 44, 52, 46, 23, 38, 39, 51, 59, 29, 60, 55, 58, 71, 22, 73, 66,\n",
       "       69, 19, 72, 70, 74, 75], dtype=int64)"
      ]
     },
     "execution_count": 37,
     "metadata": {},
     "output_type": "execute_result"
    }
   ],
   "source": [
    "banco[\"dob_years\"].unique()"
   ]
  },
  {
   "cell_type": "markdown",
   "metadata": {},
   "source": [
    "Ahora revisemos la columna `family_status`."
   ]
  },
  {
   "cell_type": "code",
   "execution_count": 38,
   "metadata": {},
   "outputs": [
    {
     "data": {
      "text/plain": [
       "array(['married', 'civil partnership', 'widow / widower', 'divorced',\n",
       "       'unmarried'], dtype=object)"
      ]
     },
     "execution_count": 38,
     "metadata": {},
     "output_type": "execute_result"
    }
   ],
   "source": [
    "banco[\"family_status\"].unique()"
   ]
  },
  {
   "cell_type": "markdown",
   "metadata": {},
   "source": [
    "No se aprecian valores poblemáticos en la columna de \"family_status\" por lo que no se procederá a intervenir."
   ]
  },
  {
   "cell_type": "markdown",
   "metadata": {},
   "source": [
    "Ahora revisaremos la columna `gender`."
   ]
  },
  {
   "cell_type": "code",
   "execution_count": 39,
   "metadata": {},
   "outputs": [
    {
     "data": {
      "text/plain": [
       "array(['F', 'M', 'XNA'], dtype=object)"
      ]
     },
     "execution_count": 39,
     "metadata": {},
     "output_type": "execute_result"
    }
   ],
   "source": [
    "banco[\"gender\"].unique()"
   ]
  },
  {
   "cell_type": "code",
   "execution_count": 40,
   "metadata": {},
   "outputs": [
    {
     "data": {
      "text/plain": [
       "F      14236\n",
       "M       7288\n",
       "XNA        1\n",
       "Name: gender, dtype: int64"
      ]
     },
     "execution_count": 40,
     "metadata": {},
     "output_type": "execute_result"
    }
   ],
   "source": [
    "banco[\"gender\"].value_counts()\n"
   ]
  },
  {
   "cell_type": "markdown",
   "metadata": {},
   "source": [
    "Se procederá a uniformar la nomenclatura con respecto al resto del Dataframe transformando los caracteres a minúsculas, también se reemplazará \"XNA\" por \"unknown\" ya que el primer término no nos dice mucho."
   ]
  },
  {
   "cell_type": "code",
   "execution_count": 41,
   "metadata": {},
   "outputs": [],
   "source": [
    "banco[\"gender\"] = banco[\"gender\"].str.lower()\n",
    "banco[\"gender\"] = banco[\"gender\"].replace(\"xna\",\"unknown\")"
   ]
  },
  {
   "cell_type": "code",
   "execution_count": 42,
   "metadata": {},
   "outputs": [
    {
     "data": {
      "text/plain": [
       "array(['f', 'm', 'unknown'], dtype=object)"
      ]
     },
     "execution_count": 42,
     "metadata": {},
     "output_type": "execute_result"
    }
   ],
   "source": [
    "banco[\"gender\"].unique()"
   ]
  },
  {
   "cell_type": "markdown",
   "metadata": {},
   "source": [
    "Ahora vamos a revisar la columna `income_type`."
   ]
  },
  {
   "cell_type": "code",
   "execution_count": 43,
   "metadata": {},
   "outputs": [
    {
     "data": {
      "text/plain": [
       "array(['employee', 'retiree', 'business', 'civil servant', 'unemployed',\n",
       "       'entrepreneur', 'student', 'paternity / maternity leave'],\n",
       "      dtype=object)"
      ]
     },
     "execution_count": 43,
     "metadata": {},
     "output_type": "execute_result"
    }
   ],
   "source": [
    "banco[\"income_type\"].unique()"
   ]
  },
  {
   "cell_type": "markdown",
   "metadata": {},
   "source": [
    "No se aprecian valores poblemáticos en la columna de \"income_type\" por lo que no se procederá a intervenir"
   ]
  },
  {
   "cell_type": "markdown",
   "metadata": {},
   "source": [
    "De existir datos duplicados, en una primera instancia al no contar con un identificador único para cada fila tal como un id propio o pasaporte de la persona podría pensarse que las filas duplicadas pueden ser mera coincidencia, pero en el caso actual en el que existen múltiples columnas que reunen distintos tipos de datos personales, la probabilidad que dos personas distintas coincidan en todas estas es muy baja, por lo que si el porcentaje de datos repetido es muy bajo se procederá a eliminarlos."
   ]
  },
  {
   "cell_type": "code",
   "execution_count": 44,
   "metadata": {},
   "outputs": [
    {
     "name": "stdout",
     "output_type": "stream",
     "text": [
      "0.33%\n"
     ]
    }
   ],
   "source": [
    "duplicated_banco = banco[banco.duplicated()]\n",
    "percentaje_duplicated = len(duplicated_banco)/len(banco)\n",
    "percentaje_format = \"{:.2%}\".format(percentaje_duplicated)\n",
    "print(percentaje_format)"
   ]
  },
  {
   "cell_type": "markdown",
   "metadata": {},
   "source": [
    "Se abordarán los datos duplicados eliminandolos."
   ]
  },
  {
   "cell_type": "code",
   "execution_count": 46,
   "metadata": {},
   "outputs": [],
   "source": [
    "banco = banco.drop_duplicates().reset_index(drop = True)"
   ]
  },
  {
   "cell_type": "markdown",
   "metadata": {},
   "source": [
    "Comprobaremos el resultado."
   ]
  },
  {
   "cell_type": "code",
   "execution_count": 47,
   "metadata": {},
   "outputs": [
    {
     "data": {
      "text/plain": [
       "0"
      ]
     },
     "execution_count": 47,
     "metadata": {},
     "output_type": "execute_result"
    }
   ],
   "source": [
    "duplicated_banco = banco[banco.duplicated()]\n",
    "len(duplicated_banco)"
   ]
  },
  {
   "cell_type": "code",
   "execution_count": 48,
   "metadata": {},
   "outputs": [
    {
     "name": "stdout",
     "output_type": "stream",
     "text": [
      "<class 'pandas.core.frame.DataFrame'>\n",
      "RangeIndex: 21454 entries, 0 to 21453\n",
      "Data columns (total 12 columns):\n",
      " #   Column            Non-Null Count  Dtype  \n",
      "---  ------            --------------  -----  \n",
      " 0   children          21454 non-null  int64  \n",
      " 1   days_employed     19351 non-null  float64\n",
      " 2   dob_years         21454 non-null  int64  \n",
      " 3   education         21454 non-null  object \n",
      " 4   education_id      21454 non-null  int64  \n",
      " 5   family_status     21454 non-null  object \n",
      " 6   family_status_id  21454 non-null  int64  \n",
      " 7   gender            21454 non-null  object \n",
      " 8   income_type       21454 non-null  object \n",
      " 9   debt              21454 non-null  int64  \n",
      " 10  total_income      19351 non-null  float64\n",
      " 11  purpose           21454 non-null  object \n",
      "dtypes: float64(2), int64(5), object(5)\n",
      "memory usage: 2.0+ MB\n"
     ]
    }
   ],
   "source": [
    "banco.info()"
   ]
  },
  {
   "cell_type": "markdown",
   "metadata": {},
   "source": [
    "Se procedió a eliminar los datos duplicados del conjunto de datos, esto conllevó a una disminución de las filas totales del conjunto de 21525 a 21454, es decir una disminución de un 0,3% de las filas aprox. Por otra parte, se puede observar que la cantidad de datos en las columnas que presentan ausencias se mantiene en 19351 por lo que se concluye que ninguna de las filas duplicadas eliminadas correspondian a una fila con ausencia de datos."
   ]
  },
  {
   "cell_type": "markdown",
   "metadata": {},
   "source": [
    "# Trabajar con valores ausentes "
   ]
  },
  {
   "cell_type": "markdown",
   "metadata": {},
   "source": [
    "Observaremos los diccionarios proporcionados en la base de datos."
   ]
  },
  {
   "cell_type": "code",
   "execution_count": 49,
   "metadata": {},
   "outputs": [
    {
     "data": {
      "text/html": [
       "<div>\n",
       "<style scoped>\n",
       "    .dataframe tbody tr th:only-of-type {\n",
       "        vertical-align: middle;\n",
       "    }\n",
       "\n",
       "    .dataframe tbody tr th {\n",
       "        vertical-align: top;\n",
       "    }\n",
       "\n",
       "    .dataframe thead th {\n",
       "        text-align: right;\n",
       "    }\n",
       "</style>\n",
       "<table border=\"1\" class=\"dataframe\">\n",
       "  <thead>\n",
       "    <tr style=\"text-align: right;\">\n",
       "      <th></th>\n",
       "      <th>education</th>\n",
       "      <th>education_id</th>\n",
       "    </tr>\n",
       "  </thead>\n",
       "  <tbody>\n",
       "    <tr>\n",
       "      <th>0</th>\n",
       "      <td>bachelor's degree</td>\n",
       "      <td>0</td>\n",
       "    </tr>\n",
       "    <tr>\n",
       "      <th>1</th>\n",
       "      <td>secondary education</td>\n",
       "      <td>1</td>\n",
       "    </tr>\n",
       "    <tr>\n",
       "      <th>2</th>\n",
       "      <td>secondary education</td>\n",
       "      <td>1</td>\n",
       "    </tr>\n",
       "    <tr>\n",
       "      <th>3</th>\n",
       "      <td>secondary education</td>\n",
       "      <td>1</td>\n",
       "    </tr>\n",
       "    <tr>\n",
       "      <th>4</th>\n",
       "      <td>secondary education</td>\n",
       "      <td>1</td>\n",
       "    </tr>\n",
       "    <tr>\n",
       "      <th>...</th>\n",
       "      <td>...</td>\n",
       "      <td>...</td>\n",
       "    </tr>\n",
       "    <tr>\n",
       "      <th>21449</th>\n",
       "      <td>secondary education</td>\n",
       "      <td>1</td>\n",
       "    </tr>\n",
       "    <tr>\n",
       "      <th>21450</th>\n",
       "      <td>secondary education</td>\n",
       "      <td>1</td>\n",
       "    </tr>\n",
       "    <tr>\n",
       "      <th>21451</th>\n",
       "      <td>secondary education</td>\n",
       "      <td>1</td>\n",
       "    </tr>\n",
       "    <tr>\n",
       "      <th>21452</th>\n",
       "      <td>secondary education</td>\n",
       "      <td>1</td>\n",
       "    </tr>\n",
       "    <tr>\n",
       "      <th>21453</th>\n",
       "      <td>secondary education</td>\n",
       "      <td>1</td>\n",
       "    </tr>\n",
       "  </tbody>\n",
       "</table>\n",
       "<p>21454 rows × 2 columns</p>\n",
       "</div>"
      ],
      "text/plain": [
       "                 education  education_id\n",
       "0        bachelor's degree             0\n",
       "1      secondary education             1\n",
       "2      secondary education             1\n",
       "3      secondary education             1\n",
       "4      secondary education             1\n",
       "...                    ...           ...\n",
       "21449  secondary education             1\n",
       "21450  secondary education             1\n",
       "21451  secondary education             1\n",
       "21452  secondary education             1\n",
       "21453  secondary education             1\n",
       "\n",
       "[21454 rows x 2 columns]"
      ]
     },
     "execution_count": 49,
     "metadata": {},
     "output_type": "execute_result"
    }
   ],
   "source": [
    "banco[[\"education\",\"education_id\"]]"
   ]
  },
  {
   "cell_type": "code",
   "execution_count": 50,
   "metadata": {},
   "outputs": [
    {
     "data": {
      "text/html": [
       "<div>\n",
       "<style scoped>\n",
       "    .dataframe tbody tr th:only-of-type {\n",
       "        vertical-align: middle;\n",
       "    }\n",
       "\n",
       "    .dataframe tbody tr th {\n",
       "        vertical-align: top;\n",
       "    }\n",
       "\n",
       "    .dataframe thead th {\n",
       "        text-align: right;\n",
       "    }\n",
       "</style>\n",
       "<table border=\"1\" class=\"dataframe\">\n",
       "  <thead>\n",
       "    <tr style=\"text-align: right;\">\n",
       "      <th></th>\n",
       "      <th>family_status</th>\n",
       "      <th>family_status_id</th>\n",
       "    </tr>\n",
       "  </thead>\n",
       "  <tbody>\n",
       "    <tr>\n",
       "      <th>0</th>\n",
       "      <td>married</td>\n",
       "      <td>0</td>\n",
       "    </tr>\n",
       "    <tr>\n",
       "      <th>1</th>\n",
       "      <td>married</td>\n",
       "      <td>0</td>\n",
       "    </tr>\n",
       "    <tr>\n",
       "      <th>2</th>\n",
       "      <td>married</td>\n",
       "      <td>0</td>\n",
       "    </tr>\n",
       "    <tr>\n",
       "      <th>3</th>\n",
       "      <td>married</td>\n",
       "      <td>0</td>\n",
       "    </tr>\n",
       "    <tr>\n",
       "      <th>4</th>\n",
       "      <td>civil partnership</td>\n",
       "      <td>1</td>\n",
       "    </tr>\n",
       "    <tr>\n",
       "      <th>...</th>\n",
       "      <td>...</td>\n",
       "      <td>...</td>\n",
       "    </tr>\n",
       "    <tr>\n",
       "      <th>21449</th>\n",
       "      <td>civil partnership</td>\n",
       "      <td>1</td>\n",
       "    </tr>\n",
       "    <tr>\n",
       "      <th>21450</th>\n",
       "      <td>married</td>\n",
       "      <td>0</td>\n",
       "    </tr>\n",
       "    <tr>\n",
       "      <th>21451</th>\n",
       "      <td>civil partnership</td>\n",
       "      <td>1</td>\n",
       "    </tr>\n",
       "    <tr>\n",
       "      <th>21452</th>\n",
       "      <td>married</td>\n",
       "      <td>0</td>\n",
       "    </tr>\n",
       "    <tr>\n",
       "      <th>21453</th>\n",
       "      <td>married</td>\n",
       "      <td>0</td>\n",
       "    </tr>\n",
       "  </tbody>\n",
       "</table>\n",
       "<p>21454 rows × 2 columns</p>\n",
       "</div>"
      ],
      "text/plain": [
       "           family_status  family_status_id\n",
       "0                married                 0\n",
       "1                married                 0\n",
       "2                married                 0\n",
       "3                married                 0\n",
       "4      civil partnership                 1\n",
       "...                  ...               ...\n",
       "21449  civil partnership                 1\n",
       "21450            married                 0\n",
       "21451  civil partnership                 1\n",
       "21452            married                 0\n",
       "21453            married                 0\n",
       "\n",
       "[21454 rows x 2 columns]"
      ]
     },
     "execution_count": 50,
     "metadata": {},
     "output_type": "execute_result"
    }
   ],
   "source": [
    "banco[[\"family_status\",\"family_status_id\"]]"
   ]
  },
  {
   "cell_type": "markdown",
   "metadata": {},
   "source": [
    "Se revisaron los diccionarios en que se proporcionan IDs para las columnas \"education\" y \"family_status, se decidió para este proyecto trabajar con los diccionarios con los nombres completo para poder realizar un análisis más detallado en función de estas características."
   ]
  },
  {
   "cell_type": "markdown",
   "metadata": {},
   "source": [
    "### Restaurar valores ausentes en `total_income` <a id=\"total_income\"></a>"
   ]
  },
  {
   "cell_type": "markdown",
   "metadata": {},
   "source": [
    "Se procederá a crear una categoría de grupos de edades, como no tenemos mayor información sobre requerimientos de esta categoría se crearán grupos de 10 años, partiendo del mínimo posible por si se requiriera en algún momento el ingreso de una edad menor."
   ]
  },
  {
   "cell_type": "code",
   "execution_count": 51,
   "metadata": {},
   "outputs": [],
   "source": [
    "# Vamos a escribir una función que calcule la categoría de edad\n",
    "def age_group(age):\n",
    "    if 1 <= age < 10:\n",
    "        return \"1-9\"\n",
    "    elif 10 <= age < 20:\n",
    "        return \"10-19\"\n",
    "    elif 20 <= age < 30:\n",
    "        return \"20-29\"\n",
    "    elif 30 <= age < 40:\n",
    "        return \"30-39\"\n",
    "    elif 40 <= age < 50:\n",
    "        return \"40-49\"\n",
    "    elif 50 <= age < 60:\n",
    "        return \"50-59\"\n",
    "    return \"60+\" "
   ]
  },
  {
   "cell_type": "markdown",
   "metadata": {},
   "source": [
    "Se probará la función anteriormente creada."
   ]
  },
  {
   "cell_type": "code",
   "execution_count": 52,
   "metadata": {},
   "outputs": [
    {
     "data": {
      "text/plain": [
       "'40-49'"
      ]
     },
     "execution_count": 52,
     "metadata": {},
     "output_type": "execute_result"
    }
   ],
   "source": [
    "age_group(40)"
   ]
  },
  {
   "cell_type": "markdown",
   "metadata": {},
   "source": [
    "Se creará una nueva columna basada en la función."
   ]
  },
  {
   "cell_type": "code",
   "execution_count": 54,
   "metadata": {},
   "outputs": [],
   "source": [
    "banco[\"age_group\"] = banco[\"dob_years\"].apply(age_group)"
   ]
  },
  {
   "cell_type": "markdown",
   "metadata": {},
   "source": [
    "Observaremos la nueva columna en el dataframe."
   ]
  },
  {
   "cell_type": "code",
   "execution_count": 55,
   "metadata": {},
   "outputs": [
    {
     "data": {
      "text/html": [
       "<div>\n",
       "<style scoped>\n",
       "    .dataframe tbody tr th:only-of-type {\n",
       "        vertical-align: middle;\n",
       "    }\n",
       "\n",
       "    .dataframe tbody tr th {\n",
       "        vertical-align: top;\n",
       "    }\n",
       "\n",
       "    .dataframe thead th {\n",
       "        text-align: right;\n",
       "    }\n",
       "</style>\n",
       "<table border=\"1\" class=\"dataframe\">\n",
       "  <thead>\n",
       "    <tr style=\"text-align: right;\">\n",
       "      <th></th>\n",
       "      <th>children</th>\n",
       "      <th>days_employed</th>\n",
       "      <th>dob_years</th>\n",
       "      <th>education</th>\n",
       "      <th>education_id</th>\n",
       "      <th>family_status</th>\n",
       "      <th>family_status_id</th>\n",
       "      <th>gender</th>\n",
       "      <th>income_type</th>\n",
       "      <th>debt</th>\n",
       "      <th>total_income</th>\n",
       "      <th>purpose</th>\n",
       "      <th>age_group</th>\n",
       "    </tr>\n",
       "  </thead>\n",
       "  <tbody>\n",
       "    <tr>\n",
       "      <th>0</th>\n",
       "      <td>1</td>\n",
       "      <td>8438.0</td>\n",
       "      <td>42</td>\n",
       "      <td>bachelor's degree</td>\n",
       "      <td>0</td>\n",
       "      <td>married</td>\n",
       "      <td>0</td>\n",
       "      <td>f</td>\n",
       "      <td>employee</td>\n",
       "      <td>0</td>\n",
       "      <td>40620.102</td>\n",
       "      <td>purchase of the house</td>\n",
       "      <td>40-49</td>\n",
       "    </tr>\n",
       "    <tr>\n",
       "      <th>1</th>\n",
       "      <td>1</td>\n",
       "      <td>4025.0</td>\n",
       "      <td>36</td>\n",
       "      <td>secondary education</td>\n",
       "      <td>1</td>\n",
       "      <td>married</td>\n",
       "      <td>0</td>\n",
       "      <td>f</td>\n",
       "      <td>employee</td>\n",
       "      <td>0</td>\n",
       "      <td>17932.802</td>\n",
       "      <td>car purchase</td>\n",
       "      <td>30-39</td>\n",
       "    </tr>\n",
       "    <tr>\n",
       "      <th>2</th>\n",
       "      <td>0</td>\n",
       "      <td>5623.0</td>\n",
       "      <td>33</td>\n",
       "      <td>secondary education</td>\n",
       "      <td>1</td>\n",
       "      <td>married</td>\n",
       "      <td>0</td>\n",
       "      <td>m</td>\n",
       "      <td>employee</td>\n",
       "      <td>0</td>\n",
       "      <td>23341.752</td>\n",
       "      <td>purchase of the house</td>\n",
       "      <td>30-39</td>\n",
       "    </tr>\n",
       "    <tr>\n",
       "      <th>3</th>\n",
       "      <td>3</td>\n",
       "      <td>4125.0</td>\n",
       "      <td>32</td>\n",
       "      <td>secondary education</td>\n",
       "      <td>1</td>\n",
       "      <td>married</td>\n",
       "      <td>0</td>\n",
       "      <td>m</td>\n",
       "      <td>employee</td>\n",
       "      <td>0</td>\n",
       "      <td>42820.568</td>\n",
       "      <td>supplementary education</td>\n",
       "      <td>30-39</td>\n",
       "    </tr>\n",
       "    <tr>\n",
       "      <th>4</th>\n",
       "      <td>0</td>\n",
       "      <td>340266.0</td>\n",
       "      <td>53</td>\n",
       "      <td>secondary education</td>\n",
       "      <td>1</td>\n",
       "      <td>civil partnership</td>\n",
       "      <td>1</td>\n",
       "      <td>f</td>\n",
       "      <td>retiree</td>\n",
       "      <td>0</td>\n",
       "      <td>25378.572</td>\n",
       "      <td>to have a wedding</td>\n",
       "      <td>50-59</td>\n",
       "    </tr>\n",
       "  </tbody>\n",
       "</table>\n",
       "</div>"
      ],
      "text/plain": [
       "   children  days_employed  dob_years            education  education_id  \\\n",
       "0         1         8438.0         42    bachelor's degree             0   \n",
       "1         1         4025.0         36  secondary education             1   \n",
       "2         0         5623.0         33  secondary education             1   \n",
       "3         3         4125.0         32  secondary education             1   \n",
       "4         0       340266.0         53  secondary education             1   \n",
       "\n",
       "       family_status  family_status_id gender income_type  debt  total_income  \\\n",
       "0            married                 0      f    employee     0     40620.102   \n",
       "1            married                 0      f    employee     0     17932.802   \n",
       "2            married                 0      m    employee     0     23341.752   \n",
       "3            married                 0      m    employee     0     42820.568   \n",
       "4  civil partnership                 1      f     retiree     0     25378.572   \n",
       "\n",
       "                   purpose age_group  \n",
       "0    purchase of the house     40-49  \n",
       "1             car purchase     30-39  \n",
       "2    purchase of the house     30-39  \n",
       "3  supplementary education     30-39  \n",
       "4        to have a wedding     50-59  "
      ]
     },
     "execution_count": 55,
     "metadata": {},
     "output_type": "execute_result"
    }
   ],
   "source": [
    "banco.head()"
   ]
  },
  {
   "cell_type": "markdown",
   "metadata": {},
   "source": [
    "Los factores que podrían determinar los ingresos de las personas son principalmente el tipo de empleo, \"income_type\", ya que de esto depende principalmente cuanto le pagarán a la persona seguido de la educación, \"education\", ya que puede existir una correlación entre un mayor nivel de estudios con un mayor salario para la persona y en tercer lugar podría existir alguna correlación relacionada a la edad de las personas, \"dob_years\". Se procederá a observar cual característica es la más representativa y sobre esta se buscará la existencia de valores extremos para decidir si utilizar su media o mediana."
   ]
  },
  {
   "cell_type": "markdown",
   "metadata": {},
   "source": [
    "Crearemos una tabla sin valores ausentes."
   ]
  },
  {
   "cell_type": "code",
   "execution_count": 56,
   "metadata": {},
   "outputs": [
    {
     "data": {
      "text/html": [
       "<div>\n",
       "<style scoped>\n",
       "    .dataframe tbody tr th:only-of-type {\n",
       "        vertical-align: middle;\n",
       "    }\n",
       "\n",
       "    .dataframe tbody tr th {\n",
       "        vertical-align: top;\n",
       "    }\n",
       "\n",
       "    .dataframe thead th {\n",
       "        text-align: right;\n",
       "    }\n",
       "</style>\n",
       "<table border=\"1\" class=\"dataframe\">\n",
       "  <thead>\n",
       "    <tr style=\"text-align: right;\">\n",
       "      <th></th>\n",
       "      <th>children</th>\n",
       "      <th>days_employed</th>\n",
       "      <th>dob_years</th>\n",
       "      <th>education</th>\n",
       "      <th>education_id</th>\n",
       "      <th>family_status</th>\n",
       "      <th>family_status_id</th>\n",
       "      <th>gender</th>\n",
       "      <th>income_type</th>\n",
       "      <th>debt</th>\n",
       "      <th>total_income</th>\n",
       "      <th>purpose</th>\n",
       "      <th>age_group</th>\n",
       "    </tr>\n",
       "  </thead>\n",
       "  <tbody>\n",
       "    <tr>\n",
       "      <th>0</th>\n",
       "      <td>1</td>\n",
       "      <td>8438.0</td>\n",
       "      <td>42</td>\n",
       "      <td>bachelor's degree</td>\n",
       "      <td>0</td>\n",
       "      <td>married</td>\n",
       "      <td>0</td>\n",
       "      <td>f</td>\n",
       "      <td>employee</td>\n",
       "      <td>0</td>\n",
       "      <td>40620.102</td>\n",
       "      <td>purchase of the house</td>\n",
       "      <td>40-49</td>\n",
       "    </tr>\n",
       "    <tr>\n",
       "      <th>1</th>\n",
       "      <td>1</td>\n",
       "      <td>4025.0</td>\n",
       "      <td>36</td>\n",
       "      <td>secondary education</td>\n",
       "      <td>1</td>\n",
       "      <td>married</td>\n",
       "      <td>0</td>\n",
       "      <td>f</td>\n",
       "      <td>employee</td>\n",
       "      <td>0</td>\n",
       "      <td>17932.802</td>\n",
       "      <td>car purchase</td>\n",
       "      <td>30-39</td>\n",
       "    </tr>\n",
       "    <tr>\n",
       "      <th>2</th>\n",
       "      <td>0</td>\n",
       "      <td>5623.0</td>\n",
       "      <td>33</td>\n",
       "      <td>secondary education</td>\n",
       "      <td>1</td>\n",
       "      <td>married</td>\n",
       "      <td>0</td>\n",
       "      <td>m</td>\n",
       "      <td>employee</td>\n",
       "      <td>0</td>\n",
       "      <td>23341.752</td>\n",
       "      <td>purchase of the house</td>\n",
       "      <td>30-39</td>\n",
       "    </tr>\n",
       "    <tr>\n",
       "      <th>3</th>\n",
       "      <td>3</td>\n",
       "      <td>4125.0</td>\n",
       "      <td>32</td>\n",
       "      <td>secondary education</td>\n",
       "      <td>1</td>\n",
       "      <td>married</td>\n",
       "      <td>0</td>\n",
       "      <td>m</td>\n",
       "      <td>employee</td>\n",
       "      <td>0</td>\n",
       "      <td>42820.568</td>\n",
       "      <td>supplementary education</td>\n",
       "      <td>30-39</td>\n",
       "    </tr>\n",
       "    <tr>\n",
       "      <th>4</th>\n",
       "      <td>0</td>\n",
       "      <td>340266.0</td>\n",
       "      <td>53</td>\n",
       "      <td>secondary education</td>\n",
       "      <td>1</td>\n",
       "      <td>civil partnership</td>\n",
       "      <td>1</td>\n",
       "      <td>f</td>\n",
       "      <td>retiree</td>\n",
       "      <td>0</td>\n",
       "      <td>25378.572</td>\n",
       "      <td>to have a wedding</td>\n",
       "      <td>50-59</td>\n",
       "    </tr>\n",
       "    <tr>\n",
       "      <th>5</th>\n",
       "      <td>0</td>\n",
       "      <td>926.0</td>\n",
       "      <td>27</td>\n",
       "      <td>bachelor's degree</td>\n",
       "      <td>0</td>\n",
       "      <td>civil partnership</td>\n",
       "      <td>1</td>\n",
       "      <td>m</td>\n",
       "      <td>business</td>\n",
       "      <td>0</td>\n",
       "      <td>40922.170</td>\n",
       "      <td>purchase of the house</td>\n",
       "      <td>20-29</td>\n",
       "    </tr>\n",
       "    <tr>\n",
       "      <th>6</th>\n",
       "      <td>0</td>\n",
       "      <td>2879.0</td>\n",
       "      <td>43</td>\n",
       "      <td>bachelor's degree</td>\n",
       "      <td>0</td>\n",
       "      <td>married</td>\n",
       "      <td>0</td>\n",
       "      <td>f</td>\n",
       "      <td>business</td>\n",
       "      <td>0</td>\n",
       "      <td>38484.156</td>\n",
       "      <td>housing transactions</td>\n",
       "      <td>40-49</td>\n",
       "    </tr>\n",
       "    <tr>\n",
       "      <th>7</th>\n",
       "      <td>0</td>\n",
       "      <td>153.0</td>\n",
       "      <td>50</td>\n",
       "      <td>secondary education</td>\n",
       "      <td>1</td>\n",
       "      <td>married</td>\n",
       "      <td>0</td>\n",
       "      <td>m</td>\n",
       "      <td>employee</td>\n",
       "      <td>0</td>\n",
       "      <td>21731.829</td>\n",
       "      <td>education</td>\n",
       "      <td>50-59</td>\n",
       "    </tr>\n",
       "    <tr>\n",
       "      <th>8</th>\n",
       "      <td>2</td>\n",
       "      <td>6930.0</td>\n",
       "      <td>35</td>\n",
       "      <td>bachelor's degree</td>\n",
       "      <td>0</td>\n",
       "      <td>civil partnership</td>\n",
       "      <td>1</td>\n",
       "      <td>f</td>\n",
       "      <td>employee</td>\n",
       "      <td>0</td>\n",
       "      <td>15337.093</td>\n",
       "      <td>having a wedding</td>\n",
       "      <td>30-39</td>\n",
       "    </tr>\n",
       "    <tr>\n",
       "      <th>9</th>\n",
       "      <td>0</td>\n",
       "      <td>2189.0</td>\n",
       "      <td>41</td>\n",
       "      <td>secondary education</td>\n",
       "      <td>1</td>\n",
       "      <td>married</td>\n",
       "      <td>0</td>\n",
       "      <td>m</td>\n",
       "      <td>employee</td>\n",
       "      <td>0</td>\n",
       "      <td>23108.150</td>\n",
       "      <td>purchase of the house for my family</td>\n",
       "      <td>40-49</td>\n",
       "    </tr>\n",
       "    <tr>\n",
       "      <th>10</th>\n",
       "      <td>2</td>\n",
       "      <td>4171.0</td>\n",
       "      <td>36</td>\n",
       "      <td>bachelor's degree</td>\n",
       "      <td>0</td>\n",
       "      <td>married</td>\n",
       "      <td>0</td>\n",
       "      <td>m</td>\n",
       "      <td>business</td>\n",
       "      <td>0</td>\n",
       "      <td>18230.959</td>\n",
       "      <td>buy real estate</td>\n",
       "      <td>30-39</td>\n",
       "    </tr>\n",
       "    <tr>\n",
       "      <th>11</th>\n",
       "      <td>0</td>\n",
       "      <td>793.0</td>\n",
       "      <td>40</td>\n",
       "      <td>secondary education</td>\n",
       "      <td>1</td>\n",
       "      <td>married</td>\n",
       "      <td>0</td>\n",
       "      <td>f</td>\n",
       "      <td>employee</td>\n",
       "      <td>0</td>\n",
       "      <td>12331.077</td>\n",
       "      <td>buy commercial real estate</td>\n",
       "      <td>40-49</td>\n",
       "    </tr>\n",
       "    <tr>\n",
       "      <th>13</th>\n",
       "      <td>0</td>\n",
       "      <td>1847.0</td>\n",
       "      <td>54</td>\n",
       "      <td>some college</td>\n",
       "      <td>2</td>\n",
       "      <td>married</td>\n",
       "      <td>0</td>\n",
       "      <td>f</td>\n",
       "      <td>employee</td>\n",
       "      <td>0</td>\n",
       "      <td>20873.317</td>\n",
       "      <td>car purchase</td>\n",
       "      <td>50-59</td>\n",
       "    </tr>\n",
       "    <tr>\n",
       "      <th>14</th>\n",
       "      <td>0</td>\n",
       "      <td>1845.0</td>\n",
       "      <td>56</td>\n",
       "      <td>bachelor's degree</td>\n",
       "      <td>0</td>\n",
       "      <td>civil partnership</td>\n",
       "      <td>1</td>\n",
       "      <td>f</td>\n",
       "      <td>business</td>\n",
       "      <td>1</td>\n",
       "      <td>26420.466</td>\n",
       "      <td>buy residential real estate</td>\n",
       "      <td>50-59</td>\n",
       "    </tr>\n",
       "    <tr>\n",
       "      <th>15</th>\n",
       "      <td>1</td>\n",
       "      <td>972.0</td>\n",
       "      <td>26</td>\n",
       "      <td>secondary education</td>\n",
       "      <td>1</td>\n",
       "      <td>married</td>\n",
       "      <td>0</td>\n",
       "      <td>f</td>\n",
       "      <td>employee</td>\n",
       "      <td>0</td>\n",
       "      <td>18691.345</td>\n",
       "      <td>construction of own property</td>\n",
       "      <td>20-29</td>\n",
       "    </tr>\n",
       "  </tbody>\n",
       "</table>\n",
       "</div>"
      ],
      "text/plain": [
       "    children  days_employed  dob_years            education  education_id  \\\n",
       "0          1         8438.0         42    bachelor's degree             0   \n",
       "1          1         4025.0         36  secondary education             1   \n",
       "2          0         5623.0         33  secondary education             1   \n",
       "3          3         4125.0         32  secondary education             1   \n",
       "4          0       340266.0         53  secondary education             1   \n",
       "5          0          926.0         27    bachelor's degree             0   \n",
       "6          0         2879.0         43    bachelor's degree             0   \n",
       "7          0          153.0         50  secondary education             1   \n",
       "8          2         6930.0         35    bachelor's degree             0   \n",
       "9          0         2189.0         41  secondary education             1   \n",
       "10         2         4171.0         36    bachelor's degree             0   \n",
       "11         0          793.0         40  secondary education             1   \n",
       "13         0         1847.0         54         some college             2   \n",
       "14         0         1845.0         56    bachelor's degree             0   \n",
       "15         1          972.0         26  secondary education             1   \n",
       "\n",
       "        family_status  family_status_id gender income_type  debt  \\\n",
       "0             married                 0      f    employee     0   \n",
       "1             married                 0      f    employee     0   \n",
       "2             married                 0      m    employee     0   \n",
       "3             married                 0      m    employee     0   \n",
       "4   civil partnership                 1      f     retiree     0   \n",
       "5   civil partnership                 1      m    business     0   \n",
       "6             married                 0      f    business     0   \n",
       "7             married                 0      m    employee     0   \n",
       "8   civil partnership                 1      f    employee     0   \n",
       "9             married                 0      m    employee     0   \n",
       "10            married                 0      m    business     0   \n",
       "11            married                 0      f    employee     0   \n",
       "13            married                 0      f    employee     0   \n",
       "14  civil partnership                 1      f    business     1   \n",
       "15            married                 0      f    employee     0   \n",
       "\n",
       "    total_income                              purpose age_group  \n",
       "0      40620.102                purchase of the house     40-49  \n",
       "1      17932.802                         car purchase     30-39  \n",
       "2      23341.752                purchase of the house     30-39  \n",
       "3      42820.568              supplementary education     30-39  \n",
       "4      25378.572                    to have a wedding     50-59  \n",
       "5      40922.170                purchase of the house     20-29  \n",
       "6      38484.156                 housing transactions     40-49  \n",
       "7      21731.829                            education     50-59  \n",
       "8      15337.093                     having a wedding     30-39  \n",
       "9      23108.150  purchase of the house for my family     40-49  \n",
       "10     18230.959                      buy real estate     30-39  \n",
       "11     12331.077           buy commercial real estate     40-49  \n",
       "13     20873.317                         car purchase     50-59  \n",
       "14     26420.466          buy residential real estate     50-59  \n",
       "15     18691.345         construction of own property     20-29  "
      ]
     },
     "execution_count": 56,
     "metadata": {},
     "output_type": "execute_result"
    }
   ],
   "source": [
    "banco_no_missing = banco.dropna()\n",
    "banco_no_missing.head(15)"
   ]
  },
  {
   "cell_type": "markdown",
   "metadata": {},
   "source": [
    "Observaremos los valores medios de los ingresos en función de los factores identificados."
   ]
  },
  {
   "cell_type": "code",
   "execution_count": 62,
   "metadata": {
    "scrolled": true
   },
   "outputs": [
    {
     "name": "stdout",
     "output_type": "stream",
     "text": [
      "mean\n",
      "                             total_income\n",
      "income_type                              \n",
      "business                     32386.793835\n",
      "civil servant                27343.729582\n",
      "employee                     25820.841683\n",
      "entrepreneur                 79866.103000\n",
      "paternity / maternity leave   8612.661000\n",
      "retiree                      21940.394503\n",
      "student                      15712.260000\n",
      "unemployed                   21014.360500\n",
      "\n",
      "median\n",
      "                             total_income\n",
      "income_type                              \n",
      "business                       27577.2720\n",
      "civil servant                  24071.6695\n",
      "employee                       22815.1035\n",
      "entrepreneur                   79866.1030\n",
      "paternity / maternity leave     8612.6610\n",
      "retiree                        18962.3180\n",
      "student                        15712.2600\n",
      "unemployed                     21014.3605\n",
      "\n",
      "\n",
      "mean\n",
      "                     total_income\n",
      "education                        \n",
      "bachelor's degree    33142.802434\n",
      "graduate degree      27960.024667\n",
      "primary education    21144.882211\n",
      "secondary education  24594.503037\n",
      "some college         29045.443644\n",
      "\n",
      "median\n",
      "                     total_income\n",
      "education                        \n",
      "bachelor's degree      28054.5310\n",
      "graduate degree        25161.5835\n",
      "primary education      18741.9760\n",
      "secondary education    21836.5830\n",
      "some college           25618.4640\n",
      "\n",
      "\n",
      "mean\n",
      "           total_income\n",
      "age_group              \n",
      "10-19      16993.942462\n",
      "20-29      25572.630177\n",
      "30-39      28312.479963\n",
      "40-49      28491.929026\n",
      "50-59      25811.700327\n",
      "60+        23021.639994\n",
      "\n",
      "median\n",
      "           total_income\n",
      "age_group              \n",
      "10-19        14934.9010\n",
      "20-29        22799.2580\n",
      "30-39        24667.5280\n",
      "40-49        24755.6960\n",
      "50-59        22203.0745\n",
      "60+          19761.4250\n",
      "\n",
      "\n"
     ]
    }
   ],
   "source": [
    "factores = [\"income_type\", \"education\", \"age_group\"]\n",
    "for column in factores:\n",
    "    for medida in ['mean', 'median']:\n",
    "        print(medida)\n",
    "        print(banco_no_missing.pivot_table(index=column, values=\"total_income\", aggfunc=medida))\n",
    "        print(\"\")\n",
    "    print(\"\")"
   ]
  },
  {
   "cell_type": "markdown",
   "metadata": {},
   "source": [
    "Después de observar las características que podrían definir de mejor manera los ingresos, se optó por elegir el tipo de empleo ya que es la principal característica directamente relacionada con el monto de ingreso. Con respecto a si usar la media o la mediana, se escogió esta última debido a que algunos tipos de empleo se ven afectados por valores atípicos que incrementan el valor de la media."
   ]
  },
  {
   "cell_type": "markdown",
   "metadata": {},
   "source": [
    "Escribiremos una función que usaremos para completar los valores ausentes."
   ]
  },
  {
   "cell_type": "code",
   "execution_count": 63,
   "metadata": {},
   "outputs": [],
   "source": [
    "def llenar(carac, mediana):\n",
    "    banco.loc[banco[\"income_type\"]==carac, \"total_income\"] = banco.loc[banco[\"income_type\"]==carac][\"total_income\"].fillna(mediana)                "
   ]
  },
  {
   "cell_type": "code",
   "execution_count": 64,
   "metadata": {
    "scrolled": true
   },
   "outputs": [
    {
     "data": {
      "text/html": [
       "<div>\n",
       "<style scoped>\n",
       "    .dataframe tbody tr th:only-of-type {\n",
       "        vertical-align: middle;\n",
       "    }\n",
       "\n",
       "    .dataframe tbody tr th {\n",
       "        vertical-align: top;\n",
       "    }\n",
       "\n",
       "    .dataframe thead th {\n",
       "        text-align: right;\n",
       "    }\n",
       "</style>\n",
       "<table border=\"1\" class=\"dataframe\">\n",
       "  <thead>\n",
       "    <tr style=\"text-align: right;\">\n",
       "      <th></th>\n",
       "      <th>children</th>\n",
       "      <th>days_employed</th>\n",
       "      <th>dob_years</th>\n",
       "      <th>education</th>\n",
       "      <th>education_id</th>\n",
       "      <th>family_status</th>\n",
       "      <th>family_status_id</th>\n",
       "      <th>gender</th>\n",
       "      <th>income_type</th>\n",
       "      <th>debt</th>\n",
       "      <th>total_income</th>\n",
       "      <th>purpose</th>\n",
       "      <th>age_group</th>\n",
       "    </tr>\n",
       "  </thead>\n",
       "  <tbody>\n",
       "    <tr>\n",
       "      <th>0</th>\n",
       "      <td>1</td>\n",
       "      <td>8438.0</td>\n",
       "      <td>42</td>\n",
       "      <td>bachelor's degree</td>\n",
       "      <td>0</td>\n",
       "      <td>married</td>\n",
       "      <td>0</td>\n",
       "      <td>f</td>\n",
       "      <td>employee</td>\n",
       "      <td>0</td>\n",
       "      <td>40620.102</td>\n",
       "      <td>purchase of the house</td>\n",
       "      <td>40-49</td>\n",
       "    </tr>\n",
       "    <tr>\n",
       "      <th>1</th>\n",
       "      <td>1</td>\n",
       "      <td>4025.0</td>\n",
       "      <td>36</td>\n",
       "      <td>secondary education</td>\n",
       "      <td>1</td>\n",
       "      <td>married</td>\n",
       "      <td>0</td>\n",
       "      <td>f</td>\n",
       "      <td>employee</td>\n",
       "      <td>0</td>\n",
       "      <td>17932.802</td>\n",
       "      <td>car purchase</td>\n",
       "      <td>30-39</td>\n",
       "    </tr>\n",
       "    <tr>\n",
       "      <th>2</th>\n",
       "      <td>0</td>\n",
       "      <td>5623.0</td>\n",
       "      <td>33</td>\n",
       "      <td>secondary education</td>\n",
       "      <td>1</td>\n",
       "      <td>married</td>\n",
       "      <td>0</td>\n",
       "      <td>m</td>\n",
       "      <td>employee</td>\n",
       "      <td>0</td>\n",
       "      <td>23341.752</td>\n",
       "      <td>purchase of the house</td>\n",
       "      <td>30-39</td>\n",
       "    </tr>\n",
       "    <tr>\n",
       "      <th>3</th>\n",
       "      <td>3</td>\n",
       "      <td>4125.0</td>\n",
       "      <td>32</td>\n",
       "      <td>secondary education</td>\n",
       "      <td>1</td>\n",
       "      <td>married</td>\n",
       "      <td>0</td>\n",
       "      <td>m</td>\n",
       "      <td>employee</td>\n",
       "      <td>0</td>\n",
       "      <td>42820.568</td>\n",
       "      <td>supplementary education</td>\n",
       "      <td>30-39</td>\n",
       "    </tr>\n",
       "    <tr>\n",
       "      <th>4</th>\n",
       "      <td>0</td>\n",
       "      <td>340266.0</td>\n",
       "      <td>53</td>\n",
       "      <td>secondary education</td>\n",
       "      <td>1</td>\n",
       "      <td>civil partnership</td>\n",
       "      <td>1</td>\n",
       "      <td>f</td>\n",
       "      <td>retiree</td>\n",
       "      <td>0</td>\n",
       "      <td>25378.572</td>\n",
       "      <td>to have a wedding</td>\n",
       "      <td>50-59</td>\n",
       "    </tr>\n",
       "    <tr>\n",
       "      <th>5</th>\n",
       "      <td>0</td>\n",
       "      <td>926.0</td>\n",
       "      <td>27</td>\n",
       "      <td>bachelor's degree</td>\n",
       "      <td>0</td>\n",
       "      <td>civil partnership</td>\n",
       "      <td>1</td>\n",
       "      <td>m</td>\n",
       "      <td>business</td>\n",
       "      <td>0</td>\n",
       "      <td>40922.170</td>\n",
       "      <td>purchase of the house</td>\n",
       "      <td>20-29</td>\n",
       "    </tr>\n",
       "    <tr>\n",
       "      <th>6</th>\n",
       "      <td>0</td>\n",
       "      <td>2879.0</td>\n",
       "      <td>43</td>\n",
       "      <td>bachelor's degree</td>\n",
       "      <td>0</td>\n",
       "      <td>married</td>\n",
       "      <td>0</td>\n",
       "      <td>f</td>\n",
       "      <td>business</td>\n",
       "      <td>0</td>\n",
       "      <td>38484.156</td>\n",
       "      <td>housing transactions</td>\n",
       "      <td>40-49</td>\n",
       "    </tr>\n",
       "    <tr>\n",
       "      <th>7</th>\n",
       "      <td>0</td>\n",
       "      <td>153.0</td>\n",
       "      <td>50</td>\n",
       "      <td>secondary education</td>\n",
       "      <td>1</td>\n",
       "      <td>married</td>\n",
       "      <td>0</td>\n",
       "      <td>m</td>\n",
       "      <td>employee</td>\n",
       "      <td>0</td>\n",
       "      <td>21731.829</td>\n",
       "      <td>education</td>\n",
       "      <td>50-59</td>\n",
       "    </tr>\n",
       "    <tr>\n",
       "      <th>8</th>\n",
       "      <td>2</td>\n",
       "      <td>6930.0</td>\n",
       "      <td>35</td>\n",
       "      <td>bachelor's degree</td>\n",
       "      <td>0</td>\n",
       "      <td>civil partnership</td>\n",
       "      <td>1</td>\n",
       "      <td>f</td>\n",
       "      <td>employee</td>\n",
       "      <td>0</td>\n",
       "      <td>15337.093</td>\n",
       "      <td>having a wedding</td>\n",
       "      <td>30-39</td>\n",
       "    </tr>\n",
       "    <tr>\n",
       "      <th>9</th>\n",
       "      <td>0</td>\n",
       "      <td>2189.0</td>\n",
       "      <td>41</td>\n",
       "      <td>secondary education</td>\n",
       "      <td>1</td>\n",
       "      <td>married</td>\n",
       "      <td>0</td>\n",
       "      <td>m</td>\n",
       "      <td>employee</td>\n",
       "      <td>0</td>\n",
       "      <td>23108.150</td>\n",
       "      <td>purchase of the house for my family</td>\n",
       "      <td>40-49</td>\n",
       "    </tr>\n",
       "    <tr>\n",
       "      <th>10</th>\n",
       "      <td>2</td>\n",
       "      <td>4171.0</td>\n",
       "      <td>36</td>\n",
       "      <td>bachelor's degree</td>\n",
       "      <td>0</td>\n",
       "      <td>married</td>\n",
       "      <td>0</td>\n",
       "      <td>m</td>\n",
       "      <td>business</td>\n",
       "      <td>0</td>\n",
       "      <td>18230.959</td>\n",
       "      <td>buy real estate</td>\n",
       "      <td>30-39</td>\n",
       "    </tr>\n",
       "    <tr>\n",
       "      <th>11</th>\n",
       "      <td>0</td>\n",
       "      <td>793.0</td>\n",
       "      <td>40</td>\n",
       "      <td>secondary education</td>\n",
       "      <td>1</td>\n",
       "      <td>married</td>\n",
       "      <td>0</td>\n",
       "      <td>f</td>\n",
       "      <td>employee</td>\n",
       "      <td>0</td>\n",
       "      <td>12331.077</td>\n",
       "      <td>buy commercial real estate</td>\n",
       "      <td>40-49</td>\n",
       "    </tr>\n",
       "    <tr>\n",
       "      <th>12</th>\n",
       "      <td>0</td>\n",
       "      <td>NaN</td>\n",
       "      <td>65</td>\n",
       "      <td>secondary education</td>\n",
       "      <td>1</td>\n",
       "      <td>civil partnership</td>\n",
       "      <td>1</td>\n",
       "      <td>m</td>\n",
       "      <td>retiree</td>\n",
       "      <td>0</td>\n",
       "      <td>18962.318</td>\n",
       "      <td>to have a wedding</td>\n",
       "      <td>60+</td>\n",
       "    </tr>\n",
       "    <tr>\n",
       "      <th>13</th>\n",
       "      <td>0</td>\n",
       "      <td>1847.0</td>\n",
       "      <td>54</td>\n",
       "      <td>some college</td>\n",
       "      <td>2</td>\n",
       "      <td>married</td>\n",
       "      <td>0</td>\n",
       "      <td>f</td>\n",
       "      <td>employee</td>\n",
       "      <td>0</td>\n",
       "      <td>20873.317</td>\n",
       "      <td>car purchase</td>\n",
       "      <td>50-59</td>\n",
       "    </tr>\n",
       "    <tr>\n",
       "      <th>14</th>\n",
       "      <td>0</td>\n",
       "      <td>1845.0</td>\n",
       "      <td>56</td>\n",
       "      <td>bachelor's degree</td>\n",
       "      <td>0</td>\n",
       "      <td>civil partnership</td>\n",
       "      <td>1</td>\n",
       "      <td>f</td>\n",
       "      <td>business</td>\n",
       "      <td>1</td>\n",
       "      <td>26420.466</td>\n",
       "      <td>buy residential real estate</td>\n",
       "      <td>50-59</td>\n",
       "    </tr>\n",
       "    <tr>\n",
       "      <th>15</th>\n",
       "      <td>1</td>\n",
       "      <td>972.0</td>\n",
       "      <td>26</td>\n",
       "      <td>secondary education</td>\n",
       "      <td>1</td>\n",
       "      <td>married</td>\n",
       "      <td>0</td>\n",
       "      <td>f</td>\n",
       "      <td>employee</td>\n",
       "      <td>0</td>\n",
       "      <td>18691.345</td>\n",
       "      <td>construction of own property</td>\n",
       "      <td>20-29</td>\n",
       "    </tr>\n",
       "    <tr>\n",
       "      <th>16</th>\n",
       "      <td>0</td>\n",
       "      <td>1720.0</td>\n",
       "      <td>35</td>\n",
       "      <td>secondary education</td>\n",
       "      <td>1</td>\n",
       "      <td>married</td>\n",
       "      <td>0</td>\n",
       "      <td>f</td>\n",
       "      <td>employee</td>\n",
       "      <td>0</td>\n",
       "      <td>46272.433</td>\n",
       "      <td>property</td>\n",
       "      <td>30-39</td>\n",
       "    </tr>\n",
       "    <tr>\n",
       "      <th>17</th>\n",
       "      <td>0</td>\n",
       "      <td>2370.0</td>\n",
       "      <td>33</td>\n",
       "      <td>bachelor's degree</td>\n",
       "      <td>0</td>\n",
       "      <td>civil partnership</td>\n",
       "      <td>1</td>\n",
       "      <td>m</td>\n",
       "      <td>employee</td>\n",
       "      <td>0</td>\n",
       "      <td>14465.694</td>\n",
       "      <td>building a property</td>\n",
       "      <td>30-39</td>\n",
       "    </tr>\n",
       "    <tr>\n",
       "      <th>18</th>\n",
       "      <td>0</td>\n",
       "      <td>400281.0</td>\n",
       "      <td>53</td>\n",
       "      <td>secondary education</td>\n",
       "      <td>1</td>\n",
       "      <td>widow / widower</td>\n",
       "      <td>2</td>\n",
       "      <td>f</td>\n",
       "      <td>retiree</td>\n",
       "      <td>0</td>\n",
       "      <td>9091.804</td>\n",
       "      <td>buying a second-hand car</td>\n",
       "      <td>50-59</td>\n",
       "    </tr>\n",
       "    <tr>\n",
       "      <th>19</th>\n",
       "      <td>0</td>\n",
       "      <td>10039.0</td>\n",
       "      <td>48</td>\n",
       "      <td>secondary education</td>\n",
       "      <td>1</td>\n",
       "      <td>divorced</td>\n",
       "      <td>3</td>\n",
       "      <td>f</td>\n",
       "      <td>employee</td>\n",
       "      <td>0</td>\n",
       "      <td>38852.977</td>\n",
       "      <td>buying my own car</td>\n",
       "      <td>40-49</td>\n",
       "    </tr>\n",
       "    <tr>\n",
       "      <th>20</th>\n",
       "      <td>1</td>\n",
       "      <td>1312.0</td>\n",
       "      <td>36</td>\n",
       "      <td>secondary education</td>\n",
       "      <td>1</td>\n",
       "      <td>married</td>\n",
       "      <td>0</td>\n",
       "      <td>m</td>\n",
       "      <td>employee</td>\n",
       "      <td>0</td>\n",
       "      <td>33528.423</td>\n",
       "      <td>property</td>\n",
       "      <td>30-39</td>\n",
       "    </tr>\n",
       "    <tr>\n",
       "      <th>21</th>\n",
       "      <td>1</td>\n",
       "      <td>254.0</td>\n",
       "      <td>33</td>\n",
       "      <td>secondary education</td>\n",
       "      <td>1</td>\n",
       "      <td>civil partnership</td>\n",
       "      <td>1</td>\n",
       "      <td>f</td>\n",
       "      <td>employee</td>\n",
       "      <td>0</td>\n",
       "      <td>21089.953</td>\n",
       "      <td>car purchase</td>\n",
       "      <td>30-39</td>\n",
       "    </tr>\n",
       "    <tr>\n",
       "      <th>22</th>\n",
       "      <td>1</td>\n",
       "      <td>1767.0</td>\n",
       "      <td>24</td>\n",
       "      <td>secondary education</td>\n",
       "      <td>1</td>\n",
       "      <td>civil partnership</td>\n",
       "      <td>1</td>\n",
       "      <td>f</td>\n",
       "      <td>employee</td>\n",
       "      <td>0</td>\n",
       "      <td>23948.983</td>\n",
       "      <td>buying a second-hand car</td>\n",
       "      <td>20-29</td>\n",
       "    </tr>\n",
       "    <tr>\n",
       "      <th>23</th>\n",
       "      <td>0</td>\n",
       "      <td>273.0</td>\n",
       "      <td>21</td>\n",
       "      <td>bachelor's degree</td>\n",
       "      <td>0</td>\n",
       "      <td>civil partnership</td>\n",
       "      <td>1</td>\n",
       "      <td>m</td>\n",
       "      <td>employee</td>\n",
       "      <td>0</td>\n",
       "      <td>20522.515</td>\n",
       "      <td>to have a wedding</td>\n",
       "      <td>20-29</td>\n",
       "    </tr>\n",
       "    <tr>\n",
       "      <th>24</th>\n",
       "      <td>1</td>\n",
       "      <td>338552.0</td>\n",
       "      <td>57</td>\n",
       "      <td>secondary education</td>\n",
       "      <td>1</td>\n",
       "      <td>unmarried</td>\n",
       "      <td>4</td>\n",
       "      <td>f</td>\n",
       "      <td>retiree</td>\n",
       "      <td>0</td>\n",
       "      <td>46487.558</td>\n",
       "      <td>transactions with commercial real estate</td>\n",
       "      <td>50-59</td>\n",
       "    </tr>\n",
       "    <tr>\n",
       "      <th>25</th>\n",
       "      <td>0</td>\n",
       "      <td>363548.0</td>\n",
       "      <td>67</td>\n",
       "      <td>secondary education</td>\n",
       "      <td>1</td>\n",
       "      <td>married</td>\n",
       "      <td>0</td>\n",
       "      <td>m</td>\n",
       "      <td>retiree</td>\n",
       "      <td>0</td>\n",
       "      <td>8818.041</td>\n",
       "      <td>buy real estate</td>\n",
       "      <td>60+</td>\n",
       "    </tr>\n",
       "    <tr>\n",
       "      <th>26</th>\n",
       "      <td>0</td>\n",
       "      <td>NaN</td>\n",
       "      <td>41</td>\n",
       "      <td>secondary education</td>\n",
       "      <td>1</td>\n",
       "      <td>married</td>\n",
       "      <td>0</td>\n",
       "      <td>m</td>\n",
       "      <td>civil servant</td>\n",
       "      <td>0</td>\n",
       "      <td>NaN</td>\n",
       "      <td>education</td>\n",
       "      <td>40-49</td>\n",
       "    </tr>\n",
       "    <tr>\n",
       "      <th>27</th>\n",
       "      <td>0</td>\n",
       "      <td>529.0</td>\n",
       "      <td>28</td>\n",
       "      <td>bachelor's degree</td>\n",
       "      <td>0</td>\n",
       "      <td>married</td>\n",
       "      <td>0</td>\n",
       "      <td>m</td>\n",
       "      <td>employee</td>\n",
       "      <td>0</td>\n",
       "      <td>49415.837</td>\n",
       "      <td>construction of own property</td>\n",
       "      <td>20-29</td>\n",
       "    </tr>\n",
       "    <tr>\n",
       "      <th>28</th>\n",
       "      <td>1</td>\n",
       "      <td>717.0</td>\n",
       "      <td>26</td>\n",
       "      <td>bachelor's degree</td>\n",
       "      <td>0</td>\n",
       "      <td>married</td>\n",
       "      <td>0</td>\n",
       "      <td>f</td>\n",
       "      <td>employee</td>\n",
       "      <td>0</td>\n",
       "      <td>30058.118</td>\n",
       "      <td>construction of own property</td>\n",
       "      <td>20-29</td>\n",
       "    </tr>\n",
       "    <tr>\n",
       "      <th>29</th>\n",
       "      <td>0</td>\n",
       "      <td>NaN</td>\n",
       "      <td>63</td>\n",
       "      <td>secondary education</td>\n",
       "      <td>1</td>\n",
       "      <td>unmarried</td>\n",
       "      <td>4</td>\n",
       "      <td>f</td>\n",
       "      <td>retiree</td>\n",
       "      <td>0</td>\n",
       "      <td>18962.318</td>\n",
       "      <td>building a real estate</td>\n",
       "      <td>60+</td>\n",
       "    </tr>\n",
       "  </tbody>\n",
       "</table>\n",
       "</div>"
      ],
      "text/plain": [
       "    children  days_employed  dob_years            education  education_id  \\\n",
       "0          1         8438.0         42    bachelor's degree             0   \n",
       "1          1         4025.0         36  secondary education             1   \n",
       "2          0         5623.0         33  secondary education             1   \n",
       "3          3         4125.0         32  secondary education             1   \n",
       "4          0       340266.0         53  secondary education             1   \n",
       "5          0          926.0         27    bachelor's degree             0   \n",
       "6          0         2879.0         43    bachelor's degree             0   \n",
       "7          0          153.0         50  secondary education             1   \n",
       "8          2         6930.0         35    bachelor's degree             0   \n",
       "9          0         2189.0         41  secondary education             1   \n",
       "10         2         4171.0         36    bachelor's degree             0   \n",
       "11         0          793.0         40  secondary education             1   \n",
       "12         0            NaN         65  secondary education             1   \n",
       "13         0         1847.0         54         some college             2   \n",
       "14         0         1845.0         56    bachelor's degree             0   \n",
       "15         1          972.0         26  secondary education             1   \n",
       "16         0         1720.0         35  secondary education             1   \n",
       "17         0         2370.0         33    bachelor's degree             0   \n",
       "18         0       400281.0         53  secondary education             1   \n",
       "19         0        10039.0         48  secondary education             1   \n",
       "20         1         1312.0         36  secondary education             1   \n",
       "21         1          254.0         33  secondary education             1   \n",
       "22         1         1767.0         24  secondary education             1   \n",
       "23         0          273.0         21    bachelor's degree             0   \n",
       "24         1       338552.0         57  secondary education             1   \n",
       "25         0       363548.0         67  secondary education             1   \n",
       "26         0            NaN         41  secondary education             1   \n",
       "27         0          529.0         28    bachelor's degree             0   \n",
       "28         1          717.0         26    bachelor's degree             0   \n",
       "29         0            NaN         63  secondary education             1   \n",
       "\n",
       "        family_status  family_status_id gender    income_type  debt  \\\n",
       "0             married                 0      f       employee     0   \n",
       "1             married                 0      f       employee     0   \n",
       "2             married                 0      m       employee     0   \n",
       "3             married                 0      m       employee     0   \n",
       "4   civil partnership                 1      f        retiree     0   \n",
       "5   civil partnership                 1      m       business     0   \n",
       "6             married                 0      f       business     0   \n",
       "7             married                 0      m       employee     0   \n",
       "8   civil partnership                 1      f       employee     0   \n",
       "9             married                 0      m       employee     0   \n",
       "10            married                 0      m       business     0   \n",
       "11            married                 0      f       employee     0   \n",
       "12  civil partnership                 1      m        retiree     0   \n",
       "13            married                 0      f       employee     0   \n",
       "14  civil partnership                 1      f       business     1   \n",
       "15            married                 0      f       employee     0   \n",
       "16            married                 0      f       employee     0   \n",
       "17  civil partnership                 1      m       employee     0   \n",
       "18    widow / widower                 2      f        retiree     0   \n",
       "19           divorced                 3      f       employee     0   \n",
       "20            married                 0      m       employee     0   \n",
       "21  civil partnership                 1      f       employee     0   \n",
       "22  civil partnership                 1      f       employee     0   \n",
       "23  civil partnership                 1      m       employee     0   \n",
       "24          unmarried                 4      f        retiree     0   \n",
       "25            married                 0      m        retiree     0   \n",
       "26            married                 0      m  civil servant     0   \n",
       "27            married                 0      m       employee     0   \n",
       "28            married                 0      f       employee     0   \n",
       "29          unmarried                 4      f        retiree     0   \n",
       "\n",
       "    total_income                                   purpose age_group  \n",
       "0      40620.102                     purchase of the house     40-49  \n",
       "1      17932.802                              car purchase     30-39  \n",
       "2      23341.752                     purchase of the house     30-39  \n",
       "3      42820.568                   supplementary education     30-39  \n",
       "4      25378.572                         to have a wedding     50-59  \n",
       "5      40922.170                     purchase of the house     20-29  \n",
       "6      38484.156                      housing transactions     40-49  \n",
       "7      21731.829                                 education     50-59  \n",
       "8      15337.093                          having a wedding     30-39  \n",
       "9      23108.150       purchase of the house for my family     40-49  \n",
       "10     18230.959                           buy real estate     30-39  \n",
       "11     12331.077                buy commercial real estate     40-49  \n",
       "12     18962.318                         to have a wedding       60+  \n",
       "13     20873.317                              car purchase     50-59  \n",
       "14     26420.466               buy residential real estate     50-59  \n",
       "15     18691.345              construction of own property     20-29  \n",
       "16     46272.433                                  property     30-39  \n",
       "17     14465.694                       building a property     30-39  \n",
       "18      9091.804                  buying a second-hand car     50-59  \n",
       "19     38852.977                         buying my own car     40-49  \n",
       "20     33528.423                                  property     30-39  \n",
       "21     21089.953                              car purchase     30-39  \n",
       "22     23948.983                  buying a second-hand car     20-29  \n",
       "23     20522.515                         to have a wedding     20-29  \n",
       "24     46487.558  transactions with commercial real estate     50-59  \n",
       "25      8818.041                           buy real estate       60+  \n",
       "26           NaN                                 education     40-49  \n",
       "27     49415.837              construction of own property     20-29  \n",
       "28     30058.118              construction of own property     20-29  \n",
       "29     18962.318                    building a real estate       60+  "
      ]
     },
     "execution_count": 64,
     "metadata": {},
     "output_type": "execute_result"
    }
   ],
   "source": [
    "llenar(\"retiree\", 18962.3180)\n",
    "banco.head(30)"
   ]
  },
  {
   "cell_type": "markdown",
   "metadata": {},
   "source": [
    "Observando las primeras 30 filas podemos notar que el valor de \"total income\" de la fila 12 que corresponde a un \"income_type\" de \"retiree\" fue llenado con el valor de mediana elegido, mientras que el valor de \"total_income\" de la fila 26 correspondiente a un \"income_type\" de \"civil_servant\" continua ausente. Con lo anterior comprobamos que la función creada actúa tal como se espera, rellenando los valores ausentes con el valor escogido y solo de las filas que correspondan al \"income_type\" elegido."
   ]
  },
  {
   "cell_type": "code",
   "execution_count": 66,
   "metadata": {},
   "outputs": [
    {
     "data": {
      "text/plain": [
       "0    None\n",
       "1    None\n",
       "2    None\n",
       "3    None\n",
       "4    None\n",
       "5    None\n",
       "6    None\n",
       "7    None\n",
       "dtype: object"
      ]
     },
     "execution_count": 66,
     "metadata": {},
     "output_type": "execute_result"
    }
   ],
   "source": [
    "income_pivot_median = banco_no_missing.pivot_table(index='income_type', values=\"total_income\", aggfunc='median')\n",
    "df_income_pivot_median = income_pivot_median.reset_index()\n",
    "df_income_pivot_median.apply(lambda x: llenar(x[\"income_type\"], x[\"total_income\"]), axis=1)"
   ]
  },
  {
   "cell_type": "code",
   "execution_count": 69,
   "metadata": {},
   "outputs": [
    {
     "data": {
      "text/html": [
       "<div>\n",
       "<style scoped>\n",
       "    .dataframe tbody tr th:only-of-type {\n",
       "        vertical-align: middle;\n",
       "    }\n",
       "\n",
       "    .dataframe tbody tr th {\n",
       "        vertical-align: top;\n",
       "    }\n",
       "\n",
       "    .dataframe thead th {\n",
       "        text-align: right;\n",
       "    }\n",
       "</style>\n",
       "<table border=\"1\" class=\"dataframe\">\n",
       "  <thead>\n",
       "    <tr style=\"text-align: right;\">\n",
       "      <th></th>\n",
       "      <th>children</th>\n",
       "      <th>days_employed</th>\n",
       "      <th>dob_years</th>\n",
       "      <th>education</th>\n",
       "      <th>education_id</th>\n",
       "      <th>family_status</th>\n",
       "      <th>family_status_id</th>\n",
       "      <th>gender</th>\n",
       "      <th>income_type</th>\n",
       "      <th>debt</th>\n",
       "      <th>total_income</th>\n",
       "      <th>purpose</th>\n",
       "      <th>age_group</th>\n",
       "    </tr>\n",
       "  </thead>\n",
       "  <tbody>\n",
       "    <tr>\n",
       "      <th>0</th>\n",
       "      <td>1</td>\n",
       "      <td>8438.0</td>\n",
       "      <td>42</td>\n",
       "      <td>bachelor's degree</td>\n",
       "      <td>0</td>\n",
       "      <td>married</td>\n",
       "      <td>0</td>\n",
       "      <td>f</td>\n",
       "      <td>employee</td>\n",
       "      <td>0</td>\n",
       "      <td>40620.1020</td>\n",
       "      <td>purchase of the house</td>\n",
       "      <td>40-49</td>\n",
       "    </tr>\n",
       "    <tr>\n",
       "      <th>1</th>\n",
       "      <td>1</td>\n",
       "      <td>4025.0</td>\n",
       "      <td>36</td>\n",
       "      <td>secondary education</td>\n",
       "      <td>1</td>\n",
       "      <td>married</td>\n",
       "      <td>0</td>\n",
       "      <td>f</td>\n",
       "      <td>employee</td>\n",
       "      <td>0</td>\n",
       "      <td>17932.8020</td>\n",
       "      <td>car purchase</td>\n",
       "      <td>30-39</td>\n",
       "    </tr>\n",
       "    <tr>\n",
       "      <th>2</th>\n",
       "      <td>0</td>\n",
       "      <td>5623.0</td>\n",
       "      <td>33</td>\n",
       "      <td>secondary education</td>\n",
       "      <td>1</td>\n",
       "      <td>married</td>\n",
       "      <td>0</td>\n",
       "      <td>m</td>\n",
       "      <td>employee</td>\n",
       "      <td>0</td>\n",
       "      <td>23341.7520</td>\n",
       "      <td>purchase of the house</td>\n",
       "      <td>30-39</td>\n",
       "    </tr>\n",
       "    <tr>\n",
       "      <th>3</th>\n",
       "      <td>3</td>\n",
       "      <td>4125.0</td>\n",
       "      <td>32</td>\n",
       "      <td>secondary education</td>\n",
       "      <td>1</td>\n",
       "      <td>married</td>\n",
       "      <td>0</td>\n",
       "      <td>m</td>\n",
       "      <td>employee</td>\n",
       "      <td>0</td>\n",
       "      <td>42820.5680</td>\n",
       "      <td>supplementary education</td>\n",
       "      <td>30-39</td>\n",
       "    </tr>\n",
       "    <tr>\n",
       "      <th>4</th>\n",
       "      <td>0</td>\n",
       "      <td>340266.0</td>\n",
       "      <td>53</td>\n",
       "      <td>secondary education</td>\n",
       "      <td>1</td>\n",
       "      <td>civil partnership</td>\n",
       "      <td>1</td>\n",
       "      <td>f</td>\n",
       "      <td>retiree</td>\n",
       "      <td>0</td>\n",
       "      <td>25378.5720</td>\n",
       "      <td>to have a wedding</td>\n",
       "      <td>50-59</td>\n",
       "    </tr>\n",
       "    <tr>\n",
       "      <th>5</th>\n",
       "      <td>0</td>\n",
       "      <td>926.0</td>\n",
       "      <td>27</td>\n",
       "      <td>bachelor's degree</td>\n",
       "      <td>0</td>\n",
       "      <td>civil partnership</td>\n",
       "      <td>1</td>\n",
       "      <td>m</td>\n",
       "      <td>business</td>\n",
       "      <td>0</td>\n",
       "      <td>40922.1700</td>\n",
       "      <td>purchase of the house</td>\n",
       "      <td>20-29</td>\n",
       "    </tr>\n",
       "    <tr>\n",
       "      <th>6</th>\n",
       "      <td>0</td>\n",
       "      <td>2879.0</td>\n",
       "      <td>43</td>\n",
       "      <td>bachelor's degree</td>\n",
       "      <td>0</td>\n",
       "      <td>married</td>\n",
       "      <td>0</td>\n",
       "      <td>f</td>\n",
       "      <td>business</td>\n",
       "      <td>0</td>\n",
       "      <td>38484.1560</td>\n",
       "      <td>housing transactions</td>\n",
       "      <td>40-49</td>\n",
       "    </tr>\n",
       "    <tr>\n",
       "      <th>7</th>\n",
       "      <td>0</td>\n",
       "      <td>153.0</td>\n",
       "      <td>50</td>\n",
       "      <td>secondary education</td>\n",
       "      <td>1</td>\n",
       "      <td>married</td>\n",
       "      <td>0</td>\n",
       "      <td>m</td>\n",
       "      <td>employee</td>\n",
       "      <td>0</td>\n",
       "      <td>21731.8290</td>\n",
       "      <td>education</td>\n",
       "      <td>50-59</td>\n",
       "    </tr>\n",
       "    <tr>\n",
       "      <th>8</th>\n",
       "      <td>2</td>\n",
       "      <td>6930.0</td>\n",
       "      <td>35</td>\n",
       "      <td>bachelor's degree</td>\n",
       "      <td>0</td>\n",
       "      <td>civil partnership</td>\n",
       "      <td>1</td>\n",
       "      <td>f</td>\n",
       "      <td>employee</td>\n",
       "      <td>0</td>\n",
       "      <td>15337.0930</td>\n",
       "      <td>having a wedding</td>\n",
       "      <td>30-39</td>\n",
       "    </tr>\n",
       "    <tr>\n",
       "      <th>9</th>\n",
       "      <td>0</td>\n",
       "      <td>2189.0</td>\n",
       "      <td>41</td>\n",
       "      <td>secondary education</td>\n",
       "      <td>1</td>\n",
       "      <td>married</td>\n",
       "      <td>0</td>\n",
       "      <td>m</td>\n",
       "      <td>employee</td>\n",
       "      <td>0</td>\n",
       "      <td>23108.1500</td>\n",
       "      <td>purchase of the house for my family</td>\n",
       "      <td>40-49</td>\n",
       "    </tr>\n",
       "    <tr>\n",
       "      <th>10</th>\n",
       "      <td>2</td>\n",
       "      <td>4171.0</td>\n",
       "      <td>36</td>\n",
       "      <td>bachelor's degree</td>\n",
       "      <td>0</td>\n",
       "      <td>married</td>\n",
       "      <td>0</td>\n",
       "      <td>m</td>\n",
       "      <td>business</td>\n",
       "      <td>0</td>\n",
       "      <td>18230.9590</td>\n",
       "      <td>buy real estate</td>\n",
       "      <td>30-39</td>\n",
       "    </tr>\n",
       "    <tr>\n",
       "      <th>11</th>\n",
       "      <td>0</td>\n",
       "      <td>793.0</td>\n",
       "      <td>40</td>\n",
       "      <td>secondary education</td>\n",
       "      <td>1</td>\n",
       "      <td>married</td>\n",
       "      <td>0</td>\n",
       "      <td>f</td>\n",
       "      <td>employee</td>\n",
       "      <td>0</td>\n",
       "      <td>12331.0770</td>\n",
       "      <td>buy commercial real estate</td>\n",
       "      <td>40-49</td>\n",
       "    </tr>\n",
       "    <tr>\n",
       "      <th>12</th>\n",
       "      <td>0</td>\n",
       "      <td>NaN</td>\n",
       "      <td>65</td>\n",
       "      <td>secondary education</td>\n",
       "      <td>1</td>\n",
       "      <td>civil partnership</td>\n",
       "      <td>1</td>\n",
       "      <td>m</td>\n",
       "      <td>retiree</td>\n",
       "      <td>0</td>\n",
       "      <td>18962.3180</td>\n",
       "      <td>to have a wedding</td>\n",
       "      <td>60+</td>\n",
       "    </tr>\n",
       "    <tr>\n",
       "      <th>13</th>\n",
       "      <td>0</td>\n",
       "      <td>1847.0</td>\n",
       "      <td>54</td>\n",
       "      <td>some college</td>\n",
       "      <td>2</td>\n",
       "      <td>married</td>\n",
       "      <td>0</td>\n",
       "      <td>f</td>\n",
       "      <td>employee</td>\n",
       "      <td>0</td>\n",
       "      <td>20873.3170</td>\n",
       "      <td>car purchase</td>\n",
       "      <td>50-59</td>\n",
       "    </tr>\n",
       "    <tr>\n",
       "      <th>14</th>\n",
       "      <td>0</td>\n",
       "      <td>1845.0</td>\n",
       "      <td>56</td>\n",
       "      <td>bachelor's degree</td>\n",
       "      <td>0</td>\n",
       "      <td>civil partnership</td>\n",
       "      <td>1</td>\n",
       "      <td>f</td>\n",
       "      <td>business</td>\n",
       "      <td>1</td>\n",
       "      <td>26420.4660</td>\n",
       "      <td>buy residential real estate</td>\n",
       "      <td>50-59</td>\n",
       "    </tr>\n",
       "    <tr>\n",
       "      <th>15</th>\n",
       "      <td>1</td>\n",
       "      <td>972.0</td>\n",
       "      <td>26</td>\n",
       "      <td>secondary education</td>\n",
       "      <td>1</td>\n",
       "      <td>married</td>\n",
       "      <td>0</td>\n",
       "      <td>f</td>\n",
       "      <td>employee</td>\n",
       "      <td>0</td>\n",
       "      <td>18691.3450</td>\n",
       "      <td>construction of own property</td>\n",
       "      <td>20-29</td>\n",
       "    </tr>\n",
       "    <tr>\n",
       "      <th>16</th>\n",
       "      <td>0</td>\n",
       "      <td>1720.0</td>\n",
       "      <td>35</td>\n",
       "      <td>secondary education</td>\n",
       "      <td>1</td>\n",
       "      <td>married</td>\n",
       "      <td>0</td>\n",
       "      <td>f</td>\n",
       "      <td>employee</td>\n",
       "      <td>0</td>\n",
       "      <td>46272.4330</td>\n",
       "      <td>property</td>\n",
       "      <td>30-39</td>\n",
       "    </tr>\n",
       "    <tr>\n",
       "      <th>17</th>\n",
       "      <td>0</td>\n",
       "      <td>2370.0</td>\n",
       "      <td>33</td>\n",
       "      <td>bachelor's degree</td>\n",
       "      <td>0</td>\n",
       "      <td>civil partnership</td>\n",
       "      <td>1</td>\n",
       "      <td>m</td>\n",
       "      <td>employee</td>\n",
       "      <td>0</td>\n",
       "      <td>14465.6940</td>\n",
       "      <td>building a property</td>\n",
       "      <td>30-39</td>\n",
       "    </tr>\n",
       "    <tr>\n",
       "      <th>18</th>\n",
       "      <td>0</td>\n",
       "      <td>400281.0</td>\n",
       "      <td>53</td>\n",
       "      <td>secondary education</td>\n",
       "      <td>1</td>\n",
       "      <td>widow / widower</td>\n",
       "      <td>2</td>\n",
       "      <td>f</td>\n",
       "      <td>retiree</td>\n",
       "      <td>0</td>\n",
       "      <td>9091.8040</td>\n",
       "      <td>buying a second-hand car</td>\n",
       "      <td>50-59</td>\n",
       "    </tr>\n",
       "    <tr>\n",
       "      <th>19</th>\n",
       "      <td>0</td>\n",
       "      <td>10039.0</td>\n",
       "      <td>48</td>\n",
       "      <td>secondary education</td>\n",
       "      <td>1</td>\n",
       "      <td>divorced</td>\n",
       "      <td>3</td>\n",
       "      <td>f</td>\n",
       "      <td>employee</td>\n",
       "      <td>0</td>\n",
       "      <td>38852.9770</td>\n",
       "      <td>buying my own car</td>\n",
       "      <td>40-49</td>\n",
       "    </tr>\n",
       "    <tr>\n",
       "      <th>20</th>\n",
       "      <td>1</td>\n",
       "      <td>1312.0</td>\n",
       "      <td>36</td>\n",
       "      <td>secondary education</td>\n",
       "      <td>1</td>\n",
       "      <td>married</td>\n",
       "      <td>0</td>\n",
       "      <td>m</td>\n",
       "      <td>employee</td>\n",
       "      <td>0</td>\n",
       "      <td>33528.4230</td>\n",
       "      <td>property</td>\n",
       "      <td>30-39</td>\n",
       "    </tr>\n",
       "    <tr>\n",
       "      <th>21</th>\n",
       "      <td>1</td>\n",
       "      <td>254.0</td>\n",
       "      <td>33</td>\n",
       "      <td>secondary education</td>\n",
       "      <td>1</td>\n",
       "      <td>civil partnership</td>\n",
       "      <td>1</td>\n",
       "      <td>f</td>\n",
       "      <td>employee</td>\n",
       "      <td>0</td>\n",
       "      <td>21089.9530</td>\n",
       "      <td>car purchase</td>\n",
       "      <td>30-39</td>\n",
       "    </tr>\n",
       "    <tr>\n",
       "      <th>22</th>\n",
       "      <td>1</td>\n",
       "      <td>1767.0</td>\n",
       "      <td>24</td>\n",
       "      <td>secondary education</td>\n",
       "      <td>1</td>\n",
       "      <td>civil partnership</td>\n",
       "      <td>1</td>\n",
       "      <td>f</td>\n",
       "      <td>employee</td>\n",
       "      <td>0</td>\n",
       "      <td>23948.9830</td>\n",
       "      <td>buying a second-hand car</td>\n",
       "      <td>20-29</td>\n",
       "    </tr>\n",
       "    <tr>\n",
       "      <th>23</th>\n",
       "      <td>0</td>\n",
       "      <td>273.0</td>\n",
       "      <td>21</td>\n",
       "      <td>bachelor's degree</td>\n",
       "      <td>0</td>\n",
       "      <td>civil partnership</td>\n",
       "      <td>1</td>\n",
       "      <td>m</td>\n",
       "      <td>employee</td>\n",
       "      <td>0</td>\n",
       "      <td>20522.5150</td>\n",
       "      <td>to have a wedding</td>\n",
       "      <td>20-29</td>\n",
       "    </tr>\n",
       "    <tr>\n",
       "      <th>24</th>\n",
       "      <td>1</td>\n",
       "      <td>338552.0</td>\n",
       "      <td>57</td>\n",
       "      <td>secondary education</td>\n",
       "      <td>1</td>\n",
       "      <td>unmarried</td>\n",
       "      <td>4</td>\n",
       "      <td>f</td>\n",
       "      <td>retiree</td>\n",
       "      <td>0</td>\n",
       "      <td>46487.5580</td>\n",
       "      <td>transactions with commercial real estate</td>\n",
       "      <td>50-59</td>\n",
       "    </tr>\n",
       "    <tr>\n",
       "      <th>25</th>\n",
       "      <td>0</td>\n",
       "      <td>363548.0</td>\n",
       "      <td>67</td>\n",
       "      <td>secondary education</td>\n",
       "      <td>1</td>\n",
       "      <td>married</td>\n",
       "      <td>0</td>\n",
       "      <td>m</td>\n",
       "      <td>retiree</td>\n",
       "      <td>0</td>\n",
       "      <td>8818.0410</td>\n",
       "      <td>buy real estate</td>\n",
       "      <td>60+</td>\n",
       "    </tr>\n",
       "    <tr>\n",
       "      <th>26</th>\n",
       "      <td>0</td>\n",
       "      <td>NaN</td>\n",
       "      <td>41</td>\n",
       "      <td>secondary education</td>\n",
       "      <td>1</td>\n",
       "      <td>married</td>\n",
       "      <td>0</td>\n",
       "      <td>m</td>\n",
       "      <td>civil servant</td>\n",
       "      <td>0</td>\n",
       "      <td>24071.6695</td>\n",
       "      <td>education</td>\n",
       "      <td>40-49</td>\n",
       "    </tr>\n",
       "    <tr>\n",
       "      <th>27</th>\n",
       "      <td>0</td>\n",
       "      <td>529.0</td>\n",
       "      <td>28</td>\n",
       "      <td>bachelor's degree</td>\n",
       "      <td>0</td>\n",
       "      <td>married</td>\n",
       "      <td>0</td>\n",
       "      <td>m</td>\n",
       "      <td>employee</td>\n",
       "      <td>0</td>\n",
       "      <td>49415.8370</td>\n",
       "      <td>construction of own property</td>\n",
       "      <td>20-29</td>\n",
       "    </tr>\n",
       "    <tr>\n",
       "      <th>28</th>\n",
       "      <td>1</td>\n",
       "      <td>717.0</td>\n",
       "      <td>26</td>\n",
       "      <td>bachelor's degree</td>\n",
       "      <td>0</td>\n",
       "      <td>married</td>\n",
       "      <td>0</td>\n",
       "      <td>f</td>\n",
       "      <td>employee</td>\n",
       "      <td>0</td>\n",
       "      <td>30058.1180</td>\n",
       "      <td>construction of own property</td>\n",
       "      <td>20-29</td>\n",
       "    </tr>\n",
       "    <tr>\n",
       "      <th>29</th>\n",
       "      <td>0</td>\n",
       "      <td>NaN</td>\n",
       "      <td>63</td>\n",
       "      <td>secondary education</td>\n",
       "      <td>1</td>\n",
       "      <td>unmarried</td>\n",
       "      <td>4</td>\n",
       "      <td>f</td>\n",
       "      <td>retiree</td>\n",
       "      <td>0</td>\n",
       "      <td>18962.3180</td>\n",
       "      <td>building a real estate</td>\n",
       "      <td>60+</td>\n",
       "    </tr>\n",
       "    <tr>\n",
       "      <th>30</th>\n",
       "      <td>1</td>\n",
       "      <td>335582.0</td>\n",
       "      <td>62</td>\n",
       "      <td>secondary education</td>\n",
       "      <td>1</td>\n",
       "      <td>married</td>\n",
       "      <td>0</td>\n",
       "      <td>f</td>\n",
       "      <td>retiree</td>\n",
       "      <td>0</td>\n",
       "      <td>27432.9710</td>\n",
       "      <td>transactions with commercial real estate</td>\n",
       "      <td>60+</td>\n",
       "    </tr>\n",
       "    <tr>\n",
       "      <th>31</th>\n",
       "      <td>0</td>\n",
       "      <td>1682.0</td>\n",
       "      <td>47</td>\n",
       "      <td>primary education</td>\n",
       "      <td>3</td>\n",
       "      <td>married</td>\n",
       "      <td>0</td>\n",
       "      <td>f</td>\n",
       "      <td>employee</td>\n",
       "      <td>0</td>\n",
       "      <td>44077.7100</td>\n",
       "      <td>housing</td>\n",
       "      <td>40-49</td>\n",
       "    </tr>\n",
       "    <tr>\n",
       "      <th>32</th>\n",
       "      <td>0</td>\n",
       "      <td>4650.0</td>\n",
       "      <td>34</td>\n",
       "      <td>secondary education</td>\n",
       "      <td>1</td>\n",
       "      <td>civil partnership</td>\n",
       "      <td>1</td>\n",
       "      <td>f</td>\n",
       "      <td>employee</td>\n",
       "      <td>1</td>\n",
       "      <td>22249.1940</td>\n",
       "      <td>having a wedding</td>\n",
       "      <td>30-39</td>\n",
       "    </tr>\n",
       "    <tr>\n",
       "      <th>33</th>\n",
       "      <td>0</td>\n",
       "      <td>1549.0</td>\n",
       "      <td>48</td>\n",
       "      <td>secondary education</td>\n",
       "      <td>1</td>\n",
       "      <td>married</td>\n",
       "      <td>0</td>\n",
       "      <td>f</td>\n",
       "      <td>business</td>\n",
       "      <td>0</td>\n",
       "      <td>25159.3260</td>\n",
       "      <td>purchase of the house</td>\n",
       "      <td>40-49</td>\n",
       "    </tr>\n",
       "    <tr>\n",
       "      <th>34</th>\n",
       "      <td>0</td>\n",
       "      <td>4488.0</td>\n",
       "      <td>35</td>\n",
       "      <td>secondary education</td>\n",
       "      <td>1</td>\n",
       "      <td>married</td>\n",
       "      <td>0</td>\n",
       "      <td>f</td>\n",
       "      <td>employee</td>\n",
       "      <td>0</td>\n",
       "      <td>16745.6720</td>\n",
       "      <td>transactions with my real estate</td>\n",
       "      <td>30-39</td>\n",
       "    </tr>\n",
       "    <tr>\n",
       "      <th>35</th>\n",
       "      <td>0</td>\n",
       "      <td>394021.0</td>\n",
       "      <td>68</td>\n",
       "      <td>secondary education</td>\n",
       "      <td>1</td>\n",
       "      <td>civil partnership</td>\n",
       "      <td>1</td>\n",
       "      <td>m</td>\n",
       "      <td>retiree</td>\n",
       "      <td>0</td>\n",
       "      <td>12448.9080</td>\n",
       "      <td>having a wedding</td>\n",
       "      <td>60+</td>\n",
       "    </tr>\n",
       "    <tr>\n",
       "      <th>36</th>\n",
       "      <td>0</td>\n",
       "      <td>176.0</td>\n",
       "      <td>33</td>\n",
       "      <td>secondary education</td>\n",
       "      <td>1</td>\n",
       "      <td>unmarried</td>\n",
       "      <td>4</td>\n",
       "      <td>m</td>\n",
       "      <td>employee</td>\n",
       "      <td>0</td>\n",
       "      <td>22212.9040</td>\n",
       "      <td>cars</td>\n",
       "      <td>30-39</td>\n",
       "    </tr>\n",
       "    <tr>\n",
       "      <th>37</th>\n",
       "      <td>0</td>\n",
       "      <td>6449.0</td>\n",
       "      <td>43</td>\n",
       "      <td>bachelor's degree</td>\n",
       "      <td>0</td>\n",
       "      <td>civil partnership</td>\n",
       "      <td>1</td>\n",
       "      <td>f</td>\n",
       "      <td>business</td>\n",
       "      <td>0</td>\n",
       "      <td>24660.6210</td>\n",
       "      <td>car purchase</td>\n",
       "      <td>40-49</td>\n",
       "    </tr>\n",
       "    <tr>\n",
       "      <th>38</th>\n",
       "      <td>0</td>\n",
       "      <td>598.0</td>\n",
       "      <td>25</td>\n",
       "      <td>bachelor's degree</td>\n",
       "      <td>0</td>\n",
       "      <td>unmarried</td>\n",
       "      <td>4</td>\n",
       "      <td>m</td>\n",
       "      <td>employee</td>\n",
       "      <td>1</td>\n",
       "      <td>30759.5680</td>\n",
       "      <td>education</td>\n",
       "      <td>20-29</td>\n",
       "    </tr>\n",
       "    <tr>\n",
       "      <th>39</th>\n",
       "      <td>0</td>\n",
       "      <td>651.0</td>\n",
       "      <td>31</td>\n",
       "      <td>bachelor's degree</td>\n",
       "      <td>0</td>\n",
       "      <td>civil partnership</td>\n",
       "      <td>1</td>\n",
       "      <td>f</td>\n",
       "      <td>business</td>\n",
       "      <td>0</td>\n",
       "      <td>120678.5280</td>\n",
       "      <td>to become educated</td>\n",
       "      <td>30-39</td>\n",
       "    </tr>\n",
       "    <tr>\n",
       "      <th>40</th>\n",
       "      <td>0</td>\n",
       "      <td>1030.0</td>\n",
       "      <td>30</td>\n",
       "      <td>secondary education</td>\n",
       "      <td>1</td>\n",
       "      <td>unmarried</td>\n",
       "      <td>4</td>\n",
       "      <td>m</td>\n",
       "      <td>business</td>\n",
       "      <td>0</td>\n",
       "      <td>22858.4930</td>\n",
       "      <td>buy real estate</td>\n",
       "      <td>30-39</td>\n",
       "    </tr>\n",
       "    <tr>\n",
       "      <th>41</th>\n",
       "      <td>0</td>\n",
       "      <td>NaN</td>\n",
       "      <td>50</td>\n",
       "      <td>secondary education</td>\n",
       "      <td>1</td>\n",
       "      <td>married</td>\n",
       "      <td>0</td>\n",
       "      <td>f</td>\n",
       "      <td>civil servant</td>\n",
       "      <td>0</td>\n",
       "      <td>24071.6695</td>\n",
       "      <td>second-hand car purchase</td>\n",
       "      <td>50-59</td>\n",
       "    </tr>\n",
       "    <tr>\n",
       "      <th>42</th>\n",
       "      <td>0</td>\n",
       "      <td>1257.0</td>\n",
       "      <td>20</td>\n",
       "      <td>some college</td>\n",
       "      <td>2</td>\n",
       "      <td>unmarried</td>\n",
       "      <td>4</td>\n",
       "      <td>f</td>\n",
       "      <td>employee</td>\n",
       "      <td>0</td>\n",
       "      <td>13130.4140</td>\n",
       "      <td>getting an education</td>\n",
       "      <td>20-29</td>\n",
       "    </tr>\n",
       "    <tr>\n",
       "      <th>43</th>\n",
       "      <td>0</td>\n",
       "      <td>4376.0</td>\n",
       "      <td>43</td>\n",
       "      <td>some college</td>\n",
       "      <td>2</td>\n",
       "      <td>divorced</td>\n",
       "      <td>3</td>\n",
       "      <td>f</td>\n",
       "      <td>business</td>\n",
       "      <td>0</td>\n",
       "      <td>43673.1410</td>\n",
       "      <td>car purchase</td>\n",
       "      <td>40-49</td>\n",
       "    </tr>\n",
       "    <tr>\n",
       "      <th>44</th>\n",
       "      <td>1</td>\n",
       "      <td>1362.0</td>\n",
       "      <td>26</td>\n",
       "      <td>secondary education</td>\n",
       "      <td>1</td>\n",
       "      <td>married</td>\n",
       "      <td>0</td>\n",
       "      <td>f</td>\n",
       "      <td>employee</td>\n",
       "      <td>0</td>\n",
       "      <td>16124.8790</td>\n",
       "      <td>buying my own car</td>\n",
       "      <td>20-29</td>\n",
       "    </tr>\n",
       "    <tr>\n",
       "      <th>45</th>\n",
       "      <td>1</td>\n",
       "      <td>1039.0</td>\n",
       "      <td>49</td>\n",
       "      <td>secondary education</td>\n",
       "      <td>1</td>\n",
       "      <td>unmarried</td>\n",
       "      <td>4</td>\n",
       "      <td>f</td>\n",
       "      <td>employee</td>\n",
       "      <td>0</td>\n",
       "      <td>17021.7470</td>\n",
       "      <td>to become educated</td>\n",
       "      <td>40-49</td>\n",
       "    </tr>\n",
       "    <tr>\n",
       "      <th>46</th>\n",
       "      <td>2</td>\n",
       "      <td>2263.0</td>\n",
       "      <td>37</td>\n",
       "      <td>secondary education</td>\n",
       "      <td>1</td>\n",
       "      <td>married</td>\n",
       "      <td>0</td>\n",
       "      <td>f</td>\n",
       "      <td>business</td>\n",
       "      <td>0</td>\n",
       "      <td>29229.1940</td>\n",
       "      <td>second-hand car purchase</td>\n",
       "      <td>30-39</td>\n",
       "    </tr>\n",
       "    <tr>\n",
       "      <th>47</th>\n",
       "      <td>1</td>\n",
       "      <td>2689.0</td>\n",
       "      <td>33</td>\n",
       "      <td>bachelor's degree</td>\n",
       "      <td>0</td>\n",
       "      <td>civil partnership</td>\n",
       "      <td>1</td>\n",
       "      <td>m</td>\n",
       "      <td>civil servant</td>\n",
       "      <td>0</td>\n",
       "      <td>57004.4650</td>\n",
       "      <td>having a wedding</td>\n",
       "      <td>30-39</td>\n",
       "    </tr>\n",
       "    <tr>\n",
       "      <th>48</th>\n",
       "      <td>0</td>\n",
       "      <td>3341.0</td>\n",
       "      <td>45</td>\n",
       "      <td>secondary education</td>\n",
       "      <td>1</td>\n",
       "      <td>married</td>\n",
       "      <td>0</td>\n",
       "      <td>f</td>\n",
       "      <td>employee</td>\n",
       "      <td>0</td>\n",
       "      <td>25930.4830</td>\n",
       "      <td>construction of own property</td>\n",
       "      <td>40-49</td>\n",
       "    </tr>\n",
       "    <tr>\n",
       "      <th>49</th>\n",
       "      <td>0</td>\n",
       "      <td>1181.0</td>\n",
       "      <td>54</td>\n",
       "      <td>secondary education</td>\n",
       "      <td>1</td>\n",
       "      <td>married</td>\n",
       "      <td>0</td>\n",
       "      <td>f</td>\n",
       "      <td>employee</td>\n",
       "      <td>0</td>\n",
       "      <td>7134.6890</td>\n",
       "      <td>car</td>\n",
       "      <td>50-59</td>\n",
       "    </tr>\n",
       "    <tr>\n",
       "      <th>50</th>\n",
       "      <td>0</td>\n",
       "      <td>353731.0</td>\n",
       "      <td>63</td>\n",
       "      <td>secondary education</td>\n",
       "      <td>1</td>\n",
       "      <td>married</td>\n",
       "      <td>0</td>\n",
       "      <td>f</td>\n",
       "      <td>retiree</td>\n",
       "      <td>0</td>\n",
       "      <td>14774.8370</td>\n",
       "      <td>cars</td>\n",
       "      <td>60+</td>\n",
       "    </tr>\n",
       "    <tr>\n",
       "      <th>51</th>\n",
       "      <td>1</td>\n",
       "      <td>6954.0</td>\n",
       "      <td>50</td>\n",
       "      <td>bachelor's degree</td>\n",
       "      <td>0</td>\n",
       "      <td>civil partnership</td>\n",
       "      <td>1</td>\n",
       "      <td>f</td>\n",
       "      <td>employee</td>\n",
       "      <td>0</td>\n",
       "      <td>32511.9490</td>\n",
       "      <td>wedding ceremony</td>\n",
       "      <td>50-59</td>\n",
       "    </tr>\n",
       "    <tr>\n",
       "      <th>52</th>\n",
       "      <td>1</td>\n",
       "      <td>3555.0</td>\n",
       "      <td>28</td>\n",
       "      <td>secondary education</td>\n",
       "      <td>1</td>\n",
       "      <td>married</td>\n",
       "      <td>0</td>\n",
       "      <td>f</td>\n",
       "      <td>employee</td>\n",
       "      <td>0</td>\n",
       "      <td>8439.4280</td>\n",
       "      <td>to get a supplementary education</td>\n",
       "      <td>20-29</td>\n",
       "    </tr>\n",
       "    <tr>\n",
       "      <th>53</th>\n",
       "      <td>0</td>\n",
       "      <td>4220.0</td>\n",
       "      <td>61</td>\n",
       "      <td>secondary education</td>\n",
       "      <td>1</td>\n",
       "      <td>divorced</td>\n",
       "      <td>3</td>\n",
       "      <td>f</td>\n",
       "      <td>business</td>\n",
       "      <td>0</td>\n",
       "      <td>49832.5760</td>\n",
       "      <td>purchase of my own house</td>\n",
       "      <td>60+</td>\n",
       "    </tr>\n",
       "    <tr>\n",
       "      <th>54</th>\n",
       "      <td>0</td>\n",
       "      <td>3480.0</td>\n",
       "      <td>27</td>\n",
       "      <td>bachelor's degree</td>\n",
       "      <td>0</td>\n",
       "      <td>civil partnership</td>\n",
       "      <td>1</td>\n",
       "      <td>f</td>\n",
       "      <td>employee</td>\n",
       "      <td>0</td>\n",
       "      <td>14758.2100</td>\n",
       "      <td>cars</td>\n",
       "      <td>20-29</td>\n",
       "    </tr>\n",
       "    <tr>\n",
       "      <th>55</th>\n",
       "      <td>0</td>\n",
       "      <td>NaN</td>\n",
       "      <td>54</td>\n",
       "      <td>secondary education</td>\n",
       "      <td>1</td>\n",
       "      <td>civil partnership</td>\n",
       "      <td>1</td>\n",
       "      <td>f</td>\n",
       "      <td>retiree</td>\n",
       "      <td>1</td>\n",
       "      <td>18962.3180</td>\n",
       "      <td>to have a wedding</td>\n",
       "      <td>50-59</td>\n",
       "    </tr>\n",
       "    <tr>\n",
       "      <th>56</th>\n",
       "      <td>0</td>\n",
       "      <td>370145.0</td>\n",
       "      <td>64</td>\n",
       "      <td>secondary education</td>\n",
       "      <td>1</td>\n",
       "      <td>widow / widower</td>\n",
       "      <td>2</td>\n",
       "      <td>f</td>\n",
       "      <td>retiree</td>\n",
       "      <td>0</td>\n",
       "      <td>23862.5670</td>\n",
       "      <td>education</td>\n",
       "      <td>60+</td>\n",
       "    </tr>\n",
       "    <tr>\n",
       "      <th>57</th>\n",
       "      <td>0</td>\n",
       "      <td>2425.0</td>\n",
       "      <td>44</td>\n",
       "      <td>secondary education</td>\n",
       "      <td>1</td>\n",
       "      <td>widow / widower</td>\n",
       "      <td>2</td>\n",
       "      <td>f</td>\n",
       "      <td>employee</td>\n",
       "      <td>0</td>\n",
       "      <td>9378.6250</td>\n",
       "      <td>education</td>\n",
       "      <td>40-49</td>\n",
       "    </tr>\n",
       "    <tr>\n",
       "      <th>58</th>\n",
       "      <td>0</td>\n",
       "      <td>335.0</td>\n",
       "      <td>36</td>\n",
       "      <td>bachelor's degree</td>\n",
       "      <td>0</td>\n",
       "      <td>married</td>\n",
       "      <td>0</td>\n",
       "      <td>m</td>\n",
       "      <td>employee</td>\n",
       "      <td>0</td>\n",
       "      <td>66304.6720</td>\n",
       "      <td>property</td>\n",
       "      <td>30-39</td>\n",
       "    </tr>\n",
       "    <tr>\n",
       "      <th>59</th>\n",
       "      <td>0</td>\n",
       "      <td>4342.0</td>\n",
       "      <td>53</td>\n",
       "      <td>secondary education</td>\n",
       "      <td>1</td>\n",
       "      <td>civil partnership</td>\n",
       "      <td>1</td>\n",
       "      <td>f</td>\n",
       "      <td>business</td>\n",
       "      <td>0</td>\n",
       "      <td>41819.1210</td>\n",
       "      <td>real estate transactions</td>\n",
       "      <td>50-59</td>\n",
       "    </tr>\n",
       "  </tbody>\n",
       "</table>\n",
       "</div>"
      ],
      "text/plain": [
       "    children  days_employed  dob_years            education  education_id  \\\n",
       "0          1         8438.0         42    bachelor's degree             0   \n",
       "1          1         4025.0         36  secondary education             1   \n",
       "2          0         5623.0         33  secondary education             1   \n",
       "3          3         4125.0         32  secondary education             1   \n",
       "4          0       340266.0         53  secondary education             1   \n",
       "5          0          926.0         27    bachelor's degree             0   \n",
       "6          0         2879.0         43    bachelor's degree             0   \n",
       "7          0          153.0         50  secondary education             1   \n",
       "8          2         6930.0         35    bachelor's degree             0   \n",
       "9          0         2189.0         41  secondary education             1   \n",
       "10         2         4171.0         36    bachelor's degree             0   \n",
       "11         0          793.0         40  secondary education             1   \n",
       "12         0            NaN         65  secondary education             1   \n",
       "13         0         1847.0         54         some college             2   \n",
       "14         0         1845.0         56    bachelor's degree             0   \n",
       "15         1          972.0         26  secondary education             1   \n",
       "16         0         1720.0         35  secondary education             1   \n",
       "17         0         2370.0         33    bachelor's degree             0   \n",
       "18         0       400281.0         53  secondary education             1   \n",
       "19         0        10039.0         48  secondary education             1   \n",
       "20         1         1312.0         36  secondary education             1   \n",
       "21         1          254.0         33  secondary education             1   \n",
       "22         1         1767.0         24  secondary education             1   \n",
       "23         0          273.0         21    bachelor's degree             0   \n",
       "24         1       338552.0         57  secondary education             1   \n",
       "25         0       363548.0         67  secondary education             1   \n",
       "26         0            NaN         41  secondary education             1   \n",
       "27         0          529.0         28    bachelor's degree             0   \n",
       "28         1          717.0         26    bachelor's degree             0   \n",
       "29         0            NaN         63  secondary education             1   \n",
       "30         1       335582.0         62  secondary education             1   \n",
       "31         0         1682.0         47    primary education             3   \n",
       "32         0         4650.0         34  secondary education             1   \n",
       "33         0         1549.0         48  secondary education             1   \n",
       "34         0         4488.0         35  secondary education             1   \n",
       "35         0       394021.0         68  secondary education             1   \n",
       "36         0          176.0         33  secondary education             1   \n",
       "37         0         6449.0         43    bachelor's degree             0   \n",
       "38         0          598.0         25    bachelor's degree             0   \n",
       "39         0          651.0         31    bachelor's degree             0   \n",
       "40         0         1030.0         30  secondary education             1   \n",
       "41         0            NaN         50  secondary education             1   \n",
       "42         0         1257.0         20         some college             2   \n",
       "43         0         4376.0         43         some college             2   \n",
       "44         1         1362.0         26  secondary education             1   \n",
       "45         1         1039.0         49  secondary education             1   \n",
       "46         2         2263.0         37  secondary education             1   \n",
       "47         1         2689.0         33    bachelor's degree             0   \n",
       "48         0         3341.0         45  secondary education             1   \n",
       "49         0         1181.0         54  secondary education             1   \n",
       "50         0       353731.0         63  secondary education             1   \n",
       "51         1         6954.0         50    bachelor's degree             0   \n",
       "52         1         3555.0         28  secondary education             1   \n",
       "53         0         4220.0         61  secondary education             1   \n",
       "54         0         3480.0         27    bachelor's degree             0   \n",
       "55         0            NaN         54  secondary education             1   \n",
       "56         0       370145.0         64  secondary education             1   \n",
       "57         0         2425.0         44  secondary education             1   \n",
       "58         0          335.0         36    bachelor's degree             0   \n",
       "59         0         4342.0         53  secondary education             1   \n",
       "\n",
       "        family_status  family_status_id gender    income_type  debt  \\\n",
       "0             married                 0      f       employee     0   \n",
       "1             married                 0      f       employee     0   \n",
       "2             married                 0      m       employee     0   \n",
       "3             married                 0      m       employee     0   \n",
       "4   civil partnership                 1      f        retiree     0   \n",
       "5   civil partnership                 1      m       business     0   \n",
       "6             married                 0      f       business     0   \n",
       "7             married                 0      m       employee     0   \n",
       "8   civil partnership                 1      f       employee     0   \n",
       "9             married                 0      m       employee     0   \n",
       "10            married                 0      m       business     0   \n",
       "11            married                 0      f       employee     0   \n",
       "12  civil partnership                 1      m        retiree     0   \n",
       "13            married                 0      f       employee     0   \n",
       "14  civil partnership                 1      f       business     1   \n",
       "15            married                 0      f       employee     0   \n",
       "16            married                 0      f       employee     0   \n",
       "17  civil partnership                 1      m       employee     0   \n",
       "18    widow / widower                 2      f        retiree     0   \n",
       "19           divorced                 3      f       employee     0   \n",
       "20            married                 0      m       employee     0   \n",
       "21  civil partnership                 1      f       employee     0   \n",
       "22  civil partnership                 1      f       employee     0   \n",
       "23  civil partnership                 1      m       employee     0   \n",
       "24          unmarried                 4      f        retiree     0   \n",
       "25            married                 0      m        retiree     0   \n",
       "26            married                 0      m  civil servant     0   \n",
       "27            married                 0      m       employee     0   \n",
       "28            married                 0      f       employee     0   \n",
       "29          unmarried                 4      f        retiree     0   \n",
       "30            married                 0      f        retiree     0   \n",
       "31            married                 0      f       employee     0   \n",
       "32  civil partnership                 1      f       employee     1   \n",
       "33            married                 0      f       business     0   \n",
       "34            married                 0      f       employee     0   \n",
       "35  civil partnership                 1      m        retiree     0   \n",
       "36          unmarried                 4      m       employee     0   \n",
       "37  civil partnership                 1      f       business     0   \n",
       "38          unmarried                 4      m       employee     1   \n",
       "39  civil partnership                 1      f       business     0   \n",
       "40          unmarried                 4      m       business     0   \n",
       "41            married                 0      f  civil servant     0   \n",
       "42          unmarried                 4      f       employee     0   \n",
       "43           divorced                 3      f       business     0   \n",
       "44            married                 0      f       employee     0   \n",
       "45          unmarried                 4      f       employee     0   \n",
       "46            married                 0      f       business     0   \n",
       "47  civil partnership                 1      m  civil servant     0   \n",
       "48            married                 0      f       employee     0   \n",
       "49            married                 0      f       employee     0   \n",
       "50            married                 0      f        retiree     0   \n",
       "51  civil partnership                 1      f       employee     0   \n",
       "52            married                 0      f       employee     0   \n",
       "53           divorced                 3      f       business     0   \n",
       "54  civil partnership                 1      f       employee     0   \n",
       "55  civil partnership                 1      f        retiree     1   \n",
       "56    widow / widower                 2      f        retiree     0   \n",
       "57    widow / widower                 2      f       employee     0   \n",
       "58            married                 0      m       employee     0   \n",
       "59  civil partnership                 1      f       business     0   \n",
       "\n",
       "    total_income                                   purpose age_group  \n",
       "0     40620.1020                     purchase of the house     40-49  \n",
       "1     17932.8020                              car purchase     30-39  \n",
       "2     23341.7520                     purchase of the house     30-39  \n",
       "3     42820.5680                   supplementary education     30-39  \n",
       "4     25378.5720                         to have a wedding     50-59  \n",
       "5     40922.1700                     purchase of the house     20-29  \n",
       "6     38484.1560                      housing transactions     40-49  \n",
       "7     21731.8290                                 education     50-59  \n",
       "8     15337.0930                          having a wedding     30-39  \n",
       "9     23108.1500       purchase of the house for my family     40-49  \n",
       "10    18230.9590                           buy real estate     30-39  \n",
       "11    12331.0770                buy commercial real estate     40-49  \n",
       "12    18962.3180                         to have a wedding       60+  \n",
       "13    20873.3170                              car purchase     50-59  \n",
       "14    26420.4660               buy residential real estate     50-59  \n",
       "15    18691.3450              construction of own property     20-29  \n",
       "16    46272.4330                                  property     30-39  \n",
       "17    14465.6940                       building a property     30-39  \n",
       "18     9091.8040                  buying a second-hand car     50-59  \n",
       "19    38852.9770                         buying my own car     40-49  \n",
       "20    33528.4230                                  property     30-39  \n",
       "21    21089.9530                              car purchase     30-39  \n",
       "22    23948.9830                  buying a second-hand car     20-29  \n",
       "23    20522.5150                         to have a wedding     20-29  \n",
       "24    46487.5580  transactions with commercial real estate     50-59  \n",
       "25     8818.0410                           buy real estate       60+  \n",
       "26    24071.6695                                 education     40-49  \n",
       "27    49415.8370              construction of own property     20-29  \n",
       "28    30058.1180              construction of own property     20-29  \n",
       "29    18962.3180                    building a real estate       60+  \n",
       "30    27432.9710  transactions with commercial real estate       60+  \n",
       "31    44077.7100                                   housing     40-49  \n",
       "32    22249.1940                          having a wedding     30-39  \n",
       "33    25159.3260                     purchase of the house     40-49  \n",
       "34    16745.6720          transactions with my real estate     30-39  \n",
       "35    12448.9080                          having a wedding       60+  \n",
       "36    22212.9040                                      cars     30-39  \n",
       "37    24660.6210                              car purchase     40-49  \n",
       "38    30759.5680                                 education     20-29  \n",
       "39   120678.5280                        to become educated     30-39  \n",
       "40    22858.4930                           buy real estate     30-39  \n",
       "41    24071.6695                  second-hand car purchase     50-59  \n",
       "42    13130.4140                      getting an education     20-29  \n",
       "43    43673.1410                              car purchase     40-49  \n",
       "44    16124.8790                         buying my own car     20-29  \n",
       "45    17021.7470                        to become educated     40-49  \n",
       "46    29229.1940                  second-hand car purchase     30-39  \n",
       "47    57004.4650                          having a wedding     30-39  \n",
       "48    25930.4830              construction of own property     40-49  \n",
       "49     7134.6890                                       car     50-59  \n",
       "50    14774.8370                                      cars       60+  \n",
       "51    32511.9490                          wedding ceremony     50-59  \n",
       "52     8439.4280          to get a supplementary education     20-29  \n",
       "53    49832.5760                  purchase of my own house       60+  \n",
       "54    14758.2100                                      cars     20-29  \n",
       "55    18962.3180                         to have a wedding     50-59  \n",
       "56    23862.5670                                 education       60+  \n",
       "57     9378.6250                                 education     40-49  \n",
       "58    66304.6720                                  property     30-39  \n",
       "59    41819.1210                  real estate transactions     50-59  "
      ]
     },
     "execution_count": 69,
     "metadata": {},
     "output_type": "execute_result"
    }
   ],
   "source": [
    "banco.head(60)"
   ]
  },
  {
   "cell_type": "code",
   "execution_count": 68,
   "metadata": {},
   "outputs": [
    {
     "data": {
      "text/plain": [
       "0"
      ]
     },
     "execution_count": 68,
     "metadata": {},
     "output_type": "execute_result"
    }
   ],
   "source": [
    "banco[\"total_income\"].isna().sum()"
   ]
  },
  {
   "cell_type": "markdown",
   "metadata": {},
   "source": [
    "Se puede observar en las primeras 60 líneas que los valores ausentes de la columna \"total_income\" han sido completados con los valores elegidos dependiendo de la columna \"income_type\" correspondiente, también se comprobó el número de valores ausentes en la columna y estos son iguales a cero por lo que se han rellenado todos los valores ausentes."
   ]
  },
  {
   "cell_type": "code",
   "execution_count": 70,
   "metadata": {},
   "outputs": [
    {
     "name": "stdout",
     "output_type": "stream",
     "text": [
      "<class 'pandas.core.frame.DataFrame'>\n",
      "RangeIndex: 21454 entries, 0 to 21453\n",
      "Data columns (total 13 columns):\n",
      " #   Column            Non-Null Count  Dtype  \n",
      "---  ------            --------------  -----  \n",
      " 0   children          21454 non-null  int64  \n",
      " 1   days_employed     19351 non-null  float64\n",
      " 2   dob_years         21454 non-null  int64  \n",
      " 3   education         21454 non-null  object \n",
      " 4   education_id      21454 non-null  int64  \n",
      " 5   family_status     21454 non-null  object \n",
      " 6   family_status_id  21454 non-null  int64  \n",
      " 7   gender            21454 non-null  object \n",
      " 8   income_type       21454 non-null  object \n",
      " 9   debt              21454 non-null  int64  \n",
      " 10  total_income      21454 non-null  float64\n",
      " 11  purpose           21454 non-null  object \n",
      " 12  age_group         21454 non-null  object \n",
      "dtypes: float64(2), int64(5), object(6)\n",
      "memory usage: 2.1+ MB\n"
     ]
    }
   ],
   "source": [
    "banco.info()"
   ]
  },
  {
   "cell_type": "markdown",
   "metadata": {},
   "source": [
    "###  Restaurar valores en `days_employed` <a id=\"days_employed\"></a>"
   ]
  },
  {
   "cell_type": "markdown",
   "metadata": {},
   "source": [
    "Con respecto a restaurar los valores ausentes en \"days_employed\" el único parámetro que se puede ver relacionado a esta característica es \"dob_years\" ya que a mayor edad de la persona más días de experiencia puede tener en su trabajo. Procederemos a revisar la distribución de datos para la media y mediana para poder decidir cual utilizar."
   ]
  },
  {
   "cell_type": "code",
   "execution_count": 71,
   "metadata": {},
   "outputs": [
    {
     "name": "stdout",
     "output_type": "stream",
     "text": [
      "mean\n",
      "           days_employed\n",
      "age_group               \n",
      "10-19         633.615385\n",
      "20-29        2089.058865\n",
      "30-39        4155.028186\n",
      "40-49       13439.223756\n",
      "50-59      132907.547870\n",
      "60+        286544.135255\n",
      "\n",
      "median\n",
      "           days_employed\n",
      "age_group               \n",
      "10-19              724.0\n",
      "20-29             1006.0\n",
      "30-39             1602.0\n",
      "40-49             2109.0\n",
      "50-59             4797.0\n",
      "60+             355230.0\n",
      "\n"
     ]
    }
   ],
   "source": [
    "for medida in ['mean', 'median']:\n",
    "    print(medida)\n",
    "    print(banco_no_missing.pivot_table(index=\"age_group\", values=\"days_employed\", aggfunc=medida))\n",
    "    print(\"\")"
   ]
  },
  {
   "cell_type": "markdown",
   "metadata": {},
   "source": [
    "Se puede observar una gran disparidad entre los valores de la media y mediana de este parámetro por lo cual deducimos que existen valores extremadamente anómalos entre las filas, debido a esto se optará por utilizar la mediana para rellenar los valores ausentes."
   ]
  },
  {
   "cell_type": "markdown",
   "metadata": {},
   "source": [
    "Crearemos una función que calcule la mediana."
   ]
  },
  {
   "cell_type": "code",
   "execution_count": 72,
   "metadata": {},
   "outputs": [],
   "source": [
    "def llenar_edad(carac, mediana):\n",
    "    banco.loc[banco[\"age_group\"]==carac, \"days_employed\"] = banco.loc[banco[\"age_group\"]==carac][\"days_employed\"].fillna(mediana) "
   ]
  },
  {
   "cell_type": "code",
   "execution_count": 73,
   "metadata": {
    "scrolled": true
   },
   "outputs": [
    {
     "data": {
      "text/html": [
       "<div>\n",
       "<style scoped>\n",
       "    .dataframe tbody tr th:only-of-type {\n",
       "        vertical-align: middle;\n",
       "    }\n",
       "\n",
       "    .dataframe tbody tr th {\n",
       "        vertical-align: top;\n",
       "    }\n",
       "\n",
       "    .dataframe thead th {\n",
       "        text-align: right;\n",
       "    }\n",
       "</style>\n",
       "<table border=\"1\" class=\"dataframe\">\n",
       "  <thead>\n",
       "    <tr style=\"text-align: right;\">\n",
       "      <th></th>\n",
       "      <th>children</th>\n",
       "      <th>days_employed</th>\n",
       "      <th>dob_years</th>\n",
       "      <th>education</th>\n",
       "      <th>education_id</th>\n",
       "      <th>family_status</th>\n",
       "      <th>family_status_id</th>\n",
       "      <th>gender</th>\n",
       "      <th>income_type</th>\n",
       "      <th>debt</th>\n",
       "      <th>total_income</th>\n",
       "      <th>purpose</th>\n",
       "      <th>age_group</th>\n",
       "    </tr>\n",
       "  </thead>\n",
       "  <tbody>\n",
       "    <tr>\n",
       "      <th>0</th>\n",
       "      <td>1</td>\n",
       "      <td>8438.0</td>\n",
       "      <td>42</td>\n",
       "      <td>bachelor's degree</td>\n",
       "      <td>0</td>\n",
       "      <td>married</td>\n",
       "      <td>0</td>\n",
       "      <td>f</td>\n",
       "      <td>employee</td>\n",
       "      <td>0</td>\n",
       "      <td>40620.1020</td>\n",
       "      <td>purchase of the house</td>\n",
       "      <td>40-49</td>\n",
       "    </tr>\n",
       "    <tr>\n",
       "      <th>1</th>\n",
       "      <td>1</td>\n",
       "      <td>4025.0</td>\n",
       "      <td>36</td>\n",
       "      <td>secondary education</td>\n",
       "      <td>1</td>\n",
       "      <td>married</td>\n",
       "      <td>0</td>\n",
       "      <td>f</td>\n",
       "      <td>employee</td>\n",
       "      <td>0</td>\n",
       "      <td>17932.8020</td>\n",
       "      <td>car purchase</td>\n",
       "      <td>30-39</td>\n",
       "    </tr>\n",
       "    <tr>\n",
       "      <th>2</th>\n",
       "      <td>0</td>\n",
       "      <td>5623.0</td>\n",
       "      <td>33</td>\n",
       "      <td>secondary education</td>\n",
       "      <td>1</td>\n",
       "      <td>married</td>\n",
       "      <td>0</td>\n",
       "      <td>m</td>\n",
       "      <td>employee</td>\n",
       "      <td>0</td>\n",
       "      <td>23341.7520</td>\n",
       "      <td>purchase of the house</td>\n",
       "      <td>30-39</td>\n",
       "    </tr>\n",
       "    <tr>\n",
       "      <th>3</th>\n",
       "      <td>3</td>\n",
       "      <td>4125.0</td>\n",
       "      <td>32</td>\n",
       "      <td>secondary education</td>\n",
       "      <td>1</td>\n",
       "      <td>married</td>\n",
       "      <td>0</td>\n",
       "      <td>m</td>\n",
       "      <td>employee</td>\n",
       "      <td>0</td>\n",
       "      <td>42820.5680</td>\n",
       "      <td>supplementary education</td>\n",
       "      <td>30-39</td>\n",
       "    </tr>\n",
       "    <tr>\n",
       "      <th>4</th>\n",
       "      <td>0</td>\n",
       "      <td>340266.0</td>\n",
       "      <td>53</td>\n",
       "      <td>secondary education</td>\n",
       "      <td>1</td>\n",
       "      <td>civil partnership</td>\n",
       "      <td>1</td>\n",
       "      <td>f</td>\n",
       "      <td>retiree</td>\n",
       "      <td>0</td>\n",
       "      <td>25378.5720</td>\n",
       "      <td>to have a wedding</td>\n",
       "      <td>50-59</td>\n",
       "    </tr>\n",
       "    <tr>\n",
       "      <th>5</th>\n",
       "      <td>0</td>\n",
       "      <td>926.0</td>\n",
       "      <td>27</td>\n",
       "      <td>bachelor's degree</td>\n",
       "      <td>0</td>\n",
       "      <td>civil partnership</td>\n",
       "      <td>1</td>\n",
       "      <td>m</td>\n",
       "      <td>business</td>\n",
       "      <td>0</td>\n",
       "      <td>40922.1700</td>\n",
       "      <td>purchase of the house</td>\n",
       "      <td>20-29</td>\n",
       "    </tr>\n",
       "    <tr>\n",
       "      <th>6</th>\n",
       "      <td>0</td>\n",
       "      <td>2879.0</td>\n",
       "      <td>43</td>\n",
       "      <td>bachelor's degree</td>\n",
       "      <td>0</td>\n",
       "      <td>married</td>\n",
       "      <td>0</td>\n",
       "      <td>f</td>\n",
       "      <td>business</td>\n",
       "      <td>0</td>\n",
       "      <td>38484.1560</td>\n",
       "      <td>housing transactions</td>\n",
       "      <td>40-49</td>\n",
       "    </tr>\n",
       "    <tr>\n",
       "      <th>7</th>\n",
       "      <td>0</td>\n",
       "      <td>153.0</td>\n",
       "      <td>50</td>\n",
       "      <td>secondary education</td>\n",
       "      <td>1</td>\n",
       "      <td>married</td>\n",
       "      <td>0</td>\n",
       "      <td>m</td>\n",
       "      <td>employee</td>\n",
       "      <td>0</td>\n",
       "      <td>21731.8290</td>\n",
       "      <td>education</td>\n",
       "      <td>50-59</td>\n",
       "    </tr>\n",
       "    <tr>\n",
       "      <th>8</th>\n",
       "      <td>2</td>\n",
       "      <td>6930.0</td>\n",
       "      <td>35</td>\n",
       "      <td>bachelor's degree</td>\n",
       "      <td>0</td>\n",
       "      <td>civil partnership</td>\n",
       "      <td>1</td>\n",
       "      <td>f</td>\n",
       "      <td>employee</td>\n",
       "      <td>0</td>\n",
       "      <td>15337.0930</td>\n",
       "      <td>having a wedding</td>\n",
       "      <td>30-39</td>\n",
       "    </tr>\n",
       "    <tr>\n",
       "      <th>9</th>\n",
       "      <td>0</td>\n",
       "      <td>2189.0</td>\n",
       "      <td>41</td>\n",
       "      <td>secondary education</td>\n",
       "      <td>1</td>\n",
       "      <td>married</td>\n",
       "      <td>0</td>\n",
       "      <td>m</td>\n",
       "      <td>employee</td>\n",
       "      <td>0</td>\n",
       "      <td>23108.1500</td>\n",
       "      <td>purchase of the house for my family</td>\n",
       "      <td>40-49</td>\n",
       "    </tr>\n",
       "    <tr>\n",
       "      <th>10</th>\n",
       "      <td>2</td>\n",
       "      <td>4171.0</td>\n",
       "      <td>36</td>\n",
       "      <td>bachelor's degree</td>\n",
       "      <td>0</td>\n",
       "      <td>married</td>\n",
       "      <td>0</td>\n",
       "      <td>m</td>\n",
       "      <td>business</td>\n",
       "      <td>0</td>\n",
       "      <td>18230.9590</td>\n",
       "      <td>buy real estate</td>\n",
       "      <td>30-39</td>\n",
       "    </tr>\n",
       "    <tr>\n",
       "      <th>11</th>\n",
       "      <td>0</td>\n",
       "      <td>793.0</td>\n",
       "      <td>40</td>\n",
       "      <td>secondary education</td>\n",
       "      <td>1</td>\n",
       "      <td>married</td>\n",
       "      <td>0</td>\n",
       "      <td>f</td>\n",
       "      <td>employee</td>\n",
       "      <td>0</td>\n",
       "      <td>12331.0770</td>\n",
       "      <td>buy commercial real estate</td>\n",
       "      <td>40-49</td>\n",
       "    </tr>\n",
       "    <tr>\n",
       "      <th>12</th>\n",
       "      <td>0</td>\n",
       "      <td>355230.0</td>\n",
       "      <td>65</td>\n",
       "      <td>secondary education</td>\n",
       "      <td>1</td>\n",
       "      <td>civil partnership</td>\n",
       "      <td>1</td>\n",
       "      <td>m</td>\n",
       "      <td>retiree</td>\n",
       "      <td>0</td>\n",
       "      <td>18962.3180</td>\n",
       "      <td>to have a wedding</td>\n",
       "      <td>60+</td>\n",
       "    </tr>\n",
       "    <tr>\n",
       "      <th>13</th>\n",
       "      <td>0</td>\n",
       "      <td>1847.0</td>\n",
       "      <td>54</td>\n",
       "      <td>some college</td>\n",
       "      <td>2</td>\n",
       "      <td>married</td>\n",
       "      <td>0</td>\n",
       "      <td>f</td>\n",
       "      <td>employee</td>\n",
       "      <td>0</td>\n",
       "      <td>20873.3170</td>\n",
       "      <td>car purchase</td>\n",
       "      <td>50-59</td>\n",
       "    </tr>\n",
       "    <tr>\n",
       "      <th>14</th>\n",
       "      <td>0</td>\n",
       "      <td>1845.0</td>\n",
       "      <td>56</td>\n",
       "      <td>bachelor's degree</td>\n",
       "      <td>0</td>\n",
       "      <td>civil partnership</td>\n",
       "      <td>1</td>\n",
       "      <td>f</td>\n",
       "      <td>business</td>\n",
       "      <td>1</td>\n",
       "      <td>26420.4660</td>\n",
       "      <td>buy residential real estate</td>\n",
       "      <td>50-59</td>\n",
       "    </tr>\n",
       "    <tr>\n",
       "      <th>15</th>\n",
       "      <td>1</td>\n",
       "      <td>972.0</td>\n",
       "      <td>26</td>\n",
       "      <td>secondary education</td>\n",
       "      <td>1</td>\n",
       "      <td>married</td>\n",
       "      <td>0</td>\n",
       "      <td>f</td>\n",
       "      <td>employee</td>\n",
       "      <td>0</td>\n",
       "      <td>18691.3450</td>\n",
       "      <td>construction of own property</td>\n",
       "      <td>20-29</td>\n",
       "    </tr>\n",
       "    <tr>\n",
       "      <th>16</th>\n",
       "      <td>0</td>\n",
       "      <td>1720.0</td>\n",
       "      <td>35</td>\n",
       "      <td>secondary education</td>\n",
       "      <td>1</td>\n",
       "      <td>married</td>\n",
       "      <td>0</td>\n",
       "      <td>f</td>\n",
       "      <td>employee</td>\n",
       "      <td>0</td>\n",
       "      <td>46272.4330</td>\n",
       "      <td>property</td>\n",
       "      <td>30-39</td>\n",
       "    </tr>\n",
       "    <tr>\n",
       "      <th>17</th>\n",
       "      <td>0</td>\n",
       "      <td>2370.0</td>\n",
       "      <td>33</td>\n",
       "      <td>bachelor's degree</td>\n",
       "      <td>0</td>\n",
       "      <td>civil partnership</td>\n",
       "      <td>1</td>\n",
       "      <td>m</td>\n",
       "      <td>employee</td>\n",
       "      <td>0</td>\n",
       "      <td>14465.6940</td>\n",
       "      <td>building a property</td>\n",
       "      <td>30-39</td>\n",
       "    </tr>\n",
       "    <tr>\n",
       "      <th>18</th>\n",
       "      <td>0</td>\n",
       "      <td>400281.0</td>\n",
       "      <td>53</td>\n",
       "      <td>secondary education</td>\n",
       "      <td>1</td>\n",
       "      <td>widow / widower</td>\n",
       "      <td>2</td>\n",
       "      <td>f</td>\n",
       "      <td>retiree</td>\n",
       "      <td>0</td>\n",
       "      <td>9091.8040</td>\n",
       "      <td>buying a second-hand car</td>\n",
       "      <td>50-59</td>\n",
       "    </tr>\n",
       "    <tr>\n",
       "      <th>19</th>\n",
       "      <td>0</td>\n",
       "      <td>10039.0</td>\n",
       "      <td>48</td>\n",
       "      <td>secondary education</td>\n",
       "      <td>1</td>\n",
       "      <td>divorced</td>\n",
       "      <td>3</td>\n",
       "      <td>f</td>\n",
       "      <td>employee</td>\n",
       "      <td>0</td>\n",
       "      <td>38852.9770</td>\n",
       "      <td>buying my own car</td>\n",
       "      <td>40-49</td>\n",
       "    </tr>\n",
       "    <tr>\n",
       "      <th>20</th>\n",
       "      <td>1</td>\n",
       "      <td>1312.0</td>\n",
       "      <td>36</td>\n",
       "      <td>secondary education</td>\n",
       "      <td>1</td>\n",
       "      <td>married</td>\n",
       "      <td>0</td>\n",
       "      <td>m</td>\n",
       "      <td>employee</td>\n",
       "      <td>0</td>\n",
       "      <td>33528.4230</td>\n",
       "      <td>property</td>\n",
       "      <td>30-39</td>\n",
       "    </tr>\n",
       "    <tr>\n",
       "      <th>21</th>\n",
       "      <td>1</td>\n",
       "      <td>254.0</td>\n",
       "      <td>33</td>\n",
       "      <td>secondary education</td>\n",
       "      <td>1</td>\n",
       "      <td>civil partnership</td>\n",
       "      <td>1</td>\n",
       "      <td>f</td>\n",
       "      <td>employee</td>\n",
       "      <td>0</td>\n",
       "      <td>21089.9530</td>\n",
       "      <td>car purchase</td>\n",
       "      <td>30-39</td>\n",
       "    </tr>\n",
       "    <tr>\n",
       "      <th>22</th>\n",
       "      <td>1</td>\n",
       "      <td>1767.0</td>\n",
       "      <td>24</td>\n",
       "      <td>secondary education</td>\n",
       "      <td>1</td>\n",
       "      <td>civil partnership</td>\n",
       "      <td>1</td>\n",
       "      <td>f</td>\n",
       "      <td>employee</td>\n",
       "      <td>0</td>\n",
       "      <td>23948.9830</td>\n",
       "      <td>buying a second-hand car</td>\n",
       "      <td>20-29</td>\n",
       "    </tr>\n",
       "    <tr>\n",
       "      <th>23</th>\n",
       "      <td>0</td>\n",
       "      <td>273.0</td>\n",
       "      <td>21</td>\n",
       "      <td>bachelor's degree</td>\n",
       "      <td>0</td>\n",
       "      <td>civil partnership</td>\n",
       "      <td>1</td>\n",
       "      <td>m</td>\n",
       "      <td>employee</td>\n",
       "      <td>0</td>\n",
       "      <td>20522.5150</td>\n",
       "      <td>to have a wedding</td>\n",
       "      <td>20-29</td>\n",
       "    </tr>\n",
       "    <tr>\n",
       "      <th>24</th>\n",
       "      <td>1</td>\n",
       "      <td>338552.0</td>\n",
       "      <td>57</td>\n",
       "      <td>secondary education</td>\n",
       "      <td>1</td>\n",
       "      <td>unmarried</td>\n",
       "      <td>4</td>\n",
       "      <td>f</td>\n",
       "      <td>retiree</td>\n",
       "      <td>0</td>\n",
       "      <td>46487.5580</td>\n",
       "      <td>transactions with commercial real estate</td>\n",
       "      <td>50-59</td>\n",
       "    </tr>\n",
       "    <tr>\n",
       "      <th>25</th>\n",
       "      <td>0</td>\n",
       "      <td>363548.0</td>\n",
       "      <td>67</td>\n",
       "      <td>secondary education</td>\n",
       "      <td>1</td>\n",
       "      <td>married</td>\n",
       "      <td>0</td>\n",
       "      <td>m</td>\n",
       "      <td>retiree</td>\n",
       "      <td>0</td>\n",
       "      <td>8818.0410</td>\n",
       "      <td>buy real estate</td>\n",
       "      <td>60+</td>\n",
       "    </tr>\n",
       "    <tr>\n",
       "      <th>26</th>\n",
       "      <td>0</td>\n",
       "      <td>NaN</td>\n",
       "      <td>41</td>\n",
       "      <td>secondary education</td>\n",
       "      <td>1</td>\n",
       "      <td>married</td>\n",
       "      <td>0</td>\n",
       "      <td>m</td>\n",
       "      <td>civil servant</td>\n",
       "      <td>0</td>\n",
       "      <td>24071.6695</td>\n",
       "      <td>education</td>\n",
       "      <td>40-49</td>\n",
       "    </tr>\n",
       "    <tr>\n",
       "      <th>27</th>\n",
       "      <td>0</td>\n",
       "      <td>529.0</td>\n",
       "      <td>28</td>\n",
       "      <td>bachelor's degree</td>\n",
       "      <td>0</td>\n",
       "      <td>married</td>\n",
       "      <td>0</td>\n",
       "      <td>m</td>\n",
       "      <td>employee</td>\n",
       "      <td>0</td>\n",
       "      <td>49415.8370</td>\n",
       "      <td>construction of own property</td>\n",
       "      <td>20-29</td>\n",
       "    </tr>\n",
       "    <tr>\n",
       "      <th>28</th>\n",
       "      <td>1</td>\n",
       "      <td>717.0</td>\n",
       "      <td>26</td>\n",
       "      <td>bachelor's degree</td>\n",
       "      <td>0</td>\n",
       "      <td>married</td>\n",
       "      <td>0</td>\n",
       "      <td>f</td>\n",
       "      <td>employee</td>\n",
       "      <td>0</td>\n",
       "      <td>30058.1180</td>\n",
       "      <td>construction of own property</td>\n",
       "      <td>20-29</td>\n",
       "    </tr>\n",
       "    <tr>\n",
       "      <th>29</th>\n",
       "      <td>0</td>\n",
       "      <td>355230.0</td>\n",
       "      <td>63</td>\n",
       "      <td>secondary education</td>\n",
       "      <td>1</td>\n",
       "      <td>unmarried</td>\n",
       "      <td>4</td>\n",
       "      <td>f</td>\n",
       "      <td>retiree</td>\n",
       "      <td>0</td>\n",
       "      <td>18962.3180</td>\n",
       "      <td>building a real estate</td>\n",
       "      <td>60+</td>\n",
       "    </tr>\n",
       "  </tbody>\n",
       "</table>\n",
       "</div>"
      ],
      "text/plain": [
       "    children  days_employed  dob_years            education  education_id  \\\n",
       "0          1         8438.0         42    bachelor's degree             0   \n",
       "1          1         4025.0         36  secondary education             1   \n",
       "2          0         5623.0         33  secondary education             1   \n",
       "3          3         4125.0         32  secondary education             1   \n",
       "4          0       340266.0         53  secondary education             1   \n",
       "5          0          926.0         27    bachelor's degree             0   \n",
       "6          0         2879.0         43    bachelor's degree             0   \n",
       "7          0          153.0         50  secondary education             1   \n",
       "8          2         6930.0         35    bachelor's degree             0   \n",
       "9          0         2189.0         41  secondary education             1   \n",
       "10         2         4171.0         36    bachelor's degree             0   \n",
       "11         0          793.0         40  secondary education             1   \n",
       "12         0       355230.0         65  secondary education             1   \n",
       "13         0         1847.0         54         some college             2   \n",
       "14         0         1845.0         56    bachelor's degree             0   \n",
       "15         1          972.0         26  secondary education             1   \n",
       "16         0         1720.0         35  secondary education             1   \n",
       "17         0         2370.0         33    bachelor's degree             0   \n",
       "18         0       400281.0         53  secondary education             1   \n",
       "19         0        10039.0         48  secondary education             1   \n",
       "20         1         1312.0         36  secondary education             1   \n",
       "21         1          254.0         33  secondary education             1   \n",
       "22         1         1767.0         24  secondary education             1   \n",
       "23         0          273.0         21    bachelor's degree             0   \n",
       "24         1       338552.0         57  secondary education             1   \n",
       "25         0       363548.0         67  secondary education             1   \n",
       "26         0            NaN         41  secondary education             1   \n",
       "27         0          529.0         28    bachelor's degree             0   \n",
       "28         1          717.0         26    bachelor's degree             0   \n",
       "29         0       355230.0         63  secondary education             1   \n",
       "\n",
       "        family_status  family_status_id gender    income_type  debt  \\\n",
       "0             married                 0      f       employee     0   \n",
       "1             married                 0      f       employee     0   \n",
       "2             married                 0      m       employee     0   \n",
       "3             married                 0      m       employee     0   \n",
       "4   civil partnership                 1      f        retiree     0   \n",
       "5   civil partnership                 1      m       business     0   \n",
       "6             married                 0      f       business     0   \n",
       "7             married                 0      m       employee     0   \n",
       "8   civil partnership                 1      f       employee     0   \n",
       "9             married                 0      m       employee     0   \n",
       "10            married                 0      m       business     0   \n",
       "11            married                 0      f       employee     0   \n",
       "12  civil partnership                 1      m        retiree     0   \n",
       "13            married                 0      f       employee     0   \n",
       "14  civil partnership                 1      f       business     1   \n",
       "15            married                 0      f       employee     0   \n",
       "16            married                 0      f       employee     0   \n",
       "17  civil partnership                 1      m       employee     0   \n",
       "18    widow / widower                 2      f        retiree     0   \n",
       "19           divorced                 3      f       employee     0   \n",
       "20            married                 0      m       employee     0   \n",
       "21  civil partnership                 1      f       employee     0   \n",
       "22  civil partnership                 1      f       employee     0   \n",
       "23  civil partnership                 1      m       employee     0   \n",
       "24          unmarried                 4      f        retiree     0   \n",
       "25            married                 0      m        retiree     0   \n",
       "26            married                 0      m  civil servant     0   \n",
       "27            married                 0      m       employee     0   \n",
       "28            married                 0      f       employee     0   \n",
       "29          unmarried                 4      f        retiree     0   \n",
       "\n",
       "    total_income                                   purpose age_group  \n",
       "0     40620.1020                     purchase of the house     40-49  \n",
       "1     17932.8020                              car purchase     30-39  \n",
       "2     23341.7520                     purchase of the house     30-39  \n",
       "3     42820.5680                   supplementary education     30-39  \n",
       "4     25378.5720                         to have a wedding     50-59  \n",
       "5     40922.1700                     purchase of the house     20-29  \n",
       "6     38484.1560                      housing transactions     40-49  \n",
       "7     21731.8290                                 education     50-59  \n",
       "8     15337.0930                          having a wedding     30-39  \n",
       "9     23108.1500       purchase of the house for my family     40-49  \n",
       "10    18230.9590                           buy real estate     30-39  \n",
       "11    12331.0770                buy commercial real estate     40-49  \n",
       "12    18962.3180                         to have a wedding       60+  \n",
       "13    20873.3170                              car purchase     50-59  \n",
       "14    26420.4660               buy residential real estate     50-59  \n",
       "15    18691.3450              construction of own property     20-29  \n",
       "16    46272.4330                                  property     30-39  \n",
       "17    14465.6940                       building a property     30-39  \n",
       "18     9091.8040                  buying a second-hand car     50-59  \n",
       "19    38852.9770                         buying my own car     40-49  \n",
       "20    33528.4230                                  property     30-39  \n",
       "21    21089.9530                              car purchase     30-39  \n",
       "22    23948.9830                  buying a second-hand car     20-29  \n",
       "23    20522.5150                         to have a wedding     20-29  \n",
       "24    46487.5580  transactions with commercial real estate     50-59  \n",
       "25     8818.0410                           buy real estate       60+  \n",
       "26    24071.6695                                 education     40-49  \n",
       "27    49415.8370              construction of own property     20-29  \n",
       "28    30058.1180              construction of own property     20-29  \n",
       "29    18962.3180                    building a real estate       60+  "
      ]
     },
     "execution_count": 73,
     "metadata": {},
     "output_type": "execute_result"
    }
   ],
   "source": [
    "llenar_edad(\"60+\", 355230)\n",
    "banco.head(30)"
   ]
  },
  {
   "cell_type": "markdown",
   "metadata": {},
   "source": [
    "Observando las primeras 30 filas podemos notar que el valor de \"days_employed\" de la fila 12 que corresponde a un \"age_group\" de \"60+\" fue llenado con el valor de mediana elegido, mientras que el valor de \"days_employed\" de la fila 26 correspondiente a un \"age_group\" de \"40-49\" continua ausente. Con lo anterior comprobamos que la función creada actúa tal como se espera."
   ]
  },
  {
   "cell_type": "code",
   "execution_count": 75,
   "metadata": {},
   "outputs": [
    {
     "data": {
      "text/plain": [
       "0    None\n",
       "1    None\n",
       "2    None\n",
       "3    None\n",
       "4    None\n",
       "5    None\n",
       "dtype: object"
      ]
     },
     "execution_count": 75,
     "metadata": {},
     "output_type": "execute_result"
    }
   ],
   "source": [
    "years_pivot_days_median = banco_no_missing.pivot_table(index='age_group', values=\"days_employed\", aggfunc='median')\n",
    "df_days_pivot_median = years_pivot_days_median.reset_index()\n",
    "df_days_pivot_median.apply(lambda x: llenar_edad(x[\"age_group\"], x[\"days_employed\"]), axis=1)"
   ]
  },
  {
   "cell_type": "code",
   "execution_count": 76,
   "metadata": {},
   "outputs": [
    {
     "data": {
      "text/html": [
       "<div>\n",
       "<style scoped>\n",
       "    .dataframe tbody tr th:only-of-type {\n",
       "        vertical-align: middle;\n",
       "    }\n",
       "\n",
       "    .dataframe tbody tr th {\n",
       "        vertical-align: top;\n",
       "    }\n",
       "\n",
       "    .dataframe thead th {\n",
       "        text-align: right;\n",
       "    }\n",
       "</style>\n",
       "<table border=\"1\" class=\"dataframe\">\n",
       "  <thead>\n",
       "    <tr style=\"text-align: right;\">\n",
       "      <th></th>\n",
       "      <th>children</th>\n",
       "      <th>days_employed</th>\n",
       "      <th>dob_years</th>\n",
       "      <th>education</th>\n",
       "      <th>education_id</th>\n",
       "      <th>family_status</th>\n",
       "      <th>family_status_id</th>\n",
       "      <th>gender</th>\n",
       "      <th>income_type</th>\n",
       "      <th>debt</th>\n",
       "      <th>total_income</th>\n",
       "      <th>purpose</th>\n",
       "      <th>age_group</th>\n",
       "    </tr>\n",
       "  </thead>\n",
       "  <tbody>\n",
       "    <tr>\n",
       "      <th>0</th>\n",
       "      <td>1</td>\n",
       "      <td>8438.0</td>\n",
       "      <td>42</td>\n",
       "      <td>bachelor's degree</td>\n",
       "      <td>0</td>\n",
       "      <td>married</td>\n",
       "      <td>0</td>\n",
       "      <td>f</td>\n",
       "      <td>employee</td>\n",
       "      <td>0</td>\n",
       "      <td>40620.1020</td>\n",
       "      <td>purchase of the house</td>\n",
       "      <td>40-49</td>\n",
       "    </tr>\n",
       "    <tr>\n",
       "      <th>1</th>\n",
       "      <td>1</td>\n",
       "      <td>4025.0</td>\n",
       "      <td>36</td>\n",
       "      <td>secondary education</td>\n",
       "      <td>1</td>\n",
       "      <td>married</td>\n",
       "      <td>0</td>\n",
       "      <td>f</td>\n",
       "      <td>employee</td>\n",
       "      <td>0</td>\n",
       "      <td>17932.8020</td>\n",
       "      <td>car purchase</td>\n",
       "      <td>30-39</td>\n",
       "    </tr>\n",
       "    <tr>\n",
       "      <th>2</th>\n",
       "      <td>0</td>\n",
       "      <td>5623.0</td>\n",
       "      <td>33</td>\n",
       "      <td>secondary education</td>\n",
       "      <td>1</td>\n",
       "      <td>married</td>\n",
       "      <td>0</td>\n",
       "      <td>m</td>\n",
       "      <td>employee</td>\n",
       "      <td>0</td>\n",
       "      <td>23341.7520</td>\n",
       "      <td>purchase of the house</td>\n",
       "      <td>30-39</td>\n",
       "    </tr>\n",
       "    <tr>\n",
       "      <th>3</th>\n",
       "      <td>3</td>\n",
       "      <td>4125.0</td>\n",
       "      <td>32</td>\n",
       "      <td>secondary education</td>\n",
       "      <td>1</td>\n",
       "      <td>married</td>\n",
       "      <td>0</td>\n",
       "      <td>m</td>\n",
       "      <td>employee</td>\n",
       "      <td>0</td>\n",
       "      <td>42820.5680</td>\n",
       "      <td>supplementary education</td>\n",
       "      <td>30-39</td>\n",
       "    </tr>\n",
       "    <tr>\n",
       "      <th>4</th>\n",
       "      <td>0</td>\n",
       "      <td>340266.0</td>\n",
       "      <td>53</td>\n",
       "      <td>secondary education</td>\n",
       "      <td>1</td>\n",
       "      <td>civil partnership</td>\n",
       "      <td>1</td>\n",
       "      <td>f</td>\n",
       "      <td>retiree</td>\n",
       "      <td>0</td>\n",
       "      <td>25378.5720</td>\n",
       "      <td>to have a wedding</td>\n",
       "      <td>50-59</td>\n",
       "    </tr>\n",
       "    <tr>\n",
       "      <th>5</th>\n",
       "      <td>0</td>\n",
       "      <td>926.0</td>\n",
       "      <td>27</td>\n",
       "      <td>bachelor's degree</td>\n",
       "      <td>0</td>\n",
       "      <td>civil partnership</td>\n",
       "      <td>1</td>\n",
       "      <td>m</td>\n",
       "      <td>business</td>\n",
       "      <td>0</td>\n",
       "      <td>40922.1700</td>\n",
       "      <td>purchase of the house</td>\n",
       "      <td>20-29</td>\n",
       "    </tr>\n",
       "    <tr>\n",
       "      <th>6</th>\n",
       "      <td>0</td>\n",
       "      <td>2879.0</td>\n",
       "      <td>43</td>\n",
       "      <td>bachelor's degree</td>\n",
       "      <td>0</td>\n",
       "      <td>married</td>\n",
       "      <td>0</td>\n",
       "      <td>f</td>\n",
       "      <td>business</td>\n",
       "      <td>0</td>\n",
       "      <td>38484.1560</td>\n",
       "      <td>housing transactions</td>\n",
       "      <td>40-49</td>\n",
       "    </tr>\n",
       "    <tr>\n",
       "      <th>7</th>\n",
       "      <td>0</td>\n",
       "      <td>153.0</td>\n",
       "      <td>50</td>\n",
       "      <td>secondary education</td>\n",
       "      <td>1</td>\n",
       "      <td>married</td>\n",
       "      <td>0</td>\n",
       "      <td>m</td>\n",
       "      <td>employee</td>\n",
       "      <td>0</td>\n",
       "      <td>21731.8290</td>\n",
       "      <td>education</td>\n",
       "      <td>50-59</td>\n",
       "    </tr>\n",
       "    <tr>\n",
       "      <th>8</th>\n",
       "      <td>2</td>\n",
       "      <td>6930.0</td>\n",
       "      <td>35</td>\n",
       "      <td>bachelor's degree</td>\n",
       "      <td>0</td>\n",
       "      <td>civil partnership</td>\n",
       "      <td>1</td>\n",
       "      <td>f</td>\n",
       "      <td>employee</td>\n",
       "      <td>0</td>\n",
       "      <td>15337.0930</td>\n",
       "      <td>having a wedding</td>\n",
       "      <td>30-39</td>\n",
       "    </tr>\n",
       "    <tr>\n",
       "      <th>9</th>\n",
       "      <td>0</td>\n",
       "      <td>2189.0</td>\n",
       "      <td>41</td>\n",
       "      <td>secondary education</td>\n",
       "      <td>1</td>\n",
       "      <td>married</td>\n",
       "      <td>0</td>\n",
       "      <td>m</td>\n",
       "      <td>employee</td>\n",
       "      <td>0</td>\n",
       "      <td>23108.1500</td>\n",
       "      <td>purchase of the house for my family</td>\n",
       "      <td>40-49</td>\n",
       "    </tr>\n",
       "    <tr>\n",
       "      <th>10</th>\n",
       "      <td>2</td>\n",
       "      <td>4171.0</td>\n",
       "      <td>36</td>\n",
       "      <td>bachelor's degree</td>\n",
       "      <td>0</td>\n",
       "      <td>married</td>\n",
       "      <td>0</td>\n",
       "      <td>m</td>\n",
       "      <td>business</td>\n",
       "      <td>0</td>\n",
       "      <td>18230.9590</td>\n",
       "      <td>buy real estate</td>\n",
       "      <td>30-39</td>\n",
       "    </tr>\n",
       "    <tr>\n",
       "      <th>11</th>\n",
       "      <td>0</td>\n",
       "      <td>793.0</td>\n",
       "      <td>40</td>\n",
       "      <td>secondary education</td>\n",
       "      <td>1</td>\n",
       "      <td>married</td>\n",
       "      <td>0</td>\n",
       "      <td>f</td>\n",
       "      <td>employee</td>\n",
       "      <td>0</td>\n",
       "      <td>12331.0770</td>\n",
       "      <td>buy commercial real estate</td>\n",
       "      <td>40-49</td>\n",
       "    </tr>\n",
       "    <tr>\n",
       "      <th>12</th>\n",
       "      <td>0</td>\n",
       "      <td>355230.0</td>\n",
       "      <td>65</td>\n",
       "      <td>secondary education</td>\n",
       "      <td>1</td>\n",
       "      <td>civil partnership</td>\n",
       "      <td>1</td>\n",
       "      <td>m</td>\n",
       "      <td>retiree</td>\n",
       "      <td>0</td>\n",
       "      <td>18962.3180</td>\n",
       "      <td>to have a wedding</td>\n",
       "      <td>60+</td>\n",
       "    </tr>\n",
       "    <tr>\n",
       "      <th>13</th>\n",
       "      <td>0</td>\n",
       "      <td>1847.0</td>\n",
       "      <td>54</td>\n",
       "      <td>some college</td>\n",
       "      <td>2</td>\n",
       "      <td>married</td>\n",
       "      <td>0</td>\n",
       "      <td>f</td>\n",
       "      <td>employee</td>\n",
       "      <td>0</td>\n",
       "      <td>20873.3170</td>\n",
       "      <td>car purchase</td>\n",
       "      <td>50-59</td>\n",
       "    </tr>\n",
       "    <tr>\n",
       "      <th>14</th>\n",
       "      <td>0</td>\n",
       "      <td>1845.0</td>\n",
       "      <td>56</td>\n",
       "      <td>bachelor's degree</td>\n",
       "      <td>0</td>\n",
       "      <td>civil partnership</td>\n",
       "      <td>1</td>\n",
       "      <td>f</td>\n",
       "      <td>business</td>\n",
       "      <td>1</td>\n",
       "      <td>26420.4660</td>\n",
       "      <td>buy residential real estate</td>\n",
       "      <td>50-59</td>\n",
       "    </tr>\n",
       "    <tr>\n",
       "      <th>15</th>\n",
       "      <td>1</td>\n",
       "      <td>972.0</td>\n",
       "      <td>26</td>\n",
       "      <td>secondary education</td>\n",
       "      <td>1</td>\n",
       "      <td>married</td>\n",
       "      <td>0</td>\n",
       "      <td>f</td>\n",
       "      <td>employee</td>\n",
       "      <td>0</td>\n",
       "      <td>18691.3450</td>\n",
       "      <td>construction of own property</td>\n",
       "      <td>20-29</td>\n",
       "    </tr>\n",
       "    <tr>\n",
       "      <th>16</th>\n",
       "      <td>0</td>\n",
       "      <td>1720.0</td>\n",
       "      <td>35</td>\n",
       "      <td>secondary education</td>\n",
       "      <td>1</td>\n",
       "      <td>married</td>\n",
       "      <td>0</td>\n",
       "      <td>f</td>\n",
       "      <td>employee</td>\n",
       "      <td>0</td>\n",
       "      <td>46272.4330</td>\n",
       "      <td>property</td>\n",
       "      <td>30-39</td>\n",
       "    </tr>\n",
       "    <tr>\n",
       "      <th>17</th>\n",
       "      <td>0</td>\n",
       "      <td>2370.0</td>\n",
       "      <td>33</td>\n",
       "      <td>bachelor's degree</td>\n",
       "      <td>0</td>\n",
       "      <td>civil partnership</td>\n",
       "      <td>1</td>\n",
       "      <td>m</td>\n",
       "      <td>employee</td>\n",
       "      <td>0</td>\n",
       "      <td>14465.6940</td>\n",
       "      <td>building a property</td>\n",
       "      <td>30-39</td>\n",
       "    </tr>\n",
       "    <tr>\n",
       "      <th>18</th>\n",
       "      <td>0</td>\n",
       "      <td>400281.0</td>\n",
       "      <td>53</td>\n",
       "      <td>secondary education</td>\n",
       "      <td>1</td>\n",
       "      <td>widow / widower</td>\n",
       "      <td>2</td>\n",
       "      <td>f</td>\n",
       "      <td>retiree</td>\n",
       "      <td>0</td>\n",
       "      <td>9091.8040</td>\n",
       "      <td>buying a second-hand car</td>\n",
       "      <td>50-59</td>\n",
       "    </tr>\n",
       "    <tr>\n",
       "      <th>19</th>\n",
       "      <td>0</td>\n",
       "      <td>10039.0</td>\n",
       "      <td>48</td>\n",
       "      <td>secondary education</td>\n",
       "      <td>1</td>\n",
       "      <td>divorced</td>\n",
       "      <td>3</td>\n",
       "      <td>f</td>\n",
       "      <td>employee</td>\n",
       "      <td>0</td>\n",
       "      <td>38852.9770</td>\n",
       "      <td>buying my own car</td>\n",
       "      <td>40-49</td>\n",
       "    </tr>\n",
       "    <tr>\n",
       "      <th>20</th>\n",
       "      <td>1</td>\n",
       "      <td>1312.0</td>\n",
       "      <td>36</td>\n",
       "      <td>secondary education</td>\n",
       "      <td>1</td>\n",
       "      <td>married</td>\n",
       "      <td>0</td>\n",
       "      <td>m</td>\n",
       "      <td>employee</td>\n",
       "      <td>0</td>\n",
       "      <td>33528.4230</td>\n",
       "      <td>property</td>\n",
       "      <td>30-39</td>\n",
       "    </tr>\n",
       "    <tr>\n",
       "      <th>21</th>\n",
       "      <td>1</td>\n",
       "      <td>254.0</td>\n",
       "      <td>33</td>\n",
       "      <td>secondary education</td>\n",
       "      <td>1</td>\n",
       "      <td>civil partnership</td>\n",
       "      <td>1</td>\n",
       "      <td>f</td>\n",
       "      <td>employee</td>\n",
       "      <td>0</td>\n",
       "      <td>21089.9530</td>\n",
       "      <td>car purchase</td>\n",
       "      <td>30-39</td>\n",
       "    </tr>\n",
       "    <tr>\n",
       "      <th>22</th>\n",
       "      <td>1</td>\n",
       "      <td>1767.0</td>\n",
       "      <td>24</td>\n",
       "      <td>secondary education</td>\n",
       "      <td>1</td>\n",
       "      <td>civil partnership</td>\n",
       "      <td>1</td>\n",
       "      <td>f</td>\n",
       "      <td>employee</td>\n",
       "      <td>0</td>\n",
       "      <td>23948.9830</td>\n",
       "      <td>buying a second-hand car</td>\n",
       "      <td>20-29</td>\n",
       "    </tr>\n",
       "    <tr>\n",
       "      <th>23</th>\n",
       "      <td>0</td>\n",
       "      <td>273.0</td>\n",
       "      <td>21</td>\n",
       "      <td>bachelor's degree</td>\n",
       "      <td>0</td>\n",
       "      <td>civil partnership</td>\n",
       "      <td>1</td>\n",
       "      <td>m</td>\n",
       "      <td>employee</td>\n",
       "      <td>0</td>\n",
       "      <td>20522.5150</td>\n",
       "      <td>to have a wedding</td>\n",
       "      <td>20-29</td>\n",
       "    </tr>\n",
       "    <tr>\n",
       "      <th>24</th>\n",
       "      <td>1</td>\n",
       "      <td>338552.0</td>\n",
       "      <td>57</td>\n",
       "      <td>secondary education</td>\n",
       "      <td>1</td>\n",
       "      <td>unmarried</td>\n",
       "      <td>4</td>\n",
       "      <td>f</td>\n",
       "      <td>retiree</td>\n",
       "      <td>0</td>\n",
       "      <td>46487.5580</td>\n",
       "      <td>transactions with commercial real estate</td>\n",
       "      <td>50-59</td>\n",
       "    </tr>\n",
       "    <tr>\n",
       "      <th>25</th>\n",
       "      <td>0</td>\n",
       "      <td>363548.0</td>\n",
       "      <td>67</td>\n",
       "      <td>secondary education</td>\n",
       "      <td>1</td>\n",
       "      <td>married</td>\n",
       "      <td>0</td>\n",
       "      <td>m</td>\n",
       "      <td>retiree</td>\n",
       "      <td>0</td>\n",
       "      <td>8818.0410</td>\n",
       "      <td>buy real estate</td>\n",
       "      <td>60+</td>\n",
       "    </tr>\n",
       "    <tr>\n",
       "      <th>26</th>\n",
       "      <td>0</td>\n",
       "      <td>2109.0</td>\n",
       "      <td>41</td>\n",
       "      <td>secondary education</td>\n",
       "      <td>1</td>\n",
       "      <td>married</td>\n",
       "      <td>0</td>\n",
       "      <td>m</td>\n",
       "      <td>civil servant</td>\n",
       "      <td>0</td>\n",
       "      <td>24071.6695</td>\n",
       "      <td>education</td>\n",
       "      <td>40-49</td>\n",
       "    </tr>\n",
       "    <tr>\n",
       "      <th>27</th>\n",
       "      <td>0</td>\n",
       "      <td>529.0</td>\n",
       "      <td>28</td>\n",
       "      <td>bachelor's degree</td>\n",
       "      <td>0</td>\n",
       "      <td>married</td>\n",
       "      <td>0</td>\n",
       "      <td>m</td>\n",
       "      <td>employee</td>\n",
       "      <td>0</td>\n",
       "      <td>49415.8370</td>\n",
       "      <td>construction of own property</td>\n",
       "      <td>20-29</td>\n",
       "    </tr>\n",
       "    <tr>\n",
       "      <th>28</th>\n",
       "      <td>1</td>\n",
       "      <td>717.0</td>\n",
       "      <td>26</td>\n",
       "      <td>bachelor's degree</td>\n",
       "      <td>0</td>\n",
       "      <td>married</td>\n",
       "      <td>0</td>\n",
       "      <td>f</td>\n",
       "      <td>employee</td>\n",
       "      <td>0</td>\n",
       "      <td>30058.1180</td>\n",
       "      <td>construction of own property</td>\n",
       "      <td>20-29</td>\n",
       "    </tr>\n",
       "    <tr>\n",
       "      <th>29</th>\n",
       "      <td>0</td>\n",
       "      <td>355230.0</td>\n",
       "      <td>63</td>\n",
       "      <td>secondary education</td>\n",
       "      <td>1</td>\n",
       "      <td>unmarried</td>\n",
       "      <td>4</td>\n",
       "      <td>f</td>\n",
       "      <td>retiree</td>\n",
       "      <td>0</td>\n",
       "      <td>18962.3180</td>\n",
       "      <td>building a real estate</td>\n",
       "      <td>60+</td>\n",
       "    </tr>\n",
       "    <tr>\n",
       "      <th>30</th>\n",
       "      <td>1</td>\n",
       "      <td>335582.0</td>\n",
       "      <td>62</td>\n",
       "      <td>secondary education</td>\n",
       "      <td>1</td>\n",
       "      <td>married</td>\n",
       "      <td>0</td>\n",
       "      <td>f</td>\n",
       "      <td>retiree</td>\n",
       "      <td>0</td>\n",
       "      <td>27432.9710</td>\n",
       "      <td>transactions with commercial real estate</td>\n",
       "      <td>60+</td>\n",
       "    </tr>\n",
       "    <tr>\n",
       "      <th>31</th>\n",
       "      <td>0</td>\n",
       "      <td>1682.0</td>\n",
       "      <td>47</td>\n",
       "      <td>primary education</td>\n",
       "      <td>3</td>\n",
       "      <td>married</td>\n",
       "      <td>0</td>\n",
       "      <td>f</td>\n",
       "      <td>employee</td>\n",
       "      <td>0</td>\n",
       "      <td>44077.7100</td>\n",
       "      <td>housing</td>\n",
       "      <td>40-49</td>\n",
       "    </tr>\n",
       "    <tr>\n",
       "      <th>32</th>\n",
       "      <td>0</td>\n",
       "      <td>4650.0</td>\n",
       "      <td>34</td>\n",
       "      <td>secondary education</td>\n",
       "      <td>1</td>\n",
       "      <td>civil partnership</td>\n",
       "      <td>1</td>\n",
       "      <td>f</td>\n",
       "      <td>employee</td>\n",
       "      <td>1</td>\n",
       "      <td>22249.1940</td>\n",
       "      <td>having a wedding</td>\n",
       "      <td>30-39</td>\n",
       "    </tr>\n",
       "    <tr>\n",
       "      <th>33</th>\n",
       "      <td>0</td>\n",
       "      <td>1549.0</td>\n",
       "      <td>48</td>\n",
       "      <td>secondary education</td>\n",
       "      <td>1</td>\n",
       "      <td>married</td>\n",
       "      <td>0</td>\n",
       "      <td>f</td>\n",
       "      <td>business</td>\n",
       "      <td>0</td>\n",
       "      <td>25159.3260</td>\n",
       "      <td>purchase of the house</td>\n",
       "      <td>40-49</td>\n",
       "    </tr>\n",
       "    <tr>\n",
       "      <th>34</th>\n",
       "      <td>0</td>\n",
       "      <td>4488.0</td>\n",
       "      <td>35</td>\n",
       "      <td>secondary education</td>\n",
       "      <td>1</td>\n",
       "      <td>married</td>\n",
       "      <td>0</td>\n",
       "      <td>f</td>\n",
       "      <td>employee</td>\n",
       "      <td>0</td>\n",
       "      <td>16745.6720</td>\n",
       "      <td>transactions with my real estate</td>\n",
       "      <td>30-39</td>\n",
       "    </tr>\n",
       "    <tr>\n",
       "      <th>35</th>\n",
       "      <td>0</td>\n",
       "      <td>394021.0</td>\n",
       "      <td>68</td>\n",
       "      <td>secondary education</td>\n",
       "      <td>1</td>\n",
       "      <td>civil partnership</td>\n",
       "      <td>1</td>\n",
       "      <td>m</td>\n",
       "      <td>retiree</td>\n",
       "      <td>0</td>\n",
       "      <td>12448.9080</td>\n",
       "      <td>having a wedding</td>\n",
       "      <td>60+</td>\n",
       "    </tr>\n",
       "    <tr>\n",
       "      <th>36</th>\n",
       "      <td>0</td>\n",
       "      <td>176.0</td>\n",
       "      <td>33</td>\n",
       "      <td>secondary education</td>\n",
       "      <td>1</td>\n",
       "      <td>unmarried</td>\n",
       "      <td>4</td>\n",
       "      <td>m</td>\n",
       "      <td>employee</td>\n",
       "      <td>0</td>\n",
       "      <td>22212.9040</td>\n",
       "      <td>cars</td>\n",
       "      <td>30-39</td>\n",
       "    </tr>\n",
       "    <tr>\n",
       "      <th>37</th>\n",
       "      <td>0</td>\n",
       "      <td>6449.0</td>\n",
       "      <td>43</td>\n",
       "      <td>bachelor's degree</td>\n",
       "      <td>0</td>\n",
       "      <td>civil partnership</td>\n",
       "      <td>1</td>\n",
       "      <td>f</td>\n",
       "      <td>business</td>\n",
       "      <td>0</td>\n",
       "      <td>24660.6210</td>\n",
       "      <td>car purchase</td>\n",
       "      <td>40-49</td>\n",
       "    </tr>\n",
       "    <tr>\n",
       "      <th>38</th>\n",
       "      <td>0</td>\n",
       "      <td>598.0</td>\n",
       "      <td>25</td>\n",
       "      <td>bachelor's degree</td>\n",
       "      <td>0</td>\n",
       "      <td>unmarried</td>\n",
       "      <td>4</td>\n",
       "      <td>m</td>\n",
       "      <td>employee</td>\n",
       "      <td>1</td>\n",
       "      <td>30759.5680</td>\n",
       "      <td>education</td>\n",
       "      <td>20-29</td>\n",
       "    </tr>\n",
       "    <tr>\n",
       "      <th>39</th>\n",
       "      <td>0</td>\n",
       "      <td>651.0</td>\n",
       "      <td>31</td>\n",
       "      <td>bachelor's degree</td>\n",
       "      <td>0</td>\n",
       "      <td>civil partnership</td>\n",
       "      <td>1</td>\n",
       "      <td>f</td>\n",
       "      <td>business</td>\n",
       "      <td>0</td>\n",
       "      <td>120678.5280</td>\n",
       "      <td>to become educated</td>\n",
       "      <td>30-39</td>\n",
       "    </tr>\n",
       "    <tr>\n",
       "      <th>40</th>\n",
       "      <td>0</td>\n",
       "      <td>1030.0</td>\n",
       "      <td>30</td>\n",
       "      <td>secondary education</td>\n",
       "      <td>1</td>\n",
       "      <td>unmarried</td>\n",
       "      <td>4</td>\n",
       "      <td>m</td>\n",
       "      <td>business</td>\n",
       "      <td>0</td>\n",
       "      <td>22858.4930</td>\n",
       "      <td>buy real estate</td>\n",
       "      <td>30-39</td>\n",
       "    </tr>\n",
       "    <tr>\n",
       "      <th>41</th>\n",
       "      <td>0</td>\n",
       "      <td>4797.0</td>\n",
       "      <td>50</td>\n",
       "      <td>secondary education</td>\n",
       "      <td>1</td>\n",
       "      <td>married</td>\n",
       "      <td>0</td>\n",
       "      <td>f</td>\n",
       "      <td>civil servant</td>\n",
       "      <td>0</td>\n",
       "      <td>24071.6695</td>\n",
       "      <td>second-hand car purchase</td>\n",
       "      <td>50-59</td>\n",
       "    </tr>\n",
       "    <tr>\n",
       "      <th>42</th>\n",
       "      <td>0</td>\n",
       "      <td>1257.0</td>\n",
       "      <td>20</td>\n",
       "      <td>some college</td>\n",
       "      <td>2</td>\n",
       "      <td>unmarried</td>\n",
       "      <td>4</td>\n",
       "      <td>f</td>\n",
       "      <td>employee</td>\n",
       "      <td>0</td>\n",
       "      <td>13130.4140</td>\n",
       "      <td>getting an education</td>\n",
       "      <td>20-29</td>\n",
       "    </tr>\n",
       "    <tr>\n",
       "      <th>43</th>\n",
       "      <td>0</td>\n",
       "      <td>4376.0</td>\n",
       "      <td>43</td>\n",
       "      <td>some college</td>\n",
       "      <td>2</td>\n",
       "      <td>divorced</td>\n",
       "      <td>3</td>\n",
       "      <td>f</td>\n",
       "      <td>business</td>\n",
       "      <td>0</td>\n",
       "      <td>43673.1410</td>\n",
       "      <td>car purchase</td>\n",
       "      <td>40-49</td>\n",
       "    </tr>\n",
       "    <tr>\n",
       "      <th>44</th>\n",
       "      <td>1</td>\n",
       "      <td>1362.0</td>\n",
       "      <td>26</td>\n",
       "      <td>secondary education</td>\n",
       "      <td>1</td>\n",
       "      <td>married</td>\n",
       "      <td>0</td>\n",
       "      <td>f</td>\n",
       "      <td>employee</td>\n",
       "      <td>0</td>\n",
       "      <td>16124.8790</td>\n",
       "      <td>buying my own car</td>\n",
       "      <td>20-29</td>\n",
       "    </tr>\n",
       "    <tr>\n",
       "      <th>45</th>\n",
       "      <td>1</td>\n",
       "      <td>1039.0</td>\n",
       "      <td>49</td>\n",
       "      <td>secondary education</td>\n",
       "      <td>1</td>\n",
       "      <td>unmarried</td>\n",
       "      <td>4</td>\n",
       "      <td>f</td>\n",
       "      <td>employee</td>\n",
       "      <td>0</td>\n",
       "      <td>17021.7470</td>\n",
       "      <td>to become educated</td>\n",
       "      <td>40-49</td>\n",
       "    </tr>\n",
       "    <tr>\n",
       "      <th>46</th>\n",
       "      <td>2</td>\n",
       "      <td>2263.0</td>\n",
       "      <td>37</td>\n",
       "      <td>secondary education</td>\n",
       "      <td>1</td>\n",
       "      <td>married</td>\n",
       "      <td>0</td>\n",
       "      <td>f</td>\n",
       "      <td>business</td>\n",
       "      <td>0</td>\n",
       "      <td>29229.1940</td>\n",
       "      <td>second-hand car purchase</td>\n",
       "      <td>30-39</td>\n",
       "    </tr>\n",
       "    <tr>\n",
       "      <th>47</th>\n",
       "      <td>1</td>\n",
       "      <td>2689.0</td>\n",
       "      <td>33</td>\n",
       "      <td>bachelor's degree</td>\n",
       "      <td>0</td>\n",
       "      <td>civil partnership</td>\n",
       "      <td>1</td>\n",
       "      <td>m</td>\n",
       "      <td>civil servant</td>\n",
       "      <td>0</td>\n",
       "      <td>57004.4650</td>\n",
       "      <td>having a wedding</td>\n",
       "      <td>30-39</td>\n",
       "    </tr>\n",
       "    <tr>\n",
       "      <th>48</th>\n",
       "      <td>0</td>\n",
       "      <td>3341.0</td>\n",
       "      <td>45</td>\n",
       "      <td>secondary education</td>\n",
       "      <td>1</td>\n",
       "      <td>married</td>\n",
       "      <td>0</td>\n",
       "      <td>f</td>\n",
       "      <td>employee</td>\n",
       "      <td>0</td>\n",
       "      <td>25930.4830</td>\n",
       "      <td>construction of own property</td>\n",
       "      <td>40-49</td>\n",
       "    </tr>\n",
       "    <tr>\n",
       "      <th>49</th>\n",
       "      <td>0</td>\n",
       "      <td>1181.0</td>\n",
       "      <td>54</td>\n",
       "      <td>secondary education</td>\n",
       "      <td>1</td>\n",
       "      <td>married</td>\n",
       "      <td>0</td>\n",
       "      <td>f</td>\n",
       "      <td>employee</td>\n",
       "      <td>0</td>\n",
       "      <td>7134.6890</td>\n",
       "      <td>car</td>\n",
       "      <td>50-59</td>\n",
       "    </tr>\n",
       "    <tr>\n",
       "      <th>50</th>\n",
       "      <td>0</td>\n",
       "      <td>353731.0</td>\n",
       "      <td>63</td>\n",
       "      <td>secondary education</td>\n",
       "      <td>1</td>\n",
       "      <td>married</td>\n",
       "      <td>0</td>\n",
       "      <td>f</td>\n",
       "      <td>retiree</td>\n",
       "      <td>0</td>\n",
       "      <td>14774.8370</td>\n",
       "      <td>cars</td>\n",
       "      <td>60+</td>\n",
       "    </tr>\n",
       "    <tr>\n",
       "      <th>51</th>\n",
       "      <td>1</td>\n",
       "      <td>6954.0</td>\n",
       "      <td>50</td>\n",
       "      <td>bachelor's degree</td>\n",
       "      <td>0</td>\n",
       "      <td>civil partnership</td>\n",
       "      <td>1</td>\n",
       "      <td>f</td>\n",
       "      <td>employee</td>\n",
       "      <td>0</td>\n",
       "      <td>32511.9490</td>\n",
       "      <td>wedding ceremony</td>\n",
       "      <td>50-59</td>\n",
       "    </tr>\n",
       "    <tr>\n",
       "      <th>52</th>\n",
       "      <td>1</td>\n",
       "      <td>3555.0</td>\n",
       "      <td>28</td>\n",
       "      <td>secondary education</td>\n",
       "      <td>1</td>\n",
       "      <td>married</td>\n",
       "      <td>0</td>\n",
       "      <td>f</td>\n",
       "      <td>employee</td>\n",
       "      <td>0</td>\n",
       "      <td>8439.4280</td>\n",
       "      <td>to get a supplementary education</td>\n",
       "      <td>20-29</td>\n",
       "    </tr>\n",
       "    <tr>\n",
       "      <th>53</th>\n",
       "      <td>0</td>\n",
       "      <td>4220.0</td>\n",
       "      <td>61</td>\n",
       "      <td>secondary education</td>\n",
       "      <td>1</td>\n",
       "      <td>divorced</td>\n",
       "      <td>3</td>\n",
       "      <td>f</td>\n",
       "      <td>business</td>\n",
       "      <td>0</td>\n",
       "      <td>49832.5760</td>\n",
       "      <td>purchase of my own house</td>\n",
       "      <td>60+</td>\n",
       "    </tr>\n",
       "    <tr>\n",
       "      <th>54</th>\n",
       "      <td>0</td>\n",
       "      <td>3480.0</td>\n",
       "      <td>27</td>\n",
       "      <td>bachelor's degree</td>\n",
       "      <td>0</td>\n",
       "      <td>civil partnership</td>\n",
       "      <td>1</td>\n",
       "      <td>f</td>\n",
       "      <td>employee</td>\n",
       "      <td>0</td>\n",
       "      <td>14758.2100</td>\n",
       "      <td>cars</td>\n",
       "      <td>20-29</td>\n",
       "    </tr>\n",
       "    <tr>\n",
       "      <th>55</th>\n",
       "      <td>0</td>\n",
       "      <td>4797.0</td>\n",
       "      <td>54</td>\n",
       "      <td>secondary education</td>\n",
       "      <td>1</td>\n",
       "      <td>civil partnership</td>\n",
       "      <td>1</td>\n",
       "      <td>f</td>\n",
       "      <td>retiree</td>\n",
       "      <td>1</td>\n",
       "      <td>18962.3180</td>\n",
       "      <td>to have a wedding</td>\n",
       "      <td>50-59</td>\n",
       "    </tr>\n",
       "    <tr>\n",
       "      <th>56</th>\n",
       "      <td>0</td>\n",
       "      <td>370145.0</td>\n",
       "      <td>64</td>\n",
       "      <td>secondary education</td>\n",
       "      <td>1</td>\n",
       "      <td>widow / widower</td>\n",
       "      <td>2</td>\n",
       "      <td>f</td>\n",
       "      <td>retiree</td>\n",
       "      <td>0</td>\n",
       "      <td>23862.5670</td>\n",
       "      <td>education</td>\n",
       "      <td>60+</td>\n",
       "    </tr>\n",
       "    <tr>\n",
       "      <th>57</th>\n",
       "      <td>0</td>\n",
       "      <td>2425.0</td>\n",
       "      <td>44</td>\n",
       "      <td>secondary education</td>\n",
       "      <td>1</td>\n",
       "      <td>widow / widower</td>\n",
       "      <td>2</td>\n",
       "      <td>f</td>\n",
       "      <td>employee</td>\n",
       "      <td>0</td>\n",
       "      <td>9378.6250</td>\n",
       "      <td>education</td>\n",
       "      <td>40-49</td>\n",
       "    </tr>\n",
       "    <tr>\n",
       "      <th>58</th>\n",
       "      <td>0</td>\n",
       "      <td>335.0</td>\n",
       "      <td>36</td>\n",
       "      <td>bachelor's degree</td>\n",
       "      <td>0</td>\n",
       "      <td>married</td>\n",
       "      <td>0</td>\n",
       "      <td>m</td>\n",
       "      <td>employee</td>\n",
       "      <td>0</td>\n",
       "      <td>66304.6720</td>\n",
       "      <td>property</td>\n",
       "      <td>30-39</td>\n",
       "    </tr>\n",
       "    <tr>\n",
       "      <th>59</th>\n",
       "      <td>0</td>\n",
       "      <td>4342.0</td>\n",
       "      <td>53</td>\n",
       "      <td>secondary education</td>\n",
       "      <td>1</td>\n",
       "      <td>civil partnership</td>\n",
       "      <td>1</td>\n",
       "      <td>f</td>\n",
       "      <td>business</td>\n",
       "      <td>0</td>\n",
       "      <td>41819.1210</td>\n",
       "      <td>real estate transactions</td>\n",
       "      <td>50-59</td>\n",
       "    </tr>\n",
       "  </tbody>\n",
       "</table>\n",
       "</div>"
      ],
      "text/plain": [
       "    children  days_employed  dob_years            education  education_id  \\\n",
       "0          1         8438.0         42    bachelor's degree             0   \n",
       "1          1         4025.0         36  secondary education             1   \n",
       "2          0         5623.0         33  secondary education             1   \n",
       "3          3         4125.0         32  secondary education             1   \n",
       "4          0       340266.0         53  secondary education             1   \n",
       "5          0          926.0         27    bachelor's degree             0   \n",
       "6          0         2879.0         43    bachelor's degree             0   \n",
       "7          0          153.0         50  secondary education             1   \n",
       "8          2         6930.0         35    bachelor's degree             0   \n",
       "9          0         2189.0         41  secondary education             1   \n",
       "10         2         4171.0         36    bachelor's degree             0   \n",
       "11         0          793.0         40  secondary education             1   \n",
       "12         0       355230.0         65  secondary education             1   \n",
       "13         0         1847.0         54         some college             2   \n",
       "14         0         1845.0         56    bachelor's degree             0   \n",
       "15         1          972.0         26  secondary education             1   \n",
       "16         0         1720.0         35  secondary education             1   \n",
       "17         0         2370.0         33    bachelor's degree             0   \n",
       "18         0       400281.0         53  secondary education             1   \n",
       "19         0        10039.0         48  secondary education             1   \n",
       "20         1         1312.0         36  secondary education             1   \n",
       "21         1          254.0         33  secondary education             1   \n",
       "22         1         1767.0         24  secondary education             1   \n",
       "23         0          273.0         21    bachelor's degree             0   \n",
       "24         1       338552.0         57  secondary education             1   \n",
       "25         0       363548.0         67  secondary education             1   \n",
       "26         0         2109.0         41  secondary education             1   \n",
       "27         0          529.0         28    bachelor's degree             0   \n",
       "28         1          717.0         26    bachelor's degree             0   \n",
       "29         0       355230.0         63  secondary education             1   \n",
       "30         1       335582.0         62  secondary education             1   \n",
       "31         0         1682.0         47    primary education             3   \n",
       "32         0         4650.0         34  secondary education             1   \n",
       "33         0         1549.0         48  secondary education             1   \n",
       "34         0         4488.0         35  secondary education             1   \n",
       "35         0       394021.0         68  secondary education             1   \n",
       "36         0          176.0         33  secondary education             1   \n",
       "37         0         6449.0         43    bachelor's degree             0   \n",
       "38         0          598.0         25    bachelor's degree             0   \n",
       "39         0          651.0         31    bachelor's degree             0   \n",
       "40         0         1030.0         30  secondary education             1   \n",
       "41         0         4797.0         50  secondary education             1   \n",
       "42         0         1257.0         20         some college             2   \n",
       "43         0         4376.0         43         some college             2   \n",
       "44         1         1362.0         26  secondary education             1   \n",
       "45         1         1039.0         49  secondary education             1   \n",
       "46         2         2263.0         37  secondary education             1   \n",
       "47         1         2689.0         33    bachelor's degree             0   \n",
       "48         0         3341.0         45  secondary education             1   \n",
       "49         0         1181.0         54  secondary education             1   \n",
       "50         0       353731.0         63  secondary education             1   \n",
       "51         1         6954.0         50    bachelor's degree             0   \n",
       "52         1         3555.0         28  secondary education             1   \n",
       "53         0         4220.0         61  secondary education             1   \n",
       "54         0         3480.0         27    bachelor's degree             0   \n",
       "55         0         4797.0         54  secondary education             1   \n",
       "56         0       370145.0         64  secondary education             1   \n",
       "57         0         2425.0         44  secondary education             1   \n",
       "58         0          335.0         36    bachelor's degree             0   \n",
       "59         0         4342.0         53  secondary education             1   \n",
       "\n",
       "        family_status  family_status_id gender    income_type  debt  \\\n",
       "0             married                 0      f       employee     0   \n",
       "1             married                 0      f       employee     0   \n",
       "2             married                 0      m       employee     0   \n",
       "3             married                 0      m       employee     0   \n",
       "4   civil partnership                 1      f        retiree     0   \n",
       "5   civil partnership                 1      m       business     0   \n",
       "6             married                 0      f       business     0   \n",
       "7             married                 0      m       employee     0   \n",
       "8   civil partnership                 1      f       employee     0   \n",
       "9             married                 0      m       employee     0   \n",
       "10            married                 0      m       business     0   \n",
       "11            married                 0      f       employee     0   \n",
       "12  civil partnership                 1      m        retiree     0   \n",
       "13            married                 0      f       employee     0   \n",
       "14  civil partnership                 1      f       business     1   \n",
       "15            married                 0      f       employee     0   \n",
       "16            married                 0      f       employee     0   \n",
       "17  civil partnership                 1      m       employee     0   \n",
       "18    widow / widower                 2      f        retiree     0   \n",
       "19           divorced                 3      f       employee     0   \n",
       "20            married                 0      m       employee     0   \n",
       "21  civil partnership                 1      f       employee     0   \n",
       "22  civil partnership                 1      f       employee     0   \n",
       "23  civil partnership                 1      m       employee     0   \n",
       "24          unmarried                 4      f        retiree     0   \n",
       "25            married                 0      m        retiree     0   \n",
       "26            married                 0      m  civil servant     0   \n",
       "27            married                 0      m       employee     0   \n",
       "28            married                 0      f       employee     0   \n",
       "29          unmarried                 4      f        retiree     0   \n",
       "30            married                 0      f        retiree     0   \n",
       "31            married                 0      f       employee     0   \n",
       "32  civil partnership                 1      f       employee     1   \n",
       "33            married                 0      f       business     0   \n",
       "34            married                 0      f       employee     0   \n",
       "35  civil partnership                 1      m        retiree     0   \n",
       "36          unmarried                 4      m       employee     0   \n",
       "37  civil partnership                 1      f       business     0   \n",
       "38          unmarried                 4      m       employee     1   \n",
       "39  civil partnership                 1      f       business     0   \n",
       "40          unmarried                 4      m       business     0   \n",
       "41            married                 0      f  civil servant     0   \n",
       "42          unmarried                 4      f       employee     0   \n",
       "43           divorced                 3      f       business     0   \n",
       "44            married                 0      f       employee     0   \n",
       "45          unmarried                 4      f       employee     0   \n",
       "46            married                 0      f       business     0   \n",
       "47  civil partnership                 1      m  civil servant     0   \n",
       "48            married                 0      f       employee     0   \n",
       "49            married                 0      f       employee     0   \n",
       "50            married                 0      f        retiree     0   \n",
       "51  civil partnership                 1      f       employee     0   \n",
       "52            married                 0      f       employee     0   \n",
       "53           divorced                 3      f       business     0   \n",
       "54  civil partnership                 1      f       employee     0   \n",
       "55  civil partnership                 1      f        retiree     1   \n",
       "56    widow / widower                 2      f        retiree     0   \n",
       "57    widow / widower                 2      f       employee     0   \n",
       "58            married                 0      m       employee     0   \n",
       "59  civil partnership                 1      f       business     0   \n",
       "\n",
       "    total_income                                   purpose age_group  \n",
       "0     40620.1020                     purchase of the house     40-49  \n",
       "1     17932.8020                              car purchase     30-39  \n",
       "2     23341.7520                     purchase of the house     30-39  \n",
       "3     42820.5680                   supplementary education     30-39  \n",
       "4     25378.5720                         to have a wedding     50-59  \n",
       "5     40922.1700                     purchase of the house     20-29  \n",
       "6     38484.1560                      housing transactions     40-49  \n",
       "7     21731.8290                                 education     50-59  \n",
       "8     15337.0930                          having a wedding     30-39  \n",
       "9     23108.1500       purchase of the house for my family     40-49  \n",
       "10    18230.9590                           buy real estate     30-39  \n",
       "11    12331.0770                buy commercial real estate     40-49  \n",
       "12    18962.3180                         to have a wedding       60+  \n",
       "13    20873.3170                              car purchase     50-59  \n",
       "14    26420.4660               buy residential real estate     50-59  \n",
       "15    18691.3450              construction of own property     20-29  \n",
       "16    46272.4330                                  property     30-39  \n",
       "17    14465.6940                       building a property     30-39  \n",
       "18     9091.8040                  buying a second-hand car     50-59  \n",
       "19    38852.9770                         buying my own car     40-49  \n",
       "20    33528.4230                                  property     30-39  \n",
       "21    21089.9530                              car purchase     30-39  \n",
       "22    23948.9830                  buying a second-hand car     20-29  \n",
       "23    20522.5150                         to have a wedding     20-29  \n",
       "24    46487.5580  transactions with commercial real estate     50-59  \n",
       "25     8818.0410                           buy real estate       60+  \n",
       "26    24071.6695                                 education     40-49  \n",
       "27    49415.8370              construction of own property     20-29  \n",
       "28    30058.1180              construction of own property     20-29  \n",
       "29    18962.3180                    building a real estate       60+  \n",
       "30    27432.9710  transactions with commercial real estate       60+  \n",
       "31    44077.7100                                   housing     40-49  \n",
       "32    22249.1940                          having a wedding     30-39  \n",
       "33    25159.3260                     purchase of the house     40-49  \n",
       "34    16745.6720          transactions with my real estate     30-39  \n",
       "35    12448.9080                          having a wedding       60+  \n",
       "36    22212.9040                                      cars     30-39  \n",
       "37    24660.6210                              car purchase     40-49  \n",
       "38    30759.5680                                 education     20-29  \n",
       "39   120678.5280                        to become educated     30-39  \n",
       "40    22858.4930                           buy real estate     30-39  \n",
       "41    24071.6695                  second-hand car purchase     50-59  \n",
       "42    13130.4140                      getting an education     20-29  \n",
       "43    43673.1410                              car purchase     40-49  \n",
       "44    16124.8790                         buying my own car     20-29  \n",
       "45    17021.7470                        to become educated     40-49  \n",
       "46    29229.1940                  second-hand car purchase     30-39  \n",
       "47    57004.4650                          having a wedding     30-39  \n",
       "48    25930.4830              construction of own property     40-49  \n",
       "49     7134.6890                                       car     50-59  \n",
       "50    14774.8370                                      cars       60+  \n",
       "51    32511.9490                          wedding ceremony     50-59  \n",
       "52     8439.4280          to get a supplementary education     20-29  \n",
       "53    49832.5760                  purchase of my own house       60+  \n",
       "54    14758.2100                                      cars     20-29  \n",
       "55    18962.3180                         to have a wedding     50-59  \n",
       "56    23862.5670                                 education       60+  \n",
       "57     9378.6250                                 education     40-49  \n",
       "58    66304.6720                                  property     30-39  \n",
       "59    41819.1210                  real estate transactions     50-59  "
      ]
     },
     "execution_count": 76,
     "metadata": {},
     "output_type": "execute_result"
    }
   ],
   "source": [
    "# Comprueba si la función funcionó\n",
    "banco.head(60)"
   ]
  },
  {
   "cell_type": "code",
   "execution_count": 77,
   "metadata": {},
   "outputs": [
    {
     "name": "stdout",
     "output_type": "stream",
     "text": [
      "<class 'pandas.core.frame.DataFrame'>\n",
      "RangeIndex: 21454 entries, 0 to 21453\n",
      "Data columns (total 13 columns):\n",
      " #   Column            Non-Null Count  Dtype  \n",
      "---  ------            --------------  -----  \n",
      " 0   children          21454 non-null  int64  \n",
      " 1   days_employed     21454 non-null  float64\n",
      " 2   dob_years         21454 non-null  int64  \n",
      " 3   education         21454 non-null  object \n",
      " 4   education_id      21454 non-null  int64  \n",
      " 5   family_status     21454 non-null  object \n",
      " 6   family_status_id  21454 non-null  int64  \n",
      " 7   gender            21454 non-null  object \n",
      " 8   income_type       21454 non-null  object \n",
      " 9   debt              21454 non-null  int64  \n",
      " 10  total_income      21454 non-null  float64\n",
      " 11  purpose           21454 non-null  object \n",
      " 12  age_group         21454 non-null  object \n",
      "dtypes: float64(2), int64(5), object(6)\n",
      "memory usage: 2.1+ MB\n"
     ]
    }
   ],
   "source": [
    "banco.info()"
   ]
  },
  {
   "cell_type": "markdown",
   "metadata": {},
   "source": [
    "Podemos observar que todos los valores ausentes se encuentran corregidos, por lo que podemos continuar con nuestro análisis."
   ]
  },
  {
   "cell_type": "markdown",
   "metadata": {},
   "source": [
    "## Clasificación de datos <a id=\"classification\"></a>"
   ]
  },
  {
   "cell_type": "markdown",
   "metadata": {},
   "source": [
    "Se procede a mostrar los valores de los datos seleccionados para la clasificación."
   ]
  },
  {
   "cell_type": "code",
   "execution_count": 78,
   "metadata": {
    "scrolled": false
   },
   "outputs": [
    {
     "data": {
      "text/html": [
       "<div>\n",
       "<style scoped>\n",
       "    .dataframe tbody tr th:only-of-type {\n",
       "        vertical-align: middle;\n",
       "    }\n",
       "\n",
       "    .dataframe tbody tr th {\n",
       "        vertical-align: top;\n",
       "    }\n",
       "\n",
       "    .dataframe thead th {\n",
       "        text-align: right;\n",
       "    }\n",
       "</style>\n",
       "<table border=\"1\" class=\"dataframe\">\n",
       "  <thead>\n",
       "    <tr style=\"text-align: right;\">\n",
       "      <th></th>\n",
       "      <th>debt</th>\n",
       "      <th>children</th>\n",
       "      <th>family_status</th>\n",
       "      <th>total_income</th>\n",
       "      <th>purpose</th>\n",
       "    </tr>\n",
       "  </thead>\n",
       "  <tbody>\n",
       "    <tr>\n",
       "      <th>0</th>\n",
       "      <td>0</td>\n",
       "      <td>1</td>\n",
       "      <td>married</td>\n",
       "      <td>40620.102</td>\n",
       "      <td>purchase of the house</td>\n",
       "    </tr>\n",
       "    <tr>\n",
       "      <th>1</th>\n",
       "      <td>0</td>\n",
       "      <td>1</td>\n",
       "      <td>married</td>\n",
       "      <td>17932.802</td>\n",
       "      <td>car purchase</td>\n",
       "    </tr>\n",
       "    <tr>\n",
       "      <th>2</th>\n",
       "      <td>0</td>\n",
       "      <td>0</td>\n",
       "      <td>married</td>\n",
       "      <td>23341.752</td>\n",
       "      <td>purchase of the house</td>\n",
       "    </tr>\n",
       "    <tr>\n",
       "      <th>3</th>\n",
       "      <td>0</td>\n",
       "      <td>3</td>\n",
       "      <td>married</td>\n",
       "      <td>42820.568</td>\n",
       "      <td>supplementary education</td>\n",
       "    </tr>\n",
       "    <tr>\n",
       "      <th>4</th>\n",
       "      <td>0</td>\n",
       "      <td>0</td>\n",
       "      <td>civil partnership</td>\n",
       "      <td>25378.572</td>\n",
       "      <td>to have a wedding</td>\n",
       "    </tr>\n",
       "    <tr>\n",
       "      <th>...</th>\n",
       "      <td>...</td>\n",
       "      <td>...</td>\n",
       "      <td>...</td>\n",
       "      <td>...</td>\n",
       "      <td>...</td>\n",
       "    </tr>\n",
       "    <tr>\n",
       "      <th>21449</th>\n",
       "      <td>0</td>\n",
       "      <td>1</td>\n",
       "      <td>civil partnership</td>\n",
       "      <td>35966.698</td>\n",
       "      <td>housing transactions</td>\n",
       "    </tr>\n",
       "    <tr>\n",
       "      <th>21450</th>\n",
       "      <td>0</td>\n",
       "      <td>0</td>\n",
       "      <td>married</td>\n",
       "      <td>24959.969</td>\n",
       "      <td>purchase of a car</td>\n",
       "    </tr>\n",
       "    <tr>\n",
       "      <th>21451</th>\n",
       "      <td>1</td>\n",
       "      <td>1</td>\n",
       "      <td>civil partnership</td>\n",
       "      <td>14347.610</td>\n",
       "      <td>property</td>\n",
       "    </tr>\n",
       "    <tr>\n",
       "      <th>21452</th>\n",
       "      <td>1</td>\n",
       "      <td>3</td>\n",
       "      <td>married</td>\n",
       "      <td>39054.888</td>\n",
       "      <td>buying my own car</td>\n",
       "    </tr>\n",
       "    <tr>\n",
       "      <th>21453</th>\n",
       "      <td>0</td>\n",
       "      <td>2</td>\n",
       "      <td>married</td>\n",
       "      <td>13127.587</td>\n",
       "      <td>to buy a car</td>\n",
       "    </tr>\n",
       "  </tbody>\n",
       "</table>\n",
       "<p>21454 rows × 5 columns</p>\n",
       "</div>"
      ],
      "text/plain": [
       "       debt  children      family_status  total_income  \\\n",
       "0         0         1            married     40620.102   \n",
       "1         0         1            married     17932.802   \n",
       "2         0         0            married     23341.752   \n",
       "3         0         3            married     42820.568   \n",
       "4         0         0  civil partnership     25378.572   \n",
       "...     ...       ...                ...           ...   \n",
       "21449     0         1  civil partnership     35966.698   \n",
       "21450     0         0            married     24959.969   \n",
       "21451     1         1  civil partnership     14347.610   \n",
       "21452     1         3            married     39054.888   \n",
       "21453     0         2            married     13127.587   \n",
       "\n",
       "                       purpose  \n",
       "0        purchase of the house  \n",
       "1                 car purchase  \n",
       "2        purchase of the house  \n",
       "3      supplementary education  \n",
       "4            to have a wedding  \n",
       "...                        ...  \n",
       "21449     housing transactions  \n",
       "21450        purchase of a car  \n",
       "21451                 property  \n",
       "21452        buying my own car  \n",
       "21453             to buy a car  \n",
       "\n",
       "[21454 rows x 5 columns]"
      ]
     },
     "execution_count": 78,
     "metadata": {},
     "output_type": "execute_result"
    }
   ],
   "source": [
    "clasificacion_banco = banco[[\"debt\",\"children\",\"family_status\",\"total_income\",\"purpose\"]]\n",
    "clasificacion_banco"
   ]
  },
  {
   "cell_type": "markdown",
   "metadata": {},
   "source": [
    "Comprobaremos los valores únicos."
   ]
  },
  {
   "cell_type": "code",
   "execution_count": 79,
   "metadata": {},
   "outputs": [
    {
     "data": {
      "text/plain": [
       "array(['purchase of the house', 'car purchase', 'supplementary education',\n",
       "       'to have a wedding', 'housing transactions', 'education',\n",
       "       'having a wedding', 'purchase of the house for my family',\n",
       "       'buy real estate', 'buy commercial real estate',\n",
       "       'buy residential real estate', 'construction of own property',\n",
       "       'property', 'building a property', 'buying a second-hand car',\n",
       "       'buying my own car', 'transactions with commercial real estate',\n",
       "       'building a real estate', 'housing',\n",
       "       'transactions with my real estate', 'cars', 'to become educated',\n",
       "       'second-hand car purchase', 'getting an education', 'car',\n",
       "       'wedding ceremony', 'to get a supplementary education',\n",
       "       'purchase of my own house', 'real estate transactions',\n",
       "       'getting higher education', 'to own a car', 'purchase of a car',\n",
       "       'profile education', 'university education',\n",
       "       'buying property for renting out', 'to buy a car',\n",
       "       'housing renovation', 'going to university'], dtype=object)"
      ]
     },
     "execution_count": 79,
     "metadata": {},
     "output_type": "execute_result"
    }
   ],
   "source": [
    "banco[\"purpose\"].unique()"
   ]
  },
  {
   "cell_type": "code",
   "execution_count": 80,
   "metadata": {},
   "outputs": [
    {
     "data": {
      "text/plain": [
       "array(['married', 'civil partnership', 'widow / widower', 'divorced',\n",
       "       'unmarried'], dtype=object)"
      ]
     },
     "execution_count": 80,
     "metadata": {},
     "output_type": "execute_result"
    }
   ],
   "source": [
    "banco[\"family_status\"].unique()"
   ]
  },
  {
   "cell_type": "markdown",
   "metadata": {},
   "source": [
    "En el caso de \"purpose\" se pueden observar muchos valores únicos lo cual dificulta el análisis de estos datos pero a su vez estos presentan temáticas comunes, por lo anterior se decide clasificarlos en 5 categorías temáticas, estas son \"wedding\", \"housing\", \"commercial\", \"car\" y \"education\". Por parte de \"family_status\" los valores únicos son lo suficientemente específicos y reducidos por lo que no se realizará una mayor clasificación de estos datos.\n"
   ]
  },
  {
   "cell_type": "code",
   "execution_count": 81,
   "metadata": {},
   "outputs": [],
   "source": [
    "def purpose_group(row):    \n",
    "    if \"wedding\" in row:\n",
    "        return(\"wedding\")\n",
    "    elif \"car\" in row:\n",
    "        return(\"car\")\n",
    "    elif \"educat\" in row or \"university\" in row:\n",
    "        return(\"education\")\n",
    "    elif \"transaction\" in row or \"commercial\" in row or \"renting\" in row:\n",
    "        return(\"commercial\")\n",
    "    else:\n",
    "        return(\"housing\") "
   ]
  },
  {
   "cell_type": "code",
   "execution_count": 82,
   "metadata": {},
   "outputs": [
    {
     "data": {
      "text/plain": [
       "housing       6895\n",
       "car           4306\n",
       "education     4013\n",
       "commercial    3916\n",
       "wedding       2324\n",
       "Name: purpose_group, dtype: int64"
      ]
     },
     "execution_count": 82,
     "metadata": {},
     "output_type": "execute_result"
    }
   ],
   "source": [
    "banco[\"purpose_group\"] = banco[\"purpose\"].apply(purpose_group)\n",
    "banco[\"purpose_group\"].value_counts()"
   ]
  },
  {
   "cell_type": "markdown",
   "metadata": {},
   "source": [
    "Revisaremos todos los datos numéricos en la columna seleccionada para la clasificación."
   ]
  },
  {
   "cell_type": "code",
   "execution_count": 83,
   "metadata": {},
   "outputs": [
    {
     "data": {
      "text/plain": [
       "0    14091\n",
       "1     4855\n",
       "2     2128\n",
       "3      330\n",
       "4       41\n",
       "5        9\n",
       "Name: children, dtype: int64"
      ]
     },
     "execution_count": 83,
     "metadata": {},
     "output_type": "execute_result"
    }
   ],
   "source": [
    "banco[\"children\"].value_counts()"
   ]
  },
  {
   "cell_type": "code",
   "execution_count": 84,
   "metadata": {},
   "outputs": [
    {
     "data": {
      "text/plain": [
       "22815.1035    1070\n",
       "27577.2720     502\n",
       "18962.3180     387\n",
       "24071.6695     145\n",
       "79866.1030       2\n",
       "              ... \n",
       "27020.8950       1\n",
       "23686.8350       1\n",
       "9606.2940        1\n",
       "28156.7620       1\n",
       "13127.5870       1\n",
       "Name: total_income, Length: 19350, dtype: int64"
      ]
     },
     "execution_count": 84,
     "metadata": {},
     "output_type": "execute_result"
    }
   ],
   "source": [
    "banco[\"total_income\"].value_counts()"
   ]
  },
  {
   "cell_type": "code",
   "execution_count": 85,
   "metadata": {},
   "outputs": [
    {
     "data": {
      "text/plain": [
       "19350"
      ]
     },
     "execution_count": 85,
     "metadata": {},
     "output_type": "execute_result"
    }
   ],
   "source": [
    "banco[\"total_income\"].nunique()"
   ]
  },
  {
   "cell_type": "code",
   "execution_count": 86,
   "metadata": {},
   "outputs": [
    {
     "data": {
      "text/plain": [
       "22815.103499999997"
      ]
     },
     "execution_count": 86,
     "metadata": {},
     "output_type": "execute_result"
    }
   ],
   "source": [
    "banco[\"total_income\"].quantile(0.5)"
   ]
  },
  {
   "cell_type": "code",
   "execution_count": 87,
   "metadata": {},
   "outputs": [
    {
     "data": {
      "text/plain": [
       "31331.347999999998"
      ]
     },
     "execution_count": 87,
     "metadata": {},
     "output_type": "execute_result"
    }
   ],
   "source": [
    "banco[\"total_income\"].quantile(0.75)"
   ]
  },
  {
   "cell_type": "code",
   "execution_count": 88,
   "metadata": {},
   "outputs": [
    {
     "data": {
      "text/plain": [
       "50368.575639999995"
      ]
     },
     "execution_count": 88,
     "metadata": {},
     "output_type": "execute_result"
    }
   ],
   "source": [
    "banco[\"total_income\"].quantile(0.94)"
   ]
  },
  {
   "cell_type": "markdown",
   "metadata": {},
   "source": [
    "Con respecto a la columna \"children\" observando la cantidad de valores respecto a la cantidad de hijos se decide agrupar desde los 3 hijos o más en una sola categoría debido a que son muchos menos datos en comparación a cantidades menores de hijos. Investigando la columna \"total_income\" es inviable utilizar los valores únicos por si mismos ya que estos ascienden a 19350 valores, por otra parte, podemos apreciar que la mayor acumulación de datos se da en un ingreso de hasta 50000, correspondiendo entre 0 y 50000 a aproximadamente un 94% de los datos, debido a esto y a que prácticamente el 99% de los datos solo se repite 1 o 2 veces es que se dividirán en tramos de 10000 y un último tramo de 50000 o más"
   ]
  },
  {
   "cell_type": "markdown",
   "metadata": {},
   "source": [
    "Crearemos las funciones para realizar las agrupaciones."
   ]
  },
  {
   "cell_type": "code",
   "execution_count": 89,
   "metadata": {},
   "outputs": [],
   "source": [
    "def children_group(children):\n",
    "    if children == 0:\n",
    "        return \"0\"\n",
    "    elif children == 1:\n",
    "        return \"1\"\n",
    "    elif children == 2:\n",
    "        return \"2\"\n",
    "    else:\n",
    "        return \"3+\""
   ]
  },
  {
   "cell_type": "code",
   "execution_count": 90,
   "metadata": {},
   "outputs": [],
   "source": [
    "def income_group(income):\n",
    "    if 0 <= income < 10000:\n",
    "        return \"0-9999\"\n",
    "    elif 10000 <= income < 20000:\n",
    "        return \"10000-19999\"\n",
    "    elif 20000 <= income < 30000:\n",
    "        return \"20000-29999\"\n",
    "    elif 30000 <= income < 40000:\n",
    "        return \"30000-39999\"\n",
    "    elif 40000 <= income < 50000:\n",
    "        return \"40000-49999\"\n",
    "    return \"50000+\" "
   ]
  },
  {
   "cell_type": "markdown",
   "metadata": {},
   "source": [
    "Aplicaremos las funciones y observaremos los resultados."
   ]
  },
  {
   "cell_type": "code",
   "execution_count": 92,
   "metadata": {},
   "outputs": [],
   "source": [
    "banco[\"children_group\"] = banco[\"children\"].apply(children_group)"
   ]
  },
  {
   "cell_type": "code",
   "execution_count": 93,
   "metadata": {},
   "outputs": [],
   "source": [
    "banco[\"income_group\"] = banco[\"total_income\"].apply(income_group)"
   ]
  },
  {
   "cell_type": "code",
   "execution_count": 94,
   "metadata": {
    "scrolled": true
   },
   "outputs": [
    {
     "data": {
      "text/plain": [
       "0     14091\n",
       "1      4855\n",
       "2      2128\n",
       "3+      380\n",
       "Name: children_group, dtype: int64"
      ]
     },
     "execution_count": 94,
     "metadata": {},
     "output_type": "execute_result"
    }
   ],
   "source": [
    "banco[\"children_group\"].value_counts()"
   ]
  },
  {
   "cell_type": "code",
   "execution_count": 95,
   "metadata": {},
   "outputs": [
    {
     "data": {
      "text/plain": [
       "20000-29999    7779\n",
       "10000-19999    6829\n",
       "30000-39999    3107\n",
       "40000-49999    1492\n",
       "50000+         1321\n",
       "0-9999          926\n",
       "Name: income_group, dtype: int64"
      ]
     },
     "execution_count": 95,
     "metadata": {},
     "output_type": "execute_result"
    }
   ],
   "source": [
    "banco[\"income_group\"].value_counts()"
   ]
  },
  {
   "cell_type": "markdown",
   "metadata": {},
   "source": [
    "## Comprobación de las hipótesis <a id=\"hypotheses\"></a>\n"
   ]
  },
  {
   "cell_type": "markdown",
   "metadata": {},
   "source": [
    "¿Existe una correlación entre tener hijos y pagar a tiempo?"
   ]
  },
  {
   "cell_type": "code",
   "execution_count": 96,
   "metadata": {},
   "outputs": [
    {
     "data": {
      "text/html": [
       "<div>\n",
       "<style scoped>\n",
       "    .dataframe tbody tr th:only-of-type {\n",
       "        vertical-align: middle;\n",
       "    }\n",
       "\n",
       "    .dataframe tbody tr th {\n",
       "        vertical-align: top;\n",
       "    }\n",
       "\n",
       "    .dataframe thead tr th {\n",
       "        text-align: left;\n",
       "    }\n",
       "\n",
       "    .dataframe thead tr:last-of-type th {\n",
       "        text-align: right;\n",
       "    }\n",
       "</style>\n",
       "<table border=\"1\" class=\"dataframe\">\n",
       "  <thead>\n",
       "    <tr>\n",
       "      <th></th>\n",
       "      <th colspan=\"2\" halign=\"left\">children</th>\n",
       "    </tr>\n",
       "    <tr>\n",
       "      <th>debt</th>\n",
       "      <th>0</th>\n",
       "      <th>1</th>\n",
       "    </tr>\n",
       "    <tr>\n",
       "      <th>children_group</th>\n",
       "      <th></th>\n",
       "      <th></th>\n",
       "    </tr>\n",
       "  </thead>\n",
       "  <tbody>\n",
       "    <tr>\n",
       "      <th>0</th>\n",
       "      <td>13028</td>\n",
       "      <td>1063</td>\n",
       "    </tr>\n",
       "    <tr>\n",
       "      <th>1</th>\n",
       "      <td>4410</td>\n",
       "      <td>445</td>\n",
       "    </tr>\n",
       "    <tr>\n",
       "      <th>2</th>\n",
       "      <td>1926</td>\n",
       "      <td>202</td>\n",
       "    </tr>\n",
       "    <tr>\n",
       "      <th>3+</th>\n",
       "      <td>349</td>\n",
       "      <td>31</td>\n",
       "    </tr>\n",
       "  </tbody>\n",
       "</table>\n",
       "</div>"
      ],
      "text/plain": [
       "               children      \n",
       "debt                  0     1\n",
       "children_group               \n",
       "0                 13028  1063\n",
       "1                  4410   445\n",
       "2                  1926   202\n",
       "3+                  349    31"
      ]
     },
     "execution_count": 96,
     "metadata": {},
     "output_type": "execute_result"
    }
   ],
   "source": [
    "children_df = banco[[\"children_group\",\"debt\",\"children\"]]\n",
    "children_pivot = children_df.pivot_table(index=\"children_group\",  columns=\"debt\", aggfunc=\"count\")\n",
    "children_pivot"
   ]
  },
  {
   "cell_type": "code",
   "execution_count": 97,
   "metadata": {},
   "outputs": [
    {
     "data": {
      "text/html": [
       "<div>\n",
       "<style scoped>\n",
       "    .dataframe tbody tr th:only-of-type {\n",
       "        vertical-align: middle;\n",
       "    }\n",
       "\n",
       "    .dataframe tbody tr th {\n",
       "        vertical-align: top;\n",
       "    }\n",
       "\n",
       "    .dataframe thead tr th {\n",
       "        text-align: left;\n",
       "    }\n",
       "\n",
       "    .dataframe thead tr:last-of-type th {\n",
       "        text-align: right;\n",
       "    }\n",
       "</style>\n",
       "<table border=\"1\" class=\"dataframe\">\n",
       "  <thead>\n",
       "    <tr>\n",
       "      <th></th>\n",
       "      <th colspan=\"2\" halign=\"left\">children</th>\n",
       "    </tr>\n",
       "    <tr>\n",
       "      <th>debt</th>\n",
       "      <th>0</th>\n",
       "      <th>1</th>\n",
       "    </tr>\n",
       "    <tr>\n",
       "      <th>children_group</th>\n",
       "      <th></th>\n",
       "      <th></th>\n",
       "    </tr>\n",
       "  </thead>\n",
       "  <tbody>\n",
       "    <tr>\n",
       "      <th>0</th>\n",
       "      <td>1.0</td>\n",
       "      <td>0.081593</td>\n",
       "    </tr>\n",
       "    <tr>\n",
       "      <th>1</th>\n",
       "      <td>1.0</td>\n",
       "      <td>0.100907</td>\n",
       "    </tr>\n",
       "    <tr>\n",
       "      <th>2</th>\n",
       "      <td>1.0</td>\n",
       "      <td>0.104881</td>\n",
       "    </tr>\n",
       "    <tr>\n",
       "      <th>3+</th>\n",
       "      <td>1.0</td>\n",
       "      <td>0.088825</td>\n",
       "    </tr>\n",
       "  </tbody>\n",
       "</table>\n",
       "</div>"
      ],
      "text/plain": [
       "               children          \n",
       "debt                  0         1\n",
       "children_group                   \n",
       "0                   1.0  0.081593\n",
       "1                   1.0  0.100907\n",
       "2                   1.0  0.104881\n",
       "3+                  1.0  0.088825"
      ]
     },
     "execution_count": 97,
     "metadata": {},
     "output_type": "execute_result"
    }
   ],
   "source": [
    "children_percentage = children_pivot.div( children_pivot.iloc[:,0], axis=0 )\n",
    "children_percentage"
   ]
  },
  {
   "cell_type": "markdown",
   "metadata": {},
   "source": [
    "Considerando que la tasa de incumplimiento general de los datos es de alrededor de un 8,8%, se puede apreciar que la gente sin hijos tiende a tener un mejor ratio en el cumplimiento de pago a tiempo, también es de considerar que aunque todas las personas con hijos se encuentras sobre el promedio de incumplimiento general, las personas con 3 o más hijos presentan un ratio mejor de cumplimiento que las personas con 1 o 2 hijos. Lo primero puede deberse a que personas con hijos sean más proclives a adquirir deudas al poseer más gastos mientras que lo segundo podría haber sido influenciado por la poca cantidad de datos versus el resto de los segmentos. Finalmente se puede concluir que existe una correlación entre tener hijos y pagar a tiempo, presentándose una mayor tendencia en el pago a tiempo en gente sin hijos pero no puede confirmarse una correlación directa con el número de hijos que posea la persona, necesitando una mayor cantidad de datos para afirmar que a mayor cantidad de hijos disminuyera la tendencia a pagar a tiempo."
   ]
  },
  {
   "cell_type": "markdown",
   "metadata": {},
   "source": [
    "**¿Existe una correlación entre la situación familiar y el pago a tiempo?**"
   ]
  },
  {
   "cell_type": "code",
   "execution_count": 98,
   "metadata": {},
   "outputs": [
    {
     "data": {
      "text/html": [
       "<div>\n",
       "<style scoped>\n",
       "    .dataframe tbody tr th:only-of-type {\n",
       "        vertical-align: middle;\n",
       "    }\n",
       "\n",
       "    .dataframe tbody tr th {\n",
       "        vertical-align: top;\n",
       "    }\n",
       "\n",
       "    .dataframe thead tr th {\n",
       "        text-align: left;\n",
       "    }\n",
       "\n",
       "    .dataframe thead tr:last-of-type th {\n",
       "        text-align: right;\n",
       "    }\n",
       "</style>\n",
       "<table border=\"1\" class=\"dataframe\">\n",
       "  <thead>\n",
       "    <tr>\n",
       "      <th></th>\n",
       "      <th colspan=\"2\" halign=\"left\">family_status_id</th>\n",
       "    </tr>\n",
       "    <tr>\n",
       "      <th>debt</th>\n",
       "      <th>0</th>\n",
       "      <th>1</th>\n",
       "    </tr>\n",
       "    <tr>\n",
       "      <th>family_status</th>\n",
       "      <th></th>\n",
       "      <th></th>\n",
       "    </tr>\n",
       "  </thead>\n",
       "  <tbody>\n",
       "    <tr>\n",
       "      <th>civil partnership</th>\n",
       "      <td>3763</td>\n",
       "      <td>388</td>\n",
       "    </tr>\n",
       "    <tr>\n",
       "      <th>divorced</th>\n",
       "      <td>1110</td>\n",
       "      <td>85</td>\n",
       "    </tr>\n",
       "    <tr>\n",
       "      <th>married</th>\n",
       "      <td>11408</td>\n",
       "      <td>931</td>\n",
       "    </tr>\n",
       "    <tr>\n",
       "      <th>unmarried</th>\n",
       "      <td>2536</td>\n",
       "      <td>274</td>\n",
       "    </tr>\n",
       "    <tr>\n",
       "      <th>widow / widower</th>\n",
       "      <td>896</td>\n",
       "      <td>63</td>\n",
       "    </tr>\n",
       "  </tbody>\n",
       "</table>\n",
       "</div>"
      ],
      "text/plain": [
       "                  family_status_id     \n",
       "debt                             0    1\n",
       "family_status                          \n",
       "civil partnership             3763  388\n",
       "divorced                      1110   85\n",
       "married                      11408  931\n",
       "unmarried                     2536  274\n",
       "widow / widower                896   63"
      ]
     },
     "execution_count": 98,
     "metadata": {},
     "output_type": "execute_result"
    }
   ],
   "source": [
    "family_df = banco[[\"family_status\",\"debt\",\"family_status_id\"]]\n",
    "family_pivot = family_df.pivot_table(index=\"family_status\",  columns=\"debt\", aggfunc=\"count\")\n",
    "family_pivot"
   ]
  },
  {
   "cell_type": "code",
   "execution_count": 99,
   "metadata": {},
   "outputs": [
    {
     "data": {
      "text/html": [
       "<div>\n",
       "<style scoped>\n",
       "    .dataframe tbody tr th:only-of-type {\n",
       "        vertical-align: middle;\n",
       "    }\n",
       "\n",
       "    .dataframe tbody tr th {\n",
       "        vertical-align: top;\n",
       "    }\n",
       "\n",
       "    .dataframe thead tr th {\n",
       "        text-align: left;\n",
       "    }\n",
       "\n",
       "    .dataframe thead tr:last-of-type th {\n",
       "        text-align: right;\n",
       "    }\n",
       "</style>\n",
       "<table border=\"1\" class=\"dataframe\">\n",
       "  <thead>\n",
       "    <tr>\n",
       "      <th></th>\n",
       "      <th colspan=\"2\" halign=\"left\">family_status_id</th>\n",
       "    </tr>\n",
       "    <tr>\n",
       "      <th>debt</th>\n",
       "      <th>0</th>\n",
       "      <th>1</th>\n",
       "    </tr>\n",
       "    <tr>\n",
       "      <th>family_status</th>\n",
       "      <th></th>\n",
       "      <th></th>\n",
       "    </tr>\n",
       "  </thead>\n",
       "  <tbody>\n",
       "    <tr>\n",
       "      <th>civil partnership</th>\n",
       "      <td>1.0</td>\n",
       "      <td>0.103109</td>\n",
       "    </tr>\n",
       "    <tr>\n",
       "      <th>divorced</th>\n",
       "      <td>1.0</td>\n",
       "      <td>0.076577</td>\n",
       "    </tr>\n",
       "    <tr>\n",
       "      <th>married</th>\n",
       "      <td>1.0</td>\n",
       "      <td>0.081609</td>\n",
       "    </tr>\n",
       "    <tr>\n",
       "      <th>unmarried</th>\n",
       "      <td>1.0</td>\n",
       "      <td>0.108044</td>\n",
       "    </tr>\n",
       "    <tr>\n",
       "      <th>widow / widower</th>\n",
       "      <td>1.0</td>\n",
       "      <td>0.070312</td>\n",
       "    </tr>\n",
       "  </tbody>\n",
       "</table>\n",
       "</div>"
      ],
      "text/plain": [
       "                  family_status_id          \n",
       "debt                             0         1\n",
       "family_status                               \n",
       "civil partnership              1.0  0.103109\n",
       "divorced                       1.0  0.076577\n",
       "married                        1.0  0.081609\n",
       "unmarried                      1.0  0.108044\n",
       "widow / widower                1.0  0.070312"
      ]
     },
     "execution_count": 99,
     "metadata": {},
     "output_type": "execute_result"
    }
   ],
   "source": [
    "family_percentage = family_pivot.div( family_pivot.iloc[:,0], axis=0 )\n",
    "family_percentage"
   ]
  },
  {
   "cell_type": "markdown",
   "metadata": {},
   "source": [
    "El estado familiar fue una de las categorías que prácticamente no presento manipulaciones durante el desarrollo del informe, considerando lo anterior se puede observar que solo dos categorías presentan una tasa de incumplimiento por sobre la general, personas que no están casadas y personas con unión civil, de lo anterior podría inferirse que existe una mayor relación hacia la edad de las personas que a la situación familiar en si misma ya que la unión civil o le gente que aún no se casa se relaciona a gente más joven que el resto de las categorías."
   ]
  },
  {
   "cell_type": "markdown",
   "metadata": {},
   "source": [
    "**¿Existe una correlación entre el nivel de ingresos y el pago a tiempo?**"
   ]
  },
  {
   "cell_type": "code",
   "execution_count": 100,
   "metadata": {},
   "outputs": [
    {
     "data": {
      "text/html": [
       "<div>\n",
       "<style scoped>\n",
       "    .dataframe tbody tr th:only-of-type {\n",
       "        vertical-align: middle;\n",
       "    }\n",
       "\n",
       "    .dataframe tbody tr th {\n",
       "        vertical-align: top;\n",
       "    }\n",
       "\n",
       "    .dataframe thead tr th {\n",
       "        text-align: left;\n",
       "    }\n",
       "\n",
       "    .dataframe thead tr:last-of-type th {\n",
       "        text-align: right;\n",
       "    }\n",
       "</style>\n",
       "<table border=\"1\" class=\"dataframe\">\n",
       "  <thead>\n",
       "    <tr>\n",
       "      <th></th>\n",
       "      <th colspan=\"2\" halign=\"left\">total_income</th>\n",
       "    </tr>\n",
       "    <tr>\n",
       "      <th>debt</th>\n",
       "      <th>0</th>\n",
       "      <th>1</th>\n",
       "    </tr>\n",
       "    <tr>\n",
       "      <th>income_group</th>\n",
       "      <th></th>\n",
       "      <th></th>\n",
       "    </tr>\n",
       "  </thead>\n",
       "  <tbody>\n",
       "    <tr>\n",
       "      <th>0-9999</th>\n",
       "      <td>868</td>\n",
       "      <td>58</td>\n",
       "    </tr>\n",
       "    <tr>\n",
       "      <th>10000-19999</th>\n",
       "      <td>6244</td>\n",
       "      <td>585</td>\n",
       "    </tr>\n",
       "    <tr>\n",
       "      <th>20000-29999</th>\n",
       "      <td>7117</td>\n",
       "      <td>662</td>\n",
       "    </tr>\n",
       "    <tr>\n",
       "      <th>30000-39999</th>\n",
       "      <td>2865</td>\n",
       "      <td>242</td>\n",
       "    </tr>\n",
       "    <tr>\n",
       "      <th>40000-49999</th>\n",
       "      <td>1390</td>\n",
       "      <td>102</td>\n",
       "    </tr>\n",
       "    <tr>\n",
       "      <th>50000+</th>\n",
       "      <td>1229</td>\n",
       "      <td>92</td>\n",
       "    </tr>\n",
       "  </tbody>\n",
       "</table>\n",
       "</div>"
      ],
      "text/plain": [
       "             total_income     \n",
       "debt                    0    1\n",
       "income_group                  \n",
       "0-9999                868   58\n",
       "10000-19999          6244  585\n",
       "20000-29999          7117  662\n",
       "30000-39999          2865  242\n",
       "40000-49999          1390  102\n",
       "50000+               1229   92"
      ]
     },
     "execution_count": 100,
     "metadata": {},
     "output_type": "execute_result"
    }
   ],
   "source": [
    "income_df = banco[[\"income_group\",\"debt\",\"total_income\"]]\n",
    "income_pivot = income_df.pivot_table(index=\"income_group\",  columns=\"debt\", aggfunc=\"count\")\n",
    "income_pivot"
   ]
  },
  {
   "cell_type": "code",
   "execution_count": 101,
   "metadata": {},
   "outputs": [
    {
     "data": {
      "text/html": [
       "<div>\n",
       "<style scoped>\n",
       "    .dataframe tbody tr th:only-of-type {\n",
       "        vertical-align: middle;\n",
       "    }\n",
       "\n",
       "    .dataframe tbody tr th {\n",
       "        vertical-align: top;\n",
       "    }\n",
       "\n",
       "    .dataframe thead tr th {\n",
       "        text-align: left;\n",
       "    }\n",
       "\n",
       "    .dataframe thead tr:last-of-type th {\n",
       "        text-align: right;\n",
       "    }\n",
       "</style>\n",
       "<table border=\"1\" class=\"dataframe\">\n",
       "  <thead>\n",
       "    <tr>\n",
       "      <th></th>\n",
       "      <th colspan=\"2\" halign=\"left\">total_income</th>\n",
       "    </tr>\n",
       "    <tr>\n",
       "      <th>debt</th>\n",
       "      <th>0</th>\n",
       "      <th>1</th>\n",
       "    </tr>\n",
       "    <tr>\n",
       "      <th>income_group</th>\n",
       "      <th></th>\n",
       "      <th></th>\n",
       "    </tr>\n",
       "  </thead>\n",
       "  <tbody>\n",
       "    <tr>\n",
       "      <th>0-9999</th>\n",
       "      <td>1.0</td>\n",
       "      <td>0.066820</td>\n",
       "    </tr>\n",
       "    <tr>\n",
       "      <th>10000-19999</th>\n",
       "      <td>1.0</td>\n",
       "      <td>0.093690</td>\n",
       "    </tr>\n",
       "    <tr>\n",
       "      <th>20000-29999</th>\n",
       "      <td>1.0</td>\n",
       "      <td>0.093017</td>\n",
       "    </tr>\n",
       "    <tr>\n",
       "      <th>30000-39999</th>\n",
       "      <td>1.0</td>\n",
       "      <td>0.084468</td>\n",
       "    </tr>\n",
       "    <tr>\n",
       "      <th>40000-49999</th>\n",
       "      <td>1.0</td>\n",
       "      <td>0.073381</td>\n",
       "    </tr>\n",
       "    <tr>\n",
       "      <th>50000+</th>\n",
       "      <td>1.0</td>\n",
       "      <td>0.074858</td>\n",
       "    </tr>\n",
       "  </tbody>\n",
       "</table>\n",
       "</div>"
      ],
      "text/plain": [
       "             total_income          \n",
       "debt                    0         1\n",
       "income_group                       \n",
       "0-9999                1.0  0.066820\n",
       "10000-19999           1.0  0.093690\n",
       "20000-29999           1.0  0.093017\n",
       "30000-39999           1.0  0.084468\n",
       "40000-49999           1.0  0.073381\n",
       "50000+                1.0  0.074858"
      ]
     },
     "execution_count": 101,
     "metadata": {},
     "output_type": "execute_result"
    }
   ],
   "source": [
    "income_percentage = income_pivot.div( income_pivot.iloc[:,0], axis=0 )\n",
    "income_percentage"
   ]
  },
  {
   "cell_type": "markdown",
   "metadata": {},
   "source": [
    "Con respecto al ingreso total de las personas se puede observar que existe una mayor tendencia al incumplimiento en los ingresos medios de la gente mientras que para las personas de ingreso más bajo o más alto disminuye la tasa de incumplimiento. En este caso se puede inferir que la gente de ingreso medio tenga un mayor acceso a créditos, ya que la gente de menor ingreso puede verse rechazada en el proceso de petición de los créditos mientras que gente de mayor ingreso no los necesite. En razón de lo anterior existe una mayor probabilidad de que la gente de ingresos medios no cumplan con el pago ya que son los que más acceso tienen a los préstamos y también concentran la mayor parte de la muestra en comparación con las otras categorías."
   ]
  },
  {
   "cell_type": "markdown",
   "metadata": {},
   "source": [
    "**¿Cómo afecta el propósito del crédito a la tasa de incumplimiento?**"
   ]
  },
  {
   "cell_type": "code",
   "execution_count": 102,
   "metadata": {},
   "outputs": [
    {
     "data": {
      "text/html": [
       "<div>\n",
       "<style scoped>\n",
       "    .dataframe tbody tr th:only-of-type {\n",
       "        vertical-align: middle;\n",
       "    }\n",
       "\n",
       "    .dataframe tbody tr th {\n",
       "        vertical-align: top;\n",
       "    }\n",
       "\n",
       "    .dataframe thead tr th {\n",
       "        text-align: left;\n",
       "    }\n",
       "\n",
       "    .dataframe thead tr:last-of-type th {\n",
       "        text-align: right;\n",
       "    }\n",
       "</style>\n",
       "<table border=\"1\" class=\"dataframe\">\n",
       "  <thead>\n",
       "    <tr>\n",
       "      <th></th>\n",
       "      <th colspan=\"2\" halign=\"left\">purpose</th>\n",
       "    </tr>\n",
       "    <tr>\n",
       "      <th>debt</th>\n",
       "      <th>0</th>\n",
       "      <th>1</th>\n",
       "    </tr>\n",
       "    <tr>\n",
       "      <th>purpose_group</th>\n",
       "      <th></th>\n",
       "      <th></th>\n",
       "    </tr>\n",
       "  </thead>\n",
       "  <tbody>\n",
       "    <tr>\n",
       "      <th>car</th>\n",
       "      <td>3903</td>\n",
       "      <td>403</td>\n",
       "    </tr>\n",
       "    <tr>\n",
       "      <th>commercial</th>\n",
       "      <td>3612</td>\n",
       "      <td>304</td>\n",
       "    </tr>\n",
       "    <tr>\n",
       "      <th>education</th>\n",
       "      <td>3643</td>\n",
       "      <td>370</td>\n",
       "    </tr>\n",
       "    <tr>\n",
       "      <th>housing</th>\n",
       "      <td>6417</td>\n",
       "      <td>478</td>\n",
       "    </tr>\n",
       "    <tr>\n",
       "      <th>wedding</th>\n",
       "      <td>2138</td>\n",
       "      <td>186</td>\n",
       "    </tr>\n",
       "  </tbody>\n",
       "</table>\n",
       "</div>"
      ],
      "text/plain": [
       "              purpose     \n",
       "debt                0    1\n",
       "purpose_group             \n",
       "car              3903  403\n",
       "commercial       3612  304\n",
       "education        3643  370\n",
       "housing          6417  478\n",
       "wedding          2138  186"
      ]
     },
     "execution_count": 102,
     "metadata": {},
     "output_type": "execute_result"
    }
   ],
   "source": [
    "purpose_df = banco[[\"purpose_group\",\"debt\",\"purpose\"]]\n",
    "purpose_pivot = purpose_df.pivot_table(index=\"purpose_group\",  columns=\"debt\", aggfunc=\"count\")\n",
    "purpose_pivot"
   ]
  },
  {
   "cell_type": "code",
   "execution_count": 103,
   "metadata": {},
   "outputs": [
    {
     "data": {
      "text/html": [
       "<div>\n",
       "<style scoped>\n",
       "    .dataframe tbody tr th:only-of-type {\n",
       "        vertical-align: middle;\n",
       "    }\n",
       "\n",
       "    .dataframe tbody tr th {\n",
       "        vertical-align: top;\n",
       "    }\n",
       "\n",
       "    .dataframe thead tr th {\n",
       "        text-align: left;\n",
       "    }\n",
       "\n",
       "    .dataframe thead tr:last-of-type th {\n",
       "        text-align: right;\n",
       "    }\n",
       "</style>\n",
       "<table border=\"1\" class=\"dataframe\">\n",
       "  <thead>\n",
       "    <tr>\n",
       "      <th></th>\n",
       "      <th colspan=\"2\" halign=\"left\">purpose</th>\n",
       "    </tr>\n",
       "    <tr>\n",
       "      <th>debt</th>\n",
       "      <th>0</th>\n",
       "      <th>1</th>\n",
       "    </tr>\n",
       "    <tr>\n",
       "      <th>purpose_group</th>\n",
       "      <th></th>\n",
       "      <th></th>\n",
       "    </tr>\n",
       "  </thead>\n",
       "  <tbody>\n",
       "    <tr>\n",
       "      <th>car</th>\n",
       "      <td>1.0</td>\n",
       "      <td>0.103254</td>\n",
       "    </tr>\n",
       "    <tr>\n",
       "      <th>commercial</th>\n",
       "      <td>1.0</td>\n",
       "      <td>0.084164</td>\n",
       "    </tr>\n",
       "    <tr>\n",
       "      <th>education</th>\n",
       "      <td>1.0</td>\n",
       "      <td>0.101565</td>\n",
       "    </tr>\n",
       "    <tr>\n",
       "      <th>housing</th>\n",
       "      <td>1.0</td>\n",
       "      <td>0.074490</td>\n",
       "    </tr>\n",
       "    <tr>\n",
       "      <th>wedding</th>\n",
       "      <td>1.0</td>\n",
       "      <td>0.086997</td>\n",
       "    </tr>\n",
       "  </tbody>\n",
       "</table>\n",
       "</div>"
      ],
      "text/plain": [
       "              purpose          \n",
       "debt                0         1\n",
       "purpose_group                  \n",
       "car               1.0  0.103254\n",
       "commercial        1.0  0.084164\n",
       "education         1.0  0.101565\n",
       "housing           1.0  0.074490\n",
       "wedding           1.0  0.086997"
      ]
     },
     "execution_count": 103,
     "metadata": {},
     "output_type": "execute_result"
    }
   ],
   "source": [
    "purpose_percentage = purpose_pivot.div( purpose_pivot.iloc[:,0], axis=0 )\n",
    "purpose_percentage"
   ]
  },
  {
   "cell_type": "markdown",
   "metadata": {},
   "source": [
    "Analizando el propósito del crédito con respecto a la tasa de incumplimiento se concluye que bajo la categorización realizada dos categorías quedan con una tasa de incumplimiento por sobre la tasa general, estos serían las relacionados con educación y la adquisición de un vehículo. El primero puede deberse a gente joven que busca adquirir un crédito para una primera educación superior o mejorar la que ya posee y por ende deben endeudarse con el fin de a futuro conseguir un trabajo estable que les permita pagar estos préstamos, con respecto a la segunda podría igualmente verse respaldada por gente joven que adquiere su primer vehículo y por tanto no tiene los medios para cumplir con el préstamo regularmente, aunque ambas conclusiones se verían más ligadas a la edad de la persona que al propósito mismo del préstamo"
   ]
  },
  {
   "cell_type": "markdown",
   "metadata": {},
   "source": [
    "# Conclusión general <a id='end'></a> "
   ]
  },
  {
   "cell_type": "markdown",
   "metadata": {},
   "source": [
    " Comenzando con los valores ausentes estos se encontraron en solo dos columnas del Dataframe, \"days_employed\" y \"total_income\", despues de un análisis de estos se pudo concluir que eran simetricos entre ellos, es decir se encontraban en las mismas filas, y que eran completamente aleatorios, es decir no dependian de alguna otra columna del Dataframe. Debido a la existencia de una cantidad importante de valores ausentes, alrededor de un 10% de las filas del Dataframe, se procedio a llenar estos con la media o mediana según corresponda de la columna más representativa, para el caso de \"days_employed\" se decidio utilizar \"dob_years\" para completar los valores debido a la relación entre la edad de la persona y la cantidad de experiencia que pueda tener, en este caso se utilizó la mediana puesto que existian valores extremos que alteraban los valores de la media. Con respecto a \"total_income\" se escogio el tipo de empleo como categoría para completar los datos debido a la relación directa existente entre las dos categorías y se utilizó la mediana debido a la posible existencia de valores extremos propios del tipo de categoría.\n",
    "\n",
    " Continuando con los valores duplicados, se concluyó que estos no eran coincidencias de datos ya que aunque no existe en los registros una columna que haga referencia a un identificador único para cada persona, la cantidad de parametros especificos distintos tales como cantidad de dias de experiencia o ingreso total son demasiado especificos como para que valores iguales en todas las categorias sean por coincidencia. Para halllar los duplicados se utilizó el metodo duplicated() y se eliminaron con el metodo drop_duplicated(), disminuyendo el conjunto de datos en un 0,3%, lo que significaba alrededor de 65 filas duplicadas. Las posibles razones para la existencia de estos datos pueden ser de caracter humano en el que se hayan repetido algunos clientes al realizar la obtención de información o al ingresarlos al sistema.\n",
    "\n",
    " Con respecto a los cambios del tipo de datos se encontrarón problemas comunes como diferencias de nomenclaturas en una columna las cuales fueron corregidas con los métodos str.lower() y replace(). Otros error más importantes fue la presencia de 0 en la edad de las personas lo cual no posee sentido lógico, este se puede atribuir a un error humano debido a la baja cantidad de filas con este error. Se decidio reemplazar los valores con la mediana de las edades, descartando la media debido a que su valor resultante no era un número entero. El último gran problema que existia en el Dataframe fueron los valores negativos en la columna de \"days_employed\", como el anterior esto no posee sentido logico pero a diferencia de ese caso alrededor de un 75% de las filas poseian este error por lo que al ser de una magnitud tan grande se asume que proviene de algún problema técnico en el ingreso de los datos. Se decidio reemplazar estos valores por unos de la misma amgnitud pero de valor positivo.\n",
    "\n",
    " Para finalizar, abordando el cuestionamiento principal del proyecto, es decir la influencia de ciertos parámetros en el cumplimiento del pago de un crédito podemos concluir lo siguiente:\n",
    "\n",
    "1. ¿Hay alguna conexión entre tener hijos y pagar un préstamo a tiempo? Podemos concluir que existe una correlación entre las personas que poseen hijos y los que no en el cumplimiento del pago de créditos encontrándose a favor de estos últimos, lo que no se puede confirmar es que si existe una relación entre el número de hijos y la tasa de cumplimiento, ya que no se logró encontrar un patrón claro ya sea por la no existencia de este o por la falta de más datos para personas con una mayor cantidad de hijos.\n",
    "\n",
    "\n",
    "2. ¿Existe una conexión entre el estado civil y el pago a tiempo de un préstamo? Con respecto a este punto no se encontró una relación directa en este parámetro, aunque dos subcategorías del mismo presentan una tendencia más alta al incumplimiento del pago que el resto, personas no casadas y con unión civil, no existe una relación directa entre estas como para justificar la conexión. Se concluye que la razón por que estas categorías estén por sobre la tasa general es que se ven influenciadas indirectamente por otra característica tal como la edad de la persona.\n",
    "\n",
    "\n",
    "3. ¿Existe una conexión entre el nivel de ingresos y el pago a tiempo de un préstamo? En este apartado se puede ver una mayor tasa de incumplimiento en las personas de ingresos medios, pero esto puede deberse principalmente a que en estas categorías se aloja la mayor cantidad de datos del estudio por lo que al verse sobre representada en comparación con personas de mayores o menores ingresos es que se da este resultado.\n",
    "\n",
    "\n",
    "4. ¿Cómo afectan los diferentes propósitos del préstamo al reembolso a tiempo del préstamo? De la misma manera que el estado civil, encontramos dos categorías que presentan una tasa de incumplimiento por sobre la general, la compra de un vehículo y la educación, pero ambas no están relacionadas directamente entre ellas por lo que se puede atribuir de la misma forma a que se ven influenciadas por otro parámetro como la edad, el cual seria el que está directamente relacionado con el incumplimiento del pago."
   ]
  },
  {
   "cell_type": "code",
   "execution_count": null,
   "metadata": {},
   "outputs": [],
   "source": []
  }
 ],
 "metadata": {
  "ExecuteTimeLog": [
   {
    "duration": 2741,
    "start_time": "2021-10-21T01:08:49.480Z"
   },
   {
    "duration": 52,
    "start_time": "2021-10-21T01:08:53.315Z"
   },
   {
    "duration": 49,
    "start_time": "2021-10-21T01:08:57.432Z"
   },
   {
    "duration": 70,
    "start_time": "2021-10-21T01:09:07.706Z"
   },
   {
    "duration": 422,
    "start_time": "2022-04-27T23:52:22.460Z"
   },
   {
    "duration": 15,
    "start_time": "2022-04-27T23:52:47.538Z"
   },
   {
    "duration": 22,
    "start_time": "2022-04-27T23:53:19.950Z"
   },
   {
    "duration": 16,
    "start_time": "2022-04-28T00:26:35.763Z"
   },
   {
    "duration": 100,
    "start_time": "2022-04-28T00:28:02.289Z"
   },
   {
    "duration": 9,
    "start_time": "2022-04-28T00:28:11.687Z"
   },
   {
    "duration": 11,
    "start_time": "2022-04-28T00:28:19.737Z"
   },
   {
    "duration": 4,
    "start_time": "2022-04-28T00:28:40.445Z"
   },
   {
    "duration": 3,
    "start_time": "2022-04-28T00:29:00.956Z"
   },
   {
    "duration": 3,
    "start_time": "2022-04-28T00:29:10.381Z"
   },
   {
    "duration": 401,
    "start_time": "2022-04-29T00:58:15.372Z"
   },
   {
    "duration": 8,
    "start_time": "2022-04-29T00:58:15.775Z"
   },
   {
    "duration": 15,
    "start_time": "2022-04-29T00:58:24.499Z"
   },
   {
    "duration": 61,
    "start_time": "2022-04-29T01:31:04.811Z"
   },
   {
    "duration": 13,
    "start_time": "2022-04-29T01:31:13.949Z"
   },
   {
    "duration": 18,
    "start_time": "2022-04-29T01:31:36.266Z"
   },
   {
    "duration": 15,
    "start_time": "2022-04-29T01:44:45.254Z"
   },
   {
    "duration": 17,
    "start_time": "2022-04-29T01:44:54.437Z"
   },
   {
    "duration": 13,
    "start_time": "2022-04-29T01:45:26.083Z"
   },
   {
    "duration": 17,
    "start_time": "2022-04-29T01:45:30.799Z"
   },
   {
    "duration": 22,
    "start_time": "2022-04-29T01:45:42.727Z"
   },
   {
    "duration": 18,
    "start_time": "2022-04-29T01:45:59.716Z"
   },
   {
    "duration": 19,
    "start_time": "2022-04-29T01:46:07.590Z"
   },
   {
    "duration": 19,
    "start_time": "2022-04-29T01:46:12.599Z"
   },
   {
    "duration": 21,
    "start_time": "2022-04-29T01:46:19.410Z"
   },
   {
    "duration": 35,
    "start_time": "2022-04-29T01:46:49.389Z"
   },
   {
    "duration": 2,
    "start_time": "2022-04-29T01:47:05.787Z"
   },
   {
    "duration": 5,
    "start_time": "2022-04-29T02:15:56.054Z"
   },
   {
    "duration": 25,
    "start_time": "2022-04-29T02:16:05.987Z"
   },
   {
    "duration": 4,
    "start_time": "2022-04-29T02:16:18.260Z"
   },
   {
    "duration": 24,
    "start_time": "2022-04-29T02:16:39.276Z"
   },
   {
    "duration": 4,
    "start_time": "2022-04-29T02:16:42.717Z"
   },
   {
    "duration": 541,
    "start_time": "2022-04-30T21:42:56.895Z"
   },
   {
    "duration": 8,
    "start_time": "2022-04-30T21:43:01.638Z"
   },
   {
    "duration": 16,
    "start_time": "2022-04-30T21:43:05.985Z"
   },
   {
    "duration": 14,
    "start_time": "2022-04-30T21:43:12.710Z"
   },
   {
    "duration": 27,
    "start_time": "2022-04-30T21:43:18.298Z"
   },
   {
    "duration": 4,
    "start_time": "2022-04-30T21:43:32.888Z"
   },
   {
    "duration": 26,
    "start_time": "2022-04-30T22:38:14.944Z"
   },
   {
    "duration": 4,
    "start_time": "2022-04-30T22:38:18.378Z"
   },
   {
    "duration": 15,
    "start_time": "2022-04-30T22:38:21.595Z"
   },
   {
    "duration": 67,
    "start_time": "2022-04-30T22:42:37.092Z"
   },
   {
    "duration": 21,
    "start_time": "2022-04-30T22:42:43.420Z"
   },
   {
    "duration": 5,
    "start_time": "2022-04-30T22:58:10.005Z"
   },
   {
    "duration": 5,
    "start_time": "2022-04-30T23:03:20.412Z"
   },
   {
    "duration": 10,
    "start_time": "2022-05-01T01:52:17.641Z"
   },
   {
    "duration": 12,
    "start_time": "2022-05-01T01:52:32.377Z"
   },
   {
    "duration": 5,
    "start_time": "2022-05-01T01:53:48.696Z"
   },
   {
    "duration": 17,
    "start_time": "2022-05-01T01:57:38.257Z"
   },
   {
    "duration": 5,
    "start_time": "2022-05-01T02:13:10.425Z"
   },
   {
    "duration": 5,
    "start_time": "2022-05-01T02:13:41.799Z"
   },
   {
    "duration": 5,
    "start_time": "2022-05-01T02:13:51.529Z"
   },
   {
    "duration": 12,
    "start_time": "2022-05-01T02:14:12.176Z"
   },
   {
    "duration": 5,
    "start_time": "2022-05-01T02:14:24.736Z"
   },
   {
    "duration": 19,
    "start_time": "2022-05-01T02:16:07.799Z"
   },
   {
    "duration": 21,
    "start_time": "2022-05-01T02:16:18.680Z"
   },
   {
    "duration": 12,
    "start_time": "2022-05-01T02:16:41.183Z"
   },
   {
    "duration": 20,
    "start_time": "2022-05-01T02:18:58.346Z"
   },
   {
    "duration": 11,
    "start_time": "2022-05-01T02:19:07.122Z"
   },
   {
    "duration": 5,
    "start_time": "2022-05-01T02:21:50.514Z"
   },
   {
    "duration": 10,
    "start_time": "2022-05-01T02:25:58.849Z"
   },
   {
    "duration": 5,
    "start_time": "2022-05-01T02:26:00.564Z"
   },
   {
    "duration": 5,
    "start_time": "2022-05-01T02:26:35.466Z"
   },
   {
    "duration": 4,
    "start_time": "2022-05-01T02:26:45.706Z"
   },
   {
    "duration": 17,
    "start_time": "2022-05-01T02:27:27.773Z"
   },
   {
    "duration": 4,
    "start_time": "2022-05-01T02:37:45.725Z"
   },
   {
    "duration": 17,
    "start_time": "2022-05-01T02:37:49.012Z"
   },
   {
    "duration": 47,
    "start_time": "2022-05-01T15:51:57.451Z"
   },
   {
    "duration": 477,
    "start_time": "2022-05-01T15:52:02.832Z"
   },
   {
    "duration": 11,
    "start_time": "2022-05-01T15:52:06.954Z"
   },
   {
    "duration": 16,
    "start_time": "2022-05-01T15:52:08.173Z"
   },
   {
    "duration": 24,
    "start_time": "2022-05-01T15:52:10.513Z"
   },
   {
    "duration": 32,
    "start_time": "2022-05-01T15:52:12.677Z"
   },
   {
    "duration": 7,
    "start_time": "2022-05-01T15:52:15.612Z"
   },
   {
    "duration": 6,
    "start_time": "2022-05-01T15:52:18.454Z"
   },
   {
    "duration": 16,
    "start_time": "2022-05-01T15:52:20.656Z"
   },
   {
    "duration": 25,
    "start_time": "2022-05-01T15:52:23.032Z"
   },
   {
    "duration": 15,
    "start_time": "2022-05-01T15:52:25.791Z"
   },
   {
    "duration": 7,
    "start_time": "2022-05-01T15:52:34.188Z"
   },
   {
    "duration": 14,
    "start_time": "2022-05-01T15:52:36.057Z"
   },
   {
    "duration": 6,
    "start_time": "2022-05-01T15:52:37.690Z"
   },
   {
    "duration": 21,
    "start_time": "2022-05-01T15:52:40.521Z"
   },
   {
    "duration": 4,
    "start_time": "2022-05-01T15:52:43.401Z"
   },
   {
    "duration": 20,
    "start_time": "2022-05-01T15:52:45.918Z"
   },
   {
    "duration": 7,
    "start_time": "2022-05-01T15:52:52.482Z"
   },
   {
    "duration": 6,
    "start_time": "2022-05-01T15:53:10.383Z"
   },
   {
    "duration": 7,
    "start_time": "2022-05-01T15:53:39.202Z"
   },
   {
    "duration": 50,
    "start_time": "2022-05-01T16:35:16.781Z"
   },
   {
    "duration": 3,
    "start_time": "2022-05-01T16:35:58.896Z"
   },
   {
    "duration": 5,
    "start_time": "2022-05-01T16:36:54.923Z"
   },
   {
    "duration": 4,
    "start_time": "2022-05-01T16:38:13.786Z"
   },
   {
    "duration": 4,
    "start_time": "2022-05-01T16:38:21.971Z"
   },
   {
    "duration": 486,
    "start_time": "2022-05-01T16:38:44.350Z"
   },
   {
    "duration": 9,
    "start_time": "2022-05-01T16:38:53.125Z"
   },
   {
    "duration": 17,
    "start_time": "2022-05-01T16:38:54.267Z"
   },
   {
    "duration": 19,
    "start_time": "2022-05-01T16:38:56.904Z"
   },
   {
    "duration": 49,
    "start_time": "2022-05-01T16:38:59.581Z"
   },
   {
    "duration": 6,
    "start_time": "2022-05-01T16:39:02.214Z"
   },
   {
    "duration": 5,
    "start_time": "2022-05-01T16:39:05.367Z"
   },
   {
    "duration": 13,
    "start_time": "2022-05-01T16:39:07.384Z"
   },
   {
    "duration": 17,
    "start_time": "2022-05-01T16:39:09.849Z"
   },
   {
    "duration": 12,
    "start_time": "2022-05-01T16:39:12.138Z"
   },
   {
    "duration": 10,
    "start_time": "2022-05-01T16:39:16.193Z"
   },
   {
    "duration": 9,
    "start_time": "2022-05-01T16:39:18.133Z"
   },
   {
    "duration": 5,
    "start_time": "2022-05-01T16:39:19.414Z"
   },
   {
    "duration": 17,
    "start_time": "2022-05-01T16:39:25.478Z"
   },
   {
    "duration": 4,
    "start_time": "2022-05-01T16:39:28.509Z"
   },
   {
    "duration": 17,
    "start_time": "2022-05-01T16:39:30.505Z"
   },
   {
    "duration": 4,
    "start_time": "2022-05-01T16:39:43.751Z"
   },
   {
    "duration": 7,
    "start_time": "2022-05-01T16:43:31.293Z"
   },
   {
    "duration": 5,
    "start_time": "2022-05-01T16:43:59.614Z"
   },
   {
    "duration": 102,
    "start_time": "2022-05-01T16:44:17.383Z"
   },
   {
    "duration": 5,
    "start_time": "2022-05-01T16:44:41.755Z"
   },
   {
    "duration": 5,
    "start_time": "2022-05-01T16:46:13.455Z"
   },
   {
    "duration": 12,
    "start_time": "2022-05-01T16:48:46.399Z"
   },
   {
    "duration": 6,
    "start_time": "2022-05-01T16:49:07.591Z"
   },
   {
    "duration": 6,
    "start_time": "2022-05-01T16:50:26.367Z"
   },
   {
    "duration": 5,
    "start_time": "2022-05-01T16:51:12.483Z"
   },
   {
    "duration": 6,
    "start_time": "2022-05-01T16:51:18.652Z"
   },
   {
    "duration": 5,
    "start_time": "2022-05-01T17:25:38.113Z"
   },
   {
    "duration": 7,
    "start_time": "2022-05-01T17:30:38.754Z"
   },
   {
    "duration": 4,
    "start_time": "2022-05-01T17:31:00.485Z"
   },
   {
    "duration": 9,
    "start_time": "2022-05-01T17:31:02.104Z"
   },
   {
    "duration": 11,
    "start_time": "2022-05-01T17:31:22.750Z"
   },
   {
    "duration": 12,
    "start_time": "2022-05-01T17:32:43.112Z"
   },
   {
    "duration": 2,
    "start_time": "2022-05-01T17:32:48.843Z"
   },
   {
    "duration": 7,
    "start_time": "2022-05-01T17:34:34.497Z"
   },
   {
    "duration": 22,
    "start_time": "2022-05-01T21:56:28.021Z"
   },
   {
    "duration": 7,
    "start_time": "2022-05-01T21:56:45.095Z"
   },
   {
    "duration": 24,
    "start_time": "2022-05-01T21:56:50.268Z"
   },
   {
    "duration": 6,
    "start_time": "2022-05-01T22:14:55.536Z"
   },
   {
    "duration": 5,
    "start_time": "2022-05-01T22:14:57.953Z"
   },
   {
    "duration": 5,
    "start_time": "2022-05-01T22:17:11.043Z"
   },
   {
    "duration": 5,
    "start_time": "2022-05-01T22:17:19.568Z"
   },
   {
    "duration": 19,
    "start_time": "2022-05-01T22:20:48.421Z"
   },
   {
    "duration": 143,
    "start_time": "2022-05-01T22:21:24.821Z"
   },
   {
    "duration": 20,
    "start_time": "2022-05-01T22:21:53.620Z"
   },
   {
    "duration": 30,
    "start_time": "2022-05-01T22:22:04.834Z"
   },
   {
    "duration": 14,
    "start_time": "2022-05-01T22:56:52.458Z"
   },
   {
    "duration": 14,
    "start_time": "2022-05-01T22:57:38.211Z"
   },
   {
    "duration": 17,
    "start_time": "2022-05-01T22:58:00.403Z"
   },
   {
    "duration": 46,
    "start_time": "2022-05-01T22:58:18.858Z"
   },
   {
    "duration": 446,
    "start_time": "2022-05-01T22:58:21.682Z"
   },
   {
    "duration": 8,
    "start_time": "2022-05-01T22:58:24.049Z"
   },
   {
    "duration": 16,
    "start_time": "2022-05-01T22:58:25.708Z"
   },
   {
    "duration": 14,
    "start_time": "2022-05-01T22:58:28.107Z"
   },
   {
    "duration": 28,
    "start_time": "2022-05-01T22:58:30.616Z"
   },
   {
    "duration": 6,
    "start_time": "2022-05-01T22:58:34.080Z"
   },
   {
    "duration": 4,
    "start_time": "2022-05-01T22:58:36.473Z"
   },
   {
    "duration": 11,
    "start_time": "2022-05-01T22:58:38.200Z"
   },
   {
    "duration": 15,
    "start_time": "2022-05-01T22:58:40.885Z"
   },
   {
    "duration": 12,
    "start_time": "2022-05-01T22:58:43.381Z"
   },
   {
    "duration": 5,
    "start_time": "2022-05-01T22:58:47.467Z"
   },
   {
    "duration": 9,
    "start_time": "2022-05-01T22:58:49.546Z"
   },
   {
    "duration": 6,
    "start_time": "2022-05-01T22:58:51.169Z"
   },
   {
    "duration": 18,
    "start_time": "2022-05-01T22:58:53.316Z"
   },
   {
    "duration": 3,
    "start_time": "2022-05-01T22:58:57.516Z"
   },
   {
    "duration": 17,
    "start_time": "2022-05-01T22:58:59.485Z"
   },
   {
    "duration": 5,
    "start_time": "2022-05-01T22:59:03.744Z"
   },
   {
    "duration": 5,
    "start_time": "2022-05-01T22:59:05.347Z"
   },
   {
    "duration": 15,
    "start_time": "2022-05-01T22:59:53.924Z"
   },
   {
    "duration": 6,
    "start_time": "2022-05-01T22:59:56.683Z"
   },
   {
    "duration": 489,
    "start_time": "2022-05-01T23:00:44.256Z"
   },
   {
    "duration": 8,
    "start_time": "2022-05-01T23:00:48.057Z"
   },
   {
    "duration": 16,
    "start_time": "2022-05-01T23:00:49.661Z"
   },
   {
    "duration": 16,
    "start_time": "2022-05-01T23:00:52.023Z"
   },
   {
    "duration": 26,
    "start_time": "2022-05-01T23:00:54.365Z"
   },
   {
    "duration": 5,
    "start_time": "2022-05-01T23:00:57.004Z"
   },
   {
    "duration": 4,
    "start_time": "2022-05-01T23:00:59.249Z"
   },
   {
    "duration": 11,
    "start_time": "2022-05-01T23:01:01.231Z"
   },
   {
    "duration": 17,
    "start_time": "2022-05-01T23:01:03.596Z"
   },
   {
    "duration": 12,
    "start_time": "2022-05-01T23:01:05.783Z"
   },
   {
    "duration": 5,
    "start_time": "2022-05-01T23:01:09.237Z"
   },
   {
    "duration": 10,
    "start_time": "2022-05-01T23:01:11.204Z"
   },
   {
    "duration": 6,
    "start_time": "2022-05-01T23:01:12.680Z"
   },
   {
    "duration": 17,
    "start_time": "2022-05-01T23:01:15.589Z"
   },
   {
    "duration": 4,
    "start_time": "2022-05-01T23:01:17.734Z"
   },
   {
    "duration": 18,
    "start_time": "2022-05-01T23:01:19.487Z"
   },
   {
    "duration": 5,
    "start_time": "2022-05-01T23:01:22.792Z"
   },
   {
    "duration": 5,
    "start_time": "2022-05-01T23:01:24.832Z"
   },
   {
    "duration": 10,
    "start_time": "2022-05-01T23:01:45.625Z"
   },
   {
    "duration": 6,
    "start_time": "2022-05-01T23:01:47.986Z"
   },
   {
    "duration": 5,
    "start_time": "2022-05-01T23:02:20.028Z"
   },
   {
    "duration": 5,
    "start_time": "2022-05-01T23:02:22.959Z"
   },
   {
    "duration": 5,
    "start_time": "2022-05-01T23:02:39.130Z"
   },
   {
    "duration": 5,
    "start_time": "2022-05-01T23:02:40.880Z"
   },
   {
    "duration": 457,
    "start_time": "2022-05-01T23:02:59.891Z"
   },
   {
    "duration": 9,
    "start_time": "2022-05-01T23:03:02.045Z"
   },
   {
    "duration": 22,
    "start_time": "2022-05-01T23:03:03.794Z"
   },
   {
    "duration": 22,
    "start_time": "2022-05-01T23:03:05.979Z"
   },
   {
    "duration": 39,
    "start_time": "2022-05-01T23:03:08.127Z"
   },
   {
    "duration": 6,
    "start_time": "2022-05-01T23:03:10.730Z"
   },
   {
    "duration": 6,
    "start_time": "2022-05-01T23:03:12.860Z"
   },
   {
    "duration": 15,
    "start_time": "2022-05-01T23:03:14.540Z"
   },
   {
    "duration": 24,
    "start_time": "2022-05-01T23:03:17.069Z"
   },
   {
    "duration": 16,
    "start_time": "2022-05-01T23:03:19.306Z"
   },
   {
    "duration": 7,
    "start_time": "2022-05-01T23:03:22.035Z"
   },
   {
    "duration": 15,
    "start_time": "2022-05-01T23:03:24.011Z"
   },
   {
    "duration": 7,
    "start_time": "2022-05-01T23:03:25.218Z"
   },
   {
    "duration": 27,
    "start_time": "2022-05-01T23:03:27.577Z"
   },
   {
    "duration": 4,
    "start_time": "2022-05-01T23:03:29.882Z"
   },
   {
    "duration": 25,
    "start_time": "2022-05-01T23:03:30.605Z"
   },
   {
    "duration": 6,
    "start_time": "2022-05-01T23:03:34.032Z"
   },
   {
    "duration": 5,
    "start_time": "2022-05-01T23:03:35.709Z"
   },
   {
    "duration": 16,
    "start_time": "2022-05-01T23:03:37.917Z"
   },
   {
    "duration": 6,
    "start_time": "2022-05-01T23:03:38.708Z"
   },
   {
    "duration": 21,
    "start_time": "2022-05-01T23:04:13.164Z"
   },
   {
    "duration": 5,
    "start_time": "2022-05-01T23:04:27.472Z"
   },
   {
    "duration": 414,
    "start_time": "2022-05-01T23:05:31.125Z"
   },
   {
    "duration": 7,
    "start_time": "2022-05-01T23:05:33.106Z"
   },
   {
    "duration": 17,
    "start_time": "2022-05-01T23:05:34.452Z"
   },
   {
    "duration": 14,
    "start_time": "2022-05-01T23:05:36.603Z"
   },
   {
    "duration": 29,
    "start_time": "2022-05-01T23:05:39.710Z"
   },
   {
    "duration": 6,
    "start_time": "2022-05-01T23:05:42.178Z"
   },
   {
    "duration": 5,
    "start_time": "2022-05-01T23:05:44.569Z"
   },
   {
    "duration": 12,
    "start_time": "2022-05-01T23:05:46.402Z"
   },
   {
    "duration": 17,
    "start_time": "2022-05-01T23:05:48.665Z"
   },
   {
    "duration": 11,
    "start_time": "2022-05-01T23:05:51.106Z"
   },
   {
    "duration": 5,
    "start_time": "2022-05-01T23:05:54.569Z"
   },
   {
    "duration": 10,
    "start_time": "2022-05-01T23:05:56.279Z"
   },
   {
    "duration": 6,
    "start_time": "2022-05-01T23:05:56.891Z"
   },
   {
    "duration": 17,
    "start_time": "2022-05-01T23:05:59.095Z"
   },
   {
    "duration": 4,
    "start_time": "2022-05-01T23:06:01.154Z"
   },
   {
    "duration": 18,
    "start_time": "2022-05-01T23:06:01.650Z"
   },
   {
    "duration": 5,
    "start_time": "2022-05-01T23:06:05.050Z"
   },
   {
    "duration": 4,
    "start_time": "2022-05-01T23:06:06.744Z"
   },
   {
    "duration": 5,
    "start_time": "2022-05-01T23:06:09.386Z"
   },
   {
    "duration": 4,
    "start_time": "2022-05-01T23:06:11.747Z"
   },
   {
    "duration": 5,
    "start_time": "2022-05-01T23:06:18.795Z"
   },
   {
    "duration": 5,
    "start_time": "2022-05-01T23:06:24.243Z"
   },
   {
    "duration": 14,
    "start_time": "2022-05-01T23:06:28.074Z"
   },
   {
    "duration": 4,
    "start_time": "2022-05-01T23:06:34.587Z"
   },
   {
    "duration": 5,
    "start_time": "2022-05-01T23:06:37.452Z"
   },
   {
    "duration": 5,
    "start_time": "2022-05-01T23:06:41.928Z"
   },
   {
    "duration": 6,
    "start_time": "2022-05-01T23:15:01.695Z"
   },
   {
    "duration": 23,
    "start_time": "2022-05-01T23:21:42.071Z"
   },
   {
    "duration": 21,
    "start_time": "2022-05-01T23:22:55.999Z"
   },
   {
    "duration": 20,
    "start_time": "2022-05-01T23:23:09.040Z"
   },
   {
    "duration": 20,
    "start_time": "2022-05-01T23:23:17.183Z"
   },
   {
    "duration": 20,
    "start_time": "2022-05-01T23:23:21.111Z"
   },
   {
    "duration": 20,
    "start_time": "2022-05-01T23:26:26.470Z"
   },
   {
    "duration": 36,
    "start_time": "2022-05-01T23:26:37.503Z"
   },
   {
    "duration": 21,
    "start_time": "2022-05-01T23:26:54.679Z"
   },
   {
    "duration": 21,
    "start_time": "2022-05-01T23:27:18.592Z"
   },
   {
    "duration": 7,
    "start_time": "2022-05-01T23:29:55.123Z"
   },
   {
    "duration": 20,
    "start_time": "2022-05-01T23:30:29.511Z"
   },
   {
    "duration": 3,
    "start_time": "2022-05-01T23:30:36.296Z"
   },
   {
    "duration": 4565,
    "start_time": "2022-05-01T23:50:16.181Z"
   },
   {
    "duration": 4,
    "start_time": "2022-05-01T23:50:22.321Z"
   },
   {
    "duration": 6,
    "start_time": "2022-05-01T23:50:26.537Z"
   },
   {
    "duration": 3,
    "start_time": "2022-05-01T23:50:30.621Z"
   },
   {
    "duration": 5,
    "start_time": "2022-05-01T23:50:44.285Z"
   },
   {
    "duration": 5,
    "start_time": "2022-05-01T23:56:40.536Z"
   },
   {
    "duration": 4,
    "start_time": "2022-05-01T23:56:48.467Z"
   },
   {
    "duration": 5,
    "start_time": "2022-05-01T23:57:07.879Z"
   },
   {
    "duration": 20,
    "start_time": "2022-05-01T23:58:00.864Z"
   },
   {
    "duration": 14,
    "start_time": "2022-05-01T23:58:34.558Z"
   },
   {
    "duration": 49,
    "start_time": "2022-05-02T00:12:29.784Z"
   },
   {
    "duration": 43,
    "start_time": "2022-05-02T00:12:43.681Z"
   },
   {
    "duration": 27,
    "start_time": "2022-05-02T00:12:59.946Z"
   },
   {
    "duration": 29,
    "start_time": "2022-05-02T00:13:04.334Z"
   },
   {
    "duration": 21,
    "start_time": "2022-05-02T00:13:49.600Z"
   },
   {
    "duration": 474,
    "start_time": "2022-05-02T21:19:44.068Z"
   },
   {
    "duration": 9,
    "start_time": "2022-05-02T21:19:47.111Z"
   },
   {
    "duration": 26,
    "start_time": "2022-05-02T21:19:48.908Z"
   },
   {
    "duration": 23,
    "start_time": "2022-05-02T21:19:51.507Z"
   },
   {
    "duration": 26,
    "start_time": "2022-05-02T21:19:54.158Z"
   },
   {
    "duration": 6,
    "start_time": "2022-05-02T21:19:57.322Z"
   },
   {
    "duration": 4,
    "start_time": "2022-05-02T21:19:59.625Z"
   },
   {
    "duration": 12,
    "start_time": "2022-05-02T21:20:01.469Z"
   },
   {
    "duration": 18,
    "start_time": "2022-05-02T21:20:03.533Z"
   },
   {
    "duration": 13,
    "start_time": "2022-05-02T21:20:05.672Z"
   },
   {
    "duration": 6,
    "start_time": "2022-05-02T21:20:10.858Z"
   },
   {
    "duration": 10,
    "start_time": "2022-05-02T21:20:12.702Z"
   },
   {
    "duration": 5,
    "start_time": "2022-05-02T21:20:14.515Z"
   },
   {
    "duration": 17,
    "start_time": "2022-05-02T21:20:16.623Z"
   },
   {
    "duration": 3,
    "start_time": "2022-05-02T21:20:18.944Z"
   },
   {
    "duration": 17,
    "start_time": "2022-05-02T21:20:20.640Z"
   },
   {
    "duration": 7,
    "start_time": "2022-05-02T21:20:22.728Z"
   },
   {
    "duration": 6462,
    "start_time": "2022-05-02T21:20:24.608Z"
   },
   {
    "duration": 9,
    "start_time": "2022-05-02T21:20:43.594Z"
   },
   {
    "duration": 25,
    "start_time": "2022-05-02T21:20:51.225Z"
   },
   {
    "duration": 6,
    "start_time": "2022-05-02T21:20:57.464Z"
   },
   {
    "duration": 7,
    "start_time": "2022-05-02T21:20:58.459Z"
   },
   {
    "duration": 6,
    "start_time": "2022-05-02T21:21:02.756Z"
   },
   {
    "duration": 6,
    "start_time": "2022-05-02T21:21:05.514Z"
   },
   {
    "duration": 6,
    "start_time": "2022-05-02T21:21:12.593Z"
   },
   {
    "duration": 5,
    "start_time": "2022-05-02T21:21:15.073Z"
   },
   {
    "duration": 14,
    "start_time": "2022-05-02T21:21:18.178Z"
   },
   {
    "duration": 4,
    "start_time": "2022-05-02T21:21:20.900Z"
   },
   {
    "duration": 5,
    "start_time": "2022-05-02T21:21:21.775Z"
   },
   {
    "duration": 6,
    "start_time": "2022-05-02T21:21:25.621Z"
   },
   {
    "duration": 20,
    "start_time": "2022-05-02T21:21:28.184Z"
   },
   {
    "duration": 21,
    "start_time": "2022-05-02T21:21:30.761Z"
   },
   {
    "duration": 21,
    "start_time": "2022-05-02T21:21:33.059Z"
   },
   {
    "duration": 14,
    "start_time": "2022-05-02T21:21:33.162Z"
   },
   {
    "duration": 14,
    "start_time": "2022-05-02T21:21:36.916Z"
   },
   {
    "duration": 17,
    "start_time": "2022-05-02T21:21:45.705Z"
   },
   {
    "duration": 17,
    "start_time": "2022-05-02T21:21:51.196Z"
   },
   {
    "duration": 4,
    "start_time": "2022-05-02T21:48:05.861Z"
   },
   {
    "duration": 5,
    "start_time": "2022-05-02T21:48:14.991Z"
   },
   {
    "duration": 4,
    "start_time": "2022-05-02T21:48:27.369Z"
   },
   {
    "duration": 4,
    "start_time": "2022-05-02T21:48:55.319Z"
   },
   {
    "duration": 5,
    "start_time": "2022-05-02T21:48:56.073Z"
   },
   {
    "duration": 14,
    "start_time": "2022-05-02T21:50:47.806Z"
   },
   {
    "duration": 26,
    "start_time": "2022-05-02T21:50:54.964Z"
   },
   {
    "duration": 14,
    "start_time": "2022-05-02T21:51:09.070Z"
   },
   {
    "duration": 28,
    "start_time": "2022-05-02T22:31:15.056Z"
   },
   {
    "duration": 19,
    "start_time": "2022-05-03T02:02:19.179Z"
   },
   {
    "duration": 20,
    "start_time": "2022-05-03T02:03:32.419Z"
   },
   {
    "duration": 19,
    "start_time": "2022-05-03T02:06:24.329Z"
   },
   {
    "duration": 20,
    "start_time": "2022-05-03T02:07:24.944Z"
   },
   {
    "duration": 20,
    "start_time": "2022-05-03T02:09:50.534Z"
   },
   {
    "duration": 21,
    "start_time": "2022-05-03T02:11:05.357Z"
   },
   {
    "duration": 24,
    "start_time": "2022-05-03T02:19:46.636Z"
   },
   {
    "duration": 26,
    "start_time": "2022-05-03T02:21:26.869Z"
   },
   {
    "duration": 21,
    "start_time": "2022-05-03T02:29:53.751Z"
   },
   {
    "duration": 19,
    "start_time": "2022-05-03T02:29:56.118Z"
   },
   {
    "duration": 24,
    "start_time": "2022-05-03T02:31:25.013Z"
   },
   {
    "duration": 24,
    "start_time": "2022-05-03T02:31:27.666Z"
   },
   {
    "duration": 19,
    "start_time": "2022-05-03T02:31:40.220Z"
   },
   {
    "duration": 574,
    "start_time": "2022-05-03T23:10:34.883Z"
   },
   {
    "duration": 12,
    "start_time": "2022-05-03T23:10:42.462Z"
   },
   {
    "duration": 24,
    "start_time": "2022-05-03T23:10:59.261Z"
   },
   {
    "duration": 20,
    "start_time": "2022-05-03T23:18:40.827Z"
   },
   {
    "duration": 22,
    "start_time": "2022-05-03T23:19:06.295Z"
   },
   {
    "duration": 21,
    "start_time": "2022-05-03T23:23:06.449Z"
   },
   {
    "duration": 42,
    "start_time": "2022-05-03T23:41:06.081Z"
   },
   {
    "duration": 142,
    "start_time": "2022-05-03T23:50:18.926Z"
   },
   {
    "duration": 11,
    "start_time": "2022-05-03T23:52:33.755Z"
   },
   {
    "duration": 52,
    "start_time": "2022-05-03T23:52:56.380Z"
   },
   {
    "duration": 27,
    "start_time": "2022-05-03T23:52:59.883Z"
   },
   {
    "duration": 9,
    "start_time": "2022-05-03T23:53:08.136Z"
   },
   {
    "duration": 8,
    "start_time": "2022-05-03T23:53:58.786Z"
   },
   {
    "duration": 8,
    "start_time": "2022-05-04T01:07:00.674Z"
   },
   {
    "duration": 8,
    "start_time": "2022-05-04T01:25:07.321Z"
   },
   {
    "duration": 9,
    "start_time": "2022-05-04T01:26:38.781Z"
   },
   {
    "duration": 9,
    "start_time": "2022-05-04T01:26:49.830Z"
   },
   {
    "duration": 8,
    "start_time": "2022-05-04T01:27:15.939Z"
   },
   {
    "duration": 8,
    "start_time": "2022-05-04T01:39:15.602Z"
   },
   {
    "duration": 7,
    "start_time": "2022-05-04T01:39:25.341Z"
   },
   {
    "duration": 7,
    "start_time": "2022-05-04T01:51:51.074Z"
   },
   {
    "duration": 9,
    "start_time": "2022-05-04T01:52:01.575Z"
   },
   {
    "duration": 8,
    "start_time": "2022-05-04T02:08:51.699Z"
   },
   {
    "duration": 15,
    "start_time": "2022-05-04T02:11:47.855Z"
   },
   {
    "duration": 15,
    "start_time": "2022-05-04T02:12:00.226Z"
   },
   {
    "duration": 23,
    "start_time": "2022-05-04T02:12:07.620Z"
   },
   {
    "duration": 8,
    "start_time": "2022-05-04T02:16:58.656Z"
   },
   {
    "duration": 10,
    "start_time": "2022-05-04T02:17:04.116Z"
   },
   {
    "duration": 9,
    "start_time": "2022-05-04T02:17:12.308Z"
   },
   {
    "duration": 9,
    "start_time": "2022-05-04T02:17:29.880Z"
   },
   {
    "duration": 8,
    "start_time": "2022-05-04T02:24:56.802Z"
   },
   {
    "duration": 8,
    "start_time": "2022-05-04T02:25:09.639Z"
   },
   {
    "duration": 7,
    "start_time": "2022-05-04T02:28:58.341Z"
   },
   {
    "duration": 9,
    "start_time": "2022-05-04T02:28:59.703Z"
   },
   {
    "duration": 8,
    "start_time": "2022-05-04T02:29:03.937Z"
   },
   {
    "duration": 10,
    "start_time": "2022-05-04T02:29:04.909Z"
   },
   {
    "duration": 7,
    "start_time": "2022-05-04T02:29:26.583Z"
   },
   {
    "duration": 8,
    "start_time": "2022-05-04T02:29:29.926Z"
   },
   {
    "duration": 7,
    "start_time": "2022-05-04T03:05:40.978Z"
   },
   {
    "duration": 13,
    "start_time": "2022-05-04T03:05:51.463Z"
   },
   {
    "duration": 8,
    "start_time": "2022-05-04T03:05:55.682Z"
   },
   {
    "duration": 14,
    "start_time": "2022-05-04T03:06:28.026Z"
   },
   {
    "duration": 8,
    "start_time": "2022-05-04T03:06:41.661Z"
   },
   {
    "duration": 6,
    "start_time": "2022-05-04T03:13:22.857Z"
   },
   {
    "duration": 8,
    "start_time": "2022-05-04T03:13:32.183Z"
   },
   {
    "duration": 9,
    "start_time": "2022-05-04T03:18:44.381Z"
   },
   {
    "duration": 11,
    "start_time": "2022-05-04T03:28:05.498Z"
   },
   {
    "duration": 8432,
    "start_time": "2022-05-04T03:29:10.809Z"
   },
   {
    "duration": 22,
    "start_time": "2022-05-04T03:30:17.727Z"
   },
   {
    "duration": 7,
    "start_time": "2022-05-04T03:30:46.236Z"
   },
   {
    "duration": 12,
    "start_time": "2022-05-04T03:31:08.379Z"
   },
   {
    "duration": 8,
    "start_time": "2022-05-04T03:31:24.630Z"
   },
   {
    "duration": 7,
    "start_time": "2022-05-04T03:31:40.643Z"
   },
   {
    "duration": 79,
    "start_time": "2022-05-04T19:47:30.023Z"
   },
   {
    "duration": 604,
    "start_time": "2022-05-04T19:47:41.686Z"
   },
   {
    "duration": 13,
    "start_time": "2022-05-04T19:47:44.091Z"
   },
   {
    "duration": 25,
    "start_time": "2022-05-04T19:47:45.704Z"
   },
   {
    "duration": 22,
    "start_time": "2022-05-04T19:47:47.870Z"
   },
   {
    "duration": 55,
    "start_time": "2022-05-04T19:47:49.838Z"
   },
   {
    "duration": 8,
    "start_time": "2022-05-04T19:47:52.378Z"
   },
   {
    "duration": 7,
    "start_time": "2022-05-04T19:47:56.004Z"
   },
   {
    "duration": 7,
    "start_time": "2022-05-04T19:47:58.386Z"
   },
   {
    "duration": 10,
    "start_time": "2022-05-04T19:48:00.409Z"
   },
   {
    "duration": 7,
    "start_time": "2022-05-04T19:48:02.693Z"
   },
   {
    "duration": 9,
    "start_time": "2022-05-04T19:48:04.649Z"
   },
   {
    "duration": 8,
    "start_time": "2022-05-04T19:48:06.651Z"
   },
   {
    "duration": 11,
    "start_time": "2022-05-04T19:48:07.596Z"
   },
   {
    "duration": 8,
    "start_time": "2022-05-04T19:48:08.604Z"
   },
   {
    "duration": 10,
    "start_time": "2022-05-04T19:48:09.377Z"
   },
   {
    "duration": 8,
    "start_time": "2022-05-04T19:48:12.156Z"
   },
   {
    "duration": 13,
    "start_time": "2022-05-04T19:48:12.830Z"
   },
   {
    "duration": 7,
    "start_time": "2022-05-04T19:48:13.427Z"
   },
   {
    "duration": 7,
    "start_time": "2022-05-04T19:48:15.375Z"
   },
   {
    "duration": 9,
    "start_time": "2022-05-04T19:48:18.043Z"
   },
   {
    "duration": 21,
    "start_time": "2022-05-04T19:48:20.209Z"
   },
   {
    "duration": 9,
    "start_time": "2022-05-04T19:48:20.988Z"
   },
   {
    "duration": 9,
    "start_time": "2022-05-04T19:48:23.469Z"
   },
   {
    "duration": 5,
    "start_time": "2022-05-04T19:48:26.476Z"
   },
   {
    "duration": 9,
    "start_time": "2022-05-04T19:48:27.183Z"
   },
   {
    "duration": 9,
    "start_time": "2022-05-04T19:48:30.205Z"
   },
   {
    "duration": 35,
    "start_time": "2022-05-04T19:48:43.856Z"
   },
   {
    "duration": 10643,
    "start_time": "2022-05-04T19:48:43.895Z"
   },
   {
    "duration": 14,
    "start_time": "2022-05-04T19:48:54.540Z"
   },
   {
    "duration": 8,
    "start_time": "2022-05-04T19:48:57.766Z"
   },
   {
    "duration": 12,
    "start_time": "2022-05-04T19:49:03.333Z"
   },
   {
    "duration": 9,
    "start_time": "2022-05-04T19:50:02.901Z"
   },
   {
    "duration": 6,
    "start_time": "2022-05-04T19:50:25.911Z"
   },
   {
    "duration": 8,
    "start_time": "2022-05-04T19:50:46.623Z"
   },
   {
    "duration": 62,
    "start_time": "2022-05-04T19:59:40.348Z"
   },
   {
    "duration": 8,
    "start_time": "2022-05-04T19:59:47.869Z"
   },
   {
    "duration": 11,
    "start_time": "2022-05-04T19:59:56.247Z"
   },
   {
    "duration": 17,
    "start_time": "2022-05-04T20:00:25.925Z"
   },
   {
    "duration": 15,
    "start_time": "2022-05-04T20:17:09.590Z"
   },
   {
    "duration": 8,
    "start_time": "2022-05-04T20:17:15.254Z"
   },
   {
    "duration": 7,
    "start_time": "2022-05-04T20:19:39.844Z"
   },
   {
    "duration": 28,
    "start_time": "2022-05-04T20:26:12.770Z"
   },
   {
    "duration": 26,
    "start_time": "2022-05-04T20:26:21.397Z"
   },
   {
    "duration": 31,
    "start_time": "2022-05-04T20:26:40.959Z"
   },
   {
    "duration": 27,
    "start_time": "2022-05-04T20:27:08.291Z"
   },
   {
    "duration": 24,
    "start_time": "2022-05-04T20:27:18.357Z"
   },
   {
    "duration": 4,
    "start_time": "2022-05-04T21:43:30.117Z"
   },
   {
    "duration": 4,
    "start_time": "2022-05-04T21:43:31.730Z"
   },
   {
    "duration": 14,
    "start_time": "2022-05-04T21:43:46.785Z"
   },
   {
    "duration": 9,
    "start_time": "2022-05-04T21:43:58.871Z"
   },
   {
    "duration": 25,
    "start_time": "2022-05-04T21:44:03.059Z"
   },
   {
    "duration": 40,
    "start_time": "2022-05-04T21:51:17.566Z"
   },
   {
    "duration": 35,
    "start_time": "2022-05-04T21:54:39.767Z"
   },
   {
    "duration": 32,
    "start_time": "2022-05-04T21:54:46.797Z"
   },
   {
    "duration": 39,
    "start_time": "2022-05-04T21:54:54.672Z"
   },
   {
    "duration": 20,
    "start_time": "2022-05-05T00:17:12.328Z"
   },
   {
    "duration": 12,
    "start_time": "2022-05-05T00:17:24.564Z"
   },
   {
    "duration": 27,
    "start_time": "2022-05-05T00:18:17.858Z"
   },
   {
    "duration": 19,
    "start_time": "2022-05-05T00:19:52.300Z"
   },
   {
    "duration": 21,
    "start_time": "2022-05-05T00:22:18.092Z"
   },
   {
    "duration": 21,
    "start_time": "2022-05-05T00:23:07.109Z"
   },
   {
    "duration": 22,
    "start_time": "2022-05-05T00:23:16.022Z"
   },
   {
    "duration": 21,
    "start_time": "2022-05-05T00:29:03.499Z"
   },
   {
    "duration": 21,
    "start_time": "2022-05-05T00:29:25.653Z"
   },
   {
    "duration": 21,
    "start_time": "2022-05-05T00:30:04.825Z"
   },
   {
    "duration": 21,
    "start_time": "2022-05-05T00:30:24.656Z"
   },
   {
    "duration": 21,
    "start_time": "2022-05-05T00:31:41.670Z"
   },
   {
    "duration": 20,
    "start_time": "2022-05-05T00:32:04.670Z"
   },
   {
    "duration": 26,
    "start_time": "2022-05-05T02:39:40.443Z"
   },
   {
    "duration": 28,
    "start_time": "2022-05-05T03:00:22.450Z"
   },
   {
    "duration": 23,
    "start_time": "2022-05-05T03:20:39.052Z"
   },
   {
    "duration": 563,
    "start_time": "2022-05-06T00:34:06.992Z"
   },
   {
    "duration": 13,
    "start_time": "2022-05-06T00:34:09.369Z"
   },
   {
    "duration": 25,
    "start_time": "2022-05-06T00:34:11.129Z"
   },
   {
    "duration": 22,
    "start_time": "2022-05-06T00:34:13.863Z"
   },
   {
    "duration": 44,
    "start_time": "2022-05-06T00:34:16.490Z"
   },
   {
    "duration": 8,
    "start_time": "2022-05-06T00:34:19.387Z"
   },
   {
    "duration": 8,
    "start_time": "2022-05-06T00:34:22.191Z"
   },
   {
    "duration": 8,
    "start_time": "2022-05-06T00:34:24.485Z"
   },
   {
    "duration": 10,
    "start_time": "2022-05-06T00:34:27.276Z"
   },
   {
    "duration": 8,
    "start_time": "2022-05-06T00:34:30.317Z"
   },
   {
    "duration": 10,
    "start_time": "2022-05-06T00:34:32.508Z"
   },
   {
    "duration": 8,
    "start_time": "2022-05-06T00:34:35.575Z"
   },
   {
    "duration": 9,
    "start_time": "2022-05-06T00:34:37.479Z"
   },
   {
    "duration": 8,
    "start_time": "2022-05-06T00:34:39.606Z"
   },
   {
    "duration": 9,
    "start_time": "2022-05-06T00:34:41.990Z"
   },
   {
    "duration": 8,
    "start_time": "2022-05-06T00:34:44.032Z"
   },
   {
    "duration": 10,
    "start_time": "2022-05-06T00:34:46.727Z"
   },
   {
    "duration": 8,
    "start_time": "2022-05-06T00:34:48.744Z"
   },
   {
    "duration": 9,
    "start_time": "2022-05-06T00:34:52.273Z"
   },
   {
    "duration": 8,
    "start_time": "2022-05-06T00:35:09.879Z"
   },
   {
    "duration": 13,
    "start_time": "2022-05-06T00:35:11.984Z"
   },
   {
    "duration": 8,
    "start_time": "2022-05-06T00:35:13.720Z"
   },
   {
    "duration": 7,
    "start_time": "2022-05-06T00:35:16.129Z"
   },
   {
    "duration": 5,
    "start_time": "2022-05-06T00:35:19.439Z"
   },
   {
    "duration": 7,
    "start_time": "2022-05-06T00:35:21.320Z"
   },
   {
    "duration": 8,
    "start_time": "2022-05-06T00:35:23.998Z"
   },
   {
    "duration": 9731,
    "start_time": "2022-05-06T00:35:26.424Z"
   },
   {
    "duration": 6,
    "start_time": "2022-05-06T00:35:36.158Z"
   },
   {
    "duration": 7,
    "start_time": "2022-05-06T00:35:38.952Z"
   },
   {
    "duration": 11,
    "start_time": "2022-05-06T00:35:41.697Z"
   },
   {
    "duration": 6,
    "start_time": "2022-05-06T00:35:44.071Z"
   },
   {
    "duration": 8,
    "start_time": "2022-05-06T00:35:46.929Z"
   },
   {
    "duration": 7,
    "start_time": "2022-05-06T00:35:49.666Z"
   },
   {
    "duration": 9,
    "start_time": "2022-05-06T00:35:51.876Z"
   },
   {
    "duration": 15,
    "start_time": "2022-05-06T00:35:54.328Z"
   },
   {
    "duration": 8,
    "start_time": "2022-05-06T00:35:56.335Z"
   },
   {
    "duration": 8,
    "start_time": "2022-05-06T00:35:59.832Z"
   },
   {
    "duration": 28,
    "start_time": "2022-05-06T00:36:02.858Z"
   },
   {
    "duration": 29,
    "start_time": "2022-05-06T00:36:05.204Z"
   },
   {
    "duration": 26,
    "start_time": "2022-05-06T00:36:07.255Z"
   },
   {
    "duration": 20,
    "start_time": "2022-05-06T00:36:09.886Z"
   },
   {
    "duration": 4,
    "start_time": "2022-05-06T00:36:20.847Z"
   },
   {
    "duration": 5,
    "start_time": "2022-05-06T00:36:23.442Z"
   },
   {
    "duration": 13,
    "start_time": "2022-05-06T00:36:25.307Z"
   },
   {
    "duration": 19,
    "start_time": "2022-05-06T00:36:26.925Z"
   },
   {
    "duration": 39,
    "start_time": "2022-05-06T00:36:30.088Z"
   },
   {
    "duration": 20,
    "start_time": "2022-05-06T00:36:39.551Z"
   },
   {
    "duration": 20,
    "start_time": "2022-05-06T00:36:45.506Z"
   },
   {
    "duration": 19,
    "start_time": "2022-05-06T00:36:53.606Z"
   },
   {
    "duration": 20,
    "start_time": "2022-05-06T00:36:55.562Z"
   },
   {
    "duration": 19,
    "start_time": "2022-05-06T00:36:57.671Z"
   },
   {
    "duration": 19,
    "start_time": "2022-05-06T00:36:59.499Z"
   },
   {
    "duration": 5,
    "start_time": "2022-05-06T00:47:46.906Z"
   },
   {
    "duration": 15,
    "start_time": "2022-05-06T00:49:17.084Z"
   },
   {
    "duration": 5,
    "start_time": "2022-05-06T00:51:54.038Z"
   },
   {
    "duration": 15,
    "start_time": "2022-05-06T00:51:56.189Z"
   },
   {
    "duration": 38,
    "start_time": "2022-05-06T00:52:05.102Z"
   },
   {
    "duration": 98,
    "start_time": "2022-05-06T00:57:22.885Z"
   },
   {
    "duration": 57,
    "start_time": "2022-05-06T00:58:26.658Z"
   },
   {
    "duration": 21,
    "start_time": "2022-05-06T00:59:18.189Z"
   },
   {
    "duration": 8,
    "start_time": "2022-05-06T00:59:43.117Z"
   },
   {
    "duration": 43,
    "start_time": "2022-05-06T01:02:35.685Z"
   },
   {
    "duration": 6,
    "start_time": "2022-05-06T01:04:28.094Z"
   },
   {
    "duration": 8,
    "start_time": "2022-05-06T01:04:35.778Z"
   },
   {
    "duration": 7,
    "start_time": "2022-05-06T01:04:44.139Z"
   },
   {
    "duration": 21,
    "start_time": "2022-05-06T01:07:23.659Z"
   },
   {
    "duration": 22,
    "start_time": "2022-05-06T01:07:38.790Z"
   },
   {
    "duration": 20,
    "start_time": "2022-05-06T01:13:42.221Z"
   },
   {
    "duration": 19,
    "start_time": "2022-05-06T01:13:50.008Z"
   },
   {
    "duration": 21,
    "start_time": "2022-05-06T01:14:21.936Z"
   },
   {
    "duration": 20,
    "start_time": "2022-05-06T01:14:25.923Z"
   },
   {
    "duration": 5,
    "start_time": "2022-05-06T01:29:41.862Z"
   },
   {
    "duration": 37,
    "start_time": "2022-05-06T01:35:08.268Z"
   },
   {
    "duration": 36,
    "start_time": "2022-05-06T01:36:29.550Z"
   },
   {
    "duration": 37,
    "start_time": "2022-05-06T01:40:45.326Z"
   },
   {
    "duration": 40,
    "start_time": "2022-05-06T01:41:02.704Z"
   },
   {
    "duration": 36,
    "start_time": "2022-05-06T01:43:16.074Z"
   },
   {
    "duration": 36,
    "start_time": "2022-05-06T01:44:25.648Z"
   },
   {
    "duration": 41,
    "start_time": "2022-05-06T01:44:28.373Z"
   },
   {
    "duration": 23,
    "start_time": "2022-05-06T01:44:48.834Z"
   },
   {
    "duration": 534,
    "start_time": "2022-05-06T01:58:14.721Z"
   },
   {
    "duration": 13,
    "start_time": "2022-05-06T01:58:17.686Z"
   },
   {
    "duration": 25,
    "start_time": "2022-05-06T01:58:20.256Z"
   },
   {
    "duration": 21,
    "start_time": "2022-05-06T01:58:22.924Z"
   },
   {
    "duration": 42,
    "start_time": "2022-05-06T01:58:25.581Z"
   },
   {
    "duration": 7,
    "start_time": "2022-05-06T01:58:29.928Z"
   },
   {
    "duration": 6,
    "start_time": "2022-05-06T01:58:33.155Z"
   },
   {
    "duration": 7,
    "start_time": "2022-05-06T01:58:35.730Z"
   },
   {
    "duration": 10,
    "start_time": "2022-05-06T01:58:38.452Z"
   },
   {
    "duration": 7,
    "start_time": "2022-05-06T01:58:41.280Z"
   },
   {
    "duration": 10,
    "start_time": "2022-05-06T01:58:43.552Z"
   },
   {
    "duration": 7,
    "start_time": "2022-05-06T01:58:46.588Z"
   },
   {
    "duration": 8,
    "start_time": "2022-05-06T01:58:47.490Z"
   },
   {
    "duration": 8,
    "start_time": "2022-05-06T01:58:48.253Z"
   },
   {
    "duration": 10,
    "start_time": "2022-05-06T01:58:51.996Z"
   },
   {
    "duration": 9,
    "start_time": "2022-05-06T01:58:54.652Z"
   },
   {
    "duration": 10,
    "start_time": "2022-05-06T01:58:57.002Z"
   },
   {
    "duration": 8,
    "start_time": "2022-05-06T01:58:58.113Z"
   },
   {
    "duration": 9,
    "start_time": "2022-05-06T01:58:59.123Z"
   },
   {
    "duration": 9,
    "start_time": "2022-05-06T01:59:02.338Z"
   },
   {
    "duration": 14,
    "start_time": "2022-05-06T01:59:03.164Z"
   },
   {
    "duration": 8,
    "start_time": "2022-05-06T01:59:03.937Z"
   },
   {
    "duration": 8,
    "start_time": "2022-05-06T01:59:07.905Z"
   },
   {
    "duration": 6,
    "start_time": "2022-05-06T01:59:10.664Z"
   },
   {
    "duration": 8,
    "start_time": "2022-05-06T01:59:11.560Z"
   },
   {
    "duration": 10,
    "start_time": "2022-05-06T01:59:15.825Z"
   },
   {
    "duration": 9686,
    "start_time": "2022-05-06T01:59:17.884Z"
   },
   {
    "duration": 24,
    "start_time": "2022-05-06T01:59:27.573Z"
   },
   {
    "duration": 6,
    "start_time": "2022-05-06T01:59:33.562Z"
   },
   {
    "duration": 7,
    "start_time": "2022-05-06T01:59:35.391Z"
   },
   {
    "duration": 13,
    "start_time": "2022-05-06T01:59:37.778Z"
   },
   {
    "duration": 6,
    "start_time": "2022-05-06T01:59:38.843Z"
   },
   {
    "duration": 8,
    "start_time": "2022-05-06T01:59:41.331Z"
   },
   {
    "duration": 8,
    "start_time": "2022-05-06T01:59:43.701Z"
   },
   {
    "duration": 11,
    "start_time": "2022-05-06T01:59:44.695Z"
   },
   {
    "duration": 15,
    "start_time": "2022-05-06T01:59:47.337Z"
   },
   {
    "duration": 7,
    "start_time": "2022-05-06T01:59:48.633Z"
   },
   {
    "duration": 8,
    "start_time": "2022-05-06T01:59:50.570Z"
   },
   {
    "duration": 27,
    "start_time": "2022-05-06T01:59:53.234Z"
   },
   {
    "duration": 32,
    "start_time": "2022-05-06T01:59:53.995Z"
   },
   {
    "duration": 26,
    "start_time": "2022-05-06T01:59:54.790Z"
   },
   {
    "duration": 20,
    "start_time": "2022-05-06T01:59:55.736Z"
   },
   {
    "duration": 5,
    "start_time": "2022-05-06T01:59:59.761Z"
   },
   {
    "duration": 6,
    "start_time": "2022-05-06T02:00:00.611Z"
   },
   {
    "duration": 14,
    "start_time": "2022-05-06T02:00:02.516Z"
   },
   {
    "duration": 20,
    "start_time": "2022-05-06T02:00:03.344Z"
   },
   {
    "duration": 59,
    "start_time": "2022-05-06T02:00:05.988Z"
   },
   {
    "duration": 27,
    "start_time": "2022-05-06T02:00:10.145Z"
   },
   {
    "duration": 27,
    "start_time": "2022-05-06T02:00:12.326Z"
   },
   {
    "duration": 27,
    "start_time": "2022-05-06T02:00:14.537Z"
   },
   {
    "duration": 27,
    "start_time": "2022-05-06T02:00:16.402Z"
   },
   {
    "duration": 26,
    "start_time": "2022-05-06T02:00:18.900Z"
   },
   {
    "duration": 20,
    "start_time": "2022-05-06T02:00:20.827Z"
   },
   {
    "duration": 4,
    "start_time": "2022-05-06T02:00:23.482Z"
   },
   {
    "duration": 38,
    "start_time": "2022-05-06T02:00:35.325Z"
   },
   {
    "duration": 58,
    "start_time": "2022-05-06T02:00:39.764Z"
   },
   {
    "duration": 44,
    "start_time": "2022-05-06T02:00:42.278Z"
   },
   {
    "duration": 6,
    "start_time": "2022-05-06T02:00:45.300Z"
   },
   {
    "duration": 21,
    "start_time": "2022-05-06T02:00:47.593Z"
   },
   {
    "duration": 19,
    "start_time": "2022-05-06T02:00:57.388Z"
   },
   {
    "duration": 19,
    "start_time": "2022-05-06T02:00:59.758Z"
   },
   {
    "duration": 4,
    "start_time": "2022-05-06T02:01:08.726Z"
   },
   {
    "duration": 36,
    "start_time": "2022-05-06T02:01:11.764Z"
   },
   {
    "duration": 34,
    "start_time": "2022-05-06T02:01:21.438Z"
   },
   {
    "duration": 43,
    "start_time": "2022-05-06T02:01:23.655Z"
   },
   {
    "duration": 42,
    "start_time": "2022-05-06T02:08:01.701Z"
   },
   {
    "duration": 40,
    "start_time": "2022-05-06T02:08:05.463Z"
   },
   {
    "duration": 564,
    "start_time": "2022-05-06T02:13:22.481Z"
   },
   {
    "duration": 13,
    "start_time": "2022-05-06T02:13:24.692Z"
   },
   {
    "duration": 26,
    "start_time": "2022-05-06T02:13:26.687Z"
   },
   {
    "duration": 23,
    "start_time": "2022-05-06T02:13:28.852Z"
   },
   {
    "duration": 46,
    "start_time": "2022-05-06T02:13:31.166Z"
   },
   {
    "duration": 8,
    "start_time": "2022-05-06T02:13:34.197Z"
   },
   {
    "duration": 8,
    "start_time": "2022-05-06T02:13:36.516Z"
   },
   {
    "duration": 8,
    "start_time": "2022-05-06T02:13:39.169Z"
   },
   {
    "duration": 10,
    "start_time": "2022-05-06T02:13:41.693Z"
   },
   {
    "duration": 8,
    "start_time": "2022-05-06T02:13:44.796Z"
   },
   {
    "duration": 10,
    "start_time": "2022-05-06T02:13:46.470Z"
   },
   {
    "duration": 8,
    "start_time": "2022-05-06T02:13:49.399Z"
   },
   {
    "duration": 8,
    "start_time": "2022-05-06T02:13:52.210Z"
   },
   {
    "duration": 8,
    "start_time": "2022-05-06T02:13:54.125Z"
   },
   {
    "duration": 8,
    "start_time": "2022-05-06T02:13:56.419Z"
   },
   {
    "duration": 7,
    "start_time": "2022-05-06T02:13:58.293Z"
   },
   {
    "duration": 9,
    "start_time": "2022-05-06T02:14:00.218Z"
   },
   {
    "duration": 7,
    "start_time": "2022-05-06T02:14:02.660Z"
   },
   {
    "duration": 7,
    "start_time": "2022-05-06T02:14:05.164Z"
   },
   {
    "duration": 6,
    "start_time": "2022-05-06T02:14:07.964Z"
   },
   {
    "duration": 13,
    "start_time": "2022-05-06T02:14:09.725Z"
   },
   {
    "duration": 8,
    "start_time": "2022-05-06T02:14:11.338Z"
   },
   {
    "duration": 8,
    "start_time": "2022-05-06T02:14:13.555Z"
   },
   {
    "duration": 4,
    "start_time": "2022-05-06T02:14:15.989Z"
   },
   {
    "duration": 7,
    "start_time": "2022-05-06T02:14:17.667Z"
   },
   {
    "duration": 8,
    "start_time": "2022-05-06T02:14:20.098Z"
   },
   {
    "duration": 9688,
    "start_time": "2022-05-06T02:14:22.325Z"
   },
   {
    "duration": 21,
    "start_time": "2022-05-06T02:14:32.016Z"
   },
   {
    "duration": 6,
    "start_time": "2022-05-06T02:14:37.411Z"
   },
   {
    "duration": 6,
    "start_time": "2022-05-06T02:14:39.582Z"
   },
   {
    "duration": 11,
    "start_time": "2022-05-06T02:14:41.851Z"
   },
   {
    "duration": 6,
    "start_time": "2022-05-06T02:14:43.683Z"
   },
   {
    "duration": 6,
    "start_time": "2022-05-06T02:14:46.055Z"
   },
   {
    "duration": 7,
    "start_time": "2022-05-06T02:14:53.262Z"
   },
   {
    "duration": 9,
    "start_time": "2022-05-06T02:14:54.993Z"
   },
   {
    "duration": 16,
    "start_time": "2022-05-06T02:14:57.098Z"
   },
   {
    "duration": 8,
    "start_time": "2022-05-06T02:14:58.746Z"
   },
   {
    "duration": 8,
    "start_time": "2022-05-06T02:15:00.901Z"
   },
   {
    "duration": 26,
    "start_time": "2022-05-06T02:15:03.196Z"
   },
   {
    "duration": 33,
    "start_time": "2022-05-06T02:15:05.114Z"
   },
   {
    "duration": 27,
    "start_time": "2022-05-06T02:15:06.832Z"
   },
   {
    "duration": 22,
    "start_time": "2022-05-06T02:15:09.042Z"
   },
   {
    "duration": 5,
    "start_time": "2022-05-06T02:15:12.109Z"
   },
   {
    "duration": 5,
    "start_time": "2022-05-06T02:15:14.008Z"
   },
   {
    "duration": 14,
    "start_time": "2022-05-06T02:15:15.842Z"
   },
   {
    "duration": 19,
    "start_time": "2022-05-06T02:15:17.978Z"
   },
   {
    "duration": 61,
    "start_time": "2022-05-06T02:15:20.769Z"
   },
   {
    "duration": 28,
    "start_time": "2022-05-06T02:15:23.369Z"
   },
   {
    "duration": 27,
    "start_time": "2022-05-06T02:15:25.341Z"
   },
   {
    "duration": 26,
    "start_time": "2022-05-06T02:15:28.009Z"
   },
   {
    "duration": 28,
    "start_time": "2022-05-06T02:15:29.945Z"
   },
   {
    "duration": 26,
    "start_time": "2022-05-06T02:15:32.377Z"
   },
   {
    "duration": 20,
    "start_time": "2022-05-06T02:15:34.413Z"
   },
   {
    "duration": 4,
    "start_time": "2022-05-06T02:15:36.277Z"
   },
   {
    "duration": 39,
    "start_time": "2022-05-06T02:15:39.415Z"
   },
   {
    "duration": 56,
    "start_time": "2022-05-06T02:15:42.779Z"
   },
   {
    "duration": 44,
    "start_time": "2022-05-06T02:15:44.894Z"
   },
   {
    "duration": 7,
    "start_time": "2022-05-06T02:15:48.637Z"
   },
   {
    "duration": 24,
    "start_time": "2022-05-06T02:15:50.646Z"
   },
   {
    "duration": 21,
    "start_time": "2022-05-06T02:15:53.090Z"
   },
   {
    "duration": 20,
    "start_time": "2022-05-06T02:15:55.419Z"
   },
   {
    "duration": 4,
    "start_time": "2022-05-06T02:15:58.005Z"
   },
   {
    "duration": 38,
    "start_time": "2022-05-06T02:16:04.631Z"
   },
   {
    "duration": 42,
    "start_time": "2022-05-06T02:16:08.651Z"
   },
   {
    "duration": 46,
    "start_time": "2022-05-06T02:16:11.409Z"
   },
   {
    "duration": 22,
    "start_time": "2022-05-06T02:16:50.654Z"
   },
   {
    "duration": 442,
    "start_time": "2022-05-08T00:34:41.572Z"
   },
   {
    "duration": 8,
    "start_time": "2022-05-08T00:34:44.366Z"
   },
   {
    "duration": 18,
    "start_time": "2022-05-08T00:34:46.150Z"
   },
   {
    "duration": 16,
    "start_time": "2022-05-08T00:34:48.277Z"
   },
   {
    "duration": 26,
    "start_time": "2022-05-08T00:34:50.689Z"
   },
   {
    "duration": 5,
    "start_time": "2022-05-08T00:34:53.253Z"
   },
   {
    "duration": 5,
    "start_time": "2022-05-08T00:34:55.767Z"
   },
   {
    "duration": 6,
    "start_time": "2022-05-08T00:34:57.910Z"
   },
   {
    "duration": 8,
    "start_time": "2022-05-08T00:35:00.588Z"
   },
   {
    "duration": 6,
    "start_time": "2022-05-08T00:35:03.206Z"
   },
   {
    "duration": 7,
    "start_time": "2022-05-08T00:35:04.989Z"
   },
   {
    "duration": 5,
    "start_time": "2022-05-08T00:35:08.055Z"
   },
   {
    "duration": 5,
    "start_time": "2022-05-08T00:35:08.936Z"
   },
   {
    "duration": 6,
    "start_time": "2022-05-08T00:35:09.743Z"
   },
   {
    "duration": 8,
    "start_time": "2022-05-08T00:35:10.550Z"
   },
   {
    "duration": 6,
    "start_time": "2022-05-08T00:35:12.644Z"
   },
   {
    "duration": 7,
    "start_time": "2022-05-08T00:35:13.425Z"
   },
   {
    "duration": 6,
    "start_time": "2022-05-08T00:35:14.231Z"
   },
   {
    "duration": 7,
    "start_time": "2022-05-08T00:35:17.084Z"
   },
   {
    "duration": 5,
    "start_time": "2022-05-08T00:35:20.006Z"
   },
   {
    "duration": 10,
    "start_time": "2022-05-08T00:35:21.238Z"
   },
   {
    "duration": 6,
    "start_time": "2022-05-08T00:35:23.212Z"
   },
   {
    "duration": 5,
    "start_time": "2022-05-08T00:35:25.470Z"
   },
   {
    "duration": 4,
    "start_time": "2022-05-08T00:35:28.005Z"
   },
   {
    "duration": 6,
    "start_time": "2022-05-08T00:35:28.788Z"
   },
   {
    "duration": 7,
    "start_time": "2022-05-08T00:35:31.004Z"
   },
   {
    "duration": 6218,
    "start_time": "2022-05-08T00:35:33.278Z"
   },
   {
    "duration": 15,
    "start_time": "2022-05-08T00:35:39.499Z"
   },
   {
    "duration": 5,
    "start_time": "2022-05-08T00:35:45.024Z"
   },
   {
    "duration": 5,
    "start_time": "2022-05-08T00:35:46.095Z"
   },
   {
    "duration": 9,
    "start_time": "2022-05-08T00:35:48.615Z"
   },
   {
    "duration": 5,
    "start_time": "2022-05-08T00:35:49.413Z"
   },
   {
    "duration": 6,
    "start_time": "2022-05-08T00:35:50.693Z"
   },
   {
    "duration": 6,
    "start_time": "2022-05-08T00:35:53.806Z"
   },
   {
    "duration": 7,
    "start_time": "2022-05-08T00:35:54.657Z"
   },
   {
    "duration": 11,
    "start_time": "2022-05-08T00:35:56.973Z"
   },
   {
    "duration": 6,
    "start_time": "2022-05-08T00:35:57.718Z"
   },
   {
    "duration": 8,
    "start_time": "2022-05-08T00:35:59.957Z"
   },
   {
    "duration": 18,
    "start_time": "2022-05-08T00:36:02.397Z"
   },
   {
    "duration": 21,
    "start_time": "2022-05-08T00:36:03.174Z"
   },
   {
    "duration": 17,
    "start_time": "2022-05-08T00:36:03.974Z"
   },
   {
    "duration": 15,
    "start_time": "2022-05-08T00:36:04.870Z"
   },
   {
    "duration": 4,
    "start_time": "2022-05-08T00:36:10.189Z"
   },
   {
    "duration": 3,
    "start_time": "2022-05-08T00:36:10.957Z"
   },
   {
    "duration": 10,
    "start_time": "2022-05-08T00:36:11.670Z"
   },
   {
    "duration": 13,
    "start_time": "2022-05-08T00:36:12.671Z"
   },
   {
    "duration": 27,
    "start_time": "2022-05-08T00:36:15.416Z"
   },
   {
    "duration": 15,
    "start_time": "2022-05-08T00:36:18.007Z"
   },
   {
    "duration": 15,
    "start_time": "2022-05-08T00:36:20.238Z"
   },
   {
    "duration": 14,
    "start_time": "2022-05-08T00:36:22.479Z"
   },
   {
    "duration": 14,
    "start_time": "2022-05-08T00:36:24.941Z"
   },
   {
    "duration": 13,
    "start_time": "2022-05-08T00:36:27.949Z"
   },
   {
    "duration": 14,
    "start_time": "2022-05-08T00:36:30.613Z"
   },
   {
    "duration": 3,
    "start_time": "2022-05-08T00:36:33.007Z"
   },
   {
    "duration": 25,
    "start_time": "2022-05-08T00:36:34.983Z"
   },
   {
    "duration": 41,
    "start_time": "2022-05-08T00:36:38.903Z"
   },
   {
    "duration": 27,
    "start_time": "2022-05-08T00:36:41.169Z"
   },
   {
    "duration": 5,
    "start_time": "2022-05-08T00:36:46.319Z"
   },
   {
    "duration": 15,
    "start_time": "2022-05-08T00:36:49.167Z"
   },
   {
    "duration": 14,
    "start_time": "2022-05-08T00:36:51.749Z"
   },
   {
    "duration": 13,
    "start_time": "2022-05-08T00:36:53.872Z"
   },
   {
    "duration": 3,
    "start_time": "2022-05-08T00:36:56.831Z"
   },
   {
    "duration": 24,
    "start_time": "2022-05-08T00:36:58.799Z"
   },
   {
    "duration": 29,
    "start_time": "2022-05-08T00:37:02.798Z"
   },
   {
    "duration": 28,
    "start_time": "2022-05-08T00:37:04.544Z"
   },
   {
    "duration": 17,
    "start_time": "2022-05-08T00:37:09.071Z"
   },
   {
    "duration": 4,
    "start_time": "2022-05-08T00:37:14.421Z"
   },
   {
    "duration": 4,
    "start_time": "2022-05-08T00:37:57.686Z"
   },
   {
    "duration": 3,
    "start_time": "2022-05-08T01:41:35.019Z"
   },
   {
    "duration": 4,
    "start_time": "2022-05-08T01:41:45.972Z"
   },
   {
    "duration": 67,
    "start_time": "2022-05-08T01:41:51.594Z"
   },
   {
    "duration": 8,
    "start_time": "2022-05-08T01:41:55.013Z"
   },
   {
    "duration": 5,
    "start_time": "2022-05-08T01:42:12.768Z"
   },
   {
    "duration": 4,
    "start_time": "2022-05-08T02:17:11.353Z"
   },
   {
    "duration": 4,
    "start_time": "2022-05-08T02:17:23.600Z"
   },
   {
    "duration": 5,
    "start_time": "2022-05-08T02:17:29.136Z"
   },
   {
    "duration": 5,
    "start_time": "2022-05-08T02:18:07.965Z"
   },
   {
    "duration": 7,
    "start_time": "2022-05-08T02:18:17.168Z"
   },
   {
    "duration": 6,
    "start_time": "2022-05-08T02:19:10.661Z"
   },
   {
    "duration": 6,
    "start_time": "2022-05-08T02:19:58.011Z"
   },
   {
    "duration": 4,
    "start_time": "2022-05-08T02:20:54.762Z"
   },
   {
    "duration": 71,
    "start_time": "2022-05-08T15:06:46.908Z"
   },
   {
    "duration": 615,
    "start_time": "2022-05-08T15:18:27.416Z"
   },
   {
    "duration": 13,
    "start_time": "2022-05-08T15:18:29.822Z"
   },
   {
    "duration": 25,
    "start_time": "2022-05-08T15:18:30.819Z"
   },
   {
    "duration": 21,
    "start_time": "2022-05-08T15:18:33.293Z"
   },
   {
    "duration": 43,
    "start_time": "2022-05-08T15:18:35.530Z"
   },
   {
    "duration": 7,
    "start_time": "2022-05-08T15:18:38.736Z"
   },
   {
    "duration": 7,
    "start_time": "2022-05-08T15:18:41.486Z"
   },
   {
    "duration": 8,
    "start_time": "2022-05-08T15:18:43.279Z"
   },
   {
    "duration": 10,
    "start_time": "2022-05-08T15:18:45.999Z"
   },
   {
    "duration": 8,
    "start_time": "2022-05-08T15:18:48.894Z"
   },
   {
    "duration": 16,
    "start_time": "2022-05-08T15:18:50.181Z"
   },
   {
    "duration": 8,
    "start_time": "2022-05-08T15:18:52.949Z"
   },
   {
    "duration": 7,
    "start_time": "2022-05-08T15:18:53.621Z"
   },
   {
    "duration": 8,
    "start_time": "2022-05-08T15:18:54.271Z"
   },
   {
    "duration": 12,
    "start_time": "2022-05-08T15:18:54.909Z"
   },
   {
    "duration": 13,
    "start_time": "2022-05-08T15:18:56.100Z"
   },
   {
    "duration": 9,
    "start_time": "2022-05-08T15:18:58.213Z"
   },
   {
    "duration": 7,
    "start_time": "2022-05-08T15:18:58.895Z"
   },
   {
    "duration": 8,
    "start_time": "2022-05-08T15:18:59.598Z"
   },
   {
    "duration": 8,
    "start_time": "2022-05-08T15:19:02.250Z"
   },
   {
    "duration": 13,
    "start_time": "2022-05-08T15:19:03.005Z"
   },
   {
    "duration": 8,
    "start_time": "2022-05-08T15:19:03.718Z"
   },
   {
    "duration": 7,
    "start_time": "2022-05-08T15:19:06.157Z"
   },
   {
    "duration": 4,
    "start_time": "2022-05-08T15:19:08.470Z"
   },
   {
    "duration": 7,
    "start_time": "2022-05-08T15:19:09.093Z"
   },
   {
    "duration": 9,
    "start_time": "2022-05-08T15:19:11.535Z"
   },
   {
    "duration": 10241,
    "start_time": "2022-05-08T15:19:14.494Z"
   },
   {
    "duration": 22,
    "start_time": "2022-05-08T15:19:24.738Z"
   },
   {
    "duration": 7,
    "start_time": "2022-05-08T15:19:28.518Z"
   },
   {
    "duration": 7,
    "start_time": "2022-05-08T15:19:29.428Z"
   },
   {
    "duration": 12,
    "start_time": "2022-05-08T15:19:31.920Z"
   },
   {
    "duration": 7,
    "start_time": "2022-05-08T15:19:32.566Z"
   },
   {
    "duration": 12,
    "start_time": "2022-05-08T15:19:34.711Z"
   },
   {
    "duration": 7,
    "start_time": "2022-05-08T15:19:37.654Z"
   },
   {
    "duration": 9,
    "start_time": "2022-05-08T15:19:38.294Z"
   },
   {
    "duration": 14,
    "start_time": "2022-05-08T15:19:40.767Z"
   },
   {
    "duration": 6,
    "start_time": "2022-05-08T15:19:41.357Z"
   },
   {
    "duration": 7,
    "start_time": "2022-05-08T15:19:43.425Z"
   },
   {
    "duration": 28,
    "start_time": "2022-05-08T15:19:46.037Z"
   },
   {
    "duration": 32,
    "start_time": "2022-05-08T15:19:46.590Z"
   },
   {
    "duration": 27,
    "start_time": "2022-05-08T15:19:47.205Z"
   },
   {
    "duration": 20,
    "start_time": "2022-05-08T15:19:47.876Z"
   },
   {
    "duration": 6,
    "start_time": "2022-05-08T15:19:51.511Z"
   },
   {
    "duration": 7,
    "start_time": "2022-05-08T15:19:52.380Z"
   },
   {
    "duration": 14,
    "start_time": "2022-05-08T15:19:52.998Z"
   },
   {
    "duration": 23,
    "start_time": "2022-05-08T15:19:53.702Z"
   },
   {
    "duration": 47,
    "start_time": "2022-05-08T15:19:56.205Z"
   },
   {
    "duration": 21,
    "start_time": "2022-05-08T15:19:59.121Z"
   },
   {
    "duration": 21,
    "start_time": "2022-05-08T15:20:01.550Z"
   },
   {
    "duration": 21,
    "start_time": "2022-05-08T15:20:09.845Z"
   },
   {
    "duration": 19,
    "start_time": "2022-05-08T15:20:12.023Z"
   },
   {
    "duration": 18,
    "start_time": "2022-05-08T15:20:12.777Z"
   },
   {
    "duration": 19,
    "start_time": "2022-05-08T15:20:14.789Z"
   },
   {
    "duration": 5,
    "start_time": "2022-05-08T15:20:17.071Z"
   },
   {
    "duration": 37,
    "start_time": "2022-05-08T15:20:19.654Z"
   },
   {
    "duration": 55,
    "start_time": "2022-05-08T15:20:24.214Z"
   },
   {
    "duration": 43,
    "start_time": "2022-05-08T15:20:26.210Z"
   },
   {
    "duration": 7,
    "start_time": "2022-05-08T15:20:30.149Z"
   },
   {
    "duration": 21,
    "start_time": "2022-05-08T15:20:32.096Z"
   },
   {
    "duration": 20,
    "start_time": "2022-05-08T15:20:35.022Z"
   },
   {
    "duration": 24,
    "start_time": "2022-05-08T15:20:37.359Z"
   },
   {
    "duration": 5,
    "start_time": "2022-05-08T15:20:40.007Z"
   },
   {
    "duration": 51,
    "start_time": "2022-05-08T15:20:42.718Z"
   },
   {
    "duration": 44,
    "start_time": "2022-05-08T15:20:47.462Z"
   },
   {
    "duration": 50,
    "start_time": "2022-05-08T15:20:49.782Z"
   },
   {
    "duration": 22,
    "start_time": "2022-05-08T15:20:53.503Z"
   },
   {
    "duration": 12,
    "start_time": "2022-05-08T15:20:56.912Z"
   },
   {
    "duration": 21,
    "start_time": "2022-05-08T15:21:05.327Z"
   },
   {
    "duration": 9,
    "start_time": "2022-05-08T16:11:24.702Z"
   },
   {
    "duration": 10,
    "start_time": "2022-05-08T16:11:49.447Z"
   },
   {
    "duration": 8,
    "start_time": "2022-05-08T16:20:15.080Z"
   },
   {
    "duration": 9,
    "start_time": "2022-05-08T16:20:29.838Z"
   },
   {
    "duration": 10,
    "start_time": "2022-05-08T16:20:43.774Z"
   },
   {
    "duration": 8,
    "start_time": "2022-05-08T16:21:04.184Z"
   },
   {
    "duration": 45,
    "start_time": "2022-05-08T16:34:33.032Z"
   },
   {
    "duration": 10,
    "start_time": "2022-05-08T16:34:36.392Z"
   },
   {
    "duration": 7,
    "start_time": "2022-05-08T16:34:49.624Z"
   },
   {
    "duration": 5,
    "start_time": "2022-05-08T17:00:46.781Z"
   },
   {
    "duration": 20,
    "start_time": "2022-05-08T17:00:50.706Z"
   },
   {
    "duration": 20,
    "start_time": "2022-05-08T17:01:03.716Z"
   },
   {
    "duration": 18,
    "start_time": "2022-05-08T17:01:11.323Z"
   },
   {
    "duration": 5,
    "start_time": "2022-05-08T17:16:34.187Z"
   },
   {
    "duration": 22,
    "start_time": "2022-05-08T17:16:36.030Z"
   },
   {
    "duration": 5,
    "start_time": "2022-05-08T17:16:47.365Z"
   },
   {
    "duration": 20,
    "start_time": "2022-05-08T17:16:49.792Z"
   },
   {
    "duration": 34,
    "start_time": "2022-05-08T17:18:55.808Z"
   },
   {
    "duration": 1620,
    "start_time": "2022-05-08T17:18:59.699Z"
   },
   {
    "duration": 114,
    "start_time": "2022-05-08T17:19:16.233Z"
   },
   {
    "duration": 101,
    "start_time": "2022-05-08T17:19:20.318Z"
   },
   {
    "duration": 518,
    "start_time": "2022-05-08T17:19:27.093Z"
   },
   {
    "duration": 10,
    "start_time": "2022-05-08T17:19:57.597Z"
   },
   {
    "duration": 5,
    "start_time": "2022-05-08T17:20:19.494Z"
   },
   {
    "duration": 543,
    "start_time": "2022-05-08T17:20:21.125Z"
   },
   {
    "duration": 568,
    "start_time": "2022-05-08T17:27:29.272Z"
   },
   {
    "duration": 51,
    "start_time": "2022-05-08T17:27:33.018Z"
   },
   {
    "duration": 12,
    "start_time": "2022-05-08T17:27:35.721Z"
   },
   {
    "duration": 25,
    "start_time": "2022-05-08T17:27:36.408Z"
   },
   {
    "duration": 22,
    "start_time": "2022-05-08T17:27:39.182Z"
   },
   {
    "duration": 42,
    "start_time": "2022-05-08T17:27:41.153Z"
   },
   {
    "duration": 7,
    "start_time": "2022-05-08T17:27:44.656Z"
   },
   {
    "duration": 7,
    "start_time": "2022-05-08T17:27:49.216Z"
   },
   {
    "duration": 9,
    "start_time": "2022-05-08T17:27:52.056Z"
   },
   {
    "duration": 10,
    "start_time": "2022-05-08T17:27:54.752Z"
   },
   {
    "duration": 8,
    "start_time": "2022-05-08T17:27:57.393Z"
   },
   {
    "duration": 10,
    "start_time": "2022-05-08T17:27:58.112Z"
   },
   {
    "duration": 7,
    "start_time": "2022-05-08T17:28:00.848Z"
   },
   {
    "duration": 8,
    "start_time": "2022-05-08T17:28:01.456Z"
   },
   {
    "duration": 8,
    "start_time": "2022-05-08T17:28:02.041Z"
   },
   {
    "duration": 9,
    "start_time": "2022-05-08T17:28:02.585Z"
   },
   {
    "duration": 8,
    "start_time": "2022-05-08T17:28:03.194Z"
   },
   {
    "duration": 9,
    "start_time": "2022-05-08T17:28:04.970Z"
   },
   {
    "duration": 7,
    "start_time": "2022-05-08T17:28:05.585Z"
   },
   {
    "duration": 7,
    "start_time": "2022-05-08T17:28:06.642Z"
   },
   {
    "duration": 7,
    "start_time": "2022-05-08T17:28:11.001Z"
   },
   {
    "duration": 12,
    "start_time": "2022-05-08T17:28:12.768Z"
   },
   {
    "duration": 7,
    "start_time": "2022-05-08T17:28:13.323Z"
   },
   {
    "duration": 9,
    "start_time": "2022-05-08T17:28:15.704Z"
   },
   {
    "duration": 5,
    "start_time": "2022-05-08T17:28:18.229Z"
   },
   {
    "duration": 7,
    "start_time": "2022-05-08T17:28:18.827Z"
   },
   {
    "duration": 9,
    "start_time": "2022-05-08T17:28:21.194Z"
   },
   {
    "duration": 9818,
    "start_time": "2022-05-08T17:28:23.596Z"
   },
   {
    "duration": 22,
    "start_time": "2022-05-08T17:28:33.417Z"
   },
   {
    "duration": 9,
    "start_time": "2022-05-08T17:28:36.866Z"
   },
   {
    "duration": 7,
    "start_time": "2022-05-08T17:28:37.754Z"
   },
   {
    "duration": 12,
    "start_time": "2022-05-08T17:28:40.935Z"
   },
   {
    "duration": 7,
    "start_time": "2022-05-08T17:28:41.591Z"
   },
   {
    "duration": 8,
    "start_time": "2022-05-08T17:28:43.825Z"
   },
   {
    "duration": 7,
    "start_time": "2022-05-08T17:28:46.464Z"
   },
   {
    "duration": 15,
    "start_time": "2022-05-08T17:28:47.097Z"
   },
   {
    "duration": 16,
    "start_time": "2022-05-08T17:28:49.209Z"
   },
   {
    "duration": 8,
    "start_time": "2022-05-08T17:28:49.879Z"
   },
   {
    "duration": 8,
    "start_time": "2022-05-08T17:28:52.560Z"
   },
   {
    "duration": 28,
    "start_time": "2022-05-08T17:28:54.866Z"
   },
   {
    "duration": 29,
    "start_time": "2022-05-08T17:28:55.448Z"
   },
   {
    "duration": 28,
    "start_time": "2022-05-08T17:28:55.992Z"
   },
   {
    "duration": 21,
    "start_time": "2022-05-08T17:28:56.592Z"
   },
   {
    "duration": 5,
    "start_time": "2022-05-08T17:29:01.593Z"
   },
   {
    "duration": 5,
    "start_time": "2022-05-08T17:29:02.337Z"
   },
   {
    "duration": 13,
    "start_time": "2022-05-08T17:29:03.081Z"
   },
   {
    "duration": 19,
    "start_time": "2022-05-08T17:29:03.802Z"
   },
   {
    "duration": 42,
    "start_time": "2022-05-08T17:29:06.691Z"
   },
   {
    "duration": 20,
    "start_time": "2022-05-08T17:29:09.439Z"
   },
   {
    "duration": 20,
    "start_time": "2022-05-08T17:29:12.243Z"
   },
   {
    "duration": 20,
    "start_time": "2022-05-08T17:29:14.343Z"
   },
   {
    "duration": 20,
    "start_time": "2022-05-08T17:29:16.994Z"
   },
   {
    "duration": 19,
    "start_time": "2022-05-08T17:29:17.736Z"
   },
   {
    "duration": 19,
    "start_time": "2022-05-08T17:29:19.843Z"
   },
   {
    "duration": 5,
    "start_time": "2022-05-08T17:29:22.233Z"
   },
   {
    "duration": 38,
    "start_time": "2022-05-08T17:29:24.672Z"
   },
   {
    "duration": 55,
    "start_time": "2022-05-08T17:29:28.803Z"
   },
   {
    "duration": 44,
    "start_time": "2022-05-08T17:29:31.356Z"
   },
   {
    "duration": 7,
    "start_time": "2022-05-08T17:29:34.480Z"
   },
   {
    "duration": 23,
    "start_time": "2022-05-08T17:29:36.505Z"
   },
   {
    "duration": 20,
    "start_time": "2022-05-08T17:29:39.562Z"
   },
   {
    "duration": 19,
    "start_time": "2022-05-08T17:29:40.272Z"
   },
   {
    "duration": 4,
    "start_time": "2022-05-08T17:29:43.121Z"
   },
   {
    "duration": 37,
    "start_time": "2022-05-08T17:29:46.273Z"
   },
   {
    "duration": 41,
    "start_time": "2022-05-08T17:29:50.881Z"
   },
   {
    "duration": 42,
    "start_time": "2022-05-08T17:29:53.146Z"
   },
   {
    "duration": 34,
    "start_time": "2022-05-08T17:29:56.875Z"
   },
   {
    "duration": 30,
    "start_time": "2022-05-08T17:29:59.784Z"
   },
   {
    "duration": 8,
    "start_time": "2022-05-08T17:30:03.715Z"
   },
   {
    "duration": 8,
    "start_time": "2022-05-08T17:30:07.120Z"
   },
   {
    "duration": 5,
    "start_time": "2022-05-08T17:30:18.168Z"
   },
   {
    "duration": 22,
    "start_time": "2022-05-08T17:30:37.712Z"
   },
   {
    "duration": 95,
    "start_time": "2022-05-08T17:47:01.932Z"
   },
   {
    "duration": 7,
    "start_time": "2022-05-08T17:47:11.426Z"
   },
   {
    "duration": 9,
    "start_time": "2022-05-08T17:47:45.332Z"
   },
   {
    "duration": 13,
    "start_time": "2022-05-08T18:02:14.309Z"
   },
   {
    "duration": 10,
    "start_time": "2022-05-08T18:02:41.812Z"
   },
   {
    "duration": 13,
    "start_time": "2022-05-08T18:02:54.014Z"
   },
   {
    "duration": 10,
    "start_time": "2022-05-08T20:37:21.012Z"
   },
   {
    "duration": 11,
    "start_time": "2022-05-08T20:37:31.122Z"
   },
   {
    "duration": 12,
    "start_time": "2022-05-08T20:38:15.141Z"
   },
   {
    "duration": 10,
    "start_time": "2022-05-08T20:40:46.194Z"
   },
   {
    "duration": 16,
    "start_time": "2022-05-08T20:51:25.455Z"
   },
   {
    "duration": 8,
    "start_time": "2022-05-08T20:51:56.311Z"
   },
   {
    "duration": 7,
    "start_time": "2022-05-08T20:52:22.445Z"
   },
   {
    "duration": 14,
    "start_time": "2022-05-08T20:52:43.100Z"
   },
   {
    "duration": 11,
    "start_time": "2022-05-08T20:52:56.525Z"
   },
   {
    "duration": 7,
    "start_time": "2022-05-08T20:53:13.029Z"
   },
   {
    "duration": 6,
    "start_time": "2022-05-08T21:00:22.566Z"
   },
   {
    "duration": 450,
    "start_time": "2022-05-08T21:00:24.477Z"
   },
   {
    "duration": 23,
    "start_time": "2022-05-08T21:00:41.405Z"
   },
   {
    "duration": 10,
    "start_time": "2022-05-08T21:13:01.523Z"
   },
   {
    "duration": 8,
    "start_time": "2022-05-08T21:23:29.395Z"
   },
   {
    "duration": 8,
    "start_time": "2022-05-08T21:23:41.418Z"
   },
   {
    "duration": 7,
    "start_time": "2022-05-08T21:23:53.009Z"
   },
   {
    "duration": 8,
    "start_time": "2022-05-08T21:23:58.843Z"
   },
   {
    "duration": 10,
    "start_time": "2022-05-08T21:42:39.204Z"
   },
   {
    "duration": 9,
    "start_time": "2022-05-08T21:43:10.444Z"
   },
   {
    "duration": 10,
    "start_time": "2022-05-08T21:43:13.924Z"
   },
   {
    "duration": 107,
    "start_time": "2022-05-08T21:49:05.637Z"
   },
   {
    "duration": 5,
    "start_time": "2022-05-08T21:49:15.732Z"
   },
   {
    "duration": 5,
    "start_time": "2022-05-08T21:49:18.645Z"
   },
   {
    "duration": 18,
    "start_time": "2022-05-08T21:50:06.809Z"
   },
   {
    "duration": 25,
    "start_time": "2022-05-08T21:50:41.292Z"
   },
   {
    "duration": 10,
    "start_time": "2022-05-08T21:51:33.663Z"
   },
   {
    "duration": 23,
    "start_time": "2022-05-08T21:51:36.895Z"
   },
   {
    "duration": 13,
    "start_time": "2022-05-08T21:51:39.170Z"
   },
   {
    "duration": 10,
    "start_time": "2022-05-08T21:51:41.463Z"
   },
   {
    "duration": 25,
    "start_time": "2022-05-08T21:54:06.141Z"
   },
   {
    "duration": 10,
    "start_time": "2022-05-08T21:54:27.953Z"
   },
   {
    "duration": 44,
    "start_time": "2022-05-08T22:02:54.176Z"
   },
   {
    "duration": 18,
    "start_time": "2022-05-08T22:28:11.754Z"
   },
   {
    "duration": 10,
    "start_time": "2022-05-08T22:28:40.331Z"
   },
   {
    "duration": 10,
    "start_time": "2022-05-08T22:28:43.723Z"
   },
   {
    "duration": 37,
    "start_time": "2022-05-08T22:28:52.096Z"
   },
   {
    "duration": 35,
    "start_time": "2022-05-08T22:33:53.196Z"
   },
   {
    "duration": 40,
    "start_time": "2022-05-08T22:34:09.868Z"
   },
   {
    "duration": 25,
    "start_time": "2022-05-08T22:35:22.514Z"
   },
   {
    "duration": 18,
    "start_time": "2022-05-08T22:35:31.602Z"
   },
   {
    "duration": 41,
    "start_time": "2022-05-08T22:36:43.938Z"
   },
   {
    "duration": 1533,
    "start_time": "2022-05-08T22:37:25.690Z"
   },
   {
    "duration": 22,
    "start_time": "2022-05-08T22:37:48.788Z"
   },
   {
    "duration": 41,
    "start_time": "2022-05-08T22:37:59.219Z"
   },
   {
    "duration": 40,
    "start_time": "2022-05-08T22:39:58.428Z"
   },
   {
    "duration": 42,
    "start_time": "2022-05-08T22:40:56.389Z"
   },
   {
    "duration": 18,
    "start_time": "2022-05-08T22:41:26.162Z"
   },
   {
    "duration": 41,
    "start_time": "2022-05-08T22:41:53.705Z"
   },
   {
    "duration": 34,
    "start_time": "2022-05-08T23:31:31.297Z"
   },
   {
    "duration": 19,
    "start_time": "2022-05-08T23:31:59.987Z"
   },
   {
    "duration": 585,
    "start_time": "2022-05-08T23:32:17.858Z"
   },
   {
    "duration": 531,
    "start_time": "2022-05-08T23:32:44.911Z"
   },
   {
    "duration": 12,
    "start_time": "2022-05-08T23:32:48.732Z"
   },
   {
    "duration": 25,
    "start_time": "2022-05-08T23:32:50.875Z"
   },
   {
    "duration": 21,
    "start_time": "2022-05-08T23:32:53.381Z"
   },
   {
    "duration": 43,
    "start_time": "2022-05-08T23:32:55.867Z"
   },
   {
    "duration": 7,
    "start_time": "2022-05-08T23:32:58.612Z"
   },
   {
    "duration": 7,
    "start_time": "2022-05-08T23:33:01.820Z"
   },
   {
    "duration": 8,
    "start_time": "2022-05-08T23:33:03.803Z"
   },
   {
    "duration": 9,
    "start_time": "2022-05-08T23:33:08.989Z"
   },
   {
    "duration": 8,
    "start_time": "2022-05-08T23:33:11.538Z"
   },
   {
    "duration": 10,
    "start_time": "2022-05-08T23:33:14.466Z"
   },
   {
    "duration": 8,
    "start_time": "2022-05-08T23:33:16.499Z"
   },
   {
    "duration": 7,
    "start_time": "2022-05-08T23:33:17.243Z"
   },
   {
    "duration": 7,
    "start_time": "2022-05-08T23:33:18.317Z"
   },
   {
    "duration": 10,
    "start_time": "2022-05-08T23:33:19.306Z"
   },
   {
    "duration": 9,
    "start_time": "2022-05-08T23:33:20.014Z"
   },
   {
    "duration": 10,
    "start_time": "2022-05-08T23:33:20.802Z"
   },
   {
    "duration": 8,
    "start_time": "2022-05-08T23:33:23.219Z"
   },
   {
    "duration": 8,
    "start_time": "2022-05-08T23:33:24.198Z"
   },
   {
    "duration": 8,
    "start_time": "2022-05-08T23:33:27.291Z"
   },
   {
    "duration": 14,
    "start_time": "2022-05-08T23:33:28.156Z"
   },
   {
    "duration": 8,
    "start_time": "2022-05-08T23:33:28.827Z"
   },
   {
    "duration": 9,
    "start_time": "2022-05-08T23:33:31.349Z"
   },
   {
    "duration": 5,
    "start_time": "2022-05-08T23:33:34.290Z"
   },
   {
    "duration": 9,
    "start_time": "2022-05-08T23:33:35.059Z"
   },
   {
    "duration": 11,
    "start_time": "2022-05-08T23:33:37.298Z"
   },
   {
    "duration": 9511,
    "start_time": "2022-05-08T23:33:39.541Z"
   },
   {
    "duration": 22,
    "start_time": "2022-05-08T23:33:51.249Z"
   },
   {
    "duration": 7,
    "start_time": "2022-05-08T23:33:54.435Z"
   },
   {
    "duration": 7,
    "start_time": "2022-05-08T23:33:55.283Z"
   },
   {
    "duration": 12,
    "start_time": "2022-05-08T23:33:57.596Z"
   },
   {
    "duration": 7,
    "start_time": "2022-05-08T23:33:58.619Z"
   },
   {
    "duration": 8,
    "start_time": "2022-05-08T23:34:01.611Z"
   },
   {
    "duration": 8,
    "start_time": "2022-05-08T23:34:03.759Z"
   },
   {
    "duration": 10,
    "start_time": "2022-05-08T23:34:05.146Z"
   },
   {
    "duration": 15,
    "start_time": "2022-05-08T23:34:07.733Z"
   },
   {
    "duration": 7,
    "start_time": "2022-05-08T23:34:08.455Z"
   },
   {
    "duration": 8,
    "start_time": "2022-05-08T23:34:10.620Z"
   },
   {
    "duration": 28,
    "start_time": "2022-05-08T23:34:13.555Z"
   },
   {
    "duration": 31,
    "start_time": "2022-05-08T23:34:14.252Z"
   },
   {
    "duration": 26,
    "start_time": "2022-05-08T23:34:14.979Z"
   },
   {
    "duration": 22,
    "start_time": "2022-05-08T23:34:15.740Z"
   },
   {
    "duration": 5,
    "start_time": "2022-05-08T23:34:19.622Z"
   },
   {
    "duration": 5,
    "start_time": "2022-05-08T23:34:20.466Z"
   },
   {
    "duration": 14,
    "start_time": "2022-05-08T23:34:21.242Z"
   },
   {
    "duration": 19,
    "start_time": "2022-05-08T23:34:22.444Z"
   },
   {
    "duration": 40,
    "start_time": "2022-05-08T23:34:25.087Z"
   },
   {
    "duration": 22,
    "start_time": "2022-05-08T23:34:27.684Z"
   },
   {
    "duration": 21,
    "start_time": "2022-05-08T23:34:29.011Z"
   },
   {
    "duration": 21,
    "start_time": "2022-05-08T23:34:31.844Z"
   },
   {
    "duration": 21,
    "start_time": "2022-05-08T23:34:32.845Z"
   },
   {
    "duration": 21,
    "start_time": "2022-05-08T23:34:35.539Z"
   },
   {
    "duration": 21,
    "start_time": "2022-05-08T23:34:36.548Z"
   },
   {
    "duration": 5,
    "start_time": "2022-05-08T23:34:39.244Z"
   },
   {
    "duration": 38,
    "start_time": "2022-05-08T23:34:40.227Z"
   },
   {
    "duration": 58,
    "start_time": "2022-05-08T23:34:43.547Z"
   },
   {
    "duration": 43,
    "start_time": "2022-05-08T23:34:46.358Z"
   },
   {
    "duration": 6,
    "start_time": "2022-05-08T23:34:50.162Z"
   },
   {
    "duration": 22,
    "start_time": "2022-05-08T23:34:52.236Z"
   },
   {
    "duration": 19,
    "start_time": "2022-05-08T23:34:55.342Z"
   },
   {
    "duration": 19,
    "start_time": "2022-05-08T23:34:56.345Z"
   },
   {
    "duration": 4,
    "start_time": "2022-05-08T23:34:59.180Z"
   },
   {
    "duration": 36,
    "start_time": "2022-05-08T23:35:00.151Z"
   },
   {
    "duration": 41,
    "start_time": "2022-05-08T23:35:03.236Z"
   },
   {
    "duration": 42,
    "start_time": "2022-05-08T23:35:04.638Z"
   },
   {
    "duration": 22,
    "start_time": "2022-05-08T23:35:08.324Z"
   },
   {
    "duration": 21,
    "start_time": "2022-05-08T23:35:10.531Z"
   },
   {
    "duration": 8,
    "start_time": "2022-05-08T23:35:12.979Z"
   },
   {
    "duration": 8,
    "start_time": "2022-05-08T23:35:15.253Z"
   },
   {
    "duration": 5,
    "start_time": "2022-05-08T23:35:17.266Z"
   },
   {
    "duration": 22,
    "start_time": "2022-05-08T23:35:21.285Z"
   },
   {
    "duration": 109,
    "start_time": "2022-05-09T00:00:03.191Z"
   },
   {
    "duration": 34,
    "start_time": "2022-05-09T00:00:17.543Z"
   },
   {
    "duration": 414,
    "start_time": "2022-05-09T00:00:29.096Z"
   },
   {
    "duration": 464,
    "start_time": "2022-05-09T00:00:34.218Z"
   },
   {
    "duration": 599,
    "start_time": "2022-05-09T00:00:52.872Z"
   },
   {
    "duration": 13,
    "start_time": "2022-05-09T00:00:53.473Z"
   },
   {
    "duration": 31,
    "start_time": "2022-05-09T00:00:53.488Z"
   },
   {
    "duration": 21,
    "start_time": "2022-05-09T00:00:53.522Z"
   },
   {
    "duration": 61,
    "start_time": "2022-05-09T00:00:53.546Z"
   },
   {
    "duration": 8,
    "start_time": "2022-05-09T00:00:53.609Z"
   },
   {
    "duration": 8,
    "start_time": "2022-05-09T00:00:53.619Z"
   },
   {
    "duration": 9,
    "start_time": "2022-05-09T00:00:53.629Z"
   },
   {
    "duration": 45,
    "start_time": "2022-05-09T00:00:53.641Z"
   },
   {
    "duration": 7,
    "start_time": "2022-05-09T00:00:53.692Z"
   },
   {
    "duration": 9,
    "start_time": "2022-05-09T00:00:53.702Z"
   },
   {
    "duration": 8,
    "start_time": "2022-05-09T00:00:53.714Z"
   },
   {
    "duration": 7,
    "start_time": "2022-05-09T00:00:53.724Z"
   },
   {
    "duration": 8,
    "start_time": "2022-05-09T00:00:53.733Z"
   },
   {
    "duration": 10,
    "start_time": "2022-05-09T00:00:53.782Z"
   },
   {
    "duration": 10,
    "start_time": "2022-05-09T00:00:53.794Z"
   },
   {
    "duration": 10,
    "start_time": "2022-05-09T00:00:53.806Z"
   },
   {
    "duration": 9,
    "start_time": "2022-05-09T00:00:53.819Z"
   },
   {
    "duration": 10,
    "start_time": "2022-05-09T00:00:53.830Z"
   },
   {
    "duration": 49,
    "start_time": "2022-05-09T00:00:53.842Z"
   },
   {
    "duration": 13,
    "start_time": "2022-05-09T00:00:53.894Z"
   },
   {
    "duration": 8,
    "start_time": "2022-05-09T00:00:53.909Z"
   },
   {
    "duration": 8,
    "start_time": "2022-05-09T00:00:53.919Z"
   },
   {
    "duration": 5,
    "start_time": "2022-05-09T00:00:53.929Z"
   },
   {
    "duration": 51,
    "start_time": "2022-05-09T00:00:53.936Z"
   },
   {
    "duration": 11,
    "start_time": "2022-05-09T00:00:53.989Z"
   },
   {
    "duration": 9969,
    "start_time": "2022-05-09T00:00:54.002Z"
   },
   {
    "duration": 23,
    "start_time": "2022-05-09T00:01:03.982Z"
   },
   {
    "duration": 6,
    "start_time": "2022-05-09T00:01:04.007Z"
   },
   {
    "duration": 7,
    "start_time": "2022-05-09T00:01:04.015Z"
   },
   {
    "duration": 15,
    "start_time": "2022-05-09T00:01:04.024Z"
   },
   {
    "duration": 42,
    "start_time": "2022-05-09T00:01:04.041Z"
   },
   {
    "duration": 7,
    "start_time": "2022-05-09T00:01:04.085Z"
   },
   {
    "duration": 9,
    "start_time": "2022-05-09T00:01:04.094Z"
   },
   {
    "duration": 10,
    "start_time": "2022-05-09T00:01:04.105Z"
   },
   {
    "duration": 15,
    "start_time": "2022-05-09T00:01:04.117Z"
   },
   {
    "duration": 51,
    "start_time": "2022-05-09T00:01:04.134Z"
   },
   {
    "duration": 10,
    "start_time": "2022-05-09T00:01:04.187Z"
   },
   {
    "duration": 28,
    "start_time": "2022-05-09T00:01:04.199Z"
   },
   {
    "duration": 64,
    "start_time": "2022-05-09T00:01:04.230Z"
   },
   {
    "duration": 27,
    "start_time": "2022-05-09T00:01:04.296Z"
   },
   {
    "duration": 21,
    "start_time": "2022-05-09T00:01:04.325Z"
   },
   {
    "duration": 3,
    "start_time": "2022-05-09T00:01:04.348Z"
   },
   {
    "duration": 31,
    "start_time": "2022-05-09T00:01:04.353Z"
   },
   {
    "duration": 8,
    "start_time": "2022-05-09T00:01:04.386Z"
   },
   {
    "duration": 17,
    "start_time": "2022-05-09T00:01:04.396Z"
   },
   {
    "duration": 20,
    "start_time": "2022-05-09T00:01:04.415Z"
   },
   {
    "duration": 79,
    "start_time": "2022-05-09T00:01:04.438Z"
   },
   {
    "duration": 21,
    "start_time": "2022-05-09T00:01:04.519Z"
   },
   {
    "duration": 51,
    "start_time": "2022-05-09T00:01:04.543Z"
   },
   {
    "duration": 19,
    "start_time": "2022-05-09T00:01:04.596Z"
   },
   {
    "duration": 18,
    "start_time": "2022-05-09T00:01:04.617Z"
   },
   {
    "duration": 46,
    "start_time": "2022-05-09T00:01:04.637Z"
   },
   {
    "duration": 20,
    "start_time": "2022-05-09T00:01:04.685Z"
   },
   {
    "duration": 5,
    "start_time": "2022-05-09T00:01:04.707Z"
   },
   {
    "duration": 69,
    "start_time": "2022-05-09T00:01:04.714Z"
   },
   {
    "duration": 58,
    "start_time": "2022-05-09T00:01:04.786Z"
   },
   {
    "duration": 61,
    "start_time": "2022-05-09T00:01:04.846Z"
   },
   {
    "duration": 10,
    "start_time": "2022-05-09T00:01:04.909Z"
   },
   {
    "duration": 23,
    "start_time": "2022-05-09T00:01:04.921Z"
   },
   {
    "duration": 47,
    "start_time": "2022-05-09T00:01:04.947Z"
   },
   {
    "duration": 20,
    "start_time": "2022-05-09T00:01:04.997Z"
   },
   {
    "duration": 5,
    "start_time": "2022-05-09T00:01:05.019Z"
   },
   {
    "duration": 72,
    "start_time": "2022-05-09T00:01:05.026Z"
   },
   {
    "duration": 41,
    "start_time": "2022-05-09T00:01:05.101Z"
   },
   {
    "duration": 65,
    "start_time": "2022-05-09T00:01:05.144Z"
   },
   {
    "duration": 25,
    "start_time": "2022-05-09T00:01:05.211Z"
   },
   {
    "duration": 22,
    "start_time": "2022-05-09T00:01:05.238Z"
   },
   {
    "duration": 9,
    "start_time": "2022-05-09T00:01:05.281Z"
   },
   {
    "duration": 10,
    "start_time": "2022-05-09T00:01:05.292Z"
   },
   {
    "duration": 6,
    "start_time": "2022-05-09T00:01:05.304Z"
   },
   {
    "duration": 2585,
    "start_time": "2022-05-09T00:01:05.312Z"
   },
   {
    "duration": 1,
    "start_time": "2022-05-09T00:01:07.899Z"
   },
   {
    "duration": 0,
    "start_time": "2022-05-09T00:01:07.901Z"
   },
   {
    "duration": 0,
    "start_time": "2022-05-09T00:01:07.903Z"
   },
   {
    "duration": 0,
    "start_time": "2022-05-09T00:01:07.905Z"
   },
   {
    "duration": 0,
    "start_time": "2022-05-09T00:01:07.906Z"
   },
   {
    "duration": 0,
    "start_time": "2022-05-09T00:01:07.908Z"
   },
   {
    "duration": 0,
    "start_time": "2022-05-09T00:01:07.909Z"
   },
   {
    "duration": 0,
    "start_time": "2022-05-09T00:01:07.911Z"
   },
   {
    "duration": 0,
    "start_time": "2022-05-09T00:01:07.912Z"
   },
   {
    "duration": 0,
    "start_time": "2022-05-09T00:01:07.914Z"
   },
   {
    "duration": 0,
    "start_time": "2022-05-09T00:01:07.916Z"
   },
   {
    "duration": 0,
    "start_time": "2022-05-09T00:01:07.917Z"
   },
   {
    "duration": 0,
    "start_time": "2022-05-09T00:01:07.919Z"
   },
   {
    "duration": 0,
    "start_time": "2022-05-09T00:01:07.921Z"
   },
   {
    "duration": 0,
    "start_time": "2022-05-09T00:01:07.922Z"
   },
   {
    "duration": 0,
    "start_time": "2022-05-09T00:01:07.924Z"
   },
   {
    "duration": 424,
    "start_time": "2022-05-09T00:01:29.074Z"
   },
   {
    "duration": 687,
    "start_time": "2022-05-09T00:01:41.530Z"
   },
   {
    "duration": 15,
    "start_time": "2022-05-09T00:01:42.220Z"
   },
   {
    "duration": 29,
    "start_time": "2022-05-09T00:01:42.237Z"
   },
   {
    "duration": 24,
    "start_time": "2022-05-09T00:01:42.283Z"
   },
   {
    "duration": 41,
    "start_time": "2022-05-09T00:01:42.310Z"
   },
   {
    "duration": 33,
    "start_time": "2022-05-09T00:01:42.353Z"
   },
   {
    "duration": 9,
    "start_time": "2022-05-09T00:01:42.389Z"
   },
   {
    "duration": 12,
    "start_time": "2022-05-09T00:01:42.400Z"
   },
   {
    "duration": 22,
    "start_time": "2022-05-09T00:01:42.414Z"
   },
   {
    "duration": 8,
    "start_time": "2022-05-09T00:01:42.442Z"
   },
   {
    "duration": 11,
    "start_time": "2022-05-09T00:01:42.482Z"
   },
   {
    "duration": 10,
    "start_time": "2022-05-09T00:01:42.496Z"
   },
   {
    "duration": 20,
    "start_time": "2022-05-09T00:01:42.509Z"
   },
   {
    "duration": 10,
    "start_time": "2022-05-09T00:01:42.532Z"
   },
   {
    "duration": 11,
    "start_time": "2022-05-09T00:01:42.583Z"
   },
   {
    "duration": 10,
    "start_time": "2022-05-09T00:01:42.597Z"
   },
   {
    "duration": 16,
    "start_time": "2022-05-09T00:01:42.610Z"
   },
   {
    "duration": 13,
    "start_time": "2022-05-09T00:01:42.628Z"
   },
   {
    "duration": 42,
    "start_time": "2022-05-09T00:01:42.643Z"
   },
   {
    "duration": 14,
    "start_time": "2022-05-09T00:01:42.688Z"
   },
   {
    "duration": 14,
    "start_time": "2022-05-09T00:01:42.704Z"
   },
   {
    "duration": 11,
    "start_time": "2022-05-09T00:01:42.720Z"
   },
   {
    "duration": 10,
    "start_time": "2022-05-09T00:01:42.733Z"
   },
   {
    "duration": 36,
    "start_time": "2022-05-09T00:01:42.746Z"
   },
   {
    "duration": 7,
    "start_time": "2022-05-09T00:01:42.784Z"
   },
   {
    "duration": 11,
    "start_time": "2022-05-09T00:01:42.793Z"
   },
   {
    "duration": 9784,
    "start_time": "2022-05-09T00:01:42.806Z"
   },
   {
    "duration": 22,
    "start_time": "2022-05-09T00:01:52.597Z"
   },
   {
    "duration": 9,
    "start_time": "2022-05-09T00:01:52.621Z"
   },
   {
    "duration": 14,
    "start_time": "2022-05-09T00:01:52.632Z"
   },
   {
    "duration": 41,
    "start_time": "2022-05-09T00:01:52.648Z"
   },
   {
    "duration": 6,
    "start_time": "2022-05-09T00:01:52.691Z"
   },
   {
    "duration": 13,
    "start_time": "2022-05-09T00:01:52.699Z"
   },
   {
    "duration": 7,
    "start_time": "2022-05-09T00:01:52.714Z"
   },
   {
    "duration": 12,
    "start_time": "2022-05-09T00:01:52.723Z"
   },
   {
    "duration": 48,
    "start_time": "2022-05-09T00:01:52.737Z"
   },
   {
    "duration": 9,
    "start_time": "2022-05-09T00:01:52.787Z"
   },
   {
    "duration": 9,
    "start_time": "2022-05-09T00:01:52.798Z"
   },
   {
    "duration": 31,
    "start_time": "2022-05-09T00:01:52.809Z"
   },
   {
    "duration": 60,
    "start_time": "2022-05-09T00:01:52.842Z"
   },
   {
    "duration": 27,
    "start_time": "2022-05-09T00:01:52.904Z"
   },
   {
    "duration": 19,
    "start_time": "2022-05-09T00:01:52.933Z"
   },
   {
    "duration": 28,
    "start_time": "2022-05-09T00:01:52.954Z"
   },
   {
    "duration": 7,
    "start_time": "2022-05-09T00:01:52.984Z"
   },
   {
    "duration": 7,
    "start_time": "2022-05-09T00:01:52.993Z"
   },
   {
    "duration": 15,
    "start_time": "2022-05-09T00:01:53.002Z"
   },
   {
    "duration": 21,
    "start_time": "2022-05-09T00:01:53.019Z"
   },
   {
    "duration": 74,
    "start_time": "2022-05-09T00:01:53.042Z"
   },
   {
    "duration": 22,
    "start_time": "2022-05-09T00:01:53.119Z"
   },
   {
    "duration": 48,
    "start_time": "2022-05-09T00:01:53.144Z"
   },
   {
    "duration": 22,
    "start_time": "2022-05-09T00:01:53.195Z"
   },
   {
    "duration": 22,
    "start_time": "2022-05-09T00:01:53.219Z"
   },
   {
    "duration": 55,
    "start_time": "2022-05-09T00:01:53.243Z"
   },
   {
    "duration": 19,
    "start_time": "2022-05-09T00:01:53.300Z"
   },
   {
    "duration": 4,
    "start_time": "2022-05-09T00:01:53.321Z"
   },
   {
    "duration": 67,
    "start_time": "2022-05-09T00:01:53.327Z"
   },
   {
    "duration": 56,
    "start_time": "2022-05-09T00:01:53.396Z"
   },
   {
    "duration": 64,
    "start_time": "2022-05-09T00:01:53.454Z"
   },
   {
    "duration": 9,
    "start_time": "2022-05-09T00:01:53.520Z"
   },
   {
    "duration": 24,
    "start_time": "2022-05-09T00:01:53.530Z"
   },
   {
    "duration": 42,
    "start_time": "2022-05-09T00:01:53.556Z"
   },
   {
    "duration": 18,
    "start_time": "2022-05-09T00:01:53.600Z"
   },
   {
    "duration": 4,
    "start_time": "2022-05-09T00:01:53.621Z"
   },
   {
    "duration": 68,
    "start_time": "2022-05-09T00:01:53.627Z"
   },
   {
    "duration": 41,
    "start_time": "2022-05-09T00:01:53.697Z"
   },
   {
    "duration": 63,
    "start_time": "2022-05-09T00:01:53.740Z"
   },
   {
    "duration": 22,
    "start_time": "2022-05-09T00:01:53.805Z"
   },
   {
    "duration": 19,
    "start_time": "2022-05-09T00:01:53.829Z"
   },
   {
    "duration": 8,
    "start_time": "2022-05-09T00:01:53.881Z"
   },
   {
    "duration": 8,
    "start_time": "2022-05-09T00:01:53.891Z"
   },
   {
    "duration": 5,
    "start_time": "2022-05-09T00:01:53.901Z"
   },
   {
    "duration": 22,
    "start_time": "2022-05-09T00:01:53.908Z"
   },
   {
    "duration": 8,
    "start_time": "2022-05-09T00:01:53.932Z"
   },
   {
    "duration": 48,
    "start_time": "2022-05-09T00:01:53.941Z"
   },
   {
    "duration": 8,
    "start_time": "2022-05-09T00:01:53.991Z"
   },
   {
    "duration": 12,
    "start_time": "2022-05-09T00:01:54.001Z"
   },
   {
    "duration": 10,
    "start_time": "2022-05-09T00:01:54.016Z"
   },
   {
    "duration": 8,
    "start_time": "2022-05-09T00:01:54.028Z"
   },
   {
    "duration": 45,
    "start_time": "2022-05-09T00:01:54.038Z"
   },
   {
    "duration": 9,
    "start_time": "2022-05-09T00:01:54.085Z"
   },
   {
    "duration": 14,
    "start_time": "2022-05-09T00:01:54.096Z"
   },
   {
    "duration": 20,
    "start_time": "2022-05-09T00:01:54.118Z"
   },
   {
    "duration": 46,
    "start_time": "2022-05-09T00:01:54.140Z"
   },
   {
    "duration": 11,
    "start_time": "2022-05-09T00:01:54.188Z"
   },
   {
    "duration": 49,
    "start_time": "2022-05-09T00:01:54.202Z"
   },
   {
    "duration": 64,
    "start_time": "2022-05-09T00:01:54.253Z"
   },
   {
    "duration": 41,
    "start_time": "2022-05-09T00:01:54.319Z"
   },
   {
    "duration": 42,
    "start_time": "2022-05-09T00:01:54.381Z"
   },
   {
    "duration": 20,
    "start_time": "2022-05-09T00:35:40.700Z"
   },
   {
    "duration": 1761,
    "start_time": "2022-05-09T00:36:18.877Z"
   },
   {
    "duration": 11,
    "start_time": "2022-05-09T00:36:39.961Z"
   },
   {
    "duration": 21,
    "start_time": "2022-05-09T00:36:51.503Z"
   },
   {
    "duration": 8,
    "start_time": "2022-05-09T00:37:15.288Z"
   },
   {
    "duration": 8,
    "start_time": "2022-05-09T00:37:19.306Z"
   },
   {
    "duration": 8,
    "start_time": "2022-05-09T00:37:27.170Z"
   },
   {
    "duration": 10,
    "start_time": "2022-05-09T00:37:33.874Z"
   },
   {
    "duration": 9,
    "start_time": "2022-05-09T00:37:38.266Z"
   },
   {
    "duration": 8,
    "start_time": "2022-05-09T00:37:43.595Z"
   },
   {
    "duration": 8,
    "start_time": "2022-05-09T00:37:47.560Z"
   },
   {
    "duration": 8,
    "start_time": "2022-05-09T00:37:55.245Z"
   },
   {
    "duration": 5,
    "start_time": "2022-05-09T00:38:00.908Z"
   },
   {
    "duration": 5,
    "start_time": "2022-05-09T00:38:01.545Z"
   },
   {
    "duration": 11,
    "start_time": "2022-05-09T00:38:09.528Z"
   },
   {
    "duration": 17,
    "start_time": "2022-05-09T00:38:17.058Z"
   },
   {
    "duration": 10,
    "start_time": "2022-05-09T00:38:20.760Z"
   },
   {
    "duration": 9,
    "start_time": "2022-05-09T00:38:25.752Z"
   },
   {
    "duration": 66,
    "start_time": "2022-05-09T00:49:39.706Z"
   },
   {
    "duration": 1600,
    "start_time": "2022-05-09T00:54:52.558Z"
   },
   {
    "duration": 30,
    "start_time": "2022-05-09T00:55:34.276Z"
   },
   {
    "duration": 30,
    "start_time": "2022-05-09T00:59:15.900Z"
   },
   {
    "duration": 6,
    "start_time": "2022-05-09T01:01:19.478Z"
   },
   {
    "duration": 20,
    "start_time": "2022-05-09T01:01:22.124Z"
   },
   {
    "duration": 42,
    "start_time": "2022-05-09T01:01:33.966Z"
   },
   {
    "duration": 61,
    "start_time": "2022-05-09T01:09:15.606Z"
   },
   {
    "duration": 30,
    "start_time": "2022-05-09T01:10:46.774Z"
   },
   {
    "duration": 19,
    "start_time": "2022-05-09T01:25:30.481Z"
   },
   {
    "duration": 27,
    "start_time": "2022-05-09T01:25:41.529Z"
   },
   {
    "duration": 5,
    "start_time": "2022-05-09T01:41:22.739Z"
   },
   {
    "duration": 13,
    "start_time": "2022-05-09T01:41:32.430Z"
   },
   {
    "duration": 13,
    "start_time": "2022-05-09T01:41:53.962Z"
   },
   {
    "duration": 64,
    "start_time": "2022-05-09T01:46:27.789Z"
   },
   {
    "duration": 29,
    "start_time": "2022-05-09T01:46:42.853Z"
   },
   {
    "duration": 14,
    "start_time": "2022-05-09T01:46:52.099Z"
   },
   {
    "duration": 13,
    "start_time": "2022-05-09T01:47:40.109Z"
   },
   {
    "duration": 14,
    "start_time": "2022-05-09T01:51:23.318Z"
   },
   {
    "duration": 15,
    "start_time": "2022-05-09T01:53:12.723Z"
   },
   {
    "duration": 26,
    "start_time": "2022-05-09T03:26:45.600Z"
   },
   {
    "duration": 14,
    "start_time": "2022-05-09T03:26:46.918Z"
   },
   {
    "duration": 12,
    "start_time": "2022-05-09T15:40:57.986Z"
   },
   {
    "duration": 11,
    "start_time": "2022-05-09T15:41:03.480Z"
   },
   {
    "duration": 550,
    "start_time": "2022-05-09T15:45:42.144Z"
   },
   {
    "duration": 6,
    "start_time": "2022-05-09T15:45:46.073Z"
   },
   {
    "duration": 27,
    "start_time": "2022-05-09T15:45:46.842Z"
   },
   {
    "duration": 33,
    "start_time": "2022-05-09T15:45:49.033Z"
   },
   {
    "duration": 55,
    "start_time": "2022-05-09T15:45:51.370Z"
   },
   {
    "duration": 8,
    "start_time": "2022-05-09T15:45:54.652Z"
   },
   {
    "duration": 7,
    "start_time": "2022-05-09T15:45:59.056Z"
   },
   {
    "duration": 8,
    "start_time": "2022-05-09T15:46:01.346Z"
   },
   {
    "duration": 10,
    "start_time": "2022-05-09T15:46:03.712Z"
   },
   {
    "duration": 7,
    "start_time": "2022-05-09T15:46:06.607Z"
   },
   {
    "duration": 10,
    "start_time": "2022-05-09T15:46:07.289Z"
   },
   {
    "duration": 6,
    "start_time": "2022-05-09T15:46:09.625Z"
   },
   {
    "duration": 9,
    "start_time": "2022-05-09T15:46:10.247Z"
   },
   {
    "duration": 8,
    "start_time": "2022-05-09T15:46:10.847Z"
   },
   {
    "duration": 10,
    "start_time": "2022-05-09T15:46:11.440Z"
   },
   {
    "duration": 9,
    "start_time": "2022-05-09T15:46:13.865Z"
   },
   {
    "duration": 10,
    "start_time": "2022-05-09T15:46:14.075Z"
   },
   {
    "duration": 8,
    "start_time": "2022-05-09T15:46:15.879Z"
   },
   {
    "duration": 9,
    "start_time": "2022-05-09T15:46:17.906Z"
   },
   {
    "duration": 7,
    "start_time": "2022-05-09T15:46:21.169Z"
   },
   {
    "duration": 12,
    "start_time": "2022-05-09T15:46:21.912Z"
   },
   {
    "duration": 8,
    "start_time": "2022-05-09T15:46:22.511Z"
   },
   {
    "duration": 8,
    "start_time": "2022-05-09T15:46:24.679Z"
   },
   {
    "duration": 5,
    "start_time": "2022-05-09T15:46:28.411Z"
   },
   {
    "duration": 8,
    "start_time": "2022-05-09T15:46:29.056Z"
   },
   {
    "duration": 10,
    "start_time": "2022-05-09T15:46:31.257Z"
   },
   {
    "duration": 10785,
    "start_time": "2022-05-09T15:46:33.336Z"
   },
   {
    "duration": 29,
    "start_time": "2022-05-09T15:46:44.125Z"
   },
   {
    "duration": 6,
    "start_time": "2022-05-09T15:46:47.770Z"
   },
   {
    "duration": 16,
    "start_time": "2022-05-09T15:46:48.552Z"
   },
   {
    "duration": 13,
    "start_time": "2022-05-09T15:46:51.521Z"
   },
   {
    "duration": 7,
    "start_time": "2022-05-09T15:46:52.106Z"
   },
   {
    "duration": 8,
    "start_time": "2022-05-09T15:46:54.586Z"
   },
   {
    "duration": 7,
    "start_time": "2022-05-09T15:46:56.937Z"
   },
   {
    "duration": 9,
    "start_time": "2022-05-09T15:46:57.516Z"
   },
   {
    "duration": 17,
    "start_time": "2022-05-09T15:46:59.623Z"
   },
   {
    "duration": 6,
    "start_time": "2022-05-09T15:47:00.170Z"
   },
   {
    "duration": 7,
    "start_time": "2022-05-09T15:47:02.441Z"
   },
   {
    "duration": 28,
    "start_time": "2022-05-09T15:47:06.603Z"
   },
   {
    "duration": 34,
    "start_time": "2022-05-09T15:47:07.224Z"
   },
   {
    "duration": 27,
    "start_time": "2022-05-09T15:47:07.859Z"
   },
   {
    "duration": 20,
    "start_time": "2022-05-09T15:47:09.710Z"
   },
   {
    "duration": 6,
    "start_time": "2022-05-09T15:47:13.842Z"
   },
   {
    "duration": 6,
    "start_time": "2022-05-09T15:47:14.617Z"
   },
   {
    "duration": 19,
    "start_time": "2022-05-09T15:47:17.075Z"
   },
   {
    "duration": 19,
    "start_time": "2022-05-09T15:47:19.210Z"
   },
   {
    "duration": 39,
    "start_time": "2022-05-09T15:47:27.611Z"
   },
   {
    "duration": 18,
    "start_time": "2022-05-09T15:47:49.649Z"
   },
   {
    "duration": 27,
    "start_time": "2022-05-09T15:47:52.199Z"
   },
   {
    "duration": 25,
    "start_time": "2022-05-09T15:47:55.384Z"
   },
   {
    "duration": 27,
    "start_time": "2022-05-09T15:47:57.402Z"
   },
   {
    "duration": 38,
    "start_time": "2022-05-09T15:48:00.985Z"
   },
   {
    "duration": 26,
    "start_time": "2022-05-09T15:48:10.665Z"
   },
   {
    "duration": 4,
    "start_time": "2022-05-09T15:49:45.235Z"
   },
   {
    "duration": 36,
    "start_time": "2022-05-09T15:49:47.547Z"
   },
   {
    "duration": 57,
    "start_time": "2022-05-09T15:53:56.293Z"
   },
   {
    "duration": 47,
    "start_time": "2022-05-09T15:53:58.915Z"
   },
   {
    "duration": 6,
    "start_time": "2022-05-09T15:54:07.185Z"
   },
   {
    "duration": 39,
    "start_time": "2022-05-09T16:15:06.567Z"
   },
   {
    "duration": 23,
    "start_time": "2022-05-09T16:15:10.787Z"
   },
   {
    "duration": 5,
    "start_time": "2022-05-09T16:15:58.030Z"
   },
   {
    "duration": 38,
    "start_time": "2022-05-09T16:16:00.527Z"
   },
   {
    "duration": 48,
    "start_time": "2022-05-09T16:16:42.051Z"
   },
   {
    "duration": 48,
    "start_time": "2022-05-09T16:16:44.255Z"
   },
   {
    "duration": 23,
    "start_time": "2022-05-09T16:16:49.838Z"
   },
   {
    "duration": 20,
    "start_time": "2022-05-09T16:25:18.950Z"
   },
   {
    "duration": 4,
    "start_time": "2022-05-09T16:39:12.477Z"
   },
   {
    "duration": 5,
    "start_time": "2022-05-09T16:39:13.117Z"
   },
   {
    "duration": 10,
    "start_time": "2022-05-09T16:39:14.182Z"
   },
   {
    "duration": 18,
    "start_time": "2022-05-09T16:39:14.783Z"
   },
   {
    "duration": 9,
    "start_time": "2022-05-09T16:39:15.334Z"
   },
   {
    "duration": 10,
    "start_time": "2022-05-09T16:39:18.557Z"
   },
   {
    "duration": 192,
    "start_time": "2022-05-12T15:11:41.651Z"
   },
   {
    "duration": 542,
    "start_time": "2022-05-12T21:05:28.482Z"
   },
   {
    "duration": 57,
    "start_time": "2022-05-12T21:05:29.138Z"
   },
   {
    "duration": 13,
    "start_time": "2022-05-12T21:05:32.048Z"
   },
   {
    "duration": 26,
    "start_time": "2022-05-12T21:05:32.956Z"
   },
   {
    "duration": 23,
    "start_time": "2022-05-12T21:05:35.704Z"
   },
   {
    "duration": 44,
    "start_time": "2022-05-12T21:05:37.847Z"
   },
   {
    "duration": 8,
    "start_time": "2022-05-12T21:05:40.889Z"
   },
   {
    "duration": 8,
    "start_time": "2022-05-12T21:05:45.433Z"
   },
   {
    "duration": 10,
    "start_time": "2022-05-12T21:05:47.973Z"
   },
   {
    "duration": 7,
    "start_time": "2022-05-12T21:05:50.848Z"
   },
   {
    "duration": 10,
    "start_time": "2022-05-12T21:05:51.657Z"
   },
   {
    "duration": 8,
    "start_time": "2022-05-12T21:05:54.375Z"
   },
   {
    "duration": 8,
    "start_time": "2022-05-12T21:05:55.128Z"
   },
   {
    "duration": 8,
    "start_time": "2022-05-12T21:05:55.767Z"
   },
   {
    "duration": 9,
    "start_time": "2022-05-12T21:05:56.391Z"
   },
   {
    "duration": 8,
    "start_time": "2022-05-12T21:05:58.142Z"
   },
   {
    "duration": 10,
    "start_time": "2022-05-12T21:05:58.772Z"
   },
   {
    "duration": 8,
    "start_time": "2022-05-12T21:05:59.345Z"
   },
   {
    "duration": 8,
    "start_time": "2022-05-12T21:06:01.042Z"
   },
   {
    "duration": 8,
    "start_time": "2022-05-12T21:06:03.909Z"
   },
   {
    "duration": 14,
    "start_time": "2022-05-12T21:06:04.554Z"
   },
   {
    "duration": 8,
    "start_time": "2022-05-12T21:06:05.156Z"
   },
   {
    "duration": 8,
    "start_time": "2022-05-12T21:06:07.487Z"
   },
   {
    "duration": 5,
    "start_time": "2022-05-12T21:06:09.748Z"
   },
   {
    "duration": 9,
    "start_time": "2022-05-12T21:06:10.410Z"
   },
   {
    "duration": 10,
    "start_time": "2022-05-12T21:06:12.635Z"
   },
   {
    "duration": 21,
    "start_time": "2022-05-12T21:10:36.765Z"
   },
   {
    "duration": 11,
    "start_time": "2022-05-12T21:11:05.570Z"
   },
   {
    "duration": 8,
    "start_time": "2022-05-12T21:11:18.788Z"
   },
   {
    "duration": 9,
    "start_time": "2022-05-12T21:12:09.406Z"
   },
   {
    "duration": 5,
    "start_time": "2022-05-12T21:12:23.643Z"
   },
   {
    "duration": 6,
    "start_time": "2022-05-12T21:12:41.303Z"
   },
   {
    "duration": 23,
    "start_time": "2022-05-12T21:12:43.475Z"
   },
   {
    "duration": 101,
    "start_time": "2022-05-12T21:15:54.702Z"
   },
   {
    "duration": 101,
    "start_time": "2022-05-12T21:15:58.668Z"
   },
   {
    "duration": 148,
    "start_time": "2022-05-12T21:16:16.521Z"
   },
   {
    "duration": 6,
    "start_time": "2022-05-12T21:36:40.270Z"
   },
   {
    "duration": 9,
    "start_time": "2022-05-12T21:49:03.824Z"
   },
   {
    "duration": 1704,
    "start_time": "2022-05-12T21:51:13.918Z"
   },
   {
    "duration": 21,
    "start_time": "2022-05-12T21:51:23.323Z"
   },
   {
    "duration": 16,
    "start_time": "2022-05-12T21:52:01.438Z"
   },
   {
    "duration": 6,
    "start_time": "2022-05-13T01:41:58.118Z"
   },
   {
    "duration": 23,
    "start_time": "2022-05-13T01:42:00.778Z"
   },
   {
    "duration": 7,
    "start_time": "2022-05-13T01:42:03.968Z"
   },
   {
    "duration": 6,
    "start_time": "2022-05-13T01:42:06.127Z"
   },
   {
    "duration": 12,
    "start_time": "2022-05-13T01:42:07.860Z"
   },
   {
    "duration": 6,
    "start_time": "2022-05-13T01:42:09.628Z"
   },
   {
    "duration": 7,
    "start_time": "2022-05-13T01:42:12.442Z"
   },
   {
    "duration": 8,
    "start_time": "2022-05-13T01:42:14.546Z"
   },
   {
    "duration": 9,
    "start_time": "2022-05-13T01:42:16.766Z"
   },
   {
    "duration": 14,
    "start_time": "2022-05-13T01:42:18.925Z"
   },
   {
    "duration": 7,
    "start_time": "2022-05-13T01:42:21.380Z"
   },
   {
    "duration": 7,
    "start_time": "2022-05-13T01:42:24.102Z"
   },
   {
    "duration": 28,
    "start_time": "2022-05-13T01:42:30.660Z"
   },
   {
    "duration": 32,
    "start_time": "2022-05-13T01:42:32.663Z"
   },
   {
    "duration": 28,
    "start_time": "2022-05-13T01:42:34.555Z"
   },
   {
    "duration": 20,
    "start_time": "2022-05-13T01:43:00.832Z"
   },
   {
    "duration": 16,
    "start_time": "2022-05-13T01:43:20.132Z"
   },
   {
    "duration": 15,
    "start_time": "2022-05-13T01:43:22.792Z"
   },
   {
    "duration": 6,
    "start_time": "2022-05-13T01:43:32.393Z"
   },
   {
    "duration": 5,
    "start_time": "2022-05-13T01:43:34.285Z"
   },
   {
    "duration": 16,
    "start_time": "2022-05-13T01:43:36.739Z"
   },
   {
    "duration": 20,
    "start_time": "2022-05-13T01:43:37.285Z"
   },
   {
    "duration": 41,
    "start_time": "2022-05-13T01:43:41.930Z"
   },
   {
    "duration": 22,
    "start_time": "2022-05-13T01:43:45.007Z"
   },
   {
    "duration": 22,
    "start_time": "2022-05-13T01:43:47.260Z"
   },
   {
    "duration": 20,
    "start_time": "2022-05-13T01:43:49.503Z"
   },
   {
    "duration": 20,
    "start_time": "2022-05-13T01:43:51.912Z"
   },
   {
    "duration": 20,
    "start_time": "2022-05-13T01:43:52.748Z"
   },
   {
    "duration": 21,
    "start_time": "2022-05-13T01:43:55.062Z"
   },
   {
    "duration": 4,
    "start_time": "2022-05-13T01:43:58.274Z"
   },
   {
    "duration": 37,
    "start_time": "2022-05-13T01:44:00.838Z"
   },
   {
    "duration": 59,
    "start_time": "2022-05-13T01:44:04.701Z"
   },
   {
    "duration": 44,
    "start_time": "2022-05-13T01:44:06.749Z"
   },
   {
    "duration": 7,
    "start_time": "2022-05-13T01:44:10.073Z"
   },
   {
    "duration": 24,
    "start_time": "2022-05-13T01:44:12.002Z"
   },
   {
    "duration": 22,
    "start_time": "2022-05-13T01:44:19.538Z"
   },
   {
    "duration": 22,
    "start_time": "2022-05-13T01:44:22.158Z"
   },
   {
    "duration": 5,
    "start_time": "2022-05-13T01:44:24.596Z"
   },
   {
    "duration": 38,
    "start_time": "2022-05-13T01:44:25.437Z"
   },
   {
    "duration": 49,
    "start_time": "2022-05-13T01:44:28.853Z"
   },
   {
    "duration": 46,
    "start_time": "2022-05-13T01:44:30.931Z"
   },
   {
    "duration": 23,
    "start_time": "2022-05-13T01:44:33.520Z"
   },
   {
    "duration": 21,
    "start_time": "2022-05-13T01:44:36.642Z"
   },
   {
    "duration": 7,
    "start_time": "2022-05-13T01:44:42.788Z"
   },
   {
    "duration": 7,
    "start_time": "2022-05-13T01:44:46.556Z"
   },
   {
    "duration": 5,
    "start_time": "2022-05-13T01:44:48.894Z"
   },
   {
    "duration": 19,
    "start_time": "2022-05-13T01:44:51.643Z"
   },
   {
    "duration": 7,
    "start_time": "2022-05-13T01:44:55.878Z"
   },
   {
    "duration": 10,
    "start_time": "2022-05-13T01:44:59.167Z"
   },
   {
    "duration": 8,
    "start_time": "2022-05-13T01:45:01.388Z"
   },
   {
    "duration": 8,
    "start_time": "2022-05-13T01:45:01.972Z"
   },
   {
    "duration": 7,
    "start_time": "2022-05-13T01:45:02.451Z"
   },
   {
    "duration": 8,
    "start_time": "2022-05-13T01:45:02.974Z"
   },
   {
    "duration": 5,
    "start_time": "2022-05-13T01:45:05.550Z"
   },
   {
    "duration": 5,
    "start_time": "2022-05-13T01:45:06.029Z"
   },
   {
    "duration": 12,
    "start_time": "2022-05-13T01:45:11.750Z"
   },
   {
    "duration": 17,
    "start_time": "2022-05-13T01:45:12.106Z"
   },
   {
    "duration": 9,
    "start_time": "2022-05-13T01:45:12.485Z"
   },
   {
    "duration": 10,
    "start_time": "2022-05-13T01:45:13.175Z"
   },
   {
    "duration": 35,
    "start_time": "2022-05-13T01:45:16.180Z"
   },
   {
    "duration": 13,
    "start_time": "2022-05-13T01:45:17.501Z"
   },
   {
    "duration": 27,
    "start_time": "2022-05-13T01:45:20.307Z"
   },
   {
    "duration": 14,
    "start_time": "2022-05-13T01:45:22.180Z"
   },
   {
    "duration": 28,
    "start_time": "2022-05-13T01:45:24.339Z"
   },
   {
    "duration": 13,
    "start_time": "2022-05-13T01:45:26.565Z"
   },
   {
    "duration": 28,
    "start_time": "2022-05-13T01:45:28.887Z"
   },
   {
    "duration": 13,
    "start_time": "2022-05-13T01:45:30.935Z"
   },
   {
    "duration": 6,
    "start_time": "2022-05-13T01:48:35.254Z"
   },
   {
    "duration": 8,
    "start_time": "2022-05-13T01:48:36.868Z"
   },
   {
    "duration": 20,
    "start_time": "2022-05-13T01:52:49.099Z"
   },
   {
    "duration": 7,
    "start_time": "2022-05-13T01:53:09.712Z"
   },
   {
    "duration": 10,
    "start_time": "2022-05-13T01:53:12.761Z"
   },
   {
    "duration": 8,
    "start_time": "2022-05-13T01:53:15.500Z"
   },
   {
    "duration": 5,
    "start_time": "2022-05-13T01:53:29.537Z"
   },
   {
    "duration": 10,
    "start_time": "2022-05-13T01:53:34.058Z"
   },
   {
    "duration": 10,
    "start_time": "2022-05-13T01:53:36.038Z"
   },
   {
    "duration": 28,
    "start_time": "2022-05-13T01:53:40.544Z"
   },
   {
    "duration": 14,
    "start_time": "2022-05-13T01:53:45.334Z"
   },
   {
    "duration": 58,
    "start_time": "2022-05-13T03:09:39.873Z"
   },
   {
    "duration": 66,
    "start_time": "2022-05-13T03:09:51.644Z"
   },
   {
    "duration": 78,
    "start_time": "2022-05-13T03:19:53.089Z"
   }
  ],
  "kernelspec": {
   "display_name": "Python 3 (ipykernel)",
   "language": "python",
   "name": "python3"
  },
  "language_info": {
   "codemirror_mode": {
    "name": "ipython",
    "version": 3
   },
   "file_extension": ".py",
   "mimetype": "text/x-python",
   "name": "python",
   "nbconvert_exporter": "python",
   "pygments_lexer": "ipython3",
   "version": "3.9.13"
  },
  "toc": {
   "base_numbering": 1,
   "nav_menu": {},
   "number_sections": true,
   "sideBar": true,
   "skip_h1_title": true,
   "title_cell": "Table of Contents",
   "title_sidebar": "Contents",
   "toc_cell": false,
   "toc_position": {},
   "toc_section_display": true,
   "toc_window_display": false
  }
 },
 "nbformat": 4,
 "nbformat_minor": 2
}
