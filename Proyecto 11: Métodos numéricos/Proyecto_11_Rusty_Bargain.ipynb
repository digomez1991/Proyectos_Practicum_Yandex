{
 "cells": [
  {
   "cell_type": "markdown",
   "metadata": {},
   "source": [
    "# Rusty Bargain"
   ]
  },
  {
   "cell_type": "markdown",
   "metadata": {},
   "source": [
    "# 1. Contenido"
   ]
  },
  {
   "cell_type": "markdown",
   "metadata": {},
   "source": [
    "* [1 Contenido](#content)\n",
    "* [2 Introducción](#intro)\n",
    "* [3 Inicialización](#inic)\n",
    "    * [3.1 Cargar Librerias](#library)\n",
    "    * [3.2 Cargar Datos](#datos)\n",
    "* [4 Exploración y preparación los datos](#exp) \n",
    "    * [4.1 Preprocesamiento](#prep)\n",
    "         * [4.1.1 Valores Ausentes](#nan)\n",
    "* [5 Entrenamiento del modelo](#train)\n",
    "    * [5.1 Segmentación datos entrenamiento y validación](#seg)\n",
    "    * [5.2 Segmentación datos selección hiperparametros](#seg2)\n",
    "    * [5.3 Regresión lineal](#rl)\n",
    "    * [5.4 Bosque aleatorio](#rf)\n",
    "    * [5.5 LightGBM](#lgbm)\n",
    "    * [5.6 CatBoost](#cb)\n",
    "    * [5.7 XGBoost](#xgb)\n",
    "* [6 Analisis del Modelo](#analisis)"
   ]
  },
  {
   "cell_type": "markdown",
   "metadata": {},
   "source": [
    "## 2. Introducción"
   ]
  },
  {
   "cell_type": "markdown",
   "metadata": {},
   "source": [
    "En el presente proyecto procederemos a desarrollar un de modelo de machine learning para la empresa Rusty Bargain con el objetivo de predecir el valor de mercado de venta de coches de segunda mano a partir del historial, especificaciones técnicas, versiones de equipamiento y precios de los vehículos vendidos por la empresa. El modelo ayudará en el desarrollo de una app por parte de la empresa para atraer nuevos clientes.\n",
    "\n",
    "Comenzaremos revisando los datos proporcionados, realizaremos un análisis de los datos y desarrollaremos el modelo solicitado"
   ]
  },
  {
   "cell_type": "markdown",
   "metadata": {},
   "source": [
    "## 3. Inicialización"
   ]
  },
  {
   "cell_type": "markdown",
   "metadata": {},
   "source": [
    "Se procede a cargar las librerías que se utilizaran en el proyecto."
   ]
  },
  {
   "cell_type": "markdown",
   "metadata": {},
   "source": [
    "### 3.1 Cargar librerias"
   ]
  },
  {
   "cell_type": "code",
   "execution_count": 1,
   "metadata": {},
   "outputs": [],
   "source": [
    "import pandas as pd\n",
    "from sklearn.model_selection import train_test_split\n",
    "from catboost import CatBoostRegressor\n",
    "from sklearn.linear_model import LinearRegression\n",
    "from sklearn.ensemble import RandomForestRegressor\n",
    "from sklearn.model_selection import cross_val_score\n",
    "from sklearn.preprocessing import OrdinalEncoder\n",
    "\n",
    "from sklearn.model_selection import GridSearchCV\n",
    "import numpy as np\n",
    "import xgboost as xgb\n",
    "import lightgbm as lgbm\n",
    "from sklearn.metrics import mean_squared_error\n",
    "\n",
    "import time"
   ]
  },
  {
   "cell_type": "markdown",
   "metadata": {},
   "source": [
    "### 3.2 Cargar datos"
   ]
  },
  {
   "cell_type": "markdown",
   "metadata": {},
   "source": [
    "Se procede a cargar los datos."
   ]
  },
  {
   "cell_type": "code",
   "execution_count": 2,
   "metadata": {},
   "outputs": [],
   "source": [
    "data = pd.read_csv('datasets/car_data.csv')"
   ]
  },
  {
   "cell_type": "markdown",
   "metadata": {},
   "source": [
    "## 4. Exploración y preparación los datos"
   ]
  },
  {
   "cell_type": "markdown",
   "metadata": {},
   "source": [
    "A continuación, procederemos a realizar una exploración sobre las bases de datos entregadas por Rusty Bargain."
   ]
  },
  {
   "cell_type": "code",
   "execution_count": 3,
   "metadata": {},
   "outputs": [
    {
     "name": "stdout",
     "output_type": "stream",
     "text": [
      "<class 'pandas.core.frame.DataFrame'>\n",
      "RangeIndex: 354369 entries, 0 to 354368\n",
      "Data columns (total 16 columns):\n",
      " #   Column             Non-Null Count   Dtype \n",
      "---  ------             --------------   ----- \n",
      " 0   DateCrawled        354369 non-null  object\n",
      " 1   Price              354369 non-null  int64 \n",
      " 2   VehicleType        316879 non-null  object\n",
      " 3   RegistrationYear   354369 non-null  int64 \n",
      " 4   Gearbox            334536 non-null  object\n",
      " 5   Power              354369 non-null  int64 \n",
      " 6   Model              334664 non-null  object\n",
      " 7   Mileage            354369 non-null  int64 \n",
      " 8   RegistrationMonth  354369 non-null  int64 \n",
      " 9   FuelType           321474 non-null  object\n",
      " 10  Brand              354369 non-null  object\n",
      " 11  NotRepaired        283215 non-null  object\n",
      " 12  DateCreated        354369 non-null  object\n",
      " 13  NumberOfPictures   354369 non-null  int64 \n",
      " 14  PostalCode         354369 non-null  int64 \n",
      " 15  LastSeen           354369 non-null  object\n",
      "dtypes: int64(7), object(9)\n",
      "memory usage: 43.3+ MB\n"
     ]
    }
   ],
   "source": [
    "data.info()"
   ]
  },
  {
   "cell_type": "code",
   "execution_count": 4,
   "metadata": {},
   "outputs": [
    {
     "data": {
      "text/html": [
       "<div>\n",
       "<style scoped>\n",
       "    .dataframe tbody tr th:only-of-type {\n",
       "        vertical-align: middle;\n",
       "    }\n",
       "\n",
       "    .dataframe tbody tr th {\n",
       "        vertical-align: top;\n",
       "    }\n",
       "\n",
       "    .dataframe thead th {\n",
       "        text-align: right;\n",
       "    }\n",
       "</style>\n",
       "<table border=\"1\" class=\"dataframe\">\n",
       "  <thead>\n",
       "    <tr style=\"text-align: right;\">\n",
       "      <th></th>\n",
       "      <th>DateCrawled</th>\n",
       "      <th>Price</th>\n",
       "      <th>VehicleType</th>\n",
       "      <th>RegistrationYear</th>\n",
       "      <th>Gearbox</th>\n",
       "      <th>Power</th>\n",
       "      <th>Model</th>\n",
       "      <th>Mileage</th>\n",
       "      <th>RegistrationMonth</th>\n",
       "      <th>FuelType</th>\n",
       "      <th>Brand</th>\n",
       "      <th>NotRepaired</th>\n",
       "      <th>DateCreated</th>\n",
       "      <th>NumberOfPictures</th>\n",
       "      <th>PostalCode</th>\n",
       "      <th>LastSeen</th>\n",
       "    </tr>\n",
       "  </thead>\n",
       "  <tbody>\n",
       "    <tr>\n",
       "      <th>0</th>\n",
       "      <td>24/03/2016 11:52</td>\n",
       "      <td>480</td>\n",
       "      <td>NaN</td>\n",
       "      <td>1993</td>\n",
       "      <td>manual</td>\n",
       "      <td>0</td>\n",
       "      <td>golf</td>\n",
       "      <td>150000</td>\n",
       "      <td>0</td>\n",
       "      <td>petrol</td>\n",
       "      <td>volkswagen</td>\n",
       "      <td>NaN</td>\n",
       "      <td>24/03/2016 00:00</td>\n",
       "      <td>0</td>\n",
       "      <td>70435</td>\n",
       "      <td>07/04/2016 03:16</td>\n",
       "    </tr>\n",
       "    <tr>\n",
       "      <th>1</th>\n",
       "      <td>24/03/2016 10:58</td>\n",
       "      <td>18300</td>\n",
       "      <td>coupe</td>\n",
       "      <td>2011</td>\n",
       "      <td>manual</td>\n",
       "      <td>190</td>\n",
       "      <td>NaN</td>\n",
       "      <td>125000</td>\n",
       "      <td>5</td>\n",
       "      <td>gasoline</td>\n",
       "      <td>audi</td>\n",
       "      <td>yes</td>\n",
       "      <td>24/03/2016 00:00</td>\n",
       "      <td>0</td>\n",
       "      <td>66954</td>\n",
       "      <td>07/04/2016 01:46</td>\n",
       "    </tr>\n",
       "    <tr>\n",
       "      <th>2</th>\n",
       "      <td>14/03/2016 12:52</td>\n",
       "      <td>9800</td>\n",
       "      <td>suv</td>\n",
       "      <td>2004</td>\n",
       "      <td>auto</td>\n",
       "      <td>163</td>\n",
       "      <td>grand</td>\n",
       "      <td>125000</td>\n",
       "      <td>8</td>\n",
       "      <td>gasoline</td>\n",
       "      <td>jeep</td>\n",
       "      <td>NaN</td>\n",
       "      <td>14/03/2016 00:00</td>\n",
       "      <td>0</td>\n",
       "      <td>90480</td>\n",
       "      <td>05/04/2016 12:47</td>\n",
       "    </tr>\n",
       "    <tr>\n",
       "      <th>3</th>\n",
       "      <td>17/03/2016 16:54</td>\n",
       "      <td>1500</td>\n",
       "      <td>small</td>\n",
       "      <td>2001</td>\n",
       "      <td>manual</td>\n",
       "      <td>75</td>\n",
       "      <td>golf</td>\n",
       "      <td>150000</td>\n",
       "      <td>6</td>\n",
       "      <td>petrol</td>\n",
       "      <td>volkswagen</td>\n",
       "      <td>no</td>\n",
       "      <td>17/03/2016 00:00</td>\n",
       "      <td>0</td>\n",
       "      <td>91074</td>\n",
       "      <td>17/03/2016 17:40</td>\n",
       "    </tr>\n",
       "    <tr>\n",
       "      <th>4</th>\n",
       "      <td>31/03/2016 17:25</td>\n",
       "      <td>3600</td>\n",
       "      <td>small</td>\n",
       "      <td>2008</td>\n",
       "      <td>manual</td>\n",
       "      <td>69</td>\n",
       "      <td>fabia</td>\n",
       "      <td>90000</td>\n",
       "      <td>7</td>\n",
       "      <td>gasoline</td>\n",
       "      <td>skoda</td>\n",
       "      <td>no</td>\n",
       "      <td>31/03/2016 00:00</td>\n",
       "      <td>0</td>\n",
       "      <td>60437</td>\n",
       "      <td>06/04/2016 10:17</td>\n",
       "    </tr>\n",
       "  </tbody>\n",
       "</table>\n",
       "</div>"
      ],
      "text/plain": [
       "        DateCrawled  Price VehicleType  RegistrationYear Gearbox  Power  \\\n",
       "0  24/03/2016 11:52    480         NaN              1993  manual      0   \n",
       "1  24/03/2016 10:58  18300       coupe              2011  manual    190   \n",
       "2  14/03/2016 12:52   9800         suv              2004    auto    163   \n",
       "3  17/03/2016 16:54   1500       small              2001  manual     75   \n",
       "4  31/03/2016 17:25   3600       small              2008  manual     69   \n",
       "\n",
       "   Model  Mileage  RegistrationMonth  FuelType       Brand NotRepaired  \\\n",
       "0   golf   150000                  0    petrol  volkswagen         NaN   \n",
       "1    NaN   125000                  5  gasoline        audi         yes   \n",
       "2  grand   125000                  8  gasoline        jeep         NaN   \n",
       "3   golf   150000                  6    petrol  volkswagen          no   \n",
       "4  fabia    90000                  7  gasoline       skoda          no   \n",
       "\n",
       "        DateCreated  NumberOfPictures  PostalCode          LastSeen  \n",
       "0  24/03/2016 00:00                 0       70435  07/04/2016 03:16  \n",
       "1  24/03/2016 00:00                 0       66954  07/04/2016 01:46  \n",
       "2  14/03/2016 00:00                 0       90480  05/04/2016 12:47  \n",
       "3  17/03/2016 00:00                 0       91074  17/03/2016 17:40  \n",
       "4  31/03/2016 00:00                 0       60437  06/04/2016 10:17  "
      ]
     },
     "execution_count": 4,
     "metadata": {},
     "output_type": "execute_result"
    }
   ],
   "source": [
    "data.head(5)"
   ]
  },
  {
   "cell_type": "markdown",
   "metadata": {},
   "source": [
    "Observando la base de datos podemos apreciar que existen valores ausentes en 5 de las columnas de la base de datos, \"VehicleType\", \"Gearbox\", \"Model\", \"FuelType\" y \"NotRepaired\", siendo en esta última columna donde se encuentra una mayor cantidad de datos ausentes correspondiendo a alrededor de un 21% de los datos. Por otra parte, en los tipos de datos podemos apreciar que las columnas \"DateCrawled\", \"DateCreated\" y \"LastSeen\" son de tipo object cuando deberian ser de tipo datetime."
   ]
  },
  {
   "cell_type": "markdown",
   "metadata": {},
   "source": [
    "### 4.1 Preprocesamiento"
   ]
  },
  {
   "cell_type": "markdown",
   "metadata": {},
   "source": [
    "Comenzaremos cambiando el tipo de datos de las columnas correspondientes a fechas."
   ]
  },
  {
   "cell_type": "code",
   "execution_count": 5,
   "metadata": {},
   "outputs": [],
   "source": [
    "data['DateCrawled'] = pd.to_datetime(data['DateCrawled'], format='%d/%m/%Y %H:%M')\n",
    "data['DateCreated'] = pd.to_datetime(data['DateCreated'], format='%d/%m/%Y %H:%M')\n",
    "data['LastSeen'] = pd.to_datetime(data['LastSeen'], format='%d/%m/%Y %H:%M')"
   ]
  },
  {
   "cell_type": "markdown",
   "metadata": {},
   "source": [
    "Continuaremos observando si existen filas duplicadas y eliminandolas en el caso de que existan."
   ]
  },
  {
   "cell_type": "code",
   "execution_count": 6,
   "metadata": {},
   "outputs": [
    {
     "data": {
      "text/plain": [
       "262"
      ]
     },
     "execution_count": 6,
     "metadata": {},
     "output_type": "execute_result"
    }
   ],
   "source": [
    "data.duplicated().sum()"
   ]
  },
  {
   "cell_type": "code",
   "execution_count": 7,
   "metadata": {},
   "outputs": [],
   "source": [
    "data = data.drop_duplicates()"
   ]
  },
  {
   "cell_type": "markdown",
   "metadata": {},
   "source": [
    "Procederemos observando si existen valores extraños en las columnas."
   ]
  },
  {
   "cell_type": "code",
   "execution_count": 8,
   "metadata": {},
   "outputs": [
    {
     "name": "stdout",
     "output_type": "stream",
     "text": [
      "Price: 0\n",
      "RegistrationYear: 0\n",
      "Power: 0\n",
      "Mileage: 0\n",
      "RegistrationMonth: 0\n",
      "NumberOfPictures: 0\n"
     ]
    }
   ],
   "source": [
    "for column in data[['Price', 'RegistrationYear', 'Power', 'Mileage', 'RegistrationMonth', 'NumberOfPictures']]:\n",
    "    print(f'{column}: {(data[data[column] < 0][column]).count()}')"
   ]
  },
  {
   "cell_type": "code",
   "execution_count": 9,
   "metadata": {
    "scrolled": true
   },
   "outputs": [
    {
     "name": "stdout",
     "output_type": "stream",
     "text": [
      "VehicleType: [nan 'coupe' 'suv' 'small' 'sedan' 'convertible' 'bus' 'wagon' 'other']\n",
      "Gearbox: ['manual' 'auto' nan]\n",
      "Model: ['golf' nan 'grand' 'fabia' '3er' '2_reihe' 'other' 'c_max' '3_reihe'\n",
      " 'passat' 'navara' 'ka' 'polo' 'twingo' 'a_klasse' 'scirocco' '5er'\n",
      " 'meriva' 'arosa' 'c4' 'civic' 'transporter' 'punto' 'e_klasse' 'clio'\n",
      " 'kadett' 'kangoo' 'corsa' 'one' 'fortwo' '1er' 'b_klasse' 'signum'\n",
      " 'astra' 'a8' 'jetta' 'fiesta' 'c_klasse' 'micra' 'vito' 'sprinter' '156'\n",
      " 'escort' 'forester' 'xc_reihe' 'scenic' 'a4' 'a1' 'insignia' 'combo'\n",
      " 'focus' 'tt' 'a6' 'jazz' 'omega' 'slk' '7er' '80' '147' '100' 'z_reihe'\n",
      " 'sportage' 'sorento' 'v40' 'ibiza' 'mustang' 'eos' 'touran' 'getz' 'a3'\n",
      " 'almera' 'megane' 'lupo' 'r19' 'zafira' 'caddy' 'mondeo' 'cordoba' 'colt'\n",
      " 'impreza' 'vectra' 'berlingo' 'tiguan' 'i_reihe' 'espace' 'sharan'\n",
      " '6_reihe' 'panda' 'up' 'seicento' 'ceed' '5_reihe' 'yeti' 'octavia' 'mii'\n",
      " 'rx_reihe' '6er' 'modus' 'fox' 'matiz' 'beetle' 'c1' 'rio' 'touareg'\n",
      " 'logan' 'spider' 'cuore' 's_max' 'a2' 'galaxy' 'c3' 'viano' 's_klasse'\n",
      " '1_reihe' 'avensis' 'roomster' 'sl' 'kaefer' 'santa' 'cooper' 'leon'\n",
      " '4_reihe' 'a5' '500' 'laguna' 'ptcruiser' 'clk' 'primera' 'x_reihe'\n",
      " 'exeo' '159' 'transit' 'juke' 'qashqai' 'carisma' 'accord' 'corolla'\n",
      " 'lanos' 'phaeton' 'verso' 'swift' 'rav' 'picanto' 'boxster' 'kalos'\n",
      " 'superb' 'stilo' 'alhambra' 'mx_reihe' 'roadster' 'ypsilon' 'cayenne'\n",
      " 'galant' 'justy' '90' 'sirion' 'crossfire' 'agila' 'duster' 'cr_reihe'\n",
      " 'v50' 'c_reihe' 'v_klasse' 'm_klasse' 'yaris' 'c5' 'aygo' 'cc' 'carnival'\n",
      " 'fusion' '911' 'bora' 'forfour' 'm_reihe' 'cl' 'tigra' '300c' 'spark'\n",
      " 'v70' 'kuga' 'x_type' 'ducato' 's_type' 'x_trail' 'toledo' 'altea'\n",
      " 'voyager' 'calibra' 'bravo' 'antara' 'tucson' 'citigo' 'jimny' 'wrangler'\n",
      " 'lybra' 'q7' 'lancer' 'captiva' 'c2' 'discovery' 'freelander' 'sandero'\n",
      " 'note' '900' 'cherokee' 'clubman' 'samara' 'defender' '601' 'cx_reihe'\n",
      " 'legacy' 'pajero' 'auris' 'niva' 's60' 'nubira' 'vivaro' 'g_klasse'\n",
      " 'lodgy' '850' 'range_rover' 'q3' 'serie_2' 'glk' 'charade' 'croma'\n",
      " 'outlander' 'doblo' 'musa' 'move' '9000' 'v60' '145' 'aveo' '200' 'b_max'\n",
      " 'range_rover_sport' 'terios' 'rangerover' 'q5' 'range_rover_evoque'\n",
      " 'materia' 'delta' 'gl' 'kalina' 'amarok' 'elefantino' 'i3' 'kappa'\n",
      " 'serie_3' 'serie_1']\n",
      "FuelType: ['petrol' 'gasoline' nan 'lpg' 'other' 'hybrid' 'cng' 'electric']\n",
      "Brand: ['volkswagen' 'audi' 'jeep' 'skoda' 'bmw' 'peugeot' 'ford' 'mazda'\n",
      " 'nissan' 'renault' 'mercedes_benz' 'opel' 'seat' 'citroen' 'honda' 'fiat'\n",
      " 'mini' 'smart' 'hyundai' 'sonstige_autos' 'alfa_romeo' 'subaru' 'volvo'\n",
      " 'mitsubishi' 'kia' 'suzuki' 'lancia' 'toyota' 'chevrolet' 'dacia'\n",
      " 'daihatsu' 'trabant' 'saab' 'chrysler' 'jaguar' 'daewoo' 'porsche'\n",
      " 'rover' 'land_rover' 'lada']\n",
      "NotRepaired: [nan 'yes' 'no']\n"
     ]
    }
   ],
   "source": [
    "for column in data[['VehicleType', 'Gearbox', 'Model', 'FuelType','Brand', 'NotRepaired']]:\n",
    "    print(f'{column}: {data[column].unique()}')"
   ]
  },
  {
   "cell_type": "markdown",
   "metadata": {},
   "source": [
    "No se aprecian valores extraños en las columnas."
   ]
  },
  {
   "cell_type": "markdown",
   "metadata": {},
   "source": [
    "#### 4.1.1. Valores Ausentes"
   ]
  },
  {
   "cell_type": "markdown",
   "metadata": {},
   "source": [
    "Debido a que las columnas con valores ausentes no pueden ser rellenadas con respecto a columnas que tengan sus datos completos, las columnas más importantes para poder definir las características de los autos serian el modelo, tipo de vehículo y la marca, pero dos de estas columnas poseen valores ausentes y que en el caso de la columna con mayor cantidad de valores ausentes, “NotRepaired”, no hay forma de rellenarla sin datos adicionales que no poseemos, procederemos a eliminar las filas con valores ausentes."
   ]
  },
  {
   "cell_type": "code",
   "execution_count": 10,
   "metadata": {},
   "outputs": [],
   "source": [
    "data = data.dropna()"
   ]
  },
  {
   "cell_type": "code",
   "execution_count": 11,
   "metadata": {},
   "outputs": [
    {
     "name": "stdout",
     "output_type": "stream",
     "text": [
      "<class 'pandas.core.frame.DataFrame'>\n",
      "Int64Index: 245567 entries, 3 to 354367\n",
      "Data columns (total 16 columns):\n",
      " #   Column             Non-Null Count   Dtype         \n",
      "---  ------             --------------   -----         \n",
      " 0   DateCrawled        245567 non-null  datetime64[ns]\n",
      " 1   Price              245567 non-null  int64         \n",
      " 2   VehicleType        245567 non-null  object        \n",
      " 3   RegistrationYear   245567 non-null  int64         \n",
      " 4   Gearbox            245567 non-null  object        \n",
      " 5   Power              245567 non-null  int64         \n",
      " 6   Model              245567 non-null  object        \n",
      " 7   Mileage            245567 non-null  int64         \n",
      " 8   RegistrationMonth  245567 non-null  int64         \n",
      " 9   FuelType           245567 non-null  object        \n",
      " 10  Brand              245567 non-null  object        \n",
      " 11  NotRepaired        245567 non-null  object        \n",
      " 12  DateCreated        245567 non-null  datetime64[ns]\n",
      " 13  NumberOfPictures   245567 non-null  int64         \n",
      " 14  PostalCode         245567 non-null  int64         \n",
      " 15  LastSeen           245567 non-null  datetime64[ns]\n",
      "dtypes: datetime64[ns](3), int64(7), object(6)\n",
      "memory usage: 31.8+ MB\n"
     ]
    }
   ],
   "source": [
    "data.info()"
   ]
  },
  {
   "cell_type": "markdown",
   "metadata": {},
   "source": [
    "## 5. Entrenamiento del modelo "
   ]
  },
  {
   "cell_type": "markdown",
   "metadata": {},
   "source": [
    "Procederemos a realizar la segmentación de los datos, en este caso utilizaremos 2 segmentaciones distintas para los diferentes modelos a entrenar. La primera es la segmentación de los datos para el entrenamiento y validación, mientras la segunda será una segmentación a partir de un subconjunto aleatorio de los datos para poder decidir los mejores hiperparametros para los modelos disminuyendo el tiempo de proceso. "
   ]
  },
  {
   "cell_type": "markdown",
   "metadata": {},
   "source": [
    "### 5.1 Segmentación datos entrenamiento y validación"
   ]
  },
  {
   "cell_type": "code",
   "execution_count": 14,
   "metadata": {},
   "outputs": [],
   "source": [
    "encoder = OrdinalEncoder()\n",
    "data_ordinal = pd.DataFrame(encoder.fit_transform(data), columns=data.columns)\n",
    "features_train, features_valid, target_train, target_valid = train_test_split(\n",
    "    data_ordinal.drop(['DateCrawled','Price','DateCreated','LastSeen'], axis=1), \n",
    "    data_ordinal.Price, test_size=0.25, random_state=12345)"
   ]
  },
  {
   "cell_type": "markdown",
   "metadata": {},
   "source": [
    "### 5.2 Segmentación datos selección hiperparametros"
   ]
  },
  {
   "cell_type": "code",
   "execution_count": 15,
   "metadata": {},
   "outputs": [],
   "source": [
    "data_sample = data_ordinal.sample(frac = 0.01, replace = False, random_state = 12345)"
   ]
  },
  {
   "cell_type": "code",
   "execution_count": 16,
   "metadata": {},
   "outputs": [],
   "source": [
    "features_train_sample, features_valid_sample, target_train_sample, target_valid_sample = train_test_split(\n",
    "    data_sample.drop(['DateCrawled','Price','DateCreated','LastSeen'], axis=1), \n",
    "    data_sample.Price, test_size=0.25, random_state=12345)"
   ]
  },
  {
   "cell_type": "markdown",
   "metadata": {},
   "source": [
    "### 5.3 Regresión lineal"
   ]
  },
  {
   "cell_type": "markdown",
   "metadata": {},
   "source": [
    "Comenzaremos con un modelo de regresión lineal para utilizarlo como prueba de cordura con respecto al resto de los modelos."
   ]
  },
  {
   "cell_type": "code",
   "execution_count": 21,
   "metadata": {},
   "outputs": [
    {
     "name": "stdout",
     "output_type": "stream",
     "text": [
      "RMSE: 543.0050966141498 Time Train: 0.14062 seconds Time Predict: 0.00499 seconds\n"
     ]
    }
   ],
   "source": [
    "modelLR = LinearRegression()\n",
    "start_train = time.time()\n",
    "modelLR.fit(features_train, target_train)\n",
    "stop_train = time.time()\n",
    "start_predict = time.time()\n",
    "predictionsLR = modelLR.predict(features_valid) \n",
    "resultLR = np.sqrt(mean_squared_error(target_valid, predictionsLR))\n",
    "stop_predict = time.time()\n",
    "print('RMSE:', resultLR, 'Time Train:', round(stop_train - start_train,5), 'seconds', 'Time Predict:', round(stop_predict - start_predict,5), 'seconds')"
   ]
  },
  {
   "cell_type": "markdown",
   "metadata": {},
   "source": [
    "### 5.4 Bosque aleatorio"
   ]
  },
  {
   "cell_type": "markdown",
   "metadata": {},
   "source": [
    "Continuaremos con un modelo de bosque aleatorio."
   ]
  },
  {
   "cell_type": "code",
   "execution_count": 38,
   "metadata": {},
   "outputs": [
    {
     "data": {
      "text/plain": [
       "{'criterion': 'absolute_error', 'max_depth': 10, 'n_estimators': 160}"
      ]
     },
     "execution_count": 38,
     "metadata": {},
     "output_type": "execute_result"
    }
   ],
   "source": [
    "parameters = {\n",
    "    \"criterion\": (\"squared_error\", \"absolute_error\",\"poisson\"),\n",
    "    \"max_depth\": np.linspace(1, 10, 5).astype(\"int\"),\n",
    "    \"n_estimators\": np.linspace(50, 200, 20).astype(\"int\")\n",
    "}\n",
    "\n",
    "gridSearchModel = GridSearchCV(\n",
    "    estimator=RandomForestRegressor(random_state=12345),\n",
    "    param_grid=parameters,\n",
    "    scoring=\"neg_mean_squared_error\",\n",
    "    n_jobs=-1\n",
    ")\n",
    "gridSearchModel.fit(features_train_sample, target_train_sample)\n",
    "gridSearchModel.best_params_"
   ]
  },
  {
   "cell_type": "code",
   "execution_count": 39,
   "metadata": {},
   "outputs": [
    {
     "name": "stdout",
     "output_type": "stream",
     "text": [
      "RMSE: 359.7298274442907 Time Train: 48165.32877 seconds Time Predict: 1.24055 seconds\n"
     ]
    }
   ],
   "source": [
    "modelRF = RandomForestRegressor(random_state=12345, n_estimators=160, criterion='absolute_error', max_depth=10)\n",
    "start_train = time.time()\n",
    "modelRF.fit(features_train, target_train) \n",
    "stop_train = time.time()\n",
    "start_predict = time.time()\n",
    "predictionsRF = modelRF.predict(features_valid) \n",
    "resultRF = np.sqrt(mean_squared_error(target_valid, predictionsRF))\n",
    "stop_predict = time.time()\n",
    "print('RMSE:', resultRF, 'Time Train:', round(stop_train - start_train,5), 'seconds', 'Time Predict:', round(stop_predict - start_predict,5), 'seconds')"
   ]
  },
  {
   "cell_type": "markdown",
   "metadata": {},
   "source": [
    "### 5.5. LightGBM"
   ]
  },
  {
   "cell_type": "markdown",
   "metadata": {},
   "source": [
    "Procederemos a entrenar un modelo de potenciación de gradiente en base a lightGBM."
   ]
  },
  {
   "cell_type": "code",
   "execution_count": 22,
   "metadata": {},
   "outputs": [],
   "source": [
    "LGB = lgbm.LGBMRegressor()"
   ]
  },
  {
   "cell_type": "code",
   "execution_count": 25,
   "metadata": {},
   "outputs": [],
   "source": [
    "parameters = {'boosting_type' : (\"gbdt\", \"goss\"),\n",
    "              'max_depth' : np.linspace(1, 10, 5).astype(\"int\"),\n",
    "              'num_leaves' : np.linspace(1, 15, 5).astype(\"int\"),\n",
    "              'learning_rate' : [0.01, 0.05, 0.1, 0.3, 0.5],\n",
    "              'objective' : ['root_mean_squared_error'],\n",
    "             'metric' : ['rmse'],\n",
    "             'error_score' : ['raise']}"
   ]
  },
  {
   "cell_type": "code",
   "execution_count": 26,
   "metadata": {},
   "outputs": [
    {
     "data": {
      "text/plain": [
       "{'boosting_type': 'gbdt',\n",
       " 'error_score': 'raise',\n",
       " 'learning_rate': 0.3,\n",
       " 'max_depth': 3,\n",
       " 'metric': 'rmse',\n",
       " 'num_leaves': 4,\n",
       " 'objective': 'root_mean_squared_error'}"
      ]
     },
     "execution_count": 26,
     "metadata": {},
     "output_type": "execute_result"
    }
   ],
   "source": [
    "Grid_LGB = GridSearchCV(estimator=lgbm.LGBMRegressor(random_state=12345,force_row_wise='true'), param_grid = parameters, scoring=\"neg_mean_squared_error\", n_jobs=-1)\n",
    "Grid_LGB.fit(features_train_sample, target_train_sample)\n",
    "Grid_LGB.best_params_"
   ]
  },
  {
   "cell_type": "code",
   "execution_count": 31,
   "metadata": {},
   "outputs": [
    {
     "name": "stdout",
     "output_type": "stream",
     "text": [
      "RMSE: 347.03707672261646 Time Train: 0.50166 seconds Time Predict: 0.08178 seconds\n"
     ]
    }
   ],
   "source": [
    "lgb_model = lgbm.LGBMRegressor(boosting_type='gbdt',\n",
    "    objective='root_mean_squared_error',\n",
    "    max_depth=3,\n",
    "    num_leaves=4,\n",
    "    learning_rate=0.3,\n",
    "    metric='rmse',\n",
    "    force_row_wise='true',\n",
    "    random_state=12345)\n",
    "start_train = time.time()\n",
    "lgb_model.fit(features_train, target_train) \n",
    "stop_train = time.time()\n",
    "start_predict = time.time()\n",
    "preds_lgb_model = lgb_model.predict(features_valid)\n",
    "resultLGB = np.sqrt(mean_squared_error(target_valid, preds_lgb_model))\n",
    "stop_predict = time.time()\n",
    "print('RMSE:', resultLGB, 'Time Train:', round(stop_train - start_train,5), 'seconds', 'Time Predict:', round(stop_predict - start_predict,5), 'seconds')"
   ]
  },
  {
   "cell_type": "markdown",
   "metadata": {},
   "source": [
    "### 5.6 CatBoost"
   ]
  },
  {
   "cell_type": "markdown",
   "metadata": {},
   "source": [
    "Continuaremos con otro modelo de potenciación de gradiente, en este caso CatBoost."
   ]
  },
  {
   "cell_type": "code",
   "execution_count": 28,
   "metadata": {},
   "outputs": [],
   "source": [
    "CBR = CatBoostRegressor()"
   ]
  },
  {
   "cell_type": "code",
   "execution_count": 29,
   "metadata": {},
   "outputs": [],
   "source": [
    "parameters = {'depth'         : [4,5,6,7,8,9, 10],\n",
    "                 'learning_rate' : [0.01,0.02,0.03,0.04],\n",
    "                  'iterations'    : [10, 20,30,40,50,60,70,80,90,100]}"
   ]
  },
  {
   "cell_type": "code",
   "execution_count": 30,
   "metadata": {
    "scrolled": true
   },
   "outputs": [
    {
     "name": "stdout",
     "output_type": "stream",
     "text": [
      "0:\tlearn: 868.7195459\ttotal: 150ms\tremaining: 14.8s\n",
      "1:\tlearn: 849.4274725\ttotal: 152ms\tremaining: 7.46s\n",
      "2:\tlearn: 829.1774504\ttotal: 155ms\tremaining: 5.01s\n",
      "3:\tlearn: 810.1722163\ttotal: 157ms\tremaining: 3.78s\n",
      "4:\tlearn: 791.2515407\ttotal: 160ms\tremaining: 3.04s\n",
      "5:\tlearn: 772.0029161\ttotal: 161ms\tremaining: 2.53s\n",
      "6:\tlearn: 754.5624962\ttotal: 165ms\tremaining: 2.19s\n",
      "7:\tlearn: 736.5941127\ttotal: 168ms\tremaining: 1.93s\n",
      "8:\tlearn: 721.8655990\ttotal: 171ms\tremaining: 1.73s\n",
      "9:\tlearn: 706.4785863\ttotal: 174ms\tremaining: 1.56s\n",
      "10:\tlearn: 691.1479731\ttotal: 176ms\tremaining: 1.43s\n",
      "11:\tlearn: 676.7951202\ttotal: 179ms\tremaining: 1.31s\n",
      "12:\tlearn: 664.4325984\ttotal: 182ms\tremaining: 1.22s\n",
      "13:\tlearn: 651.1839418\ttotal: 185ms\tremaining: 1.13s\n",
      "14:\tlearn: 637.9711595\ttotal: 187ms\tremaining: 1.06s\n",
      "15:\tlearn: 626.6229849\ttotal: 189ms\tremaining: 995ms\n",
      "16:\tlearn: 614.9927001\ttotal: 192ms\tremaining: 937ms\n",
      "17:\tlearn: 604.4870543\ttotal: 194ms\tremaining: 883ms\n",
      "18:\tlearn: 594.4978029\ttotal: 196ms\tremaining: 835ms\n",
      "19:\tlearn: 583.6564475\ttotal: 198ms\tremaining: 792ms\n",
      "20:\tlearn: 574.8743949\ttotal: 200ms\tremaining: 753ms\n",
      "21:\tlearn: 565.9638270\ttotal: 202ms\tremaining: 717ms\n",
      "22:\tlearn: 556.1015419\ttotal: 205ms\tremaining: 687ms\n",
      "23:\tlearn: 548.2761431\ttotal: 208ms\tremaining: 658ms\n",
      "24:\tlearn: 539.5722142\ttotal: 211ms\tremaining: 633ms\n",
      "25:\tlearn: 531.8548217\ttotal: 214ms\tremaining: 609ms\n",
      "26:\tlearn: 524.1502579\ttotal: 217ms\tremaining: 586ms\n",
      "27:\tlearn: 517.3118318\ttotal: 219ms\tremaining: 563ms\n",
      "28:\tlearn: 509.8175680\ttotal: 221ms\tremaining: 541ms\n",
      "29:\tlearn: 502.1834691\ttotal: 223ms\tremaining: 520ms\n",
      "30:\tlearn: 495.4686679\ttotal: 225ms\tremaining: 501ms\n",
      "31:\tlearn: 489.6787128\ttotal: 227ms\tremaining: 483ms\n",
      "32:\tlearn: 483.1758130\ttotal: 229ms\tremaining: 465ms\n",
      "33:\tlearn: 477.3579850\ttotal: 231ms\tremaining: 449ms\n",
      "34:\tlearn: 471.6568978\ttotal: 234ms\tremaining: 434ms\n",
      "35:\tlearn: 466.1607477\ttotal: 237ms\tremaining: 422ms\n",
      "36:\tlearn: 461.5650341\ttotal: 240ms\tremaining: 408ms\n",
      "37:\tlearn: 456.3820925\ttotal: 242ms\tremaining: 395ms\n",
      "38:\tlearn: 451.3626927\ttotal: 246ms\tremaining: 384ms\n",
      "39:\tlearn: 447.0371982\ttotal: 249ms\tremaining: 373ms\n",
      "40:\tlearn: 442.6880962\ttotal: 254ms\tremaining: 365ms\n",
      "41:\tlearn: 438.6132371\ttotal: 256ms\tremaining: 354ms\n",
      "42:\tlearn: 434.0731459\ttotal: 258ms\tremaining: 342ms\n",
      "43:\tlearn: 430.0415684\ttotal: 260ms\tremaining: 331ms\n",
      "44:\tlearn: 426.9840489\ttotal: 265ms\tremaining: 324ms\n",
      "45:\tlearn: 423.5651245\ttotal: 270ms\tremaining: 317ms\n",
      "46:\tlearn: 420.1843961\ttotal: 274ms\tremaining: 310ms\n",
      "47:\tlearn: 416.5134449\ttotal: 279ms\tremaining: 303ms\n",
      "48:\tlearn: 413.3166821\ttotal: 283ms\tremaining: 295ms\n",
      "49:\tlearn: 409.6935011\ttotal: 285ms\tremaining: 285ms\n",
      "50:\tlearn: 407.0755785\ttotal: 287ms\tremaining: 276ms\n",
      "51:\tlearn: 404.6503055\ttotal: 289ms\tremaining: 267ms\n",
      "52:\tlearn: 401.7603944\ttotal: 292ms\tremaining: 259ms\n",
      "53:\tlearn: 399.4365035\ttotal: 294ms\tremaining: 250ms\n",
      "54:\tlearn: 396.3457803\ttotal: 296ms\tremaining: 242ms\n",
      "55:\tlearn: 393.8416839\ttotal: 298ms\tremaining: 234ms\n",
      "56:\tlearn: 391.6581470\ttotal: 301ms\tremaining: 227ms\n",
      "57:\tlearn: 388.9860539\ttotal: 303ms\tremaining: 219ms\n",
      "58:\tlearn: 386.5422017\ttotal: 305ms\tremaining: 212ms\n",
      "59:\tlearn: 384.3523676\ttotal: 307ms\tremaining: 205ms\n",
      "60:\tlearn: 382.4289021\ttotal: 309ms\tremaining: 198ms\n",
      "61:\tlearn: 380.0939960\ttotal: 311ms\tremaining: 191ms\n",
      "62:\tlearn: 378.1527958\ttotal: 313ms\tremaining: 184ms\n",
      "63:\tlearn: 376.2570781\ttotal: 315ms\tremaining: 177ms\n",
      "64:\tlearn: 374.4100843\ttotal: 317ms\tremaining: 171ms\n",
      "65:\tlearn: 372.4520043\ttotal: 319ms\tremaining: 164ms\n",
      "66:\tlearn: 370.5784589\ttotal: 322ms\tremaining: 159ms\n",
      "67:\tlearn: 368.6984613\ttotal: 324ms\tremaining: 152ms\n",
      "68:\tlearn: 366.6530624\ttotal: 327ms\tremaining: 147ms\n",
      "69:\tlearn: 365.4628663\ttotal: 329ms\tremaining: 141ms\n",
      "70:\tlearn: 363.7199780\ttotal: 332ms\tremaining: 136ms\n",
      "71:\tlearn: 361.7801795\ttotal: 335ms\tremaining: 130ms\n",
      "72:\tlearn: 360.2026508\ttotal: 338ms\tremaining: 125ms\n",
      "73:\tlearn: 358.6136593\ttotal: 341ms\tremaining: 120ms\n",
      "74:\tlearn: 357.0143546\ttotal: 344ms\tremaining: 115ms\n",
      "75:\tlearn: 355.7043470\ttotal: 349ms\tremaining: 110ms\n",
      "76:\tlearn: 354.3224082\ttotal: 355ms\tremaining: 106ms\n",
      "77:\tlearn: 352.6177023\ttotal: 360ms\tremaining: 101ms\n",
      "78:\tlearn: 351.5191166\ttotal: 362ms\tremaining: 96.3ms\n",
      "79:\tlearn: 350.3528117\ttotal: 364ms\tremaining: 91.1ms\n",
      "80:\tlearn: 348.5037163\ttotal: 367ms\tremaining: 86ms\n",
      "81:\tlearn: 347.1492304\ttotal: 371ms\tremaining: 81.4ms\n",
      "82:\tlearn: 345.8738114\ttotal: 373ms\tremaining: 76.4ms\n",
      "83:\tlearn: 344.9693480\ttotal: 375ms\tremaining: 71.4ms\n",
      "84:\tlearn: 343.8386899\ttotal: 377ms\tremaining: 66.5ms\n",
      "85:\tlearn: 342.6627843\ttotal: 379ms\tremaining: 61.7ms\n",
      "86:\tlearn: 341.4160478\ttotal: 381ms\tremaining: 56.9ms\n",
      "87:\tlearn: 340.2201454\ttotal: 383ms\tremaining: 52.2ms\n",
      "88:\tlearn: 338.7804813\ttotal: 385ms\tremaining: 47.6ms\n",
      "89:\tlearn: 337.6651553\ttotal: 388ms\tremaining: 43.1ms\n",
      "90:\tlearn: 337.0334959\ttotal: 390ms\tremaining: 38.6ms\n",
      "91:\tlearn: 335.8784916\ttotal: 393ms\tremaining: 34.2ms\n",
      "92:\tlearn: 335.0802515\ttotal: 395ms\tremaining: 29.7ms\n",
      "93:\tlearn: 334.0308915\ttotal: 397ms\tremaining: 25.3ms\n",
      "94:\tlearn: 333.4220814\ttotal: 399ms\tremaining: 21ms\n",
      "95:\tlearn: 332.0274147\ttotal: 401ms\tremaining: 16.7ms\n",
      "96:\tlearn: 331.5265845\ttotal: 403ms\tremaining: 12.5ms\n",
      "97:\tlearn: 331.0025793\ttotal: 405ms\tremaining: 8.27ms\n",
      "98:\tlearn: 330.3166668\ttotal: 408ms\tremaining: 4.12ms\n",
      "99:\tlearn: 329.6457966\ttotal: 410ms\tremaining: 0us\n"
     ]
    },
    {
     "data": {
      "text/plain": [
       "{'depth': 7, 'iterations': 100, 'learning_rate': 0.04}"
      ]
     },
     "execution_count": 30,
     "metadata": {},
     "output_type": "execute_result"
    }
   ],
   "source": [
    "Grid_CBR = GridSearchCV(estimator=CBR, param_grid = parameters, scoring=\"neg_mean_squared_error\", n_jobs=-1)\n",
    "Grid_CBR.fit(features_train_sample, target_train_sample)\n",
    "Grid_CBR.best_params_"
   ]
  },
  {
   "cell_type": "code",
   "execution_count": 32,
   "metadata": {
    "scrolled": true
   },
   "outputs": [
    {
     "name": "stdout",
     "output_type": "stream",
     "text": [
      "0:\tlearn: 863.1361186\ttotal: 29.6ms\tremaining: 2.93s\n",
      "1:\tlearn: 839.1469777\ttotal: 47.4ms\tremaining: 2.32s\n",
      "2:\tlearn: 816.3581373\ttotal: 72.7ms\tremaining: 2.35s\n",
      "3:\tlearn: 794.8876101\ttotal: 97.4ms\tremaining: 2.34s\n",
      "4:\tlearn: 774.0385318\ttotal: 119ms\tremaining: 2.26s\n",
      "5:\tlearn: 754.2746685\ttotal: 144ms\tremaining: 2.25s\n",
      "6:\tlearn: 735.2939241\ttotal: 172ms\tremaining: 2.28s\n",
      "7:\tlearn: 717.3741630\ttotal: 197ms\tremaining: 2.27s\n",
      "8:\tlearn: 700.2604705\ttotal: 217ms\tremaining: 2.19s\n",
      "9:\tlearn: 684.0986433\ttotal: 251ms\tremaining: 2.26s\n",
      "10:\tlearn: 668.9080166\ttotal: 276ms\tremaining: 2.23s\n",
      "11:\tlearn: 654.1981913\ttotal: 302ms\tremaining: 2.21s\n",
      "12:\tlearn: 640.1810009\ttotal: 323ms\tremaining: 2.16s\n",
      "13:\tlearn: 627.0282724\ttotal: 345ms\tremaining: 2.12s\n",
      "14:\tlearn: 614.3748040\ttotal: 370ms\tremaining: 2.1s\n",
      "15:\tlearn: 602.4968239\ttotal: 393ms\tremaining: 2.06s\n",
      "16:\tlearn: 590.7470639\ttotal: 413ms\tremaining: 2.02s\n",
      "17:\tlearn: 579.9802312\ttotal: 439ms\tremaining: 2s\n",
      "18:\tlearn: 569.6601808\ttotal: 479ms\tremaining: 2.04s\n",
      "19:\tlearn: 559.9183118\ttotal: 505ms\tremaining: 2.02s\n",
      "20:\tlearn: 550.4688694\ttotal: 531ms\tremaining: 2s\n",
      "21:\tlearn: 541.5795449\ttotal: 554ms\tremaining: 1.96s\n",
      "22:\tlearn: 533.2891060\ttotal: 575ms\tremaining: 1.92s\n",
      "23:\tlearn: 525.3177400\ttotal: 600ms\tremaining: 1.9s\n",
      "24:\tlearn: 517.6831070\ttotal: 625ms\tremaining: 1.88s\n",
      "25:\tlearn: 510.3825789\ttotal: 649ms\tremaining: 1.85s\n",
      "26:\tlearn: 503.5333066\ttotal: 671ms\tremaining: 1.81s\n",
      "27:\tlearn: 497.0170693\ttotal: 713ms\tremaining: 1.83s\n",
      "28:\tlearn: 490.8757824\ttotal: 738ms\tremaining: 1.81s\n",
      "29:\tlearn: 485.0918775\ttotal: 764ms\tremaining: 1.78s\n",
      "30:\tlearn: 479.7548905\ttotal: 787ms\tremaining: 1.75s\n",
      "31:\tlearn: 474.4392742\ttotal: 806ms\tremaining: 1.71s\n",
      "32:\tlearn: 469.5386553\ttotal: 835ms\tremaining: 1.7s\n",
      "33:\tlearn: 464.8782787\ttotal: 864ms\tremaining: 1.68s\n",
      "34:\tlearn: 460.4227704\ttotal: 890ms\tremaining: 1.65s\n",
      "35:\tlearn: 456.2431027\ttotal: 913ms\tremaining: 1.62s\n",
      "36:\tlearn: 452.2317016\ttotal: 965ms\tremaining: 1.64s\n",
      "37:\tlearn: 448.4279246\ttotal: 1.02s\tremaining: 1.66s\n",
      "38:\tlearn: 444.8499789\ttotal: 1.06s\tremaining: 1.66s\n",
      "39:\tlearn: 441.1489485\ttotal: 1.09s\tremaining: 1.64s\n",
      "40:\tlearn: 437.6972118\ttotal: 1.12s\tremaining: 1.61s\n",
      "41:\tlearn: 434.5895397\ttotal: 1.15s\tremaining: 1.58s\n",
      "42:\tlearn: 431.2289180\ttotal: 1.18s\tremaining: 1.56s\n",
      "43:\tlearn: 428.3452503\ttotal: 1.2s\tremaining: 1.53s\n",
      "44:\tlearn: 425.6560395\ttotal: 1.23s\tremaining: 1.5s\n",
      "45:\tlearn: 423.0644608\ttotal: 1.26s\tremaining: 1.48s\n",
      "46:\tlearn: 420.4873796\ttotal: 1.29s\tremaining: 1.45s\n",
      "47:\tlearn: 417.8747095\ttotal: 1.31s\tremaining: 1.42s\n",
      "48:\tlearn: 415.7503891\ttotal: 1.33s\tremaining: 1.39s\n",
      "49:\tlearn: 413.5526431\ttotal: 1.38s\tremaining: 1.38s\n",
      "50:\tlearn: 411.2508051\ttotal: 1.43s\tremaining: 1.37s\n",
      "51:\tlearn: 409.2157862\ttotal: 1.48s\tremaining: 1.37s\n",
      "52:\tlearn: 407.4286274\ttotal: 1.51s\tremaining: 1.34s\n",
      "53:\tlearn: 405.6789381\ttotal: 1.53s\tremaining: 1.3s\n",
      "54:\tlearn: 403.9138441\ttotal: 1.56s\tremaining: 1.27s\n",
      "55:\tlearn: 402.3519936\ttotal: 1.59s\tremaining: 1.25s\n",
      "56:\tlearn: 400.6337437\ttotal: 1.61s\tremaining: 1.22s\n",
      "57:\tlearn: 399.0672758\ttotal: 1.63s\tremaining: 1.18s\n",
      "58:\tlearn: 397.5164613\ttotal: 1.66s\tremaining: 1.15s\n",
      "59:\tlearn: 395.9031966\ttotal: 1.69s\tremaining: 1.13s\n",
      "60:\tlearn: 394.5358538\ttotal: 1.73s\tremaining: 1.1s\n",
      "61:\tlearn: 393.1625288\ttotal: 1.76s\tremaining: 1.08s\n",
      "62:\tlearn: 391.8493232\ttotal: 1.8s\tremaining: 1.05s\n",
      "63:\tlearn: 390.4225213\ttotal: 1.84s\tremaining: 1.03s\n",
      "64:\tlearn: 388.8782053\ttotal: 1.86s\tremaining: 1s\n",
      "65:\tlearn: 387.3642161\ttotal: 1.89s\tremaining: 973ms\n",
      "66:\tlearn: 386.1319221\ttotal: 1.91s\tremaining: 942ms\n",
      "67:\tlearn: 385.1902020\ttotal: 1.93s\tremaining: 910ms\n",
      "68:\tlearn: 384.0128782\ttotal: 1.95s\tremaining: 878ms\n",
      "69:\tlearn: 383.1110247\ttotal: 1.98s\tremaining: 847ms\n",
      "70:\tlearn: 382.1180154\ttotal: 2s\tremaining: 818ms\n",
      "71:\tlearn: 381.2341232\ttotal: 2.04s\tremaining: 794ms\n",
      "72:\tlearn: 380.3903552\ttotal: 2.09s\tremaining: 772ms\n",
      "73:\tlearn: 379.5239221\ttotal: 2.15s\tremaining: 754ms\n",
      "74:\tlearn: 378.5347009\ttotal: 2.18s\tremaining: 728ms\n",
      "75:\tlearn: 377.7327750\ttotal: 2.22s\tremaining: 701ms\n",
      "76:\tlearn: 376.9729290\ttotal: 2.25s\tremaining: 673ms\n",
      "77:\tlearn: 376.0448195\ttotal: 2.29s\tremaining: 645ms\n",
      "78:\tlearn: 375.2281637\ttotal: 2.31s\tremaining: 614ms\n",
      "79:\tlearn: 374.2980185\ttotal: 2.33s\tremaining: 584ms\n",
      "80:\tlearn: 373.3659405\ttotal: 2.35s\tremaining: 552ms\n",
      "81:\tlearn: 372.5304621\ttotal: 2.38s\tremaining: 522ms\n",
      "82:\tlearn: 371.9857101\ttotal: 2.4s\tremaining: 491ms\n",
      "83:\tlearn: 371.3069370\ttotal: 2.42s\tremaining: 460ms\n",
      "84:\tlearn: 370.5493036\ttotal: 2.45s\tremaining: 433ms\n",
      "85:\tlearn: 369.7590104\ttotal: 2.48s\tremaining: 404ms\n",
      "86:\tlearn: 368.9156783\ttotal: 2.52s\tremaining: 376ms\n",
      "87:\tlearn: 368.1254155\ttotal: 2.55s\tremaining: 348ms\n",
      "88:\tlearn: 367.5324204\ttotal: 2.58s\tremaining: 319ms\n",
      "89:\tlearn: 367.0481987\ttotal: 2.62s\tremaining: 291ms\n",
      "90:\tlearn: 366.4588957\ttotal: 2.65s\tremaining: 262ms\n",
      "91:\tlearn: 366.0480404\ttotal: 2.67s\tremaining: 233ms\n",
      "92:\tlearn: 365.5089902\ttotal: 2.7s\tremaining: 203ms\n",
      "93:\tlearn: 364.9998452\ttotal: 2.72s\tremaining: 173ms\n",
      "94:\tlearn: 364.3845862\ttotal: 2.74s\tremaining: 144ms\n",
      "95:\tlearn: 363.6754079\ttotal: 2.77s\tremaining: 115ms\n",
      "96:\tlearn: 363.0614411\ttotal: 2.79s\tremaining: 86.4ms\n",
      "97:\tlearn: 362.6881057\ttotal: 2.81s\tremaining: 57.4ms\n",
      "98:\tlearn: 362.2125469\ttotal: 2.84s\tremaining: 28.7ms\n",
      "99:\tlearn: 361.7841454\ttotal: 2.87s\tremaining: 0us\n",
      "RMSE: 362.07656911804673 Time Train: 3.26785 seconds Time Predict: 0.03191 seconds\n"
     ]
    }
   ],
   "source": [
    "catf = []\n",
    "modelCB = CatBoostRegressor(depth=7, learning_rate=0.04, loss_function=\"RMSE\", iterations=100, random_seed=12345)\n",
    "start_train = time.time()\n",
    "modelCB.fit(features_train, target_train, cat_features=catf)\n",
    "stop_train = time.time()\n",
    "start_predict = time.time()\n",
    "probabilitiesCB = modelCB.predict(features_valid)\n",
    "resultCB = np.sqrt(mean_squared_error(target_valid, probabilitiesCB))\n",
    "stop_predict = time.time()\n",
    "print('RMSE:', resultCB, 'Time Train:', round(stop_train - start_train,5), 'seconds', 'Time Predict:', round(stop_predict - start_predict,5), 'seconds')"
   ]
  },
  {
   "cell_type": "markdown",
   "metadata": {},
   "source": [
    "### 5.7 XGBoost"
   ]
  },
  {
   "cell_type": "markdown",
   "metadata": {},
   "source": [
    "Concluiremos con un último modelo de potenciación de gradiente, XGBoost."
   ]
  },
  {
   "cell_type": "code",
   "execution_count": 45,
   "metadata": {},
   "outputs": [],
   "source": [
    "xgb_model = xgb.XGBRegressor() \n",
    "xgb_params = {'max_depth': [1,2,3,4,5,6,7,8,9,10], 'eta': [0,0.2,0.4,0.6,0.8,1]}"
   ]
  },
  {
   "cell_type": "code",
   "execution_count": 46,
   "metadata": {},
   "outputs": [
    {
     "data": {
      "text/plain": [
       "{'eta': 0.2, 'max_depth': 3}"
      ]
     },
     "execution_count": 46,
     "metadata": {},
     "output_type": "execute_result"
    }
   ],
   "source": [
    "clf = GridSearchCV(estimator=xgb_model, param_grid =xgb_params, scoring='neg_mean_squared_error',  n_jobs=-1)\n",
    "clf.fit(features_train_sample, target_train_sample)\n",
    "clf.best_params_"
   ]
  },
  {
   "cell_type": "code",
   "execution_count": 44,
   "metadata": {},
   "outputs": [
    {
     "name": "stdout",
     "output_type": "stream",
     "text": [
      "RMSE: 340.6366895646541 Time Train: 3.35101 seconds Time Predict: 0.04488 seconds\n"
     ]
    }
   ],
   "source": [
    "xgb_model = xgb.XGBRegressor(eta=0.2,\n",
    "    max_depth=3,\n",
    "    random_state=12345)\n",
    "start_train = time.time()\n",
    "xgb_model.fit(features_train, target_train) \n",
    "stop_train = time.time()\n",
    "start_predict = time.time()\n",
    "preds_xgb_model = xgb_model.predict(features_valid)\n",
    "resultXGB = np.sqrt(mean_squared_error(target_valid, preds_xgb_model))\n",
    "stop_predict = time.time()\n",
    "print('RMSE:', resultXGB, 'Time Train:', round(stop_train - start_train,5), 'seconds', 'Time Predict:', round(stop_predict - start_predict,5), 'seconds')"
   ]
  },
  {
   "cell_type": "markdown",
   "metadata": {},
   "source": [
    "## Análisis del modelo"
   ]
  },
  {
   "cell_type": "markdown",
   "metadata": {},
   "source": [
    "Al comparar los distintos modelos creados, utilizando como prueba de cordura el modelo en base a la regresión lineal que posee un RMSE de 543, un tiempo de entrenamiento de 0,14 segundos y un tiempo de predicción de 0,005 segundos, en general todos los modelos basados en potenciación de gradiente cumplen con un mejor error cuadrático medio que nuestra prueba de cordura, por otra parte con respecto al tiempo de entrenamiento y predicción son mayores que en el modelo de regresión lineal pero en pequeñas cantidades. \n",
    "\n",
    "De los tres modelos de potenciación de gradiente el que mejor desempeño tiene con respecto al RMSE es el basado en XGBoost con un resultado de 340, con respecto al tiempo de entrenamiento el mejor resultado fue con el modelo en base a LightGBM con un resultado de 0,5 segundos, finalmente para el tiempo de predicción el mejor resultado lo posee el modelo en base a CatBoost con un resultado de 0,03 segundos. Entre los tres modelos el que posee los mejores resultados ponderados es el LightGBM teniendo el mejor tiempo de entrenamiento, un sexto de tiempo del siguiente modelo, solo posee 7 puntos de diferencia en el RMSE con respecto al modelo XGBoost y para el tiempo de predicción es el doble del modelo CatBoost pero sigue siendo un valor mínimo de 0,08 segundos.\n",
    "\n",
    " Finalmente es de considerar que el modelo basado en ramdon forest posee un buen valor de EMSE en comparación con los modelos de potenciación de gradiente pero el tiempo de entrenamiento asciende a magnitudes mucho mayores que el resto de los modelos llegando en este caso a demorarse alrededor de 13 horas por lo que es descartado inmediatamente.\n"
   ]
  }
 ],
 "metadata": {
  "kernelspec": {
   "display_name": "Python 3 (ipykernel)",
   "language": "python",
   "name": "python3"
  },
  "language_info": {
   "codemirror_mode": {
    "name": "ipython",
    "version": 3
   },
   "file_extension": ".py",
   "mimetype": "text/x-python",
   "name": "python",
   "nbconvert_exporter": "python",
   "pygments_lexer": "ipython3",
   "version": "3.9.13"
  },
  "toc": {
   "base_numbering": 1,
   "nav_menu": {},
   "number_sections": true,
   "sideBar": true,
   "skip_h1_title": true,
   "title_cell": "Table of Contents",
   "title_sidebar": "Contents",
   "toc_cell": false,
   "toc_position": {},
   "toc_section_display": true,
   "toc_window_display": false
  }
 },
 "nbformat": 4,
 "nbformat_minor": 2
}
