{
 "cells": [
  {
   "cell_type": "markdown",
   "metadata": {},
   "source": [
    "## OilyGiant"
   ]
  },
  {
   "cell_type": "markdown",
   "metadata": {},
   "source": [
    "## 1. Contenido"
   ]
  },
  {
   "cell_type": "markdown",
   "metadata": {},
   "source": [
    "* [1 Contenido](#content)\n",
    "* [2 Introducción](#intro)\n",
    "* [3 Inicialización](#inic)\n",
    "    * [3.1 Cargar Librerias](#library)\n",
    "    * [3.2 Cargar Datos](#datos)\n",
    "* [4 Exploración de los datos](#exp)     \n",
    "* [5 Entrenamiento del modelo](#model) \n",
    "    * [5.1 Región 0](#reg0)\n",
    "    * [5.2 Región 1](#reg1)\n",
    "    * [5.3 Región 2](#reg2)\n",
    "* [6 Preparación cálculo ganancias](#prep) \n",
    "* [7 Función cálculo ganancias](#func)\n",
    "    * [7.1 Beneficios región 0](#func0)\n",
    "    * [7.2 Beneficios región 1](#func1)\n",
    "    * [7.3 Beneficios región 2](#func2)        \n",
    "* [8 Cálculo riesgo y ganancias final](#calculo)  \n",
    "    * [8.1 Riesgo y ganancias región 0](#calculo0)\n",
    "    * [8.2 Riesgo y ganancias región 1](#calculo1)\n",
    "    * [8.3 Riesgo y ganancias región 2](#calculo2) \n",
    "    * [8.4 Elección final](#final) \n",
    "* [9 Conclusiones](#end)"
   ]
  },
  {
   "cell_type": "markdown",
   "metadata": {},
   "source": [
    "## 2. Introducción"
   ]
  },
  {
   "cell_type": "markdown",
   "metadata": {},
   "source": [
    "En el presente proyecto la compañía minera OilyGiant nos ha solicitado encontrar la mejor ubicación para un nuevo pozo de petróleo, para esto se procederá a desarrollar un modelo para predecir los volúmenes de reservas en los nuevos pozos, seleccionar los pozos con los valores estimados más altos y finalmente elegir la región que un mayor beneficio total para los pozos seleccionados.\n",
    "\n",
    "Comenzaremos revisando los dataset proporcionados, comprobaremos modelos para las distintas regiones, crearemos una función para calcular las ganancias en cada región y analizaremos los riesgos y beneficios potenciales utilizando bootstrapping."
   ]
  },
  {
   "cell_type": "markdown",
   "metadata": {},
   "source": [
    "## 3. Inicialización"
   ]
  },
  {
   "cell_type": "markdown",
   "metadata": {},
   "source": [
    "### 3.1. Cargar librerias"
   ]
  },
  {
   "cell_type": "markdown",
   "metadata": {},
   "source": [
    "Se procede a cargar las librerías que se utilizaran en el proyecto."
   ]
  },
  {
   "cell_type": "code",
   "execution_count": 1,
   "metadata": {},
   "outputs": [],
   "source": [
    "import pandas as pd\n",
    "from sklearn.model_selection import train_test_split\n",
    "from sklearn.linear_model import LinearRegression\n",
    "from sklearn.metrics import mean_squared_error\n",
    "import numpy as np\n",
    "from sklearn.model_selection import cross_val_score\n",
    "import matplotlib.pyplot as plt"
   ]
  },
  {
   "cell_type": "markdown",
   "metadata": {},
   "source": [
    "### 3.2. Cargar datos"
   ]
  },
  {
   "cell_type": "markdown",
   "metadata": {},
   "source": [
    "Se procede a cargar los datos."
   ]
  },
  {
   "cell_type": "code",
   "execution_count": 2,
   "metadata": {},
   "outputs": [],
   "source": [
    "data_0 = pd.read_csv('datasets/geo_data_0.csv')\n",
    "data_1 = pd.read_csv('datasets/geo_data_1.csv')\n",
    "data_2 = pd.read_csv('datasets/geo_data_2.csv')"
   ]
  },
  {
   "cell_type": "markdown",
   "metadata": {},
   "source": [
    "## 4. Exploración de los datos"
   ]
  },
  {
   "cell_type": "markdown",
   "metadata": {},
   "source": [
    "A continuación, procederemos a realizar un análisis sobre los datos entregados por OilyGiant."
   ]
  },
  {
   "cell_type": "code",
   "execution_count": 3,
   "metadata": {},
   "outputs": [
    {
     "name": "stdout",
     "output_type": "stream",
     "text": [
      "<class 'pandas.core.frame.DataFrame'>\n",
      "RangeIndex: 100000 entries, 0 to 99999\n",
      "Data columns (total 5 columns):\n",
      " #   Column   Non-Null Count   Dtype  \n",
      "---  ------   --------------   -----  \n",
      " 0   id       100000 non-null  object \n",
      " 1   f0       100000 non-null  float64\n",
      " 2   f1       100000 non-null  float64\n",
      " 3   f2       100000 non-null  float64\n",
      " 4   product  100000 non-null  float64\n",
      "dtypes: float64(4), object(1)\n",
      "memory usage: 3.8+ MB\n",
      "None\n",
      "\n",
      "<class 'pandas.core.frame.DataFrame'>\n",
      "RangeIndex: 100000 entries, 0 to 99999\n",
      "Data columns (total 5 columns):\n",
      " #   Column   Non-Null Count   Dtype  \n",
      "---  ------   --------------   -----  \n",
      " 0   id       100000 non-null  object \n",
      " 1   f0       100000 non-null  float64\n",
      " 2   f1       100000 non-null  float64\n",
      " 3   f2       100000 non-null  float64\n",
      " 4   product  100000 non-null  float64\n",
      "dtypes: float64(4), object(1)\n",
      "memory usage: 3.8+ MB\n",
      "None\n",
      "\n",
      "<class 'pandas.core.frame.DataFrame'>\n",
      "RangeIndex: 100000 entries, 0 to 99999\n",
      "Data columns (total 5 columns):\n",
      " #   Column   Non-Null Count   Dtype  \n",
      "---  ------   --------------   -----  \n",
      " 0   id       100000 non-null  object \n",
      " 1   f0       100000 non-null  float64\n",
      " 2   f1       100000 non-null  float64\n",
      " 3   f2       100000 non-null  float64\n",
      " 4   product  100000 non-null  float64\n",
      "dtypes: float64(4), object(1)\n",
      "memory usage: 3.8+ MB\n",
      "None\n",
      "\n"
     ]
    }
   ],
   "source": [
    "for data in (data_0, data_1, data_2):\n",
    "    print(data.info())\n",
    "    print()"
   ]
  },
  {
   "cell_type": "markdown",
   "metadata": {},
   "source": [
    "En una primera observación podemos apreciar que los tres datasets no presentan datos ausentes y el tipo de datos de sus columnas son los correctos, procederemos a dar un vistazo más detallado y a realizar algunas pruebas a los mismos. "
   ]
  },
  {
   "cell_type": "code",
   "execution_count": 4,
   "metadata": {},
   "outputs": [
    {
     "name": "stdout",
     "output_type": "stream",
     "text": [
      "      id        f0        f1        f2     product\n",
      "0  txEyH  0.705745 -0.497823  1.221170  105.280062\n",
      "1  2acmU  1.334711 -0.340164  4.365080   73.037750\n",
      "2  409Wp  1.022732  0.151990  1.419926   85.265647\n",
      "3  iJLyR -0.032172  0.139033  2.978566  168.620776\n",
      "4  Xdl7t  1.988431  0.155413  4.751769  154.036647\n",
      "\n",
      "      id         f0         f1        f2     product\n",
      "0  kBEdx -15.001348  -8.276000 -0.005876    3.179103\n",
      "1  62mP7  14.272088  -3.475083  0.999183   26.953261\n",
      "2  vyE1P   6.263187  -5.948386  5.001160  134.766305\n",
      "3  KcrkZ -13.081196 -11.506057  4.999415  137.945408\n",
      "4  AHL4O  12.702195  -8.147433  5.004363  134.766305\n",
      "\n",
      "      id        f0        f1        f2     product\n",
      "0  fwXo0 -1.146987  0.963328 -0.828965   27.758673\n",
      "1  WJtFt  0.262778  0.269839 -2.530187   56.069697\n",
      "2  ovLUW  0.194587  0.289035 -5.586433   62.871910\n",
      "3  q6cA6  2.236060 -0.553760  0.930038  114.572842\n",
      "4  WPMUX -0.515993  1.716266  5.899011  149.600746\n",
      "\n"
     ]
    }
   ],
   "source": [
    "for data in (data_0, data_1, data_2):\n",
    "    print(data.head())\n",
    "    print()"
   ]
  },
  {
   "cell_type": "code",
   "execution_count": 5,
   "metadata": {},
   "outputs": [
    {
     "name": "stdout",
     "output_type": "stream",
     "text": [
      "0\n",
      "0\n",
      "0\n"
     ]
    }
   ],
   "source": [
    "for data in (data_0, data_1, data_2):\n",
    "    print((data[data[\"product\"] < 0][\"product\"]).count())"
   ]
  },
  {
   "cell_type": "code",
   "execution_count": 6,
   "metadata": {},
   "outputs": [
    {
     "name": "stdout",
     "output_type": "stream",
     "text": [
      "10\n",
      "4\n",
      "4\n"
     ]
    }
   ],
   "source": [
    "for data in (data_0, data_1, data_2):\n",
    "    print(data[\"id\"].duplicated().sum())"
   ]
  },
  {
   "cell_type": "markdown",
   "metadata": {},
   "source": [
    "No se observan valores extraños en las columnas, los volúmenes de reservas de petróleo por pozo son todos mayores o iguales a cero lo cual es lo lógico, pero podemos observar filas duplicadas en los tres datasets al repetirse valores en la columna \"id\" que corresponde al identificador único de cada pozo, procederemos a analizar este punto en mayor detalle y a corregirlo de ser necesario."
   ]
  },
  {
   "cell_type": "code",
   "execution_count": 7,
   "metadata": {},
   "outputs": [
    {
     "data": {
      "text/html": [
       "<div>\n",
       "<style scoped>\n",
       "    .dataframe tbody tr th:only-of-type {\n",
       "        vertical-align: middle;\n",
       "    }\n",
       "\n",
       "    .dataframe tbody tr th {\n",
       "        vertical-align: top;\n",
       "    }\n",
       "\n",
       "    .dataframe thead th {\n",
       "        text-align: right;\n",
       "    }\n",
       "</style>\n",
       "<table border=\"1\" class=\"dataframe\">\n",
       "  <thead>\n",
       "    <tr style=\"text-align: right;\">\n",
       "      <th></th>\n",
       "      <th>id</th>\n",
       "      <th>f0</th>\n",
       "      <th>f1</th>\n",
       "      <th>f2</th>\n",
       "      <th>product</th>\n",
       "    </tr>\n",
       "  </thead>\n",
       "  <tbody>\n",
       "    <tr>\n",
       "      <th>7530</th>\n",
       "      <td>HZww2</td>\n",
       "      <td>1.061194</td>\n",
       "      <td>-0.373969</td>\n",
       "      <td>10.430210</td>\n",
       "      <td>158.828695</td>\n",
       "    </tr>\n",
       "    <tr>\n",
       "      <th>41724</th>\n",
       "      <td>bxg6G</td>\n",
       "      <td>-0.823752</td>\n",
       "      <td>0.546319</td>\n",
       "      <td>3.630479</td>\n",
       "      <td>93.007798</td>\n",
       "    </tr>\n",
       "    <tr>\n",
       "      <th>51970</th>\n",
       "      <td>A5aEY</td>\n",
       "      <td>-0.180335</td>\n",
       "      <td>0.935548</td>\n",
       "      <td>-2.094773</td>\n",
       "      <td>33.020205</td>\n",
       "    </tr>\n",
       "    <tr>\n",
       "      <th>63593</th>\n",
       "      <td>QcMuo</td>\n",
       "      <td>0.635635</td>\n",
       "      <td>-0.473422</td>\n",
       "      <td>0.862670</td>\n",
       "      <td>64.578675</td>\n",
       "    </tr>\n",
       "    <tr>\n",
       "      <th>66136</th>\n",
       "      <td>74z30</td>\n",
       "      <td>1.084962</td>\n",
       "      <td>-0.312358</td>\n",
       "      <td>6.990771</td>\n",
       "      <td>127.643327</td>\n",
       "    </tr>\n",
       "    <tr>\n",
       "      <th>69163</th>\n",
       "      <td>AGS9W</td>\n",
       "      <td>-0.933795</td>\n",
       "      <td>0.116194</td>\n",
       "      <td>-3.655896</td>\n",
       "      <td>19.230453</td>\n",
       "    </tr>\n",
       "    <tr>\n",
       "      <th>75715</th>\n",
       "      <td>Tdehs</td>\n",
       "      <td>0.112079</td>\n",
       "      <td>0.430296</td>\n",
       "      <td>3.218993</td>\n",
       "      <td>60.964018</td>\n",
       "    </tr>\n",
       "    <tr>\n",
       "      <th>90815</th>\n",
       "      <td>fiKDv</td>\n",
       "      <td>0.049883</td>\n",
       "      <td>0.841313</td>\n",
       "      <td>6.394613</td>\n",
       "      <td>137.346586</td>\n",
       "    </tr>\n",
       "    <tr>\n",
       "      <th>92341</th>\n",
       "      <td>TtcGQ</td>\n",
       "      <td>0.110711</td>\n",
       "      <td>1.022689</td>\n",
       "      <td>0.911381</td>\n",
       "      <td>101.318008</td>\n",
       "    </tr>\n",
       "    <tr>\n",
       "      <th>97785</th>\n",
       "      <td>bsk9y</td>\n",
       "      <td>0.378429</td>\n",
       "      <td>0.005837</td>\n",
       "      <td>0.160827</td>\n",
       "      <td>160.637302</td>\n",
       "    </tr>\n",
       "  </tbody>\n",
       "</table>\n",
       "</div>"
      ],
      "text/plain": [
       "          id        f0        f1         f2     product\n",
       "7530   HZww2  1.061194 -0.373969  10.430210  158.828695\n",
       "41724  bxg6G -0.823752  0.546319   3.630479   93.007798\n",
       "51970  A5aEY -0.180335  0.935548  -2.094773   33.020205\n",
       "63593  QcMuo  0.635635 -0.473422   0.862670   64.578675\n",
       "66136  74z30  1.084962 -0.312358   6.990771  127.643327\n",
       "69163  AGS9W -0.933795  0.116194  -3.655896   19.230453\n",
       "75715  Tdehs  0.112079  0.430296   3.218993   60.964018\n",
       "90815  fiKDv  0.049883  0.841313   6.394613  137.346586\n",
       "92341  TtcGQ  0.110711  1.022689   0.911381  101.318008\n",
       "97785  bsk9y  0.378429  0.005837   0.160827  160.637302"
      ]
     },
     "execution_count": 7,
     "metadata": {},
     "output_type": "execute_result"
    }
   ],
   "source": [
    "data_0[data_0[\"id\"].duplicated()]"
   ]
  },
  {
   "cell_type": "code",
   "execution_count": 8,
   "metadata": {},
   "outputs": [
    {
     "name": "stdout",
     "output_type": "stream",
     "text": [
      "         id        f0        f1         f2     product\n",
      "931   HZww2  0.755284  0.368511   1.863211   30.681774\n",
      "7530  HZww2  1.061194 -0.373969  10.430210  158.828695\n",
      "\n",
      "          id        f0        f1        f2    product\n",
      "1364   bxg6G  0.411645  0.856830 -3.653440  73.604260\n",
      "41724  bxg6G -0.823752  0.546319  3.630479  93.007798\n",
      "\n",
      "          id        f0        f1        f2    product\n",
      "3389   A5aEY -0.039949  0.156872  0.209861  89.249364\n",
      "51970  A5aEY -0.180335  0.935548 -2.094773  33.020205\n",
      "\n"
     ]
    }
   ],
   "source": [
    "for ids in (\"HZww2\", \"bxg6G\", \"A5aEY\"):\n",
    "    print(data_0[data_0[\"id\"] == ids])\n",
    "    print()"
   ]
  },
  {
   "cell_type": "markdown",
   "metadata": {},
   "source": [
    "Podemos observar que los \"id\" duplicados no poseen relación entre ellos en el resto de las columnas de cada fila, podemos suponer que hubo algún error de tipeo al escribir el identificador único de los pozos, pero sin mayor información no se puede llegar a una conclusión certera. En este caso como la cantidad de filas con ids duplicados son mínimas, la mayor cantidad en uno de los dataframes son 10 filas de 100 mil, conservaremos estas filas ya que no poseen una mayor influencia en los resultados que obtendremos."
   ]
  },
  {
   "cell_type": "markdown",
   "metadata": {},
   "source": [
    "## 5. Entrenamiento del modelo"
   ]
  },
  {
   "cell_type": "markdown",
   "metadata": {},
   "source": [
    "Comenzaremos entrenando un modelo con todos los datos que poseemos, posteriormente para cada región utilizaremos el modelo para predecir el volumen promedio de reservas de petróleo que tendrá la región y el error cuadrático medio del modelo."
   ]
  },
  {
   "cell_type": "code",
   "execution_count": 9,
   "metadata": {},
   "outputs": [],
   "source": [
    "data_full = pd.concat([data_0,data_1,data_2], axis=0)"
   ]
  },
  {
   "cell_type": "code",
   "execution_count": 10,
   "metadata": {},
   "outputs": [],
   "source": [
    "features_full = data_full.drop(['id', 'product'], axis=1)\n",
    "target_full = data_full['product']"
   ]
  },
  {
   "cell_type": "code",
   "execution_count": 11,
   "metadata": {},
   "outputs": [],
   "source": [
    "features_train_full, features_valid_full, target_train_full, target_valid_full = train_test_split(\n",
    "    features_full, target_full, test_size=0.25, random_state=12345)"
   ]
  },
  {
   "cell_type": "code",
   "execution_count": 12,
   "metadata": {},
   "outputs": [
    {
     "data": {
      "text/plain": [
       "LinearRegression()"
      ]
     },
     "execution_count": 12,
     "metadata": {},
     "output_type": "execute_result"
    }
   ],
   "source": [
    "model = LinearRegression()\n",
    "model.fit(features_train_full, target_train_full)"
   ]
  },
  {
   "cell_type": "markdown",
   "metadata": {},
   "source": [
    "### 5.1. Región 0"
   ]
  },
  {
   "cell_type": "code",
   "execution_count": 13,
   "metadata": {},
   "outputs": [],
   "source": [
    "features_0 = data_0.drop(['id', 'product'], axis=1)\n",
    "target_0 = data_0['product']"
   ]
  },
  {
   "cell_type": "code",
   "execution_count": 14,
   "metadata": {},
   "outputs": [],
   "source": [
    "features_train_0, features_valid_0, target_train_0, target_valid_0 = train_test_split(\n",
    "    features_0, target_0, test_size=0.25, random_state=12345)"
   ]
  },
  {
   "cell_type": "code",
   "execution_count": 15,
   "metadata": {},
   "outputs": [],
   "source": [
    "predictions_valid_0 = model.predict(features_valid_0)"
   ]
  },
  {
   "cell_type": "code",
   "execution_count": 16,
   "metadata": {},
   "outputs": [
    {
     "name": "stdout",
     "output_type": "stream",
     "text": [
      "RECM del modelo de regresión lineal en el conjunto de validación: 39.63528714005472\n",
      "volumen promedio de las reservas previstas: 88.39547292150853\n"
     ]
    }
   ],
   "source": [
    "result_0 = (mean_squared_error(target_valid_0, predictions_valid_0))**0.5\n",
    "print( \"RECM del modelo de regresión lineal en el conjunto de validación:\", result_0)\n",
    "print( \"volumen promedio de las reservas previstas:\",predictions_valid_0.mean())"
   ]
  },
  {
   "cell_type": "markdown",
   "metadata": {},
   "source": [
    "Podemos observar que el promedio barriles predichos en la región 0 es de 88 mil barriles con un error cuadrático medio de 39 mil barriles, es de notar que el error del modelo es bastante alto pudiendo variar los resultados en alrededor de un 44% de su valor promedio."
   ]
  },
  {
   "cell_type": "markdown",
   "metadata": {},
   "source": [
    "### 5.2. Región 1"
   ]
  },
  {
   "cell_type": "code",
   "execution_count": 17,
   "metadata": {},
   "outputs": [],
   "source": [
    "features_1 = data_1.drop(['id', 'product'], axis=1)\n",
    "target_1 = data_1['product']"
   ]
  },
  {
   "cell_type": "code",
   "execution_count": 18,
   "metadata": {},
   "outputs": [],
   "source": [
    "features_train_1, features_valid_1, target_train_1, target_valid_1 = train_test_split(\n",
    "    features_1, target_1, test_size=0.25, random_state=12345)"
   ]
  },
  {
   "cell_type": "code",
   "execution_count": 19,
   "metadata": {},
   "outputs": [],
   "source": [
    "predictions_valid_1 = model.predict(features_valid_1)"
   ]
  },
  {
   "cell_type": "code",
   "execution_count": 20,
   "metadata": {},
   "outputs": [
    {
     "name": "stdout",
     "output_type": "stream",
     "text": [
      "RECM del modelo de regresión lineal en el conjunto de validación: 34.408842617611725\n",
      "volumen promedio de las reservas previstas: 79.7412579590614\n"
     ]
    }
   ],
   "source": [
    "result_1 = (mean_squared_error(target_valid_1, predictions_valid_1))**0.5\n",
    "print( \"RECM del modelo de regresión lineal en el conjunto de validación:\", result_1)\n",
    "print( \"volumen promedio de las reservas previstas:\",predictions_valid_1.mean())"
   ]
  },
  {
   "cell_type": "markdown",
   "metadata": {},
   "source": [
    "En el caso de la región 1 el valor promedio desciende a 79 mil barriles por pozo con respecto a la región anterior, el error cuadrático medio es de alrededor de 34 mil barriles siendo a primera vista menor que en la región anterior, pero al analizar el porcentaje con respecto a la media este puede conllevar a una variación de alrededor de un 43% siendo casi igual que en el caso anterior."
   ]
  },
  {
   "cell_type": "markdown",
   "metadata": {},
   "source": [
    "### 5.3. Región 2"
   ]
  },
  {
   "cell_type": "code",
   "execution_count": 21,
   "metadata": {},
   "outputs": [],
   "source": [
    "features_2 = data_2.drop(['id', 'product'], axis=1)\n",
    "target_2 = data_2['product']"
   ]
  },
  {
   "cell_type": "code",
   "execution_count": 22,
   "metadata": {},
   "outputs": [],
   "source": [
    "features_train_2, features_valid_2, target_train_2, target_valid_2 = train_test_split(\n",
    "    features_2, target_2, test_size=0.25, random_state=12345)"
   ]
  },
  {
   "cell_type": "code",
   "execution_count": 23,
   "metadata": {},
   "outputs": [],
   "source": [
    "predictions_valid_2 = model.predict(features_valid_2)"
   ]
  },
  {
   "cell_type": "code",
   "execution_count": 24,
   "metadata": {},
   "outputs": [
    {
     "name": "stdout",
     "output_type": "stream",
     "text": [
      "RECM del modelo de regresión lineal en el conjunto de validación: 41.73759230661096\n",
      "volumen promedio de las reservas previstas: 88.11621408924618\n"
     ]
    }
   ],
   "source": [
    "result_2 = (mean_squared_error(target_valid_2, predictions_valid_2))**0.5\n",
    "print( \"RECM del modelo de regresión lineal en el conjunto de validación:\", result_2)\n",
    "print( \"volumen promedio de las reservas previstas:\",predictions_valid_2.mean())"
   ]
  },
  {
   "cell_type": "markdown",
   "metadata": {},
   "source": [
    "Finalmente, en la región 2 tenemos un valor promedio de 88 mil barriles por pozo, similar al de la región 0, pero con un error cuadrático medio mayor que en el primer caso, esto podría indicar la existencia de pozos con una cantidad menor de reservas de petróleo que en la región 0, pero a su vez ocurre lo mismo para pozos con una cantidad de reservas mayores."
   ]
  },
  {
   "cell_type": "markdown",
   "metadata": {},
   "source": [
    "## 6. Preparación cálculo ganancias"
   ]
  },
  {
   "cell_type": "markdown",
   "metadata": {},
   "source": [
    "Continuaremos realizando preparativos para poder en la siguiente sección crear una función para el cálculo de las ganancias. Definiremos los valores que se utilizarán en los cálculos de las ganancias y calcularemos el volumen de reservas de petróleo necesarias para poder hacer un nuevo pozo sin perdidas."
   ]
  },
  {
   "cell_type": "markdown",
   "metadata": {},
   "source": [
    "El valor de un barril de petróleo es de 4.5 USD, el volumen de reservas esta expresado en miles de barriles por lo que definiremos el ingreso por unidad producto en 4500 USD."
   ]
  },
  {
   "cell_type": "code",
   "execution_count": 25,
   "metadata": {},
   "outputs": [],
   "source": [
    "income_per_unit = 4500"
   ]
  },
  {
   "cell_type": "markdown",
   "metadata": {},
   "source": [
    "El presupuesto para el desarrollo de 200 pozos es de 100 millones de dólares, por lo que el costo para el desarrollo de un pozo es de 500 mil USD."
   ]
  },
  {
   "cell_type": "code",
   "execution_count": 26,
   "metadata": {},
   "outputs": [],
   "source": [
    "cost_per_pit = 500000"
   ]
  },
  {
   "cell_type": "markdown",
   "metadata": {},
   "source": [
    "Procederemos a calcular el volumen mínimo de reservas que debe de poseer un pozo para poder desarrollarlo sin perdidas."
   ]
  },
  {
   "cell_type": "code",
   "execution_count": 27,
   "metadata": {},
   "outputs": [
    {
     "data": {
      "text/plain": [
       "111.11111111111111"
      ]
     },
     "execution_count": 27,
     "metadata": {},
     "output_type": "execute_result"
    }
   ],
   "source": [
    "min_vol = cost_per_pit/income_per_unit\n",
    "min_vol"
   ]
  },
  {
   "cell_type": "markdown",
   "metadata": {},
   "source": [
    "Podemos observar que el mínimo volumen de reserva de barriles de petróleo que debe poseer un pozo para desarrollarlo sin perdidas es de 111 mil barriles, si observamos los valores promedios estimados en la sección anterior ninguna de las regiones se encuentra por este valor, las tres regiones se encuentran en un rango promedio entre los 79 y 89 mil barriles por pozo. Independiente de lo anterior, el modelo utilizado tiene un RECM de entre 34 y 41 mil barriles para las tres regiones por lo que considerando que en finalmente se estudiarán 500 pozos y solo se construirán los 200 mejores, es factible continuar con el proyecto buscando la región que posea el menor riesgo y la máxima utilidad."
   ]
  },
  {
   "cell_type": "markdown",
   "metadata": {},
   "source": [
    "## 7. Función de cálculo de ganancias"
   ]
  },
  {
   "cell_type": "markdown",
   "metadata": {},
   "source": [
    "Continuaremos definiendo una función para calcular los beneficios del subconjunto de los mejores 200 pozos de los predichos en la sección 5, posteriormente aplicaremos esta función en las tres regiones para calcular los máximos beneficios que estimamos que puedan producir."
   ]
  },
  {
   "cell_type": "code",
   "execution_count": 28,
   "metadata": {},
   "outputs": [],
   "source": [
    "def income(prediction):\n",
    "    listed = pd.Series(prediction)\n",
    "    sorted_listed = listed.sort_values(ascending=False)\n",
    "    top_200 = sorted_listed.head(200)\n",
    "    income_total = top_200*income_per_unit-cost_per_pit\n",
    "    return income_total"
   ]
  },
  {
   "cell_type": "markdown",
   "metadata": {},
   "source": [
    "### 7.1. Beneficios región 0"
   ]
  },
  {
   "cell_type": "code",
   "execution_count": 29,
   "metadata": {},
   "outputs": [
    {
     "data": {
      "text/plain": [
       "46663144.35412112"
      ]
     },
     "execution_count": 29,
     "metadata": {},
     "output_type": "execute_result"
    }
   ],
   "source": [
    "sum(income(predictions_valid_0))"
   ]
  },
  {
   "cell_type": "markdown",
   "metadata": {},
   "source": [
    "En la región 0 podemos apreciar que seleccionando los 200 mejores pozos del conjunto predicho obtenemos un beneficio de 46 millones 665 mil dólares aproximadamente, esto se obtiene después de restar los costos de inversión de cada pozo."
   ]
  },
  {
   "cell_type": "markdown",
   "metadata": {},
   "source": [
    "### 7.2. Beneficios región 1"
   ]
  },
  {
   "cell_type": "code",
   "execution_count": 30,
   "metadata": {},
   "outputs": [
    {
     "data": {
      "text/plain": [
       "7515239.851662675"
      ]
     },
     "execution_count": 30,
     "metadata": {},
     "output_type": "execute_result"
    }
   ],
   "source": [
    "sum(income(predictions_valid_1))"
   ]
  },
  {
   "cell_type": "markdown",
   "metadata": {},
   "source": [
    "Para el caso de la región 1 observamos una clara disminución de los beneficios seleccionando los 200 mejores pozos predichos en la sección 5, en este caso los beneficios son aproximadamente 7 millones 515 mil dólares, muy inferiores a los de la región 0."
   ]
  },
  {
   "cell_type": "markdown",
   "metadata": {},
   "source": [
    "### 7.3. Beneficios región 2"
   ]
  },
  {
   "cell_type": "code",
   "execution_count": 31,
   "metadata": {},
   "outputs": [
    {
     "data": {
      "text/plain": [
       "51141564.04552479"
      ]
     },
     "execution_count": 31,
     "metadata": {},
     "output_type": "execute_result"
    }
   ],
   "source": [
    "sum(income(predictions_valid_2))"
   ]
  },
  {
   "cell_type": "markdown",
   "metadata": {},
   "source": [
    "Para la región 2 los beneficios ascienden a aproximadamente 51 millones 141 mil dólares, superiores a los de las dos regiones antes exploradas, esto puede deberse a que como se observó en la sección 5 aunque en promedio tenían un volumen de reservas parecido al de la región 0 el error cuadrático era mayor por lo que daba pie a la existencia de pozos con volúmenes más extremos que la región 0."
   ]
  },
  {
   "cell_type": "markdown",
   "metadata": {},
   "source": [
    "Calculando las ganancias de los 200 mejores pozos predichos en cada región, podemos observar que los mejores resultados se dan en la región 2, en una primera instancia se recomendaría que esta fuera la región a explotar debido a lo anteriormente mencionado, pero también hay que considerar que puede que en esta región existan valores más extremos y esto a su vez genere un mayor riesgo al existir pozos con volúmenes de reserva mucho menores al promedio."
   ]
  },
  {
   "cell_type": "markdown",
   "metadata": {},
   "source": [
    "## 8. Cálculo riesgo y ganancias final"
   ]
  },
  {
   "cell_type": "markdown",
   "metadata": {},
   "source": [
    "Finalmente realizaremos un cálculo del beneficio promedios de cada región, el intervalo de confianza del 95% y el riesgo de perdidas, para esto utilizaremos la técnica del bootstrapping con 1000 muestras de 500 pozos cada una, de la cual seleccionaremos los 200 mejores y sobre estos últimos realizaremos los cálculos.\n",
    "\n",
    " Para poder realizar lo anteriormente descrito, actualizaremos la función creada en la sección anterior para que funcione con listas de listas debido a las 1000 muestras de 500 pozos que utilizaremos."
   ]
  },
  {
   "cell_type": "code",
   "execution_count": 32,
   "metadata": {},
   "outputs": [],
   "source": [
    "def income2(prediction):\n",
    "    vol_top = []\n",
    "    sorted_listed = list(map(sorted, prediction))\n",
    "    for sublist in sorted_listed:\n",
    "        sublist = pd.Series(sublist)\n",
    "        top_200 = sublist.tail(200)\n",
    "        vol_top.append(top_200)   \n",
    "        vol_top = pd.Series(vol_top)\n",
    "        income_top = (vol_top*income_per_unit-cost_per_pit)\n",
    "    return income_top"
   ]
  },
  {
   "cell_type": "code",
   "execution_count": 33,
   "metadata": {},
   "outputs": [],
   "source": [
    "def calculos(beneficios):\n",
    "    base = (sum(beneficios)/len(beneficios))\n",
    "    promedio = base.mean()\n",
    "    lower = base.quantile(0.025)\n",
    "    upper = base.quantile(0.975)\n",
    "    risk = sum(i < 0 for i in base)/len(base)\n",
    "    percentage = \"{0:.0%}\".format(risk)\n",
    "    return print(f'El beneficio promedio de la region es de {promedio} USD, el intervalo de confianza se encuentra entre {lower} y {upper} USD, el riesgo en la región es de un {percentage}')"
   ]
  },
  {
   "cell_type": "markdown",
   "metadata": {},
   "source": [
    "### 8.1. Riesgo y ganancias región 0"
   ]
  },
  {
   "cell_type": "markdown",
   "metadata": {},
   "source": [
    "Comenzaremos analizando la región 0."
   ]
  },
  {
   "cell_type": "code",
   "execution_count": 34,
   "metadata": {},
   "outputs": [],
   "source": [
    "state = np.random.RandomState(12345)"
   ]
  },
  {
   "cell_type": "code",
   "execution_count": 35,
   "metadata": {},
   "outputs": [],
   "source": [
    "pred_reg_0 = pd.Series(predictions_valid_0)"
   ]
  },
  {
   "cell_type": "code",
   "execution_count": 36,
   "metadata": {},
   "outputs": [],
   "source": [
    "values_0 = []\n",
    "for i in range(1000):\n",
    "    subsample = pred_reg_0.sample(n=500, replace=True, random_state=state)\n",
    "    values_0.append(subsample)"
   ]
  },
  {
   "cell_type": "code",
   "execution_count": 37,
   "metadata": {},
   "outputs": [
    {
     "name": "stderr",
     "output_type": "stream",
     "text": [
      "C:\\Users\\digom\\AppData\\Local\\Temp\\ipykernel_9400\\2740434434.py:7: FutureWarning: The series.append method is deprecated and will be removed from pandas in a future version. Use pandas.concat instead.\n",
      "  vol_top.append(top_200)\n"
     ]
    }
   ],
   "source": [
    "income_reg_0 = income2(values_0)"
   ]
  },
  {
   "cell_type": "code",
   "execution_count": 38,
   "metadata": {},
   "outputs": [
    {
     "data": {
      "text/plain": [
       "Text(0.5, 0, 'Benefits')"
      ]
     },
     "execution_count": 38,
     "metadata": {},
     "output_type": "execute_result"
    },
    {
     "data": {
      "image/png": "[encoded data removed]",
      "text/plain": [
       "<Figure size 640x480 with 1 Axes>"
      ]
     },
     "metadata": {},
     "output_type": "display_data"
    }
   ],
   "source": [
    "income_reg_0.hist(bins=50)\n",
    "plt.title('benefits region 0')\n",
    "plt.ylabel('Quantity of Wells')\n",
    "plt.xlabel('Benefits')"
   ]
  },
  {
   "cell_type": "markdown",
   "metadata": {},
   "source": [
    "Podemos observar la distribución de beneficios de la región tomando estas 1000 muestras de 500 pozos tomados al azar de las predicciones y posteriormente eligiendo los 200 mejores pozos de cada muestra, se aprecia que existe una gran cantidad de valores que se concentran en pérdidas por lo que procederemos a calcular los beneficios promedios."
   ]
  },
  {
   "cell_type": "code",
   "execution_count": 39,
   "metadata": {},
   "outputs": [
    {
     "name": "stdout",
     "output_type": "stream",
     "text": [
      "El beneficio promedio de la region es de 17247.3556776895 USD, el intervalo de confianza se encuentra entre -63152.487022795685 y 198284.69929921653 USD, el riesgo en la región es de un 47%\n"
     ]
    }
   ],
   "source": [
    "calculos(income_reg_0)"
   ]
  },
  {
   "cell_type": "markdown",
   "metadata": {},
   "source": [
    "### 8.2. Riesgo y ganancias región 1"
   ]
  },
  {
   "cell_type": "code",
   "execution_count": 40,
   "metadata": {},
   "outputs": [],
   "source": [
    "pred_reg_1 = pd.Series(predictions_valid_1)"
   ]
  },
  {
   "cell_type": "code",
   "execution_count": 41,
   "metadata": {},
   "outputs": [],
   "source": [
    "values_1 = []\n",
    "for i in range(1000):\n",
    "    subsample = pred_reg_1.sample(n=500, replace=True, random_state=state)\n",
    "    values_1.append(subsample)"
   ]
  },
  {
   "cell_type": "code",
   "execution_count": 42,
   "metadata": {},
   "outputs": [
    {
     "name": "stderr",
     "output_type": "stream",
     "text": [
      "C:\\Users\\digom\\AppData\\Local\\Temp\\ipykernel_9400\\2740434434.py:7: FutureWarning: The series.append method is deprecated and will be removed from pandas in a future version. Use pandas.concat instead.\n",
      "  vol_top.append(top_200)\n"
     ]
    }
   ],
   "source": [
    "income_reg_1 = income2(values_1)"
   ]
  },
  {
   "cell_type": "code",
   "execution_count": 43,
   "metadata": {},
   "outputs": [
    {
     "data": {
      "text/plain": [
       "Text(0.5, 0, 'Benefits')"
      ]
     },
     "execution_count": 43,
     "metadata": {},
     "output_type": "execute_result"
    },
    {
     "data": {
      "image/png": "[encoded data removed]",
      "text/plain": [
       "<Figure size 640x480 with 1 Axes>"
      ]
     },
     "metadata": {},
     "output_type": "display_data"
    }
   ],
   "source": [
    "income_reg_1.hist(bins=50)\n",
    "plt.title('benefits region 1')\n",
    "plt.ylabel('Quantity of Wells')\n",
    "plt.xlabel('Benefits')"
   ]
  },
  {
   "cell_type": "markdown",
   "metadata": {},
   "source": [
    "En el caso de la región 1 podemos apreciar que la mayor parte de la distribución de beneficios se encuentra en un rango de perdida."
   ]
  },
  {
   "cell_type": "code",
   "execution_count": 44,
   "metadata": {},
   "outputs": [
    {
     "name": "stdout",
     "output_type": "stream",
     "text": [
      "El beneficio promedio de la region es de -69331.58354753112 USD, el intervalo de confianza se encuentra entre -117594.11252202511 y 7122.114809576148 USD, el riesgo en la región es de un 94%\n"
     ]
    }
   ],
   "source": [
    "calculos(income_reg_1)"
   ]
  },
  {
   "cell_type": "markdown",
   "metadata": {},
   "source": [
    "### 8.3. Riesgo y ganancias región 2"
   ]
  },
  {
   "cell_type": "code",
   "execution_count": 45,
   "metadata": {},
   "outputs": [],
   "source": [
    "pred_reg_2 = pd.Series(predictions_valid_2)"
   ]
  },
  {
   "cell_type": "code",
   "execution_count": 46,
   "metadata": {},
   "outputs": [],
   "source": [
    "values_2 = []\n",
    "for i in range(1000):\n",
    "    subsample = pred_reg_2.sample(n=500, replace=True, random_state=state)\n",
    "    values_2.append(subsample)"
   ]
  },
  {
   "cell_type": "code",
   "execution_count": 47,
   "metadata": {},
   "outputs": [
    {
     "name": "stderr",
     "output_type": "stream",
     "text": [
      "C:\\Users\\digom\\AppData\\Local\\Temp\\ipykernel_9400\\2740434434.py:7: FutureWarning: The series.append method is deprecated and will be removed from pandas in a future version. Use pandas.concat instead.\n",
      "  vol_top.append(top_200)\n"
     ]
    }
   ],
   "source": [
    "income_reg_2 = income2(values_2)"
   ]
  },
  {
   "cell_type": "code",
   "execution_count": 48,
   "metadata": {},
   "outputs": [
    {
     "data": {
      "text/plain": [
       "Text(0.5, 0, 'Benefits')"
      ]
     },
     "execution_count": 48,
     "metadata": {},
     "output_type": "execute_result"
    },
    {
     "data": {
      "image/png": "[encoded data removed]",
      "text/plain": [
       "<Figure size 640x480 with 1 Axes>"
      ]
     },
     "metadata": {},
     "output_type": "display_data"
    }
   ],
   "source": [
    "income_reg_2.hist(bins=50)\n",
    "plt.title('benefits region 2')\n",
    "plt.ylabel('Quantity of Wells')\n",
    "plt.xlabel('Benefits')"
   ]
  },
  {
   "cell_type": "markdown",
   "metadata": {},
   "source": [
    "Parecido al primer caso, podemos observar una distribución de beneficios sesgada hacia la izquierda."
   ]
  },
  {
   "cell_type": "code",
   "execution_count": 49,
   "metadata": {},
   "outputs": [
    {
     "name": "stdout",
     "output_type": "stream",
     "text": [
      "El beneficio promedio de la region es de 33203.37418656224 USD, el intervalo de confianza se encuentra entre -59561.25962090466 y 213446.04723690773 USD, el riesgo en la región es de un 38%\n"
     ]
    }
   ],
   "source": [
    "calculos(income_reg_2)"
   ]
  },
  {
   "cell_type": "markdown",
   "metadata": {},
   "source": [
    "### 8.4. Elección final"
   ]
  },
  {
   "cell_type": "markdown",
   "metadata": {},
   "source": [
    "Finalmente, al comparar los beneficios y el riesgo de las tres regiones podemos concluir que la peor región para invertir es la región 1 con un 94% de riesgo, es decir es prácticamente seguro que el desarrollo de pozos en la misma no lograra cubrir los costes. Por otra parte, entre las dos regiones restantes la más segura para invertir es la región 2 teniendo un 38% de riesgo versus la región 0 que posee un 47% pero a su vez la región 2 también posee un ingreso promedio mayor, debido a estos dos factores es que se recomienda que se realizen los pozos en la región 2."
   ]
  },
  {
   "cell_type": "markdown",
   "metadata": {},
   "source": [
    "## 9. Conclusiones"
   ]
  },
  {
   "cell_type": "markdown",
   "metadata": {},
   "source": [
    "Comenzamos el proyecto realizando una rápida exploración a las base de datos entregadas por OilyGiant, encontrando valores de \"id\" duplicados en las tres bases de datos pero al no ser una cantidad relevante, un 0,01% de las filas en el peor de los casos, se mantuvieron. Independiente de lo anterior, no se encontraron problemas en ninguna de las otras columnas de la base de datos.\n",
    "\n",
    "Se procedió a entrenar la base de datos con una mezcla de los datos de todas las regiones para posteriormente realizar predicciones en cada región individualmente, aquí conseguimos observar que para la región 1 se predecían menores volúmenes de reservas de petróleo que para las regiones 0 y 2, las cuales poseían volúmenes similares.\n",
    "\n",
    "Continuamos definiendo valores que serían útiles para el cálculo de los beneficios y posteriormente definiendo una función para el cálculo de los mismos.\n",
    "\n",
    "Finalmente se procedió a utilizar el método de bootstrapping para obtener mil muestras de 500 pozos y posteriormente seleccionar los 200 mejores para evaluar los beneficios, esto según las indicaciones de OilyGiant de como llevan a cabo sus procesos. Al evaluar las tres regiones finalmente la más favorable fue la región 2 al poseer el beneficio promedio más alto de las tres, alrededor de los 33203 dólares, y la menor tasa de riesgo de un 38%, es decir que hay un 38% de probabilidades de obtener perdidas si se realizan los pozos en esta región versus un 47% en la región 0 y un 97% en la región 1. Es por lo anterior que se recomienda a OilyGiant que realice el desarrollo de sus pozos en la región 2, correspondiente a la base de datos data_2."
   ]
  }
 ],
 "metadata": {
  "ExecuteTimeLog": [
   {
    "duration": 53,
    "start_time": "2022-08-26T20:32:54.906Z"
   },
   {
    "duration": 363,
    "start_time": "2022-08-26T20:32:58.566Z"
   },
   {
    "duration": 724,
    "start_time": "2022-08-26T20:33:00.268Z"
   },
   {
    "duration": 31,
    "start_time": "2022-08-26T20:53:26.004Z"
   },
   {
    "duration": 29,
    "start_time": "2022-08-26T20:53:34.730Z"
   },
   {
    "duration": 30,
    "start_time": "2022-08-26T20:53:42.417Z"
   },
   {
    "duration": 11,
    "start_time": "2022-08-26T20:54:31.866Z"
   },
   {
    "duration": 48,
    "start_time": "2022-08-27T20:54:48.676Z"
   },
   {
    "duration": 433,
    "start_time": "2022-08-27T20:54:54.577Z"
   },
   {
    "duration": 792,
    "start_time": "2022-08-27T20:54:56.560Z"
   },
   {
    "duration": 5,
    "start_time": "2022-08-27T20:55:01.188Z"
   },
   {
    "duration": 33,
    "start_time": "2022-08-27T20:55:57.787Z"
   },
   {
    "duration": 678,
    "start_time": "2022-08-27T20:56:17.323Z"
   },
   {
    "duration": 14,
    "start_time": "2022-08-27T20:56:21.329Z"
   },
   {
    "duration": 6,
    "start_time": "2022-08-27T20:57:03.436Z"
   },
   {
    "duration": 12,
    "start_time": "2022-08-27T20:57:03.929Z"
   },
   {
    "duration": 45,
    "start_time": "2022-08-27T20:57:57.672Z"
   },
   {
    "duration": 22,
    "start_time": "2022-08-27T20:58:17.945Z"
   },
   {
    "duration": 17,
    "start_time": "2022-08-27T20:58:21.130Z"
   },
   {
    "duration": 3,
    "start_time": "2022-08-27T20:59:22.939Z"
   },
   {
    "duration": 19,
    "start_time": "2022-08-27T21:00:37.486Z"
   },
   {
    "duration": 15,
    "start_time": "2022-08-27T21:01:39.902Z"
   },
   {
    "duration": 12,
    "start_time": "2022-08-27T21:06:22.621Z"
   },
   {
    "duration": 2,
    "start_time": "2022-08-27T21:06:33.117Z"
   },
   {
    "duration": 774,
    "start_time": "2022-08-27T21:06:37.725Z"
   },
   {
    "duration": 983,
    "start_time": "2022-08-27T21:06:44.707Z"
   },
   {
    "duration": 978,
    "start_time": "2022-08-28T21:44:10.530Z"
   },
   {
    "duration": 714,
    "start_time": "2022-08-28T21:44:14.657Z"
   },
   {
    "duration": 4,
    "start_time": "2022-08-28T21:44:23.138Z"
   },
   {
    "duration": 11,
    "start_time": "2022-08-28T21:44:26.011Z"
   },
   {
    "duration": 704,
    "start_time": "2022-08-28T21:44:27.398Z"
   },
   {
    "duration": 830,
    "start_time": "2022-08-28T21:46:16.540Z"
   },
   {
    "duration": 587,
    "start_time": "2022-08-28T21:46:25.718Z"
   },
   {
    "duration": 587,
    "start_time": "2022-08-28T21:46:30.812Z"
   },
   {
    "duration": 1009,
    "start_time": "2022-08-28T21:46:41.346Z"
   },
   {
    "duration": 331,
    "start_time": "2022-08-28T21:46:42.357Z"
   },
   {
    "duration": 31,
    "start_time": "2022-08-28T21:46:42.690Z"
   },
   {
    "duration": 10,
    "start_time": "2022-08-28T21:46:42.723Z"
   },
   {
    "duration": 4,
    "start_time": "2022-08-28T21:46:43.078Z"
   },
   {
    "duration": 11,
    "start_time": "2022-08-28T21:46:43.084Z"
   },
   {
    "duration": 350,
    "start_time": "2022-08-28T21:46:43.353Z"
   },
   {
    "duration": 387,
    "start_time": "2022-08-28T21:47:54.021Z"
   },
   {
    "duration": 1293,
    "start_time": "2022-08-28T21:47:59.414Z"
   },
   {
    "duration": 403,
    "start_time": "2022-08-28T21:48:04.400Z"
   },
   {
    "duration": 240,
    "start_time": "2022-08-28T22:27:10.835Z"
   },
   {
    "duration": 3,
    "start_time": "2022-08-28T22:27:24.109Z"
   },
   {
    "duration": 19,
    "start_time": "2022-08-28T22:27:27.532Z"
   },
   {
    "duration": 14,
    "start_time": "2022-08-28T22:27:37.994Z"
   },
   {
    "duration": 6,
    "start_time": "2022-08-28T22:55:48.631Z"
   },
   {
    "duration": 3,
    "start_time": "2022-08-28T22:57:20.247Z"
   },
   {
    "duration": 4,
    "start_time": "2022-08-28T22:58:06.349Z"
   },
   {
    "duration": 2,
    "start_time": "2022-08-28T23:49:24.081Z"
   },
   {
    "duration": 3,
    "start_time": "2022-08-28T23:50:07.180Z"
   },
   {
    "duration": 8,
    "start_time": "2022-08-28T23:51:28.330Z"
   },
   {
    "duration": 421,
    "start_time": "2022-08-29T01:14:49.281Z"
   },
   {
    "duration": 403,
    "start_time": "2022-08-29T01:15:07.004Z"
   },
   {
    "duration": 389,
    "start_time": "2022-08-29T01:17:17.814Z"
   },
   {
    "duration": 426,
    "start_time": "2022-08-29T01:17:31.078Z"
   },
   {
    "duration": 410,
    "start_time": "2022-08-29T01:17:48.989Z"
   },
   {
    "duration": 339,
    "start_time": "2022-08-29T01:18:11.262Z"
   },
   {
    "duration": 103,
    "start_time": "2022-08-29T01:25:04.294Z"
   },
   {
    "duration": 21,
    "start_time": "2022-08-29T01:25:11.237Z"
   },
   {
    "duration": 93,
    "start_time": "2022-08-29T01:28:13.007Z"
   },
   {
    "duration": 16,
    "start_time": "2022-08-29T01:28:43.316Z"
   },
   {
    "duration": 5,
    "start_time": "2022-08-29T02:12:24.539Z"
   },
   {
    "duration": 10,
    "start_time": "2022-08-29T02:12:25.566Z"
   },
   {
    "duration": 10,
    "start_time": "2022-08-29T02:12:26.271Z"
   },
   {
    "duration": 5,
    "start_time": "2022-08-29T02:13:44.745Z"
   },
   {
    "duration": 5,
    "start_time": "2022-08-29T02:15:01.477Z"
   },
   {
    "duration": 9,
    "start_time": "2022-08-29T02:15:02.757Z"
   },
   {
    "duration": 12,
    "start_time": "2022-08-29T02:15:03.454Z"
   },
   {
    "duration": 4,
    "start_time": "2022-08-29T02:15:04.663Z"
   },
   {
    "duration": 5,
    "start_time": "2022-08-29T02:16:40.470Z"
   },
   {
    "duration": 11,
    "start_time": "2022-08-29T02:16:41.103Z"
   },
   {
    "duration": 11,
    "start_time": "2022-08-29T02:16:41.865Z"
   },
   {
    "duration": 6,
    "start_time": "2022-08-29T02:16:42.742Z"
   },
   {
    "duration": 6,
    "start_time": "2022-08-29T02:17:26.330Z"
   },
   {
    "duration": 11,
    "start_time": "2022-08-29T02:17:26.516Z"
   },
   {
    "duration": 10,
    "start_time": "2022-08-29T02:17:27.066Z"
   },
   {
    "duration": 4,
    "start_time": "2022-08-29T02:17:27.865Z"
   },
   {
    "duration": 4,
    "start_time": "2022-08-29T02:18:01.848Z"
   },
   {
    "duration": 8,
    "start_time": "2022-08-29T02:18:02.392Z"
   },
   {
    "duration": 12,
    "start_time": "2022-08-29T02:18:02.456Z"
   },
   {
    "duration": 4,
    "start_time": "2022-08-29T02:18:02.789Z"
   },
   {
    "duration": 2,
    "start_time": "2022-08-29T02:46:46.228Z"
   },
   {
    "duration": 2,
    "start_time": "2022-08-29T02:47:30.544Z"
   },
   {
    "duration": 6,
    "start_time": "2022-08-29T02:48:35.679Z"
   },
   {
    "duration": 4,
    "start_time": "2022-08-29T02:53:47.772Z"
   },
   {
    "duration": 4,
    "start_time": "2022-08-29T02:59:15.859Z"
   },
   {
    "duration": 3,
    "start_time": "2022-08-29T02:59:23.722Z"
   },
   {
    "duration": 4,
    "start_time": "2022-08-29T02:59:47.183Z"
   },
   {
    "duration": 4,
    "start_time": "2022-08-29T03:00:07.453Z"
   },
   {
    "duration": 3,
    "start_time": "2022-08-29T03:00:15.499Z"
   },
   {
    "duration": 4,
    "start_time": "2022-08-29T03:00:27.306Z"
   },
   {
    "duration": 4,
    "start_time": "2022-08-29T03:00:39.576Z"
   },
   {
    "duration": 2,
    "start_time": "2022-08-29T03:00:42.487Z"
   },
   {
    "duration": 2,
    "start_time": "2022-08-29T03:00:46.986Z"
   },
   {
    "duration": 4,
    "start_time": "2022-08-29T03:01:00.015Z"
   },
   {
    "duration": 4,
    "start_time": "2022-08-29T03:02:11.823Z"
   },
   {
    "duration": 11,
    "start_time": "2022-08-29T03:02:12.256Z"
   },
   {
    "duration": 15,
    "start_time": "2022-08-29T03:02:13.602Z"
   },
   {
    "duration": 83,
    "start_time": "2022-08-29T03:02:13.619Z"
   },
   {
    "duration": 7,
    "start_time": "2022-08-29T03:03:50.339Z"
   },
   {
    "duration": 5,
    "start_time": "2022-08-29T03:04:55.185Z"
   },
   {
    "duration": 7,
    "start_time": "2022-08-29T03:05:03.027Z"
   },
   {
    "duration": 8,
    "start_time": "2022-08-29T03:06:00.980Z"
   },
   {
    "duration": 7,
    "start_time": "2022-08-29T03:06:12.750Z"
   },
   {
    "duration": 8,
    "start_time": "2022-08-29T03:06:52.829Z"
   },
   {
    "duration": 8,
    "start_time": "2022-08-29T03:07:01.508Z"
   },
   {
    "duration": 3,
    "start_time": "2022-08-29T03:09:07.624Z"
   },
   {
    "duration": 5,
    "start_time": "2022-08-29T03:09:48.910Z"
   },
   {
    "duration": 10,
    "start_time": "2022-08-29T03:09:53.731Z"
   },
   {
    "duration": 8,
    "start_time": "2022-08-29T03:09:57.924Z"
   },
   {
    "duration": 9,
    "start_time": "2022-08-29T03:10:28.953Z"
   },
   {
    "duration": 6,
    "start_time": "2022-08-29T03:10:38.039Z"
   },
   {
    "duration": 7,
    "start_time": "2022-08-29T03:10:47.034Z"
   },
   {
    "duration": 7,
    "start_time": "2022-08-29T03:10:57.006Z"
   },
   {
    "duration": 7,
    "start_time": "2022-08-29T03:11:34.902Z"
   },
   {
    "duration": 6,
    "start_time": "2022-08-29T03:12:30.333Z"
   },
   {
    "duration": 7,
    "start_time": "2022-08-29T03:12:36.750Z"
   },
   {
    "duration": 3,
    "start_time": "2022-08-29T03:13:51.662Z"
   },
   {
    "duration": 5,
    "start_time": "2022-08-29T03:14:08.896Z"
   },
   {
    "duration": 7,
    "start_time": "2022-08-29T03:14:30.107Z"
   },
   {
    "duration": 5,
    "start_time": "2022-08-29T03:14:34.845Z"
   },
   {
    "duration": 3,
    "start_time": "2022-08-29T03:15:28.611Z"
   },
   {
    "duration": 5,
    "start_time": "2022-08-29T03:15:29.349Z"
   },
   {
    "duration": 6,
    "start_time": "2022-08-29T03:15:31.648Z"
   },
   {
    "duration": 4,
    "start_time": "2022-08-29T03:15:31.656Z"
   },
   {
    "duration": 3,
    "start_time": "2022-08-29T03:16:02.982Z"
   },
   {
    "duration": 5,
    "start_time": "2022-08-29T03:16:03.444Z"
   },
   {
    "duration": 7,
    "start_time": "2022-08-29T03:16:03.883Z"
   },
   {
    "duration": 4,
    "start_time": "2022-08-29T03:16:03.891Z"
   },
   {
    "duration": 5,
    "start_time": "2022-08-29T03:16:27.892Z"
   },
   {
    "duration": 5,
    "start_time": "2022-08-29T03:16:37.243Z"
   },
   {
    "duration": 5,
    "start_time": "2022-08-29T03:16:41.511Z"
   },
   {
    "duration": 2,
    "start_time": "2022-08-29T03:38:05.543Z"
   },
   {
    "duration": 9,
    "start_time": "2022-08-29T03:42:51.294Z"
   },
   {
    "duration": 5,
    "start_time": "2022-08-29T03:43:25.844Z"
   },
   {
    "duration": 9,
    "start_time": "2022-08-29T03:43:32.371Z"
   },
   {
    "duration": 10,
    "start_time": "2022-08-29T03:44:59.021Z"
   },
   {
    "duration": 323,
    "start_time": "2022-08-29T03:45:19.058Z"
   },
   {
    "duration": 316,
    "start_time": "2022-08-29T03:45:26.611Z"
   },
   {
    "duration": 4,
    "start_time": "2022-08-29T03:45:38.527Z"
   },
   {
    "duration": 4,
    "start_time": "2022-08-29T03:45:49.410Z"
   },
   {
    "duration": 334,
    "start_time": "2022-08-29T03:46:02.538Z"
   },
   {
    "duration": 3,
    "start_time": "2022-08-29T03:46:03.821Z"
   },
   {
    "duration": 3,
    "start_time": "2022-08-29T03:46:04.704Z"
   },
   {
    "duration": 339,
    "start_time": "2022-08-29T03:46:40.064Z"
   },
   {
    "duration": 4,
    "start_time": "2022-08-29T03:46:41.913Z"
   },
   {
    "duration": 3,
    "start_time": "2022-08-29T03:46:43.970Z"
   },
   {
    "duration": 3,
    "start_time": "2022-08-29T03:53:57.515Z"
   },
   {
    "duration": 3,
    "start_time": "2022-08-29T03:55:26.762Z"
   },
   {
    "duration": 3,
    "start_time": "2022-08-29T03:55:44.226Z"
   },
   {
    "duration": 3,
    "start_time": "2022-08-29T03:56:08.195Z"
   },
   {
    "duration": 4,
    "start_time": "2022-08-29T03:56:24.889Z"
   },
   {
    "duration": 46,
    "start_time": "2022-08-29T19:52:16.370Z"
   },
   {
    "duration": 1017,
    "start_time": "2022-08-29T19:52:24.368Z"
   },
   {
    "duration": 695,
    "start_time": "2022-08-29T19:52:25.890Z"
   },
   {
    "duration": 34,
    "start_time": "2022-08-29T19:52:30.611Z"
   },
   {
    "duration": 59,
    "start_time": "2022-08-29T19:53:30.682Z"
   },
   {
    "duration": 8,
    "start_time": "2022-08-29T19:53:40.587Z"
   },
   {
    "duration": 12,
    "start_time": "2022-08-29T19:53:50.600Z"
   },
   {
    "duration": 3,
    "start_time": "2022-08-29T20:02:02.313Z"
   },
   {
    "duration": 751,
    "start_time": "2022-08-29T20:02:10.292Z"
   },
   {
    "duration": 7,
    "start_time": "2022-08-29T20:02:19.211Z"
   },
   {
    "duration": 7,
    "start_time": "2022-08-29T20:03:34.225Z"
   },
   {
    "duration": 7,
    "start_time": "2022-08-29T20:03:39.329Z"
   },
   {
    "duration": 10,
    "start_time": "2022-08-29T20:06:49.576Z"
   },
   {
    "duration": 29,
    "start_time": "2022-08-29T20:06:58.986Z"
   },
   {
    "duration": 14,
    "start_time": "2022-08-29T20:08:44.805Z"
   },
   {
    "duration": 14,
    "start_time": "2022-08-29T20:09:04.159Z"
   },
   {
    "duration": 21,
    "start_time": "2022-08-29T20:09:26.602Z"
   },
   {
    "duration": 20,
    "start_time": "2022-08-29T20:09:52.422Z"
   },
   {
    "duration": 13,
    "start_time": "2022-08-29T20:12:19.479Z"
   },
   {
    "duration": 12,
    "start_time": "2022-08-29T20:12:31.636Z"
   },
   {
    "duration": 14,
    "start_time": "2022-08-29T20:12:57.288Z"
   },
   {
    "duration": 14,
    "start_time": "2022-08-29T20:32:11.147Z"
   },
   {
    "duration": 21,
    "start_time": "2022-08-29T20:32:26.728Z"
   },
   {
    "duration": 6,
    "start_time": "2022-08-29T20:32:52.316Z"
   },
   {
    "duration": 28,
    "start_time": "2022-08-29T20:33:17.074Z"
   },
   {
    "duration": 34,
    "start_time": "2022-08-29T20:33:37.316Z"
   },
   {
    "duration": 4,
    "start_time": "2022-08-29T20:34:31.196Z"
   },
   {
    "duration": 10,
    "start_time": "2022-08-29T20:34:31.583Z"
   },
   {
    "duration": 15,
    "start_time": "2022-08-29T20:34:32.431Z"
   },
   {
    "duration": 7,
    "start_time": "2022-08-29T20:34:32.665Z"
   },
   {
    "duration": 5,
    "start_time": "2022-08-29T20:34:53.163Z"
   },
   {
    "duration": 5,
    "start_time": "2022-08-29T20:35:05.515Z"
   },
   {
    "duration": 14,
    "start_time": "2022-08-29T20:35:05.806Z"
   },
   {
    "duration": 20,
    "start_time": "2022-08-29T20:35:06.139Z"
   },
   {
    "duration": 5,
    "start_time": "2022-08-29T20:35:06.537Z"
   },
   {
    "duration": 4,
    "start_time": "2022-08-29T20:35:12.816Z"
   },
   {
    "duration": 10,
    "start_time": "2022-08-29T20:35:13.081Z"
   },
   {
    "duration": 11,
    "start_time": "2022-08-29T20:35:13.321Z"
   },
   {
    "duration": 5,
    "start_time": "2022-08-29T20:35:13.667Z"
   },
   {
    "duration": 5,
    "start_time": "2022-08-29T20:35:43.048Z"
   },
   {
    "duration": 6,
    "start_time": "2022-08-29T20:36:05.795Z"
   },
   {
    "duration": 6,
    "start_time": "2022-08-29T20:36:38.038Z"
   },
   {
    "duration": 7,
    "start_time": "2022-08-29T20:37:02.099Z"
   },
   {
    "duration": 3,
    "start_time": "2022-08-29T20:56:11.580Z"
   },
   {
    "duration": 2,
    "start_time": "2022-08-29T20:56:53.402Z"
   },
   {
    "duration": 825,
    "start_time": "2022-08-29T20:57:39.690Z"
   },
   {
    "duration": 852,
    "start_time": "2022-08-29T20:57:47.565Z"
   },
   {
    "duration": 11,
    "start_time": "2022-08-29T21:16:44.167Z"
   },
   {
    "duration": 7,
    "start_time": "2022-08-29T21:16:58.957Z"
   },
   {
    "duration": 24,
    "start_time": "2022-08-29T21:17:27.639Z"
   },
   {
    "duration": 22,
    "start_time": "2022-08-29T21:17:47.058Z"
   },
   {
    "duration": 4,
    "start_time": "2022-08-29T21:22:08.083Z"
   },
   {
    "duration": 10,
    "start_time": "2022-08-29T21:22:08.753Z"
   },
   {
    "duration": 9,
    "start_time": "2022-08-29T21:22:09.340Z"
   },
   {
    "duration": 4,
    "start_time": "2022-08-29T21:22:11.387Z"
   },
   {
    "duration": 4,
    "start_time": "2022-08-29T21:22:44.209Z"
   },
   {
    "duration": 9,
    "start_time": "2022-08-29T21:22:44.626Z"
   },
   {
    "duration": 10,
    "start_time": "2022-08-29T21:22:45.195Z"
   },
   {
    "duration": 4,
    "start_time": "2022-08-29T21:22:45.827Z"
   },
   {
    "duration": 4,
    "start_time": "2022-08-29T21:23:00.696Z"
   },
   {
    "duration": 8,
    "start_time": "2022-08-29T21:23:01.288Z"
   },
   {
    "duration": 6,
    "start_time": "2022-08-29T21:23:01.874Z"
   },
   {
    "duration": 4,
    "start_time": "2022-08-29T21:23:02.658Z"
   },
   {
    "duration": 1009,
    "start_time": "2022-08-30T00:36:35.467Z"
   },
   {
    "duration": 709,
    "start_time": "2022-08-30T00:36:39.301Z"
   },
   {
    "duration": 17,
    "start_time": "2022-08-30T00:36:46.244Z"
   },
   {
    "duration": 7,
    "start_time": "2022-08-30T00:36:46.539Z"
   },
   {
    "duration": 38,
    "start_time": "2022-08-30T00:36:46.872Z"
   },
   {
    "duration": 28,
    "start_time": "2022-08-30T00:36:47.192Z"
   },
   {
    "duration": 4,
    "start_time": "2022-08-30T00:36:49.758Z"
   },
   {
    "duration": 10,
    "start_time": "2022-08-30T00:36:50.219Z"
   },
   {
    "duration": 7,
    "start_time": "2022-08-30T00:36:50.654Z"
   },
   {
    "duration": 28,
    "start_time": "2022-08-30T00:36:50.663Z"
   },
   {
    "duration": 5,
    "start_time": "2022-08-30T00:36:57.946Z"
   },
   {
    "duration": 21,
    "start_time": "2022-08-30T00:36:57.952Z"
   },
   {
    "duration": 5,
    "start_time": "2022-08-30T00:36:57.974Z"
   },
   {
    "duration": 14,
    "start_time": "2022-08-30T00:36:57.981Z"
   },
   {
    "duration": 5,
    "start_time": "2022-08-30T00:37:01.275Z"
   },
   {
    "duration": 12,
    "start_time": "2022-08-30T00:37:01.583Z"
   },
   {
    "duration": 6,
    "start_time": "2022-08-30T00:37:01.871Z"
   },
   {
    "duration": 5,
    "start_time": "2022-08-30T00:37:02.594Z"
   },
   {
    "duration": 3,
    "start_time": "2022-08-30T01:04:28.539Z"
   },
   {
    "duration": 2,
    "start_time": "2022-08-30T01:08:24.633Z"
   },
   {
    "duration": 4,
    "start_time": "2022-08-30T01:10:25.244Z"
   },
   {
    "duration": 84,
    "start_time": "2022-08-30T02:39:36.602Z"
   },
   {
    "duration": 2,
    "start_time": "2022-08-30T02:40:00.509Z"
   },
   {
    "duration": 7,
    "start_time": "2022-08-30T02:40:03.912Z"
   },
   {
    "duration": 6,
    "start_time": "2022-08-30T02:40:11.938Z"
   },
   {
    "duration": 3,
    "start_time": "2022-08-30T02:42:39.343Z"
   },
   {
    "duration": 7,
    "start_time": "2022-08-30T02:42:50.779Z"
   },
   {
    "duration": 6,
    "start_time": "2022-08-30T02:43:22.728Z"
   },
   {
    "duration": 6,
    "start_time": "2022-08-30T02:43:35.989Z"
   },
   {
    "duration": 17,
    "start_time": "2022-08-30T02:51:26.242Z"
   },
   {
    "duration": 46,
    "start_time": "2022-08-30T02:51:34.948Z"
   },
   {
    "duration": 26,
    "start_time": "2022-08-30T02:51:45.590Z"
   },
   {
    "duration": 25,
    "start_time": "2022-08-30T02:52:01.049Z"
   },
   {
    "duration": 84,
    "start_time": "2022-08-30T03:07:24.502Z"
   },
   {
    "duration": 39,
    "start_time": "2022-08-30T03:07:37.176Z"
   },
   {
    "duration": 75,
    "start_time": "2022-08-30T03:07:50.683Z"
   },
   {
    "duration": 29,
    "start_time": "2022-08-30T03:07:52.021Z"
   },
   {
    "duration": 59,
    "start_time": "2022-08-30T03:09:02.317Z"
   },
   {
    "duration": 30,
    "start_time": "2022-08-30T03:09:03.827Z"
   },
   {
    "duration": 51,
    "start_time": "2022-08-30T03:09:30.216Z"
   },
   {
    "duration": 72,
    "start_time": "2022-08-30T03:09:46.102Z"
   },
   {
    "duration": 40,
    "start_time": "2022-08-30T03:09:48.066Z"
   },
   {
    "duration": 1152,
    "start_time": "2022-08-30T13:44:38.396Z"
   },
   {
    "duration": 2006,
    "start_time": "2022-08-30T13:44:39.551Z"
   },
   {
    "duration": 38,
    "start_time": "2022-08-30T13:44:41.559Z"
   },
   {
    "duration": 12,
    "start_time": "2022-08-30T13:44:41.599Z"
   },
   {
    "duration": 12,
    "start_time": "2022-08-30T13:44:41.613Z"
   },
   {
    "duration": 67,
    "start_time": "2022-08-30T13:44:41.626Z"
   },
   {
    "duration": 30,
    "start_time": "2022-08-30T13:44:41.695Z"
   },
   {
    "duration": 29,
    "start_time": "2022-08-30T13:44:41.726Z"
   },
   {
    "duration": 48,
    "start_time": "2022-08-30T13:44:41.757Z"
   },
   {
    "duration": 9,
    "start_time": "2022-08-30T13:44:41.810Z"
   },
   {
    "duration": 47,
    "start_time": "2022-08-30T13:44:41.821Z"
   },
   {
    "duration": 42,
    "start_time": "2022-08-30T13:44:41.871Z"
   },
   {
    "duration": 8,
    "start_time": "2022-08-30T13:44:41.915Z"
   },
   {
    "duration": 25,
    "start_time": "2022-08-30T13:44:41.928Z"
   },
   {
    "duration": 49,
    "start_time": "2022-08-30T13:44:41.955Z"
   },
   {
    "duration": 192,
    "start_time": "2022-08-30T13:44:42.006Z"
   },
   {
    "duration": 17,
    "start_time": "2022-08-30T13:44:42.200Z"
   },
   {
    "duration": 25,
    "start_time": "2022-08-30T13:44:42.219Z"
   },
   {
    "duration": 15,
    "start_time": "2022-08-30T13:44:42.246Z"
   },
   {
    "duration": 140,
    "start_time": "2022-08-30T13:44:42.263Z"
   },
   {
    "duration": 10,
    "start_time": "2022-08-30T13:44:42.405Z"
   },
   {
    "duration": 37,
    "start_time": "2022-08-30T13:44:42.417Z"
   },
   {
    "duration": 8,
    "start_time": "2022-08-30T13:44:42.455Z"
   },
   {
    "duration": 128,
    "start_time": "2022-08-30T13:44:42.465Z"
   },
   {
    "duration": 3,
    "start_time": "2022-08-30T13:44:42.594Z"
   },
   {
    "duration": 10,
    "start_time": "2022-08-30T13:44:42.599Z"
   },
   {
    "duration": 16,
    "start_time": "2022-08-30T13:44:42.611Z"
   },
   {
    "duration": 6,
    "start_time": "2022-08-30T13:44:42.630Z"
   },
   {
    "duration": 12,
    "start_time": "2022-08-30T13:44:42.638Z"
   },
   {
    "duration": 9,
    "start_time": "2022-08-30T13:44:42.651Z"
   },
   {
    "duration": 32,
    "start_time": "2022-08-30T13:44:42.661Z"
   },
   {
    "duration": 105,
    "start_time": "2022-08-30T13:44:42.694Z"
   },
   {
    "duration": 0,
    "start_time": "2022-08-30T13:44:42.801Z"
   },
   {
    "duration": 0,
    "start_time": "2022-08-30T13:44:42.802Z"
   },
   {
    "duration": 0,
    "start_time": "2022-08-30T13:44:42.803Z"
   },
   {
    "duration": 3,
    "start_time": "2022-08-30T21:09:33.694Z"
   },
   {
    "duration": 15,
    "start_time": "2022-08-30T21:09:52.299Z"
   },
   {
    "duration": 3,
    "start_time": "2022-08-30T21:10:11.201Z"
   },
   {
    "duration": 9,
    "start_time": "2022-08-30T21:10:15.195Z"
   },
   {
    "duration": 6,
    "start_time": "2022-08-30T21:10:23.856Z"
   },
   {
    "duration": 9,
    "start_time": "2022-08-30T21:10:32.355Z"
   },
   {
    "duration": 4,
    "start_time": "2022-08-30T21:10:50.719Z"
   },
   {
    "duration": 539,
    "start_time": "2022-08-30T21:10:56.046Z"
   },
   {
    "duration": 8,
    "start_time": "2022-08-30T21:11:06.978Z"
   },
   {
    "duration": 490,
    "start_time": "2022-08-30T21:11:30.010Z"
   },
   {
    "duration": 766,
    "start_time": "2022-08-30T21:11:32.464Z"
   },
   {
    "duration": 324,
    "start_time": "2022-08-30T21:12:08.667Z"
   },
   {
    "duration": 279,
    "start_time": "2022-08-30T21:12:15.048Z"
   },
   {
    "duration": 169,
    "start_time": "2022-08-30T21:12:23.981Z"
   },
   {
    "duration": 136,
    "start_time": "2022-08-30T21:12:35.828Z"
   },
   {
    "duration": 4,
    "start_time": "2022-08-30T21:23:18.371Z"
   },
   {
    "duration": 4,
    "start_time": "2022-08-30T21:23:21.839Z"
   },
   {
    "duration": 16,
    "start_time": "2022-08-30T21:23:21.845Z"
   },
   {
    "duration": 547,
    "start_time": "2022-08-30T21:23:22.725Z"
   },
   {
    "duration": 151,
    "start_time": "2022-08-30T21:23:23.907Z"
   },
   {
    "duration": 152,
    "start_time": "2022-08-30T21:23:36.107Z"
   },
   {
    "duration": 164,
    "start_time": "2022-08-30T21:23:40.887Z"
   },
   {
    "duration": 6,
    "start_time": "2022-08-30T21:23:52.627Z"
   },
   {
    "duration": 534,
    "start_time": "2022-08-30T21:23:52.966Z"
   },
   {
    "duration": 143,
    "start_time": "2022-08-30T21:23:54.463Z"
   },
   {
    "duration": 3,
    "start_time": "2022-08-30T21:24:42.339Z"
   },
   {
    "duration": 3,
    "start_time": "2022-08-30T21:24:46.747Z"
   },
   {
    "duration": 10,
    "start_time": "2022-08-30T21:24:46.752Z"
   },
   {
    "duration": 535,
    "start_time": "2022-08-30T21:24:46.868Z"
   },
   {
    "duration": 127,
    "start_time": "2022-08-30T21:24:47.835Z"
   },
   {
    "duration": 6,
    "start_time": "2022-08-30T21:25:42.101Z"
   },
   {
    "duration": 489,
    "start_time": "2022-08-30T21:25:42.109Z"
   },
   {
    "duration": 135,
    "start_time": "2022-08-30T21:25:43.498Z"
   },
   {
    "duration": 6,
    "start_time": "2022-08-30T21:25:53.595Z"
   },
   {
    "duration": 521,
    "start_time": "2022-08-30T21:25:53.973Z"
   },
   {
    "duration": 140,
    "start_time": "2022-08-30T21:25:54.496Z"
   },
   {
    "duration": 3,
    "start_time": "2022-08-30T22:05:46.951Z"
   },
   {
    "duration": 9,
    "start_time": "2022-08-30T22:05:56.007Z"
   },
   {
    "duration": 8,
    "start_time": "2022-08-30T22:06:03.194Z"
   },
   {
    "duration": 8,
    "start_time": "2022-08-30T22:06:09.615Z"
   },
   {
    "duration": 4,
    "start_time": "2022-08-30T22:06:48.710Z"
   },
   {
    "duration": 6,
    "start_time": "2022-08-30T22:06:49.439Z"
   },
   {
    "duration": 507,
    "start_time": "2022-08-30T22:06:53.682Z"
   },
   {
    "duration": 488,
    "start_time": "2022-08-30T22:07:08.480Z"
   },
   {
    "duration": 143,
    "start_time": "2022-08-30T22:07:09.872Z"
   },
   {
    "duration": 7,
    "start_time": "2022-08-30T22:07:37.098Z"
   },
   {
    "duration": 499,
    "start_time": "2022-08-30T22:07:37.763Z"
   },
   {
    "duration": 243,
    "start_time": "2022-08-30T22:07:38.981Z"
   },
   {
    "duration": 494,
    "start_time": "2022-08-30T22:08:02.828Z"
   },
   {
    "duration": 140,
    "start_time": "2022-08-30T22:08:04.037Z"
   },
   {
    "duration": 163,
    "start_time": "2022-08-30T22:08:18.420Z"
   },
   {
    "duration": 6,
    "start_time": "2022-08-30T22:08:39.252Z"
   },
   {
    "duration": 509,
    "start_time": "2022-08-30T22:08:40.667Z"
   },
   {
    "duration": 143,
    "start_time": "2022-08-30T22:08:42.198Z"
   },
   {
    "duration": 491,
    "start_time": "2022-08-30T22:09:05.462Z"
   },
   {
    "duration": 126,
    "start_time": "2022-08-30T22:09:07.119Z"
   },
   {
    "duration": 545,
    "start_time": "2022-08-30T22:09:11.623Z"
   },
   {
    "duration": 141,
    "start_time": "2022-08-30T22:09:12.852Z"
   },
   {
    "duration": 6,
    "start_time": "2022-08-30T22:09:36.472Z"
   },
   {
    "duration": 503,
    "start_time": "2022-08-30T22:09:48.469Z"
   },
   {
    "duration": 129,
    "start_time": "2022-08-30T22:09:52.734Z"
   },
   {
    "duration": 4,
    "start_time": "2022-08-30T22:27:39.362Z"
   },
   {
    "duration": 4,
    "start_time": "2022-08-30T22:28:45.613Z"
   },
   {
    "duration": 22,
    "start_time": "2022-08-30T22:28:47.539Z"
   },
   {
    "duration": 11,
    "start_time": "2022-08-30T22:29:11.249Z"
   },
   {
    "duration": 3,
    "start_time": "2022-08-30T22:29:46.976Z"
   },
   {
    "duration": 3,
    "start_time": "2022-08-30T22:29:47.672Z"
   },
   {
    "duration": 502,
    "start_time": "2022-08-30T22:30:02.823Z"
   },
   {
    "duration": 4,
    "start_time": "2022-08-30T22:30:06.699Z"
   },
   {
    "duration": 156,
    "start_time": "2022-08-30T22:30:09.952Z"
   },
   {
    "duration": 10,
    "start_time": "2022-08-30T22:31:34.910Z"
   },
   {
    "duration": 4,
    "start_time": "2022-08-30T22:31:38.599Z"
   },
   {
    "duration": 506,
    "start_time": "2022-08-30T22:31:39.232Z"
   },
   {
    "duration": 4,
    "start_time": "2022-08-30T22:31:52.130Z"
   },
   {
    "duration": 140,
    "start_time": "2022-08-30T22:32:05.083Z"
   },
   {
    "duration": 250,
    "start_time": "2022-08-30T22:32:22.143Z"
   },
   {
    "duration": 208,
    "start_time": "2022-08-30T22:32:31.651Z"
   },
   {
    "duration": 293,
    "start_time": "2022-08-30T22:32:39.228Z"
   },
   {
    "duration": 186,
    "start_time": "2022-08-30T22:32:45.865Z"
   },
   {
    "duration": 4,
    "start_time": "2022-08-30T22:33:32.745Z"
   },
   {
    "duration": 530,
    "start_time": "2022-08-30T22:33:32.770Z"
   },
   {
    "duration": 4,
    "start_time": "2022-08-30T22:33:44.708Z"
   },
   {
    "duration": 166,
    "start_time": "2022-08-30T22:33:54.115Z"
   },
   {
    "duration": 101,
    "start_time": "2022-08-30T22:44:18.153Z"
   },
   {
    "duration": 5,
    "start_time": "2022-08-30T22:44:25.178Z"
   },
   {
    "duration": 4,
    "start_time": "2022-08-30T22:44:40.714Z"
   },
   {
    "duration": 4,
    "start_time": "2022-08-30T22:44:49.627Z"
   },
   {
    "duration": 5,
    "start_time": "2022-08-30T22:45:05.499Z"
   },
   {
    "duration": 6,
    "start_time": "2022-08-30T23:13:09.908Z"
   },
   {
    "duration": 5,
    "start_time": "2022-08-30T23:13:20.231Z"
   },
   {
    "duration": 5,
    "start_time": "2022-08-30T23:13:41.085Z"
   },
   {
    "duration": 5,
    "start_time": "2022-08-30T23:13:44.679Z"
   },
   {
    "duration": 6,
    "start_time": "2022-08-30T23:14:02.481Z"
   },
   {
    "duration": 5,
    "start_time": "2022-08-30T23:14:03.838Z"
   },
   {
    "duration": 10,
    "start_time": "2022-08-31T00:49:50.299Z"
   },
   {
    "duration": 3,
    "start_time": "2022-08-31T01:48:14.871Z"
   },
   {
    "duration": 3,
    "start_time": "2022-08-31T01:48:15.925Z"
   },
   {
    "duration": 123,
    "start_time": "2022-08-31T01:48:36.969Z"
   },
   {
    "duration": 19,
    "start_time": "2022-08-31T01:48:38.310Z"
   },
   {
    "duration": 44104,
    "start_time": "2022-08-31T01:49:21.394Z"
   },
   {
    "duration": 5,
    "start_time": "2022-08-31T01:54:32.009Z"
   },
   {
    "duration": 18,
    "start_time": "2022-08-31T01:54:39.639Z"
   },
   {
    "duration": 5,
    "start_time": "2022-08-31T01:54:44.851Z"
   },
   {
    "duration": 46540,
    "start_time": "2022-08-31T01:54:46.868Z"
   },
   {
    "duration": 4,
    "start_time": "2022-08-31T01:55:58.977Z"
   },
   {
    "duration": 6,
    "start_time": "2022-08-31T01:56:07.116Z"
   },
   {
    "duration": 4,
    "start_time": "2022-08-31T01:56:09.293Z"
   },
   {
    "duration": 2916,
    "start_time": "2022-08-31T01:56:59.744Z"
   },
   {
    "duration": 4,
    "start_time": "2022-08-31T01:59:04.951Z"
   },
   {
    "duration": 18,
    "start_time": "2022-08-31T01:59:26.119Z"
   },
   {
    "duration": 15,
    "start_time": "2022-08-31T01:59:34.147Z"
   },
   {
    "duration": 984,
    "start_time": "2022-08-31T01:59:57.195Z"
   },
   {
    "duration": 11,
    "start_time": "2022-08-31T02:00:10.621Z"
   },
   {
    "duration": 13,
    "start_time": "2022-08-31T02:00:37.529Z"
   },
   {
    "duration": 111,
    "start_time": "2022-08-31T02:09:24.058Z"
   },
   {
    "duration": 81,
    "start_time": "2022-08-31T02:09:47.456Z"
   },
   {
    "duration": 85,
    "start_time": "2022-08-31T02:15:19.185Z"
   },
   {
    "duration": 4,
    "start_time": "2022-08-31T02:15:37.589Z"
   },
   {
    "duration": 3,
    "start_time": "2022-08-31T02:15:45.796Z"
   },
   {
    "duration": 3,
    "start_time": "2022-08-31T02:15:46.193Z"
   },
   {
    "duration": 951,
    "start_time": "2022-08-31T02:15:47.755Z"
   },
   {
    "duration": 116,
    "start_time": "2022-08-31T02:15:56.183Z"
   },
   {
    "duration": 3,
    "start_time": "2022-08-31T02:16:28.315Z"
   },
   {
    "duration": 331,
    "start_time": "2022-08-31T02:16:31.916Z"
   },
   {
    "duration": 4,
    "start_time": "2022-08-31T02:16:57.170Z"
   },
   {
    "duration": 289,
    "start_time": "2022-08-31T02:17:00.266Z"
   },
   {
    "duration": 9,
    "start_time": "2022-08-31T02:17:04.087Z"
   },
   {
    "duration": 3,
    "start_time": "2022-08-31T02:17:27.798Z"
   },
   {
    "duration": 10,
    "start_time": "2022-08-31T02:17:30.980Z"
   },
   {
    "duration": 4,
    "start_time": "2022-08-31T02:17:55.447Z"
   },
   {
    "duration": 120,
    "start_time": "2022-08-31T02:18:01.273Z"
   },
   {
    "duration": 4,
    "start_time": "2022-08-31T02:18:11.770Z"
   },
   {
    "duration": 287,
    "start_time": "2022-08-31T02:18:15.507Z"
   },
   {
    "duration": 10,
    "start_time": "2022-08-31T02:18:22.081Z"
   },
   {
    "duration": 4,
    "start_time": "2022-08-31T02:18:48.708Z"
   },
   {
    "duration": 455,
    "start_time": "2022-08-31T02:18:52.163Z"
   },
   {
    "duration": 178,
    "start_time": "2022-08-31T02:18:53.439Z"
   },
   {
    "duration": 3,
    "start_time": "2022-08-31T02:19:20.500Z"
   },
   {
    "duration": 453,
    "start_time": "2022-08-31T02:19:25.383Z"
   },
   {
    "duration": 169,
    "start_time": "2022-08-31T02:19:26.623Z"
   },
   {
    "duration": 87,
    "start_time": "2022-08-31T02:20:35.166Z"
   },
   {
    "duration": 4,
    "start_time": "2022-08-31T02:26:39.477Z"
   },
   {
    "duration": 849,
    "start_time": "2022-08-31T02:26:43.666Z"
   },
   {
    "duration": 189,
    "start_time": "2022-08-31T02:26:46.563Z"
   },
   {
    "duration": 4,
    "start_time": "2022-08-31T02:27:01.753Z"
   },
   {
    "duration": 1083,
    "start_time": "2022-08-31T02:27:05.049Z"
   },
   {
    "duration": 178,
    "start_time": "2022-08-31T02:27:07.010Z"
   },
   {
    "duration": 4,
    "start_time": "2022-08-31T02:27:16.541Z"
   },
   {
    "duration": 1121,
    "start_time": "2022-08-31T02:27:20.658Z"
   },
   {
    "duration": 178,
    "start_time": "2022-08-31T02:27:22.653Z"
   },
   {
    "duration": 3,
    "start_time": "2022-08-31T02:40:30.748Z"
   },
   {
    "duration": 18,
    "start_time": "2022-08-31T02:40:30.753Z"
   },
   {
    "duration": 90,
    "start_time": "2022-08-31T02:40:34.086Z"
   },
   {
    "duration": 1102,
    "start_time": "2022-08-31T02:40:38.154Z"
   },
   {
    "duration": 193,
    "start_time": "2022-08-31T02:40:40.163Z"
   },
   {
    "duration": 23,
    "start_time": "2022-08-31T02:41:30.005Z"
   },
   {
    "duration": 220,
    "start_time": "2022-08-31T02:42:23.616Z"
   },
   {
    "duration": 7,
    "start_time": "2022-08-31T02:43:28.796Z"
   },
   {
    "duration": 7,
    "start_time": "2022-08-31T02:43:45.034Z"
   },
   {
    "duration": 7,
    "start_time": "2022-08-31T02:43:55.186Z"
   },
   {
    "duration": 6,
    "start_time": "2022-08-31T02:44:58.199Z"
   },
   {
    "duration": 10,
    "start_time": "2022-08-31T02:45:08.357Z"
   },
   {
    "duration": 9,
    "start_time": "2022-08-31T02:45:40.280Z"
   },
   {
    "duration": 9,
    "start_time": "2022-08-31T02:46:09.091Z"
   },
   {
    "duration": 7,
    "start_time": "2022-08-31T02:48:02.189Z"
   },
   {
    "duration": 6,
    "start_time": "2022-08-31T02:48:16.162Z"
   },
   {
    "duration": 20,
    "start_time": "2022-08-31T02:50:15.343Z"
   },
   {
    "duration": 16,
    "start_time": "2022-08-31T02:51:22.932Z"
   },
   {
    "duration": 860,
    "start_time": "2022-08-31T02:52:20.735Z"
   },
   {
    "duration": 7,
    "start_time": "2022-08-31T02:52:53.844Z"
   },
   {
    "duration": 3,
    "start_time": "2022-08-31T03:19:40.834Z"
   },
   {
    "duration": 281,
    "start_time": "2022-08-31T03:19:57.470Z"
   },
   {
    "duration": 900,
    "start_time": "2022-08-31T03:20:00.349Z"
   },
   {
    "duration": 4,
    "start_time": "2022-08-31T03:20:47.892Z"
   },
   {
    "duration": 115,
    "start_time": "2022-08-31T03:20:56.313Z"
   },
   {
    "duration": 7,
    "start_time": "2022-08-31T03:20:59.325Z"
   },
   {
    "duration": 3,
    "start_time": "2022-08-31T03:21:21.485Z"
   },
   {
    "duration": 108,
    "start_time": "2022-08-31T03:21:24.275Z"
   },
   {
    "duration": 4,
    "start_time": "2022-08-31T03:22:15.510Z"
   },
   {
    "duration": 1077,
    "start_time": "2022-08-31T03:22:18.910Z"
   },
   {
    "duration": 225,
    "start_time": "2022-08-31T03:22:21.623Z"
   },
   {
    "duration": 7,
    "start_time": "2022-08-31T03:25:29.059Z"
   },
   {
    "duration": 7,
    "start_time": "2022-08-31T03:25:49.364Z"
   },
   {
    "duration": 9,
    "start_time": "2022-08-31T03:27:31.834Z"
   },
   {
    "duration": 7,
    "start_time": "2022-08-31T03:27:36.667Z"
   },
   {
    "duration": 3,
    "start_time": "2022-08-31T03:28:25.535Z"
   },
   {
    "duration": 20891,
    "start_time": "2022-08-31T03:28:28.118Z"
   },
   {
    "duration": 9,
    "start_time": "2022-08-31T03:28:52.293Z"
   },
   {
    "duration": 4,
    "start_time": "2022-08-31T03:29:01.341Z"
   },
   {
    "duration": 1201,
    "start_time": "2022-08-31T03:29:06.350Z"
   },
   {
    "duration": 204,
    "start_time": "2022-08-31T03:29:08.406Z"
   },
   {
    "duration": 7,
    "start_time": "2022-08-31T03:29:43.073Z"
   },
   {
    "duration": 6,
    "start_time": "2022-08-31T03:30:13.394Z"
   },
   {
    "duration": 6,
    "start_time": "2022-08-31T03:30:26.434Z"
   },
   {
    "duration": 79,
    "start_time": "2022-08-31T03:31:50.240Z"
   },
   {
    "duration": 1153,
    "start_time": "2022-08-31T03:31:57.209Z"
   },
   {
    "duration": 191,
    "start_time": "2022-08-31T03:32:02.342Z"
   },
   {
    "duration": 5,
    "start_time": "2022-08-31T03:32:11.141Z"
   },
   {
    "duration": 3,
    "start_time": "2022-08-31T03:32:59.847Z"
   },
   {
    "duration": 86,
    "start_time": "2022-08-31T03:33:08.722Z"
   },
   {
    "duration": 1107,
    "start_time": "2022-08-31T03:33:14.488Z"
   },
   {
    "duration": 203,
    "start_time": "2022-08-31T03:33:17.828Z"
   },
   {
    "duration": 5,
    "start_time": "2022-08-31T03:33:24.635Z"
   },
   {
    "duration": 5,
    "start_time": "2022-08-31T03:34:04.872Z"
   },
   {
    "duration": 5,
    "start_time": "2022-08-31T03:34:14.657Z"
   },
   {
    "duration": 5,
    "start_time": "2022-08-31T03:47:20.221Z"
   },
   {
    "duration": 6,
    "start_time": "2022-08-31T03:48:02.505Z"
   },
   {
    "duration": 6,
    "start_time": "2022-08-31T03:48:07.892Z"
   },
   {
    "duration": 3,
    "start_time": "2022-08-31T03:49:28.167Z"
   },
   {
    "duration": 5,
    "start_time": "2022-08-31T03:49:31.393Z"
   },
   {
    "duration": 5,
    "start_time": "2022-08-31T03:49:46.256Z"
   },
   {
    "duration": 6,
    "start_time": "2022-08-31T03:50:17.563Z"
   },
   {
    "duration": 5,
    "start_time": "2022-08-31T03:53:35.496Z"
   },
   {
    "duration": 6,
    "start_time": "2022-08-31T03:53:51.166Z"
   },
   {
    "duration": 5,
    "start_time": "2022-08-31T03:53:56.957Z"
   },
   {
    "duration": 4,
    "start_time": "2022-08-31T03:57:16.500Z"
   },
   {
    "duration": 98,
    "start_time": "2022-08-31T03:57:16.800Z"
   },
   {
    "duration": 1332,
    "start_time": "2022-08-31T03:57:17.116Z"
   },
   {
    "duration": 1165,
    "start_time": "2022-08-31T03:57:26.562Z"
   },
   {
    "duration": 212,
    "start_time": "2022-08-31T03:57:27.729Z"
   },
   {
    "duration": 6,
    "start_time": "2022-08-31T03:57:59.297Z"
   },
   {
    "duration": 6,
    "start_time": "2022-08-31T03:58:46.558Z"
   },
   {
    "duration": 5,
    "start_time": "2022-08-31T03:58:52.223Z"
   },
   {
    "duration": 5,
    "start_time": "2022-08-31T03:59:26.336Z"
   },
   {
    "duration": 5,
    "start_time": "2022-08-31T03:59:44.237Z"
   },
   {
    "duration": 6,
    "start_time": "2022-08-31T03:59:50.785Z"
   },
   {
    "duration": 5,
    "start_time": "2022-08-31T03:59:54.990Z"
   },
   {
    "duration": 6,
    "start_time": "2022-08-31T04:00:01.447Z"
   },
   {
    "duration": 5,
    "start_time": "2022-08-31T04:00:05.604Z"
   },
   {
    "duration": 7,
    "start_time": "2022-08-31T04:07:53.139Z"
   },
   {
    "duration": 3,
    "start_time": "2022-08-31T04:08:47.970Z"
   },
   {
    "duration": 5,
    "start_time": "2022-08-31T04:08:53.418Z"
   },
   {
    "duration": 4,
    "start_time": "2022-08-31T04:10:33.685Z"
   },
   {
    "duration": 6,
    "start_time": "2022-08-31T04:10:48.413Z"
   },
   {
    "duration": 4,
    "start_time": "2022-08-31T04:11:31.656Z"
   },
   {
    "duration": 4,
    "start_time": "2022-08-31T04:13:26.721Z"
   },
   {
    "duration": 4,
    "start_time": "2022-08-31T04:13:43.147Z"
   },
   {
    "duration": 5,
    "start_time": "2022-08-31T04:13:47.312Z"
   },
   {
    "duration": 4,
    "start_time": "2022-08-31T04:14:03.003Z"
   },
   {
    "duration": 3,
    "start_time": "2022-08-31T04:15:13.665Z"
   },
   {
    "duration": 10,
    "start_time": "2022-08-31T04:15:19.466Z"
   },
   {
    "duration": 4,
    "start_time": "2022-08-31T04:15:22.212Z"
   },
   {
    "duration": 5,
    "start_time": "2022-08-31T04:15:50.104Z"
   },
   {
    "duration": 101,
    "start_time": "2022-08-31T04:15:55.358Z"
   },
   {
    "duration": 4,
    "start_time": "2022-08-31T04:16:32.258Z"
   },
   {
    "duration": 4,
    "start_time": "2022-08-31T04:17:45.599Z"
   },
   {
    "duration": 4,
    "start_time": "2022-08-31T04:18:00.744Z"
   },
   {
    "duration": 4,
    "start_time": "2022-08-31T04:18:50.337Z"
   },
   {
    "duration": 86,
    "start_time": "2022-08-31T04:19:05.324Z"
   },
   {
    "duration": 4,
    "start_time": "2022-08-31T04:19:19.490Z"
   },
   {
    "duration": 8,
    "start_time": "2022-08-31T16:19:59.898Z"
   },
   {
    "duration": 38,
    "start_time": "2022-08-31T16:20:21.483Z"
   },
   {
    "duration": 1051,
    "start_time": "2022-08-31T16:20:34.250Z"
   },
   {
    "duration": 1565,
    "start_time": "2022-08-31T16:20:35.303Z"
   },
   {
    "duration": 36,
    "start_time": "2022-08-31T16:20:36.870Z"
   },
   {
    "duration": 13,
    "start_time": "2022-08-31T16:20:36.908Z"
   },
   {
    "duration": 8,
    "start_time": "2022-08-31T16:20:36.923Z"
   },
   {
    "duration": 41,
    "start_time": "2022-08-31T16:20:36.933Z"
   },
   {
    "duration": 53,
    "start_time": "2022-08-31T16:20:36.976Z"
   },
   {
    "duration": 27,
    "start_time": "2022-08-31T16:20:37.030Z"
   },
   {
    "duration": 18,
    "start_time": "2022-08-31T16:20:37.059Z"
   },
   {
    "duration": 26,
    "start_time": "2022-08-31T16:20:37.079Z"
   },
   {
    "duration": 31,
    "start_time": "2022-08-31T16:20:37.107Z"
   },
   {
    "duration": 26,
    "start_time": "2022-08-31T16:20:37.140Z"
   },
   {
    "duration": 4,
    "start_time": "2022-08-31T16:20:37.168Z"
   },
   {
    "duration": 36,
    "start_time": "2022-08-31T16:20:37.175Z"
   },
   {
    "duration": 13,
    "start_time": "2022-08-31T16:20:37.213Z"
   },
   {
    "duration": 178,
    "start_time": "2022-08-31T16:20:37.227Z"
   },
   {
    "duration": 9,
    "start_time": "2022-08-31T16:20:37.407Z"
   },
   {
    "duration": 15,
    "start_time": "2022-08-31T16:20:37.418Z"
   },
   {
    "duration": 4,
    "start_time": "2022-08-31T16:20:37.435Z"
   },
   {
    "duration": 165,
    "start_time": "2022-08-31T16:20:37.441Z"
   },
   {
    "duration": 7,
    "start_time": "2022-08-31T16:20:37.608Z"
   },
   {
    "duration": 15,
    "start_time": "2022-08-31T16:20:37.617Z"
   },
   {
    "duration": 5,
    "start_time": "2022-08-31T16:20:37.634Z"
   },
   {
    "duration": 165,
    "start_time": "2022-08-31T16:20:37.641Z"
   },
   {
    "duration": 2,
    "start_time": "2022-08-31T16:20:37.808Z"
   },
   {
    "duration": 6,
    "start_time": "2022-08-31T16:20:37.812Z"
   },
   {
    "duration": 6,
    "start_time": "2022-08-31T16:20:37.819Z"
   },
   {
    "duration": 4,
    "start_time": "2022-08-31T16:20:37.826Z"
   },
   {
    "duration": 13,
    "start_time": "2022-08-31T16:20:37.832Z"
   },
   {
    "duration": 7,
    "start_time": "2022-08-31T16:20:37.847Z"
   },
   {
    "duration": 8,
    "start_time": "2022-08-31T16:20:37.855Z"
   },
   {
    "duration": 4,
    "start_time": "2022-08-31T16:20:37.864Z"
   },
   {
    "duration": 5,
    "start_time": "2022-08-31T16:20:37.905Z"
   },
   {
    "duration": 6,
    "start_time": "2022-08-31T16:20:37.912Z"
   },
   {
    "duration": 5,
    "start_time": "2022-08-31T16:20:37.919Z"
   },
   {
    "duration": 103,
    "start_time": "2022-08-31T16:20:37.926Z"
   },
   {
    "duration": 1124,
    "start_time": "2022-08-31T16:20:38.031Z"
   },
   {
    "duration": 705,
    "start_time": "2022-08-31T16:20:39.157Z"
   },
   {
    "duration": 121,
    "start_time": "2022-08-31T16:20:39.864Z"
   },
   {
    "duration": 0,
    "start_time": "2022-08-31T16:20:39.988Z"
   },
   {
    "duration": 0,
    "start_time": "2022-08-31T16:20:39.989Z"
   },
   {
    "duration": 0,
    "start_time": "2022-08-31T16:20:39.990Z"
   },
   {
    "duration": 0,
    "start_time": "2022-08-31T16:20:39.991Z"
   },
   {
    "duration": 0,
    "start_time": "2022-08-31T16:20:39.992Z"
   },
   {
    "duration": 0,
    "start_time": "2022-08-31T16:20:39.993Z"
   },
   {
    "duration": 0,
    "start_time": "2022-08-31T16:20:40.006Z"
   },
   {
    "duration": 0,
    "start_time": "2022-08-31T16:20:40.007Z"
   },
   {
    "duration": 0,
    "start_time": "2022-08-31T16:20:40.008Z"
   },
   {
    "duration": 0,
    "start_time": "2022-08-31T16:20:40.009Z"
   },
   {
    "duration": 0,
    "start_time": "2022-08-31T16:20:40.010Z"
   },
   {
    "duration": 0,
    "start_time": "2022-08-31T16:20:40.011Z"
   },
   {
    "duration": 0,
    "start_time": "2022-08-31T16:20:40.012Z"
   },
   {
    "duration": 0,
    "start_time": "2022-08-31T16:20:40.014Z"
   },
   {
    "duration": 0,
    "start_time": "2022-08-31T16:20:40.015Z"
   },
   {
    "duration": 0,
    "start_time": "2022-08-31T16:20:40.016Z"
   },
   {
    "duration": 0,
    "start_time": "2022-08-31T16:20:40.017Z"
   },
   {
    "duration": 0,
    "start_time": "2022-08-31T16:20:40.018Z"
   },
   {
    "duration": 0,
    "start_time": "2022-08-31T16:20:40.019Z"
   },
   {
    "duration": 0,
    "start_time": "2022-08-31T16:20:40.020Z"
   },
   {
    "duration": 3,
    "start_time": "2022-08-31T16:23:03.886Z"
   },
   {
    "duration": 7,
    "start_time": "2022-08-31T16:23:07.873Z"
   },
   {
    "duration": 4,
    "start_time": "2022-08-31T16:23:38.190Z"
   },
   {
    "duration": 28,
    "start_time": "2022-08-31T16:23:41.099Z"
   },
   {
    "duration": 3,
    "start_time": "2022-08-31T16:24:39.325Z"
   },
   {
    "duration": 5,
    "start_time": "2022-08-31T16:24:43.049Z"
   },
   {
    "duration": 3,
    "start_time": "2022-08-31T16:25:09.994Z"
   },
   {
    "duration": 6,
    "start_time": "2022-08-31T16:25:15.517Z"
   },
   {
    "duration": 4,
    "start_time": "2022-08-31T16:26:19.230Z"
   },
   {
    "duration": 204,
    "start_time": "2022-08-31T16:26:19.236Z"
   },
   {
    "duration": 1002,
    "start_time": "2022-08-31T16:26:20.772Z"
   },
   {
    "duration": 187,
    "start_time": "2022-08-31T16:26:23.134Z"
   },
   {
    "duration": 7,
    "start_time": "2022-08-31T16:26:40.333Z"
   },
   {
    "duration": 3,
    "start_time": "2022-08-31T16:26:59.857Z"
   },
   {
    "duration": 85,
    "start_time": "2022-08-31T16:27:00.651Z"
   },
   {
    "duration": 1062,
    "start_time": "2022-08-31T16:27:02.099Z"
   },
   {
    "duration": 186,
    "start_time": "2022-08-31T16:27:05.138Z"
   },
   {
    "duration": 5,
    "start_time": "2022-08-31T16:27:22.259Z"
   }
  ],
  "kernelspec": {
   "display_name": "Python 3 (ipykernel)",
   "language": "python",
   "name": "python3"
  },
  "language_info": {
   "codemirror_mode": {
    "name": "ipython",
    "version": 3
   },
   "file_extension": ".py",
   "mimetype": "text/x-python",
   "name": "python",
   "nbconvert_exporter": "python",
   "pygments_lexer": "ipython3",
   "version": "3.9.13"
  },
  "toc": {
   "base_numbering": 1,
   "nav_menu": {},
   "number_sections": true,
   "sideBar": true,
   "skip_h1_title": true,
   "title_cell": "Table of Contents",
   "title_sidebar": "Contents",
   "toc_cell": false,
   "toc_position": {},
   "toc_section_display": true,
   "toc_window_display": false
  }
 },
 "nbformat": 4,
 "nbformat_minor": 2
}
