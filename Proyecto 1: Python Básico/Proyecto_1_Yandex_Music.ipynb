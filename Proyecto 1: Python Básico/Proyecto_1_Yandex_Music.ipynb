{
 "cells": [
  {
   "cell_type": "markdown",
   "metadata": {
    "id": "E0vqbgi9ay0H"
   },
   "source": [
    "# Yandex.Music"
   ]
  },
  {
   "cell_type": "markdown",
   "metadata": {
    "id": "fhq_eyov_Zcs"
   },
   "source": [
    "# Contenido <a id='back'></a>\n",
    "\n",
    "* [Introducción](#intro)\n",
    "* [Etapa 1. Descripción de los datos](#data_review)\n",
    "    * [Conclusiones](#data_review_conclusions)\n",
    "* [Etapa 2. Data preprocessing](#data_preprocessing)\n",
    "    * [2.1 Estilo del encabezado](#header_style)\n",
    "    * [2.2 Valores ausentes](#missing_values)\n",
    "    * [2.3 Duplicados](#duplicates)\n",
    "    * [2.4 Conclusiones](#data_preprocessing_conclusions)\n",
    "* [Etapa 3. Prueba de hipótesis](#hypotheses)\n",
    "    * [3.1 Hipótesis 1: comparar el comportamiento del usuario en las dos ciudades](#activity)\n",
    "    * [3.2 Hipótesis 2: música al principio y al final de la semana](#week)\n",
    "    * [3.3 Hipótesis 3: preferencias de género en Springfield y Shelbyville](#genre)\n",
    "* [Conclusiones](#end)"
   ]
  },
  {
   "cell_type": "markdown",
   "metadata": {
    "id": "VUC88oWjTJw2"
   },
   "source": [
    "## Introducción <a id='intro'></a>\n",
    "Siempre que investiguemos, necesitamos formular hipótesis que después podamos probar. A veces aceptamos estas hipótesis; otras, las rechazamos. Para tomar las decisiones correctas, una empresa debe ser capaz de entender si está haciendo las suposiciones correctas.\n",
    "\n",
    "En este proyecto, se comparará las preferencias musicales de las ciudades de Springfield y Shelbyville. Se estudiarán datos reales de Yandex.Music para probar las hipótesis de abajo y comparar el comportamiento del usuario de esas dos ciudades.\n",
    "\n",
    "### Objetivo: \n",
    "Probar tres hipótesis: \n",
    "1. La actividad de los usuarios difiere según el día de la semana y dependiendo de la ciudad. \n",
    "2. Los lunes por la mañana, los habitantes de Springfield y Shelbyville escuchan diferentes géneros. Lo mismo ocurre con los viernes por la noche. \n",
    "3. Los oyentes de Springfield y Shelbyville tienen preferencias distintas. En Springfield prefieren el pop mientras que en Shelbyville hay más aficionados al rap.\n",
    "\n",
    "### Etapas \n",
    "Los datos del comportamiento del usuario se almacenan en el archivo `datasets/music_project_en.csv`. No hay ninguna información sobre la calidad de los datos así que se necesitará examinarlos antes de probar las hipótesis. \n",
    "\n",
    "Primero, se evaluará la calidad de los datos y se verá si los problemas son significativos. Entonces, durante el preprocesamiento de datos, se tomará en cuenta los problemas más críticos.\n",
    " \n",
    "El proyecto consistirá en tres etapas:\n",
    " 1. Descripción de los datos\n",
    " 2. Preprocesamiento de datos\n",
    " 3. Prueba de hipótesis\n",
    " \n",
    "[Volver a Contenidos](#back)"
   ]
  },
  {
   "cell_type": "markdown",
   "metadata": {
    "id": "Ml1hmfXC_Zcs"
   },
   "source": [
    "## Etapa 1. Descripción de los datos <a id='data_review'></a>\n",
    "\n",
    "Se importará pandas para cargar los datos y examinarlos."
   ]
  },
  {
   "cell_type": "code",
   "execution_count": 1,
   "metadata": {
    "id": "AXN7PHPN_Zcs"
   },
   "outputs": [],
   "source": [
    "import pandas as pd"
   ]
  },
  {
   "cell_type": "markdown",
   "metadata": {
    "id": "SG23P8tt_Zcs"
   },
   "source": [
    "Se procede a cargar los datos."
   ]
  },
  {
   "cell_type": "code",
   "execution_count": 2,
   "metadata": {
    "id": "fFVu7vqh_Zct"
   },
   "outputs": [],
   "source": [
    "df = pd.read_csv(\"datasets/music_project_en.csv\")"
   ]
  },
  {
   "cell_type": "markdown",
   "metadata": {
    "id": "rDoOMd3uTqnZ"
   },
   "source": [
    "Se imprimen las 10 primeras filas de la tabla:"
   ]
  },
  {
   "cell_type": "code",
   "execution_count": 3,
   "metadata": {
    "id": "oWTVX3gW_Zct"
   },
   "outputs": [
    {
     "data": {
      "text/html": [
       "<div>\n",
       "<style scoped>\n",
       "    .dataframe tbody tr th:only-of-type {\n",
       "        vertical-align: middle;\n",
       "    }\n",
       "\n",
       "    .dataframe tbody tr th {\n",
       "        vertical-align: top;\n",
       "    }\n",
       "\n",
       "    .dataframe thead th {\n",
       "        text-align: right;\n",
       "    }\n",
       "</style>\n",
       "<table border=\"1\" class=\"dataframe\">\n",
       "  <thead>\n",
       "    <tr style=\"text-align: right;\">\n",
       "      <th></th>\n",
       "      <th>userID</th>\n",
       "      <th>Track</th>\n",
       "      <th>artist</th>\n",
       "      <th>genre</th>\n",
       "      <th>City</th>\n",
       "      <th>time</th>\n",
       "      <th>Day</th>\n",
       "    </tr>\n",
       "  </thead>\n",
       "  <tbody>\n",
       "    <tr>\n",
       "      <th>0</th>\n",
       "      <td>FFB692EC</td>\n",
       "      <td>Kamigata To Boots</td>\n",
       "      <td>The Mass Missile</td>\n",
       "      <td>rock</td>\n",
       "      <td>Shelbyville</td>\n",
       "      <td>20:28:33</td>\n",
       "      <td>Wednesday</td>\n",
       "    </tr>\n",
       "    <tr>\n",
       "      <th>1</th>\n",
       "      <td>55204538</td>\n",
       "      <td>Delayed Because of Accident</td>\n",
       "      <td>Andreas Rönnberg</td>\n",
       "      <td>rock</td>\n",
       "      <td>Springfield</td>\n",
       "      <td>14:07:09</td>\n",
       "      <td>Friday</td>\n",
       "    </tr>\n",
       "    <tr>\n",
       "      <th>2</th>\n",
       "      <td>20EC38</td>\n",
       "      <td>Funiculì funiculà</td>\n",
       "      <td>Mario Lanza</td>\n",
       "      <td>pop</td>\n",
       "      <td>Shelbyville</td>\n",
       "      <td>20:58:07</td>\n",
       "      <td>Wednesday</td>\n",
       "    </tr>\n",
       "    <tr>\n",
       "      <th>3</th>\n",
       "      <td>A3DD03C9</td>\n",
       "      <td>Dragons in the Sunset</td>\n",
       "      <td>Fire + Ice</td>\n",
       "      <td>folk</td>\n",
       "      <td>Shelbyville</td>\n",
       "      <td>08:37:09</td>\n",
       "      <td>Monday</td>\n",
       "    </tr>\n",
       "    <tr>\n",
       "      <th>4</th>\n",
       "      <td>E2DC1FAE</td>\n",
       "      <td>Soul People</td>\n",
       "      <td>Space Echo</td>\n",
       "      <td>dance</td>\n",
       "      <td>Springfield</td>\n",
       "      <td>08:34:34</td>\n",
       "      <td>Monday</td>\n",
       "    </tr>\n",
       "    <tr>\n",
       "      <th>5</th>\n",
       "      <td>842029A1</td>\n",
       "      <td>Chains</td>\n",
       "      <td>Obladaet</td>\n",
       "      <td>rusrap</td>\n",
       "      <td>Shelbyville</td>\n",
       "      <td>13:09:41</td>\n",
       "      <td>Friday</td>\n",
       "    </tr>\n",
       "    <tr>\n",
       "      <th>6</th>\n",
       "      <td>4CB90AA5</td>\n",
       "      <td>True</td>\n",
       "      <td>Roman Messer</td>\n",
       "      <td>dance</td>\n",
       "      <td>Springfield</td>\n",
       "      <td>13:00:07</td>\n",
       "      <td>Wednesday</td>\n",
       "    </tr>\n",
       "    <tr>\n",
       "      <th>7</th>\n",
       "      <td>F03E1C1F</td>\n",
       "      <td>Feeling This Way</td>\n",
       "      <td>Polina Griffith</td>\n",
       "      <td>dance</td>\n",
       "      <td>Springfield</td>\n",
       "      <td>20:47:49</td>\n",
       "      <td>Wednesday</td>\n",
       "    </tr>\n",
       "    <tr>\n",
       "      <th>8</th>\n",
       "      <td>8FA1D3BE</td>\n",
       "      <td>L’estate</td>\n",
       "      <td>Julia Dalia</td>\n",
       "      <td>ruspop</td>\n",
       "      <td>Springfield</td>\n",
       "      <td>09:17:40</td>\n",
       "      <td>Friday</td>\n",
       "    </tr>\n",
       "    <tr>\n",
       "      <th>9</th>\n",
       "      <td>E772D5C0</td>\n",
       "      <td>Pessimist</td>\n",
       "      <td>NaN</td>\n",
       "      <td>dance</td>\n",
       "      <td>Shelbyville</td>\n",
       "      <td>21:20:49</td>\n",
       "      <td>Wednesday</td>\n",
       "    </tr>\n",
       "  </tbody>\n",
       "</table>\n",
       "</div>"
      ],
      "text/plain": [
       "     userID                        Track            artist   genre  \\\n",
       "0  FFB692EC            Kamigata To Boots  The Mass Missile    rock   \n",
       "1  55204538  Delayed Because of Accident  Andreas Rönnberg    rock   \n",
       "2    20EC38            Funiculì funiculà       Mario Lanza     pop   \n",
       "3  A3DD03C9        Dragons in the Sunset        Fire + Ice    folk   \n",
       "4  E2DC1FAE                  Soul People        Space Echo   dance   \n",
       "5  842029A1                       Chains          Obladaet  rusrap   \n",
       "6  4CB90AA5                         True      Roman Messer   dance   \n",
       "7  F03E1C1F             Feeling This Way   Polina Griffith   dance   \n",
       "8  8FA1D3BE                     L’estate       Julia Dalia  ruspop   \n",
       "9  E772D5C0                    Pessimist               NaN   dance   \n",
       "\n",
       "        City        time        Day  \n",
       "0  Shelbyville  20:28:33  Wednesday  \n",
       "1  Springfield  14:07:09     Friday  \n",
       "2  Shelbyville  20:58:07  Wednesday  \n",
       "3  Shelbyville  08:37:09     Monday  \n",
       "4  Springfield  08:34:34     Monday  \n",
       "5  Shelbyville  13:09:41     Friday  \n",
       "6  Springfield  13:00:07  Wednesday  \n",
       "7  Springfield  20:47:49  Wednesday  \n",
       "8  Springfield  09:17:40     Friday  \n",
       "9  Shelbyville  21:20:49  Wednesday  "
      ]
     },
     "execution_count": 3,
     "metadata": {},
     "output_type": "execute_result"
    }
   ],
   "source": [
    "df.head(10)"
   ]
  },
  {
   "cell_type": "markdown",
   "metadata": {
    "id": "EO73Kwic_Zct"
   },
   "source": [
    "Obtener la información general sobre la tabla con un comando:"
   ]
  },
  {
   "cell_type": "code",
   "execution_count": 4,
   "metadata": {
    "id": "DSf2kIb-_Zct"
   },
   "outputs": [
    {
     "name": "stdout",
     "output_type": "stream",
     "text": [
      "<class 'pandas.core.frame.DataFrame'>\n",
      "RangeIndex: 65079 entries, 0 to 65078\n",
      "Data columns (total 7 columns):\n",
      " #   Column    Non-Null Count  Dtype \n",
      "---  ------    --------------  ----- \n",
      " 0     userID  65079 non-null  object\n",
      " 1   Track     63736 non-null  object\n",
      " 2   artist    57512 non-null  object\n",
      " 3   genre     63881 non-null  object\n",
      " 4     City    65079 non-null  object\n",
      " 5   time      65079 non-null  object\n",
      " 6   Day       65079 non-null  object\n",
      "dtypes: object(7)\n",
      "memory usage: 3.5+ MB\n"
     ]
    }
   ],
   "source": [
    "df.info()"
   ]
  },
  {
   "cell_type": "markdown",
   "metadata": {
    "id": "TaQ2Iwbr_Zct"
   },
   "source": [
    "La tabla contiene siete columnas. Todas almacenan el mismo tipo de datos: objeto.\n",
    "\n",
    "De acuerdo con la documentación:\n",
    "- `'userID'` — identificador del usuario\n",
    "- `'Track'` — título de la pista\n",
    "- `'artist'` — nombre del artista\n",
    "- `'genre'` — género\n",
    "- `'City'` — ciudad del usuario\n",
    "- `'time'` — el periodo de tiempo exacto en que se reprodujo la pista\n",
    "- `'Day'` — día de la semana\n",
    "\n",
    "Podemos ver tres problemas con el estilo en los nombres de las columnas:\n",
    "1. Algunos nombres están en mayúsculas, otros en minúsculas.\n",
    "2. Hay algunos espacios en algunos nombres.\n",
    "3. Hay nombres compuestos por varias palabras sin separación de estas.\n",
    "\n",
    "El número de valores de las columnas es diferente. Esto significa que los datos contienen valores ausentes.\n"
   ]
  },
  {
   "cell_type": "markdown",
   "metadata": {
    "id": "MCB6-dXG_Zct"
   },
   "source": [
    "### Conclusiones <a id='data_review_conclusions'></a> \n",
    "\n",
    "Cada fila de la tabla almacena datos de la pista que fue reproducida. Algunas columnas describen la pista en sí: su título, el artista y el género. El resto transmite la información del usuario: la ciudad de la que viene, el tiempo que ha reproducido la pista. \n",
    "\n",
    "Está claro que los datos son suficientes para probar la hipótesis. Sin embargo, hay valores ausentes.\n",
    "\n",
    "Para continuar, necesitamos preprocesar los datos."
   ]
  },
  {
   "cell_type": "markdown",
   "metadata": {
    "id": "3eL__vcwViOi"
   },
   "source": [
    "[Volver a Contenidos](#back)"
   ]
  },
  {
   "cell_type": "markdown",
   "metadata": {
    "id": "SjYF6Ub9_Zct"
   },
   "source": [
    "## Etapa 2. Preprocesamiento de datos <a id='data_preprocessing'></a>\n",
    "Se corregirá el formato en los encabezados de las columnas y se abordarán los valores ausentes. Después, se comprobará si hay duplicados en los datos."
   ]
  },
  {
   "cell_type": "markdown",
   "metadata": {
    "id": "dIaKXr29_Zct"
   },
   "source": [
    "### Estilo del encabezado <a id='header_style'></a>\n",
    "Se imprime el encabezado de la columna:"
   ]
  },
  {
   "cell_type": "code",
   "execution_count": 5,
   "metadata": {
    "id": "oKOTdF_Q_Zct"
   },
   "outputs": [
    {
     "data": {
      "text/plain": [
       "Index(['  userID', 'Track', 'artist', 'genre', '  City  ', 'time', 'Day'], dtype='object')"
      ]
     },
     "execution_count": 5,
     "metadata": {},
     "output_type": "execute_result"
    }
   ],
   "source": [
    "df.columns"
   ]
  },
  {
   "cell_type": "markdown",
   "metadata": {
    "id": "zj5534cv_Zct"
   },
   "source": [
    "Se cambiará los nombres de las columnas de acuerdo con las reglas del buen estilo:\n",
    "* Si el nombre tiene varias palabras, se utilizará snake_case\n",
    "* Todos los caracteres deben ser minúsculas\n",
    "* Se eliminarán los espacios"
   ]
  },
  {
   "cell_type": "code",
   "execution_count": 6,
   "metadata": {
    "id": "ISlFqs5y_Zct"
   },
   "outputs": [],
   "source": [
    "df = df.rename(\n",
    "    columns={\"  userID\":\"user_id\",\n",
    "             \"Track\":\"track\",\n",
    "             \"  City  \":\"city\",\n",
    "             \"Day\":\"day\"})"
   ]
  },
  {
   "cell_type": "markdown",
   "metadata": {
    "id": "1dqbh00J_Zct"
   },
   "source": [
    "Se comprobará el resultado imprimiendo los nombres de las columnas una vez más:"
   ]
  },
  {
   "cell_type": "code",
   "execution_count": 7,
   "metadata": {
    "id": "d4NOAmTW_Zct"
   },
   "outputs": [
    {
     "data": {
      "text/plain": [
       "Index(['user_id', 'track', 'artist', 'genre', 'city', 'time', 'day'], dtype='object')"
      ]
     },
     "execution_count": 7,
     "metadata": {},
     "output_type": "execute_result"
    }
   ],
   "source": [
    "df.columns"
   ]
  },
  {
   "cell_type": "markdown",
   "metadata": {
    "id": "xYJk6ksJVpOl"
   },
   "source": [
    "[Volver a Contenidos](#back)"
   ]
  },
  {
   "cell_type": "markdown",
   "metadata": {
    "id": "5ISfbcfY_Zct"
   },
   "source": [
    "### Valores ausentes <a id='missing_values'></a>\n",
    "Primero se encontrará el número de valores ausentes en la tabla. Para ello, se utilizará dos métodos pandas:"
   ]
  },
  {
   "cell_type": "code",
   "execution_count": 8,
   "metadata": {
    "id": "RskX29qr_Zct"
   },
   "outputs": [
    {
     "data": {
      "text/plain": [
       "user_id       0\n",
       "track      1343\n",
       "artist     7567\n",
       "genre      1198\n",
       "city          0\n",
       "time          0\n",
       "day           0\n",
       "dtype: int64"
      ]
     },
     "execution_count": 8,
     "metadata": {},
     "output_type": "execute_result"
    }
   ],
   "source": [
    "df.isna().sum()"
   ]
  },
  {
   "cell_type": "markdown",
   "metadata": {
    "id": "qubhgnlO_Zct"
   },
   "source": [
    "No todos los valores ausentes afectan a la investigación. Por ejemplo, los valores ausentes en la pista y artista no son cruciales. Simplemente pueden reemplazarse por marcadores claros.\n",
    "\n",
    "Pero los valores ausentes en 'genre' pueden afectar la comparación entre las preferencias musicales de Springfield y Shelbyville. En la vida real, sería útil saber las razones por las cuales hay datos ausentes e intentar recuperarlos. Pero no tenemos esa oportunidad en este proyecto. Así que se tendrá que:\n",
    "* Rellenar esos valores ausentes con marcadores\n",
    "* Evaluar cuánto podrían afectar los valores ausentes a tus cómputos."
   ]
  },
  {
   "cell_type": "markdown",
   "metadata": {
    "id": "fSv2laPA_Zct"
   },
   "source": [
    "Se reemplazarán los valores ausentes en 'track', 'artist', y 'genre' con la string 'unknown'. Para ello, se creará la lista columns_to_replace, se recorrerá con un bucle for y reemplazará los valores ausentes en cada una de las columnas:"
   ]
  },
  {
   "cell_type": "code",
   "execution_count": 9,
   "metadata": {
    "id": "KplB5qWs_Zct"
   },
   "outputs": [],
   "source": [
    "columns_to_replace = ['track','artist','genre']    \n",
    "for col in df[columns_to_replace]:\n",
    "    df[col] = df[col].fillna('unknown')"
   ]
  },
  {
   "cell_type": "markdown",
   "metadata": {
    "id": "Ilsm-MZo_Zct"
   },
   "source": [
    "Se observarán de nuevo los valores ausentes."
   ]
  },
  {
   "cell_type": "code",
   "execution_count": 10,
   "metadata": {
    "id": "Tq4nYRX4_Zct"
   },
   "outputs": [
    {
     "data": {
      "text/plain": [
       "user_id    0\n",
       "track      0\n",
       "artist     0\n",
       "genre      0\n",
       "city       0\n",
       "time       0\n",
       "day        0\n",
       "dtype: int64"
      ]
     },
     "execution_count": 10,
     "metadata": {},
     "output_type": "execute_result"
    }
   ],
   "source": [
    "df.isna().sum()"
   ]
  },
  {
   "cell_type": "markdown",
   "metadata": {
    "id": "74ZIBmq9VrsK"
   },
   "source": [
    "[Volver a Contenidos](#back)"
   ]
  },
  {
   "cell_type": "markdown",
   "metadata": {
    "id": "BWKRtBJ3_Zct"
   },
   "source": [
    "### Duplicados <a id='duplicates'></a>\n",
    "Se encontrará el número de duplicados obvios en la tabla utilizando un comando:"
   ]
  },
  {
   "cell_type": "code",
   "execution_count": 11,
   "metadata": {
    "id": "36eES_S0_Zct"
   },
   "outputs": [
    {
     "data": {
      "text/plain": [
       "3826"
      ]
     },
     "execution_count": 11,
     "metadata": {},
     "output_type": "execute_result"
    }
   ],
   "source": [
    "df.duplicated().sum()"
   ]
  },
  {
   "cell_type": "markdown",
   "metadata": {
    "id": "Ot25h6XR_Zct"
   },
   "source": [
    "Se llamará al método pandas para deshacerte de los duplicados obvios:"
   ]
  },
  {
   "cell_type": "code",
   "execution_count": 12,
   "metadata": {
    "id": "exFHq6tt_Zct"
   },
   "outputs": [],
   "source": [
    "df = df.drop_duplicates().reset_index(drop=True) "
   ]
  },
  {
   "cell_type": "markdown",
   "metadata": {
    "id": "Im2YwBEG_Zct"
   },
   "source": [
    "Se contará los duplicados obvios una vez más para asegurarte de que todos han sido eliminados:"
   ]
  },
  {
   "cell_type": "code",
   "execution_count": 13,
   "metadata": {
    "id": "-8PuNWQ0_Zct"
   },
   "outputs": [
    {
     "data": {
      "text/plain": [
       "0"
      ]
     },
     "execution_count": 13,
     "metadata": {},
     "output_type": "execute_result"
    }
   ],
   "source": [
    "df.duplicated().sum()"
   ]
  },
  {
   "cell_type": "markdown",
   "metadata": {
    "id": "QlFBsxAr_Zct"
   },
   "source": [
    "Ahora nos desharemos de los duplicados implícitos en la columna genre. Por ejemplo, el nombre de un género se puede escribir de varias formas. Dichos errores también pueden afectar a resultado."
   ]
  },
  {
   "cell_type": "markdown",
   "metadata": {
    "id": "eSjWwsOh_Zct"
   },
   "source": [
    "Se imprimirá una lista de nombres únicos de géneros, ordenados en orden alfabético. A través de:\n",
    "* Recuperar la deseada columna DataFrame \n",
    "* Aplicar un método de orden\n",
    "* Para la columna ordenada, llamar al método que devolverá todos los valores de columna únicos"
   ]
  },
  {
   "cell_type": "code",
   "execution_count": 14,
   "metadata": {
    "id": "JIUcqzZN_Zct"
   },
   "outputs": [
    {
     "name": "stdout",
     "output_type": "stream",
     "text": [
      "['acid' 'acoustic' 'action' 'adult' 'africa' 'afrikaans' 'alternative'\n",
      " 'ambient' 'americana' 'animated' 'anime' 'arabesk' 'arabic' 'arena'\n",
      " 'argentinetango' 'art' 'audiobook' 'avantgarde' 'axé' 'baile' 'balkan'\n",
      " 'beats' 'bigroom' 'black' 'bluegrass' 'blues' 'bollywood' 'bossa'\n",
      " 'brazilian' 'breakbeat' 'breaks' 'broadway' 'cantautori' 'cantopop'\n",
      " 'canzone' 'caribbean' 'caucasian' 'celtic' 'chamber' 'children' 'chill'\n",
      " 'chinese' 'choral' 'christian' 'christmas' 'classical' 'classicmetal'\n",
      " 'club' 'colombian' 'comedy' 'conjazz' 'contemporary' 'country' 'cuban'\n",
      " 'dance' 'dancehall' 'dancepop' 'dark' 'death' 'deep' 'deutschrock'\n",
      " 'deutschspr' 'dirty' 'disco' 'dnb' 'documentary' 'downbeat' 'downtempo'\n",
      " 'drum' 'dub' 'dubstep' 'eastern' 'easy' 'electronic' 'electropop' 'emo'\n",
      " 'entehno' 'epicmetal' 'estrada' 'ethnic' 'eurofolk' 'european'\n",
      " 'experimental' 'extrememetal' 'fado' 'film' 'fitness' 'flamenco' 'folk'\n",
      " 'folklore' 'folkmetal' 'folkrock' 'folktronica' 'forró' 'frankreich'\n",
      " 'französisch' 'french' 'funk' 'future' 'gangsta' 'garage' 'german'\n",
      " 'ghazal' 'gitarre' 'glitch' 'gospel' 'gothic' 'grime' 'grunge' 'gypsy'\n",
      " 'handsup' \"hard'n'heavy\" 'hardcore' 'hardstyle' 'hardtechno' 'hip'\n",
      " 'hip-hop' 'hiphop' 'historisch' 'holiday' 'hop' 'horror' 'house' 'idm'\n",
      " 'independent' 'indian' 'indie' 'indipop' 'industrial' 'inspirational'\n",
      " 'instrumental' 'international' 'irish' 'jam' 'japanese' 'jazz' 'jewish'\n",
      " 'jpop' 'jungle' 'k-pop' 'karadeniz' 'karaoke' 'kayokyoku' 'korean'\n",
      " 'laiko' 'latin' 'latino' 'leftfield' 'local' 'lounge' 'loungeelectronic'\n",
      " 'lovers' 'malaysian' 'mandopop' 'marschmusik' 'meditative'\n",
      " 'mediterranean' 'melodic' 'metal' 'metalcore' 'mexican' 'middle'\n",
      " 'minimal' 'miscellaneous' 'modern' 'mood' 'mpb' 'muslim' 'native'\n",
      " 'neoklassik' 'neue' 'new' 'newage' 'newwave' 'nu' 'nujazz' 'numetal'\n",
      " 'oceania' 'old' 'opera' 'orchestral' 'other' 'piano' 'pop'\n",
      " 'popelectronic' 'popeurodance' 'post' 'posthardcore' 'postrock' 'power'\n",
      " 'progmetal' 'progressive' 'psychedelic' 'punjabi' 'punk' 'quebecois'\n",
      " 'ragga' 'ram' 'rancheras' 'rap' 'rave' 'reggae' 'reggaeton' 'regional'\n",
      " 'relax' 'religious' 'retro' 'rhythm' 'rnb' 'rnr' 'rock' 'rockabilly'\n",
      " 'romance' 'roots' 'ruspop' 'rusrap' 'rusrock' 'salsa' 'samba' 'schlager'\n",
      " 'self' 'sertanejo' 'shoegazing' 'showtunes' 'singer' 'ska' 'slow'\n",
      " 'smooth' 'soul' 'soulful' 'sound' 'soundtrack' 'southern' 'specialty'\n",
      " 'speech' 'spiritual' 'sport' 'stonerrock' 'surf' 'swing' 'synthpop'\n",
      " 'sängerportrait' 'tango' 'tanzorchester' 'taraftar' 'tech' 'techno'\n",
      " 'thrash' 'top' 'traditional' 'tradjazz' 'trance' 'tribal' 'trip'\n",
      " 'triphop' 'tropical' 'türk' 'türkçe' 'unknown' 'urban' 'uzbek' 'variété'\n",
      " 'vi' 'videogame' 'vocal' 'western' 'world' 'worldbeat' 'ïîï']\n"
     ]
    }
   ],
   "source": [
    "genero = df.loc[:,\"genre\"]\n",
    "print(genero.sort_values().unique())"
   ]
  },
  {
   "cell_type": "markdown",
   "metadata": {
    "id": "qej-Qmuo_Zct"
   },
   "source": [
    "Se buscará en la lista para encontrar duplicados implícitos del género hiphop. Estos pueden ser nombres escritos incorrectamente o nombres alternativos para el mismo género.\n",
    "\n",
    "Se observán los siguientes duplicados implícitos:\n",
    "* `hip`\n",
    "* `hop`\n",
    "* `hip-hop`\n",
    "\n",
    "Para deshacerse de ellos, se declarará la función replace_wrong_genres() con dos parámetros: \n",
    "* `wrong_genres=` — la lista de duplicados\n",
    "* `correct_genre=` — la string con el valor correcto\n",
    "\n",
    "La función debería corregir los nombres en la columna 'genre' de la tabla df, es decir, remplaza cada valor de la lista wrong_genres con el valor en correct_genre."
   ]
  },
  {
   "cell_type": "code",
   "execution_count": 15,
   "metadata": {
    "id": "ErNDkmns_Zct"
   },
   "outputs": [],
   "source": [
    "def replace_wrong_genres(wrong_genres, correct_genre):\n",
    "    for wrong_genre in wrong_genres:\n",
    "        df[\"genre\"] = df[\"genre\"].replace(wrong_genres, correct_genre)"
   ]
  },
  {
   "cell_type": "markdown",
   "metadata": {
    "id": "aDoBJxbA_Zct"
   },
   "source": [
    "Se llamará a replace_wrong_genres() y se pasarán argumentos para que retirar los duplicados implícitos (hip, hop y hip-hop) y los reemplace por hiphop:"
   ]
  },
  {
   "cell_type": "code",
   "execution_count": 16,
   "metadata": {
    "id": "YN5i2hpmSo09"
   },
   "outputs": [],
   "source": [
    "duplicates = ['hip', 'hop', \"hip-hop\"]\n",
    "name = 'hiphop'\n",
    "replace_wrong_genres(duplicates, name)  "
   ]
  },
  {
   "cell_type": "markdown",
   "metadata": {
    "id": "zQKF16_RG15m"
   },
   "source": [
    "Nos aseguraremos que los nombres duplicados han sido eliminados. Imprimiremos la lista de valores únicos de la columna 'genre':"
   ]
  },
  {
   "cell_type": "code",
   "execution_count": 17,
   "metadata": {
    "id": "wvixALnFG15m"
   },
   "outputs": [
    {
     "name": "stdout",
     "output_type": "stream",
     "text": [
      "['acid' 'acoustic' 'action' 'adult' 'africa' 'afrikaans' 'alternative'\n",
      " 'ambient' 'americana' 'animated' 'anime' 'arabesk' 'arabic' 'arena'\n",
      " 'argentinetango' 'art' 'audiobook' 'avantgarde' 'axé' 'baile' 'balkan'\n",
      " 'beats' 'bigroom' 'black' 'bluegrass' 'blues' 'bollywood' 'bossa'\n",
      " 'brazilian' 'breakbeat' 'breaks' 'broadway' 'cantautori' 'cantopop'\n",
      " 'canzone' 'caribbean' 'caucasian' 'celtic' 'chamber' 'children' 'chill'\n",
      " 'chinese' 'choral' 'christian' 'christmas' 'classical' 'classicmetal'\n",
      " 'club' 'colombian' 'comedy' 'conjazz' 'contemporary' 'country' 'cuban'\n",
      " 'dance' 'dancehall' 'dancepop' 'dark' 'death' 'deep' 'deutschrock'\n",
      " 'deutschspr' 'dirty' 'disco' 'dnb' 'documentary' 'downbeat' 'downtempo'\n",
      " 'drum' 'dub' 'dubstep' 'eastern' 'easy' 'electronic' 'electropop' 'emo'\n",
      " 'entehno' 'epicmetal' 'estrada' 'ethnic' 'eurofolk' 'european'\n",
      " 'experimental' 'extrememetal' 'fado' 'film' 'fitness' 'flamenco' 'folk'\n",
      " 'folklore' 'folkmetal' 'folkrock' 'folktronica' 'forró' 'frankreich'\n",
      " 'französisch' 'french' 'funk' 'future' 'gangsta' 'garage' 'german'\n",
      " 'ghazal' 'gitarre' 'glitch' 'gospel' 'gothic' 'grime' 'grunge' 'gypsy'\n",
      " 'handsup' \"hard'n'heavy\" 'hardcore' 'hardstyle' 'hardtechno' 'hiphop'\n",
      " 'historisch' 'holiday' 'horror' 'house' 'idm' 'independent' 'indian'\n",
      " 'indie' 'indipop' 'industrial' 'inspirational' 'instrumental'\n",
      " 'international' 'irish' 'jam' 'japanese' 'jazz' 'jewish' 'jpop' 'jungle'\n",
      " 'k-pop' 'karadeniz' 'karaoke' 'kayokyoku' 'korean' 'laiko' 'latin'\n",
      " 'latino' 'leftfield' 'local' 'lounge' 'loungeelectronic' 'lovers'\n",
      " 'malaysian' 'mandopop' 'marschmusik' 'meditative' 'mediterranean'\n",
      " 'melodic' 'metal' 'metalcore' 'mexican' 'middle' 'minimal'\n",
      " 'miscellaneous' 'modern' 'mood' 'mpb' 'muslim' 'native' 'neoklassik'\n",
      " 'neue' 'new' 'newage' 'newwave' 'nu' 'nujazz' 'numetal' 'oceania' 'old'\n",
      " 'opera' 'orchestral' 'other' 'piano' 'pop' 'popelectronic' 'popeurodance'\n",
      " 'post' 'posthardcore' 'postrock' 'power' 'progmetal' 'progressive'\n",
      " 'psychedelic' 'punjabi' 'punk' 'quebecois' 'ragga' 'ram' 'rancheras'\n",
      " 'rap' 'rave' 'reggae' 'reggaeton' 'regional' 'relax' 'religious' 'retro'\n",
      " 'rhythm' 'rnb' 'rnr' 'rock' 'rockabilly' 'romance' 'roots' 'ruspop'\n",
      " 'rusrap' 'rusrock' 'salsa' 'samba' 'schlager' 'self' 'sertanejo'\n",
      " 'shoegazing' 'showtunes' 'singer' 'ska' 'slow' 'smooth' 'soul' 'soulful'\n",
      " 'sound' 'soundtrack' 'southern' 'specialty' 'speech' 'spiritual' 'sport'\n",
      " 'stonerrock' 'surf' 'swing' 'synthpop' 'sängerportrait' 'tango'\n",
      " 'tanzorchester' 'taraftar' 'tech' 'techno' 'thrash' 'top' 'traditional'\n",
      " 'tradjazz' 'trance' 'tribal' 'trip' 'triphop' 'tropical' 'türk' 'türkçe'\n",
      " 'unknown' 'urban' 'uzbek' 'variété' 'vi' 'videogame' 'vocal' 'western'\n",
      " 'world' 'worldbeat' 'ïîï']\n"
     ]
    }
   ],
   "source": [
    "genero = df.loc[:,\"genre\"]\n",
    "print(genero.sort_values().unique())"
   ]
  },
  {
   "cell_type": "markdown",
   "metadata": {
    "id": "ALgNbvF3VtPA"
   },
   "source": [
    "[Volver a Contenidos](#back)"
   ]
  },
  {
   "cell_type": "markdown",
   "metadata": {
    "id": "jz6a9-7HQUDd"
   },
   "source": [
    "### Conclusiones <a id='data_preprocessing_conclusions'></a>\n",
    "Detectamos tres problemas con los datos:\n",
    "\n",
    "- Estilos de encabezados incorrectos\n",
    "- Valores ausentes\n",
    "- Duplicados obvios e implícitos\n",
    "\n",
    "Los encabezados han sido eliminados para conseguir que el procesamiento de la tabla sea más sencillo.\n",
    "\n",
    "Todos los valores ausentes han sido reemplazados por 'unknown'. Pero todavía tenemos que ver si los valores ausentes en 'genre' afectan a nuestros cálculos.\n",
    "\n",
    "La ausencia de duplicados hará que los resultados sean mas precisos y fáciles de entender.\n",
    "\n",
    "Ahora ya podemos continuar probando las hipótesis. "
   ]
  },
  {
   "cell_type": "markdown",
   "metadata": {
    "id": "eK1es74rVujj"
   },
   "source": [
    "[Volver a Contenidos](#back)"
   ]
  },
  {
   "cell_type": "markdown",
   "metadata": {
    "id": "WttZHXH0SqKk"
   },
   "source": [
    "## Etapa 3. Prueba de hipótesis <a id='hypotheses'></a>"
   ]
  },
  {
   "cell_type": "markdown",
   "metadata": {
    "id": "Im936VVi_Zcu"
   },
   "source": [
    "### Hipótesis 1: comparar el comportamiento del usuario en las dos ciudades <a id='activity'></a>"
   ]
  },
  {
   "cell_type": "markdown",
   "metadata": {
    "id": "nwt_MuaL_Zcu"
   },
   "source": [
    "De acuerdo con la primera hipótesis, los usuarios de Springfield y Shelbyville escuchan música de forma distinta. Comprobaremos esto utilizando los datos de tres días de la semana: lunes, miércoles y viernes.\n",
    "\n",
    "* Dividiremos a los usuarios en grupos por ciudad.\n",
    "* Compararemos cuántas pistas reprodujo cada grupo el lunes, el miércoles y el viernes."
   ]
  },
  {
   "cell_type": "markdown",
   "metadata": {
    "id": "8Dw_YMmT_Zcu"
   },
   "source": [
    "Por el bien del ejercicio, se realizará cada cálculo de forma separada. \n",
    "\n",
    "Se evaluará la actividad del usuario en cada ciudad. Se agruparán los datos por ciudad y se buscará el número de canciones reproducidas en cada grupo."
   ]
  },
  {
   "cell_type": "code",
   "execution_count": 18,
   "metadata": {
    "id": "0_Qs96oh_Zcu"
   },
   "outputs": [
    {
     "name": "stdout",
     "output_type": "stream",
     "text": [
      "             user_id  track  artist  genre   time    day\n",
      "city                                                    \n",
      "Shelbyville    18512  18512   18512  18512  18512  18512\n",
      "Springfield    42741  42741   42741  42741  42741  42741\n"
     ]
    }
   ],
   "source": [
    "print(df.groupby('city').count()) "
   ]
  },
  {
   "cell_type": "markdown",
   "metadata": {
    "id": "dzli3w8o_Zcu"
   },
   "source": [
    "Springfield ha reproducido más pistas que Shelbyville. Pero eso no implica que los ciudadanos de Springfield escuchen música más a menudo. Esta ciudad es simplemente más grande y hay más usuarios.\n",
    "\n",
    "Ahora se agruparán los datos por día de la semana y se encontrará el número de pistas reproducidas el lunes, miércoles y viernes."
   ]
  },
  {
   "cell_type": "code",
   "execution_count": 19,
   "metadata": {
    "id": "uZMKjiJz_Zcu"
   },
   "outputs": [
    {
     "name": "stdout",
     "output_type": "stream",
     "text": [
      "           user_id  track  artist  genre   city   time\n",
      "day                                                   \n",
      "Friday       21840  21840   21840  21840  21840  21840\n",
      "Monday       21354  21354   21354  21354  21354  21354\n",
      "Wednesday    18059  18059   18059  18059  18059  18059\n"
     ]
    }
   ],
   "source": [
    "print(df.groupby('day').count()) "
   ]
  },
  {
   "cell_type": "markdown",
   "metadata": {
    "id": "cC2tNrlL_Zcu"
   },
   "source": [
    "El miércoles fue el día más silencioso de todos. Pero si consideramos las dos ciudades por separado podríamos llegar a una conclusión diferente."
   ]
  },
  {
   "cell_type": "markdown",
   "metadata": {
    "id": "POzs8bGa_Zcu"
   },
   "source": [
    "Se creará la función number_tracks() para calcular el número de canciones reproducidas en un determinado día y ciudad. Requerirá dos parámetros:\n",
    "* día de la semana\n",
    "* nombre de la ciudad\n",
    "\n",
    "En la función, se utilizará una variable para almacenar las filas de la tabla original, donde:\n",
    "  * el valor de la columna 'day' es igual al parámetro de día\n",
    "  * el valor de la columna 'city' es igual al parámetro de ciudad\n",
    "\n",
    "Se aplicará un filtrado consecutivo con indexación lógica.\n",
    "\n",
    "Después, se calcularán los valores de la columna 'user_id' en la tabla resultante. Se almacenará el resultado en la nueva variable, recuperando esta variable de la función."
   ]
  },
  {
   "cell_type": "code",
   "execution_count": 20,
   "metadata": {
    "id": "Nz3GdQB1_Zcu"
   },
   "outputs": [],
   "source": [
    "def number_tracks(dia, ciudad):\n",
    "    \n",
    "    track_list = df[(df['day'] == dia) & (df['city'] == ciudad)] \n",
    "    track_list_count = track_list[\"user_id\"].count()   \n",
    "    print(track_list_count)"
   ]
  },
  {
   "cell_type": "markdown",
   "metadata": {
    "id": "ytf7xFrFJQ2r"
   },
   "source": [
    "Se llamará a number_tracks() seis veces, cambiando los valores de los parámetros, para recuperar los datos de ambas ciudades para cada uno de los tres días."
   ]
  },
  {
   "cell_type": "code",
   "execution_count": 21,
   "metadata": {
    "id": "rJcRATNQ_Zcu"
   },
   "outputs": [
    {
     "name": "stdout",
     "output_type": "stream",
     "text": [
      "15740\n"
     ]
    }
   ],
   "source": [
    "number_tracks(\"Monday\", \"Springfield\")"
   ]
  },
  {
   "cell_type": "code",
   "execution_count": 22,
   "metadata": {
    "id": "hq_ncZ5T_Zcu"
   },
   "outputs": [
    {
     "name": "stdout",
     "output_type": "stream",
     "text": [
      "5614\n"
     ]
    }
   ],
   "source": [
    "number_tracks(\"Monday\", \"Shelbyville\")"
   ]
  },
  {
   "cell_type": "code",
   "execution_count": 23,
   "metadata": {
    "id": "_NTy2VPU_Zcu"
   },
   "outputs": [
    {
     "name": "stdout",
     "output_type": "stream",
     "text": [
      "11056\n"
     ]
    }
   ],
   "source": [
    "number_tracks(\"Wednesday\", \"Springfield\")"
   ]
  },
  {
   "cell_type": "code",
   "execution_count": 24,
   "metadata": {
    "id": "j2y3TAwo_Zcu"
   },
   "outputs": [
    {
     "name": "stdout",
     "output_type": "stream",
     "text": [
      "7003\n"
     ]
    }
   ],
   "source": [
    "number_tracks(\"Wednesday\", \"Shelbyville\")"
   ]
  },
  {
   "cell_type": "code",
   "execution_count": 25,
   "metadata": {
    "id": "vYDw5u_K_Zcu"
   },
   "outputs": [
    {
     "name": "stdout",
     "output_type": "stream",
     "text": [
      "15945\n"
     ]
    }
   ],
   "source": [
    "number_tracks(\"Friday\", \"Springfield\")"
   ]
  },
  {
   "cell_type": "code",
   "execution_count": 26,
   "metadata": {
    "id": "8_yzFtW3_Zcu"
   },
   "outputs": [
    {
     "name": "stdout",
     "output_type": "stream",
     "text": [
      "5895\n"
     ]
    }
   ],
   "source": [
    "number_tracks(\"Friday\", \"Shelbyville\")"
   ]
  },
  {
   "cell_type": "markdown",
   "metadata": {
    "id": "7QXffbO-_Zcu"
   },
   "source": [
    "Se utilizará pd.DataFrame para crear una tabla, donde\n",
    "* Los nombres de las columnas son: `['city', 'monday', 'wednesday', 'friday']`\n",
    "* Los datos son los resultados que conseguiste de number_tracks()`"
   ]
  },
  {
   "cell_type": "code",
   "execution_count": 27,
   "metadata": {
    "id": "APAcLpOr_Zcu"
   },
   "outputs": [
    {
     "name": "stdout",
     "output_type": "stream",
     "text": [
      "          city  monday  wednesday  friday\n",
      "0  Springfield   15740      11056   15945\n",
      "1  Shelbyville    5614       7003    5895\n"
     ]
    }
   ],
   "source": [
    "matrix = [[\"Springfield\", 15740, 11056, 15945],\n",
    "          [\"Shelbyville\", 5614, 7003, 5895]]\n",
    "column_name = [\"city\", \"monday\", \"wednesday\", \"friday\"]\n",
    "print(pd.DataFrame(data = matrix, columns = column_name))"
   ]
  },
  {
   "cell_type": "markdown",
   "metadata": {
    "id": "-EgPIHYu_Zcu"
   },
   "source": [
    "**Conclusiones**\n",
    "\n",
    "Los datos revelan las diferencias en el comportamiento de los usuarios:\n",
    "\n",
    "- En Springfield, el número de canciones reproducidas alcanzan el punto máximo los lunes y viernes mientras que los miércoles hay un descenso de la actividad.\n",
    "- En Shelbyville, al contario, los usuarios escuchan más música los miércoles. La actividad de los usuarios los lunes y viernes es menor.\n",
    "\n",
    "Así que la primera hipótesis parece ser correcta."
   ]
  },
  {
   "cell_type": "markdown",
   "metadata": {
    "id": "p7nFQajCVw5B"
   },
   "source": [
    "[Volver a Contenidos](#back)"
   ]
  },
  {
   "cell_type": "markdown",
   "metadata": {
    "id": "atZAxtq4_Zcu"
   },
   "source": [
    "### Hipótesis 2: música al principio y al final de la semana <a id='week'></a>"
   ]
  },
  {
   "cell_type": "markdown",
   "metadata": {
    "id": "eXrQqXFH_Zcu"
   },
   "source": [
    "De acuerdo con la segunda hipótesis, los lunes por la mañana y los viernes por la noche los ciudadanos de Springfield escuchan géneros que difieren de aquellos que los usuarios de Shelbyville disfrutan."
   ]
  },
  {
   "cell_type": "markdown",
   "metadata": {
    "id": "S8UcW6Hw_Zcu"
   },
   "source": [
    "Se obtndrán tablas:\n",
    "* Para Springfield — `spr_general`\n",
    "* Para Shelbyville — `shel_general`"
   ]
  },
  {
   "cell_type": "code",
   "execution_count": 28,
   "metadata": {
    "id": "qeaFfM_P_Zcu"
   },
   "outputs": [],
   "source": [
    "spr_general = df[df['city'] == 'Springfield']"
   ]
  },
  {
   "cell_type": "code",
   "execution_count": 29,
   "metadata": {
    "id": "ORaVRKto_Zcu"
   },
   "outputs": [],
   "source": [
    "shel_general = df[df['city'] == 'Shelbyville']"
   ]
  },
  {
   "cell_type": "markdown",
   "metadata": {
    "id": "MEJV-CX2_Zcu"
   },
   "source": [
    "Se escribirá la función genre_weekday() con cuatro parámetros:\n",
    "* Una tabla para los datos\n",
    "* El día de la semana\n",
    "* La marca de fecha y hora en formato 'hh:mm'\n",
    "* La marca de fecha y hora en formato 'hh:mm'\n",
    "\n",
    "La función debería devolver información de los 15 géneros más populares de un día determinado en un período entre dos marcas de fecha y hora."
   ]
  },
  {
   "cell_type": "code",
   "execution_count": 30,
   "metadata": {
    "id": "laJT9BYl_Zcu"
   },
   "outputs": [],
   "source": [
    "def genre_weekday(tabla, dia, time1, time2):\n",
    "    genre_df = tabla[(tabla['day'] == dia) & (tabla['time'] > time1) & (tabla['time'] < time2)]\n",
    "    genre_df_count = genre_df.groupby(\"genre\")[\"user_id\"].count()\n",
    "    genre_df_sorted = genre_df_count.sort_values(ascending=False)\n",
    "    return(genre_df_sorted.head(15))"
   ]
  },
  {
   "cell_type": "markdown",
   "metadata": {
    "id": "la2s2_PF_Zcu"
   },
   "source": [
    "Se comparará los resultados de la función `genre_weekday()`para Springfield y Shelbyville el lunes por la mañana (de 7 a 11) y el viernes por la tarde (de 17:00 a 23:00):"
   ]
  },
  {
   "cell_type": "code",
   "execution_count": 32,
   "metadata": {
    "id": "yz7itPUQ_Zcu"
   },
   "outputs": [
    {
     "data": {
      "text/plain": [
       "genre\n",
       "pop            781\n",
       "dance          549\n",
       "electronic     480\n",
       "rock           474\n",
       "hiphop         286\n",
       "ruspop         186\n",
       "world          181\n",
       "rusrap         175\n",
       "alternative    164\n",
       "unknown        161\n",
       "classical      157\n",
       "metal          120\n",
       "jazz           100\n",
       "folk            97\n",
       "soundtrack      95\n",
       "Name: user_id, dtype: int64"
      ]
     },
     "execution_count": 32,
     "metadata": {},
     "output_type": "execute_result"
    }
   ],
   "source": [
    "genre_weekday(spr_general, 'Monday', '07:00', '11:00')"
   ]
  },
  {
   "cell_type": "code",
   "execution_count": 33,
   "metadata": {
    "id": "kwUcHPdy_Zcu"
   },
   "outputs": [
    {
     "data": {
      "text/plain": [
       "genre\n",
       "pop            218\n",
       "dance          182\n",
       "rock           162\n",
       "electronic     147\n",
       "hiphop          80\n",
       "ruspop          64\n",
       "alternative     58\n",
       "rusrap          55\n",
       "jazz            44\n",
       "classical       40\n",
       "world           36\n",
       "rap             32\n",
       "soundtrack      31\n",
       "rnb             27\n",
       "metal           27\n",
       "Name: user_id, dtype: int64"
      ]
     },
     "execution_count": 33,
     "metadata": {},
     "output_type": "execute_result"
    }
   ],
   "source": [
    "genre_weekday(shel_general, 'Monday', '07:00', '11:00')"
   ]
  },
  {
   "cell_type": "code",
   "execution_count": 34,
   "metadata": {
    "id": "EzXVRE1o_Zcu"
   },
   "outputs": [
    {
     "data": {
      "text/plain": [
       "genre\n",
       "pop            713\n",
       "rock           517\n",
       "dance          495\n",
       "electronic     482\n",
       "hiphop         273\n",
       "world          208\n",
       "ruspop         170\n",
       "classical      163\n",
       "alternative    163\n",
       "rusrap         142\n",
       "jazz           111\n",
       "unknown        110\n",
       "soundtrack     105\n",
       "rnb             90\n",
       "metal           88\n",
       "Name: user_id, dtype: int64"
      ]
     },
     "execution_count": 34,
     "metadata": {},
     "output_type": "execute_result"
    }
   ],
   "source": [
    "genre_weekday(spr_general, 'Friday', '17:00', '23:00')"
   ]
  },
  {
   "cell_type": "code",
   "execution_count": 35,
   "metadata": {
    "id": "JZaEKu5v_Zcu"
   },
   "outputs": [
    {
     "data": {
      "text/plain": [
       "genre\n",
       "pop            256\n",
       "rock           216\n",
       "electronic     216\n",
       "dance          210\n",
       "hiphop          97\n",
       "alternative     63\n",
       "jazz            61\n",
       "classical       60\n",
       "rusrap          59\n",
       "world           54\n",
       "unknown         47\n",
       "ruspop          47\n",
       "soundtrack      40\n",
       "metal           39\n",
       "rap             36\n",
       "Name: user_id, dtype: int64"
      ]
     },
     "execution_count": 35,
     "metadata": {},
     "output_type": "execute_result"
    }
   ],
   "source": [
    "genre_weekday(shel_general, 'Friday', '17:00', '23:00')"
   ]
  },
  {
   "cell_type": "markdown",
   "metadata": {
    "id": "wrCe4MNX_Zcu"
   },
   "source": [
    "**Conclusión**\n",
    "\n",
    "Habiendo comparado los 15 géneros más populares del lunes por la mañana podemos concluir lo siguiente:\n",
    "\n",
    "1. Los usuarios de Springfield y Shelbyville escuchan música similar. Los cinco géneros más populares son los mismos, solo rock y electrónica han intercambiado posiciones.\n",
    "\n",
    "2. En Springfield el número de valores ausentes resultaron ser tan altos que el valor 'unknown' llegó al décimo lugar los días lunes y al doceavo los dias viernes. Esto significa que los valores ausentes forman una parte considerable de los datos, lo que podría ser la base de la cuestión sobre la fiabilidad de nuestras conclusiones.\n",
    "\n",
    "Para el viernes por la tarde, la situación es similar. Los géneros individuales varían algo pero, en general, los 15 más populares son parecidos en las dos ciudades.\n",
    "\n",
    "De esta forma, la segunda hipótesis ha sido parcialmente demostrada:\n",
    "* Los usuarios escuchan música similar al principio y al final de la semana.\n",
    "* No hay una gran diferencia entre Springfield y Shelbyville. En ambas ciudades, el pop es el género más popular.\n",
    "\n",
    "Sin embargo, el número de valores ausentes hace este resultado un tanto cuestionable. En Springfield, hay tantos que afectan a nuestros 15 más populares. De no faltarnos esos valores, las cosas podrían parecer diferentes."
   ]
  },
  {
   "cell_type": "markdown",
   "metadata": {
    "id": "jLmXgdanVyhP"
   },
   "source": [
    "[Volver a Contenidos](#back)"
   ]
  },
  {
   "cell_type": "markdown",
   "metadata": {
    "id": "JolODAqr_Zcu"
   },
   "source": [
    "### Hipótesis 3: preferencias de género en Springfield y Shelbyville <a id='genre'></a>\n",
    "\n",
    "Hipótesis: Shelbyville ama la música rap. A los ciudadanos de Springfield les gusta más el pop."
   ]
  },
  {
   "cell_type": "markdown",
   "metadata": {
    "id": "DlegSvaT_Zcu"
   },
   "source": [
    "Se agrupará la tabla spr_general por género y se encontrará el número de canciones reproducidas de cada género con el método count(). Después, se ordenará el resultado en orden descendente y se guardará en spr_genres."
   ]
  },
  {
   "cell_type": "code",
   "execution_count": 36,
   "metadata": {
    "id": "r19lIPke_Zcu"
   },
   "outputs": [],
   "source": [
    "spr_grouped = spr_general.groupby(\"genre\")[\"user_id\"].count()\n",
    "spr_genres = spr_grouped.sort_values(ascending=False)"
   ]
  },
  {
   "cell_type": "markdown",
   "metadata": {
    "id": "6kMuomxTiIr8"
   },
   "source": [
    "Se imprimirán las 10 primeras filas de spr_genres:"
   ]
  },
  {
   "cell_type": "code",
   "execution_count": 37,
   "metadata": {
    "id": "WhCSooF8_Zcv"
   },
   "outputs": [
    {
     "name": "stdout",
     "output_type": "stream",
     "text": [
      "genre\n",
      "pop            5892\n",
      "dance          4435\n",
      "rock           3965\n",
      "electronic     3786\n",
      "hiphop         2096\n",
      "classical      1616\n",
      "world          1432\n",
      "alternative    1379\n",
      "ruspop         1372\n",
      "rusrap         1161\n",
      "Name: user_id, dtype: int64\n"
     ]
    }
   ],
   "source": [
    "print(spr_genres.head(10))"
   ]
  },
  {
   "cell_type": "markdown",
   "metadata": {
    "id": "cnPG2vnN_Zcv"
   },
   "source": [
    "Ahora se hará lo mismo con los datos de Shelbyville.\n",
    "\n",
    "Se agrupará la tabla shel_general por género y encontrará el número de canciones reproducidas de cada género. Después, se ordenará el resultado en orden descendente y guardará en la tabla shel_genres:"
   ]
  },
  {
   "cell_type": "code",
   "execution_count": 38,
   "metadata": {
    "id": "gluLIpE7_Zcv"
   },
   "outputs": [],
   "source": [
    "shel_grouped = shel_general.groupby(\"genre\")[\"user_id\"].count()\n",
    "shel_genres = shel_grouped.sort_values(ascending=False)"
   ]
  },
  {
   "cell_type": "markdown",
   "metadata": {
    "id": "5Doha_ODgyQ8"
   },
   "source": [
    "Se imprime las 10 primeras filas de shel_genres:"
   ]
  },
  {
   "cell_type": "code",
   "execution_count": 39,
   "metadata": {
    "id": "uaGJHjVU_Zcv"
   },
   "outputs": [
    {
     "name": "stdout",
     "output_type": "stream",
     "text": [
      "genre\n",
      "pop            2431\n",
      "dance          1932\n",
      "rock           1879\n",
      "electronic     1736\n",
      "hiphop          960\n",
      "alternative     649\n",
      "classical       646\n",
      "rusrap          564\n",
      "ruspop          538\n",
      "world           515\n",
      "Name: user_id, dtype: int64\n"
     ]
    }
   ],
   "source": [
    "print(shel_genres.head(10))"
   ]
  },
  {
   "cell_type": "markdown",
   "metadata": {
    "id": "RY51YJYu_Zcv"
   },
   "source": [
    "**Conclusión**"
   ]
  },
  {
   "cell_type": "markdown",
   "metadata": {
    "id": "nVhnJEm__Zcv"
   },
   "source": [
    "La hipótesis ha sido parcialmente demostrada:\n",
    "* La música pop es el género más popular en Springfield, tal como se esperaba.\n",
    "* Sin embargo, la música pop ha resultado ser igual de popular en Springfield que en Shelbyville y el rap no estaba entre los 5 más populares en ninguna de las ciudades.\n"
   ]
  },
  {
   "cell_type": "markdown",
   "metadata": {
    "id": "Byr0RfpPVz14"
   },
   "source": [
    "[Volver a Contenidos](#back)"
   ]
  },
  {
   "cell_type": "markdown",
   "metadata": {
    "id": "ykKQ0N65_Zcv"
   },
   "source": [
    "# Conclusiones <a id='end'></a>"
   ]
  },
  {
   "cell_type": "markdown",
   "metadata": {
    "id": "tjUwbHb3_Zcv"
   },
   "source": [
    "Hemos probado las siguientes tres hipótesis:\n",
    "\n",
    "1. La actividad de los usuarios difiere dependiendo del día de la semana y de las distintas ciudades. \n",
    "2. Los lunes por la mañana los residentes de Springfield y Shelbyville escuchan géneros distintos. Lo mismo ocurre con los viernes por la noche.\n",
    "3. Los oyentes de Springfield y Shelbyville tienen distintas preferencias. En ambas ciudades, Springfield y Shelbyville, se prefiere el pop.\n",
    "\n",
    "Tras analizar los datos, concluimos:\n",
    "\n",
    "1. La actividad del usuario en Springfield y Shelbyville depende del día de la semana aunque las ciudades varían de diferentes formas. \n",
    "\n",
    "La primera hipótesis ha sido aceptada completamente.\n",
    "\n",
    "2. Las preferencias musicales no varían significativamente en el transcurso de la semana en Springfield y Shelbyville. Podemos observar pequeñas diferencias en el orden los lunes, pero:\n",
    "* En Springfield y Shelbyville la gente lo que más escucha es la música pop.\n",
    "\n",
    "Así que no podemos aceptar esta hipótesis. También debemos tener en cuenta que el resultado podría haber sido diferente si no fuera por los valores ausentes.\n",
    "\n",
    "3. Resulta que las preferencias musicales de los usuarios de Springfield y Shelbyville son bastante parecidas.\n",
    "\n",
    "La tercera hipótesis es rechazada. Si hay alguna diferencia en las preferencias no se puede observar en los datos."
   ]
  },
  {
   "cell_type": "markdown",
   "metadata": {
    "id": "Ju4AHDSgV1FE"
   },
   "source": [
    "[Volver a Contenidos](#back)"
   ]
  }
 ],
 "metadata": {
  "ExecuteTimeLog": [
   {
    "duration": 569,
    "start_time": "2022-04-11T22:02:23.092Z"
   },
   {
    "duration": 3,
    "start_time": "2022-04-11T22:02:26.741Z"
   },
   {
    "duration": 63,
    "start_time": "2022-04-11T22:04:35.916Z"
   },
   {
    "duration": 598,
    "start_time": "2022-04-11T22:04:55.648Z"
   },
   {
    "duration": 7,
    "start_time": "2022-04-11T22:05:17.251Z"
   },
   {
    "duration": 6,
    "start_time": "2022-04-11T22:05:21.197Z"
   },
   {
    "duration": 10,
    "start_time": "2022-04-11T22:05:28.594Z"
   },
   {
    "duration": 8,
    "start_time": "2022-04-11T22:05:32.898Z"
   },
   {
    "duration": 27,
    "start_time": "2022-04-11T22:07:04.818Z"
   },
   {
    "duration": 4,
    "start_time": "2022-04-11T22:41:45.082Z"
   },
   {
    "duration": 191,
    "start_time": "2022-04-12T01:08:58.228Z"
   },
   {
    "duration": 190,
    "start_time": "2022-04-12T01:09:17.757Z"
   },
   {
    "duration": 10,
    "start_time": "2022-04-12T01:10:14.260Z"
   },
   {
    "duration": 3,
    "start_time": "2022-04-12T01:10:31.551Z"
   },
   {
    "duration": 42,
    "start_time": "2022-04-12T01:11:40.351Z"
   },
   {
    "duration": 22,
    "start_time": "2022-04-12T01:11:47.522Z"
   },
   {
    "duration": 23,
    "start_time": "2022-04-12T01:12:48.861Z"
   },
   {
    "duration": 27,
    "start_time": "2022-04-12T01:46:35.771Z"
   },
   {
    "duration": 7,
    "start_time": "2022-04-12T01:46:55.550Z"
   },
   {
    "duration": 24,
    "start_time": "2022-04-12T01:47:12.629Z"
   },
   {
    "duration": 22,
    "start_time": "2022-04-12T01:52:21.312Z"
   },
   {
    "duration": 45,
    "start_time": "2022-04-12T02:05:16.846Z"
   },
   {
    "duration": 47,
    "start_time": "2022-04-12T02:05:54.760Z"
   },
   {
    "duration": 52,
    "start_time": "2022-04-12T02:06:16.281Z"
   },
   {
    "duration": 31,
    "start_time": "2022-04-12T02:07:08.867Z"
   },
   {
    "duration": 24,
    "start_time": "2022-04-12T02:07:26.114Z"
   },
   {
    "duration": 45,
    "start_time": "2022-04-12T02:07:37.561Z"
   },
   {
    "duration": 30,
    "start_time": "2022-04-12T02:07:49.419Z"
   },
   {
    "duration": 36,
    "start_time": "2022-04-12T02:08:09.099Z"
   },
   {
    "duration": 26,
    "start_time": "2022-04-12T02:08:27.602Z"
   },
   {
    "duration": 364,
    "start_time": "2022-04-12T02:08:59.104Z"
   },
   {
    "duration": 132,
    "start_time": "2022-04-12T02:09:03.402Z"
   },
   {
    "duration": 7,
    "start_time": "2022-04-12T02:09:06.735Z"
   },
   {
    "duration": 29,
    "start_time": "2022-04-12T02:09:13.692Z"
   },
   {
    "duration": 3,
    "start_time": "2022-04-12T02:09:19.172Z"
   },
   {
    "duration": 13,
    "start_time": "2022-04-12T02:09:22.007Z"
   },
   {
    "duration": 3,
    "start_time": "2022-04-12T02:09:24.688Z"
   },
   {
    "duration": 28,
    "start_time": "2022-04-12T02:09:30.492Z"
   },
   {
    "duration": 29,
    "start_time": "2022-04-12T02:09:35.379Z"
   },
   {
    "duration": 24,
    "start_time": "2022-04-12T02:09:38.384Z"
   },
   {
    "duration": 59,
    "start_time": "2022-04-12T02:10:18.060Z"
   },
   {
    "duration": 56,
    "start_time": "2022-04-12T02:10:25.347Z"
   },
   {
    "duration": 74,
    "start_time": "2022-04-12T02:13:03.268Z"
   },
   {
    "duration": 54,
    "start_time": "2022-04-12T02:13:10.946Z"
   },
   {
    "duration": 6,
    "start_time": "2022-04-12T02:16:06.199Z"
   },
   {
    "duration": 182,
    "start_time": "2022-04-12T02:19:13.627Z"
   },
   {
    "duration": 348,
    "start_time": "2022-04-12T02:20:20.853Z"
   },
   {
    "duration": 89,
    "start_time": "2022-04-12T02:20:38.263Z"
   },
   {
    "duration": 40,
    "start_time": "2022-04-12T02:22:46.158Z"
   },
   {
    "duration": 37,
    "start_time": "2022-04-12T02:23:42.078Z"
   },
   {
    "duration": 367,
    "start_time": "2022-04-12T16:41:36.144Z"
   },
   {
    "duration": 149,
    "start_time": "2022-04-12T16:41:37.728Z"
   },
   {
    "duration": 8,
    "start_time": "2022-04-12T16:41:42.151Z"
   },
   {
    "duration": 29,
    "start_time": "2022-04-12T16:41:45.272Z"
   },
   {
    "duration": 3,
    "start_time": "2022-04-12T16:41:49.264Z"
   },
   {
    "duration": 13,
    "start_time": "2022-04-12T16:41:51.482Z"
   },
   {
    "duration": 3,
    "start_time": "2022-04-12T16:41:54.048Z"
   },
   {
    "duration": 28,
    "start_time": "2022-04-12T16:41:56.218Z"
   },
   {
    "duration": 30,
    "start_time": "2022-04-12T16:41:58.735Z"
   },
   {
    "duration": 25,
    "start_time": "2022-04-12T16:42:00.725Z"
   },
   {
    "duration": 63,
    "start_time": "2022-04-12T16:42:04.503Z"
   },
   {
    "duration": 82,
    "start_time": "2022-04-12T16:42:15.690Z"
   },
   {
    "duration": 54,
    "start_time": "2022-04-12T16:42:17.564Z"
   },
   {
    "duration": 61,
    "start_time": "2022-04-12T16:43:52.242Z"
   },
   {
    "duration": 7,
    "start_time": "2022-04-12T16:44:20.321Z"
   },
   {
    "duration": 7,
    "start_time": "2022-04-12T16:44:30.198Z"
   },
   {
    "duration": 41,
    "start_time": "2022-04-12T16:55:16.459Z"
   },
   {
    "duration": 3,
    "start_time": "2022-04-12T17:20:15.887Z"
   },
   {
    "duration": 25,
    "start_time": "2022-04-12T17:20:17.758Z"
   },
   {
    "duration": 41,
    "start_time": "2022-04-12T17:20:38.190Z"
   },
   {
    "duration": 29,
    "start_time": "2022-04-12T17:31:38.351Z"
   },
   {
    "duration": 30,
    "start_time": "2022-04-12T17:32:26.625Z"
   },
   {
    "duration": 406,
    "start_time": "2022-04-13T01:58:16.512Z"
   },
   {
    "duration": 147,
    "start_time": "2022-04-13T01:58:18.525Z"
   },
   {
    "duration": 9,
    "start_time": "2022-04-13T01:58:20.484Z"
   },
   {
    "duration": 31,
    "start_time": "2022-04-13T01:58:24.365Z"
   },
   {
    "duration": 3,
    "start_time": "2022-04-13T01:58:28.420Z"
   },
   {
    "duration": 14,
    "start_time": "2022-04-13T01:58:30.665Z"
   },
   {
    "duration": 4,
    "start_time": "2022-04-13T01:58:33.779Z"
   },
   {
    "duration": 29,
    "start_time": "2022-04-13T01:58:36.380Z"
   },
   {
    "duration": 31,
    "start_time": "2022-04-13T01:58:46.957Z"
   },
   {
    "duration": 27,
    "start_time": "2022-04-13T01:58:48.862Z"
   },
   {
    "duration": 62,
    "start_time": "2022-04-13T01:58:51.555Z"
   },
   {
    "duration": 76,
    "start_time": "2022-04-13T01:58:53.691Z"
   },
   {
    "duration": 53,
    "start_time": "2022-04-13T01:58:56.315Z"
   },
   {
    "duration": 38,
    "start_time": "2022-04-13T01:58:58.608Z"
   },
   {
    "duration": 3,
    "start_time": "2022-04-13T01:59:04.659Z"
   },
   {
    "duration": 26,
    "start_time": "2022-04-13T01:59:08.131Z"
   },
   {
    "duration": 39,
    "start_time": "2022-04-13T01:59:14.886Z"
   },
   {
    "duration": 29,
    "start_time": "2022-04-13T01:59:28.460Z"
   },
   {
    "duration": 29,
    "start_time": "2022-04-13T01:59:32.362Z"
   },
   {
    "duration": 3,
    "start_time": "2022-04-13T01:59:37.043Z"
   },
   {
    "duration": 16,
    "start_time": "2022-04-13T01:59:40.843Z"
   },
   {
    "duration": 14,
    "start_time": "2022-04-13T02:00:02.064Z"
   },
   {
    "duration": 15,
    "start_time": "2022-04-13T02:00:48.172Z"
   },
   {
    "duration": 13,
    "start_time": "2022-04-13T02:01:06.997Z"
   },
   {
    "duration": 16,
    "start_time": "2022-04-13T02:01:45.904Z"
   },
   {
    "duration": 13,
    "start_time": "2022-04-13T02:02:00.304Z"
   },
   {
    "duration": 6,
    "start_time": "2022-04-13T02:17:06.779Z"
   },
   {
    "duration": 12,
    "start_time": "2022-04-13T03:11:52.210Z"
   },
   {
    "duration": 13,
    "start_time": "2022-04-13T03:11:57.423Z"
   },
   {
    "duration": 9,
    "start_time": "2022-04-13T03:11:59.235Z"
   },
   {
    "duration": 18,
    "start_time": "2022-04-13T03:12:19.385Z"
   },
   {
    "duration": 12,
    "start_time": "2022-04-13T03:12:57.439Z"
   },
   {
    "duration": 46,
    "start_time": "2022-04-13T14:51:25.847Z"
   },
   {
    "duration": 395,
    "start_time": "2022-04-13T14:51:45.956Z"
   },
   {
    "duration": 202,
    "start_time": "2022-04-13T14:51:48.507Z"
   },
   {
    "duration": 8,
    "start_time": "2022-04-13T14:51:50.506Z"
   },
   {
    "duration": 30,
    "start_time": "2022-04-13T14:51:52.437Z"
   },
   {
    "duration": 3,
    "start_time": "2022-04-13T14:51:58.837Z"
   },
   {
    "duration": 13,
    "start_time": "2022-04-13T14:52:00.698Z"
   },
   {
    "duration": 4,
    "start_time": "2022-04-13T14:52:03.429Z"
   },
   {
    "duration": 29,
    "start_time": "2022-04-13T14:52:05.252Z"
   },
   {
    "duration": 32,
    "start_time": "2022-04-13T14:52:08.316Z"
   },
   {
    "duration": 26,
    "start_time": "2022-04-13T14:52:09.954Z"
   },
   {
    "duration": 66,
    "start_time": "2022-04-13T14:52:13.243Z"
   },
   {
    "duration": 81,
    "start_time": "2022-04-13T14:52:14.910Z"
   },
   {
    "duration": 54,
    "start_time": "2022-04-13T14:52:16.774Z"
   },
   {
    "duration": 40,
    "start_time": "2022-04-13T14:52:19.196Z"
   },
   {
    "duration": 3,
    "start_time": "2022-04-13T14:52:22.552Z"
   },
   {
    "duration": 23,
    "start_time": "2022-04-13T14:52:24.226Z"
   },
   {
    "duration": 39,
    "start_time": "2022-04-13T14:52:26.538Z"
   },
   {
    "duration": 32,
    "start_time": "2022-04-13T14:52:31.055Z"
   },
   {
    "duration": 32,
    "start_time": "2022-04-13T14:52:32.962Z"
   },
   {
    "duration": 4,
    "start_time": "2022-04-13T14:52:35.753Z"
   },
   {
    "duration": 16,
    "start_time": "2022-04-13T14:52:37.914Z"
   },
   {
    "duration": 14,
    "start_time": "2022-04-13T14:52:39.102Z"
   },
   {
    "duration": 15,
    "start_time": "2022-04-13T14:52:39.803Z"
   },
   {
    "duration": 14,
    "start_time": "2022-04-13T14:52:40.508Z"
   },
   {
    "duration": 16,
    "start_time": "2022-04-13T14:52:42.179Z"
   },
   {
    "duration": 14,
    "start_time": "2022-04-13T14:52:42.850Z"
   },
   {
    "duration": 7,
    "start_time": "2022-04-13T14:52:45.273Z"
   },
   {
    "duration": 17,
    "start_time": "2022-04-13T14:52:49.106Z"
   },
   {
    "duration": 14,
    "start_time": "2022-04-13T14:53:15.734Z"
   },
   {
    "duration": 17,
    "start_time": "2022-04-13T15:04:08.737Z"
   },
   {
    "duration": 17,
    "start_time": "2022-04-13T15:04:15.815Z"
   },
   {
    "duration": 4,
    "start_time": "2022-04-13T15:29:04.960Z"
   },
   {
    "duration": 16,
    "start_time": "2022-04-13T15:29:25.084Z"
   },
   {
    "duration": 11,
    "start_time": "2022-04-13T15:29:26.837Z"
   },
   {
    "duration": 16,
    "start_time": "2022-04-13T15:29:31.357Z"
   },
   {
    "duration": 11,
    "start_time": "2022-04-13T15:29:32.770Z"
   },
   {
    "duration": 10,
    "start_time": "2022-04-13T15:45:20.527Z"
   },
   {
    "duration": 4,
    "start_time": "2022-04-13T15:45:22.142Z"
   },
   {
    "duration": 7,
    "start_time": "2022-04-13T15:46:24.386Z"
   },
   {
    "duration": 4,
    "start_time": "2022-04-13T15:46:38.017Z"
   },
   {
    "duration": 69,
    "start_time": "2022-04-13T23:04:57.836Z"
   },
   {
    "duration": 9,
    "start_time": "2022-04-13T23:04:59.238Z"
   },
   {
    "duration": 519,
    "start_time": "2022-04-13T23:05:05.239Z"
   },
   {
    "duration": 514,
    "start_time": "2022-04-13T23:05:07.077Z"
   },
   {
    "duration": 16,
    "start_time": "2022-04-13T23:05:17.007Z"
   },
   {
    "duration": 59,
    "start_time": "2022-04-13T23:05:20.400Z"
   },
   {
    "duration": 5,
    "start_time": "2022-04-13T23:05:24.050Z"
   },
   {
    "duration": 18,
    "start_time": "2022-04-13T23:05:26.441Z"
   },
   {
    "duration": 5,
    "start_time": "2022-04-13T23:05:29.231Z"
   },
   {
    "duration": 41,
    "start_time": "2022-04-13T23:05:31.982Z"
   },
   {
    "duration": 43,
    "start_time": "2022-04-13T23:05:34.527Z"
   },
   {
    "duration": 36,
    "start_time": "2022-04-13T23:05:36.349Z"
   },
   {
    "duration": 59,
    "start_time": "2022-04-13T23:05:44.543Z"
   },
   {
    "duration": 36,
    "start_time": "2022-04-13T23:05:46.315Z"
   },
   {
    "duration": 103,
    "start_time": "2022-04-13T23:05:48.950Z"
   },
   {
    "duration": 124,
    "start_time": "2022-04-13T23:05:50.675Z"
   },
   {
    "duration": 88,
    "start_time": "2022-04-13T23:05:51.806Z"
   },
   {
    "duration": 51,
    "start_time": "2022-04-13T23:05:54.993Z"
   },
   {
    "duration": 4,
    "start_time": "2022-04-13T23:05:58.198Z"
   },
   {
    "duration": 33,
    "start_time": "2022-04-13T23:05:59.211Z"
   },
   {
    "duration": 53,
    "start_time": "2022-04-13T23:06:02.308Z"
   },
   {
    "duration": 44,
    "start_time": "2022-04-13T23:06:06.378Z"
   },
   {
    "duration": 43,
    "start_time": "2022-04-13T23:06:10.388Z"
   },
   {
    "duration": 5,
    "start_time": "2022-04-13T23:06:16.107Z"
   },
   {
    "duration": 22,
    "start_time": "2022-04-13T23:06:18.532Z"
   },
   {
    "duration": 18,
    "start_time": "2022-04-13T23:06:19.750Z"
   },
   {
    "duration": 18,
    "start_time": "2022-04-13T23:06:20.641Z"
   },
   {
    "duration": 17,
    "start_time": "2022-04-13T23:06:21.491Z"
   },
   {
    "duration": 22,
    "start_time": "2022-04-13T23:06:23.211Z"
   },
   {
    "duration": 18,
    "start_time": "2022-04-13T23:06:23.820Z"
   },
   {
    "duration": 9,
    "start_time": "2022-04-13T23:06:26.350Z"
   },
   {
    "duration": 14,
    "start_time": "2022-04-13T23:06:29.253Z"
   },
   {
    "duration": 13,
    "start_time": "2022-04-13T23:06:33.204Z"
   },
   {
    "duration": 6,
    "start_time": "2022-04-13T23:06:36.483Z"
   },
   {
    "duration": 21,
    "start_time": "2022-04-13T23:06:39.468Z"
   },
   {
    "duration": 15,
    "start_time": "2022-04-13T23:06:41.695Z"
   },
   {
    "duration": 20,
    "start_time": "2022-04-13T23:06:43.845Z"
   },
   {
    "duration": 16,
    "start_time": "2022-04-13T23:06:45.970Z"
   },
   {
    "duration": 13,
    "start_time": "2022-04-13T23:10:21.559Z"
   },
   {
    "duration": 6,
    "start_time": "2022-04-13T23:10:24.180Z"
   },
   {
    "duration": 10,
    "start_time": "2022-04-13T23:10:29.659Z"
   },
   {
    "duration": 5,
    "start_time": "2022-04-13T23:10:31.773Z"
   },
   {
    "duration": 10,
    "start_time": "2022-04-13T23:16:25.828Z"
   },
   {
    "duration": 394,
    "start_time": "2022-04-16T21:32:44.815Z"
   },
   {
    "duration": 139,
    "start_time": "2022-04-16T21:32:47.676Z"
   },
   {
    "duration": 15,
    "start_time": "2022-04-16T21:32:55.945Z"
   },
   {
    "duration": 28,
    "start_time": "2022-04-16T21:33:12.613Z"
   },
   {
    "duration": 3,
    "start_time": "2022-04-16T21:34:54.185Z"
   },
   {
    "duration": 4,
    "start_time": "2022-04-16T21:35:03.795Z"
   },
   {
    "duration": 11,
    "start_time": "2022-04-16T21:35:16.076Z"
   },
   {
    "duration": 4,
    "start_time": "2022-04-16T21:35:31.662Z"
   },
   {
    "duration": 23,
    "start_time": "2022-04-16T21:36:02.805Z"
   },
   {
    "duration": 20,
    "start_time": "2022-04-16T21:36:16.816Z"
   },
   {
    "duration": 23,
    "start_time": "2022-04-16T21:36:20.057Z"
   },
   {
    "duration": 64,
    "start_time": "2022-04-16T21:39:11.904Z"
   },
   {
    "duration": 71,
    "start_time": "2022-04-16T21:39:15.455Z"
   },
   {
    "duration": 53,
    "start_time": "2022-04-16T21:39:17.463Z"
   },
   {
    "duration": 38,
    "start_time": "2022-04-16T21:39:20.669Z"
   },
   {
    "duration": 2,
    "start_time": "2022-04-16T21:39:28.687Z"
   },
   {
    "duration": 23,
    "start_time": "2022-04-16T21:39:30.866Z"
   },
   {
    "duration": 37,
    "start_time": "2022-04-16T21:39:33.125Z"
   },
   {
    "duration": 28,
    "start_time": "2022-04-16T21:40:09.815Z"
   },
   {
    "duration": 29,
    "start_time": "2022-04-16T21:40:14.727Z"
   },
   {
    "duration": 4,
    "start_time": "2022-04-16T21:40:20.659Z"
   },
   {
    "duration": 14,
    "start_time": "2022-04-16T21:40:24.086Z"
   },
   {
    "duration": 13,
    "start_time": "2022-04-16T21:40:26.973Z"
   },
   {
    "duration": 13,
    "start_time": "2022-04-16T21:40:28.961Z"
   },
   {
    "duration": 13,
    "start_time": "2022-04-16T21:40:30.790Z"
   },
   {
    "duration": 14,
    "start_time": "2022-04-16T21:40:32.974Z"
   },
   {
    "duration": 12,
    "start_time": "2022-04-16T21:40:35.256Z"
   },
   {
    "duration": 6,
    "start_time": "2022-04-16T21:40:39.953Z"
   },
   {
    "duration": 10,
    "start_time": "2022-04-16T21:40:48.406Z"
   },
   {
    "duration": 8,
    "start_time": "2022-04-16T21:40:49.996Z"
   },
   {
    "duration": 3,
    "start_time": "2022-04-16T21:40:52.229Z"
   },
   {
    "duration": 14,
    "start_time": "2022-04-16T21:41:10.306Z"
   },
   {
    "duration": 10,
    "start_time": "2022-04-16T21:41:14.816Z"
   },
   {
    "duration": 15,
    "start_time": "2022-04-16T21:41:19.735Z"
   },
   {
    "duration": 10,
    "start_time": "2022-04-16T21:41:23.924Z"
   },
   {
    "duration": 9,
    "start_time": "2022-04-16T21:41:29.536Z"
   },
   {
    "duration": 3,
    "start_time": "2022-04-16T21:41:32.466Z"
   },
   {
    "duration": 7,
    "start_time": "2022-04-16T21:41:35.684Z"
   },
   {
    "duration": 4,
    "start_time": "2022-04-16T21:41:37.756Z"
   }
  ],
  "colab": {
   "collapsed_sections": [
    "E0vqbgi9ay0H",
    "VUC88oWjTJw2",
    "atZAxtq4_Zcu"
   ],
   "name": "EmptyFinalProject.ipynb\"",
   "provenance": []
  },
  "kernelspec": {
   "display_name": "Python 3 (ipykernel)",
   "language": "python",
   "name": "python3"
  },
  "language_info": {
   "codemirror_mode": {
    "name": "ipython",
    "version": 3
   },
   "file_extension": ".py",
   "mimetype": "text/x-python",
   "name": "python",
   "nbconvert_exporter": "python",
   "pygments_lexer": "ipython3",
   "version": "3.9.13"
  },
  "toc": {
   "base_numbering": 1,
   "nav_menu": {},
   "number_sections": true,
   "sideBar": true,
   "skip_h1_title": true,
   "title_cell": "Table of Contents",
   "title_sidebar": "Contents",
   "toc_cell": false,
   "toc_position": {},
   "toc_section_display": true,
   "toc_window_display": false
  }
 },
 "nbformat": 4,
 "nbformat_minor": 4
}
