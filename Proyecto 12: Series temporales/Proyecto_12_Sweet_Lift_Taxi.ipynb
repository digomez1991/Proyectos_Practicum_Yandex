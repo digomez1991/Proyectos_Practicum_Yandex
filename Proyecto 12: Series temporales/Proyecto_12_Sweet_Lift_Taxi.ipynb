{
 "cells": [
  {
   "cell_type": "markdown",
   "metadata": {},
   "source": [
    "# Sweet Lift Taxi"
   ]
  },
  {
   "cell_type": "markdown",
   "metadata": {},
   "source": [
    "## 1. Contenido"
   ]
  },
  {
   "cell_type": "markdown",
   "metadata": {},
   "source": [
    "* [1 Contenido](#content)\n",
    "* [2 Introducción](#content)\n",
    "* [3 Preparación](#prep)\n",
    "    * [3.1 Cargar Librerias](#library)\n",
    "    * [3.2 Cargar Datos](#datos)\n",
    "    * [3.3 Exploración](#exp) \n",
    "    * [3.4 Remuestreo](#remuetreo)    \n",
    "* [4 Análisis](#analisis) \n",
    "    * [4.1 Tendencias y estacionalidad](#tye)\n",
    "* [5 Formación](#form)\n",
    "    * [5.1 Diferencias de series temporales](#dif)\n",
    "    * [5.2 Creación de características](#carac)\n",
    "    * [5.3 Segmentación de datos](#seg)\n",
    "    * [5.4 Prueba de cordura](#pc)\n",
    "    * [5.5 Regresión lineal](#rl)\n",
    "    * [5.6 Random forest](#rf)    \n",
    "    * [5.7 XGBoost](#xgb)\n",
    "    * [5.8 LightGBM](#lgbm)\n",
    "* [6 Prueba](#test)"
   ]
  },
  {
   "cell_type": "markdown",
   "metadata": {},
   "source": [
    "## 2. Introducción"
   ]
  },
  {
   "cell_type": "markdown",
   "metadata": {},
   "source": [
    "La compañía Sweet Lift Taxi ha recopilado datos históricos sobre pedidos de taxis en los aeropuertos. Para atraer a más conductores durante las horas pico, necesitamos predecir la cantidad de pedidos de taxis para la próxima hora. Construiremos un modelo para dicha predicción.\n",
    "\n",
    "La métrica RECM en el conjunto de prueba no debe ser superior a 48."
   ]
  },
  {
   "cell_type": "markdown",
   "metadata": {},
   "source": [
    "## 3. Preparación"
   ]
  },
  {
   "cell_type": "markdown",
   "metadata": {},
   "source": [
    "### 3.1 Cargar Librerias"
   ]
  },
  {
   "cell_type": "markdown",
   "metadata": {},
   "source": [
    "Se procede a cargar las librerías que se utilizaran en el proyecto."
   ]
  },
  {
   "cell_type": "code",
   "execution_count": 1,
   "metadata": {},
   "outputs": [],
   "source": [
    "import pandas as pd\n",
    "from statsmodels.tsa.seasonal import seasonal_decompose\n",
    "import matplotlib.pyplot as plt\n",
    "\n",
    "import numpy as np\n",
    "from sklearn.model_selection import train_test_split\n",
    "from sklearn.linear_model import LinearRegression\n",
    "from sklearn.metrics import mean_squared_error\n",
    "import xgboost as xgb\n",
    "from sklearn.model_selection import GridSearchCV\n",
    "import lightgbm as lgbm\n",
    "from sklearn.ensemble import RandomForestRegressor\n",
    "\n",
    "from sklearn.neural_network import MLPRegressor"
   ]
  },
  {
   "cell_type": "markdown",
   "metadata": {},
   "source": [
    "### 3.2 Cargar datos"
   ]
  },
  {
   "cell_type": "markdown",
   "metadata": {},
   "source": [
    "Se procede a cargar los datos."
   ]
  },
  {
   "cell_type": "code",
   "execution_count": 2,
   "metadata": {},
   "outputs": [],
   "source": [
    "data = pd.read_csv('/datasets/taxi.csv', index_col=[0], parse_dates=[0])"
   ]
  },
  {
   "cell_type": "markdown",
   "metadata": {},
   "source": [
    "### 3.3 Exploración"
   ]
  },
  {
   "cell_type": "markdown",
   "metadata": {},
   "source": [
    "A continuación, procederemos a realizar un análisis sobre los datos entregados por Sweet Lift Taxi."
   ]
  },
  {
   "cell_type": "code",
   "execution_count": 3,
   "metadata": {},
   "outputs": [
    {
     "data": {
      "text/plain": [
       "True"
      ]
     },
     "execution_count": 3,
     "metadata": {},
     "output_type": "execute_result"
    }
   ],
   "source": [
    "data.index.is_monotonic"
   ]
  },
  {
   "cell_type": "markdown",
   "metadata": {},
   "source": [
    "Podemos confirmar que los datos se encuentran ordenados por fecha."
   ]
  },
  {
   "cell_type": "code",
   "execution_count": 4,
   "metadata": {},
   "outputs": [
    {
     "name": "stdout",
     "output_type": "stream",
     "text": [
      "<class 'pandas.core.frame.DataFrame'>\n",
      "DatetimeIndex: 26496 entries, 2018-03-01 00:00:00 to 2018-08-31 23:50:00\n",
      "Data columns (total 1 columns):\n",
      " #   Column      Non-Null Count  Dtype\n",
      "---  ------      --------------  -----\n",
      " 0   num_orders  26496 non-null  int64\n",
      "dtypes: int64(1)\n",
      "memory usage: 414.0 KB\n"
     ]
    }
   ],
   "source": [
    "data.info()"
   ]
  },
  {
   "cell_type": "code",
   "execution_count": 5,
   "metadata": {},
   "outputs": [
    {
     "data": {
      "text/html": [
       "<div>\n",
       "<style scoped>\n",
       "    .dataframe tbody tr th:only-of-type {\n",
       "        vertical-align: middle;\n",
       "    }\n",
       "\n",
       "    .dataframe tbody tr th {\n",
       "        vertical-align: top;\n",
       "    }\n",
       "\n",
       "    .dataframe thead th {\n",
       "        text-align: right;\n",
       "    }\n",
       "</style>\n",
       "<table border=\"1\" class=\"dataframe\">\n",
       "  <thead>\n",
       "    <tr style=\"text-align: right;\">\n",
       "      <th></th>\n",
       "      <th>num_orders</th>\n",
       "    </tr>\n",
       "    <tr>\n",
       "      <th>datetime</th>\n",
       "      <th></th>\n",
       "    </tr>\n",
       "  </thead>\n",
       "  <tbody>\n",
       "    <tr>\n",
       "      <th>2018-03-01 00:00:00</th>\n",
       "      <td>9</td>\n",
       "    </tr>\n",
       "    <tr>\n",
       "      <th>2018-03-01 00:10:00</th>\n",
       "      <td>14</td>\n",
       "    </tr>\n",
       "    <tr>\n",
       "      <th>2018-03-01 00:20:00</th>\n",
       "      <td>28</td>\n",
       "    </tr>\n",
       "    <tr>\n",
       "      <th>2018-03-01 00:30:00</th>\n",
       "      <td>20</td>\n",
       "    </tr>\n",
       "    <tr>\n",
       "      <th>2018-03-01 00:40:00</th>\n",
       "      <td>32</td>\n",
       "    </tr>\n",
       "  </tbody>\n",
       "</table>\n",
       "</div>"
      ],
      "text/plain": [
       "                     num_orders\n",
       "datetime                       \n",
       "2018-03-01 00:00:00           9\n",
       "2018-03-01 00:10:00          14\n",
       "2018-03-01 00:20:00          28\n",
       "2018-03-01 00:30:00          20\n",
       "2018-03-01 00:40:00          32"
      ]
     },
     "execution_count": 5,
     "metadata": {},
     "output_type": "execute_result"
    }
   ],
   "source": [
    "data.head()"
   ]
  },
  {
   "cell_type": "markdown",
   "metadata": {},
   "source": [
    "Observamos que los datos se encuentran con las fechas como índices y el número de ordenes realizadas en esa fecha como única columna, con un total de 26496 datos."
   ]
  },
  {
   "cell_type": "markdown",
   "metadata": {},
   "source": [
    "### 3.4. Remuestreo"
   ]
  },
  {
   "cell_type": "markdown",
   "metadata": {},
   "source": [
    "Procederemos a realizar el remuestreo de los datos por una hora."
   ]
  },
  {
   "cell_type": "code",
   "execution_count": 6,
   "metadata": {},
   "outputs": [],
   "source": [
    "data = data.resample('1H').sum()"
   ]
  },
  {
   "cell_type": "markdown",
   "metadata": {},
   "source": [
    "Continuaremos graficando la serie temporal tal cual como se encuentra en este momento."
   ]
  },
  {
   "cell_type": "code",
   "execution_count": 7,
   "metadata": {},
   "outputs": [
    {
     "data": {
      "text/plain": [
       "<AxesSubplot:xlabel='datetime'>"
      ]
     },
     "execution_count": 7,
     "metadata": {},
     "output_type": "execute_result"
    },
    {
     "data": {
      "image/png": "[encoded data removed]",
      "text/plain": [
       "<Figure size 432x288 with 1 Axes>"
      ]
     },
     "metadata": {
      "needs_background": "light"
     },
     "output_type": "display_data"
    }
   ],
   "source": [
    "data.plot()"
   ]
  },
  {
   "cell_type": "markdown",
   "metadata": {},
   "source": [
    "Al observar el grafico no podemos apreciar con claridad tendencias o patrones debido al cumulo de datos que este presenta, por lo cual no podemos obtener mayor información del mismo. Por lo anterior es que en la siguiente sección continuaremos analizando el gráfico por partes."
   ]
  },
  {
   "cell_type": "markdown",
   "metadata": {},
   "source": [
    "## 4. Análisis"
   ]
  },
  {
   "cell_type": "markdown",
   "metadata": {},
   "source": [
    "### 4.1. Tendencias y estacionalidad"
   ]
  },
  {
   "cell_type": "markdown",
   "metadata": {},
   "source": [
    "Comenzaremos el análisis de los datos elaborando gráficos de tendencia y estacionalidad para comprender de mejor manera los mismos."
   ]
  },
  {
   "cell_type": "code",
   "execution_count": 8,
   "metadata": {},
   "outputs": [
    {
     "data": {
      "image/png": "[encoded data removed]",
      "text/plain": [
       "<Figure size 576x576 with 3 Axes>"
      ]
     },
     "metadata": {
      "needs_background": "light"
     },
     "output_type": "display_data"
    }
   ],
   "source": [
    "decomposed = seasonal_decompose(data)\n",
    "\n",
    "plt.figure(figsize=(8, 8))\n",
    "plt.subplot(311)\n",
    "decomposed.trend.plot(ax=plt.gca())\n",
    "plt.title('Tendencia')\n",
    "plt.subplot(312)\n",
    "decomposed.seasonal.plot(ax=plt.gca())\n",
    "plt.title('Estacionalidad')\n",
    "plt.subplot(313)\n",
    "decomposed.resid.plot(ax=plt.gca())\n",
    "plt.title('Residuales')\n",
    "plt.tight_layout()"
   ]
  },
  {
   "cell_type": "markdown",
   "metadata": {},
   "source": [
    "En el grafico de tendencia podemos apreciar claramente que a través de los 6 meses que recopilan los datos existe una tendencia alcista en el número de pedidos, lo que se traduce en un alza sostenida de los pedidos de taxis a través del tiempo. En el caso de la estacionalidad, debido a que los datos se encuentran remuestrados por hora, no somos capaces de observar algún patrón al existir demasiados datos agrupados. Con respecto a los residuales, al no poder explicarse por los dos gráficos anteriores y ser básicamente solo ruido, no se les analizara en mayor detalle.\n",
    "\n",
    "Por lo anterior procederemos a realizar otro grafico de estacionalidad, pero solo con datos correspondientes a 3 días. "
   ]
  },
  {
   "cell_type": "code",
   "execution_count": 9,
   "metadata": {},
   "outputs": [
    {
     "data": {
      "text/plain": [
       "Text(0.5, 1.0, 'Estacionalidad')"
      ]
     },
     "execution_count": 9,
     "metadata": {},
     "output_type": "execute_result"
    },
    {
     "data": {
      "image/png": "[encoded data removed]",
      "text/plain": [
       "<Figure size 576x576 with 1 Axes>"
      ]
     },
     "metadata": {
      "needs_background": "light"
     },
     "output_type": "display_data"
    }
   ],
   "source": [
    "decomposed_seas = seasonal_decompose(data['2018-03-01':'2018-03-03'])\n",
    "\n",
    "plt.figure(figsize=(8, 8))\n",
    "plt.subplot(312)\n",
    "decomposed_seas.seasonal.plot(ax=plt.gca())\n",
    "plt.title('Estacionalidad')"
   ]
  },
  {
   "cell_type": "markdown",
   "metadata": {},
   "source": [
    "Al observar el grafico de estacionalidad delimitado a tres días, podemos apreciar claramente que existe un patrón cíclico diario que se repite. Podemos notar que el peak máximo de pedidos de taxis se da alrededor de las 12 de la noche, estos descienden constantemente hasta llegar a su mínimo alrededor de las 3 de la mañana, posteriormente vuelven a subir existiendo un nuevo peak, menor que el de las 12 de la noche, alrededor de las 11am para descender hasta el mediodía y luego volver a aumentar con alzas y bajas hasta llegar nuevamente al peak máximo de las 12 noches."
   ]
  },
  {
   "cell_type": "markdown",
   "metadata": {},
   "source": [
    "## 5. Formación"
   ]
  },
  {
   "cell_type": "markdown",
   "metadata": {},
   "source": [
    "### 5.1. Diferencias de series temporales"
   ]
  },
  {
   "cell_type": "markdown",
   "metadata": {},
   "source": [
    "Comenzaremos el entrenamiento de los modelos comprobando si la serie temporal es una serie estacionaria."
   ]
  },
  {
   "cell_type": "code",
   "execution_count": 10,
   "metadata": {},
   "outputs": [
    {
     "data": {
      "text/plain": [
       "<AxesSubplot:xlabel='datetime'>"
      ]
     },
     "execution_count": 10,
     "metadata": {},
     "output_type": "execute_result"
    },
    {
     "data": {
      "image/png": "[encoded data removed]",
      "text/plain": [
       "<Figure size 432x288 with 1 Axes>"
      ]
     },
     "metadata": {
      "needs_background": "light"
     },
     "output_type": "display_data"
    }
   ],
   "source": [
    "data['mean'] = data['num_orders'].rolling(15).mean()\n",
    "data['std'] = data['num_orders'].rolling(15).std()\n",
    "data.plot()"
   ]
  },
  {
   "cell_type": "markdown",
   "metadata": {},
   "source": [
    "Como podemos observar en el gráfico, por un lado la desviación estándar no varía en función del tiempo lo cual es un indicador de que nos encontramos con una serie estacionaria, por otra parte la media tiene una pequeña variación al alza en función del tiempo por lo que aunque la serie no sea completamente estacionaria si es lo suficiente como para continuar el proyecto sin intervenirla.  "
   ]
  },
  {
   "cell_type": "code",
   "execution_count": 11,
   "metadata": {},
   "outputs": [],
   "source": [
    "data = data.drop(['mean','std'], axis=1)"
   ]
  },
  {
   "cell_type": "markdown",
   "metadata": {},
   "source": [
    "### 5.2. Creación de características"
   ]
  },
  {
   "cell_type": "markdown",
   "metadata": {},
   "source": [
    "Continuaremos creando las características para el horizonte de pronostico."
   ]
  },
  {
   "cell_type": "code",
   "execution_count": 12,
   "metadata": {},
   "outputs": [],
   "source": [
    "def make_features(data, max_lag, rolling_mean_size):\n",
    "    data['day'] = data.index.day\n",
    "    data['dayofweek'] = data.index.dayofweek\n",
    "    data['hour'] = data.index.hour\n",
    "\n",
    "    for lag in range(1, max_lag + 1):\n",
    "        data['lag_{}'.format(lag)] = data['num_orders'].shift(lag)\n",
    "\n",
    "    data['rolling_mean'] = (data['num_orders'].shift().rolling(rolling_mean_size).mean())"
   ]
  },
  {
   "cell_type": "code",
   "execution_count": 13,
   "metadata": {},
   "outputs": [],
   "source": [
    "make_features(data, 4, 15)"
   ]
  },
  {
   "cell_type": "code",
   "execution_count": 14,
   "metadata": {},
   "outputs": [],
   "source": [
    "data = data.dropna()"
   ]
  },
  {
   "cell_type": "markdown",
   "metadata": {},
   "source": [
    "### 5.3. Segmentación de datos"
   ]
  },
  {
   "cell_type": "markdown",
   "metadata": {},
   "source": [
    "Procedemos con la segmentación de los datos, crearemos tres segmentos, entrenamiento, validación y testeo en una proporción de 8:1:1."
   ]
  },
  {
   "cell_type": "code",
   "execution_count": 15,
   "metadata": {},
   "outputs": [
    {
     "name": "stdout",
     "output_type": "stream",
     "text": [
      "2018-03-01 15:00:00 2018-07-26 06:00:00\n",
      "2018-07-26 07:00:00 2018-08-13 14:00:00\n",
      "2018-08-13 15:00:00 2018-08-31 23:00:00\n"
     ]
    }
   ],
   "source": [
    "train, valid_test = train_test_split(data, shuffle=False, test_size=0.2)\n",
    "valid, test = train_test_split(valid_test, shuffle=False, test_size=0.5)\n",
    "\n",
    "print(train.index.min(), train.index.max())\n",
    "print(valid.index.min(), valid.index.max())\n",
    "print(test.index.min(), test.index.max())"
   ]
  },
  {
   "cell_type": "code",
   "execution_count": 16,
   "metadata": {},
   "outputs": [],
   "source": [
    "features_train = train.drop(['num_orders'], axis=1)\n",
    "target_train = train['num_orders']\n",
    "features_valid = valid.drop(['num_orders'], axis=1)\n",
    "target_valid = valid['num_orders']\n",
    "features_test = test.drop(['num_orders'], axis=1)\n",
    "target_test = test['num_orders']"
   ]
  },
  {
   "cell_type": "markdown",
   "metadata": {},
   "source": [
    "### 5.4. Prueba de cordura"
   ]
  },
  {
   "cell_type": "markdown",
   "metadata": {},
   "source": [
    "Crearemos un modelo dummy para comparar con el resto de los modelos entrenados."
   ]
  },
  {
   "cell_type": "code",
   "execution_count": 17,
   "metadata": {},
   "outputs": [
    {
     "name": "stdout",
     "output_type": "stream",
     "text": [
      "Pedidos medios de taxis diarios: 105.0\n",
      "RECM: 47.210385028566066\n"
     ]
    }
   ],
   "source": [
    "print('Pedidos medios de taxis diarios:', valid['num_orders'].median())\n",
    "pred_previous = valid.shift()\n",
    "pred_previous.iloc[0] = train.iloc[-1]\n",
    "print('RECM:', np.sqrt(mean_squared_error(valid['num_orders'],pred_previous['num_orders'])))"
   ]
  },
  {
   "cell_type": "markdown",
   "metadata": {},
   "source": [
    "### 5.5. Regresión lineal"
   ]
  },
  {
   "cell_type": "markdown",
   "metadata": {},
   "source": [
    "Entrenaremos un modelo en base a la regresión lineal."
   ]
  },
  {
   "cell_type": "code",
   "execution_count": 18,
   "metadata": {},
   "outputs": [
    {
     "name": "stdout",
     "output_type": "stream",
     "text": [
      "RECM: 42.108982020508556\n"
     ]
    }
   ],
   "source": [
    "model = LinearRegression()\n",
    "model.fit(features_train, target_train)\n",
    "pred_test = model.predict(features_valid)\n",
    "print(\"RECM:\", np.sqrt(mean_squared_error(target_valid, pred_test)))"
   ]
  },
  {
   "cell_type": "markdown",
   "metadata": {},
   "source": [
    "### 5.6. Random forest"
   ]
  },
  {
   "cell_type": "code",
   "execution_count": 19,
   "metadata": {},
   "outputs": [
    {
     "name": "stdout",
     "output_type": "stream",
     "text": [
      "mejor RECM 34.857155410198736 n_estimators: 80 best_depth: 7 best_min_sample_split: 5\n"
     ]
    }
   ],
   "source": [
    "best_model = None\n",
    "best_result = 10000\n",
    "best_est = 0\n",
    "best_depth = 0\n",
    "best_split = 0\n",
    "for est in range(10, 90, 10):\n",
    "    for depth in range (1, 8):\n",
    "        for split in range(2,7):\n",
    "            model_rf = RandomForestRegressor(random_state=12345, n_estimators=est,  max_depth=depth, min_samples_split=split)\n",
    "            model_rf.fit(features_train, target_train) \n",
    "            predictions_rf = model_rf.predict(features_valid) \n",
    "            result_rf = np.sqrt(mean_squared_error(target_valid, predictions_rf))\n",
    "            if result_rf < best_result:\n",
    "                best_model = model_rf\n",
    "                best_result = result_rf\n",
    "                best_est = est\n",
    "                best_depth = depth\n",
    "                best_split = split\n",
    "print(\"mejor RECM\", best_result, \"n_estimators:\", best_est, \"best_depth:\", best_depth, \"best_min_sample_split:\", best_split)"
   ]
  },
  {
   "cell_type": "markdown",
   "metadata": {},
   "source": [
    "### 5.7. XGBoost"
   ]
  },
  {
   "cell_type": "markdown",
   "metadata": {},
   "source": [
    "Entrenaremos un modelo en base a XGBoost."
   ]
  },
  {
   "cell_type": "code",
   "execution_count": 20,
   "metadata": {},
   "outputs": [],
   "source": [
    "xgb_model = xgb.XGBRegressor() \n",
    "xgb_params = {'max_depth': [2,3,4], \n",
    "              'eta': [0.7,0.8], \n",
    "              'min_child_weight': [6,7,8], \n",
    "               'subsample': [0.7,0.8]}"
   ]
  },
  {
   "cell_type": "code",
   "execution_count": 21,
   "metadata": {},
   "outputs": [
    {
     "data": {
      "text/plain": [
       "{'eta': 0.7, 'max_depth': 2, 'min_child_weight': 8, 'subsample': 0.8}"
      ]
     },
     "execution_count": 21,
     "metadata": {},
     "output_type": "execute_result"
    }
   ],
   "source": [
    "clf = GridSearchCV(estimator=xgb_model, param_grid =xgb_params, scoring='neg_mean_squared_error',  n_jobs=-1)\n",
    "clf.fit(features_train, target_train)\n",
    "clf.best_params_"
   ]
  },
  {
   "cell_type": "code",
   "execution_count": 22,
   "metadata": {
    "scrolled": true
   },
   "outputs": [
    {
     "name": "stdout",
     "output_type": "stream",
     "text": [
      "[0]\tvalidation_0-rmse:68.89155\n",
      "[1]\tvalidation_0-rmse:53.58696\n",
      "[2]\tvalidation_0-rmse:47.46763\n",
      "[3]\tvalidation_0-rmse:45.08197\n",
      "[4]\tvalidation_0-rmse:42.08619\n",
      "[5]\tvalidation_0-rmse:41.12695\n",
      "[6]\tvalidation_0-rmse:40.28019\n",
      "[7]\tvalidation_0-rmse:40.55709\n",
      "[8]\tvalidation_0-rmse:39.80264\n",
      "[9]\tvalidation_0-rmse:39.70629\n",
      "[10]\tvalidation_0-rmse:39.63177\n",
      "[11]\tvalidation_0-rmse:38.42016\n",
      "[12]\tvalidation_0-rmse:37.42312\n",
      "[13]\tvalidation_0-rmse:37.23650\n",
      "[14]\tvalidation_0-rmse:36.83711\n",
      "[15]\tvalidation_0-rmse:36.27561\n",
      "[16]\tvalidation_0-rmse:35.70149\n",
      "[17]\tvalidation_0-rmse:35.95283\n",
      "[18]\tvalidation_0-rmse:35.78412\n",
      "[19]\tvalidation_0-rmse:34.87384\n",
      "[20]\tvalidation_0-rmse:34.53329\n",
      "[21]\tvalidation_0-rmse:34.67147\n",
      "[22]\tvalidation_0-rmse:34.96271\n",
      "[23]\tvalidation_0-rmse:35.17084\n",
      "[24]\tvalidation_0-rmse:35.04250\n",
      "[25]\tvalidation_0-rmse:34.63747\n",
      "[26]\tvalidation_0-rmse:34.68523\n",
      "[27]\tvalidation_0-rmse:34.46412\n",
      "[28]\tvalidation_0-rmse:34.53212\n",
      "[29]\tvalidation_0-rmse:34.60327\n",
      "[30]\tvalidation_0-rmse:34.13627\n",
      "[31]\tvalidation_0-rmse:34.34028\n",
      "[32]\tvalidation_0-rmse:34.63085\n",
      "[33]\tvalidation_0-rmse:34.90975\n",
      "[34]\tvalidation_0-rmse:34.74305\n",
      "[35]\tvalidation_0-rmse:34.02739\n",
      "[36]\tvalidation_0-rmse:33.07983\n",
      "[37]\tvalidation_0-rmse:33.39883\n",
      "[38]\tvalidation_0-rmse:33.66236\n",
      "[39]\tvalidation_0-rmse:33.60586\n",
      "[40]\tvalidation_0-rmse:33.42611\n",
      "[41]\tvalidation_0-rmse:32.88338\n",
      "[42]\tvalidation_0-rmse:32.99495\n",
      "[43]\tvalidation_0-rmse:33.09352\n",
      "[44]\tvalidation_0-rmse:33.11583\n",
      "[45]\tvalidation_0-rmse:33.30820\n",
      "[46]\tvalidation_0-rmse:32.76017\n",
      "[47]\tvalidation_0-rmse:33.11044\n",
      "[48]\tvalidation_0-rmse:32.83271\n",
      "[49]\tvalidation_0-rmse:32.71043\n",
      "[50]\tvalidation_0-rmse:32.55544\n",
      "[51]\tvalidation_0-rmse:32.55132\n",
      "[52]\tvalidation_0-rmse:33.25410\n",
      "[53]\tvalidation_0-rmse:33.63717\n",
      "[54]\tvalidation_0-rmse:33.79607\n",
      "[55]\tvalidation_0-rmse:33.43097\n",
      "[56]\tvalidation_0-rmse:33.69083\n",
      "[57]\tvalidation_0-rmse:33.60367\n",
      "[58]\tvalidation_0-rmse:33.45308\n",
      "[59]\tvalidation_0-rmse:33.52490\n",
      "[60]\tvalidation_0-rmse:33.62187\n",
      "[61]\tvalidation_0-rmse:33.19571\n",
      "[62]\tvalidation_0-rmse:33.12232\n",
      "[63]\tvalidation_0-rmse:33.35795\n",
      "[64]\tvalidation_0-rmse:33.61840\n",
      "[65]\tvalidation_0-rmse:33.29778\n",
      "[66]\tvalidation_0-rmse:33.05652\n",
      "[67]\tvalidation_0-rmse:33.04764\n",
      "[68]\tvalidation_0-rmse:32.87285\n",
      "[69]\tvalidation_0-rmse:33.10281\n",
      "[70]\tvalidation_0-rmse:33.00414\n",
      "[71]\tvalidation_0-rmse:32.86177\n",
      "[72]\tvalidation_0-rmse:33.03524\n",
      "[73]\tvalidation_0-rmse:33.25219\n",
      "[74]\tvalidation_0-rmse:33.31421\n",
      "[75]\tvalidation_0-rmse:33.08625\n",
      "[76]\tvalidation_0-rmse:33.11292\n",
      "[77]\tvalidation_0-rmse:33.24475\n",
      "[78]\tvalidation_0-rmse:33.05766\n",
      "[79]\tvalidation_0-rmse:33.14977\n",
      "[80]\tvalidation_0-rmse:32.71709\n",
      "[81]\tvalidation_0-rmse:32.39704\n",
      "[82]\tvalidation_0-rmse:32.57065\n",
      "[83]\tvalidation_0-rmse:32.84954\n",
      "[84]\tvalidation_0-rmse:33.00700\n",
      "[85]\tvalidation_0-rmse:33.07255\n",
      "[86]\tvalidation_0-rmse:32.92213\n",
      "[87]\tvalidation_0-rmse:32.92678\n",
      "[88]\tvalidation_0-rmse:32.87324\n",
      "[89]\tvalidation_0-rmse:33.02707\n",
      "[90]\tvalidation_0-rmse:32.58667\n",
      "[91]\tvalidation_0-rmse:32.90724\n",
      "[92]\tvalidation_0-rmse:32.64350\n",
      "[93]\tvalidation_0-rmse:32.68449\n",
      "[94]\tvalidation_0-rmse:32.64719\n",
      "[95]\tvalidation_0-rmse:32.49490\n",
      "[96]\tvalidation_0-rmse:32.71386\n",
      "[97]\tvalidation_0-rmse:32.74750\n",
      "[98]\tvalidation_0-rmse:32.65131\n",
      "[99]\tvalidation_0-rmse:32.62688\n",
      "RECM: 32.626882357222286\n"
     ]
    }
   ],
   "source": [
    "xgb_model = xgb.XGBRegressor(eta=0.7, max_depth=2, random_state=12345, colsample_bytree=0.6, min_child_weight=8, subsample=0.8)\n",
    "xgb_model.fit(features_train, target_train, eval_set=[(features_valid, target_valid)]) \n",
    "preds_xgb_model = xgb_model.predict(features_valid)\n",
    "print(\"RECM:\", np.sqrt(mean_squared_error(target_valid, preds_xgb_model)))"
   ]
  },
  {
   "cell_type": "markdown",
   "metadata": {},
   "source": [
    "### 5.8. LightGBM"
   ]
  },
  {
   "cell_type": "markdown",
   "metadata": {},
   "source": [
    "Entrenaremos un modelo en base a lightGBM."
   ]
  },
  {
   "cell_type": "code",
   "execution_count": 23,
   "metadata": {},
   "outputs": [],
   "source": [
    "LGB = lgbm.LGBMRegressor()"
   ]
  },
  {
   "cell_type": "code",
   "execution_count": 24,
   "metadata": {},
   "outputs": [],
   "source": [
    "parameters = {'max_depth' : np.linspace(1, 7, 5).astype(\"int\"),\n",
    "              'num_leaves' : [2, 3, 4, 5],\n",
    "              'learning_rate' : [0.01, 0.05, 0.08, 0.1, 0.4],\n",
    "              'objective' : ['root_mean_squared_error']}"
   ]
  },
  {
   "cell_type": "code",
   "execution_count": 25,
   "metadata": {
    "scrolled": true
   },
   "outputs": [
    {
     "data": {
      "text/plain": [
       "{'learning_rate': 0.4,\n",
       " 'max_depth': 4,\n",
       " 'num_leaves': 4,\n",
       " 'objective': 'root_mean_squared_error'}"
      ]
     },
     "execution_count": 25,
     "metadata": {},
     "output_type": "execute_result"
    }
   ],
   "source": [
    "Grid_LGB = GridSearchCV(estimator=lgbm.LGBMRegressor(random_state=12345,force_row_wise='true'), param_grid = parameters, scoring=\"neg_mean_squared_error\", n_jobs=-1)\n",
    "Grid_LGB.fit(features_train, target_train)\n",
    "Grid_LGB.best_params_"
   ]
  },
  {
   "cell_type": "code",
   "execution_count": 26,
   "metadata": {
    "scrolled": true
   },
   "outputs": [
    {
     "name": "stdout",
     "output_type": "stream",
     "text": [
      "[1]\tvalid_0's rmse: 54.1759\n",
      "[2]\tvalid_0's rmse: 50.8204\n",
      "[3]\tvalid_0's rmse: 47.4027\n",
      "[4]\tvalid_0's rmse: 43.5046\n",
      "[5]\tvalid_0's rmse: 42.8395\n",
      "[6]\tvalid_0's rmse: 41.0351\n",
      "[7]\tvalid_0's rmse: 39.2437\n",
      "[8]\tvalid_0's rmse: 38.8851\n",
      "[9]\tvalid_0's rmse: 38.5085\n",
      "[10]\tvalid_0's rmse: 36.9125\n",
      "[11]\tvalid_0's rmse: 36.5815\n",
      "[12]\tvalid_0's rmse: 36.0574\n",
      "[13]\tvalid_0's rmse: 36.0519\n",
      "[14]\tvalid_0's rmse: 35.0408\n",
      "[15]\tvalid_0's rmse: 35.1752\n",
      "[16]\tvalid_0's rmse: 35.0336\n",
      "[17]\tvalid_0's rmse: 34.8786\n",
      "[18]\tvalid_0's rmse: 34.9154\n",
      "[19]\tvalid_0's rmse: 34.8768\n",
      "[20]\tvalid_0's rmse: 34.6157\n",
      "[21]\tvalid_0's rmse: 34.4818\n",
      "[22]\tvalid_0's rmse: 34.3302\n",
      "[23]\tvalid_0's rmse: 34.42\n",
      "[24]\tvalid_0's rmse: 34.3289\n",
      "[25]\tvalid_0's rmse: 34.3559\n",
      "[26]\tvalid_0's rmse: 34.2711\n",
      "[27]\tvalid_0's rmse: 34.1449\n",
      "[28]\tvalid_0's rmse: 34.2415\n",
      "[29]\tvalid_0's rmse: 34.1981\n",
      "[30]\tvalid_0's rmse: 33.9579\n",
      "[31]\tvalid_0's rmse: 33.8828\n",
      "[32]\tvalid_0's rmse: 33.7993\n",
      "[33]\tvalid_0's rmse: 34.0244\n",
      "[34]\tvalid_0's rmse: 33.9904\n",
      "[35]\tvalid_0's rmse: 33.6998\n",
      "[36]\tvalid_0's rmse: 33.7522\n",
      "[37]\tvalid_0's rmse: 33.6799\n",
      "[38]\tvalid_0's rmse: 33.7976\n",
      "[39]\tvalid_0's rmse: 33.5955\n",
      "[40]\tvalid_0's rmse: 33.6085\n",
      "[41]\tvalid_0's rmse: 33.5876\n",
      "[42]\tvalid_0's rmse: 33.2885\n",
      "[43]\tvalid_0's rmse: 33.2844\n",
      "[44]\tvalid_0's rmse: 32.959\n",
      "[45]\tvalid_0's rmse: 33.0304\n",
      "[46]\tvalid_0's rmse: 32.9829\n",
      "[47]\tvalid_0's rmse: 32.8245\n",
      "[48]\tvalid_0's rmse: 32.9913\n",
      "[49]\tvalid_0's rmse: 33.0068\n",
      "[50]\tvalid_0's rmse: 32.9939\n",
      "[51]\tvalid_0's rmse: 32.8269\n",
      "[52]\tvalid_0's rmse: 32.8064\n",
      "[53]\tvalid_0's rmse: 32.7364\n",
      "[54]\tvalid_0's rmse: 32.7189\n",
      "[55]\tvalid_0's rmse: 32.7025\n",
      "[56]\tvalid_0's rmse: 32.6794\n",
      "[57]\tvalid_0's rmse: 32.6633\n",
      "[58]\tvalid_0's rmse: 32.6775\n",
      "[59]\tvalid_0's rmse: 32.8862\n",
      "[60]\tvalid_0's rmse: 32.7918\n",
      "[61]\tvalid_0's rmse: 32.7539\n",
      "[62]\tvalid_0's rmse: 32.9168\n",
      "[63]\tvalid_0's rmse: 32.8312\n",
      "[64]\tvalid_0's rmse: 32.8907\n",
      "[65]\tvalid_0's rmse: 32.8761\n",
      "[66]\tvalid_0's rmse: 32.8931\n",
      "[67]\tvalid_0's rmse: 32.7356\n",
      "[68]\tvalid_0's rmse: 32.8618\n",
      "[69]\tvalid_0's rmse: 32.908\n",
      "[70]\tvalid_0's rmse: 32.8925\n",
      "[71]\tvalid_0's rmse: 32.9121\n",
      "[72]\tvalid_0's rmse: 32.9684\n",
      "[73]\tvalid_0's rmse: 32.8359\n",
      "[74]\tvalid_0's rmse: 32.7799\n",
      "[75]\tvalid_0's rmse: 32.9621\n",
      "[76]\tvalid_0's rmse: 32.9462\n",
      "[77]\tvalid_0's rmse: 32.9127\n",
      "[78]\tvalid_0's rmse: 32.934\n",
      "[79]\tvalid_0's rmse: 32.9497\n",
      "[80]\tvalid_0's rmse: 32.9954\n",
      "[81]\tvalid_0's rmse: 33.0046\n",
      "[82]\tvalid_0's rmse: 33.0175\n",
      "[83]\tvalid_0's rmse: 33.0507\n",
      "[84]\tvalid_0's rmse: 33.0249\n",
      "[85]\tvalid_0's rmse: 33.0756\n",
      "[86]\tvalid_0's rmse: 33.0738\n",
      "[87]\tvalid_0's rmse: 33.0946\n",
      "[88]\tvalid_0's rmse: 32.8145\n",
      "[89]\tvalid_0's rmse: 32.8461\n",
      "[90]\tvalid_0's rmse: 32.8173\n",
      "[91]\tvalid_0's rmse: 32.8673\n",
      "[92]\tvalid_0's rmse: 32.8631\n",
      "[93]\tvalid_0's rmse: 32.8318\n",
      "[94]\tvalid_0's rmse: 32.867\n",
      "[95]\tvalid_0's rmse: 32.7369\n",
      "[96]\tvalid_0's rmse: 32.7089\n",
      "[97]\tvalid_0's rmse: 32.7486\n",
      "[98]\tvalid_0's rmse: 32.797\n",
      "[99]\tvalid_0's rmse: 32.7233\n",
      "[100]\tvalid_0's rmse: 32.695\n",
      "RECM: 32.69501507302014\n"
     ]
    }
   ],
   "source": [
    "lgb_model = lgbm.LGBMRegressor(boosting_type='gbdt',\n",
    "    objective='root_mean_squared_error',\n",
    "    max_depth=4,\n",
    "    num_leaves=4,\n",
    "    learning_rate=0.4,\n",
    "    random_state=12345,\n",
    "    min_child_samples=8)\n",
    "lgb_model.fit(features_train, target_train, eval_set=[(features_valid, target_valid)]) \n",
    "preds_lgb_model = lgb_model.predict(features_valid)\n",
    "print(\"RECM:\", np.sqrt(mean_squared_error(target_valid, preds_lgb_model)))"
   ]
  },
  {
   "cell_type": "markdown",
   "metadata": {},
   "source": [
    "## 6. Prueba"
   ]
  },
  {
   "cell_type": "markdown",
   "metadata": {},
   "source": [
    "Los modelos anteriormente entrenados obtuvieron un mejor resultado de RECM que nuestro modelo dummy, el que obtuvo el mejor resultado de todos es el basado en XGBoost por lo que utilizaremos este último para realizar una nueva prueva de cordura y la prueba final con el conjunto de prueba."
   ]
  },
  {
   "cell_type": "code",
   "execution_count": 27,
   "metadata": {},
   "outputs": [
    {
     "name": "stdout",
     "output_type": "stream",
     "text": [
      "RECM Modelo Dummy: 58.91761802963282\n"
     ]
    }
   ],
   "source": [
    "pred_previous = test.shift()\n",
    "pred_previous.iloc[0] = valid.iloc[-1]\n",
    "print('RECM Modelo Dummy:', np.sqrt(mean_squared_error(test['num_orders'],pred_previous['num_orders'])))"
   ]
  },
  {
   "cell_type": "code",
   "execution_count": 28,
   "metadata": {},
   "outputs": [
    {
     "name": "stdout",
     "output_type": "stream",
     "text": [
      "RECM: 47.99677177507551\n"
     ]
    }
   ],
   "source": [
    "preds_xgb_model = xgb_model.predict(features_test)\n",
    "print(\"RECM:\", np.sqrt(mean_squared_error(target_test, preds_xgb_model)))"
   ]
  },
  {
   "cell_type": "markdown",
   "metadata": {},
   "source": [
    "Nuestro modelo basado en XGBoost obtuvo un RECM de 47.99 con la muestra de prueba, lo cual es menor que lo obtenido por nuestro modelo dummy y a su vez menor al mínimo exigido de un RECM igual a 48. En base a lo anterior podemos concluir que nuestro modelo cumple con los requerimientos exigidos por el mandante con respecto a que este pueda predecir la cantidad de pedidos de taxis para la próxima hora.  "
   ]
  }
 ],
 "metadata": {
  "kernelspec": {
   "display_name": "Python 3 (ipykernel)",
   "language": "python",
   "name": "python3"
  },
  "language_info": {
   "codemirror_mode": {
    "name": "ipython",
    "version": 3
   },
   "file_extension": ".py",
   "mimetype": "text/x-python",
   "name": "python",
   "nbconvert_exporter": "python",
   "pygments_lexer": "ipython3",
   "version": "3.9.13"
  },
  "toc": {
   "base_numbering": 1,
   "nav_menu": {},
   "number_sections": true,
   "sideBar": true,
   "skip_h1_title": true,
   "title_cell": "Table of Contents",
   "title_sidebar": "Contents",
   "toc_cell": false,
   "toc_position": {
    "height": "calc(100% - 180px)",
    "left": "10px",
    "top": "150px",
    "width": "272px"
   },
   "toc_section_display": true,
   "toc_window_display": true
  }
 },
 "nbformat": 4,
 "nbformat_minor": 2
}
