{
 "cells": [
  {
   "cell_type": "markdown",
   "metadata": {},
   "source": [
    "## Zyfra"
   ]
  },
  {
   "cell_type": "markdown",
   "metadata": {},
   "source": [
    "## 1. Contenido <a name=\"content\"></a>"
   ]
  },
  {
   "cell_type": "markdown",
   "metadata": {},
   "source": [
    "* [1 Contenido](#content)\n",
    "* [2 Introducción](#intro)\n",
    "* [3 Inicialización](#inic)\n",
    "    * [3.1 Cargar Librerias](#library)\n",
    "    * [3.2 Cargar Datos](#data)\n",
    "* [4 Exploración y preparación los datos](#exp) \n",
    "    * [4.1 Cálculo de recuperación](#rec)\n",
    "    * [4.2 Conjunto de Prueba](#test)\n",
    "    * [4.3 Preprocesamiento de datos](#prep)\n",
    "         * [4.3.1 Gold_recovery_test](#gold_test)\n",
    "         * [4.3.2 Gold_recovery_train](#gold_train)\n",
    "         * [4.3.3 Gold_recovery_full](#gold_full)\n",
    "* [5 Análisis de Datos](#analysis)\n",
    "    * [5.1 Concentración de metales](#metal)\n",
    "    * [5.2 Distribución de tamaño de partículas](#size)\n",
    "    * [5.3 Concentraciones totales](#concentration)\n",
    "* [6 Modelo](#model)\n",
    "    * [6.1 sMAPE](#smape)\n",
    "    * [6.2 Construcción del modelo](#building)\n",
    "         * [6.2.1 Segmentacióon de los datos](#seg)\n",
    "         * [6.2.2 Árbol de desición](#tree)\n",
    "         * [6.2.3 Bosque aleatorio](#forest)\n",
    "         * [6.2.4 Regresión lineal](#regre)          \n",
    "    * [6.3 Elección del modelo](#choose)\n",
    "* [7 Conclusiones](#end)"
   ]
  },
  {
   "cell_type": "markdown",
   "metadata": {},
   "source": [
    "## 2. Introducción <a name=\"intro\"></a>"
   ]
  },
  {
   "cell_type": "markdown",
   "metadata": {},
   "source": [
    "En el presente proyecto procederemos a desarrollar un prototipo de modelo de machine learning para la empresa Zyfra con el objetivo de predecir la cantidad de oro extraído del mineral de oro a partir de datos de extracción y purificación del mismo. El modelo ayudará a optimizar la producción y a eliminar los parámetros no rentables.\n",
    "\n",
    "Comenzaremos revisando los datos proporcionados, realizaremos un análisis de los datos y desarrollaremos el modelo solicitado."
   ]
  },
  {
   "cell_type": "markdown",
   "metadata": {},
   "source": [
    "## 3. Inicialización <a name=\"inic\"></a>"
   ]
  },
  {
   "cell_type": "markdown",
   "metadata": {},
   "source": [
    "### 3.1 Cargar librerias <a name=\"library\"></a>"
   ]
  },
  {
   "cell_type": "markdown",
   "metadata": {},
   "source": [
    "Se procede a cargar las librerías que se utilizaran en el proyecto."
   ]
  },
  {
   "cell_type": "code",
   "execution_count": 1,
   "metadata": {},
   "outputs": [],
   "source": [
    "import pandas as pd\n",
    "import matplotlib.pyplot as plt\n",
    "from sklearn.tree import DecisionTreeRegressor\n",
    "from sklearn.ensemble import RandomForestRegressor\n",
    "from sklearn.linear_model import LinearRegression\n",
    "import numpy as np\n",
    "from sklearn.model_selection import cross_val_score\n",
    "from sklearn.metrics import mean_absolute_error\n",
    "from sklearn.metrics import make_scorer\n",
    "import matplotlib.image as mpimg"
   ]
  },
  {
   "cell_type": "markdown",
   "metadata": {},
   "source": [
    "### 3.2 Cargar datos <a name=\"data\"></a>"
   ]
  },
  {
   "cell_type": "markdown",
   "metadata": {},
   "source": [
    "Se procede a cargar los datos."
   ]
  },
  {
   "cell_type": "code",
   "execution_count": 2,
   "metadata": {},
   "outputs": [],
   "source": [
    "df_train = pd.read_csv('datasets/gold_recovery_train.csv')\n",
    "df_test = pd.read_csv('datasets/gold_recovery_test.csv')\n",
    "df = pd.read_csv('datasets/gold_recovery_full.csv')"
   ]
  },
  {
   "cell_type": "markdown",
   "metadata": {},
   "source": [
    "## 4. Exploración y preparación los datos <a name=\"exp\"></a>"
   ]
  },
  {
   "cell_type": "markdown",
   "metadata": {},
   "source": [
    "A continuación, procederemos a realizar una exploración sobre las bases de datos entregadas por Zyfra."
   ]
  },
  {
   "cell_type": "code",
   "execution_count": 3,
   "metadata": {
    "scrolled": true
   },
   "outputs": [
    {
     "name": "stdout",
     "output_type": "stream",
     "text": [
      "<class 'pandas.core.frame.DataFrame'>\n",
      "RangeIndex: 22716 entries, 0 to 22715\n",
      "Data columns (total 87 columns):\n",
      " #   Column                                              Non-Null Count  Dtype  \n",
      "---  ------                                              --------------  -----  \n",
      " 0   date                                                22716 non-null  object \n",
      " 1   final.output.concentrate_ag                         22627 non-null  float64\n",
      " 2   final.output.concentrate_pb                         22629 non-null  float64\n",
      " 3   final.output.concentrate_sol                        22331 non-null  float64\n",
      " 4   final.output.concentrate_au                         22630 non-null  float64\n",
      " 5   final.output.recovery                               20753 non-null  float64\n",
      " 6   final.output.tail_ag                                22633 non-null  float64\n",
      " 7   final.output.tail_pb                                22516 non-null  float64\n",
      " 8   final.output.tail_sol                               22445 non-null  float64\n",
      " 9   final.output.tail_au                                22635 non-null  float64\n",
      " 10  primary_cleaner.input.sulfate                       21107 non-null  float64\n",
      " 11  primary_cleaner.input.depressant                    21170 non-null  float64\n",
      " 12  primary_cleaner.input.feed_size                     22716 non-null  float64\n",
      " 13  primary_cleaner.input.xanthate                      21565 non-null  float64\n",
      " 14  primary_cleaner.output.concentrate_ag               22618 non-null  float64\n",
      " 15  primary_cleaner.output.concentrate_pb               22268 non-null  float64\n",
      " 16  primary_cleaner.output.concentrate_sol              21918 non-null  float64\n",
      " 17  primary_cleaner.output.concentrate_au               22618 non-null  float64\n",
      " 18  primary_cleaner.output.tail_ag                      22614 non-null  float64\n",
      " 19  primary_cleaner.output.tail_pb                      22594 non-null  float64\n",
      " 20  primary_cleaner.output.tail_sol                     22365 non-null  float64\n",
      " 21  primary_cleaner.output.tail_au                      22617 non-null  float64\n",
      " 22  primary_cleaner.state.floatbank8_a_air              22660 non-null  float64\n",
      " 23  primary_cleaner.state.floatbank8_a_level            22667 non-null  float64\n",
      " 24  primary_cleaner.state.floatbank8_b_air              22660 non-null  float64\n",
      " 25  primary_cleaner.state.floatbank8_b_level            22673 non-null  float64\n",
      " 26  primary_cleaner.state.floatbank8_c_air              22662 non-null  float64\n",
      " 27  primary_cleaner.state.floatbank8_c_level            22673 non-null  float64\n",
      " 28  primary_cleaner.state.floatbank8_d_air              22661 non-null  float64\n",
      " 29  primary_cleaner.state.floatbank8_d_level            22673 non-null  float64\n",
      " 30  rougher.calculation.sulfate_to_au_concentrate       22672 non-null  float64\n",
      " 31  rougher.calculation.floatbank10_sulfate_to_au_feed  22672 non-null  float64\n",
      " 32  rougher.calculation.floatbank11_sulfate_to_au_feed  22672 non-null  float64\n",
      " 33  rougher.calculation.au_pb_ratio                     21089 non-null  float64\n",
      " 34  rougher.input.feed_ag                               22618 non-null  float64\n",
      " 35  rougher.input.feed_pb                               22472 non-null  float64\n",
      " 36  rougher.input.feed_rate                             22163 non-null  float64\n",
      " 37  rougher.input.feed_size                             22277 non-null  float64\n",
      " 38  rougher.input.feed_sol                              22357 non-null  float64\n",
      " 39  rougher.input.feed_au                               22617 non-null  float64\n",
      " 40  rougher.input.floatbank10_sulfate                   21415 non-null  float64\n",
      " 41  rougher.input.floatbank10_xanthate                  22247 non-null  float64\n",
      " 42  rougher.input.floatbank11_sulfate                   22038 non-null  float64\n",
      " 43  rougher.input.floatbank11_xanthate                  20459 non-null  float64\n",
      " 44  rougher.output.concentrate_ag                       22618 non-null  float64\n",
      " 45  rougher.output.concentrate_pb                       22618 non-null  float64\n",
      " 46  rougher.output.concentrate_sol                      22526 non-null  float64\n",
      " 47  rougher.output.concentrate_au                       22618 non-null  float64\n",
      " 48  rougher.output.recovery                             19597 non-null  float64\n",
      " 49  rougher.output.tail_ag                              19979 non-null  float64\n",
      " 50  rougher.output.tail_pb                              22618 non-null  float64\n",
      " 51  rougher.output.tail_sol                             19980 non-null  float64\n",
      " 52  rougher.output.tail_au                              19980 non-null  float64\n",
      " 53  rougher.state.floatbank10_a_air                     22646 non-null  float64\n",
      " 54  rougher.state.floatbank10_a_level                   22647 non-null  float64\n",
      " 55  rougher.state.floatbank10_b_air                     22646 non-null  float64\n",
      " 56  rougher.state.floatbank10_b_level                   22647 non-null  float64\n",
      " 57  rougher.state.floatbank10_c_air                     22646 non-null  float64\n",
      " 58  rougher.state.floatbank10_c_level                   22654 non-null  float64\n",
      " 59  rougher.state.floatbank10_d_air                     22641 non-null  float64\n",
      " 60  rougher.state.floatbank10_d_level                   22649 non-null  float64\n",
      " 61  rougher.state.floatbank10_e_air                     22096 non-null  float64\n",
      " 62  rougher.state.floatbank10_e_level                   22649 non-null  float64\n",
      " 63  rougher.state.floatbank10_f_air                     22641 non-null  float64\n",
      " 64  rougher.state.floatbank10_f_level                   22642 non-null  float64\n",
      " 65  secondary_cleaner.output.tail_ag                    22616 non-null  float64\n",
      " 66  secondary_cleaner.output.tail_pb                    22600 non-null  float64\n",
      " 67  secondary_cleaner.output.tail_sol                   20501 non-null  float64\n",
      " 68  secondary_cleaner.output.tail_au                    22618 non-null  float64\n",
      " 69  secondary_cleaner.state.floatbank2_a_air            22333 non-null  float64\n",
      " 70  secondary_cleaner.state.floatbank2_a_level          22591 non-null  float64\n",
      " 71  secondary_cleaner.state.floatbank2_b_air            22538 non-null  float64\n",
      " 72  secondary_cleaner.state.floatbank2_b_level          22588 non-null  float64\n",
      " 73  secondary_cleaner.state.floatbank3_a_air            22585 non-null  float64\n",
      " 74  secondary_cleaner.state.floatbank3_a_level          22587 non-null  float64\n",
      " 75  secondary_cleaner.state.floatbank3_b_air            22592 non-null  float64\n",
      " 76  secondary_cleaner.state.floatbank3_b_level          22590 non-null  float64\n",
      " 77  secondary_cleaner.state.floatbank4_a_air            22571 non-null  float64\n",
      " 78  secondary_cleaner.state.floatbank4_a_level          22587 non-null  float64\n",
      " 79  secondary_cleaner.state.floatbank4_b_air            22608 non-null  float64\n",
      " 80  secondary_cleaner.state.floatbank4_b_level          22607 non-null  float64\n",
      " 81  secondary_cleaner.state.floatbank5_a_air            22615 non-null  float64\n",
      " 82  secondary_cleaner.state.floatbank5_a_level          22615 non-null  float64\n",
      " 83  secondary_cleaner.state.floatbank5_b_air            22615 non-null  float64\n",
      " 84  secondary_cleaner.state.floatbank5_b_level          22616 non-null  float64\n",
      " 85  secondary_cleaner.state.floatbank6_a_air            22597 non-null  float64\n",
      " 86  secondary_cleaner.state.floatbank6_a_level          22615 non-null  float64\n",
      "dtypes: float64(86), object(1)\n",
      "memory usage: 15.1+ MB\n",
      "None\n",
      "\n",
      "<class 'pandas.core.frame.DataFrame'>\n",
      "RangeIndex: 16860 entries, 0 to 16859\n",
      "Data columns (total 87 columns):\n",
      " #   Column                                              Non-Null Count  Dtype  \n",
      "---  ------                                              --------------  -----  \n",
      " 0   date                                                16860 non-null  object \n",
      " 1   final.output.concentrate_ag                         16788 non-null  float64\n",
      " 2   final.output.concentrate_pb                         16788 non-null  float64\n",
      " 3   final.output.concentrate_sol                        16490 non-null  float64\n",
      " 4   final.output.concentrate_au                         16789 non-null  float64\n",
      " 5   final.output.recovery                               15339 non-null  float64\n",
      " 6   final.output.tail_ag                                16794 non-null  float64\n",
      " 7   final.output.tail_pb                                16677 non-null  float64\n",
      " 8   final.output.tail_sol                               16715 non-null  float64\n",
      " 9   final.output.tail_au                                16794 non-null  float64\n",
      " 10  primary_cleaner.input.sulfate                       15553 non-null  float64\n",
      " 11  primary_cleaner.input.depressant                    15598 non-null  float64\n",
      " 12  primary_cleaner.input.feed_size                     16860 non-null  float64\n",
      " 13  primary_cleaner.input.xanthate                      15875 non-null  float64\n",
      " 14  primary_cleaner.output.concentrate_ag               16778 non-null  float64\n",
      " 15  primary_cleaner.output.concentrate_pb               16502 non-null  float64\n",
      " 16  primary_cleaner.output.concentrate_sol              16224 non-null  float64\n",
      " 17  primary_cleaner.output.concentrate_au               16778 non-null  float64\n",
      " 18  primary_cleaner.output.tail_ag                      16777 non-null  float64\n",
      " 19  primary_cleaner.output.tail_pb                      16761 non-null  float64\n",
      " 20  primary_cleaner.output.tail_sol                     16579 non-null  float64\n",
      " 21  primary_cleaner.output.tail_au                      16777 non-null  float64\n",
      " 22  primary_cleaner.state.floatbank8_a_air              16820 non-null  float64\n",
      " 23  primary_cleaner.state.floatbank8_a_level            16827 non-null  float64\n",
      " 24  primary_cleaner.state.floatbank8_b_air              16820 non-null  float64\n",
      " 25  primary_cleaner.state.floatbank8_b_level            16833 non-null  float64\n",
      " 26  primary_cleaner.state.floatbank8_c_air              16822 non-null  float64\n",
      " 27  primary_cleaner.state.floatbank8_c_level            16833 non-null  float64\n",
      " 28  primary_cleaner.state.floatbank8_d_air              16821 non-null  float64\n",
      " 29  primary_cleaner.state.floatbank8_d_level            16833 non-null  float64\n",
      " 30  rougher.calculation.sulfate_to_au_concentrate       16833 non-null  float64\n",
      " 31  rougher.calculation.floatbank10_sulfate_to_au_feed  16833 non-null  float64\n",
      " 32  rougher.calculation.floatbank11_sulfate_to_au_feed  16833 non-null  float64\n",
      " 33  rougher.calculation.au_pb_ratio                     15618 non-null  float64\n",
      " 34  rougher.input.feed_ag                               16778 non-null  float64\n",
      " 35  rougher.input.feed_pb                               16632 non-null  float64\n",
      " 36  rougher.input.feed_rate                             16347 non-null  float64\n",
      " 37  rougher.input.feed_size                             16443 non-null  float64\n",
      " 38  rougher.input.feed_sol                              16568 non-null  float64\n",
      " 39  rougher.input.feed_au                               16777 non-null  float64\n",
      " 40  rougher.input.floatbank10_sulfate                   15816 non-null  float64\n",
      " 41  rougher.input.floatbank10_xanthate                  16514 non-null  float64\n",
      " 42  rougher.input.floatbank11_sulfate                   16237 non-null  float64\n",
      " 43  rougher.input.floatbank11_xanthate                  14956 non-null  float64\n",
      " 44  rougher.output.concentrate_ag                       16778 non-null  float64\n",
      " 45  rougher.output.concentrate_pb                       16778 non-null  float64\n",
      " 46  rougher.output.concentrate_sol                      16698 non-null  float64\n",
      " 47  rougher.output.concentrate_au                       16778 non-null  float64\n",
      " 48  rougher.output.recovery                             14287 non-null  float64\n",
      " 49  rougher.output.tail_ag                              14610 non-null  float64\n",
      " 50  rougher.output.tail_pb                              16778 non-null  float64\n",
      " 51  rougher.output.tail_sol                             14611 non-null  float64\n",
      " 52  rougher.output.tail_au                              14611 non-null  float64\n",
      " 53  rougher.state.floatbank10_a_air                     16807 non-null  float64\n",
      " 54  rougher.state.floatbank10_a_level                   16807 non-null  float64\n",
      " 55  rougher.state.floatbank10_b_air                     16807 non-null  float64\n",
      " 56  rougher.state.floatbank10_b_level                   16807 non-null  float64\n",
      " 57  rougher.state.floatbank10_c_air                     16807 non-null  float64\n",
      " 58  rougher.state.floatbank10_c_level                   16814 non-null  float64\n",
      " 59  rougher.state.floatbank10_d_air                     16802 non-null  float64\n",
      " 60  rougher.state.floatbank10_d_level                   16809 non-null  float64\n",
      " 61  rougher.state.floatbank10_e_air                     16257 non-null  float64\n",
      " 62  rougher.state.floatbank10_e_level                   16809 non-null  float64\n",
      " 63  rougher.state.floatbank10_f_air                     16802 non-null  float64\n",
      " 64  rougher.state.floatbank10_f_level                   16802 non-null  float64\n",
      " 65  secondary_cleaner.output.tail_ag                    16776 non-null  float64\n",
      " 66  secondary_cleaner.output.tail_pb                    16764 non-null  float64\n",
      " 67  secondary_cleaner.output.tail_sol                   14874 non-null  float64\n",
      " 68  secondary_cleaner.output.tail_au                    16778 non-null  float64\n",
      " 69  secondary_cleaner.state.floatbank2_a_air            16497 non-null  float64\n",
      " 70  secondary_cleaner.state.floatbank2_a_level          16751 non-null  float64\n",
      " 71  secondary_cleaner.state.floatbank2_b_air            16705 non-null  float64\n",
      " 72  secondary_cleaner.state.floatbank2_b_level          16748 non-null  float64\n",
      " 73  secondary_cleaner.state.floatbank3_a_air            16763 non-null  float64\n",
      " 74  secondary_cleaner.state.floatbank3_a_level          16747 non-null  float64\n",
      " 75  secondary_cleaner.state.floatbank3_b_air            16752 non-null  float64\n",
      " 76  secondary_cleaner.state.floatbank3_b_level          16750 non-null  float64\n",
      " 77  secondary_cleaner.state.floatbank4_a_air            16731 non-null  float64\n",
      " 78  secondary_cleaner.state.floatbank4_a_level          16747 non-null  float64\n",
      " 79  secondary_cleaner.state.floatbank4_b_air            16768 non-null  float64\n",
      " 80  secondary_cleaner.state.floatbank4_b_level          16767 non-null  float64\n",
      " 81  secondary_cleaner.state.floatbank5_a_air            16775 non-null  float64\n",
      " 82  secondary_cleaner.state.floatbank5_a_level          16775 non-null  float64\n",
      " 83  secondary_cleaner.state.floatbank5_b_air            16775 non-null  float64\n",
      " 84  secondary_cleaner.state.floatbank5_b_level          16776 non-null  float64\n",
      " 85  secondary_cleaner.state.floatbank6_a_air            16757 non-null  float64\n",
      " 86  secondary_cleaner.state.floatbank6_a_level          16775 non-null  float64\n",
      "dtypes: float64(86), object(1)\n",
      "memory usage: 11.2+ MB\n",
      "None\n",
      "\n",
      "<class 'pandas.core.frame.DataFrame'>\n",
      "RangeIndex: 5856 entries, 0 to 5855\n",
      "Data columns (total 53 columns):\n",
      " #   Column                                      Non-Null Count  Dtype  \n",
      "---  ------                                      --------------  -----  \n",
      " 0   date                                        5856 non-null   object \n",
      " 1   primary_cleaner.input.sulfate               5554 non-null   float64\n",
      " 2   primary_cleaner.input.depressant            5572 non-null   float64\n",
      " 3   primary_cleaner.input.feed_size             5856 non-null   float64\n",
      " 4   primary_cleaner.input.xanthate              5690 non-null   float64\n",
      " 5   primary_cleaner.state.floatbank8_a_air      5840 non-null   float64\n",
      " 6   primary_cleaner.state.floatbank8_a_level    5840 non-null   float64\n",
      " 7   primary_cleaner.state.floatbank8_b_air      5840 non-null   float64\n",
      " 8   primary_cleaner.state.floatbank8_b_level    5840 non-null   float64\n",
      " 9   primary_cleaner.state.floatbank8_c_air      5840 non-null   float64\n",
      " 10  primary_cleaner.state.floatbank8_c_level    5840 non-null   float64\n",
      " 11  primary_cleaner.state.floatbank8_d_air      5840 non-null   float64\n",
      " 12  primary_cleaner.state.floatbank8_d_level    5840 non-null   float64\n",
      " 13  rougher.input.feed_ag                       5840 non-null   float64\n",
      " 14  rougher.input.feed_pb                       5840 non-null   float64\n",
      " 15  rougher.input.feed_rate                     5816 non-null   float64\n",
      " 16  rougher.input.feed_size                     5834 non-null   float64\n",
      " 17  rougher.input.feed_sol                      5789 non-null   float64\n",
      " 18  rougher.input.feed_au                       5840 non-null   float64\n",
      " 19  rougher.input.floatbank10_sulfate           5599 non-null   float64\n",
      " 20  rougher.input.floatbank10_xanthate          5733 non-null   float64\n",
      " 21  rougher.input.floatbank11_sulfate           5801 non-null   float64\n",
      " 22  rougher.input.floatbank11_xanthate          5503 non-null   float64\n",
      " 23  rougher.state.floatbank10_a_air             5839 non-null   float64\n",
      " 24  rougher.state.floatbank10_a_level           5840 non-null   float64\n",
      " 25  rougher.state.floatbank10_b_air             5839 non-null   float64\n",
      " 26  rougher.state.floatbank10_b_level           5840 non-null   float64\n",
      " 27  rougher.state.floatbank10_c_air             5839 non-null   float64\n",
      " 28  rougher.state.floatbank10_c_level           5840 non-null   float64\n",
      " 29  rougher.state.floatbank10_d_air             5839 non-null   float64\n",
      " 30  rougher.state.floatbank10_d_level           5840 non-null   float64\n",
      " 31  rougher.state.floatbank10_e_air             5839 non-null   float64\n",
      " 32  rougher.state.floatbank10_e_level           5840 non-null   float64\n",
      " 33  rougher.state.floatbank10_f_air             5839 non-null   float64\n",
      " 34  rougher.state.floatbank10_f_level           5840 non-null   float64\n",
      " 35  secondary_cleaner.state.floatbank2_a_air    5836 non-null   float64\n",
      " 36  secondary_cleaner.state.floatbank2_a_level  5840 non-null   float64\n",
      " 37  secondary_cleaner.state.floatbank2_b_air    5833 non-null   float64\n",
      " 38  secondary_cleaner.state.floatbank2_b_level  5840 non-null   float64\n",
      " 39  secondary_cleaner.state.floatbank3_a_air    5822 non-null   float64\n",
      " 40  secondary_cleaner.state.floatbank3_a_level  5840 non-null   float64\n",
      " 41  secondary_cleaner.state.floatbank3_b_air    5840 non-null   float64\n",
      " 42  secondary_cleaner.state.floatbank3_b_level  5840 non-null   float64\n",
      " 43  secondary_cleaner.state.floatbank4_a_air    5840 non-null   float64\n",
      " 44  secondary_cleaner.state.floatbank4_a_level  5840 non-null   float64\n",
      " 45  secondary_cleaner.state.floatbank4_b_air    5840 non-null   float64\n",
      " 46  secondary_cleaner.state.floatbank4_b_level  5840 non-null   float64\n",
      " 47  secondary_cleaner.state.floatbank5_a_air    5840 non-null   float64\n",
      " 48  secondary_cleaner.state.floatbank5_a_level  5840 non-null   float64\n",
      " 49  secondary_cleaner.state.floatbank5_b_air    5840 non-null   float64\n",
      " 50  secondary_cleaner.state.floatbank5_b_level  5840 non-null   float64\n",
      " 51  secondary_cleaner.state.floatbank6_a_air    5840 non-null   float64\n",
      " 52  secondary_cleaner.state.floatbank6_a_level  5840 non-null   float64\n",
      "dtypes: float64(52), object(1)\n",
      "memory usage: 2.4+ MB\n",
      "None\n",
      "\n"
     ]
    }
   ],
   "source": [
    "for data in (df, df_train, df_test):\n",
    "    print(data.info())\n",
    "    print()"
   ]
  },
  {
   "cell_type": "code",
   "execution_count": 4,
   "metadata": {},
   "outputs": [
    {
     "data": {
      "text/html": [
       "<div>\n",
       "<style scoped>\n",
       "    .dataframe tbody tr th:only-of-type {\n",
       "        vertical-align: middle;\n",
       "    }\n",
       "\n",
       "    .dataframe tbody tr th {\n",
       "        vertical-align: top;\n",
       "    }\n",
       "\n",
       "    .dataframe thead th {\n",
       "        text-align: right;\n",
       "    }\n",
       "</style>\n",
       "<table border=\"1\" class=\"dataframe\">\n",
       "  <thead>\n",
       "    <tr style=\"text-align: right;\">\n",
       "      <th></th>\n",
       "      <th>date</th>\n",
       "      <th>final.output.concentrate_ag</th>\n",
       "      <th>final.output.concentrate_pb</th>\n",
       "      <th>final.output.concentrate_sol</th>\n",
       "      <th>final.output.concentrate_au</th>\n",
       "      <th>final.output.recovery</th>\n",
       "      <th>final.output.tail_ag</th>\n",
       "      <th>final.output.tail_pb</th>\n",
       "      <th>final.output.tail_sol</th>\n",
       "      <th>final.output.tail_au</th>\n",
       "      <th>...</th>\n",
       "      <th>secondary_cleaner.state.floatbank4_a_air</th>\n",
       "      <th>secondary_cleaner.state.floatbank4_a_level</th>\n",
       "      <th>secondary_cleaner.state.floatbank4_b_air</th>\n",
       "      <th>secondary_cleaner.state.floatbank4_b_level</th>\n",
       "      <th>secondary_cleaner.state.floatbank5_a_air</th>\n",
       "      <th>secondary_cleaner.state.floatbank5_a_level</th>\n",
       "      <th>secondary_cleaner.state.floatbank5_b_air</th>\n",
       "      <th>secondary_cleaner.state.floatbank5_b_level</th>\n",
       "      <th>secondary_cleaner.state.floatbank6_a_air</th>\n",
       "      <th>secondary_cleaner.state.floatbank6_a_level</th>\n",
       "    </tr>\n",
       "  </thead>\n",
       "  <tbody>\n",
       "    <tr>\n",
       "      <th>0</th>\n",
       "      <td>2016-01-15 00:00:00</td>\n",
       "      <td>6.055403</td>\n",
       "      <td>9.889648</td>\n",
       "      <td>5.507324</td>\n",
       "      <td>42.192020</td>\n",
       "      <td>70.541216</td>\n",
       "      <td>10.411962</td>\n",
       "      <td>0.895447</td>\n",
       "      <td>16.904297</td>\n",
       "      <td>2.143149</td>\n",
       "      <td>...</td>\n",
       "      <td>14.016835</td>\n",
       "      <td>-502.488007</td>\n",
       "      <td>12.099931</td>\n",
       "      <td>-504.715942</td>\n",
       "      <td>9.925633</td>\n",
       "      <td>-498.310211</td>\n",
       "      <td>8.079666</td>\n",
       "      <td>-500.470978</td>\n",
       "      <td>14.151341</td>\n",
       "      <td>-605.841980</td>\n",
       "    </tr>\n",
       "    <tr>\n",
       "      <th>1</th>\n",
       "      <td>2016-01-15 01:00:00</td>\n",
       "      <td>6.029369</td>\n",
       "      <td>9.968944</td>\n",
       "      <td>5.257781</td>\n",
       "      <td>42.701629</td>\n",
       "      <td>69.266198</td>\n",
       "      <td>10.462676</td>\n",
       "      <td>0.927452</td>\n",
       "      <td>16.634514</td>\n",
       "      <td>2.224930</td>\n",
       "      <td>...</td>\n",
       "      <td>13.992281</td>\n",
       "      <td>-505.503262</td>\n",
       "      <td>11.950531</td>\n",
       "      <td>-501.331529</td>\n",
       "      <td>10.039245</td>\n",
       "      <td>-500.169983</td>\n",
       "      <td>7.984757</td>\n",
       "      <td>-500.582168</td>\n",
       "      <td>13.998353</td>\n",
       "      <td>-599.787184</td>\n",
       "    </tr>\n",
       "    <tr>\n",
       "      <th>2</th>\n",
       "      <td>2016-01-15 02:00:00</td>\n",
       "      <td>6.055926</td>\n",
       "      <td>10.213995</td>\n",
       "      <td>5.383759</td>\n",
       "      <td>42.657501</td>\n",
       "      <td>68.116445</td>\n",
       "      <td>10.507046</td>\n",
       "      <td>0.953716</td>\n",
       "      <td>16.208849</td>\n",
       "      <td>2.257889</td>\n",
       "      <td>...</td>\n",
       "      <td>14.015015</td>\n",
       "      <td>-502.520901</td>\n",
       "      <td>11.912783</td>\n",
       "      <td>-501.133383</td>\n",
       "      <td>10.070913</td>\n",
       "      <td>-500.129135</td>\n",
       "      <td>8.013877</td>\n",
       "      <td>-500.517572</td>\n",
       "      <td>14.028663</td>\n",
       "      <td>-601.427363</td>\n",
       "    </tr>\n",
       "    <tr>\n",
       "      <th>3</th>\n",
       "      <td>2016-01-15 03:00:00</td>\n",
       "      <td>6.047977</td>\n",
       "      <td>9.977019</td>\n",
       "      <td>4.858634</td>\n",
       "      <td>42.689819</td>\n",
       "      <td>68.347543</td>\n",
       "      <td>10.422762</td>\n",
       "      <td>0.883763</td>\n",
       "      <td>16.532835</td>\n",
       "      <td>2.146849</td>\n",
       "      <td>...</td>\n",
       "      <td>14.036510</td>\n",
       "      <td>-500.857308</td>\n",
       "      <td>11.999550</td>\n",
       "      <td>-501.193686</td>\n",
       "      <td>9.970366</td>\n",
       "      <td>-499.201640</td>\n",
       "      <td>7.977324</td>\n",
       "      <td>-500.255908</td>\n",
       "      <td>14.005551</td>\n",
       "      <td>-599.996129</td>\n",
       "    </tr>\n",
       "    <tr>\n",
       "      <th>4</th>\n",
       "      <td>2016-01-15 04:00:00</td>\n",
       "      <td>6.148599</td>\n",
       "      <td>10.142511</td>\n",
       "      <td>4.939416</td>\n",
       "      <td>42.774141</td>\n",
       "      <td>66.927016</td>\n",
       "      <td>10.360302</td>\n",
       "      <td>0.792826</td>\n",
       "      <td>16.525686</td>\n",
       "      <td>2.055292</td>\n",
       "      <td>...</td>\n",
       "      <td>14.027298</td>\n",
       "      <td>-499.838632</td>\n",
       "      <td>11.953070</td>\n",
       "      <td>-501.053894</td>\n",
       "      <td>9.925709</td>\n",
       "      <td>-501.686727</td>\n",
       "      <td>7.894242</td>\n",
       "      <td>-500.356035</td>\n",
       "      <td>13.996647</td>\n",
       "      <td>-601.496691</td>\n",
       "    </tr>\n",
       "  </tbody>\n",
       "</table>\n",
       "<p>5 rows × 87 columns</p>\n",
       "</div>"
      ],
      "text/plain": [
       "                  date  final.output.concentrate_ag  \\\n",
       "0  2016-01-15 00:00:00                     6.055403   \n",
       "1  2016-01-15 01:00:00                     6.029369   \n",
       "2  2016-01-15 02:00:00                     6.055926   \n",
       "3  2016-01-15 03:00:00                     6.047977   \n",
       "4  2016-01-15 04:00:00                     6.148599   \n",
       "\n",
       "   final.output.concentrate_pb  final.output.concentrate_sol  \\\n",
       "0                     9.889648                      5.507324   \n",
       "1                     9.968944                      5.257781   \n",
       "2                    10.213995                      5.383759   \n",
       "3                     9.977019                      4.858634   \n",
       "4                    10.142511                      4.939416   \n",
       "\n",
       "   final.output.concentrate_au  final.output.recovery  final.output.tail_ag  \\\n",
       "0                    42.192020              70.541216             10.411962   \n",
       "1                    42.701629              69.266198             10.462676   \n",
       "2                    42.657501              68.116445             10.507046   \n",
       "3                    42.689819              68.347543             10.422762   \n",
       "4                    42.774141              66.927016             10.360302   \n",
       "\n",
       "   final.output.tail_pb  final.output.tail_sol  final.output.tail_au  ...  \\\n",
       "0              0.895447              16.904297              2.143149  ...   \n",
       "1              0.927452              16.634514              2.224930  ...   \n",
       "2              0.953716              16.208849              2.257889  ...   \n",
       "3              0.883763              16.532835              2.146849  ...   \n",
       "4              0.792826              16.525686              2.055292  ...   \n",
       "\n",
       "   secondary_cleaner.state.floatbank4_a_air  \\\n",
       "0                                 14.016835   \n",
       "1                                 13.992281   \n",
       "2                                 14.015015   \n",
       "3                                 14.036510   \n",
       "4                                 14.027298   \n",
       "\n",
       "   secondary_cleaner.state.floatbank4_a_level  \\\n",
       "0                                 -502.488007   \n",
       "1                                 -505.503262   \n",
       "2                                 -502.520901   \n",
       "3                                 -500.857308   \n",
       "4                                 -499.838632   \n",
       "\n",
       "   secondary_cleaner.state.floatbank4_b_air  \\\n",
       "0                                 12.099931   \n",
       "1                                 11.950531   \n",
       "2                                 11.912783   \n",
       "3                                 11.999550   \n",
       "4                                 11.953070   \n",
       "\n",
       "   secondary_cleaner.state.floatbank4_b_level  \\\n",
       "0                                 -504.715942   \n",
       "1                                 -501.331529   \n",
       "2                                 -501.133383   \n",
       "3                                 -501.193686   \n",
       "4                                 -501.053894   \n",
       "\n",
       "   secondary_cleaner.state.floatbank5_a_air  \\\n",
       "0                                  9.925633   \n",
       "1                                 10.039245   \n",
       "2                                 10.070913   \n",
       "3                                  9.970366   \n",
       "4                                  9.925709   \n",
       "\n",
       "   secondary_cleaner.state.floatbank5_a_level  \\\n",
       "0                                 -498.310211   \n",
       "1                                 -500.169983   \n",
       "2                                 -500.129135   \n",
       "3                                 -499.201640   \n",
       "4                                 -501.686727   \n",
       "\n",
       "   secondary_cleaner.state.floatbank5_b_air  \\\n",
       "0                                  8.079666   \n",
       "1                                  7.984757   \n",
       "2                                  8.013877   \n",
       "3                                  7.977324   \n",
       "4                                  7.894242   \n",
       "\n",
       "   secondary_cleaner.state.floatbank5_b_level  \\\n",
       "0                                 -500.470978   \n",
       "1                                 -500.582168   \n",
       "2                                 -500.517572   \n",
       "3                                 -500.255908   \n",
       "4                                 -500.356035   \n",
       "\n",
       "   secondary_cleaner.state.floatbank6_a_air  \\\n",
       "0                                 14.151341   \n",
       "1                                 13.998353   \n",
       "2                                 14.028663   \n",
       "3                                 14.005551   \n",
       "4                                 13.996647   \n",
       "\n",
       "   secondary_cleaner.state.floatbank6_a_level  \n",
       "0                                 -605.841980  \n",
       "1                                 -599.787184  \n",
       "2                                 -601.427363  \n",
       "3                                 -599.996129  \n",
       "4                                 -601.496691  \n",
       "\n",
       "[5 rows x 87 columns]"
      ]
     },
     "execution_count": 4,
     "metadata": {},
     "output_type": "execute_result"
    }
   ],
   "source": [
    "df.head()"
   ]
  },
  {
   "cell_type": "markdown",
   "metadata": {},
   "source": [
    "Observando la base de datos gold_recovery_full podemos apreciar que a excepción de la columna date, todas las columnas están compuestas por datos numéricos de tipo float64, también podemos apreciar la existencia de valores ausentes en prácticamente todas las columnas siendo el mayor caso la columna \"rougher.output.recovery\" con 3119 valores ausentes, alrededor de un 13,7% de sus datos. Podemos apreciar al observar las primeras 5 filas de la base de datos completa que como es el tipo de valores en las distintas columnas.\n",
    "\n",
    "Finalmente podemos apreciar que la base de datos de prueba contiene una selección filtrada de las columnas, lo que será abordado más adelante."
   ]
  },
  {
   "cell_type": "markdown",
   "metadata": {},
   "source": [
    "### 4.1 Cálculo de recuperación <a name=\"rec\"></a>"
   ]
  },
  {
   "cell_type": "markdown",
   "metadata": {},
   "source": [
    "Comenzaremos comprobando que el cálculo de la recuperación sea correcto con la base de datos de entrenamiento, a continuación, se mostrará una imagen que muestra la fórmula para el cálculo de recuperación y que significa cada variable."
   ]
  },
  {
   "cell_type": "code",
   "execution_count": 5,
   "metadata": {},
   "outputs": [
    {
     "data": {
      "image/png": "[encoded data removed]",
      "text/plain": [
       "<Figure size 640x480 with 1 Axes>"
      ]
     },
     "metadata": {},
     "output_type": "display_data"
    }
   ],
   "source": [
    "img = mpimg.imread('images/recuperacion_formula.png')\n",
    "imgplot = plt.imshow(img)\n",
    "plt.show()"
   ]
  },
  {
   "cell_type": "markdown",
   "metadata": {},
   "source": [
    "* C — proporción de oro en el concentrado justo después de la flotación (para saber la recuperación del concentrado rougher)/después de la purificación (para saber la recuperación del concentrado final)\n",
    "\n",
    "* F — la proporción de oro en la alimentación antes de la flotación (para saber la recuperación del concentrado rougher)/en el concentrado justo después de la flotación (para saber la recuperación del concentrado final)\n",
    "\n",
    "* T — la proporción de oro en las colas rougher justo después de la flotación (para saber la recuperación del concentrado rougher)/después de la purificación (para saber la recuperación del concentrado final)\n",
    "\n",
    "Para realizar la comprobación del cálculo eliminaremos las filas con valores ausentes para que no arrojen errores en el mismo."
   ]
  },
  {
   "cell_type": "code",
   "execution_count": 6,
   "metadata": {},
   "outputs": [],
   "source": [
    "df_train_not_null = df_train.dropna()\n",
    "C = df_train_not_null['rougher.output.concentrate_au']\n",
    "F = df_train_not_null['rougher.input.feed_au']\n",
    "T = df_train_not_null['rougher.output.tail_au']\n",
    "recov = (C*(F-T))/(F*(C-T))*100"
   ]
  },
  {
   "cell_type": "code",
   "execution_count": 7,
   "metadata": {},
   "outputs": [
    {
     "name": "stdout",
     "output_type": "stream",
     "text": [
      "9.460144184559453e-15\n"
     ]
    }
   ],
   "source": [
    "print(mean_absolute_error(df_train_not_null['rougher.output.recovery'], recov))"
   ]
  },
  {
   "cell_type": "markdown",
   "metadata": {},
   "source": [
    "Como podemos apreciar, el resultado obtenido del error absoluto medio entre nuestros cálculos y los valores existentes arroja un error mínimo por lo que podemos asegurar que el calculo de recuperación es correcto."
   ]
  },
  {
   "cell_type": "markdown",
   "metadata": {},
   "source": [
    "### 4.2 Conjunto de Prueba <a name=\"test\"></a>"
   ]
  },
  {
   "cell_type": "markdown",
   "metadata": {},
   "source": [
    "Procederemos a observar las características que no se encuentran disponibles en el conjunto de pruebas."
   ]
  },
  {
   "cell_type": "code",
   "execution_count": 8,
   "metadata": {
    "scrolled": true
   },
   "outputs": [
    {
     "name": "stdout",
     "output_type": "stream",
     "text": [
      "<class 'pandas.core.frame.DataFrame'>\n",
      "RangeIndex: 22716 entries, 0 to 22715\n",
      "Data columns (total 34 columns):\n",
      " #   Column                                              Non-Null Count  Dtype  \n",
      "---  ------                                              --------------  -----  \n",
      " 0   final.output.concentrate_ag                         22627 non-null  float64\n",
      " 1   final.output.concentrate_pb                         22629 non-null  float64\n",
      " 2   final.output.concentrate_sol                        22331 non-null  float64\n",
      " 3   final.output.concentrate_au                         22630 non-null  float64\n",
      " 4   final.output.recovery                               20753 non-null  float64\n",
      " 5   final.output.tail_ag                                22633 non-null  float64\n",
      " 6   final.output.tail_pb                                22516 non-null  float64\n",
      " 7   final.output.tail_sol                               22445 non-null  float64\n",
      " 8   final.output.tail_au                                22635 non-null  float64\n",
      " 9   primary_cleaner.output.concentrate_ag               22618 non-null  float64\n",
      " 10  primary_cleaner.output.concentrate_pb               22268 non-null  float64\n",
      " 11  primary_cleaner.output.concentrate_sol              21918 non-null  float64\n",
      " 12  primary_cleaner.output.concentrate_au               22618 non-null  float64\n",
      " 13  primary_cleaner.output.tail_ag                      22614 non-null  float64\n",
      " 14  primary_cleaner.output.tail_pb                      22594 non-null  float64\n",
      " 15  primary_cleaner.output.tail_sol                     22365 non-null  float64\n",
      " 16  primary_cleaner.output.tail_au                      22617 non-null  float64\n",
      " 17  rougher.calculation.sulfate_to_au_concentrate       22672 non-null  float64\n",
      " 18  rougher.calculation.floatbank10_sulfate_to_au_feed  22672 non-null  float64\n",
      " 19  rougher.calculation.floatbank11_sulfate_to_au_feed  22672 non-null  float64\n",
      " 20  rougher.calculation.au_pb_ratio                     21089 non-null  float64\n",
      " 21  rougher.output.concentrate_ag                       22618 non-null  float64\n",
      " 22  rougher.output.concentrate_pb                       22618 non-null  float64\n",
      " 23  rougher.output.concentrate_sol                      22526 non-null  float64\n",
      " 24  rougher.output.concentrate_au                       22618 non-null  float64\n",
      " 25  rougher.output.recovery                             19597 non-null  float64\n",
      " 26  rougher.output.tail_ag                              19979 non-null  float64\n",
      " 27  rougher.output.tail_pb                              22618 non-null  float64\n",
      " 28  rougher.output.tail_sol                             19980 non-null  float64\n",
      " 29  rougher.output.tail_au                              19980 non-null  float64\n",
      " 30  secondary_cleaner.output.tail_ag                    22616 non-null  float64\n",
      " 31  secondary_cleaner.output.tail_pb                    22600 non-null  float64\n",
      " 32  secondary_cleaner.output.tail_sol                   20501 non-null  float64\n",
      " 33  secondary_cleaner.output.tail_au                    22618 non-null  float64\n",
      "dtypes: float64(34)\n",
      "memory usage: 5.9 MB\n"
     ]
    }
   ],
   "source": [
    "df_test_not = df.drop(df_test.columns, axis=1)\n",
    "df_test_not.info()"
   ]
  },
  {
   "cell_type": "markdown",
   "metadata": {},
   "source": [
    "Al observar las columnas que no se encuentran en la base de datos de prueba podemos notar que todas pertenecen a las concentraciones de los distintos tipos de metales que posee la materia prima a través de los procesos por lo que esta pasa para obtener el concentrado de oro, ya sea las colas que se van descartando como los concentrados que pasan proceso a proceso. También apreciamos que las concentraciones finales de oro tampoco se encuentran en esta base de datos, por lo que podemos inferir que las columnas que se mantienen en la base de datos son las que definen el proceso y por ende los parámetros responsables de la cantidad de oro que se obtendrá finalmente."
   ]
  },
  {
   "cell_type": "markdown",
   "metadata": {},
   "source": [
    "### 4.3 Preprocesamiento de datos <a name=\"prep\"></a>"
   ]
  },
  {
   "cell_type": "markdown",
   "metadata": {},
   "source": [
    "Como observamos al comienzo de la sección, las bases de datos poseen valores ausentes los cuales deben ser tratados para el correcto entrenamiento de los modelos de machine learning. En este caso solo abordaremos las bases de datos de entrenamiento y prueba ya que con ellas trabajaremos directamente con los modelos de machine learning, pero antes de tratarlas veremos si existen valores duplicados en la base de datos completa a través de la columna 'date', ya que esta contiene los distintos registros que se han realizado y por ende sus valores deberían de ser únicos."
   ]
  },
  {
   "cell_type": "code",
   "execution_count": 9,
   "metadata": {},
   "outputs": [
    {
     "data": {
      "text/plain": [
       "0"
      ]
     },
     "execution_count": 9,
     "metadata": {},
     "output_type": "execute_result"
    }
   ],
   "source": [
    "df['date'].duplicated().sum()"
   ]
  },
  {
   "cell_type": "markdown",
   "metadata": {},
   "source": [
    "Podemos apreciar que no existen filas duplicadas en la base de datos completa, por lo que continuaremos con el tratamiento de los valores ausentes."
   ]
  },
  {
   "cell_type": "markdown",
   "metadata": {},
   "source": [
    "#### 4.3.1 Gold_recovery_test <a name=\"gold_test\"></a>"
   ]
  },
  {
   "cell_type": "code",
   "execution_count": 10,
   "metadata": {},
   "outputs": [
    {
     "data": {
      "text/plain": [
       "rougher.input.floatbank11_xanthate          6.028005\n",
       "primary_cleaner.input.sulfate               5.157104\n",
       "primary_cleaner.input.depressant            4.849727\n",
       "rougher.input.floatbank10_sulfate           4.388661\n",
       "primary_cleaner.input.xanthate              2.834699\n",
       "rougher.input.floatbank10_xanthate          2.100410\n",
       "rougher.input.feed_sol                      1.144126\n",
       "rougher.input.floatbank11_sulfate           0.939208\n",
       "rougher.input.feed_rate                     0.683060\n",
       "secondary_cleaner.state.floatbank3_a_air    0.580601\n",
       "dtype: float64"
      ]
     },
     "execution_count": 10,
     "metadata": {},
     "output_type": "execute_result"
    }
   ],
   "source": [
    "((df_test.isna().sum()/len(df_test))*100).sort_values(ascending=False).head(10)"
   ]
  },
  {
   "cell_type": "markdown",
   "metadata": {},
   "source": [
    "Podemos apreciar que la columna que posee una mayor cantidad de datos ausentes son alrededor de un 6% de los datos, debido a la poca cantidad de datos ausentes, que no poseemos una clara relación entre las columnas que no corresponda al cálculo de la extracción de oro y para no intervenir en los propios cálculos de obtención de oro que se realizaran durante el proceso es que se optara por eliminar las filas con valores ausentes para que el modelo tenga la mayor fiabilidad posible."
   ]
  },
  {
   "cell_type": "code",
   "execution_count": 11,
   "metadata": {},
   "outputs": [],
   "source": [
    "df_test = df_test.dropna()"
   ]
  },
  {
   "cell_type": "markdown",
   "metadata": {},
   "source": [
    "#### 4.3.2 gold_recovery_train <a name=\"gold_train\"></a>"
   ]
  },
  {
   "cell_type": "code",
   "execution_count": 12,
   "metadata": {},
   "outputs": [
    {
     "data": {
      "text/plain": [
       "rougher.output.recovery               15.260973\n",
       "rougher.output.tail_ag                13.345196\n",
       "rougher.output.tail_sol               13.339265\n",
       "rougher.output.tail_au                13.339265\n",
       "secondary_cleaner.output.tail_sol     11.779359\n",
       "rougher.input.floatbank11_xanthate    11.293001\n",
       "final.output.recovery                  9.021352\n",
       "primary_cleaner.input.sulfate          7.752076\n",
       "primary_cleaner.input.depressant       7.485172\n",
       "rougher.calculation.au_pb_ratio        7.366548\n",
       "dtype: float64"
      ]
     },
     "execution_count": 12,
     "metadata": {},
     "output_type": "execute_result"
    }
   ],
   "source": [
    "((df_train.isna().sum()/len(df_train))*100).sort_values(ascending=False).head(10)"
   ]
  },
  {
   "cell_type": "markdown",
   "metadata": {},
   "source": [
    "Con respecto a la base de datos de entrenamiento, aquí encontramos columnas con un mayor porcentaje de valores ausentes que en el anterior caso. Siguiendo los parámetros definidos en el caso anterior, procederemos a rellenar las columnas de \"final.output.recovery\" y \"rougher.output.recovery\" con la fórmula que definimos anteriormente para las filas que posean los valores necesarios, posteriormente eliminaremos las filas que posean valores ausentes en las mismas columnas que en el caso de la base de datos de pruebas ya que estas son las que utilizaremos para el entrenamiento del modelo."
   ]
  },
  {
   "cell_type": "code",
   "execution_count": 13,
   "metadata": {},
   "outputs": [],
   "source": [
    "def recovery_rougher(data):\n",
    "    CR = data['rougher.output.concentrate_au']\n",
    "    FR = data['rougher.input.feed_au']\n",
    "    TR = data['rougher.output.tail_au']\n",
    "    recov = (CR*(FR-TR))/(FR*(CR-TR))*100\n",
    "    return recov"
   ]
  },
  {
   "cell_type": "code",
   "execution_count": 14,
   "metadata": {},
   "outputs": [],
   "source": [
    "train_null = df_train[df_train['rougher.output.recovery'].isna()]\n",
    "df_train['rougher.output.recovery'] = df_train['rougher.output.recovery'].fillna(recovery_rougher(train_null))"
   ]
  },
  {
   "cell_type": "code",
   "execution_count": 15,
   "metadata": {},
   "outputs": [],
   "source": [
    "def recovery_final(data):\n",
    "    CR = data['final.output.concentrate_au']\n",
    "    FR = data['rougher.output.concentrate_au']\n",
    "    TR = data['final.output.tail_au']\n",
    "    recov = (CR*(FR-TR))/(FR*(CR-TR))*100\n",
    "    return recov"
   ]
  },
  {
   "cell_type": "code",
   "execution_count": 16,
   "metadata": {},
   "outputs": [],
   "source": [
    "train_null = df_train[df_train['final.output.recovery'].isna()]\n",
    "df_train['final.output.recovery'] = df_train['final.output.recovery'].fillna(recovery_final(train_null))"
   ]
  },
  {
   "cell_type": "code",
   "execution_count": 17,
   "metadata": {},
   "outputs": [],
   "source": [
    "record = df_test.columns.tolist()\n",
    "df_train = df_train.dropna(subset=record)\n",
    "df_train = df_train.dropna(subset=['rougher.output.recovery','final.output.recovery'])"
   ]
  },
  {
   "cell_type": "markdown",
   "metadata": {},
   "source": [
    "#### 4.3.3 Gold_recovery full <a name=\"gold_full\"></a>"
   ]
  },
  {
   "cell_type": "markdown",
   "metadata": {},
   "source": [
    "Procederemos a aplicar el mismo tratamiento que en la sección anterior a las columnas \"rougher.output.recovery\" y \"final.output.recovery\" para el dataframe full."
   ]
  },
  {
   "cell_type": "code",
   "execution_count": 18,
   "metadata": {},
   "outputs": [],
   "source": [
    "train_null = df[df['rougher.output.recovery'].isna()]\n",
    "df['rougher.output.recovery'] = df['rougher.output.recovery'].fillna(recovery_rougher(train_null))"
   ]
  },
  {
   "cell_type": "code",
   "execution_count": 19,
   "metadata": {},
   "outputs": [],
   "source": [
    "train_null = df[df['final.output.recovery'].isna()]\n",
    "df['final.output.recovery'] = df['final.output.recovery'].fillna(recovery_final(train_null))"
   ]
  },
  {
   "cell_type": "code",
   "execution_count": 20,
   "metadata": {},
   "outputs": [],
   "source": [
    "df = df.dropna()"
   ]
  },
  {
   "cell_type": "markdown",
   "metadata": {},
   "source": [
    "## 5. Análisis de Datos <a name=\"analysis\"></a>"
   ]
  },
  {
   "cell_type": "markdown",
   "metadata": {},
   "source": [
    "Comenzaremos el análisis de los datos observando cómo cambia la concentración de los metales de oro, plata y plomo en función de la etapa de purificación, posteriormente compararemos las distribuciones de tamaños de las partículas de la alimentación en las bases de datos de entrenamiento y prueba para corroborar que el modelo funcione de forma correcta, finalmente observaremos las concentraciones totales de todas las sustancias en las distintas fases del proyecto para encontrar si existen valores anómalos en los datos."
   ]
  },
  {
   "cell_type": "markdown",
   "metadata": {},
   "source": [
    "### 5.1 Concentración de metales <a name=\"metal\"></a>"
   ]
  },
  {
   "cell_type": "code",
   "execution_count": 21,
   "metadata": {},
   "outputs": [],
   "source": [
    "df_au = df[['rougher.input.feed_au','rougher.output.concentrate_au','primary_cleaner.output.concentrate_au','final.output.concentrate_au']]\n",
    "df_ag = df[['rougher.input.feed_ag','rougher.output.concentrate_ag','primary_cleaner.output.concentrate_ag','final.output.concentrate_ag']]\n",
    "df_pb = df[['rougher.input.feed_pb','rougher.output.concentrate_pb','primary_cleaner.output.concentrate_pb','final.output.concentrate_pb']]"
   ]
  },
  {
   "cell_type": "code",
   "execution_count": 22,
   "metadata": {},
   "outputs": [
    {
     "data": {
      "image/png": "[encoded data removed]",
      "text/plain": [
       "<Figure size 1500x500 with 1 Axes>"
      ]
     },
     "metadata": {},
     "output_type": "display_data"
    }
   ],
   "source": [
    "barWidth = 0.25\n",
    "fig = plt.subplots(figsize =(15, 5))\n",
    "\n",
    "br1 = np.arange(len(df_au.mean()))\n",
    "br2 = [x + barWidth for x in br1]\n",
    "br3 = [x + barWidth for x in br2]\n",
    "\n",
    "plt.bar(br1, df_au.mean(), color ='y', width = barWidth, edgecolor ='grey', label ='Au')\n",
    "plt.bar(br2, df_ag.mean(), color ='grey', width = barWidth, edgecolor ='grey', label ='Ag')\n",
    "plt.bar(br3, df_pb.mean(), color ='black', width = barWidth, edgecolor ='grey', label ='Pb')\n",
    "\n",
    "plt.xlabel('Process', fontsize = 14)\n",
    "plt.ylabel('concentration', fontsize = 14)\n",
    "plt.xticks([r + barWidth for r in range(len(df_au.mean()))],\n",
    "        ['rougher input', 'rougher output', 'primary cleaner output', 'final output']) \n",
    "plt.title('concentration of gold, silver and lead through the processes')\n",
    "plt.legend()\n",
    "plt.show()"
   ]
  },
  {
   "cell_type": "markdown",
   "metadata": {},
   "source": [
    "Al observar el grafico, podemos apreciar que como es esperado la concentración de oro aumenta según van avanzando los procesos debido a que se van eliminando otros minerales del conjunto que pasa por los procesos, por parte de la plata vemos que aumenta su concentración al pasar por el proceso de flotación, pero luego disminuye en los procesos de limpieza con lo que concluimos que durante la flotación no se remueve plata del conjunto, pero esta si es extraída en el proceso de limpieza. Finalmente podemos ver que la concentración de plomo aumenta moderadamente según transcurren los procesos por lo que es un mineral que no es extraído mayoritariamente en los procesos de flotación o limpieza."
   ]
  },
  {
   "cell_type": "markdown",
   "metadata": {},
   "source": [
    "### 5.2 Distribución de tamaño de partículas <a name=\"size\"></a>"
   ]
  },
  {
   "cell_type": "markdown",
   "metadata": {},
   "source": [
    "Continuaremos observando el tamaño de las partículas de la alimentación en el proceso de limpieza primaria y flotación entre las bases de datos de entrenamiento y prueba."
   ]
  },
  {
   "cell_type": "code",
   "execution_count": 23,
   "metadata": {},
   "outputs": [],
   "source": [
    "def histogram(data1, data2, columna, ylabel, title, label1, label2):\n",
    "    plt.figure(figsize=(15,5))\n",
    "    plt.hist(data1[columna], bins=100, alpha=0.5, label=label1)\n",
    "    plt.hist(data2[columna], bins=100, alpha=0.5, label=label2)\n",
    "    plt.xlabel(columna, size=14)\n",
    "    plt.ylabel(ylabel, size=14)\n",
    "    plt.title(title)\n",
    "    plt.legend(loc='upper right')"
   ]
  },
  {
   "cell_type": "code",
   "execution_count": 24,
   "metadata": {},
   "outputs": [
    {
     "data": {
      "image/png": "[encoded data removed]",
      "text/plain": [
       "<Figure size 1500x500 with 1 Axes>"
      ]
     },
     "metadata": {},
     "output_type": "display_data"
    }
   ],
   "source": [
    "histogram(df_train, df_test, 'primary_cleaner.input.feed_size', 'amount', 'primary cleaner feed size distribution comparison', 'train', 'test')"
   ]
  },
  {
   "cell_type": "code",
   "execution_count": 25,
   "metadata": {},
   "outputs": [
    {
     "data": {
      "image/png": "[encoded data removed]",
      "text/plain": [
       "<Figure size 1500x500 with 1 Axes>"
      ]
     },
     "metadata": {},
     "output_type": "display_data"
    }
   ],
   "source": [
    "histogram(df_train, df_test, 'rougher.input.feed_size', 'amount', 'rougher feed size distribution comparison', 'train', 'test')"
   ]
  },
  {
   "cell_type": "markdown",
   "metadata": {},
   "source": [
    "Al observar los dos gráficos podemos apreciar que, en general, la distribución de los tamaños de partículas de alimentación en ambos procesos es similar en ambas bases de datos, por lo que este factor no debería interferir en el entrenamiento de nuestro modelo."
   ]
  },
  {
   "cell_type": "markdown",
   "metadata": {},
   "source": [
    "### 5.3 Concentraciones totales <a name=\"concentration\"></a>"
   ]
  },
  {
   "cell_type": "markdown",
   "metadata": {},
   "source": [
    "Como último punto, observaremos la concentración total de todos los minerales en las distintas etapas, materia prima, concentrado rougher y concentrado final, para observar si existen valores anómalos."
   ]
  },
  {
   "cell_type": "code",
   "execution_count": 26,
   "metadata": {},
   "outputs": [],
   "source": [
    "df_prime = df[['rougher.input.feed_ag','rougher.input.feed_pb','rougher.input.feed_sol','rougher.input.feed_au']].sum(axis=1)\n",
    "df_rougher = df[['rougher.output.concentrate_ag','rougher.output.concentrate_pb','rougher.output.concentrate_sol','rougher.output.concentrate_au']].sum(axis=1)\n",
    "df_final = df[['final.output.concentrate_ag','final.output.concentrate_pb','final.output.concentrate_sol','final.output.concentrate_au']].sum(axis=1)"
   ]
  },
  {
   "cell_type": "code",
   "execution_count": 27,
   "metadata": {},
   "outputs": [
    {
     "data": {
      "text/plain": [
       "<matplotlib.legend.Legend at 0x17846477670>"
      ]
     },
     "execution_count": 27,
     "metadata": {},
     "output_type": "execute_result"
    },
    {
     "data": {
      "image/png": "[encoded data removed]",
      "text/plain": [
       "<Figure size 1500x500 with 1 Axes>"
      ]
     },
     "metadata": {},
     "output_type": "display_data"
    }
   ],
   "source": [
    "plt.figure(figsize=(15,5))\n",
    "plt.hist(df_prime, bins=100, alpha=0.5, label='raw material')\n",
    "plt.hist(df_rougher, bins=100, alpha=0.5, label='rougher')\n",
    "plt.hist(df_final, bins=100, alpha=0.5, label='final')\n",
    "plt.xlabel('concentration', size=14)\n",
    "plt.ylabel('amount', size=14)\n",
    "plt.title('concentration distribution of substances at different stages')\n",
    "plt.legend(loc='upper right')"
   ]
  },
  {
   "cell_type": "markdown",
   "metadata": {},
   "source": [
    "Al observar el grafico de concentraciones podemos apreciar una gran cantidad de valores anómalos en las tres etapas con concentraciones de minerales cercanas a 0, procederemos a eliminar estos valores ya que se encuentran fuera de las distribuciones de las concentraciones de minerales y podrían afectar negativamente a nuestro modelo."
   ]
  },
  {
   "cell_type": "code",
   "execution_count": 28,
   "metadata": {},
   "outputs": [],
   "source": [
    "df_train = df_train.drop(df_train[(df_train['rougher.input.feed_ag']+df_train['rougher.input.feed_pb']+df_train['rougher.input.feed_sol']+df_train['rougher.input.feed_au']) <= 1].index)\n",
    "df_train = df_train.drop(df_train[(df_train['rougher.output.concentrate_ag']+df_train['rougher.output.concentrate_pb']+df_train['rougher.output.concentrate_sol']+df_train['rougher.output.concentrate_au']) <= 1].index)\n",
    "df_train = df_train.drop(df_train[(df_train['final.output.concentrate_ag']+df_train['final.output.concentrate_pb']+df_train['final.output.concentrate_sol']+df_train['final.output.concentrate_au']) <= 1].index)\n",
    "df_test = df_test.drop(df_test[(df_test['rougher.input.feed_ag']+df_test['rougher.input.feed_pb']+df_test['rougher.input.feed_sol']+df_test['rougher.input.feed_au']) <= 1].index)\n",
    "df = df.drop(df[(df['rougher.input.feed_ag']+df['rougher.input.feed_pb']+df['rougher.input.feed_sol']+df['rougher.input.feed_au']) <= 1].index)\n",
    "df = df.drop(df[(df['rougher.output.concentrate_ag']+df['rougher.output.concentrate_pb']+df['rougher.output.concentrate_sol']+df['rougher.output.concentrate_au']) == 0].index)\n",
    "df = df.drop(df[(df['final.output.concentrate_ag']+df['final.output.concentrate_pb']+df['final.output.concentrate_sol']+df['final.output.concentrate_au']) == 0].index)"
   ]
  },
  {
   "cell_type": "markdown",
   "metadata": {},
   "source": [
    "## 6. Modelo <a name=\"model\"></a>"
   ]
  },
  {
   "cell_type": "markdown",
   "metadata": {},
   "source": [
    "Continuaremos con el desarrollo del modelo, comenzaremos escribiendo una función para calcular el error medio absoluto porcentual simétrico, el cual será el parámetro de evaluación con el cual elegiremos el mejor modelo para el proyecto. Posteriormente probaremos distintos modelos para elegir el que tenga mejor resultado."
   ]
  },
  {
   "cell_type": "markdown",
   "metadata": {},
   "source": [
    "### 6.1 sMAPE <a name=\"smape\"></a>"
   ]
  },
  {
   "cell_type": "code",
   "execution_count": 29,
   "metadata": {},
   "outputs": [],
   "source": [
    "def smape(actual, prediction):\n",
    "    error = (abs((actual - prediction))/((abs(actual)+abs(prediction))/2)).mean()*100\n",
    "    final_error = error['rougher.output.recovery']*0.25 + error['final.output.recovery']*0.75 \n",
    "    return final_error\n",
    "\n",
    "custom_scorer = make_scorer(smape)"
   ]
  },
  {
   "cell_type": "markdown",
   "metadata": {},
   "source": [
    "### 6.2 Construcción del modelo <a name=\"building\"></a>"
   ]
  },
  {
   "cell_type": "markdown",
   "metadata": {},
   "source": [
    "Proseguimos con el modelo en si mismo, segmentaremos los datos de entrenamiento entre entrenamiento y validación para después probar los distintos modelos."
   ]
  },
  {
   "cell_type": "markdown",
   "metadata": {},
   "source": [
    "#### 6.2.1 Segmentacióon de los datos <a name=\"seg\"></a>"
   ]
  },
  {
   "cell_type": "code",
   "execution_count": 30,
   "metadata": {},
   "outputs": [],
   "source": [
    "columns_not_drop = df_test.columns"
   ]
  },
  {
   "cell_type": "code",
   "execution_count": 31,
   "metadata": {},
   "outputs": [],
   "source": [
    "features = df_train[columns_not_drop]\n",
    "features = features.drop(['date'], axis=1)\n",
    "target = df_train[['rougher.output.recovery', 'final.output.recovery']]"
   ]
  },
  {
   "cell_type": "code",
   "execution_count": 32,
   "metadata": {},
   "outputs": [],
   "source": [
    "features_test = df_test[df_test['date'].isin(df['date'])]\n",
    "features_test = features_test.drop(['date'], axis=1)\n",
    "target_test = df.merge(df_test, how='inner', on='date')\n",
    "target_test = target_test[['rougher.output.recovery', 'final.output.recovery']]\n",
    "target_test = target_test.set_index(features_test.index)"
   ]
  },
  {
   "cell_type": "code",
   "execution_count": 33,
   "metadata": {},
   "outputs": [
    {
     "data": {
      "text/plain": [
       "(5000, 52)"
      ]
     },
     "execution_count": 33,
     "metadata": {},
     "output_type": "execute_result"
    }
   ],
   "source": [
    "features_test.shape"
   ]
  },
  {
   "cell_type": "code",
   "execution_count": 34,
   "metadata": {},
   "outputs": [
    {
     "data": {
      "text/plain": [
       "(5000, 2)"
      ]
     },
     "execution_count": 34,
     "metadata": {},
     "output_type": "execute_result"
    }
   ],
   "source": [
    "target_test.shape"
   ]
  },
  {
   "cell_type": "markdown",
   "metadata": {},
   "source": [
    "#### 6.2.2 Árbol de desición <a name=\"tree\"></a>"
   ]
  },
  {
   "cell_type": "code",
   "execution_count": 35,
   "metadata": {},
   "outputs": [
    {
     "name": "stdout",
     "output_type": "stream",
     "text": [
      "sMAPE final: 9.040291291457082 min_leaf: 4 best_depth: 3 best_split: 2\n"
     ]
    }
   ],
   "source": [
    "best_model = None\n",
    "best_result = 100\n",
    "best_leaf = 0\n",
    "best_depth = 0\n",
    "best_split = 0\n",
    "for leaf in range(1, 5):\n",
    "    for depth in range (1, 5):\n",
    "        for split in range(2,5):\n",
    "            model1 = DecisionTreeRegressor(random_state=12345, min_samples_leaf=leaf, max_depth=depth, min_samples_split=split)\n",
    "            scores = cross_val_score(model1, features, target, scoring=custom_scorer)\n",
    "            result =  scores.mean()\n",
    "            if result < best_result:\n",
    "                    best_model = model1\n",
    "                    best_result = result\n",
    "                    best_leaf = leaf\n",
    "                    best_depth = depth\n",
    "                    best_split = split               \n",
    "print(\"sMAPE final:\", best_result, \"min_leaf:\", best_leaf, \"best_depth:\", best_depth, \"best_split:\", best_split)"
   ]
  },
  {
   "cell_type": "markdown",
   "metadata": {},
   "source": [
    "#### 6.2.3 Bosque aleatorio <a name=\"forest\"></a>"
   ]
  },
  {
   "cell_type": "code",
   "execution_count": 36,
   "metadata": {},
   "outputs": [
    {
     "name": "stdout",
     "output_type": "stream",
     "text": [
      "sMAPE final: 9.42915011178616\n"
     ]
    }
   ],
   "source": [
    "model2 = RandomForestRegressor(random_state=12345, min_samples_leaf=4, max_depth=3, min_samples_split=2)\n",
    "scores2 = cross_val_score(model2, features, target, scoring=custom_scorer)\n",
    "result2 =  scores2.mean()\n",
    "print('sMAPE final:', result2)"
   ]
  },
  {
   "cell_type": "markdown",
   "metadata": {},
   "source": [
    "#### 6.2.4 Regresión lineal <a name=\"regre\"></a>"
   ]
  },
  {
   "cell_type": "code",
   "execution_count": 37,
   "metadata": {},
   "outputs": [
    {
     "name": "stdout",
     "output_type": "stream",
     "text": [
      "sMAPE final: 10.229853006552862\n"
     ]
    }
   ],
   "source": [
    "model3 = LinearRegression()\n",
    "scores3 = cross_val_score(model3, features, target, scoring=custom_scorer)\n",
    "result3 =  scores3.mean()\n",
    "print('sMAPE final:', result3)"
   ]
  },
  {
   "cell_type": "markdown",
   "metadata": {},
   "source": [
    "### 6.3 Elección del modelo <a name=\"choose\"></a>"
   ]
  },
  {
   "cell_type": "markdown",
   "metadata": {},
   "source": [
    "De los modelos anteriormente probados el que mejor resultado entrego fue el arbol de desición, con un error medio absoluto porcentual simétrico de un 9,04%, procederemos realizando una última comprobación del modelo con la base de datos de prueba."
   ]
  },
  {
   "cell_type": "code",
   "execution_count": 38,
   "metadata": {},
   "outputs": [
    {
     "name": "stdout",
     "output_type": "stream",
     "text": [
      "sMAPE final : 7.738421365019015\n"
     ]
    }
   ],
   "source": [
    "best_model.fit(features, target)\n",
    "predictions = best_model.predict(features_test)\n",
    "result = smape(target_test,predictions)\n",
    "print(f'sMAPE final : {result}')"
   ]
  },
  {
   "cell_type": "markdown",
   "metadata": {},
   "source": [
    "Al probar el modelo con la base de datos de prueba obtenemos un error medio absoluto porcentual simétrico de un 7,7%, lo cual es un valor aceptable para la predicción de los resultados."
   ]
  },
  {
   "cell_type": "markdown",
   "metadata": {},
   "source": [
    "## 7. Conclusiones <a name=\"end\"></a>"
   ]
  },
  {
   "cell_type": "markdown",
   "metadata": {},
   "source": [
    "Comenzamos el proyecto realizando una rápida exploración a las base de datos entregadas por Zyfra, encontrando valores ausentes en todas las bases de datos, lo cual se abordaría más adelante. Continuamos realizando un cálculo de la recuperación del oro después de la flotación en la base de datos “full” para corroborar que los datos presentes en la columna correspondiente fueran los correctos, los resultados arrojaron un error mínimo por lo que se dieron por verídicos. Se procedió a analizar el conjunto de prueba que poseía menos columnas que el de entrenamiento, se identificó el tipo de columnas ausentes y se concluyó que este conjunto solo poseía las columnas que influyen directamente en el rendimiento de la recuperación del oro, es decir del tipo \"output\" y \"calculation\" sobre todo. Finalmente abordamos los datos ausente eliminando las filas en la base de prueba debido a la baja cantidad de las mismas y siguiendo el mismo procedimiento en la base de entrenamiento previamente llenando los valores de recuperación de oro con la formula anteriormente utilizada, además se realizó este último paso para la base de datos full debido a su uso indirecto en el modelo final.\n",
    "\n",
    "El siguiente paso fue realizar un análisis de los datos, se observó las concentraciones de oro, plata y plomo a través de los procesos teniendo un cambio de concentración concordante con el proceso de recuperación de oro. Posteriormente se comparó la distribución del tamaño de las partículas en la alimentación entre las bases de entrenamiento y prueba, ambas bases poseen distribuciones similares por lo que no se encontraron problemas en esta sección. Para concluir esta sección se analizó la concentración total de metales en las fases del producto, con lo que se encontraron valores anómalos en todas las fases y se procedió con la eliminación de estos para que no afectaran al modelo.\n",
    "\n",
    "Finalmente se procedió con el desarrollo del modelo, se creó una función para el cálculo del error medio absoluto porcentual simétrico que se utilizaría como método de calificación del modelo, se entrenaron distintos modelos eligiendo uno basado en el bosque aleatorio con un sMAPE final de 9.04%. Para concluir se realizó la prueba a este modelo con la base de datos de prueba obteniendo un sMAPE de un 7,7%lo cual es adecuado para el proyecto.  "
   ]
  },
  {
   "cell_type": "code",
   "execution_count": null,
   "metadata": {},
   "outputs": [],
   "source": []
  }
 ],
 "metadata": {
  "ExecuteTimeLog": [
   {
    "duration": 433,
    "start_time": "2022-09-05T20:33:12.197Z"
   },
   {
    "duration": 117,
    "start_time": "2022-09-05T20:45:16.649Z"
   },
   {
    "duration": 4010,
    "start_time": "2022-09-05T20:45:33.115Z"
   },
   {
    "duration": 390,
    "start_time": "2022-09-06T01:09:55.005Z"
   },
   {
    "duration": 3931,
    "start_time": "2022-09-06T01:09:58.678Z"
   },
   {
    "duration": 40,
    "start_time": "2022-09-06T01:21:34.063Z"
   },
   {
    "duration": 26,
    "start_time": "2022-09-06T01:39:22.930Z"
   },
   {
    "duration": 3,
    "start_time": "2022-09-06T01:39:40.977Z"
   },
   {
    "duration": 25,
    "start_time": "2022-09-06T01:39:49.957Z"
   },
   {
    "duration": 59,
    "start_time": "2022-09-06T03:16:06.910Z"
   },
   {
    "duration": 7,
    "start_time": "2022-09-06T03:17:09.524Z"
   },
   {
    "duration": 8,
    "start_time": "2022-09-06T03:20:42.971Z"
   },
   {
    "duration": 46,
    "start_time": "2022-09-06T14:49:47.931Z"
   },
   {
    "duration": 360,
    "start_time": "2022-09-06T14:49:56.171Z"
   },
   {
    "duration": 1116,
    "start_time": "2022-09-06T14:49:58.488Z"
   },
   {
    "duration": 14,
    "start_time": "2022-09-06T14:50:25.786Z"
   },
   {
    "duration": 2,
    "start_time": "2022-09-06T15:11:50.115Z"
   },
   {
    "duration": 678,
    "start_time": "2022-09-06T15:54:26.748Z"
   },
   {
    "duration": 60,
    "start_time": "2022-09-06T15:55:24.589Z"
   },
   {
    "duration": 3,
    "start_time": "2022-09-06T15:56:42.487Z"
   },
   {
    "duration": 8,
    "start_time": "2022-09-06T15:57:04.133Z"
   },
   {
    "duration": 3,
    "start_time": "2022-09-06T16:11:47.594Z"
   },
   {
    "duration": 7,
    "start_time": "2022-09-06T16:11:57.082Z"
   },
   {
    "duration": 2,
    "start_time": "2022-09-06T16:12:18.181Z"
   },
   {
    "duration": 9,
    "start_time": "2022-09-06T16:12:21.650Z"
   },
   {
    "duration": 16,
    "start_time": "2022-09-06T16:12:25.080Z"
   },
   {
    "duration": 13,
    "start_time": "2022-09-06T16:12:45.594Z"
   },
   {
    "duration": 15,
    "start_time": "2022-09-06T16:12:49.621Z"
   },
   {
    "duration": 73,
    "start_time": "2022-09-06T16:13:16.080Z"
   },
   {
    "duration": 70,
    "start_time": "2022-09-06T16:13:48.549Z"
   },
   {
    "duration": 7,
    "start_time": "2022-09-06T16:14:08.630Z"
   },
   {
    "duration": 11,
    "start_time": "2022-09-06T16:14:20.057Z"
   },
   {
    "duration": 15,
    "start_time": "2022-09-06T17:40:54.641Z"
   },
   {
    "duration": 8,
    "start_time": "2022-09-06T17:40:55.467Z"
   },
   {
    "duration": 9,
    "start_time": "2022-09-06T17:42:04.396Z"
   },
   {
    "duration": 14,
    "start_time": "2022-09-06T17:42:07.998Z"
   },
   {
    "duration": 6,
    "start_time": "2022-09-06T17:44:37.435Z"
   },
   {
    "duration": 5,
    "start_time": "2022-09-06T17:44:44.854Z"
   },
   {
    "duration": 5,
    "start_time": "2022-09-06T17:44:51.399Z"
   },
   {
    "duration": 5,
    "start_time": "2022-09-06T17:45:14.432Z"
   },
   {
    "duration": 26,
    "start_time": "2022-09-06T17:45:19.735Z"
   },
   {
    "duration": 4,
    "start_time": "2022-09-06T17:45:47.194Z"
   },
   {
    "duration": 12,
    "start_time": "2022-09-06T17:46:08.942Z"
   },
   {
    "duration": 9,
    "start_time": "2022-09-06T17:46:11.867Z"
   },
   {
    "duration": 14,
    "start_time": "2022-09-06T17:46:24.148Z"
   },
   {
    "duration": 16,
    "start_time": "2022-09-06T17:47:08.965Z"
   },
   {
    "duration": 22,
    "start_time": "2022-09-06T17:47:09.835Z"
   },
   {
    "duration": 10,
    "start_time": "2022-09-06T17:47:17.435Z"
   },
   {
    "duration": 3,
    "start_time": "2022-09-06T17:47:24.303Z"
   },
   {
    "duration": 10,
    "start_time": "2022-09-06T17:47:25.033Z"
   },
   {
    "duration": 3,
    "start_time": "2022-09-06T17:47:44.553Z"
   },
   {
    "duration": 10,
    "start_time": "2022-09-06T17:47:45.434Z"
   },
   {
    "duration": 11,
    "start_time": "2022-09-06T17:47:48.130Z"
   },
   {
    "duration": 12,
    "start_time": "2022-09-06T17:47:58.307Z"
   },
   {
    "duration": 5,
    "start_time": "2022-09-06T17:51:41.036Z"
   },
   {
    "duration": 6,
    "start_time": "2022-09-06T17:51:46.758Z"
   },
   {
    "duration": 5,
    "start_time": "2022-09-06T17:51:53.827Z"
   },
   {
    "duration": 5,
    "start_time": "2022-09-06T17:52:12.791Z"
   },
   {
    "duration": 11,
    "start_time": "2022-09-06T17:52:45.540Z"
   },
   {
    "duration": 14,
    "start_time": "2022-09-06T17:53:02.144Z"
   },
   {
    "duration": 4,
    "start_time": "2022-09-06T17:53:16.241Z"
   },
   {
    "duration": 8,
    "start_time": "2022-09-06T17:53:43.317Z"
   },
   {
    "duration": 4,
    "start_time": "2022-09-06T17:53:48.669Z"
   },
   {
    "duration": 11,
    "start_time": "2022-09-06T17:53:51.186Z"
   },
   {
    "duration": 8,
    "start_time": "2022-09-06T17:59:50.280Z"
   },
   {
    "duration": 4,
    "start_time": "2022-09-06T17:59:56.481Z"
   },
   {
    "duration": 3,
    "start_time": "2022-09-06T18:00:22.199Z"
   },
   {
    "duration": 4,
    "start_time": "2022-09-06T18:00:36.036Z"
   },
   {
    "duration": 12,
    "start_time": "2022-09-06T18:00:43.094Z"
   },
   {
    "duration": 4,
    "start_time": "2022-09-06T20:10:06.664Z"
   },
   {
    "duration": 19,
    "start_time": "2022-09-06T20:11:24.382Z"
   },
   {
    "duration": 322136,
    "start_time": "2022-09-06T20:11:40.874Z"
   },
   {
    "duration": 16,
    "start_time": "2022-09-06T20:24:42.238Z"
   },
   {
    "duration": 8,
    "start_time": "2022-09-06T20:24:57.356Z"
   },
   {
    "duration": 6219,
    "start_time": "2022-09-06T20:25:31.043Z"
   },
   {
    "duration": 8327,
    "start_time": "2022-09-06T20:25:46.938Z"
   },
   {
    "duration": 3,
    "start_time": "2022-09-06T20:28:11.522Z"
   },
   {
    "duration": 9772,
    "start_time": "2022-09-06T20:28:29.391Z"
   },
   {
    "duration": 7,
    "start_time": "2022-09-06T20:28:46.684Z"
   },
   {
    "duration": 9,
    "start_time": "2022-09-06T20:29:05.692Z"
   },
   {
    "duration": 10,
    "start_time": "2022-09-06T20:29:49.412Z"
   },
   {
    "duration": 3,
    "start_time": "2022-09-06T20:30:15.717Z"
   },
   {
    "duration": 381946,
    "start_time": "2022-09-06T20:31:25.544Z"
   },
   {
    "duration": 6,
    "start_time": "2022-09-06T20:44:11.906Z"
   },
   {
    "duration": 129,
    "start_time": "2022-09-06T20:44:27.539Z"
   },
   {
    "duration": 4,
    "start_time": "2022-09-06T20:46:45.914Z"
   },
   {
    "duration": 115,
    "start_time": "2022-09-06T20:46:58.775Z"
   },
   {
    "duration": 4,
    "start_time": "2022-09-06T20:47:34.619Z"
   },
   {
    "duration": 114,
    "start_time": "2022-09-06T20:47:43.355Z"
   },
   {
    "duration": 8,
    "start_time": "2022-09-07T14:05:12.828Z"
   },
   {
    "duration": 41,
    "start_time": "2022-09-07T14:07:19.719Z"
   },
   {
    "duration": 1018,
    "start_time": "2022-09-07T14:07:24.705Z"
   },
   {
    "duration": 4246,
    "start_time": "2022-09-07T14:07:28.793Z"
   },
   {
    "duration": 60,
    "start_time": "2022-09-07T14:07:40.813Z"
   },
   {
    "duration": 656,
    "start_time": "2022-09-07T14:07:51.212Z"
   },
   {
    "duration": 3,
    "start_time": "2022-09-07T14:08:16.332Z"
   },
   {
    "duration": 247,
    "start_time": "2022-09-07T14:08:21.306Z"
   },
   {
    "duration": 15,
    "start_time": "2022-09-07T14:13:30.316Z"
   },
   {
    "duration": 243,
    "start_time": "2022-09-07T14:13:44.990Z"
   },
   {
    "duration": 352,
    "start_time": "2022-09-07T14:14:22.171Z"
   },
   {
    "duration": 235,
    "start_time": "2022-09-07T14:14:30.833Z"
   },
   {
    "duration": 155,
    "start_time": "2022-09-07T14:22:55.427Z"
   },
   {
    "duration": 296,
    "start_time": "2022-09-07T14:30:42.727Z"
   },
   {
    "duration": 212,
    "start_time": "2022-09-07T14:30:57.575Z"
   },
   {
    "duration": 426,
    "start_time": "2022-09-07T14:31:12.529Z"
   },
   {
    "duration": 439,
    "start_time": "2022-09-07T14:34:13.681Z"
   },
   {
    "duration": 473,
    "start_time": "2022-09-07T14:34:27.250Z"
   },
   {
    "duration": 444,
    "start_time": "2022-09-07T14:34:31.800Z"
   },
   {
    "duration": 440,
    "start_time": "2022-09-07T14:35:57.232Z"
   },
   {
    "duration": 361,
    "start_time": "2022-09-07T14:36:01.865Z"
   },
   {
    "duration": 311,
    "start_time": "2022-09-07T14:37:13.533Z"
   },
   {
    "duration": 674,
    "start_time": "2022-09-07T14:37:35.136Z"
   },
   {
    "duration": 559,
    "start_time": "2022-09-07T14:39:58.072Z"
   },
   {
    "duration": 407,
    "start_time": "2022-09-07T14:40:04.082Z"
   },
   {
    "duration": 332,
    "start_time": "2022-09-07T14:40:20.655Z"
   },
   {
    "duration": 439,
    "start_time": "2022-09-07T14:41:02.499Z"
   },
   {
    "duration": 3,
    "start_time": "2022-09-07T14:42:59.199Z"
   },
   {
    "duration": 2451,
    "start_time": "2022-09-07T14:45:40.111Z"
   },
   {
    "duration": 2428,
    "start_time": "2022-09-07T14:46:50.013Z"
   },
   {
    "duration": 4,
    "start_time": "2022-09-07T14:49:13.758Z"
   },
   {
    "duration": 2452,
    "start_time": "2022-09-07T14:49:14.539Z"
   },
   {
    "duration": 2517,
    "start_time": "2022-09-07T14:49:19.132Z"
   },
   {
    "duration": 3,
    "start_time": "2022-09-07T14:49:30.973Z"
   },
   {
    "duration": 2491,
    "start_time": "2022-09-07T14:49:31.799Z"
   },
   {
    "duration": 2367,
    "start_time": "2022-09-07T14:49:35.876Z"
   },
   {
    "duration": 4,
    "start_time": "2022-09-07T14:51:30.288Z"
   },
   {
    "duration": 2878,
    "start_time": "2022-09-07T14:51:31.331Z"
   },
   {
    "duration": 4,
    "start_time": "2022-09-07T14:53:26.966Z"
   },
   {
    "duration": 2772,
    "start_time": "2022-09-07T14:53:28.457Z"
   },
   {
    "duration": 4,
    "start_time": "2022-09-07T14:53:43.151Z"
   },
   {
    "duration": 349,
    "start_time": "2022-09-07T14:53:46.141Z"
   },
   {
    "duration": 8,
    "start_time": "2022-09-07T14:53:51.991Z"
   },
   {
    "duration": 329,
    "start_time": "2022-09-07T14:54:03.328Z"
   },
   {
    "duration": 4,
    "start_time": "2022-09-07T14:56:04.735Z"
   },
   {
    "duration": 4,
    "start_time": "2022-09-07T14:56:15.420Z"
   },
   {
    "duration": 11,
    "start_time": "2022-09-07T14:56:53.742Z"
   },
   {
    "duration": 10,
    "start_time": "2022-09-07T14:57:01.488Z"
   },
   {
    "duration": 262,
    "start_time": "2022-09-07T14:57:30.249Z"
   },
   {
    "duration": 116,
    "start_time": "2022-09-07T14:57:43.235Z"
   },
   {
    "duration": 134,
    "start_time": "2022-09-07T15:04:46.104Z"
   },
   {
    "duration": 114,
    "start_time": "2022-09-07T15:05:05.440Z"
   },
   {
    "duration": 12,
    "start_time": "2022-09-07T15:05:15.346Z"
   },
   {
    "duration": 5,
    "start_time": "2022-09-07T15:06:45.254Z"
   },
   {
    "duration": 130,
    "start_time": "2022-09-07T15:06:55.018Z"
   },
   {
    "duration": 8,
    "start_time": "2022-09-07T15:07:10.110Z"
   },
   {
    "duration": 8,
    "start_time": "2022-09-07T15:07:37.241Z"
   },
   {
    "duration": 114,
    "start_time": "2022-09-07T15:08:12.914Z"
   },
   {
    "duration": 114,
    "start_time": "2022-09-07T15:08:24.899Z"
   },
   {
    "duration": 126,
    "start_time": "2022-09-07T15:09:04.988Z"
   },
   {
    "duration": 141,
    "start_time": "2022-09-07T15:10:13.901Z"
   },
   {
    "duration": 4,
    "start_time": "2022-09-07T15:17:58.684Z"
   },
   {
    "duration": 135,
    "start_time": "2022-09-07T15:17:59.903Z"
   },
   {
    "duration": 134,
    "start_time": "2022-09-07T15:21:18.471Z"
   },
   {
    "duration": 132,
    "start_time": "2022-09-07T15:23:28.445Z"
   },
   {
    "duration": 3,
    "start_time": "2022-09-07T15:24:34.109Z"
   },
   {
    "duration": 130,
    "start_time": "2022-09-07T15:24:34.715Z"
   },
   {
    "duration": 4,
    "start_time": "2022-09-07T15:24:50.596Z"
   },
   {
    "duration": 116,
    "start_time": "2022-09-07T15:24:51.035Z"
   },
   {
    "duration": 3,
    "start_time": "2022-09-07T15:24:56.159Z"
   },
   {
    "duration": 124,
    "start_time": "2022-09-07T15:24:56.618Z"
   },
   {
    "duration": 126,
    "start_time": "2022-09-07T15:25:21.989Z"
   },
   {
    "duration": 133,
    "start_time": "2022-09-07T15:25:36.933Z"
   },
   {
    "duration": 147,
    "start_time": "2022-09-07T15:25:59.181Z"
   },
   {
    "duration": 115,
    "start_time": "2022-09-07T15:26:36.544Z"
   },
   {
    "duration": 159,
    "start_time": "2022-09-07T15:26:44.925Z"
   },
   {
    "duration": 320,
    "start_time": "2022-09-07T15:31:28.799Z"
   },
   {
    "duration": 144,
    "start_time": "2022-09-07T15:31:35.545Z"
   },
   {
    "duration": 159,
    "start_time": "2022-09-07T15:36:12.714Z"
   },
   {
    "duration": 149,
    "start_time": "2022-09-07T15:36:31.072Z"
   },
   {
    "duration": 170,
    "start_time": "2022-09-07T15:36:39.310Z"
   },
   {
    "duration": 159,
    "start_time": "2022-09-07T15:45:42.555Z"
   },
   {
    "duration": 166,
    "start_time": "2022-09-07T15:46:29.804Z"
   },
   {
    "duration": 160,
    "start_time": "2022-09-07T15:46:47.981Z"
   },
   {
    "duration": 162,
    "start_time": "2022-09-07T15:47:49.124Z"
   },
   {
    "duration": 197,
    "start_time": "2022-09-07T15:49:54.154Z"
   },
   {
    "duration": 158,
    "start_time": "2022-09-07T15:50:23.622Z"
   },
   {
    "duration": 160,
    "start_time": "2022-09-07T15:50:44.216Z"
   },
   {
    "duration": 169,
    "start_time": "2022-09-07T15:51:19.004Z"
   },
   {
    "duration": 166,
    "start_time": "2022-09-07T15:51:24.916Z"
   },
   {
    "duration": 6,
    "start_time": "2022-09-07T15:52:38.783Z"
   },
   {
    "duration": 163,
    "start_time": "2022-09-07T15:52:46.708Z"
   },
   {
    "duration": 6,
    "start_time": "2022-09-07T16:27:12.291Z"
   },
   {
    "duration": 8,
    "start_time": "2022-09-07T16:29:15.485Z"
   },
   {
    "duration": 146,
    "start_time": "2022-09-07T16:30:29.642Z"
   },
   {
    "duration": 159,
    "start_time": "2022-09-07T16:30:52.918Z"
   },
   {
    "duration": 162,
    "start_time": "2022-09-07T16:31:20.960Z"
   },
   {
    "duration": 275,
    "start_time": "2022-09-07T16:32:02.231Z"
   },
   {
    "duration": 163,
    "start_time": "2022-09-07T16:32:14.264Z"
   },
   {
    "duration": 304,
    "start_time": "2022-09-07T17:29:52.087Z"
   },
   {
    "duration": 6,
    "start_time": "2022-09-07T17:30:16.447Z"
   },
   {
    "duration": 1050,
    "start_time": "2022-09-07T17:30:18.561Z"
   },
   {
    "duration": 12,
    "start_time": "2022-09-07T17:30:41.025Z"
   },
   {
    "duration": 7,
    "start_time": "2022-09-07T17:30:58.095Z"
   },
   {
    "duration": 4,
    "start_time": "2022-09-07T17:30:58.818Z"
   },
   {
    "duration": 5,
    "start_time": "2022-09-07T17:31:04.201Z"
   },
   {
    "duration": 10,
    "start_time": "2022-09-07T17:31:04.629Z"
   },
   {
    "duration": 10,
    "start_time": "2022-09-07T18:51:16.532Z"
   },
   {
    "duration": 10,
    "start_time": "2022-09-07T18:51:22.082Z"
   },
   {
    "duration": 14,
    "start_time": "2022-09-07T18:51:50.990Z"
   },
   {
    "duration": 327,
    "start_time": "2022-09-07T18:52:01.919Z"
   },
   {
    "duration": 446,
    "start_time": "2022-09-07T19:04:48.726Z"
   },
   {
    "duration": 3,
    "start_time": "2022-09-07T20:03:35.794Z"
   },
   {
    "duration": 210,
    "start_time": "2022-09-07T20:30:04.835Z"
   },
   {
    "duration": 3,
    "start_time": "2022-09-07T20:30:50.917Z"
   },
   {
    "duration": 11,
    "start_time": "2022-09-07T21:14:34.859Z"
   },
   {
    "duration": 2,
    "start_time": "2022-09-07T21:16:06.633Z"
   },
   {
    "duration": 2,
    "start_time": "2022-09-07T22:33:25.667Z"
   },
   {
    "duration": 13,
    "start_time": "2022-09-07T22:51:40.495Z"
   },
   {
    "duration": 2,
    "start_time": "2022-09-07T22:51:44.263Z"
   },
   {
    "duration": 9,
    "start_time": "2022-09-07T22:51:52.019Z"
   },
   {
    "duration": 4,
    "start_time": "2022-09-07T22:52:00.779Z"
   },
   {
    "duration": 4,
    "start_time": "2022-09-07T22:52:30.569Z"
   },
   {
    "duration": 5,
    "start_time": "2022-09-07T22:55:31.229Z"
   },
   {
    "duration": 17,
    "start_time": "2022-09-07T22:55:38.074Z"
   },
   {
    "duration": 16,
    "start_time": "2022-09-08T00:04:07.661Z"
   },
   {
    "duration": 49,
    "start_time": "2022-09-08T00:04:21.502Z"
   },
   {
    "duration": 14,
    "start_time": "2022-09-08T00:09:56.573Z"
   },
   {
    "duration": 16,
    "start_time": "2022-09-08T00:10:11.526Z"
   },
   {
    "duration": 15,
    "start_time": "2022-09-08T00:10:31.797Z"
   },
   {
    "duration": 15,
    "start_time": "2022-09-08T00:11:09.482Z"
   },
   {
    "duration": 3,
    "start_time": "2022-09-08T00:16:05.743Z"
   },
   {
    "duration": 714,
    "start_time": "2022-09-08T00:16:13.486Z"
   },
   {
    "duration": 6,
    "start_time": "2022-09-08T00:16:26.397Z"
   },
   {
    "duration": 160,
    "start_time": "2022-09-08T00:16:26.435Z"
   },
   {
    "duration": 5,
    "start_time": "2022-09-08T00:16:29.714Z"
   },
   {
    "duration": 365,
    "start_time": "2022-09-08T00:16:30.178Z"
   },
   {
    "duration": 722,
    "start_time": "2022-09-08T00:16:34.858Z"
   },
   {
    "duration": 337,
    "start_time": "2022-09-08T00:16:45.765Z"
   },
   {
    "duration": 10,
    "start_time": "2022-09-08T00:16:53.166Z"
   },
   {
    "duration": 438,
    "start_time": "2022-09-08T00:16:54.930Z"
   },
   {
    "duration": 2,
    "start_time": "2022-09-08T00:17:02.897Z"
   },
   {
    "duration": 15,
    "start_time": "2022-09-08T00:17:05.576Z"
   },
   {
    "duration": 5,
    "start_time": "2022-09-08T00:17:13.739Z"
   },
   {
    "duration": 14,
    "start_time": "2022-09-08T00:17:26.221Z"
   },
   {
    "duration": 15,
    "start_time": "2022-09-08T00:17:37.394Z"
   },
   {
    "duration": 14,
    "start_time": "2022-09-08T00:18:05.606Z"
   },
   {
    "duration": 6,
    "start_time": "2022-09-08T00:18:13.799Z"
   },
   {
    "duration": 71,
    "start_time": "2022-09-08T00:38:39.170Z"
   },
   {
    "duration": 7,
    "start_time": "2022-09-08T00:38:46.544Z"
   },
   {
    "duration": 8,
    "start_time": "2022-09-08T01:04:30.849Z"
   },
   {
    "duration": 18,
    "start_time": "2022-09-08T01:22:50.323Z"
   },
   {
    "duration": 3,
    "start_time": "2022-09-08T01:23:02.668Z"
   },
   {
    "duration": 17,
    "start_time": "2022-09-08T01:23:05.389Z"
   },
   {
    "duration": 3,
    "start_time": "2022-09-08T01:25:31.649Z"
   },
   {
    "duration": 16953,
    "start_time": "2022-09-08T01:29:25.217Z"
   },
   {
    "duration": 17011,
    "start_time": "2022-09-08T01:29:58.518Z"
   },
   {
    "duration": 12,
    "start_time": "2022-09-08T01:30:44.769Z"
   },
   {
    "duration": 11,
    "start_time": "2022-09-08T01:30:53.088Z"
   },
   {
    "duration": 2,
    "start_time": "2022-09-08T01:31:02.758Z"
   },
   {
    "duration": 7,
    "start_time": "2022-09-08T01:31:03.464Z"
   },
   {
    "duration": 803985,
    "start_time": "2022-09-08T01:31:07.342Z"
   },
   {
    "duration": 1420,
    "start_time": "2022-09-08T15:27:04.310Z"
   },
   {
    "duration": 1116,
    "start_time": "2022-09-08T15:27:08.756Z"
   },
   {
    "duration": 126,
    "start_time": "2022-09-08T15:35:11.069Z"
   },
   {
    "duration": 98,
    "start_time": "2022-09-08T15:35:15.031Z"
   },
   {
    "duration": 12,
    "start_time": "2022-09-08T15:35:16.579Z"
   },
   {
    "duration": 13,
    "start_time": "2022-09-08T15:35:25.933Z"
   },
   {
    "duration": 10,
    "start_time": "2022-09-08T15:35:26.649Z"
   },
   {
    "duration": 19,
    "start_time": "2022-09-08T15:35:31.898Z"
   },
   {
    "duration": 14,
    "start_time": "2022-09-08T15:35:33.099Z"
   },
   {
    "duration": 4,
    "start_time": "2022-09-08T15:35:38.877Z"
   },
   {
    "duration": 4,
    "start_time": "2022-09-08T15:35:48.839Z"
   },
   {
    "duration": 6,
    "start_time": "2022-09-08T15:35:49.672Z"
   },
   {
    "duration": 5,
    "start_time": "2022-09-08T15:36:01.631Z"
   },
   {
    "duration": 13,
    "start_time": "2022-09-08T15:39:47.750Z"
   },
   {
    "duration": 4,
    "start_time": "2022-09-08T15:39:49.402Z"
   },
   {
    "duration": 3,
    "start_time": "2022-09-08T15:39:50.239Z"
   },
   {
    "duration": 6,
    "start_time": "2022-09-08T15:39:52.684Z"
   },
   {
    "duration": 4,
    "start_time": "2022-09-08T15:43:58.418Z"
   },
   {
    "duration": 13,
    "start_time": "2022-09-08T15:49:03.539Z"
   },
   {
    "duration": 20,
    "start_time": "2022-09-08T15:55:50.338Z"
   },
   {
    "duration": 12,
    "start_time": "2022-09-08T15:56:17.024Z"
   },
   {
    "duration": 5,
    "start_time": "2022-09-08T15:56:49.375Z"
   },
   {
    "duration": 6,
    "start_time": "2022-09-08T15:57:28.823Z"
   },
   {
    "duration": 13,
    "start_time": "2022-09-08T15:57:45.493Z"
   },
   {
    "duration": 3,
    "start_time": "2022-09-08T16:01:47.172Z"
   },
   {
    "duration": 11,
    "start_time": "2022-09-08T16:01:47.993Z"
   },
   {
    "duration": 3,
    "start_time": "2022-09-08T16:01:49.515Z"
   },
   {
    "duration": 4,
    "start_time": "2022-09-08T16:01:50.775Z"
   },
   {
    "duration": 1403,
    "start_time": "2022-09-08T16:02:19.362Z"
   },
   {
    "duration": 11,
    "start_time": "2022-09-08T16:02:24.649Z"
   },
   {
    "duration": 23,
    "start_time": "2022-09-08T16:03:19.404Z"
   },
   {
    "duration": 13,
    "start_time": "2022-09-08T16:03:32.405Z"
   },
   {
    "duration": 17,
    "start_time": "2022-09-08T16:34:01.802Z"
   },
   {
    "duration": 17,
    "start_time": "2022-09-08T16:34:18.014Z"
   },
   {
    "duration": 5,
    "start_time": "2022-09-08T16:34:28.679Z"
   },
   {
    "duration": 12,
    "start_time": "2022-09-08T16:36:11.897Z"
   },
   {
    "duration": 4,
    "start_time": "2022-09-08T16:36:12.742Z"
   },
   {
    "duration": 17,
    "start_time": "2022-09-08T16:45:03.545Z"
   },
   {
    "duration": 41,
    "start_time": "2022-09-08T16:45:20.841Z"
   },
   {
    "duration": 5,
    "start_time": "2022-09-08T17:44:49.532Z"
   },
   {
    "duration": 168,
    "start_time": "2022-09-08T17:44:55.522Z"
   },
   {
    "duration": 4,
    "start_time": "2022-09-08T17:45:06.590Z"
   },
   {
    "duration": 378,
    "start_time": "2022-09-08T17:45:07.518Z"
   },
   {
    "duration": 413,
    "start_time": "2022-09-08T17:45:13.154Z"
   },
   {
    "duration": 10,
    "start_time": "2022-09-08T17:45:19.849Z"
   },
   {
    "duration": 442,
    "start_time": "2022-09-08T17:45:24.509Z"
   },
   {
    "duration": 173,
    "start_time": "2022-09-08T18:17:50.590Z"
   },
   {
    "duration": 6,
    "start_time": "2022-09-08T19:08:03.744Z"
   },
   {
    "duration": 37,
    "start_time": "2022-09-08T19:08:32.537Z"
   },
   {
    "duration": 34,
    "start_time": "2022-09-08T19:09:15.181Z"
   },
   {
    "duration": 18,
    "start_time": "2022-09-08T19:14:44.277Z"
   },
   {
    "duration": 15,
    "start_time": "2022-09-08T19:16:10.580Z"
   },
   {
    "duration": 16,
    "start_time": "2022-09-08T19:17:01.641Z"
   },
   {
    "duration": 10,
    "start_time": "2022-09-08T19:17:28.291Z"
   },
   {
    "duration": 22,
    "start_time": "2022-09-08T19:19:15.005Z"
   },
   {
    "duration": 9,
    "start_time": "2022-09-08T19:19:45.997Z"
   },
   {
    "duration": 587,
    "start_time": "2022-09-08T19:19:47.641Z"
   },
   {
    "duration": 22,
    "start_time": "2022-09-08T19:20:55.216Z"
   },
   {
    "duration": 14,
    "start_time": "2022-09-08T19:20:55.969Z"
   },
   {
    "duration": 578,
    "start_time": "2022-09-08T19:20:56.800Z"
   },
   {
    "duration": 18,
    "start_time": "2022-09-08T19:21:13.339Z"
   },
   {
    "duration": 9,
    "start_time": "2022-09-08T19:21:14.111Z"
   },
   {
    "duration": 514,
    "start_time": "2022-09-08T19:21:15.206Z"
   },
   {
    "duration": 19,
    "start_time": "2022-09-08T19:21:35.579Z"
   },
   {
    "duration": 8,
    "start_time": "2022-09-08T19:21:36.300Z"
   },
   {
    "duration": 690,
    "start_time": "2022-09-08T19:21:37.309Z"
   },
   {
    "duration": 20,
    "start_time": "2022-09-08T19:21:51.689Z"
   },
   {
    "duration": 9,
    "start_time": "2022-09-08T19:21:52.441Z"
   },
   {
    "duration": 506,
    "start_time": "2022-09-08T19:21:53.544Z"
   },
   {
    "duration": 22,
    "start_time": "2022-09-08T19:25:11.909Z"
   },
   {
    "duration": 4,
    "start_time": "2022-09-08T19:58:54.212Z"
   },
   {
    "duration": 3,
    "start_time": "2022-09-08T20:02:12.997Z"
   },
   {
    "duration": 9,
    "start_time": "2022-09-08T20:02:13.792Z"
   },
   {
    "duration": 34,
    "start_time": "2022-09-08T20:02:54.246Z"
   },
   {
    "duration": 10,
    "start_time": "2022-09-08T20:06:00.703Z"
   },
   {
    "duration": 39,
    "start_time": "2022-09-08T20:06:02.970Z"
   },
   {
    "duration": 8,
    "start_time": "2022-09-08T20:06:16.584Z"
   },
   {
    "duration": 32,
    "start_time": "2022-09-08T20:06:18.470Z"
   },
   {
    "duration": 8,
    "start_time": "2022-09-08T20:06:32.100Z"
   },
   {
    "duration": 1309,
    "start_time": "2022-09-08T20:10:35.870Z"
   },
   {
    "duration": 8,
    "start_time": "2022-09-08T20:10:45.195Z"
   },
   {
    "duration": 10,
    "start_time": "2022-09-08T20:10:53.492Z"
   },
   {
    "duration": 21,
    "start_time": "2022-09-08T20:11:07.446Z"
   },
   {
    "duration": 39,
    "start_time": "2022-09-08T20:14:10.851Z"
   },
   {
    "duration": 9,
    "start_time": "2022-09-08T20:16:24.875Z"
   },
   {
    "duration": 3,
    "start_time": "2022-09-08T20:16:25.841Z"
   },
   {
    "duration": 9,
    "start_time": "2022-09-08T20:16:26.572Z"
   },
   {
    "duration": 2923,
    "start_time": "2022-09-08T20:16:29.795Z"
   },
   {
    "duration": 173221,
    "start_time": "2022-09-08T20:17:24.993Z"
   },
   {
    "duration": 15,
    "start_time": "2022-09-08T20:21:30.603Z"
   },
   {
    "duration": 1200,
    "start_time": "2022-09-08T20:21:51.674Z"
   },
   {
    "duration": 10,
    "start_time": "2022-09-08T22:41:15.739Z"
   },
   {
    "duration": 3,
    "start_time": "2022-09-08T22:42:28.474Z"
   },
   {
    "duration": 3,
    "start_time": "2022-09-08T22:45:53.950Z"
   },
   {
    "duration": 2744,
    "start_time": "2022-09-08T22:46:01.035Z"
   },
   {
    "duration": 570,
    "start_time": "2022-09-08T22:46:44.992Z"
   },
   {
    "duration": 3,
    "start_time": "2022-09-08T23:01:09.605Z"
   },
   {
    "duration": 567,
    "start_time": "2022-09-08T23:01:12.728Z"
   },
   {
    "duration": 7,
    "start_time": "2022-09-08T23:15:40.338Z"
   },
   {
    "duration": 2423,
    "start_time": "2022-09-08T23:15:57.013Z"
   },
   {
    "duration": 5138,
    "start_time": "2022-09-08T23:21:59.793Z"
   },
   {
    "duration": 294074,
    "start_time": "2022-09-08T23:24:07.532Z"
   },
   {
    "duration": 5164,
    "start_time": "2022-09-08T23:29:27.659Z"
   },
   {
    "duration": 69,
    "start_time": "2022-09-08T23:39:14.294Z"
   },
   {
    "duration": 62246,
    "start_time": "2022-09-08T23:39:21.297Z"
   },
   {
    "duration": 62135,
    "start_time": "2022-09-08T23:43:20.784Z"
   },
   {
    "duration": 62229,
    "start_time": "2022-09-08T23:45:04.421Z"
   },
   {
    "duration": 140352,
    "start_time": "2022-09-08T23:47:52.214Z"
   },
   {
    "duration": 21513,
    "start_time": "2022-09-08T23:52:45.625Z"
   },
   {
    "duration": 438,
    "start_time": "2022-09-08T23:54:40.460Z"
   },
   {
    "duration": 45938,
    "start_time": "2022-09-08T23:54:53.358Z"
   },
   {
    "duration": 23978,
    "start_time": "2022-09-08T23:56:48.818Z"
   },
   {
    "duration": 4,
    "start_time": "2022-09-08T23:59:57.634Z"
   },
   {
    "duration": 12,
    "start_time": "2022-09-09T00:00:16.430Z"
   },
   {
    "duration": 2474,
    "start_time": "2022-09-09T00:01:26.984Z"
   },
   {
    "duration": 3,
    "start_time": "2022-09-09T00:54:25.390Z"
   },
   {
    "duration": 2184,
    "start_time": "2022-09-09T00:54:33.377Z"
   },
   {
    "duration": 12,
    "start_time": "2022-09-09T00:57:00.092Z"
   },
   {
    "duration": 11,
    "start_time": "2022-09-09T00:57:10.906Z"
   },
   {
    "duration": 3,
    "start_time": "2022-09-09T00:57:31.157Z"
   },
   {
    "duration": 4,
    "start_time": "2022-09-09T00:57:31.899Z"
   },
   {
    "duration": 4,
    "start_time": "2022-09-09T00:57:39.649Z"
   },
   {
    "duration": 3,
    "start_time": "2022-09-09T00:57:51.169Z"
   },
   {
    "duration": 3,
    "start_time": "2022-09-09T00:58:38.068Z"
   },
   {
    "duration": 66,
    "start_time": "2022-09-09T00:58:44.238Z"
   },
   {
    "duration": 3,
    "start_time": "2022-09-09T00:59:16.931Z"
   },
   {
    "duration": 460,
    "start_time": "2022-09-09T00:59:27.877Z"
   },
   {
    "duration": 45958,
    "start_time": "2022-09-09T01:00:03.867Z"
   },
   {
    "duration": 1448,
    "start_time": "2022-09-09T01:02:04.607Z"
   },
   {
    "duration": 1513,
    "start_time": "2022-09-09T01:02:19.899Z"
   },
   {
    "duration": 1458,
    "start_time": "2022-09-09T01:02:41.014Z"
   },
   {
    "duration": 3,
    "start_time": "2022-09-09T01:03:10.126Z"
   },
   {
    "duration": 1433,
    "start_time": "2022-09-09T01:03:12.599Z"
   },
   {
    "duration": 3,
    "start_time": "2022-09-09T01:04:58.804Z"
   },
   {
    "duration": 45991,
    "start_time": "2022-09-09T01:05:02.198Z"
   },
   {
    "duration": 45717,
    "start_time": "2022-09-09T01:06:19.725Z"
   },
   {
    "duration": 45911,
    "start_time": "2022-09-09T01:07:32.778Z"
   },
   {
    "duration": 24161,
    "start_time": "2022-09-09T01:08:56.863Z"
   },
   {
    "duration": 1848,
    "start_time": "2022-09-09T01:09:25.615Z"
   },
   {
    "duration": 23975,
    "start_time": "2022-09-09T01:12:31.905Z"
   },
   {
    "duration": 24268,
    "start_time": "2022-09-09T01:51:28.756Z"
   },
   {
    "duration": 25,
    "start_time": "2022-09-09T02:12:51.729Z"
   },
   {
    "duration": 24,
    "start_time": "2022-09-09T02:13:09.582Z"
   },
   {
    "duration": 26,
    "start_time": "2022-09-09T02:13:23.932Z"
   },
   {
    "duration": 17,
    "start_time": "2022-09-09T02:25:21.167Z"
   },
   {
    "duration": 15,
    "start_time": "2022-09-09T02:25:25.871Z"
   },
   {
    "duration": 26,
    "start_time": "2022-09-09T02:25:32.914Z"
   },
   {
    "duration": 25,
    "start_time": "2022-09-09T02:25:40.575Z"
   },
   {
    "duration": 25,
    "start_time": "2022-09-09T02:26:04.112Z"
   },
   {
    "duration": 5,
    "start_time": "2022-09-09T02:26:33.609Z"
   },
   {
    "duration": 8,
    "start_time": "2022-09-09T02:26:40.096Z"
   },
   {
    "duration": 8,
    "start_time": "2022-09-09T02:26:48.075Z"
   },
   {
    "duration": 5,
    "start_time": "2022-09-09T02:26:54.874Z"
   },
   {
    "duration": 13,
    "start_time": "2022-09-09T02:33:20.395Z"
   },
   {
    "duration": 15,
    "start_time": "2022-09-09T02:36:17.709Z"
   },
   {
    "duration": 34,
    "start_time": "2022-09-09T02:36:25.606Z"
   },
   {
    "duration": 25,
    "start_time": "2022-09-09T02:36:40.473Z"
   },
   {
    "duration": 15,
    "start_time": "2022-09-09T02:37:45.705Z"
   },
   {
    "duration": 8,
    "start_time": "2022-09-09T02:39:23.647Z"
   },
   {
    "duration": 14,
    "start_time": "2022-09-09T02:39:38.655Z"
   },
   {
    "duration": 10,
    "start_time": "2022-09-09T02:39:41.504Z"
   },
   {
    "duration": 61,
    "start_time": "2022-09-09T13:04:56.189Z"
   },
   {
    "duration": 1738,
    "start_time": "2022-09-09T13:05:10.193Z"
   },
   {
    "duration": 1450,
    "start_time": "2022-09-09T13:05:11.934Z"
   },
   {
    "duration": 55,
    "start_time": "2022-09-09T13:05:13.385Z"
   },
   {
    "duration": 18,
    "start_time": "2022-09-09T13:05:13.442Z"
   },
   {
    "duration": 4,
    "start_time": "2022-09-09T13:05:13.463Z"
   },
   {
    "duration": 34,
    "start_time": "2022-09-09T13:05:13.469Z"
   },
   {
    "duration": 24,
    "start_time": "2022-09-09T13:05:13.506Z"
   },
   {
    "duration": 234,
    "start_time": "2022-09-09T13:05:13.532Z"
   },
   {
    "duration": 4,
    "start_time": "2022-09-09T13:05:13.768Z"
   },
   {
    "duration": 467,
    "start_time": "2022-09-09T13:05:13.774Z"
   },
   {
    "duration": 540,
    "start_time": "2022-09-09T13:05:14.243Z"
   },
   {
    "duration": 16,
    "start_time": "2022-09-09T13:05:14.785Z"
   },
   {
    "duration": 632,
    "start_time": "2022-09-09T13:05:14.803Z"
   },
   {
    "duration": 35,
    "start_time": "2022-09-09T13:05:15.438Z"
   },
   {
    "duration": 4,
    "start_time": "2022-09-09T13:05:15.475Z"
   },
   {
    "duration": 13,
    "start_time": "2022-09-09T13:05:15.499Z"
   },
   {
    "duration": 3,
    "start_time": "2022-09-09T13:05:15.514Z"
   },
   {
    "duration": 11,
    "start_time": "2022-09-09T13:05:15.519Z"
   },
   {
    "duration": 27,
    "start_time": "2022-09-09T13:05:15.531Z"
   },
   {
    "duration": 60362,
    "start_time": "2022-09-09T13:05:15.559Z"
   },
   {
    "duration": 31038,
    "start_time": "2022-09-09T13:06:15.923Z"
   },
   {
    "duration": 3844,
    "start_time": "2022-09-09T13:06:46.963Z"
   },
   {
    "duration": 8265,
    "start_time": "2022-09-09T13:06:50.893Z"
   },
   {
    "duration": 7,
    "start_time": "2022-09-09T13:08:13.180Z"
   },
   {
    "duration": 18,
    "start_time": "2022-09-09T13:08:15.715Z"
   },
   {
    "duration": 8081,
    "start_time": "2022-09-09T13:08:20.101Z"
   },
   {
    "duration": 7,
    "start_time": "2022-09-09T14:20:44.744Z"
   },
   {
    "duration": 19,
    "start_time": "2022-09-09T14:34:30.233Z"
   },
   {
    "duration": 24,
    "start_time": "2022-09-09T14:34:41.121Z"
   },
   {
    "duration": 8,
    "start_time": "2022-09-09T14:34:46.877Z"
   },
   {
    "duration": 7,
    "start_time": "2022-09-09T14:35:02.685Z"
   },
   {
    "duration": 1455,
    "start_time": "2022-09-09T14:35:15.511Z"
   },
   {
    "duration": 840,
    "start_time": "2022-09-09T14:35:19.702Z"
   },
   {
    "duration": 43,
    "start_time": "2022-09-09T14:35:25.449Z"
   },
   {
    "duration": 17,
    "start_time": "2022-09-09T14:35:35.676Z"
   },
   {
    "duration": 5,
    "start_time": "2022-09-09T14:35:36.540Z"
   },
   {
    "duration": 15,
    "start_time": "2022-09-09T14:35:39.930Z"
   },
   {
    "duration": 9,
    "start_time": "2022-09-09T14:35:47.801Z"
   },
   {
    "duration": 8,
    "start_time": "2022-09-09T14:35:50.796Z"
   },
   {
    "duration": 8,
    "start_time": "2022-09-09T14:36:54.497Z"
   },
   {
    "duration": 7,
    "start_time": "2022-09-09T14:37:12.353Z"
   },
   {
    "duration": 9,
    "start_time": "2022-09-09T14:38:25.366Z"
   },
   {
    "duration": 11,
    "start_time": "2022-09-09T14:38:53.217Z"
   },
   {
    "duration": 64,
    "start_time": "2022-09-09T14:51:24.583Z"
   },
   {
    "duration": 9,
    "start_time": "2022-09-09T14:51:59.305Z"
   },
   {
    "duration": 119,
    "start_time": "2022-09-09T14:52:33.824Z"
   },
   {
    "duration": 8,
    "start_time": "2022-09-09T14:52:59.476Z"
   },
   {
    "duration": 9,
    "start_time": "2022-09-09T14:53:03.015Z"
   },
   {
    "duration": 9,
    "start_time": "2022-09-09T14:53:09.317Z"
   },
   {
    "duration": 9,
    "start_time": "2022-09-09T14:53:19.961Z"
   },
   {
    "duration": 8,
    "start_time": "2022-09-09T14:53:27.310Z"
   },
   {
    "duration": 7,
    "start_time": "2022-09-09T14:53:37.872Z"
   },
   {
    "duration": 7,
    "start_time": "2022-09-09T14:53:52.927Z"
   },
   {
    "duration": 8,
    "start_time": "2022-09-09T14:54:00.125Z"
   },
   {
    "duration": 11,
    "start_time": "2022-09-09T14:54:18.567Z"
   },
   {
    "duration": 7,
    "start_time": "2022-09-09T15:06:25.463Z"
   },
   {
    "duration": 81,
    "start_time": "2022-09-09T15:32:13.455Z"
   },
   {
    "duration": 11,
    "start_time": "2022-09-09T15:32:20.583Z"
   },
   {
    "duration": 12,
    "start_time": "2022-09-09T15:32:35.425Z"
   },
   {
    "duration": 10,
    "start_time": "2022-09-09T15:33:43.780Z"
   },
   {
    "duration": 11,
    "start_time": "2022-09-09T15:34:43.363Z"
   },
   {
    "duration": 6,
    "start_time": "2022-09-09T15:36:12.410Z"
   },
   {
    "duration": 32,
    "start_time": "2022-09-09T15:36:32.533Z"
   },
   {
    "duration": 12,
    "start_time": "2022-09-09T15:37:22.179Z"
   },
   {
    "duration": 4,
    "start_time": "2022-09-09T15:37:26.531Z"
   },
   {
    "duration": 7,
    "start_time": "2022-09-09T15:37:28.319Z"
   },
   {
    "duration": 10,
    "start_time": "2022-09-09T15:37:51.681Z"
   },
   {
    "duration": 13,
    "start_time": "2022-09-09T15:38:08.737Z"
   },
   {
    "duration": 7,
    "start_time": "2022-09-09T15:39:06.040Z"
   },
   {
    "duration": 6,
    "start_time": "2022-09-09T15:39:08.722Z"
   },
   {
    "duration": 7,
    "start_time": "2022-09-09T15:39:14.347Z"
   },
   {
    "duration": 17,
    "start_time": "2022-09-09T15:40:06.244Z"
   },
   {
    "duration": 15,
    "start_time": "2022-09-09T15:46:14.189Z"
   },
   {
    "duration": 18,
    "start_time": "2022-09-09T15:46:26.425Z"
   },
   {
    "duration": 15,
    "start_time": "2022-09-09T15:52:07.287Z"
   },
   {
    "duration": 3,
    "start_time": "2022-09-09T15:52:29.144Z"
   },
   {
    "duration": 10,
    "start_time": "2022-09-09T15:52:37.316Z"
   },
   {
    "duration": 28,
    "start_time": "2022-09-09T15:53:01.410Z"
   },
   {
    "duration": 12,
    "start_time": "2022-09-09T15:54:14.612Z"
   },
   {
    "duration": 34,
    "start_time": "2022-09-09T15:54:19.614Z"
   },
   {
    "duration": 12,
    "start_time": "2022-09-09T15:54:41.543Z"
   },
   {
    "duration": 14,
    "start_time": "2022-09-09T15:55:25.004Z"
   },
   {
    "duration": 10,
    "start_time": "2022-09-09T15:55:33.128Z"
   },
   {
    "duration": 13,
    "start_time": "2022-09-09T15:55:37.217Z"
   },
   {
    "duration": 11,
    "start_time": "2022-09-09T15:55:51.704Z"
   },
   {
    "duration": 22,
    "start_time": "2022-09-09T15:56:01.141Z"
   },
   {
    "duration": 11,
    "start_time": "2022-09-09T15:56:14.747Z"
   },
   {
    "duration": 976,
    "start_time": "2022-09-09T15:56:32.679Z"
   },
   {
    "duration": 12,
    "start_time": "2022-09-09T15:57:57.488Z"
   },
   {
    "duration": 9,
    "start_time": "2022-09-09T15:58:13.145Z"
   },
   {
    "duration": 9,
    "start_time": "2022-09-09T15:58:31.120Z"
   },
   {
    "duration": 6,
    "start_time": "2022-09-09T16:01:38.456Z"
   },
   {
    "duration": 8,
    "start_time": "2022-09-09T16:02:11.081Z"
   },
   {
    "duration": 5,
    "start_time": "2022-09-09T16:02:38.927Z"
   },
   {
    "duration": 9,
    "start_time": "2022-09-09T16:03:15.804Z"
   },
   {
    "duration": 4,
    "start_time": "2022-09-09T16:03:28.379Z"
   },
   {
    "duration": 8,
    "start_time": "2022-09-09T16:04:44.840Z"
   },
   {
    "duration": 16,
    "start_time": "2022-09-09T16:04:48.487Z"
   },
   {
    "duration": 2071,
    "start_time": "2022-09-09T16:16:50.404Z"
   },
   {
    "duration": 849,
    "start_time": "2022-09-09T16:16:56.616Z"
   },
   {
    "duration": 20,
    "start_time": "2022-09-09T16:17:01.196Z"
   },
   {
    "duration": 5,
    "start_time": "2022-09-09T16:17:01.586Z"
   },
   {
    "duration": 8,
    "start_time": "2022-09-09T16:17:07.245Z"
   },
   {
    "duration": 10,
    "start_time": "2022-09-09T16:17:09.336Z"
   },
   {
    "duration": 7,
    "start_time": "2022-09-09T16:17:12.351Z"
   },
   {
    "duration": 11,
    "start_time": "2022-09-09T16:17:14.488Z"
   },
   {
    "duration": 4,
    "start_time": "2022-09-09T16:17:17.964Z"
   },
   {
    "duration": 8,
    "start_time": "2022-09-09T16:17:18.207Z"
   },
   {
    "duration": 8,
    "start_time": "2022-09-09T16:17:19.117Z"
   },
   {
    "duration": 111,
    "start_time": "2022-09-09T16:17:20.109Z"
   },
   {
    "duration": 11,
    "start_time": "2022-09-09T16:17:32.032Z"
   },
   {
    "duration": 12,
    "start_time": "2022-09-09T16:17:34.437Z"
   },
   {
    "duration": 5,
    "start_time": "2022-09-09T16:17:37.836Z"
   },
   {
    "duration": 1137,
    "start_time": "2022-09-09T16:17:44.525Z"
   },
   {
    "duration": 11,
    "start_time": "2022-09-09T16:17:57.185Z"
   },
   {
    "duration": 21,
    "start_time": "2022-09-09T16:18:17.521Z"
   },
   {
    "duration": 1472,
    "start_time": "2022-09-09T16:19:15.163Z"
   },
   {
    "duration": 832,
    "start_time": "2022-09-09T16:19:16.637Z"
   },
   {
    "duration": 50,
    "start_time": "2022-09-09T16:19:17.471Z"
   },
   {
    "duration": 16,
    "start_time": "2022-09-09T16:19:17.523Z"
   },
   {
    "duration": 5,
    "start_time": "2022-09-09T16:19:17.541Z"
   },
   {
    "duration": 22,
    "start_time": "2022-09-09T16:19:17.547Z"
   },
   {
    "duration": 28,
    "start_time": "2022-09-09T16:19:17.571Z"
   },
   {
    "duration": 10,
    "start_time": "2022-09-09T16:19:17.601Z"
   },
   {
    "duration": 10,
    "start_time": "2022-09-09T16:19:17.613Z"
   },
   {
    "duration": 11,
    "start_time": "2022-09-09T16:19:17.624Z"
   },
   {
    "duration": 3,
    "start_time": "2022-09-09T16:19:17.636Z"
   },
   {
    "duration": 51,
    "start_time": "2022-09-09T16:19:17.641Z"
   },
   {
    "duration": 8,
    "start_time": "2022-09-09T16:19:17.693Z"
   },
   {
    "duration": 1225,
    "start_time": "2022-09-09T16:19:17.704Z"
   },
   {
    "duration": 0,
    "start_time": "2022-09-09T16:19:18.931Z"
   },
   {
    "duration": 0,
    "start_time": "2022-09-09T16:19:18.933Z"
   },
   {
    "duration": 0,
    "start_time": "2022-09-09T16:19:18.934Z"
   },
   {
    "duration": 0,
    "start_time": "2022-09-09T16:19:18.936Z"
   },
   {
    "duration": 0,
    "start_time": "2022-09-09T16:19:18.937Z"
   },
   {
    "duration": 0,
    "start_time": "2022-09-09T16:19:18.938Z"
   },
   {
    "duration": 0,
    "start_time": "2022-09-09T16:19:18.941Z"
   },
   {
    "duration": 0,
    "start_time": "2022-09-09T16:19:18.943Z"
   },
   {
    "duration": 0,
    "start_time": "2022-09-09T16:19:18.944Z"
   },
   {
    "duration": 0,
    "start_time": "2022-09-09T16:19:18.946Z"
   },
   {
    "duration": 0,
    "start_time": "2022-09-09T16:19:18.947Z"
   },
   {
    "duration": 0,
    "start_time": "2022-09-09T16:19:18.949Z"
   },
   {
    "duration": 0,
    "start_time": "2022-09-09T16:19:18.950Z"
   },
   {
    "duration": 0,
    "start_time": "2022-09-09T16:19:18.952Z"
   },
   {
    "duration": 0,
    "start_time": "2022-09-09T16:19:18.953Z"
   },
   {
    "duration": 0,
    "start_time": "2022-09-09T16:19:18.955Z"
   },
   {
    "duration": 0,
    "start_time": "2022-09-09T16:19:18.992Z"
   },
   {
    "duration": 12,
    "start_time": "2022-09-09T16:21:56.987Z"
   },
   {
    "duration": 1661,
    "start_time": "2022-09-09T16:22:20.752Z"
   },
   {
    "duration": 4,
    "start_time": "2022-09-09T16:23:51.205Z"
   },
   {
    "duration": 69,
    "start_time": "2022-09-09T16:24:52.767Z"
   },
   {
    "duration": 77,
    "start_time": "2022-09-09T16:25:09.845Z"
   },
   {
    "duration": 13,
    "start_time": "2022-09-09T16:25:40.962Z"
   },
   {
    "duration": 10,
    "start_time": "2022-09-09T16:26:32.862Z"
   },
   {
    "duration": 2,
    "start_time": "2022-09-09T16:26:57.475Z"
   },
   {
    "duration": 12,
    "start_time": "2022-09-09T16:27:06.614Z"
   },
   {
    "duration": 44,
    "start_time": "2022-09-09T16:28:58.865Z"
   },
   {
    "duration": 18,
    "start_time": "2022-09-09T16:29:12.488Z"
   },
   {
    "duration": 12,
    "start_time": "2022-09-09T16:29:23.139Z"
   },
   {
    "duration": 1452,
    "start_time": "2022-09-09T16:33:33.200Z"
   },
   {
    "duration": 855,
    "start_time": "2022-09-09T16:33:34.655Z"
   },
   {
    "duration": 52,
    "start_time": "2022-09-09T16:33:35.512Z"
   },
   {
    "duration": 32,
    "start_time": "2022-09-09T16:33:35.565Z"
   },
   {
    "duration": 5,
    "start_time": "2022-09-09T16:33:35.599Z"
   },
   {
    "duration": 19,
    "start_time": "2022-09-09T16:33:35.605Z"
   },
   {
    "duration": 9,
    "start_time": "2022-09-09T16:33:35.626Z"
   },
   {
    "duration": 11,
    "start_time": "2022-09-09T16:33:35.636Z"
   },
   {
    "duration": 45,
    "start_time": "2022-09-09T16:33:35.649Z"
   },
   {
    "duration": 11,
    "start_time": "2022-09-09T16:33:35.696Z"
   },
   {
    "duration": 13,
    "start_time": "2022-09-09T16:33:35.709Z"
   },
   {
    "duration": 11,
    "start_time": "2022-09-09T16:33:35.724Z"
   },
   {
    "duration": 10,
    "start_time": "2022-09-09T16:33:35.737Z"
   },
   {
    "duration": 20,
    "start_time": "2022-09-09T16:33:35.751Z"
   },
   {
    "duration": 24,
    "start_time": "2022-09-09T16:33:35.773Z"
   },
   {
    "duration": 234,
    "start_time": "2022-09-09T16:33:35.799Z"
   },
   {
    "duration": 4,
    "start_time": "2022-09-09T16:33:36.035Z"
   },
   {
    "duration": 450,
    "start_time": "2022-09-09T16:33:36.040Z"
   },
   {
    "duration": 503,
    "start_time": "2022-09-09T16:33:36.491Z"
   },
   {
    "duration": 12,
    "start_time": "2022-09-09T16:33:36.996Z"
   },
   {
    "duration": 572,
    "start_time": "2022-09-09T16:33:37.010Z"
   },
   {
    "duration": 35,
    "start_time": "2022-09-09T16:33:37.584Z"
   },
   {
    "duration": 3,
    "start_time": "2022-09-09T16:33:37.621Z"
   },
   {
    "duration": 25,
    "start_time": "2022-09-09T16:33:37.626Z"
   },
   {
    "duration": 6,
    "start_time": "2022-09-09T16:33:37.652Z"
   },
   {
    "duration": 19,
    "start_time": "2022-09-09T16:33:37.660Z"
   },
   {
    "duration": 29,
    "start_time": "2022-09-09T16:33:37.681Z"
   },
   {
    "duration": 58461,
    "start_time": "2022-09-09T16:33:37.711Z"
   },
   {
    "duration": 30393,
    "start_time": "2022-09-09T16:34:36.173Z"
   },
   {
    "duration": 2726,
    "start_time": "2022-09-09T16:35:06.568Z"
   },
   {
    "duration": 7711,
    "start_time": "2022-09-09T16:35:09.296Z"
   },
   {
    "duration": 1583,
    "start_time": "2022-09-09T19:18:30.290Z"
   },
   {
    "duration": 1352,
    "start_time": "2022-09-09T19:18:31.876Z"
   },
   {
    "duration": 44,
    "start_time": "2022-09-09T19:18:33.229Z"
   },
   {
    "duration": 17,
    "start_time": "2022-09-09T19:18:33.275Z"
   },
   {
    "duration": 5,
    "start_time": "2022-09-09T19:18:33.294Z"
   },
   {
    "duration": 16,
    "start_time": "2022-09-09T19:18:33.300Z"
   },
   {
    "duration": 9,
    "start_time": "2022-09-09T19:18:33.318Z"
   },
   {
    "duration": 9,
    "start_time": "2022-09-09T19:18:33.328Z"
   },
   {
    "duration": 6,
    "start_time": "2022-09-09T19:18:33.339Z"
   },
   {
    "duration": 45,
    "start_time": "2022-09-09T19:18:33.346Z"
   },
   {
    "duration": 3,
    "start_time": "2022-09-09T19:18:33.393Z"
   },
   {
    "duration": 12,
    "start_time": "2022-09-09T19:18:33.398Z"
   },
   {
    "duration": 7,
    "start_time": "2022-09-09T19:18:33.412Z"
   },
   {
    "duration": 20,
    "start_time": "2022-09-09T19:18:33.421Z"
   },
   {
    "duration": 6,
    "start_time": "2022-09-09T19:18:33.442Z"
   },
   {
    "duration": 232,
    "start_time": "2022-09-09T19:18:33.450Z"
   },
   {
    "duration": 10,
    "start_time": "2022-09-09T19:18:33.684Z"
   },
   {
    "duration": 426,
    "start_time": "2022-09-09T19:18:33.695Z"
   },
   {
    "duration": 483,
    "start_time": "2022-09-09T19:18:34.123Z"
   },
   {
    "duration": 11,
    "start_time": "2022-09-09T19:18:34.608Z"
   },
   {
    "duration": 560,
    "start_time": "2022-09-09T19:18:34.620Z"
   },
   {
    "duration": 30,
    "start_time": "2022-09-09T19:18:35.182Z"
   },
   {
    "duration": 3,
    "start_time": "2022-09-09T19:18:35.214Z"
   },
   {
    "duration": 16,
    "start_time": "2022-09-09T19:18:35.218Z"
   },
   {
    "duration": 3,
    "start_time": "2022-09-09T19:18:35.235Z"
   },
   {
    "duration": 13,
    "start_time": "2022-09-09T19:18:35.240Z"
   },
   {
    "duration": 39,
    "start_time": "2022-09-09T19:18:35.255Z"
   },
   {
    "duration": 59383,
    "start_time": "2022-09-09T19:18:35.295Z"
   },
   {
    "duration": 31090,
    "start_time": "2022-09-09T19:19:34.679Z"
   },
   {
    "duration": 2728,
    "start_time": "2022-09-09T19:20:05.771Z"
   },
   {
    "duration": 7961,
    "start_time": "2022-09-09T19:20:08.501Z"
   },
   {
    "duration": 1428,
    "start_time": "2022-09-09T19:21:55.421Z"
   },
   {
    "duration": 839,
    "start_time": "2022-09-09T19:21:56.851Z"
   },
   {
    "duration": 52,
    "start_time": "2022-09-09T19:21:57.692Z"
   },
   {
    "duration": 16,
    "start_time": "2022-09-09T19:21:57.746Z"
   },
   {
    "duration": 5,
    "start_time": "2022-09-09T19:21:57.763Z"
   },
   {
    "duration": 30,
    "start_time": "2022-09-09T19:21:57.769Z"
   },
   {
    "duration": 9,
    "start_time": "2022-09-09T19:21:57.801Z"
   },
   {
    "duration": 13,
    "start_time": "2022-09-09T19:21:57.811Z"
   },
   {
    "duration": 7,
    "start_time": "2022-09-09T19:21:57.826Z"
   },
   {
    "duration": 13,
    "start_time": "2022-09-09T19:21:57.837Z"
   },
   {
    "duration": 40,
    "start_time": "2022-09-09T19:21:57.852Z"
   },
   {
    "duration": 8,
    "start_time": "2022-09-09T19:21:57.893Z"
   },
   {
    "duration": 13,
    "start_time": "2022-09-09T19:21:57.903Z"
   },
   {
    "duration": 19,
    "start_time": "2022-09-09T19:21:57.917Z"
   },
   {
    "duration": 6,
    "start_time": "2022-09-09T19:21:57.937Z"
   },
   {
    "duration": 237,
    "start_time": "2022-09-09T19:21:57.944Z"
   },
   {
    "duration": 9,
    "start_time": "2022-09-09T19:21:58.183Z"
   },
   {
    "duration": 422,
    "start_time": "2022-09-09T19:21:58.194Z"
   },
   {
    "duration": 501,
    "start_time": "2022-09-09T19:21:58.618Z"
   },
   {
    "duration": 11,
    "start_time": "2022-09-09T19:21:59.121Z"
   },
   {
    "duration": 585,
    "start_time": "2022-09-09T19:21:59.133Z"
   },
   {
    "duration": 27,
    "start_time": "2022-09-09T19:21:59.720Z"
   },
   {
    "duration": 3,
    "start_time": "2022-09-09T19:21:59.749Z"
   },
   {
    "duration": 9,
    "start_time": "2022-09-09T19:21:59.753Z"
   },
   {
    "duration": 13,
    "start_time": "2022-09-09T19:21:59.763Z"
   },
   {
    "duration": 26,
    "start_time": "2022-09-09T19:21:59.792Z"
   },
   {
    "duration": 2953,
    "start_time": "2022-09-09T19:21:59.822Z"
   },
   {
    "duration": 70,
    "start_time": "2022-09-09T19:22:02.778Z"
   },
   {
    "duration": 78,
    "start_time": "2022-09-09T19:22:02.850Z"
   },
   {
    "duration": 138,
    "start_time": "2022-09-09T19:22:02.931Z"
   },
   {
    "duration": 25,
    "start_time": "2022-09-09T19:25:25.114Z"
   },
   {
    "duration": 1480,
    "start_time": "2022-09-09T19:25:32.011Z"
   },
   {
    "duration": 861,
    "start_time": "2022-09-09T19:25:33.494Z"
   },
   {
    "duration": 57,
    "start_time": "2022-09-09T19:25:34.358Z"
   },
   {
    "duration": 18,
    "start_time": "2022-09-09T19:25:34.417Z"
   },
   {
    "duration": 5,
    "start_time": "2022-09-09T19:25:34.437Z"
   },
   {
    "duration": 48,
    "start_time": "2022-09-09T19:25:34.444Z"
   },
   {
    "duration": 15,
    "start_time": "2022-09-09T19:25:34.494Z"
   },
   {
    "duration": 15,
    "start_time": "2022-09-09T19:25:34.511Z"
   },
   {
    "duration": 7,
    "start_time": "2022-09-09T19:25:34.528Z"
   },
   {
    "duration": 11,
    "start_time": "2022-09-09T19:25:34.539Z"
   },
   {
    "duration": 3,
    "start_time": "2022-09-09T19:25:34.552Z"
   },
   {
    "duration": 45,
    "start_time": "2022-09-09T19:25:34.557Z"
   },
   {
    "duration": 7,
    "start_time": "2022-09-09T19:25:34.605Z"
   },
   {
    "duration": 33,
    "start_time": "2022-09-09T19:25:34.614Z"
   },
   {
    "duration": 7,
    "start_time": "2022-09-09T19:25:34.650Z"
   },
   {
    "duration": 274,
    "start_time": "2022-09-09T19:25:34.660Z"
   },
   {
    "duration": 4,
    "start_time": "2022-09-09T19:25:34.936Z"
   },
   {
    "duration": 463,
    "start_time": "2022-09-09T19:25:34.942Z"
   },
   {
    "duration": 581,
    "start_time": "2022-09-09T19:25:35.407Z"
   },
   {
    "duration": 16,
    "start_time": "2022-09-09T19:25:35.992Z"
   },
   {
    "duration": 650,
    "start_time": "2022-09-09T19:25:36.011Z"
   },
   {
    "duration": 37,
    "start_time": "2022-09-09T19:25:36.663Z"
   },
   {
    "duration": 4,
    "start_time": "2022-09-09T19:25:36.701Z"
   },
   {
    "duration": 31,
    "start_time": "2022-09-09T19:25:36.708Z"
   },
   {
    "duration": 30,
    "start_time": "2022-09-09T19:25:36.741Z"
   },
   {
    "duration": 50,
    "start_time": "2022-09-09T19:25:36.773Z"
   },
   {
    "duration": 71357,
    "start_time": "2022-09-09T19:25:36.827Z"
   },
   {
    "duration": 35357,
    "start_time": "2022-09-09T19:26:48.191Z"
   },
   {
    "duration": 2846,
    "start_time": "2022-09-09T19:27:23.549Z"
   },
   {
    "duration": 9255,
    "start_time": "2022-09-09T19:27:26.396Z"
   },
   {
    "duration": 131516,
    "start_time": "2022-09-09T19:29:20.769Z"
   },
   {
    "duration": 554,
    "start_time": "2022-09-09T19:32:30.734Z"
   },
   {
    "duration": 1501,
    "start_time": "2022-09-09T19:33:41.339Z"
   },
   {
    "duration": 860,
    "start_time": "2022-09-09T19:33:42.843Z"
   },
   {
    "duration": 47,
    "start_time": "2022-09-09T19:33:43.705Z"
   },
   {
    "duration": 17,
    "start_time": "2022-09-09T19:33:43.754Z"
   },
   {
    "duration": 21,
    "start_time": "2022-09-09T19:33:43.773Z"
   },
   {
    "duration": 16,
    "start_time": "2022-09-09T19:33:43.796Z"
   },
   {
    "duration": 9,
    "start_time": "2022-09-09T19:33:43.814Z"
   },
   {
    "duration": 11,
    "start_time": "2022-09-09T19:33:43.825Z"
   },
   {
    "duration": 7,
    "start_time": "2022-09-09T19:33:43.838Z"
   },
   {
    "duration": 49,
    "start_time": "2022-09-09T19:33:43.847Z"
   },
   {
    "duration": 3,
    "start_time": "2022-09-09T19:33:43.898Z"
   },
   {
    "duration": 10,
    "start_time": "2022-09-09T19:33:43.903Z"
   },
   {
    "duration": 8,
    "start_time": "2022-09-09T19:33:43.914Z"
   },
   {
    "duration": 27,
    "start_time": "2022-09-09T19:33:43.924Z"
   },
   {
    "duration": 7,
    "start_time": "2022-09-09T19:33:43.953Z"
   },
   {
    "duration": 272,
    "start_time": "2022-09-09T19:33:43.961Z"
   },
   {
    "duration": 4,
    "start_time": "2022-09-09T19:33:44.235Z"
   },
   {
    "duration": 428,
    "start_time": "2022-09-09T19:33:44.241Z"
   },
   {
    "duration": 488,
    "start_time": "2022-09-09T19:33:44.671Z"
   },
   {
    "duration": 11,
    "start_time": "2022-09-09T19:33:45.161Z"
   },
   {
    "duration": 576,
    "start_time": "2022-09-09T19:33:45.174Z"
   },
   {
    "duration": 23,
    "start_time": "2022-09-09T19:33:45.751Z"
   },
   {
    "duration": 16,
    "start_time": "2022-09-09T19:33:45.776Z"
   },
   {
    "duration": 3,
    "start_time": "2022-09-09T19:33:45.793Z"
   },
   {
    "duration": 12,
    "start_time": "2022-09-09T19:33:45.797Z"
   },
   {
    "duration": 22,
    "start_time": "2022-09-09T19:33:45.810Z"
   },
   {
    "duration": 69953,
    "start_time": "2022-09-09T19:33:45.834Z"
   },
   {
    "duration": 133528,
    "start_time": "2022-09-09T19:34:55.791Z"
   },
   {
    "duration": 2676,
    "start_time": "2022-09-09T19:37:09.321Z"
   },
   {
    "duration": 697,
    "start_time": "2022-09-09T19:37:11.999Z"
   },
   {
    "duration": 1305,
    "start_time": "2022-09-10T00:34:53.535Z"
   },
   {
    "duration": 4165,
    "start_time": "2022-09-10T00:34:54.842Z"
   },
   {
    "duration": 47,
    "start_time": "2022-09-10T00:34:59.009Z"
   },
   {
    "duration": 18,
    "start_time": "2022-09-10T00:34:59.058Z"
   },
   {
    "duration": 13,
    "start_time": "2022-09-10T00:34:59.078Z"
   },
   {
    "duration": 17,
    "start_time": "2022-09-10T00:34:59.093Z"
   },
   {
    "duration": 14,
    "start_time": "2022-09-10T00:34:59.112Z"
   },
   {
    "duration": 8,
    "start_time": "2022-09-10T00:34:59.128Z"
   },
   {
    "duration": 6,
    "start_time": "2022-09-10T00:34:59.138Z"
   },
   {
    "duration": 10,
    "start_time": "2022-09-10T00:34:59.146Z"
   },
   {
    "duration": 4,
    "start_time": "2022-09-10T00:34:59.157Z"
   },
   {
    "duration": 8,
    "start_time": "2022-09-10T00:34:59.162Z"
   },
   {
    "duration": 10,
    "start_time": "2022-09-10T00:34:59.172Z"
   },
   {
    "duration": 54,
    "start_time": "2022-09-10T00:34:59.185Z"
   },
   {
    "duration": 5,
    "start_time": "2022-09-10T00:34:59.240Z"
   },
   {
    "duration": 190,
    "start_time": "2022-09-10T00:34:59.247Z"
   },
   {
    "duration": 4,
    "start_time": "2022-09-10T00:34:59.439Z"
   },
   {
    "duration": 368,
    "start_time": "2022-09-10T00:34:59.445Z"
   },
   {
    "duration": 427,
    "start_time": "2022-09-10T00:34:59.815Z"
   },
   {
    "duration": 11,
    "start_time": "2022-09-10T00:35:00.243Z"
   },
   {
    "duration": 477,
    "start_time": "2022-09-10T00:35:00.255Z"
   },
   {
    "duration": 20,
    "start_time": "2022-09-10T00:35:00.734Z"
   },
   {
    "duration": 6,
    "start_time": "2022-09-10T00:35:00.756Z"
   },
   {
    "duration": 9,
    "start_time": "2022-09-10T00:35:00.763Z"
   },
   {
    "duration": 22,
    "start_time": "2022-09-10T00:35:00.773Z"
   },
   {
    "duration": 31,
    "start_time": "2022-09-10T00:35:00.797Z"
   },
   {
    "duration": 61987,
    "start_time": "2022-09-10T00:35:00.830Z"
   },
   {
    "duration": 116365,
    "start_time": "2022-09-10T00:36:02.819Z"
   },
   {
    "duration": 2638,
    "start_time": "2022-09-10T00:37:59.185Z"
   },
   {
    "duration": 582,
    "start_time": "2022-09-10T00:38:01.824Z"
   },
   {
    "duration": 1238,
    "start_time": "2022-09-10T01:08:29.378Z"
   },
   {
    "duration": 756,
    "start_time": "2022-09-10T01:08:30.617Z"
   },
   {
    "duration": 40,
    "start_time": "2022-09-10T01:08:31.374Z"
   },
   {
    "duration": 15,
    "start_time": "2022-09-10T01:08:31.422Z"
   },
   {
    "duration": 4,
    "start_time": "2022-09-10T01:08:31.440Z"
   },
   {
    "duration": 27,
    "start_time": "2022-09-10T01:08:31.446Z"
   },
   {
    "duration": 8,
    "start_time": "2022-09-10T01:08:31.475Z"
   },
   {
    "duration": 11,
    "start_time": "2022-09-10T01:08:31.485Z"
   },
   {
    "duration": 25,
    "start_time": "2022-09-10T01:08:31.497Z"
   },
   {
    "duration": 12,
    "start_time": "2022-09-10T01:08:31.524Z"
   },
   {
    "duration": 2,
    "start_time": "2022-09-10T01:08:31.538Z"
   },
   {
    "duration": 9,
    "start_time": "2022-09-10T01:08:31.542Z"
   },
   {
    "duration": 12,
    "start_time": "2022-09-10T01:08:31.552Z"
   },
   {
    "duration": 11,
    "start_time": "2022-09-10T01:08:31.567Z"
   },
   {
    "duration": 9,
    "start_time": "2022-09-10T01:08:53.138Z"
   },
   {
    "duration": 1283,
    "start_time": "2022-09-10T01:11:35.330Z"
   },
   {
    "duration": 779,
    "start_time": "2022-09-10T01:11:36.615Z"
   },
   {
    "duration": 48,
    "start_time": "2022-09-10T01:11:37.395Z"
   },
   {
    "duration": 16,
    "start_time": "2022-09-10T01:11:37.445Z"
   },
   {
    "duration": 6,
    "start_time": "2022-09-10T01:11:37.465Z"
   },
   {
    "duration": 31,
    "start_time": "2022-09-10T01:11:37.473Z"
   },
   {
    "duration": 10,
    "start_time": "2022-09-10T01:11:37.523Z"
   },
   {
    "duration": 22,
    "start_time": "2022-09-10T01:11:37.535Z"
   },
   {
    "duration": 6,
    "start_time": "2022-09-10T01:11:37.559Z"
   },
   {
    "duration": 13,
    "start_time": "2022-09-10T01:11:37.566Z"
   },
   {
    "duration": 3,
    "start_time": "2022-09-10T01:11:37.581Z"
   },
   {
    "duration": 9,
    "start_time": "2022-09-10T01:11:37.585Z"
   },
   {
    "duration": 29,
    "start_time": "2022-09-10T01:11:37.595Z"
   },
   {
    "duration": 11,
    "start_time": "2022-09-10T01:11:37.626Z"
   },
   {
    "duration": 1287,
    "start_time": "2022-09-10T01:14:23.639Z"
   },
   {
    "duration": 763,
    "start_time": "2022-09-10T01:14:24.928Z"
   },
   {
    "duration": 50,
    "start_time": "2022-09-10T01:14:25.693Z"
   },
   {
    "duration": 17,
    "start_time": "2022-09-10T01:14:25.745Z"
   },
   {
    "duration": 4,
    "start_time": "2022-09-10T01:14:25.764Z"
   },
   {
    "duration": 17,
    "start_time": "2022-09-10T01:14:25.769Z"
   },
   {
    "duration": 7,
    "start_time": "2022-09-10T01:14:25.787Z"
   },
   {
    "duration": 27,
    "start_time": "2022-09-10T01:14:25.796Z"
   },
   {
    "duration": 21,
    "start_time": "2022-09-10T01:14:25.824Z"
   },
   {
    "duration": 10,
    "start_time": "2022-09-10T01:14:25.846Z"
   },
   {
    "duration": 3,
    "start_time": "2022-09-10T01:14:25.857Z"
   },
   {
    "duration": 8,
    "start_time": "2022-09-10T01:14:25.862Z"
   },
   {
    "duration": 8,
    "start_time": "2022-09-10T01:14:25.871Z"
   },
   {
    "duration": 9,
    "start_time": "2022-09-10T01:14:25.881Z"
   },
   {
    "duration": 1547,
    "start_time": "2022-09-10T16:20:18.056Z"
   },
   {
    "duration": 4711,
    "start_time": "2022-09-10T16:20:19.605Z"
   },
   {
    "duration": 51,
    "start_time": "2022-09-10T16:20:24.319Z"
   },
   {
    "duration": 18,
    "start_time": "2022-09-10T16:20:24.373Z"
   },
   {
    "duration": 5,
    "start_time": "2022-09-10T16:20:24.393Z"
   },
   {
    "duration": 31,
    "start_time": "2022-09-10T16:20:24.399Z"
   },
   {
    "duration": 14,
    "start_time": "2022-09-10T16:20:24.432Z"
   },
   {
    "duration": 32,
    "start_time": "2022-09-10T16:20:24.448Z"
   },
   {
    "duration": 6,
    "start_time": "2022-09-10T16:20:24.481Z"
   },
   {
    "duration": 14,
    "start_time": "2022-09-10T16:20:24.489Z"
   },
   {
    "duration": 3,
    "start_time": "2022-09-10T16:20:24.504Z"
   },
   {
    "duration": 14,
    "start_time": "2022-09-10T16:20:24.508Z"
   },
   {
    "duration": 8,
    "start_time": "2022-09-10T16:20:24.523Z"
   },
   {
    "duration": 29,
    "start_time": "2022-09-10T16:20:24.532Z"
   },
   {
    "duration": 5,
    "start_time": "2022-09-10T16:20:24.562Z"
   },
   {
    "duration": 197,
    "start_time": "2022-09-10T16:20:24.569Z"
   },
   {
    "duration": 3,
    "start_time": "2022-09-10T16:20:24.768Z"
   },
   {
    "duration": 391,
    "start_time": "2022-09-10T16:20:24.773Z"
   },
   {
    "duration": 431,
    "start_time": "2022-09-10T16:20:25.166Z"
   },
   {
    "duration": 9,
    "start_time": "2022-09-10T16:20:25.599Z"
   },
   {
    "duration": 547,
    "start_time": "2022-09-10T16:20:25.609Z"
   },
   {
    "duration": 23,
    "start_time": "2022-09-10T16:20:26.157Z"
   },
   {
    "duration": 3,
    "start_time": "2022-09-10T16:20:26.182Z"
   },
   {
    "duration": 5,
    "start_time": "2022-09-10T16:20:26.186Z"
   },
   {
    "duration": 10,
    "start_time": "2022-09-10T16:20:26.193Z"
   },
   {
    "duration": 39,
    "start_time": "2022-09-10T16:20:26.205Z"
   },
   {
    "duration": 65047,
    "start_time": "2022-09-10T16:20:26.246Z"
   },
   {
    "duration": 123028,
    "start_time": "2022-09-10T16:21:31.296Z"
   },
   {
    "duration": 2719,
    "start_time": "2022-09-10T16:23:34.326Z"
   },
   {
    "duration": 690,
    "start_time": "2022-09-10T16:23:37.054Z"
   },
   {
    "duration": 15,
    "start_time": "2022-09-10T17:14:53.778Z"
   },
   {
    "duration": 29,
    "start_time": "2022-09-10T17:16:29.026Z"
   },
   {
    "duration": 45,
    "start_time": "2022-09-12T22:23:21.697Z"
   },
   {
    "duration": 1445,
    "start_time": "2022-09-12T22:23:27.723Z"
   },
   {
    "duration": 3985,
    "start_time": "2022-09-12T22:23:31.636Z"
   },
   {
    "duration": 39,
    "start_time": "2022-09-12T22:23:37.989Z"
   },
   {
    "duration": 26,
    "start_time": "2022-09-12T22:23:40.629Z"
   },
   {
    "duration": 3,
    "start_time": "2022-09-12T22:23:52.446Z"
   },
   {
    "duration": 3,
    "start_time": "2022-09-12T22:23:58.493Z"
   },
   {
    "duration": 69,
    "start_time": "2022-09-12T22:24:08.198Z"
   },
   {
    "duration": 25,
    "start_time": "2022-09-12T22:24:11.508Z"
   },
   {
    "duration": 24,
    "start_time": "2022-09-12T22:24:21.304Z"
   },
   {
    "duration": 29,
    "start_time": "2022-09-12T22:24:25.720Z"
   },
   {
    "duration": 30,
    "start_time": "2022-09-12T22:24:41.815Z"
   },
   {
    "duration": 29,
    "start_time": "2022-09-12T22:24:52.896Z"
   },
   {
    "duration": 1216,
    "start_time": "2022-09-12T22:36:09.852Z"
   },
   {
    "duration": 756,
    "start_time": "2022-09-12T22:36:11.070Z"
   },
   {
    "duration": 41,
    "start_time": "2022-09-12T22:36:11.827Z"
   },
   {
    "duration": 21,
    "start_time": "2022-09-12T22:36:11.870Z"
   },
   {
    "duration": 32,
    "start_time": "2022-09-12T22:36:11.892Z"
   },
   {
    "duration": 3,
    "start_time": "2022-09-12T22:36:11.926Z"
   },
   {
    "duration": 15,
    "start_time": "2022-09-12T22:36:11.931Z"
   },
   {
    "duration": 6,
    "start_time": "2022-09-12T22:36:11.948Z"
   },
   {
    "duration": 9,
    "start_time": "2022-09-12T22:36:11.955Z"
   },
   {
    "duration": 5,
    "start_time": "2022-09-12T22:36:11.966Z"
   },
   {
    "duration": 9,
    "start_time": "2022-09-12T22:36:11.972Z"
   },
   {
    "duration": 2,
    "start_time": "2022-09-12T22:36:11.983Z"
   },
   {
    "duration": 40,
    "start_time": "2022-09-12T22:36:11.987Z"
   },
   {
    "duration": 7,
    "start_time": "2022-09-12T22:36:12.028Z"
   },
   {
    "duration": 24,
    "start_time": "2022-09-12T22:36:12.036Z"
   },
   {
    "duration": 5,
    "start_time": "2022-09-12T22:36:12.061Z"
   },
   {
    "duration": 197,
    "start_time": "2022-09-12T22:36:12.068Z"
   },
   {
    "duration": 4,
    "start_time": "2022-09-12T22:36:12.267Z"
   },
   {
    "duration": 369,
    "start_time": "2022-09-12T22:36:12.272Z"
   },
   {
    "duration": 405,
    "start_time": "2022-09-12T22:36:12.642Z"
   },
   {
    "duration": 9,
    "start_time": "2022-09-12T22:36:13.049Z"
   },
   {
    "duration": 478,
    "start_time": "2022-09-12T22:36:13.059Z"
   },
   {
    "duration": 20,
    "start_time": "2022-09-12T22:36:13.539Z"
   },
   {
    "duration": 3,
    "start_time": "2022-09-12T22:36:13.560Z"
   },
   {
    "duration": 9,
    "start_time": "2022-09-12T22:36:13.564Z"
   },
   {
    "duration": 10,
    "start_time": "2022-09-12T22:36:13.575Z"
   },
   {
    "duration": 15,
    "start_time": "2022-09-12T22:36:13.587Z"
   },
   {
    "duration": 61473,
    "start_time": "2022-09-12T22:36:13.621Z"
   },
   {
    "duration": 116556,
    "start_time": "2022-09-12T22:37:15.096Z"
   },
   {
    "duration": 2172,
    "start_time": "2022-09-12T22:39:11.654Z"
   },
   {
    "duration": 619,
    "start_time": "2022-09-12T22:39:13.828Z"
   },
   {
    "duration": 4,
    "start_time": "2022-09-12T23:36:41.462Z"
   },
   {
    "duration": 6,
    "start_time": "2022-09-12T23:36:46.609Z"
   },
   {
    "duration": 19,
    "start_time": "2022-09-12T23:39:55.441Z"
   },
   {
    "duration": 1269,
    "start_time": "2022-09-12T23:46:09.631Z"
   },
   {
    "duration": 775,
    "start_time": "2022-09-12T23:46:10.902Z"
   },
   {
    "duration": 48,
    "start_time": "2022-09-12T23:46:11.678Z"
   },
   {
    "duration": 22,
    "start_time": "2022-09-12T23:46:11.728Z"
   },
   {
    "duration": 16,
    "start_time": "2022-09-12T23:46:11.752Z"
   },
   {
    "duration": 4,
    "start_time": "2022-09-12T23:46:11.770Z"
   },
   {
    "duration": 17,
    "start_time": "2022-09-12T23:46:11.775Z"
   },
   {
    "duration": 29,
    "start_time": "2022-09-12T23:46:11.794Z"
   },
   {
    "duration": 9,
    "start_time": "2022-09-12T23:46:11.824Z"
   },
   {
    "duration": 5,
    "start_time": "2022-09-12T23:46:11.835Z"
   },
   {
    "duration": 9,
    "start_time": "2022-09-12T23:46:11.842Z"
   },
   {
    "duration": 5,
    "start_time": "2022-09-12T23:46:11.852Z"
   },
   {
    "duration": 16,
    "start_time": "2022-09-12T23:46:11.858Z"
   },
   {
    "duration": 2,
    "start_time": "2022-09-12T23:46:11.877Z"
   },
   {
    "duration": 8,
    "start_time": "2022-09-12T23:46:11.881Z"
   },
   {
    "duration": 49,
    "start_time": "2022-09-12T23:46:11.891Z"
   },
   {
    "duration": 7,
    "start_time": "2022-09-12T23:46:11.942Z"
   },
   {
    "duration": 95,
    "start_time": "2022-09-12T23:46:11.951Z"
   },
   {
    "duration": 0,
    "start_time": "2022-09-12T23:46:12.047Z"
   },
   {
    "duration": 0,
    "start_time": "2022-09-12T23:46:12.048Z"
   },
   {
    "duration": 0,
    "start_time": "2022-09-12T23:46:12.049Z"
   },
   {
    "duration": 0,
    "start_time": "2022-09-12T23:46:12.050Z"
   },
   {
    "duration": 0,
    "start_time": "2022-09-12T23:46:12.052Z"
   },
   {
    "duration": 0,
    "start_time": "2022-09-12T23:46:12.053Z"
   },
   {
    "duration": 0,
    "start_time": "2022-09-12T23:46:12.054Z"
   },
   {
    "duration": 0,
    "start_time": "2022-09-12T23:46:12.054Z"
   },
   {
    "duration": 1,
    "start_time": "2022-09-12T23:46:12.055Z"
   },
   {
    "duration": 0,
    "start_time": "2022-09-12T23:46:12.056Z"
   },
   {
    "duration": 0,
    "start_time": "2022-09-12T23:46:12.057Z"
   },
   {
    "duration": 0,
    "start_time": "2022-09-12T23:46:12.058Z"
   },
   {
    "duration": 0,
    "start_time": "2022-09-12T23:46:12.059Z"
   },
   {
    "duration": 0,
    "start_time": "2022-09-12T23:46:12.060Z"
   },
   {
    "duration": 0,
    "start_time": "2022-09-12T23:46:12.061Z"
   },
   {
    "duration": 0,
    "start_time": "2022-09-12T23:46:12.062Z"
   },
   {
    "duration": 0,
    "start_time": "2022-09-12T23:46:12.063Z"
   },
   {
    "duration": 8,
    "start_time": "2022-09-12T23:48:32.708Z"
   },
   {
    "duration": 8,
    "start_time": "2022-09-12T23:48:34.219Z"
   },
   {
    "duration": 12,
    "start_time": "2022-09-12T23:48:35.217Z"
   },
   {
    "duration": 15,
    "start_time": "2022-09-12T23:48:42.381Z"
   },
   {
    "duration": 5,
    "start_time": "2022-09-12T23:49:22.926Z"
   },
   {
    "duration": 185,
    "start_time": "2022-09-12T23:49:24.742Z"
   },
   {
    "duration": 4,
    "start_time": "2022-09-12T23:50:03.507Z"
   },
   {
    "duration": 391,
    "start_time": "2022-09-12T23:50:07.320Z"
   },
   {
    "duration": 413,
    "start_time": "2022-09-12T23:50:14.461Z"
   },
   {
    "duration": 10,
    "start_time": "2022-09-12T23:54:31.302Z"
   },
   {
    "duration": 482,
    "start_time": "2022-09-12T23:54:32.685Z"
   },
   {
    "duration": 22,
    "start_time": "2022-09-12T23:54:47.701Z"
   },
   {
    "duration": 2,
    "start_time": "2022-09-13T01:18:00.275Z"
   },
   {
    "duration": 9,
    "start_time": "2022-09-13T01:18:01.682Z"
   },
   {
    "duration": 115,
    "start_time": "2022-09-13T01:18:04.084Z"
   },
   {
    "duration": 25,
    "start_time": "2022-09-13T01:18:30.636Z"
   },
   {
    "duration": 22,
    "start_time": "2022-09-13T01:18:46.531Z"
   },
   {
    "duration": 3,
    "start_time": "2022-09-13T01:20:04.915Z"
   },
   {
    "duration": 1014,
    "start_time": "2022-09-13T01:20:10.887Z"
   },
   {
    "duration": 1025,
    "start_time": "2022-09-13T01:20:33.711Z"
   },
   {
    "duration": 4,
    "start_time": "2022-09-13T01:22:14.625Z"
   },
   {
    "duration": 10,
    "start_time": "2022-09-13T01:23:34.240Z"
   },
   {
    "duration": 4,
    "start_time": "2022-09-13T01:23:41.582Z"
   },
   {
    "duration": 3,
    "start_time": "2022-09-13T01:25:18.420Z"
   },
   {
    "duration": 1019,
    "start_time": "2022-09-13T01:25:24.421Z"
   },
   {
    "duration": 3,
    "start_time": "2022-09-13T01:26:15.980Z"
   },
   {
    "duration": 1003,
    "start_time": "2022-09-13T01:26:19.888Z"
   },
   {
    "duration": 3,
    "start_time": "2022-09-13T01:28:47.953Z"
   },
   {
    "duration": 5090,
    "start_time": "2022-09-13T01:28:52.881Z"
   },
   {
    "duration": 4,
    "start_time": "2022-09-13T01:29:19.591Z"
   },
   {
    "duration": 1014,
    "start_time": "2022-09-13T01:29:23.566Z"
   },
   {
    "duration": 3,
    "start_time": "2022-09-13T01:30:06.247Z"
   },
   {
    "duration": 4981,
    "start_time": "2022-09-13T01:30:13.268Z"
   },
   {
    "duration": 3,
    "start_time": "2022-09-13T01:30:42.235Z"
   },
   {
    "duration": 5017,
    "start_time": "2022-09-13T01:30:57.848Z"
   },
   {
    "duration": 4,
    "start_time": "2022-09-13T01:31:34.559Z"
   },
   {
    "duration": 5063,
    "start_time": "2022-09-13T01:31:40.451Z"
   },
   {
    "duration": 3,
    "start_time": "2022-09-13T01:32:01.801Z"
   },
   {
    "duration": 5002,
    "start_time": "2022-09-13T01:32:06.589Z"
   },
   {
    "duration": 5042,
    "start_time": "2022-09-13T01:32:27.223Z"
   },
   {
    "duration": 33908,
    "start_time": "2022-09-13T01:34:37.277Z"
   },
   {
    "duration": 48962,
    "start_time": "2022-09-13T01:37:25.704Z"
   },
   {
    "duration": 3469,
    "start_time": "2022-09-13T01:39:00.854Z"
   },
   {
    "duration": 284,
    "start_time": "2022-09-13T01:43:40.628Z"
   },
   {
    "duration": 20,
    "start_time": "2022-09-13T01:45:27.541Z"
   },
   {
    "duration": 280,
    "start_time": "2022-09-13T01:45:32.367Z"
   },
   {
    "duration": 11,
    "start_time": "2022-09-13T01:46:20.933Z"
   },
   {
    "duration": 9,
    "start_time": "2022-09-13T01:46:35.735Z"
   },
   {
    "duration": 31,
    "start_time": "2022-09-13T01:47:26.922Z"
   },
   {
    "duration": 13,
    "start_time": "2022-09-13T01:47:27.694Z"
   },
   {
    "duration": 18,
    "start_time": "2022-09-13T01:47:39.215Z"
   },
   {
    "duration": 10,
    "start_time": "2022-09-13T01:47:39.983Z"
   },
   {
    "duration": 1270,
    "start_time": "2022-09-13T01:48:46.537Z"
   },
   {
    "duration": 771,
    "start_time": "2022-09-13T01:48:47.809Z"
   },
   {
    "duration": 46,
    "start_time": "2022-09-13T01:48:48.581Z"
   },
   {
    "duration": 23,
    "start_time": "2022-09-13T01:48:48.629Z"
   },
   {
    "duration": 16,
    "start_time": "2022-09-13T01:48:48.654Z"
   },
   {
    "duration": 4,
    "start_time": "2022-09-13T01:48:48.672Z"
   },
   {
    "duration": 18,
    "start_time": "2022-09-13T01:48:48.678Z"
   },
   {
    "duration": 6,
    "start_time": "2022-09-13T01:48:48.723Z"
   },
   {
    "duration": 16,
    "start_time": "2022-09-13T01:48:48.730Z"
   },
   {
    "duration": 6,
    "start_time": "2022-09-13T01:48:48.748Z"
   },
   {
    "duration": 14,
    "start_time": "2022-09-13T01:48:48.755Z"
   },
   {
    "duration": 4,
    "start_time": "2022-09-13T01:48:48.770Z"
   },
   {
    "duration": 18,
    "start_time": "2022-09-13T01:48:48.776Z"
   },
   {
    "duration": 5,
    "start_time": "2022-09-13T01:48:48.797Z"
   },
   {
    "duration": 9,
    "start_time": "2022-09-13T01:48:48.822Z"
   },
   {
    "duration": 33,
    "start_time": "2022-09-13T01:48:48.832Z"
   },
   {
    "duration": 12,
    "start_time": "2022-09-13T01:48:48.869Z"
   },
   {
    "duration": 33,
    "start_time": "2022-09-13T01:48:48.882Z"
   },
   {
    "duration": 22,
    "start_time": "2022-09-13T01:48:48.917Z"
   },
   {
    "duration": 7,
    "start_time": "2022-09-13T01:48:48.941Z"
   },
   {
    "duration": 220,
    "start_time": "2022-09-13T01:48:48.950Z"
   },
   {
    "duration": 4,
    "start_time": "2022-09-13T01:48:49.172Z"
   },
   {
    "duration": 384,
    "start_time": "2022-09-13T01:48:49.177Z"
   },
   {
    "duration": 448,
    "start_time": "2022-09-13T01:48:49.563Z"
   },
   {
    "duration": 14,
    "start_time": "2022-09-13T01:48:50.013Z"
   },
   {
    "duration": 483,
    "start_time": "2022-09-13T01:48:50.029Z"
   },
   {
    "duration": 53,
    "start_time": "2022-09-13T01:48:50.514Z"
   },
   {
    "duration": 4,
    "start_time": "2022-09-13T01:48:50.568Z"
   },
   {
    "duration": 5,
    "start_time": "2022-09-13T01:48:50.574Z"
   },
   {
    "duration": 12,
    "start_time": "2022-09-13T01:48:50.580Z"
   },
   {
    "duration": 32,
    "start_time": "2022-09-13T01:48:50.594Z"
   },
   {
    "duration": 8,
    "start_time": "2022-09-13T01:48:50.628Z"
   },
   {
    "duration": 34193,
    "start_time": "2022-09-13T01:48:50.638Z"
   },
   {
    "duration": 49291,
    "start_time": "2022-09-13T01:49:24.832Z"
   },
   {
    "duration": 1103,
    "start_time": "2022-09-13T01:50:14.124Z"
   },
   {
    "duration": 194,
    "start_time": "2022-09-13T01:50:15.229Z"
   },
   {
    "duration": 0,
    "start_time": "2022-09-13T01:50:15.425Z"
   },
   {
    "duration": 297,
    "start_time": "2022-09-13T02:05:00.097Z"
   },
   {
    "duration": 25,
    "start_time": "2022-09-13T02:05:24.314Z"
   },
   {
    "duration": 13,
    "start_time": "2022-09-13T02:05:30.423Z"
   },
   {
    "duration": 15,
    "start_time": "2022-09-13T02:07:22.952Z"
   },
   {
    "duration": 1295,
    "start_time": "2022-09-13T02:13:37.494Z"
   },
   {
    "duration": 805,
    "start_time": "2022-09-13T02:13:38.791Z"
   },
   {
    "duration": 48,
    "start_time": "2022-09-13T02:13:39.598Z"
   },
   {
    "duration": 27,
    "start_time": "2022-09-13T02:13:39.648Z"
   },
   {
    "duration": 16,
    "start_time": "2022-09-13T02:13:39.678Z"
   },
   {
    "duration": 5,
    "start_time": "2022-09-13T02:13:39.695Z"
   },
   {
    "duration": 16,
    "start_time": "2022-09-13T02:13:39.721Z"
   },
   {
    "duration": 8,
    "start_time": "2022-09-13T02:13:39.739Z"
   },
   {
    "duration": 12,
    "start_time": "2022-09-13T02:13:39.748Z"
   },
   {
    "duration": 6,
    "start_time": "2022-09-13T02:13:39.761Z"
   },
   {
    "duration": 15,
    "start_time": "2022-09-13T02:13:39.769Z"
   },
   {
    "duration": 42,
    "start_time": "2022-09-13T02:13:39.786Z"
   },
   {
    "duration": 21,
    "start_time": "2022-09-13T02:13:39.830Z"
   },
   {
    "duration": 3,
    "start_time": "2022-09-13T02:13:39.855Z"
   },
   {
    "duration": 9,
    "start_time": "2022-09-13T02:13:39.859Z"
   },
   {
    "duration": 30,
    "start_time": "2022-09-13T02:13:39.869Z"
   },
   {
    "duration": 8,
    "start_time": "2022-09-13T02:13:39.900Z"
   },
   {
    "duration": 7,
    "start_time": "2022-09-13T02:13:39.909Z"
   },
   {
    "duration": 13,
    "start_time": "2022-09-13T02:13:39.917Z"
   },
   {
    "duration": 6,
    "start_time": "2022-09-13T02:13:39.931Z"
   },
   {
    "duration": 190,
    "start_time": "2022-09-13T02:13:39.939Z"
   },
   {
    "duration": 4,
    "start_time": "2022-09-13T02:13:40.131Z"
   },
   {
    "duration": 371,
    "start_time": "2022-09-13T02:13:40.136Z"
   },
   {
    "duration": 430,
    "start_time": "2022-09-13T02:13:40.509Z"
   },
   {
    "duration": 9,
    "start_time": "2022-09-13T02:13:40.941Z"
   },
   {
    "duration": 491,
    "start_time": "2022-09-13T02:13:40.952Z"
   },
   {
    "duration": 22,
    "start_time": "2022-09-13T02:13:41.444Z"
   },
   {
    "duration": 3,
    "start_time": "2022-09-13T02:13:41.468Z"
   },
   {
    "duration": 12,
    "start_time": "2022-09-13T02:13:41.473Z"
   },
   {
    "duration": 13,
    "start_time": "2022-09-13T02:13:41.486Z"
   },
   {
    "duration": 49,
    "start_time": "2022-09-13T02:13:41.500Z"
   },
   {
    "duration": 23,
    "start_time": "2022-09-13T02:13:41.551Z"
   },
   {
    "duration": 15,
    "start_time": "2022-09-13T02:13:41.576Z"
   },
   {
    "duration": 34200,
    "start_time": "2022-09-13T02:13:41.593Z"
   },
   {
    "duration": 49673,
    "start_time": "2022-09-13T02:14:15.794Z"
   },
   {
    "duration": 1054,
    "start_time": "2022-09-13T02:15:05.469Z"
   },
   {
    "duration": 197,
    "start_time": "2022-09-13T02:15:06.525Z"
   },
   {
    "duration": 0,
    "start_time": "2022-09-13T02:15:06.723Z"
   },
   {
    "duration": 1332,
    "start_time": "2022-09-13T02:16:08.014Z"
   },
   {
    "duration": 764,
    "start_time": "2022-09-13T02:16:09.348Z"
   },
   {
    "duration": 41,
    "start_time": "2022-09-13T02:16:10.113Z"
   },
   {
    "duration": 21,
    "start_time": "2022-09-13T02:16:10.157Z"
   },
   {
    "duration": 18,
    "start_time": "2022-09-13T02:16:10.179Z"
   },
   {
    "duration": 24,
    "start_time": "2022-09-13T02:16:10.198Z"
   },
   {
    "duration": 25,
    "start_time": "2022-09-13T02:16:10.224Z"
   },
   {
    "duration": 16,
    "start_time": "2022-09-13T02:16:10.251Z"
   },
   {
    "duration": 21,
    "start_time": "2022-09-13T02:16:10.269Z"
   },
   {
    "duration": 14,
    "start_time": "2022-09-13T02:16:10.293Z"
   },
   {
    "duration": 40,
    "start_time": "2022-09-13T02:16:10.308Z"
   },
   {
    "duration": 3,
    "start_time": "2022-09-13T02:16:10.350Z"
   },
   {
    "duration": 22,
    "start_time": "2022-09-13T02:16:10.355Z"
   },
   {
    "duration": 22,
    "start_time": "2022-09-13T02:16:10.379Z"
   },
   {
    "duration": 25,
    "start_time": "2022-09-13T02:16:10.403Z"
   },
   {
    "duration": 46,
    "start_time": "2022-09-13T02:16:10.429Z"
   },
   {
    "duration": 21,
    "start_time": "2022-09-13T02:16:10.477Z"
   },
   {
    "duration": 8,
    "start_time": "2022-09-13T02:16:10.499Z"
   },
   {
    "duration": 5,
    "start_time": "2022-09-13T02:16:10.508Z"
   },
   {
    "duration": 179,
    "start_time": "2022-09-13T02:16:10.514Z"
   },
   {
    "duration": 4,
    "start_time": "2022-09-13T02:16:10.695Z"
   },
   {
    "duration": 377,
    "start_time": "2022-09-13T02:16:10.701Z"
   },
   {
    "duration": 428,
    "start_time": "2022-09-13T02:16:11.081Z"
   },
   {
    "duration": 12,
    "start_time": "2022-09-13T02:16:11.510Z"
   },
   {
    "duration": 506,
    "start_time": "2022-09-13T02:16:11.524Z"
   },
   {
    "duration": 52,
    "start_time": "2022-09-13T02:16:12.031Z"
   },
   {
    "duration": 3,
    "start_time": "2022-09-13T02:16:12.085Z"
   },
   {
    "duration": 27,
    "start_time": "2022-09-13T02:16:12.091Z"
   },
   {
    "duration": 18,
    "start_time": "2022-09-13T02:16:12.120Z"
   },
   {
    "duration": 37,
    "start_time": "2022-09-13T02:16:12.140Z"
   },
   {
    "duration": 10,
    "start_time": "2022-09-13T02:16:12.178Z"
   },
   {
    "duration": 31,
    "start_time": "2022-09-13T02:16:12.190Z"
   },
   {
    "duration": 34144,
    "start_time": "2022-09-13T02:16:12.222Z"
   },
   {
    "duration": 49332,
    "start_time": "2022-09-13T02:16:46.368Z"
   },
   {
    "duration": 726,
    "start_time": "2022-09-13T02:17:35.702Z"
   },
   {
    "duration": 207,
    "start_time": "2022-09-13T02:17:36.430Z"
   },
   {
    "duration": 0,
    "start_time": "2022-09-13T02:17:36.639Z"
   },
   {
    "duration": 16,
    "start_time": "2022-09-13T02:19:39.952Z"
   },
   {
    "duration": 19,
    "start_time": "2022-09-13T02:19:54.737Z"
   },
   {
    "duration": 22,
    "start_time": "2022-09-13T02:20:01.813Z"
   },
   {
    "duration": 9,
    "start_time": "2022-09-13T02:20:08.492Z"
   },
   {
    "duration": 41,
    "start_time": "2022-09-13T02:20:19.955Z"
   },
   {
    "duration": 9,
    "start_time": "2022-09-13T02:20:32.469Z"
   },
   {
    "duration": 4,
    "start_time": "2022-09-13T02:20:36.294Z"
   },
   {
    "duration": 10,
    "start_time": "2022-09-13T02:20:40.772Z"
   },
   {
    "duration": 21,
    "start_time": "2022-09-13T02:20:47.532Z"
   },
   {
    "duration": 9,
    "start_time": "2022-09-13T02:20:48.824Z"
   },
   {
    "duration": 18,
    "start_time": "2022-09-13T02:20:55.223Z"
   },
   {
    "duration": 10,
    "start_time": "2022-09-13T02:20:57.004Z"
   },
   {
    "duration": 1245,
    "start_time": "2022-09-13T02:24:14.077Z"
   },
   {
    "duration": 774,
    "start_time": "2022-09-13T02:24:15.324Z"
   },
   {
    "duration": 46,
    "start_time": "2022-09-13T02:24:16.099Z"
   },
   {
    "duration": 22,
    "start_time": "2022-09-13T02:24:16.147Z"
   },
   {
    "duration": 17,
    "start_time": "2022-09-13T02:24:16.171Z"
   },
   {
    "duration": 5,
    "start_time": "2022-09-13T02:24:16.189Z"
   },
   {
    "duration": 48,
    "start_time": "2022-09-13T02:24:16.196Z"
   },
   {
    "duration": 8,
    "start_time": "2022-09-13T02:24:16.246Z"
   },
   {
    "duration": 13,
    "start_time": "2022-09-13T02:24:16.256Z"
   },
   {
    "duration": 11,
    "start_time": "2022-09-13T02:24:16.272Z"
   },
   {
    "duration": 13,
    "start_time": "2022-09-13T02:24:16.284Z"
   },
   {
    "duration": 6,
    "start_time": "2022-09-13T02:24:16.299Z"
   },
   {
    "duration": 16,
    "start_time": "2022-09-13T02:24:16.307Z"
   },
   {
    "duration": 12,
    "start_time": "2022-09-13T02:24:16.325Z"
   },
   {
    "duration": 12,
    "start_time": "2022-09-13T02:24:16.339Z"
   },
   {
    "duration": 27,
    "start_time": "2022-09-13T02:24:16.352Z"
   },
   {
    "duration": 8,
    "start_time": "2022-09-13T02:24:16.381Z"
   },
   {
    "duration": 10,
    "start_time": "2022-09-13T02:24:16.391Z"
   },
   {
    "duration": 20,
    "start_time": "2022-09-13T02:24:16.402Z"
   },
   {
    "duration": 198,
    "start_time": "2022-09-13T02:24:16.424Z"
   },
   {
    "duration": 4,
    "start_time": "2022-09-13T02:24:16.624Z"
   },
   {
    "duration": 402,
    "start_time": "2022-09-13T02:24:16.630Z"
   },
   {
    "duration": 423,
    "start_time": "2022-09-13T02:24:17.034Z"
   },
   {
    "duration": 11,
    "start_time": "2022-09-13T02:24:17.459Z"
   },
   {
    "duration": 508,
    "start_time": "2022-09-13T02:24:17.471Z"
   },
   {
    "duration": 61,
    "start_time": "2022-09-13T02:24:17.981Z"
   },
   {
    "duration": 3,
    "start_time": "2022-09-13T02:24:18.044Z"
   },
   {
    "duration": 8,
    "start_time": "2022-09-13T02:24:18.050Z"
   },
   {
    "duration": 21,
    "start_time": "2022-09-13T02:24:18.059Z"
   },
   {
    "duration": 38,
    "start_time": "2022-09-13T02:24:18.081Z"
   },
   {
    "duration": 4,
    "start_time": "2022-09-13T02:24:18.121Z"
   },
   {
    "duration": 18,
    "start_time": "2022-09-13T02:24:18.127Z"
   },
   {
    "duration": 1782,
    "start_time": "2022-09-13T02:24:49.736Z"
   },
   {
    "duration": 764,
    "start_time": "2022-09-13T02:24:51.520Z"
   },
   {
    "duration": 47,
    "start_time": "2022-09-13T02:24:52.286Z"
   },
   {
    "duration": 22,
    "start_time": "2022-09-13T02:24:52.335Z"
   },
   {
    "duration": 18,
    "start_time": "2022-09-13T02:24:52.359Z"
   },
   {
    "duration": 4,
    "start_time": "2022-09-13T02:24:52.379Z"
   },
   {
    "duration": 43,
    "start_time": "2022-09-13T02:24:52.385Z"
   },
   {
    "duration": 7,
    "start_time": "2022-09-13T02:24:52.430Z"
   },
   {
    "duration": 18,
    "start_time": "2022-09-13T02:24:52.439Z"
   },
   {
    "duration": 6,
    "start_time": "2022-09-13T02:24:52.460Z"
   },
   {
    "duration": 13,
    "start_time": "2022-09-13T02:24:52.467Z"
   },
   {
    "duration": 3,
    "start_time": "2022-09-13T02:24:52.482Z"
   },
   {
    "duration": 10,
    "start_time": "2022-09-13T02:24:52.486Z"
   },
   {
    "duration": 3,
    "start_time": "2022-09-13T02:24:52.497Z"
   },
   {
    "duration": 28,
    "start_time": "2022-09-13T02:24:52.502Z"
   },
   {
    "duration": 28,
    "start_time": "2022-09-13T02:24:52.532Z"
   },
   {
    "duration": 7,
    "start_time": "2022-09-13T02:24:52.562Z"
   },
   {
    "duration": 12,
    "start_time": "2022-09-13T02:24:52.571Z"
   },
   {
    "duration": 9,
    "start_time": "2022-09-13T02:24:52.585Z"
   },
   {
    "duration": 201,
    "start_time": "2022-09-13T02:24:52.595Z"
   },
   {
    "duration": 3,
    "start_time": "2022-09-13T02:24:52.798Z"
   },
   {
    "duration": 404,
    "start_time": "2022-09-13T02:24:52.803Z"
   },
   {
    "duration": 509,
    "start_time": "2022-09-13T02:24:53.208Z"
   },
   {
    "duration": 12,
    "start_time": "2022-09-13T02:24:53.722Z"
   },
   {
    "duration": 490,
    "start_time": "2022-09-13T02:24:53.735Z"
   },
   {
    "duration": 22,
    "start_time": "2022-09-13T02:24:54.227Z"
   },
   {
    "duration": 3,
    "start_time": "2022-09-13T02:24:54.251Z"
   },
   {
    "duration": 13,
    "start_time": "2022-09-13T02:24:54.256Z"
   },
   {
    "duration": 24,
    "start_time": "2022-09-13T02:24:54.270Z"
   },
   {
    "duration": 50,
    "start_time": "2022-09-13T02:24:54.296Z"
   },
   {
    "duration": 5,
    "start_time": "2022-09-13T02:24:54.347Z"
   },
   {
    "duration": 21,
    "start_time": "2022-09-13T02:24:54.354Z"
   },
   {
    "duration": 34322,
    "start_time": "2022-09-13T02:24:54.377Z"
   },
   {
    "duration": 49453,
    "start_time": "2022-09-13T02:25:28.700Z"
   },
   {
    "duration": 1369,
    "start_time": "2022-09-13T02:26:18.155Z"
   },
   {
    "duration": 197,
    "start_time": "2022-09-13T02:26:19.526Z"
   },
   {
    "duration": 0,
    "start_time": "2022-09-13T02:26:19.724Z"
   },
   {
    "duration": 270,
    "start_time": "2022-09-13T02:26:24.669Z"
   },
   {
    "duration": 26,
    "start_time": "2022-09-13T02:27:42.649Z"
   },
   {
    "duration": 276,
    "start_time": "2022-09-13T02:27:54.216Z"
   },
   {
    "duration": 49,
    "start_time": "2022-09-13T02:29:56.812Z"
   },
   {
    "duration": 24,
    "start_time": "2022-09-13T02:30:05.876Z"
   },
   {
    "duration": 40,
    "start_time": "2022-09-13T02:31:14.931Z"
   },
   {
    "duration": 933,
    "start_time": "2022-09-13T02:33:20.152Z"
   },
   {
    "duration": 37,
    "start_time": "2022-09-13T02:33:46.262Z"
   },
   {
    "duration": 1249,
    "start_time": "2022-09-13T02:34:41.133Z"
   },
   {
    "duration": 779,
    "start_time": "2022-09-13T02:34:42.384Z"
   },
   {
    "duration": 43,
    "start_time": "2022-09-13T02:34:43.165Z"
   },
   {
    "duration": 33,
    "start_time": "2022-09-13T02:34:43.210Z"
   },
   {
    "duration": 15,
    "start_time": "2022-09-13T02:34:43.245Z"
   },
   {
    "duration": 4,
    "start_time": "2022-09-13T02:34:43.261Z"
   },
   {
    "duration": 19,
    "start_time": "2022-09-13T02:34:43.267Z"
   },
   {
    "duration": 7,
    "start_time": "2022-09-13T02:34:43.287Z"
   },
   {
    "duration": 32,
    "start_time": "2022-09-13T02:34:43.295Z"
   },
   {
    "duration": 6,
    "start_time": "2022-09-13T02:34:43.329Z"
   },
   {
    "duration": 9,
    "start_time": "2022-09-13T02:34:43.337Z"
   },
   {
    "duration": 3,
    "start_time": "2022-09-13T02:34:43.348Z"
   },
   {
    "duration": 14,
    "start_time": "2022-09-13T02:34:43.353Z"
   },
   {
    "duration": 3,
    "start_time": "2022-09-13T02:34:43.369Z"
   },
   {
    "duration": 8,
    "start_time": "2022-09-13T02:34:43.374Z"
   },
   {
    "duration": 56,
    "start_time": "2022-09-13T02:34:43.384Z"
   },
   {
    "duration": 2,
    "start_time": "2022-09-13T02:34:43.442Z"
   },
   {
    "duration": 8,
    "start_time": "2022-09-13T02:34:43.445Z"
   },
   {
    "duration": 9,
    "start_time": "2022-09-13T02:34:43.454Z"
   },
   {
    "duration": 199,
    "start_time": "2022-09-13T02:34:43.465Z"
   },
   {
    "duration": 4,
    "start_time": "2022-09-13T02:34:43.666Z"
   },
   {
    "duration": 395,
    "start_time": "2022-09-13T02:34:43.672Z"
   },
   {
    "duration": 428,
    "start_time": "2022-09-13T02:34:44.069Z"
   },
   {
    "duration": 11,
    "start_time": "2022-09-13T02:34:44.499Z"
   },
   {
    "duration": 483,
    "start_time": "2022-09-13T02:34:44.512Z"
   },
   {
    "duration": 29,
    "start_time": "2022-09-13T02:34:44.996Z"
   },
   {
    "duration": 6,
    "start_time": "2022-09-13T02:34:45.027Z"
   },
   {
    "duration": 13,
    "start_time": "2022-09-13T02:34:45.034Z"
   },
   {
    "duration": 26,
    "start_time": "2022-09-13T02:34:45.049Z"
   },
   {
    "duration": 53,
    "start_time": "2022-09-13T02:34:45.077Z"
   },
   {
    "duration": 34215,
    "start_time": "2022-09-13T02:34:45.132Z"
   },
   {
    "duration": 49200,
    "start_time": "2022-09-13T02:35:19.348Z"
   },
   {
    "duration": 1172,
    "start_time": "2022-09-13T02:36:08.550Z"
   },
   {
    "duration": 284,
    "start_time": "2022-09-13T02:36:09.724Z"
   },
   {
    "duration": 8,
    "start_time": "2022-09-13T02:37:46.730Z"
   },
   {
    "duration": 7,
    "start_time": "2022-09-13T02:37:47.371Z"
   },
   {
    "duration": 19,
    "start_time": "2022-09-13T02:38:00.294Z"
   },
   {
    "duration": 281,
    "start_time": "2022-09-13T02:38:05.818Z"
   },
   {
    "duration": 295,
    "start_time": "2022-09-13T02:38:25.044Z"
   },
   {
    "duration": 32,
    "start_time": "2022-09-13T02:39:20.904Z"
   },
   {
    "duration": 20,
    "start_time": "2022-09-13T02:39:31.251Z"
   },
   {
    "duration": 276,
    "start_time": "2022-09-13T02:39:36.899Z"
   },
   {
    "duration": 35,
    "start_time": "2022-09-13T02:39:49.395Z"
   },
   {
    "duration": 116,
    "start_time": "2022-09-13T02:39:54.381Z"
   },
   {
    "duration": 1207,
    "start_time": "2022-09-13T02:40:16.076Z"
   },
   {
    "duration": 766,
    "start_time": "2022-09-13T02:40:17.285Z"
   },
   {
    "duration": 39,
    "start_time": "2022-09-13T02:40:18.052Z"
   },
   {
    "duration": 37,
    "start_time": "2022-09-13T02:40:18.092Z"
   },
   {
    "duration": 16,
    "start_time": "2022-09-13T02:40:18.132Z"
   },
   {
    "duration": 4,
    "start_time": "2022-09-13T02:40:18.149Z"
   },
   {
    "duration": 26,
    "start_time": "2022-09-13T02:40:18.154Z"
   },
   {
    "duration": 7,
    "start_time": "2022-09-13T02:40:18.182Z"
   },
   {
    "duration": 10,
    "start_time": "2022-09-13T02:40:18.191Z"
   },
   {
    "duration": 7,
    "start_time": "2022-09-13T02:40:18.222Z"
   },
   {
    "duration": 14,
    "start_time": "2022-09-13T02:40:18.230Z"
   },
   {
    "duration": 5,
    "start_time": "2022-09-13T02:40:18.246Z"
   },
   {
    "duration": 10,
    "start_time": "2022-09-13T02:40:18.252Z"
   },
   {
    "duration": 2,
    "start_time": "2022-09-13T02:40:18.265Z"
   },
   {
    "duration": 9,
    "start_time": "2022-09-13T02:40:18.269Z"
   },
   {
    "duration": 46,
    "start_time": "2022-09-13T02:40:18.280Z"
   },
   {
    "duration": 8,
    "start_time": "2022-09-13T02:40:18.328Z"
   },
   {
    "duration": 8,
    "start_time": "2022-09-13T02:40:18.337Z"
   },
   {
    "duration": 7,
    "start_time": "2022-09-13T02:40:18.346Z"
   },
   {
    "duration": 202,
    "start_time": "2022-09-13T02:40:18.354Z"
   },
   {
    "duration": 4,
    "start_time": "2022-09-13T02:40:18.557Z"
   },
   {
    "duration": 435,
    "start_time": "2022-09-13T02:40:18.562Z"
   },
   {
    "duration": 445,
    "start_time": "2022-09-13T02:40:18.999Z"
   },
   {
    "duration": 11,
    "start_time": "2022-09-13T02:40:19.445Z"
   },
   {
    "duration": 488,
    "start_time": "2022-09-13T02:40:19.457Z"
   },
   {
    "duration": 42,
    "start_time": "2022-09-13T02:40:19.947Z"
   },
   {
    "duration": 3,
    "start_time": "2022-09-13T02:40:19.990Z"
   },
   {
    "duration": 5,
    "start_time": "2022-09-13T02:40:19.995Z"
   },
   {
    "duration": 23,
    "start_time": "2022-09-13T02:40:20.002Z"
   },
   {
    "duration": 129,
    "start_time": "2022-09-13T02:40:20.026Z"
   },
   {
    "duration": 0,
    "start_time": "2022-09-13T02:40:20.156Z"
   },
   {
    "duration": 0,
    "start_time": "2022-09-13T02:40:20.158Z"
   },
   {
    "duration": 0,
    "start_time": "2022-09-13T02:40:20.159Z"
   },
   {
    "duration": 0,
    "start_time": "2022-09-13T02:40:20.160Z"
   },
   {
    "duration": 1249,
    "start_time": "2022-09-13T02:40:41.376Z"
   },
   {
    "duration": 766,
    "start_time": "2022-09-13T02:40:42.627Z"
   },
   {
    "duration": 53,
    "start_time": "2022-09-13T02:40:43.395Z"
   },
   {
    "duration": 22,
    "start_time": "2022-09-13T02:40:43.450Z"
   },
   {
    "duration": 16,
    "start_time": "2022-09-13T02:40:43.473Z"
   },
   {
    "duration": 4,
    "start_time": "2022-09-13T02:40:43.491Z"
   },
   {
    "duration": 37,
    "start_time": "2022-09-13T02:40:43.497Z"
   },
   {
    "duration": 7,
    "start_time": "2022-09-13T02:40:43.535Z"
   },
   {
    "duration": 13,
    "start_time": "2022-09-13T02:40:43.543Z"
   },
   {
    "duration": 6,
    "start_time": "2022-09-13T02:40:43.558Z"
   },
   {
    "duration": 13,
    "start_time": "2022-09-13T02:40:43.566Z"
   },
   {
    "duration": 3,
    "start_time": "2022-09-13T02:40:43.580Z"
   },
   {
    "duration": 42,
    "start_time": "2022-09-13T02:40:43.585Z"
   },
   {
    "duration": 4,
    "start_time": "2022-09-13T02:40:43.629Z"
   },
   {
    "duration": 14,
    "start_time": "2022-09-13T02:40:43.635Z"
   },
   {
    "duration": 37,
    "start_time": "2022-09-13T02:40:43.651Z"
   },
   {
    "duration": 8,
    "start_time": "2022-09-13T02:40:43.690Z"
   },
   {
    "duration": 11,
    "start_time": "2022-09-13T02:40:43.700Z"
   },
   {
    "duration": 6,
    "start_time": "2022-09-13T02:40:43.722Z"
   },
   {
    "duration": 210,
    "start_time": "2022-09-13T02:40:43.730Z"
   },
   {
    "duration": 5,
    "start_time": "2022-09-13T02:40:43.942Z"
   },
   {
    "duration": 436,
    "start_time": "2022-09-13T02:40:43.948Z"
   },
   {
    "duration": 442,
    "start_time": "2022-09-13T02:40:44.387Z"
   },
   {
    "duration": 11,
    "start_time": "2022-09-13T02:40:44.831Z"
   },
   {
    "duration": 538,
    "start_time": "2022-09-13T02:40:44.843Z"
   },
   {
    "duration": 44,
    "start_time": "2022-09-13T02:40:45.383Z"
   },
   {
    "duration": 4,
    "start_time": "2022-09-13T02:40:45.429Z"
   },
   {
    "duration": 5,
    "start_time": "2022-09-13T02:40:45.437Z"
   },
   {
    "duration": 13,
    "start_time": "2022-09-13T02:40:45.444Z"
   },
   {
    "duration": 33,
    "start_time": "2022-09-13T02:40:45.459Z"
   },
   {
    "duration": 34565,
    "start_time": "2022-09-13T02:40:45.494Z"
   },
   {
    "duration": 49555,
    "start_time": "2022-09-13T02:41:20.061Z"
   },
   {
    "duration": 1210,
    "start_time": "2022-09-13T02:42:09.617Z"
   },
   {
    "duration": 372,
    "start_time": "2022-09-13T02:42:10.829Z"
   },
   {
    "duration": 48,
    "start_time": "2022-09-13T02:44:22.640Z"
   },
   {
    "duration": 49,
    "start_time": "2022-09-13T02:44:38.489Z"
   },
   {
    "duration": 114,
    "start_time": "2022-09-13T02:44:46.633Z"
   },
   {
    "duration": 31,
    "start_time": "2022-09-13T02:46:03.826Z"
   },
   {
    "duration": 39,
    "start_time": "2022-09-13T02:48:14.812Z"
   },
   {
    "duration": 48,
    "start_time": "2022-09-13T02:48:22.575Z"
   },
   {
    "duration": 34,
    "start_time": "2022-09-13T02:49:03.585Z"
   },
   {
    "duration": 25,
    "start_time": "2022-09-13T02:50:02.657Z"
   },
   {
    "duration": 26,
    "start_time": "2022-09-13T02:50:37.789Z"
   },
   {
    "duration": 19,
    "start_time": "2022-09-13T02:51:25.171Z"
   },
   {
    "duration": 15,
    "start_time": "2022-09-13T02:51:31.455Z"
   },
   {
    "duration": 18,
    "start_time": "2022-09-13T02:52:31.871Z"
   },
   {
    "duration": 20,
    "start_time": "2022-09-13T02:52:35.301Z"
   },
   {
    "duration": 22,
    "start_time": "2022-09-13T02:52:48.106Z"
   },
   {
    "duration": 29,
    "start_time": "2022-09-13T02:53:14.307Z"
   },
   {
    "duration": 21,
    "start_time": "2022-09-13T02:54:58.690Z"
   },
   {
    "duration": 33,
    "start_time": "2022-09-13T02:55:19.448Z"
   },
   {
    "duration": 34,
    "start_time": "2022-09-13T02:55:40.615Z"
   },
   {
    "duration": 32,
    "start_time": "2022-09-13T02:56:32.042Z"
   },
   {
    "duration": 16,
    "start_time": "2022-09-13T03:08:12.347Z"
   },
   {
    "duration": 26,
    "start_time": "2022-09-13T03:08:30.462Z"
   },
   {
    "duration": 19,
    "start_time": "2022-09-13T03:08:42.921Z"
   },
   {
    "duration": 339,
    "start_time": "2022-09-13T03:08:48.885Z"
   },
   {
    "duration": 1273,
    "start_time": "2022-09-13T03:09:31.220Z"
   },
   {
    "duration": 758,
    "start_time": "2022-09-13T03:09:32.495Z"
   },
   {
    "duration": 40,
    "start_time": "2022-09-13T03:09:33.254Z"
   },
   {
    "duration": 39,
    "start_time": "2022-09-13T03:09:33.295Z"
   },
   {
    "duration": 16,
    "start_time": "2022-09-13T03:09:33.336Z"
   },
   {
    "duration": 4,
    "start_time": "2022-09-13T03:09:33.354Z"
   },
   {
    "duration": 19,
    "start_time": "2022-09-13T03:09:33.359Z"
   },
   {
    "duration": 6,
    "start_time": "2022-09-13T03:09:33.380Z"
   },
   {
    "duration": 11,
    "start_time": "2022-09-13T03:09:33.387Z"
   },
   {
    "duration": 25,
    "start_time": "2022-09-13T03:09:33.400Z"
   },
   {
    "duration": 9,
    "start_time": "2022-09-13T03:09:33.426Z"
   },
   {
    "duration": 2,
    "start_time": "2022-09-13T03:09:33.437Z"
   },
   {
    "duration": 15,
    "start_time": "2022-09-13T03:09:33.441Z"
   },
   {
    "duration": 3,
    "start_time": "2022-09-13T03:09:33.459Z"
   },
   {
    "duration": 9,
    "start_time": "2022-09-13T03:09:33.463Z"
   },
   {
    "duration": 48,
    "start_time": "2022-09-13T03:09:33.474Z"
   },
   {
    "duration": 8,
    "start_time": "2022-09-13T03:09:33.524Z"
   },
   {
    "duration": 10,
    "start_time": "2022-09-13T03:09:33.533Z"
   },
   {
    "duration": 8,
    "start_time": "2022-09-13T03:09:33.544Z"
   },
   {
    "duration": 201,
    "start_time": "2022-09-13T03:09:33.553Z"
   },
   {
    "duration": 3,
    "start_time": "2022-09-13T03:09:33.756Z"
   },
   {
    "duration": 376,
    "start_time": "2022-09-13T03:09:33.760Z"
   },
   {
    "duration": 434,
    "start_time": "2022-09-13T03:09:34.137Z"
   },
   {
    "duration": 10,
    "start_time": "2022-09-13T03:09:34.572Z"
   },
   {
    "duration": 478,
    "start_time": "2022-09-13T03:09:34.583Z"
   },
   {
    "duration": 67,
    "start_time": "2022-09-13T03:09:35.063Z"
   },
   {
    "duration": 4,
    "start_time": "2022-09-13T03:09:35.132Z"
   },
   {
    "duration": 8,
    "start_time": "2022-09-13T03:09:35.138Z"
   },
   {
    "duration": 16,
    "start_time": "2022-09-13T03:09:35.147Z"
   },
   {
    "duration": 36,
    "start_time": "2022-09-13T03:09:35.165Z"
   },
   {
    "duration": 34196,
    "start_time": "2022-09-13T03:09:35.203Z"
   },
   {
    "duration": 49267,
    "start_time": "2022-09-13T03:10:09.401Z"
   },
   {
    "duration": 1054,
    "start_time": "2022-09-13T03:10:58.670Z"
   },
   {
    "duration": 370,
    "start_time": "2022-09-13T03:10:59.726Z"
   },
   {
    "duration": 1284,
    "start_time": "2022-09-13T03:22:02.118Z"
   },
   {
    "duration": 767,
    "start_time": "2022-09-13T03:22:03.404Z"
   },
   {
    "duration": 41,
    "start_time": "2022-09-13T03:22:04.173Z"
   },
   {
    "duration": 21,
    "start_time": "2022-09-13T03:22:04.223Z"
   },
   {
    "duration": 15,
    "start_time": "2022-09-13T03:22:04.246Z"
   },
   {
    "duration": 4,
    "start_time": "2022-09-13T03:22:04.263Z"
   },
   {
    "duration": 17,
    "start_time": "2022-09-13T03:22:04.268Z"
   },
   {
    "duration": 6,
    "start_time": "2022-09-13T03:22:04.287Z"
   },
   {
    "duration": 8,
    "start_time": "2022-09-13T03:22:04.321Z"
   },
   {
    "duration": 6,
    "start_time": "2022-09-13T03:22:04.331Z"
   },
   {
    "duration": 12,
    "start_time": "2022-09-13T03:22:04.339Z"
   },
   {
    "duration": 3,
    "start_time": "2022-09-13T03:22:04.352Z"
   },
   {
    "duration": 13,
    "start_time": "2022-09-13T03:22:04.356Z"
   },
   {
    "duration": 3,
    "start_time": "2022-09-13T03:22:04.370Z"
   },
   {
    "duration": 10,
    "start_time": "2022-09-13T03:22:04.374Z"
   },
   {
    "duration": 50,
    "start_time": "2022-09-13T03:22:04.385Z"
   },
   {
    "duration": 7,
    "start_time": "2022-09-13T03:22:04.437Z"
   },
   {
    "duration": 8,
    "start_time": "2022-09-13T03:22:04.446Z"
   },
   {
    "duration": 6,
    "start_time": "2022-09-13T03:22:04.455Z"
   },
   {
    "duration": 207,
    "start_time": "2022-09-13T03:22:04.463Z"
   },
   {
    "duration": 4,
    "start_time": "2022-09-13T03:22:04.672Z"
   },
   {
    "duration": 379,
    "start_time": "2022-09-13T03:22:04.678Z"
   },
   {
    "duration": 430,
    "start_time": "2022-09-13T03:22:05.059Z"
   },
   {
    "duration": 10,
    "start_time": "2022-09-13T03:22:05.491Z"
   },
   {
    "duration": 491,
    "start_time": "2022-09-13T03:22:05.502Z"
   },
   {
    "duration": 64,
    "start_time": "2022-09-13T03:22:05.994Z"
   },
   {
    "duration": 3,
    "start_time": "2022-09-13T03:22:06.059Z"
   },
   {
    "duration": 7,
    "start_time": "2022-09-13T03:22:06.065Z"
   },
   {
    "duration": 11,
    "start_time": "2022-09-13T03:22:06.074Z"
   },
   {
    "duration": 38,
    "start_time": "2022-09-13T03:22:06.087Z"
   },
   {
    "duration": 34597,
    "start_time": "2022-09-13T03:22:06.126Z"
   },
   {
    "duration": 49517,
    "start_time": "2022-09-13T03:22:40.724Z"
   },
   {
    "duration": 880,
    "start_time": "2022-09-13T03:23:30.243Z"
   },
   {
    "duration": 369,
    "start_time": "2022-09-13T03:23:31.125Z"
   }
  ],
  "kernelspec": {
   "display_name": "Python 3 (ipykernel)",
   "language": "python",
   "name": "python3"
  },
  "language_info": {
   "codemirror_mode": {
    "name": "ipython",
    "version": 3
   },
   "file_extension": ".py",
   "mimetype": "text/x-python",
   "name": "python",
   "nbconvert_exporter": "python",
   "pygments_lexer": "ipython3",
   "version": "3.9.13"
  },
  "toc": {
   "base_numbering": 1,
   "nav_menu": {},
   "number_sections": true,
   "sideBar": true,
   "skip_h1_title": true,
   "title_cell": "Table of Contents",
   "title_sidebar": "Contents",
   "toc_cell": false,
   "toc_position": {
    "height": "calc(100% - 180px)",
    "left": "10px",
    "top": "150px",
    "width": "272px"
   },
   "toc_section_display": true,
   "toc_window_display": true
  }
 },
 "nbformat": 4,
 "nbformat_minor": 2
}
