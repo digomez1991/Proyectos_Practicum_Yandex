{
 "cells": [
  {
   "cell_type": "markdown",
   "metadata": {},
   "source": [
    "## Tarifas de Prepago Megaline"
   ]
  },
  {
   "cell_type": "markdown",
   "metadata": {},
   "source": [
    "## 1. Contenido"
   ]
  },
  {
   "cell_type": "markdown",
   "metadata": {},
   "source": [
    "\n",
    "* [1 Contenido](#content)\n",
    "* [2 Introducción](#intro)\n",
    "* [3 Inicialización](#inic)\n",
    "    * [3.1 Cargar Librerias](#library)\n",
    "    * [3.2 Cargar Datos](#datos)\n",
    "* [4 Exploración y preparación los datos](#exp)   \n",
    "    * [4.1 Calls](#calls)\n",
    "    * [4.2 Internet](#internet)\n",
    "    * [4.3 Messages](#messages)\n",
    "    * [4.4 Plans](#plans)  \n",
    "    * [4.5 Users](#users)      \n",
    "* [5 Enriquecer los datos](#enriquecer)\n",
    "    * [5.1 Número de llamadas y minutos utilizados](#calls4month)\n",
    "    * [5.2 Cantidad de mensajes enviados](#messages4month)\n",
    "    * [5.3 Volumen de datos utilizados](#gb4month)\n",
    "    * [5.4 Ingresos mensuales](#income)  \n",
    "* [6 Análisis de los datos](#analisis)\n",
    "    * [6.1 Análisis plan ultimate](#ultimate)\n",
    "    * [6.2 Análisis plan surf](#surf)\n",
    "    * [6.3 Conclusiones preliminares](#conclusion1)\n",
    "* [7 Prueba de hipótesis](#hipotesis)    \n",
    "    * [7.1 Ingreso promedio de las tarifas](#tarifas)\n",
    "    * [7.2 Ingreso promedio del estado Nueva York-Nueva Jersey vs otras regiones](#estados)\n",
    "* [8 Conclusión general](#end)"
   ]
  },
  {
   "cell_type": "markdown",
   "metadata": {},
   "source": [
    "##  2. Introducción"
   ]
  },
  {
   "cell_type": "markdown",
   "metadata": {},
   "source": [
    "En el presente proyecto se procederá a realizar un análisis para el operador de telecomunicaciones Megaline con el objetivo de averiguar cuál de sus dos tarifas de prepago, Surf y Ultimate, genera mayores ingresos. \n",
    "\n",
    "Se realizará un análisis preliminar en base a una selección de 500 clientes, con los datos de quienes son, de donde son, tarifa que utilizan y la cantidad de mensajes, llamadas y datos utilizados durante el año 2018.\n",
    "\n",
    "Continuaremos con un enriquecimiento de los datos para posteriormente llevar a cabo una prueba de hipótesis de los ingresos promedios de ambas tarifas para finalmente llegar a una conclusion general sobre este tema."
   ]
  },
  {
   "cell_type": "markdown",
   "metadata": {},
   "source": [
    "## 3. Inicialización"
   ]
  },
  {
   "cell_type": "markdown",
   "metadata": {},
   "source": [
    "### 3.1. Cargar librerias"
   ]
  },
  {
   "cell_type": "markdown",
   "metadata": {},
   "source": [
    "Se procede a cargar las librerías que se utilizaran en el proyecto."
   ]
  },
  {
   "cell_type": "code",
   "execution_count": 1,
   "metadata": {},
   "outputs": [],
   "source": [
    "import pandas as pd\n",
    "import math as mt\n",
    "import numpy as np\n",
    "from scipy import stats as st\n",
    "import matplotlib.pyplot as plt"
   ]
  },
  {
   "cell_type": "markdown",
   "metadata": {},
   "source": [
    "### 3.2. Cargar datos"
   ]
  },
  {
   "cell_type": "markdown",
   "metadata": {},
   "source": [
    "Se procede a cargar los datos."
   ]
  },
  {
   "cell_type": "code",
   "execution_count": 2,
   "metadata": {},
   "outputs": [],
   "source": [
    "calls = pd.read_csv(\"datasets/megaline_calls.csv\")\n",
    "internet = pd.read_csv(\"datasets/megaline_internet.csv\")\n",
    "messages = pd.read_csv(\"datasets/megaline_messages.csv\")\n",
    "plans = pd.read_csv(\"datasets/megaline_plans.csv\")\n",
    "users = pd.read_csv(\"datasets/megaline_users.csv\")"
   ]
  },
  {
   "cell_type": "markdown",
   "metadata": {},
   "source": [
    "## 4. Exploración y preparación los datos"
   ]
  },
  {
   "cell_type": "markdown",
   "metadata": {},
   "source": [
    "A continuación, definiremos una serie de funciones que nos ayudaran a realizar la preparación de los datos para posteriormente buscar valores duplicados, ausentes o valores que no tengan un sentido lógico dentro del contexto en que se encuentran. Dentro de la misma sección procederemos a explorar los datos y corregir los problemas que se encuentren en cada dataset."
   ]
  },
  {
   "cell_type": "code",
   "execution_count": 3,
   "metadata": {},
   "outputs": [],
   "source": [
    "def prep(data):\n",
    "    for column in data:\n",
    "        print(data[column].describe())\n",
    "        print()"
   ]
  },
  {
   "cell_type": "code",
   "execution_count": 4,
   "metadata": {},
   "outputs": [],
   "source": [
    "def date_conv(data,column):\n",
    "    data[column] = pd.to_datetime(data[column], format='%Y-%m-%d')"
   ]
  },
  {
   "cell_type": "code",
   "execution_count": 5,
   "metadata": {},
   "outputs": [],
   "source": [
    "def percentaje(data,column,value):\n",
    "    print(\"{:.2%}\".format(len(data[data[column]==value])/len(data)))"
   ]
  },
  {
   "cell_type": "markdown",
   "metadata": {},
   "source": [
    "### 4.1. Calls"
   ]
  },
  {
   "cell_type": "code",
   "execution_count": 6,
   "metadata": {},
   "outputs": [
    {
     "name": "stdout",
     "output_type": "stream",
     "text": [
      "<class 'pandas.core.frame.DataFrame'>\n",
      "RangeIndex: 137735 entries, 0 to 137734\n",
      "Data columns (total 4 columns):\n",
      " #   Column     Non-Null Count   Dtype  \n",
      "---  ------     --------------   -----  \n",
      " 0   id         137735 non-null  object \n",
      " 1   user_id    137735 non-null  int64  \n",
      " 2   call_date  137735 non-null  object \n",
      " 3   duration   137735 non-null  float64\n",
      "dtypes: float64(1), int64(1), object(2)\n",
      "memory usage: 4.2+ MB\n"
     ]
    }
   ],
   "source": [
    "calls.info()"
   ]
  },
  {
   "cell_type": "code",
   "execution_count": 7,
   "metadata": {},
   "outputs": [
    {
     "data": {
      "text/html": [
       "<div>\n",
       "<style scoped>\n",
       "    .dataframe tbody tr th:only-of-type {\n",
       "        vertical-align: middle;\n",
       "    }\n",
       "\n",
       "    .dataframe tbody tr th {\n",
       "        vertical-align: top;\n",
       "    }\n",
       "\n",
       "    .dataframe thead th {\n",
       "        text-align: right;\n",
       "    }\n",
       "</style>\n",
       "<table border=\"1\" class=\"dataframe\">\n",
       "  <thead>\n",
       "    <tr style=\"text-align: right;\">\n",
       "      <th></th>\n",
       "      <th>id</th>\n",
       "      <th>user_id</th>\n",
       "      <th>call_date</th>\n",
       "      <th>duration</th>\n",
       "    </tr>\n",
       "  </thead>\n",
       "  <tbody>\n",
       "    <tr>\n",
       "      <th>0</th>\n",
       "      <td>1000_93</td>\n",
       "      <td>1000</td>\n",
       "      <td>2018-12-27</td>\n",
       "      <td>8.52</td>\n",
       "    </tr>\n",
       "    <tr>\n",
       "      <th>1</th>\n",
       "      <td>1000_145</td>\n",
       "      <td>1000</td>\n",
       "      <td>2018-12-27</td>\n",
       "      <td>13.66</td>\n",
       "    </tr>\n",
       "    <tr>\n",
       "      <th>2</th>\n",
       "      <td>1000_247</td>\n",
       "      <td>1000</td>\n",
       "      <td>2018-12-27</td>\n",
       "      <td>14.48</td>\n",
       "    </tr>\n",
       "    <tr>\n",
       "      <th>3</th>\n",
       "      <td>1000_309</td>\n",
       "      <td>1000</td>\n",
       "      <td>2018-12-28</td>\n",
       "      <td>5.76</td>\n",
       "    </tr>\n",
       "    <tr>\n",
       "      <th>4</th>\n",
       "      <td>1000_380</td>\n",
       "      <td>1000</td>\n",
       "      <td>2018-12-30</td>\n",
       "      <td>4.22</td>\n",
       "    </tr>\n",
       "  </tbody>\n",
       "</table>\n",
       "</div>"
      ],
      "text/plain": [
       "         id  user_id   call_date  duration\n",
       "0   1000_93     1000  2018-12-27      8.52\n",
       "1  1000_145     1000  2018-12-27     13.66\n",
       "2  1000_247     1000  2018-12-27     14.48\n",
       "3  1000_309     1000  2018-12-28      5.76\n",
       "4  1000_380     1000  2018-12-30      4.22"
      ]
     },
     "execution_count": 7,
     "metadata": {},
     "output_type": "execute_result"
    }
   ],
   "source": [
    "calls.head()"
   ]
  },
  {
   "cell_type": "code",
   "execution_count": 8,
   "metadata": {},
   "outputs": [
    {
     "name": "stdout",
     "output_type": "stream",
     "text": [
      "count      137735\n",
      "unique     137735\n",
      "top       1000_93\n",
      "freq            1\n",
      "Name: id, dtype: object\n",
      "\n",
      "count    137735.000000\n",
      "mean       1247.658046\n",
      "std         139.416268\n",
      "min        1000.000000\n",
      "25%        1128.000000\n",
      "50%        1247.000000\n",
      "75%        1365.000000\n",
      "max        1499.000000\n",
      "Name: user_id, dtype: float64\n",
      "\n",
      "count         137735\n",
      "unique           351\n",
      "top       2018-12-27\n",
      "freq            1091\n",
      "Name: call_date, dtype: object\n",
      "\n",
      "count    137735.000000\n",
      "mean          6.745927\n",
      "std           5.839241\n",
      "min           0.000000\n",
      "25%           1.290000\n",
      "50%           5.980000\n",
      "75%          10.690000\n",
      "max          37.600000\n",
      "Name: duration, dtype: float64\n",
      "\n"
     ]
    }
   ],
   "source": [
    "prep(calls)"
   ]
  },
  {
   "cell_type": "code",
   "execution_count": 9,
   "metadata": {},
   "outputs": [
    {
     "data": {
      "text/plain": [
       "481"
      ]
     },
     "execution_count": 9,
     "metadata": {},
     "output_type": "execute_result"
    }
   ],
   "source": [
    "len(calls[\"user_id\"].unique())"
   ]
  },
  {
   "cell_type": "code",
   "execution_count": 10,
   "metadata": {},
   "outputs": [
    {
     "name": "stdout",
     "output_type": "stream",
     "text": [
      "19.48%\n"
     ]
    }
   ],
   "source": [
    "percentaje(calls,\"duration\",0)"
   ]
  },
  {
   "cell_type": "markdown",
   "metadata": {},
   "source": [
    "Observando los datos en \"calls\", no se pueden apreciar datos ausentes, aunque si un tipo erróneo de dato en la columna call_date el cual se cambiará a \"datetime\", por otra parte, se puede apreciar la existencia de una gran cantidad de valores de \"duration\" de 0, alrededor de un 20% de los datos, estos valores pueden representan llamadas perdidas y se mantendrán durante el análisis debido al gran porcentaje de los datos que componen y que su presencia no debe afectar la hipótesis que se quiere comprobar como objetivo del proyecto ya que estas llamadas no afectan a los ingresos por minutos generados por los planes pero podrian dejar afuera a usuarios cuando se haga el cruce con los otros datasets.\n",
    "\n",
    "También podemos apreciar que, aunque se nos otorgó un dataset de 500 usuarios distintos, en el caso de las llamas solamente tenemos el registro de 481 de estos usuarios. Por último, como se menciona que Megaline redondea los segundos a minutos de las llamadas individuales, redondearemos los valores de \"duration\" hacia \"arriba\" según esta indicación."
   ]
  },
  {
   "cell_type": "code",
   "execution_count": 11,
   "metadata": {},
   "outputs": [],
   "source": [
    "date_conv(calls, \"call_date\")"
   ]
  },
  {
   "cell_type": "code",
   "execution_count": 12,
   "metadata": {},
   "outputs": [],
   "source": [
    "calls[\"duration\"] = calls[\"duration\"].apply(mt.ceil)"
   ]
  },
  {
   "cell_type": "code",
   "execution_count": 13,
   "metadata": {},
   "outputs": [
    {
     "name": "stdout",
     "output_type": "stream",
     "text": [
      "<class 'pandas.core.frame.DataFrame'>\n",
      "RangeIndex: 137735 entries, 0 to 137734\n",
      "Data columns (total 4 columns):\n",
      " #   Column     Non-Null Count   Dtype         \n",
      "---  ------     --------------   -----         \n",
      " 0   id         137735 non-null  object        \n",
      " 1   user_id    137735 non-null  int64         \n",
      " 2   call_date  137735 non-null  datetime64[ns]\n",
      " 3   duration   137735 non-null  int64         \n",
      "dtypes: datetime64[ns](1), int64(2), object(1)\n",
      "memory usage: 4.2+ MB\n"
     ]
    }
   ],
   "source": [
    "calls.info()"
   ]
  },
  {
   "cell_type": "code",
   "execution_count": 14,
   "metadata": {},
   "outputs": [
    {
     "data": {
      "text/html": [
       "<div>\n",
       "<style scoped>\n",
       "    .dataframe tbody tr th:only-of-type {\n",
       "        vertical-align: middle;\n",
       "    }\n",
       "\n",
       "    .dataframe tbody tr th {\n",
       "        vertical-align: top;\n",
       "    }\n",
       "\n",
       "    .dataframe thead th {\n",
       "        text-align: right;\n",
       "    }\n",
       "</style>\n",
       "<table border=\"1\" class=\"dataframe\">\n",
       "  <thead>\n",
       "    <tr style=\"text-align: right;\">\n",
       "      <th></th>\n",
       "      <th>id</th>\n",
       "      <th>user_id</th>\n",
       "      <th>call_date</th>\n",
       "      <th>duration</th>\n",
       "    </tr>\n",
       "  </thead>\n",
       "  <tbody>\n",
       "    <tr>\n",
       "      <th>0</th>\n",
       "      <td>1000_93</td>\n",
       "      <td>1000</td>\n",
       "      <td>2018-12-27</td>\n",
       "      <td>9</td>\n",
       "    </tr>\n",
       "    <tr>\n",
       "      <th>1</th>\n",
       "      <td>1000_145</td>\n",
       "      <td>1000</td>\n",
       "      <td>2018-12-27</td>\n",
       "      <td>14</td>\n",
       "    </tr>\n",
       "    <tr>\n",
       "      <th>2</th>\n",
       "      <td>1000_247</td>\n",
       "      <td>1000</td>\n",
       "      <td>2018-12-27</td>\n",
       "      <td>15</td>\n",
       "    </tr>\n",
       "    <tr>\n",
       "      <th>3</th>\n",
       "      <td>1000_309</td>\n",
       "      <td>1000</td>\n",
       "      <td>2018-12-28</td>\n",
       "      <td>6</td>\n",
       "    </tr>\n",
       "    <tr>\n",
       "      <th>4</th>\n",
       "      <td>1000_380</td>\n",
       "      <td>1000</td>\n",
       "      <td>2018-12-30</td>\n",
       "      <td>5</td>\n",
       "    </tr>\n",
       "  </tbody>\n",
       "</table>\n",
       "</div>"
      ],
      "text/plain": [
       "         id  user_id  call_date  duration\n",
       "0   1000_93     1000 2018-12-27         9\n",
       "1  1000_145     1000 2018-12-27        14\n",
       "2  1000_247     1000 2018-12-27        15\n",
       "3  1000_309     1000 2018-12-28         6\n",
       "4  1000_380     1000 2018-12-30         5"
      ]
     },
     "execution_count": 14,
     "metadata": {},
     "output_type": "execute_result"
    }
   ],
   "source": [
    "calls.head()"
   ]
  },
  {
   "cell_type": "markdown",
   "metadata": {},
   "source": [
    "### 4.2. Internet"
   ]
  },
  {
   "cell_type": "code",
   "execution_count": 15,
   "metadata": {},
   "outputs": [
    {
     "name": "stdout",
     "output_type": "stream",
     "text": [
      "<class 'pandas.core.frame.DataFrame'>\n",
      "RangeIndex: 104825 entries, 0 to 104824\n",
      "Data columns (total 4 columns):\n",
      " #   Column        Non-Null Count   Dtype  \n",
      "---  ------        --------------   -----  \n",
      " 0   id            104825 non-null  object \n",
      " 1   user_id       104825 non-null  int64  \n",
      " 2   session_date  104825 non-null  object \n",
      " 3   mb_used       104825 non-null  float64\n",
      "dtypes: float64(1), int64(1), object(2)\n",
      "memory usage: 3.2+ MB\n"
     ]
    }
   ],
   "source": [
    "internet.info()"
   ]
  },
  {
   "cell_type": "code",
   "execution_count": 16,
   "metadata": {},
   "outputs": [
    {
     "data": {
      "text/html": [
       "<div>\n",
       "<style scoped>\n",
       "    .dataframe tbody tr th:only-of-type {\n",
       "        vertical-align: middle;\n",
       "    }\n",
       "\n",
       "    .dataframe tbody tr th {\n",
       "        vertical-align: top;\n",
       "    }\n",
       "\n",
       "    .dataframe thead th {\n",
       "        text-align: right;\n",
       "    }\n",
       "</style>\n",
       "<table border=\"1\" class=\"dataframe\">\n",
       "  <thead>\n",
       "    <tr style=\"text-align: right;\">\n",
       "      <th></th>\n",
       "      <th>id</th>\n",
       "      <th>user_id</th>\n",
       "      <th>session_date</th>\n",
       "      <th>mb_used</th>\n",
       "    </tr>\n",
       "  </thead>\n",
       "  <tbody>\n",
       "    <tr>\n",
       "      <th>0</th>\n",
       "      <td>1000_13</td>\n",
       "      <td>1000</td>\n",
       "      <td>2018-12-29</td>\n",
       "      <td>89.86</td>\n",
       "    </tr>\n",
       "    <tr>\n",
       "      <th>1</th>\n",
       "      <td>1000_204</td>\n",
       "      <td>1000</td>\n",
       "      <td>2018-12-31</td>\n",
       "      <td>0.00</td>\n",
       "    </tr>\n",
       "    <tr>\n",
       "      <th>2</th>\n",
       "      <td>1000_379</td>\n",
       "      <td>1000</td>\n",
       "      <td>2018-12-28</td>\n",
       "      <td>660.40</td>\n",
       "    </tr>\n",
       "    <tr>\n",
       "      <th>3</th>\n",
       "      <td>1000_413</td>\n",
       "      <td>1000</td>\n",
       "      <td>2018-12-26</td>\n",
       "      <td>270.99</td>\n",
       "    </tr>\n",
       "    <tr>\n",
       "      <th>4</th>\n",
       "      <td>1000_442</td>\n",
       "      <td>1000</td>\n",
       "      <td>2018-12-27</td>\n",
       "      <td>880.22</td>\n",
       "    </tr>\n",
       "  </tbody>\n",
       "</table>\n",
       "</div>"
      ],
      "text/plain": [
       "         id  user_id session_date  mb_used\n",
       "0   1000_13     1000   2018-12-29    89.86\n",
       "1  1000_204     1000   2018-12-31     0.00\n",
       "2  1000_379     1000   2018-12-28   660.40\n",
       "3  1000_413     1000   2018-12-26   270.99\n",
       "4  1000_442     1000   2018-12-27   880.22"
      ]
     },
     "execution_count": 16,
     "metadata": {},
     "output_type": "execute_result"
    }
   ],
   "source": [
    "internet.head()"
   ]
  },
  {
   "cell_type": "code",
   "execution_count": 17,
   "metadata": {},
   "outputs": [
    {
     "name": "stdout",
     "output_type": "stream",
     "text": [
      "count      104825\n",
      "unique     104825\n",
      "top       1000_13\n",
      "freq            1\n",
      "Name: id, dtype: object\n",
      "\n",
      "count    104825.000000\n",
      "mean       1242.496361\n",
      "std         142.053913\n",
      "min        1000.000000\n",
      "25%        1122.000000\n",
      "50%        1236.000000\n",
      "75%        1367.000000\n",
      "max        1499.000000\n",
      "Name: user_id, dtype: float64\n",
      "\n",
      "count         104825\n",
      "unique           351\n",
      "top       2018-12-24\n",
      "freq             851\n",
      "Name: session_date, dtype: object\n",
      "\n",
      "count    104825.000000\n",
      "mean        366.713701\n",
      "std         277.170542\n",
      "min           0.000000\n",
      "25%         136.080000\n",
      "50%         343.980000\n",
      "75%         554.610000\n",
      "max        1693.470000\n",
      "Name: mb_used, dtype: float64\n",
      "\n"
     ]
    }
   ],
   "source": [
    "prep(internet)"
   ]
  },
  {
   "cell_type": "code",
   "execution_count": 18,
   "metadata": {},
   "outputs": [
    {
     "data": {
      "text/plain": [
       "489"
      ]
     },
     "execution_count": 18,
     "metadata": {},
     "output_type": "execute_result"
    }
   ],
   "source": [
    "len(internet[\"user_id\"].unique())"
   ]
  },
  {
   "cell_type": "code",
   "execution_count": 19,
   "metadata": {},
   "outputs": [
    {
     "name": "stdout",
     "output_type": "stream",
     "text": [
      "13.11%\n"
     ]
    }
   ],
   "source": [
    "percentaje(internet,\"mb_used\",0)"
   ]
  },
  {
   "cell_type": "markdown",
   "metadata": {},
   "source": [
    "No se aprecia ningún valor ausente ni valor ilógico en el dataframe, solamente se abordará el cambio de tipo de dato para la columna \"session_date\". Como en el caso anterior, podemos notar que en este dataset solo existe el registro de 489 usuarios distintos."
   ]
  },
  {
   "cell_type": "code",
   "execution_count": 20,
   "metadata": {},
   "outputs": [],
   "source": [
    "date_conv(internet, \"session_date\")"
   ]
  },
  {
   "cell_type": "code",
   "execution_count": 21,
   "metadata": {},
   "outputs": [
    {
     "name": "stdout",
     "output_type": "stream",
     "text": [
      "<class 'pandas.core.frame.DataFrame'>\n",
      "RangeIndex: 104825 entries, 0 to 104824\n",
      "Data columns (total 4 columns):\n",
      " #   Column        Non-Null Count   Dtype         \n",
      "---  ------        --------------   -----         \n",
      " 0   id            104825 non-null  object        \n",
      " 1   user_id       104825 non-null  int64         \n",
      " 2   session_date  104825 non-null  datetime64[ns]\n",
      " 3   mb_used       104825 non-null  float64       \n",
      "dtypes: datetime64[ns](1), float64(1), int64(1), object(1)\n",
      "memory usage: 3.2+ MB\n"
     ]
    }
   ],
   "source": [
    "internet.info()"
   ]
  },
  {
   "cell_type": "markdown",
   "metadata": {},
   "source": [
    "### 4.3. Messages"
   ]
  },
  {
   "cell_type": "code",
   "execution_count": 22,
   "metadata": {},
   "outputs": [
    {
     "name": "stdout",
     "output_type": "stream",
     "text": [
      "<class 'pandas.core.frame.DataFrame'>\n",
      "RangeIndex: 76051 entries, 0 to 76050\n",
      "Data columns (total 3 columns):\n",
      " #   Column        Non-Null Count  Dtype \n",
      "---  ------        --------------  ----- \n",
      " 0   id            76051 non-null  object\n",
      " 1   user_id       76051 non-null  int64 \n",
      " 2   message_date  76051 non-null  object\n",
      "dtypes: int64(1), object(2)\n",
      "memory usage: 1.7+ MB\n"
     ]
    }
   ],
   "source": [
    "messages.info()"
   ]
  },
  {
   "cell_type": "code",
   "execution_count": 23,
   "metadata": {},
   "outputs": [
    {
     "data": {
      "text/html": [
       "<div>\n",
       "<style scoped>\n",
       "    .dataframe tbody tr th:only-of-type {\n",
       "        vertical-align: middle;\n",
       "    }\n",
       "\n",
       "    .dataframe tbody tr th {\n",
       "        vertical-align: top;\n",
       "    }\n",
       "\n",
       "    .dataframe thead th {\n",
       "        text-align: right;\n",
       "    }\n",
       "</style>\n",
       "<table border=\"1\" class=\"dataframe\">\n",
       "  <thead>\n",
       "    <tr style=\"text-align: right;\">\n",
       "      <th></th>\n",
       "      <th>id</th>\n",
       "      <th>user_id</th>\n",
       "      <th>message_date</th>\n",
       "    </tr>\n",
       "  </thead>\n",
       "  <tbody>\n",
       "    <tr>\n",
       "      <th>0</th>\n",
       "      <td>1000_125</td>\n",
       "      <td>1000</td>\n",
       "      <td>2018-12-27</td>\n",
       "    </tr>\n",
       "    <tr>\n",
       "      <th>1</th>\n",
       "      <td>1000_160</td>\n",
       "      <td>1000</td>\n",
       "      <td>2018-12-31</td>\n",
       "    </tr>\n",
       "    <tr>\n",
       "      <th>2</th>\n",
       "      <td>1000_223</td>\n",
       "      <td>1000</td>\n",
       "      <td>2018-12-31</td>\n",
       "    </tr>\n",
       "    <tr>\n",
       "      <th>3</th>\n",
       "      <td>1000_251</td>\n",
       "      <td>1000</td>\n",
       "      <td>2018-12-27</td>\n",
       "    </tr>\n",
       "    <tr>\n",
       "      <th>4</th>\n",
       "      <td>1000_255</td>\n",
       "      <td>1000</td>\n",
       "      <td>2018-12-26</td>\n",
       "    </tr>\n",
       "  </tbody>\n",
       "</table>\n",
       "</div>"
      ],
      "text/plain": [
       "         id  user_id message_date\n",
       "0  1000_125     1000   2018-12-27\n",
       "1  1000_160     1000   2018-12-31\n",
       "2  1000_223     1000   2018-12-31\n",
       "3  1000_251     1000   2018-12-27\n",
       "4  1000_255     1000   2018-12-26"
      ]
     },
     "execution_count": 23,
     "metadata": {},
     "output_type": "execute_result"
    }
   ],
   "source": [
    "messages.head()"
   ]
  },
  {
   "cell_type": "code",
   "execution_count": 24,
   "metadata": {},
   "outputs": [
    {
     "name": "stdout",
     "output_type": "stream",
     "text": [
      "count        76051\n",
      "unique       76051\n",
      "top       1000_125\n",
      "freq             1\n",
      "Name: id, dtype: object\n",
      "\n",
      "count    76051.000000\n",
      "mean      1245.972768\n",
      "std        139.843635\n",
      "min       1000.000000\n",
      "25%       1123.000000\n",
      "50%       1251.000000\n",
      "75%       1362.000000\n",
      "max       1497.000000\n",
      "Name: user_id, dtype: float64\n",
      "\n",
      "count          76051\n",
      "unique           351\n",
      "top       2018-12-28\n",
      "freq             702\n",
      "Name: message_date, dtype: object\n",
      "\n"
     ]
    }
   ],
   "source": [
    "prep(messages)"
   ]
  },
  {
   "cell_type": "code",
   "execution_count": 25,
   "metadata": {},
   "outputs": [
    {
     "data": {
      "text/plain": [
       "402"
      ]
     },
     "execution_count": 25,
     "metadata": {},
     "output_type": "execute_result"
    }
   ],
   "source": [
    "len(messages[\"user_id\"].unique())"
   ]
  },
  {
   "cell_type": "markdown",
   "metadata": {},
   "source": [
    "No se aprecia ningún valor ausente ni valor ilógico en el dataframe, solamente se abordará el cambio de tipo de dato para la columna \"message_date\". Como en los casos anteriores, en este dataset poseemos una cantidad inferior de usuarios distintos a los 500 otorgados para el estudio, en este caso de 402."
   ]
  },
  {
   "cell_type": "code",
   "execution_count": 26,
   "metadata": {},
   "outputs": [],
   "source": [
    "date_conv(messages, \"message_date\")"
   ]
  },
  {
   "cell_type": "code",
   "execution_count": 27,
   "metadata": {},
   "outputs": [
    {
     "name": "stdout",
     "output_type": "stream",
     "text": [
      "<class 'pandas.core.frame.DataFrame'>\n",
      "RangeIndex: 76051 entries, 0 to 76050\n",
      "Data columns (total 3 columns):\n",
      " #   Column        Non-Null Count  Dtype         \n",
      "---  ------        --------------  -----         \n",
      " 0   id            76051 non-null  object        \n",
      " 1   user_id       76051 non-null  int64         \n",
      " 2   message_date  76051 non-null  datetime64[ns]\n",
      "dtypes: datetime64[ns](1), int64(1), object(1)\n",
      "memory usage: 1.7+ MB\n"
     ]
    }
   ],
   "source": [
    "messages.info()"
   ]
  },
  {
   "cell_type": "markdown",
   "metadata": {},
   "source": [
    "### 4.4. Plans"
   ]
  },
  {
   "cell_type": "code",
   "execution_count": 28,
   "metadata": {},
   "outputs": [
    {
     "name": "stdout",
     "output_type": "stream",
     "text": [
      "<class 'pandas.core.frame.DataFrame'>\n",
      "RangeIndex: 2 entries, 0 to 1\n",
      "Data columns (total 8 columns):\n",
      " #   Column                 Non-Null Count  Dtype  \n",
      "---  ------                 --------------  -----  \n",
      " 0   messages_included      2 non-null      int64  \n",
      " 1   mb_per_month_included  2 non-null      int64  \n",
      " 2   minutes_included       2 non-null      int64  \n",
      " 3   usd_monthly_pay        2 non-null      int64  \n",
      " 4   usd_per_gb             2 non-null      int64  \n",
      " 5   usd_per_message        2 non-null      float64\n",
      " 6   usd_per_minute         2 non-null      float64\n",
      " 7   plan_name              2 non-null      object \n",
      "dtypes: float64(2), int64(5), object(1)\n",
      "memory usage: 256.0+ bytes\n"
     ]
    }
   ],
   "source": [
    "plans.info()"
   ]
  },
  {
   "cell_type": "code",
   "execution_count": 29,
   "metadata": {},
   "outputs": [
    {
     "data": {
      "text/html": [
       "<div>\n",
       "<style scoped>\n",
       "    .dataframe tbody tr th:only-of-type {\n",
       "        vertical-align: middle;\n",
       "    }\n",
       "\n",
       "    .dataframe tbody tr th {\n",
       "        vertical-align: top;\n",
       "    }\n",
       "\n",
       "    .dataframe thead th {\n",
       "        text-align: right;\n",
       "    }\n",
       "</style>\n",
       "<table border=\"1\" class=\"dataframe\">\n",
       "  <thead>\n",
       "    <tr style=\"text-align: right;\">\n",
       "      <th></th>\n",
       "      <th>messages_included</th>\n",
       "      <th>mb_per_month_included</th>\n",
       "      <th>minutes_included</th>\n",
       "      <th>usd_monthly_pay</th>\n",
       "      <th>usd_per_gb</th>\n",
       "      <th>usd_per_message</th>\n",
       "      <th>usd_per_minute</th>\n",
       "      <th>plan_name</th>\n",
       "    </tr>\n",
       "  </thead>\n",
       "  <tbody>\n",
       "    <tr>\n",
       "      <th>0</th>\n",
       "      <td>50</td>\n",
       "      <td>15360</td>\n",
       "      <td>500</td>\n",
       "      <td>20</td>\n",
       "      <td>10</td>\n",
       "      <td>0.03</td>\n",
       "      <td>0.03</td>\n",
       "      <td>surf</td>\n",
       "    </tr>\n",
       "    <tr>\n",
       "      <th>1</th>\n",
       "      <td>1000</td>\n",
       "      <td>30720</td>\n",
       "      <td>3000</td>\n",
       "      <td>70</td>\n",
       "      <td>7</td>\n",
       "      <td>0.01</td>\n",
       "      <td>0.01</td>\n",
       "      <td>ultimate</td>\n",
       "    </tr>\n",
       "  </tbody>\n",
       "</table>\n",
       "</div>"
      ],
      "text/plain": [
       "   messages_included  mb_per_month_included  minutes_included  \\\n",
       "0                 50                  15360               500   \n",
       "1               1000                  30720              3000   \n",
       "\n",
       "   usd_monthly_pay  usd_per_gb  usd_per_message  usd_per_minute plan_name  \n",
       "0               20          10             0.03            0.03      surf  \n",
       "1               70           7             0.01            0.01  ultimate  "
      ]
     },
     "execution_count": 29,
     "metadata": {},
     "output_type": "execute_result"
    }
   ],
   "source": [
    "plans.head()"
   ]
  },
  {
   "cell_type": "markdown",
   "metadata": {},
   "source": [
    "No se aprecia ningún valor ausente ni valor ilógico en el dataframe por lo cual no se realizará ningún procedimiento."
   ]
  },
  {
   "cell_type": "markdown",
   "metadata": {},
   "source": [
    "### 4.5. Users"
   ]
  },
  {
   "cell_type": "code",
   "execution_count": 30,
   "metadata": {},
   "outputs": [
    {
     "name": "stdout",
     "output_type": "stream",
     "text": [
      "<class 'pandas.core.frame.DataFrame'>\n",
      "RangeIndex: 500 entries, 0 to 499\n",
      "Data columns (total 8 columns):\n",
      " #   Column      Non-Null Count  Dtype \n",
      "---  ------      --------------  ----- \n",
      " 0   user_id     500 non-null    int64 \n",
      " 1   first_name  500 non-null    object\n",
      " 2   last_name   500 non-null    object\n",
      " 3   age         500 non-null    int64 \n",
      " 4   city        500 non-null    object\n",
      " 5   reg_date    500 non-null    object\n",
      " 6   plan        500 non-null    object\n",
      " 7   churn_date  34 non-null     object\n",
      "dtypes: int64(2), object(6)\n",
      "memory usage: 31.4+ KB\n"
     ]
    }
   ],
   "source": [
    "users.info()"
   ]
  },
  {
   "cell_type": "code",
   "execution_count": 31,
   "metadata": {},
   "outputs": [
    {
     "data": {
      "text/html": [
       "<div>\n",
       "<style scoped>\n",
       "    .dataframe tbody tr th:only-of-type {\n",
       "        vertical-align: middle;\n",
       "    }\n",
       "\n",
       "    .dataframe tbody tr th {\n",
       "        vertical-align: top;\n",
       "    }\n",
       "\n",
       "    .dataframe thead th {\n",
       "        text-align: right;\n",
       "    }\n",
       "</style>\n",
       "<table border=\"1\" class=\"dataframe\">\n",
       "  <thead>\n",
       "    <tr style=\"text-align: right;\">\n",
       "      <th></th>\n",
       "      <th>user_id</th>\n",
       "      <th>first_name</th>\n",
       "      <th>last_name</th>\n",
       "      <th>age</th>\n",
       "      <th>city</th>\n",
       "      <th>reg_date</th>\n",
       "      <th>plan</th>\n",
       "      <th>churn_date</th>\n",
       "    </tr>\n",
       "  </thead>\n",
       "  <tbody>\n",
       "    <tr>\n",
       "      <th>0</th>\n",
       "      <td>1000</td>\n",
       "      <td>Anamaria</td>\n",
       "      <td>Bauer</td>\n",
       "      <td>45</td>\n",
       "      <td>Atlanta-Sandy Springs-Roswell, GA MSA</td>\n",
       "      <td>2018-12-24</td>\n",
       "      <td>ultimate</td>\n",
       "      <td>NaN</td>\n",
       "    </tr>\n",
       "    <tr>\n",
       "      <th>1</th>\n",
       "      <td>1001</td>\n",
       "      <td>Mickey</td>\n",
       "      <td>Wilkerson</td>\n",
       "      <td>28</td>\n",
       "      <td>Seattle-Tacoma-Bellevue, WA MSA</td>\n",
       "      <td>2018-08-13</td>\n",
       "      <td>surf</td>\n",
       "      <td>NaN</td>\n",
       "    </tr>\n",
       "    <tr>\n",
       "      <th>2</th>\n",
       "      <td>1002</td>\n",
       "      <td>Carlee</td>\n",
       "      <td>Hoffman</td>\n",
       "      <td>36</td>\n",
       "      <td>Las Vegas-Henderson-Paradise, NV MSA</td>\n",
       "      <td>2018-10-21</td>\n",
       "      <td>surf</td>\n",
       "      <td>NaN</td>\n",
       "    </tr>\n",
       "    <tr>\n",
       "      <th>3</th>\n",
       "      <td>1003</td>\n",
       "      <td>Reynaldo</td>\n",
       "      <td>Jenkins</td>\n",
       "      <td>52</td>\n",
       "      <td>Tulsa, OK MSA</td>\n",
       "      <td>2018-01-28</td>\n",
       "      <td>surf</td>\n",
       "      <td>NaN</td>\n",
       "    </tr>\n",
       "    <tr>\n",
       "      <th>4</th>\n",
       "      <td>1004</td>\n",
       "      <td>Leonila</td>\n",
       "      <td>Thompson</td>\n",
       "      <td>40</td>\n",
       "      <td>Seattle-Tacoma-Bellevue, WA MSA</td>\n",
       "      <td>2018-05-23</td>\n",
       "      <td>surf</td>\n",
       "      <td>NaN</td>\n",
       "    </tr>\n",
       "  </tbody>\n",
       "</table>\n",
       "</div>"
      ],
      "text/plain": [
       "   user_id first_name  last_name  age                                   city  \\\n",
       "0     1000   Anamaria      Bauer   45  Atlanta-Sandy Springs-Roswell, GA MSA   \n",
       "1     1001     Mickey  Wilkerson   28        Seattle-Tacoma-Bellevue, WA MSA   \n",
       "2     1002     Carlee    Hoffman   36   Las Vegas-Henderson-Paradise, NV MSA   \n",
       "3     1003   Reynaldo    Jenkins   52                          Tulsa, OK MSA   \n",
       "4     1004    Leonila   Thompson   40        Seattle-Tacoma-Bellevue, WA MSA   \n",
       "\n",
       "     reg_date      plan churn_date  \n",
       "0  2018-12-24  ultimate        NaN  \n",
       "1  2018-08-13      surf        NaN  \n",
       "2  2018-10-21      surf        NaN  \n",
       "3  2018-01-28      surf        NaN  \n",
       "4  2018-05-23      surf        NaN  "
      ]
     },
     "execution_count": 31,
     "metadata": {},
     "output_type": "execute_result"
    }
   ],
   "source": [
    "users.head()"
   ]
  },
  {
   "cell_type": "code",
   "execution_count": 32,
   "metadata": {},
   "outputs": [
    {
     "data": {
      "text/plain": [
       "0"
      ]
     },
     "execution_count": 32,
     "metadata": {},
     "output_type": "execute_result"
    }
   ],
   "source": [
    "users[\"user_id\"].duplicated().sum()"
   ]
  },
  {
   "cell_type": "code",
   "execution_count": 33,
   "metadata": {},
   "outputs": [
    {
     "name": "stdout",
     "output_type": "stream",
     "text": [
      "count     500.000000\n",
      "mean     1249.500000\n",
      "std       144.481833\n",
      "min      1000.000000\n",
      "25%      1124.750000\n",
      "50%      1249.500000\n",
      "75%      1374.250000\n",
      "max      1499.000000\n",
      "Name: user_id, dtype: float64\n",
      "\n",
      "count         500\n",
      "unique        458\n",
      "top       Leonila\n",
      "freq            3\n",
      "Name: first_name, dtype: object\n",
      "\n",
      "count       500\n",
      "unique      399\n",
      "top       David\n",
      "freq          3\n",
      "Name: last_name, dtype: object\n",
      "\n",
      "count    500.000000\n",
      "mean      45.486000\n",
      "std       16.972269\n",
      "min       18.000000\n",
      "25%       30.000000\n",
      "50%       46.000000\n",
      "75%       61.000000\n",
      "max       75.000000\n",
      "Name: age, dtype: float64\n",
      "\n",
      "count                                           500\n",
      "unique                                           73\n",
      "top       New York-Newark-Jersey City, NY-NJ-PA MSA\n",
      "freq                                             80\n",
      "Name: city, dtype: object\n",
      "\n",
      "count            500\n",
      "unique           266\n",
      "top       2018-03-08\n",
      "freq               5\n",
      "Name: reg_date, dtype: object\n",
      "\n",
      "count      500\n",
      "unique       2\n",
      "top       surf\n",
      "freq       339\n",
      "Name: plan, dtype: object\n",
      "\n",
      "count             34\n",
      "unique            29\n",
      "top       2018-12-18\n",
      "freq               3\n",
      "Name: churn_date, dtype: object\n",
      "\n"
     ]
    }
   ],
   "source": [
    "prep(users)"
   ]
  },
  {
   "cell_type": "markdown",
   "metadata": {},
   "source": [
    "Se pueden observar valores ausentes en la columna \"churn_date\", esta columna corresponde a la fecha de salida de los clientes del plan por lo que es lógico que haya una gran cantidad de valores ausentes ya que estos corresponden a las personas que pasado 2018 seguían utilizando estos planes, debido a lo anterior es que se mantendrán los valores ausentes ya que al rellenarlos con valores de tipo object no podríamos transformar los existentes a datetime.\n",
    "\n",
    "Por parte de valores ilógicos en el dataframe no se puede apreciar ninguno por lo que solamente se procederá a realizar el cambio de tipo de dato para las columnas \"reg_date\" y \"churn_date\"."
   ]
  },
  {
   "cell_type": "code",
   "execution_count": 34,
   "metadata": {},
   "outputs": [],
   "source": [
    "date_conv(users, \"reg_date\")"
   ]
  },
  {
   "cell_type": "code",
   "execution_count": 35,
   "metadata": {},
   "outputs": [],
   "source": [
    "date_conv(users, \"churn_date\")"
   ]
  },
  {
   "cell_type": "code",
   "execution_count": 36,
   "metadata": {},
   "outputs": [
    {
     "name": "stdout",
     "output_type": "stream",
     "text": [
      "<class 'pandas.core.frame.DataFrame'>\n",
      "RangeIndex: 500 entries, 0 to 499\n",
      "Data columns (total 8 columns):\n",
      " #   Column      Non-Null Count  Dtype         \n",
      "---  ------      --------------  -----         \n",
      " 0   user_id     500 non-null    int64         \n",
      " 1   first_name  500 non-null    object        \n",
      " 2   last_name   500 non-null    object        \n",
      " 3   age         500 non-null    int64         \n",
      " 4   city        500 non-null    object        \n",
      " 5   reg_date    500 non-null    datetime64[ns]\n",
      " 6   plan        500 non-null    object        \n",
      " 7   churn_date  34 non-null     datetime64[ns]\n",
      "dtypes: datetime64[ns](2), int64(2), object(4)\n",
      "memory usage: 31.4+ KB\n"
     ]
    }
   ],
   "source": [
    "users.info()"
   ]
  },
  {
   "cell_type": "markdown",
   "metadata": {},
   "source": [
    "## 5. Enriquecer los datos"
   ]
  },
  {
   "cell_type": "markdown",
   "metadata": {},
   "source": [
    "Procederemos a realizar un enriquecimiento de datos en un nuevo dataset \"users_full\", este dataset estará compuesto por las filas únicas de la columna user_id para cada usuario, para poder realizar posteriormente el análisis correspondiente."
   ]
  },
  {
   "cell_type": "markdown",
   "metadata": {},
   "source": [
    "### 5.1. Número de llamadas y minutos utilizados"
   ]
  },
  {
   "cell_type": "markdown",
   "metadata": {},
   "source": [
    "Primero agregaremos a partir del dataset \"calls\" una columna que muestre el número de llamadas realizadas por cada usuario y otra con los minutos utilizados por mes."
   ]
  },
  {
   "cell_type": "code",
   "execution_count": 37,
   "metadata": {},
   "outputs": [],
   "source": [
    "calls_stat = calls.pivot_table(index=\"user_id\", values=\"duration\", aggfunc=[\"count\", \"sum\"]).reset_index()\n",
    "calls_stat.columns = (\"user_id\",\"calls_per_moth\", \"duration_call_per_month\")\n",
    "calls_stat[\"calls_per_moth\"] = (calls_stat[\"calls_per_moth\"]/12).astype({\"calls_per_moth\":'int'})\n",
    "calls_stat[\"duration_call_per_month\"] = (calls_stat[\"duration_call_per_month\"]/12).astype({\"duration_call_per_month\":'int'})\n",
    "users_full = users.merge(calls_stat, on=\"user_id\")"
   ]
  },
  {
   "cell_type": "code",
   "execution_count": 38,
   "metadata": {},
   "outputs": [
    {
     "data": {
      "text/html": [
       "<div>\n",
       "<style scoped>\n",
       "    .dataframe tbody tr th:only-of-type {\n",
       "        vertical-align: middle;\n",
       "    }\n",
       "\n",
       "    .dataframe tbody tr th {\n",
       "        vertical-align: top;\n",
       "    }\n",
       "\n",
       "    .dataframe thead th {\n",
       "        text-align: right;\n",
       "    }\n",
       "</style>\n",
       "<table border=\"1\" class=\"dataframe\">\n",
       "  <thead>\n",
       "    <tr style=\"text-align: right;\">\n",
       "      <th></th>\n",
       "      <th>user_id</th>\n",
       "      <th>first_name</th>\n",
       "      <th>last_name</th>\n",
       "      <th>age</th>\n",
       "      <th>city</th>\n",
       "      <th>reg_date</th>\n",
       "      <th>plan</th>\n",
       "      <th>churn_date</th>\n",
       "      <th>calls_per_moth</th>\n",
       "      <th>duration_call_per_month</th>\n",
       "    </tr>\n",
       "  </thead>\n",
       "  <tbody>\n",
       "    <tr>\n",
       "      <th>0</th>\n",
       "      <td>1000</td>\n",
       "      <td>Anamaria</td>\n",
       "      <td>Bauer</td>\n",
       "      <td>45</td>\n",
       "      <td>Atlanta-Sandy Springs-Roswell, GA MSA</td>\n",
       "      <td>2018-12-24</td>\n",
       "      <td>ultimate</td>\n",
       "      <td>NaT</td>\n",
       "      <td>1</td>\n",
       "      <td>10</td>\n",
       "    </tr>\n",
       "    <tr>\n",
       "      <th>1</th>\n",
       "      <td>1001</td>\n",
       "      <td>Mickey</td>\n",
       "      <td>Wilkerson</td>\n",
       "      <td>28</td>\n",
       "      <td>Seattle-Tacoma-Bellevue, WA MSA</td>\n",
       "      <td>2018-08-13</td>\n",
       "      <td>surf</td>\n",
       "      <td>NaT</td>\n",
       "      <td>21</td>\n",
       "      <td>144</td>\n",
       "    </tr>\n",
       "    <tr>\n",
       "      <th>2</th>\n",
       "      <td>1002</td>\n",
       "      <td>Carlee</td>\n",
       "      <td>Hoffman</td>\n",
       "      <td>36</td>\n",
       "      <td>Las Vegas-Henderson-Paradise, NV MSA</td>\n",
       "      <td>2018-10-21</td>\n",
       "      <td>surf</td>\n",
       "      <td>NaT</td>\n",
       "      <td>9</td>\n",
       "      <td>69</td>\n",
       "    </tr>\n",
       "    <tr>\n",
       "      <th>3</th>\n",
       "      <td>1003</td>\n",
       "      <td>Reynaldo</td>\n",
       "      <td>Jenkins</td>\n",
       "      <td>52</td>\n",
       "      <td>Tulsa, OK MSA</td>\n",
       "      <td>2018-01-28</td>\n",
       "      <td>surf</td>\n",
       "      <td>NaT</td>\n",
       "      <td>12</td>\n",
       "      <td>92</td>\n",
       "    </tr>\n",
       "    <tr>\n",
       "      <th>4</th>\n",
       "      <td>1004</td>\n",
       "      <td>Leonila</td>\n",
       "      <td>Thompson</td>\n",
       "      <td>40</td>\n",
       "      <td>Seattle-Tacoma-Bellevue, WA MSA</td>\n",
       "      <td>2018-05-23</td>\n",
       "      <td>surf</td>\n",
       "      <td>NaT</td>\n",
       "      <td>30</td>\n",
       "      <td>231</td>\n",
       "    </tr>\n",
       "  </tbody>\n",
       "</table>\n",
       "</div>"
      ],
      "text/plain": [
       "   user_id first_name  last_name  age                                   city  \\\n",
       "0     1000   Anamaria      Bauer   45  Atlanta-Sandy Springs-Roswell, GA MSA   \n",
       "1     1001     Mickey  Wilkerson   28        Seattle-Tacoma-Bellevue, WA MSA   \n",
       "2     1002     Carlee    Hoffman   36   Las Vegas-Henderson-Paradise, NV MSA   \n",
       "3     1003   Reynaldo    Jenkins   52                          Tulsa, OK MSA   \n",
       "4     1004    Leonila   Thompson   40        Seattle-Tacoma-Bellevue, WA MSA   \n",
       "\n",
       "    reg_date      plan churn_date  calls_per_moth  duration_call_per_month  \n",
       "0 2018-12-24  ultimate        NaT               1                       10  \n",
       "1 2018-08-13      surf        NaT              21                      144  \n",
       "2 2018-10-21      surf        NaT               9                       69  \n",
       "3 2018-01-28      surf        NaT              12                       92  \n",
       "4 2018-05-23      surf        NaT              30                      231  "
      ]
     },
     "execution_count": 38,
     "metadata": {},
     "output_type": "execute_result"
    }
   ],
   "source": [
    "users_full.head()"
   ]
  },
  {
   "cell_type": "markdown",
   "metadata": {},
   "source": [
    "### 5.2. Cantidad de mensajes enviados"
   ]
  },
  {
   "cell_type": "markdown",
   "metadata": {},
   "source": [
    "Continuaremos agregando la cantidad de SMS enviados por mes a través de la información obtenida del dataset \"messages\"."
   ]
  },
  {
   "cell_type": "code",
   "execution_count": 39,
   "metadata": {},
   "outputs": [],
   "source": [
    "messages_stat = messages.pivot_table(index=\"user_id\", values=\"id\", aggfunc=\"count\")\n",
    "messages_stat = (messages_stat[\"id\"]/12).astype({\"id\":'int'}).reset_index()\n",
    "messages_stat.columns = (\"user_id\",\"messages_per_moth\")\n",
    "users_full = users_full.merge(messages_stat, on=\"user_id\")"
   ]
  },
  {
   "cell_type": "code",
   "execution_count": 40,
   "metadata": {},
   "outputs": [
    {
     "data": {
      "text/html": [
       "<div>\n",
       "<style scoped>\n",
       "    .dataframe tbody tr th:only-of-type {\n",
       "        vertical-align: middle;\n",
       "    }\n",
       "\n",
       "    .dataframe tbody tr th {\n",
       "        vertical-align: top;\n",
       "    }\n",
       "\n",
       "    .dataframe thead th {\n",
       "        text-align: right;\n",
       "    }\n",
       "</style>\n",
       "<table border=\"1\" class=\"dataframe\">\n",
       "  <thead>\n",
       "    <tr style=\"text-align: right;\">\n",
       "      <th></th>\n",
       "      <th>user_id</th>\n",
       "      <th>first_name</th>\n",
       "      <th>last_name</th>\n",
       "      <th>age</th>\n",
       "      <th>city</th>\n",
       "      <th>reg_date</th>\n",
       "      <th>plan</th>\n",
       "      <th>churn_date</th>\n",
       "      <th>calls_per_moth</th>\n",
       "      <th>duration_call_per_month</th>\n",
       "      <th>messages_per_moth</th>\n",
       "    </tr>\n",
       "  </thead>\n",
       "  <tbody>\n",
       "    <tr>\n",
       "      <th>0</th>\n",
       "      <td>1000</td>\n",
       "      <td>Anamaria</td>\n",
       "      <td>Bauer</td>\n",
       "      <td>45</td>\n",
       "      <td>Atlanta-Sandy Springs-Roswell, GA MSA</td>\n",
       "      <td>2018-12-24</td>\n",
       "      <td>ultimate</td>\n",
       "      <td>NaT</td>\n",
       "      <td>1</td>\n",
       "      <td>10</td>\n",
       "      <td>0</td>\n",
       "    </tr>\n",
       "    <tr>\n",
       "      <th>1</th>\n",
       "      <td>1001</td>\n",
       "      <td>Mickey</td>\n",
       "      <td>Wilkerson</td>\n",
       "      <td>28</td>\n",
       "      <td>Seattle-Tacoma-Bellevue, WA MSA</td>\n",
       "      <td>2018-08-13</td>\n",
       "      <td>surf</td>\n",
       "      <td>NaT</td>\n",
       "      <td>21</td>\n",
       "      <td>144</td>\n",
       "      <td>17</td>\n",
       "    </tr>\n",
       "    <tr>\n",
       "      <th>2</th>\n",
       "      <td>1002</td>\n",
       "      <td>Carlee</td>\n",
       "      <td>Hoffman</td>\n",
       "      <td>36</td>\n",
       "      <td>Las Vegas-Henderson-Paradise, NV MSA</td>\n",
       "      <td>2018-10-21</td>\n",
       "      <td>surf</td>\n",
       "      <td>NaT</td>\n",
       "      <td>9</td>\n",
       "      <td>69</td>\n",
       "      <td>7</td>\n",
       "    </tr>\n",
       "    <tr>\n",
       "      <th>3</th>\n",
       "      <td>1003</td>\n",
       "      <td>Reynaldo</td>\n",
       "      <td>Jenkins</td>\n",
       "      <td>52</td>\n",
       "      <td>Tulsa, OK MSA</td>\n",
       "      <td>2018-01-28</td>\n",
       "      <td>surf</td>\n",
       "      <td>NaT</td>\n",
       "      <td>12</td>\n",
       "      <td>92</td>\n",
       "      <td>4</td>\n",
       "    </tr>\n",
       "    <tr>\n",
       "      <th>4</th>\n",
       "      <td>1004</td>\n",
       "      <td>Leonila</td>\n",
       "      <td>Thompson</td>\n",
       "      <td>40</td>\n",
       "      <td>Seattle-Tacoma-Bellevue, WA MSA</td>\n",
       "      <td>2018-05-23</td>\n",
       "      <td>surf</td>\n",
       "      <td>NaT</td>\n",
       "      <td>30</td>\n",
       "      <td>231</td>\n",
       "      <td>14</td>\n",
       "    </tr>\n",
       "  </tbody>\n",
       "</table>\n",
       "</div>"
      ],
      "text/plain": [
       "   user_id first_name  last_name  age                                   city  \\\n",
       "0     1000   Anamaria      Bauer   45  Atlanta-Sandy Springs-Roswell, GA MSA   \n",
       "1     1001     Mickey  Wilkerson   28        Seattle-Tacoma-Bellevue, WA MSA   \n",
       "2     1002     Carlee    Hoffman   36   Las Vegas-Henderson-Paradise, NV MSA   \n",
       "3     1003   Reynaldo    Jenkins   52                          Tulsa, OK MSA   \n",
       "4     1004    Leonila   Thompson   40        Seattle-Tacoma-Bellevue, WA MSA   \n",
       "\n",
       "    reg_date      plan churn_date  calls_per_moth  duration_call_per_month  \\\n",
       "0 2018-12-24  ultimate        NaT               1                       10   \n",
       "1 2018-08-13      surf        NaT              21                      144   \n",
       "2 2018-10-21      surf        NaT               9                       69   \n",
       "3 2018-01-28      surf        NaT              12                       92   \n",
       "4 2018-05-23      surf        NaT              30                      231   \n",
       "\n",
       "   messages_per_moth  \n",
       "0                  0  \n",
       "1                 17  \n",
       "2                  7  \n",
       "3                  4  \n",
       "4                 14  "
      ]
     },
     "execution_count": 40,
     "metadata": {},
     "output_type": "execute_result"
    }
   ],
   "source": [
    "users_full.head()"
   ]
  },
  {
   "cell_type": "markdown",
   "metadata": {},
   "source": [
    "### 5.3. Volumen de datos utilizados"
   ]
  },
  {
   "cell_type": "markdown",
   "metadata": {},
   "source": [
    "A continuación, agregaremos una columna correspondiente al volumen de datos utilizados por mes a partir del dataset \"internet\". En este caso, como indican los procedimientos de Megaline, se procederá a redondear los valores de consumo mensual de datos de internet hacia \"arriba\" de megabytes a gigabytes."
   ]
  },
  {
   "cell_type": "code",
   "execution_count": 41,
   "metadata": {},
   "outputs": [],
   "source": [
    "internet_stat = internet.pivot_table(index=\"user_id\", values=\"mb_used\", aggfunc=\"sum\")\n",
    "internet_stat = (internet_stat[\"mb_used\"]/12).reset_index()\n",
    "internet_stat.columns = (\"user_id\",\"gb_per_moth\")\n",
    "internet_stat[\"gb_per_moth\"] = internet_stat[\"gb_per_moth\"]/1000\n",
    "internet_stat[\"gb_per_moth\"] = internet_stat[\"gb_per_moth\"].apply(mt.ceil)\n",
    "users_full = users_full.merge(internet_stat, on=\"user_id\")"
   ]
  },
  {
   "cell_type": "code",
   "execution_count": 42,
   "metadata": {},
   "outputs": [
    {
     "data": {
      "text/html": [
       "<div>\n",
       "<style scoped>\n",
       "    .dataframe tbody tr th:only-of-type {\n",
       "        vertical-align: middle;\n",
       "    }\n",
       "\n",
       "    .dataframe tbody tr th {\n",
       "        vertical-align: top;\n",
       "    }\n",
       "\n",
       "    .dataframe thead th {\n",
       "        text-align: right;\n",
       "    }\n",
       "</style>\n",
       "<table border=\"1\" class=\"dataframe\">\n",
       "  <thead>\n",
       "    <tr style=\"text-align: right;\">\n",
       "      <th></th>\n",
       "      <th>user_id</th>\n",
       "      <th>first_name</th>\n",
       "      <th>last_name</th>\n",
       "      <th>age</th>\n",
       "      <th>city</th>\n",
       "      <th>reg_date</th>\n",
       "      <th>plan</th>\n",
       "      <th>churn_date</th>\n",
       "      <th>calls_per_moth</th>\n",
       "      <th>duration_call_per_month</th>\n",
       "      <th>messages_per_moth</th>\n",
       "      <th>gb_per_moth</th>\n",
       "    </tr>\n",
       "  </thead>\n",
       "  <tbody>\n",
       "    <tr>\n",
       "      <th>0</th>\n",
       "      <td>1000</td>\n",
       "      <td>Anamaria</td>\n",
       "      <td>Bauer</td>\n",
       "      <td>45</td>\n",
       "      <td>Atlanta-Sandy Springs-Roswell, GA MSA</td>\n",
       "      <td>2018-12-24</td>\n",
       "      <td>ultimate</td>\n",
       "      <td>NaT</td>\n",
       "      <td>1</td>\n",
       "      <td>10</td>\n",
       "      <td>0</td>\n",
       "      <td>1</td>\n",
       "    </tr>\n",
       "    <tr>\n",
       "      <th>1</th>\n",
       "      <td>1001</td>\n",
       "      <td>Mickey</td>\n",
       "      <td>Wilkerson</td>\n",
       "      <td>28</td>\n",
       "      <td>Seattle-Tacoma-Bellevue, WA MSA</td>\n",
       "      <td>2018-08-13</td>\n",
       "      <td>surf</td>\n",
       "      <td>NaT</td>\n",
       "      <td>21</td>\n",
       "      <td>144</td>\n",
       "      <td>17</td>\n",
       "      <td>7</td>\n",
       "    </tr>\n",
       "    <tr>\n",
       "      <th>2</th>\n",
       "      <td>1002</td>\n",
       "      <td>Carlee</td>\n",
       "      <td>Hoffman</td>\n",
       "      <td>36</td>\n",
       "      <td>Las Vegas-Henderson-Paradise, NV MSA</td>\n",
       "      <td>2018-10-21</td>\n",
       "      <td>surf</td>\n",
       "      <td>NaT</td>\n",
       "      <td>9</td>\n",
       "      <td>69</td>\n",
       "      <td>7</td>\n",
       "      <td>4</td>\n",
       "    </tr>\n",
       "    <tr>\n",
       "      <th>3</th>\n",
       "      <td>1003</td>\n",
       "      <td>Reynaldo</td>\n",
       "      <td>Jenkins</td>\n",
       "      <td>52</td>\n",
       "      <td>Tulsa, OK MSA</td>\n",
       "      <td>2018-01-28</td>\n",
       "      <td>surf</td>\n",
       "      <td>NaT</td>\n",
       "      <td>12</td>\n",
       "      <td>92</td>\n",
       "      <td>4</td>\n",
       "      <td>3</td>\n",
       "    </tr>\n",
       "    <tr>\n",
       "      <th>4</th>\n",
       "      <td>1004</td>\n",
       "      <td>Leonila</td>\n",
       "      <td>Thompson</td>\n",
       "      <td>40</td>\n",
       "      <td>Seattle-Tacoma-Bellevue, WA MSA</td>\n",
       "      <td>2018-05-23</td>\n",
       "      <td>surf</td>\n",
       "      <td>NaT</td>\n",
       "      <td>30</td>\n",
       "      <td>231</td>\n",
       "      <td>14</td>\n",
       "      <td>14</td>\n",
       "    </tr>\n",
       "  </tbody>\n",
       "</table>\n",
       "</div>"
      ],
      "text/plain": [
       "   user_id first_name  last_name  age                                   city  \\\n",
       "0     1000   Anamaria      Bauer   45  Atlanta-Sandy Springs-Roswell, GA MSA   \n",
       "1     1001     Mickey  Wilkerson   28        Seattle-Tacoma-Bellevue, WA MSA   \n",
       "2     1002     Carlee    Hoffman   36   Las Vegas-Henderson-Paradise, NV MSA   \n",
       "3     1003   Reynaldo    Jenkins   52                          Tulsa, OK MSA   \n",
       "4     1004    Leonila   Thompson   40        Seattle-Tacoma-Bellevue, WA MSA   \n",
       "\n",
       "    reg_date      plan churn_date  calls_per_moth  duration_call_per_month  \\\n",
       "0 2018-12-24  ultimate        NaT               1                       10   \n",
       "1 2018-08-13      surf        NaT              21                      144   \n",
       "2 2018-10-21      surf        NaT               9                       69   \n",
       "3 2018-01-28      surf        NaT              12                       92   \n",
       "4 2018-05-23      surf        NaT              30                      231   \n",
       "\n",
       "   messages_per_moth  gb_per_moth  \n",
       "0                  0            1  \n",
       "1                 17            7  \n",
       "2                  7            4  \n",
       "3                  4            3  \n",
       "4                 14           14  "
      ]
     },
     "execution_count": 42,
     "metadata": {},
     "output_type": "execute_result"
    }
   ],
   "source": [
    "users_full.head()"
   ]
  },
  {
   "cell_type": "markdown",
   "metadata": {},
   "source": [
    "### 5.4. Ingresos mensuales"
   ]
  },
  {
   "cell_type": "markdown",
   "metadata": {},
   "source": [
    "Finalmente, añadiremos una columna correspondiente a los ingresos mensuales correspondientes a cada usuario."
   ]
  },
  {
   "cell_type": "code",
   "execution_count": 43,
   "metadata": {},
   "outputs": [],
   "source": [
    "def month_income(row):\n",
    "    if row['plan'] == \"ultimate\":\n",
    "        call_plan = row['duration_call_per_month']-3000\n",
    "        msn_plan = row['messages_per_moth']-1000\n",
    "        gb_plan = row['gb_per_moth']-30\n",
    "        if call_plan > 0:\n",
    "            call_total = call_plan*0.01            \n",
    "        else:\n",
    "            call_total = 0\n",
    "        if msn_plan > 0:\n",
    "            msn_total = msn_plan*0.01\n",
    "        else:\n",
    "            msn_total = 0\n",
    "        if gb_plan > 0:\n",
    "            gb_total = gb_plan*7\n",
    "        else:\n",
    "            gb_total = 0\n",
    "        return 70 + call_total + msn_total + gb_total\n",
    "    elif row['plan'] == \"surf\":\n",
    "        call_plan = row['duration_call_per_month']-500\n",
    "        msn_plan = row['messages_per_moth']-50\n",
    "        gb_plan = row['gb_per_moth']-15\n",
    "        if call_plan > 0:\n",
    "            call_total = call_plan*0.03            \n",
    "        else:\n",
    "            call_total = 0\n",
    "        if msn_plan > 0:\n",
    "            msn_total = msn_plan*0.03\n",
    "        else:\n",
    "            msn_total = 0\n",
    "        if gb_plan > 0:\n",
    "            gb_total = gb_plan*10\n",
    "        else:\n",
    "            gb_total = 0\n",
    "        return 20 + call_total + msn_total + gb_total\n",
    "users_full[\"month_income\"] = users_full.apply(month_income, axis=1)"
   ]
  },
  {
   "cell_type": "code",
   "execution_count": 44,
   "metadata": {},
   "outputs": [
    {
     "name": "stdout",
     "output_type": "stream",
     "text": [
      "<class 'pandas.core.frame.DataFrame'>\n",
      "Int64Index: 393 entries, 0 to 392\n",
      "Data columns (total 13 columns):\n",
      " #   Column                   Non-Null Count  Dtype         \n",
      "---  ------                   --------------  -----         \n",
      " 0   user_id                  393 non-null    int64         \n",
      " 1   first_name               393 non-null    object        \n",
      " 2   last_name                393 non-null    object        \n",
      " 3   age                      393 non-null    int64         \n",
      " 4   city                     393 non-null    object        \n",
      " 5   reg_date                 393 non-null    datetime64[ns]\n",
      " 6   plan                     393 non-null    object        \n",
      " 7   churn_date               25 non-null     datetime64[ns]\n",
      " 8   calls_per_moth           393 non-null    int32         \n",
      " 9   duration_call_per_month  393 non-null    int32         \n",
      " 10  messages_per_moth        393 non-null    int32         \n",
      " 11  gb_per_moth              393 non-null    int64         \n",
      " 12  month_income             393 non-null    float64       \n",
      "dtypes: datetime64[ns](2), float64(1), int32(3), int64(3), object(4)\n",
      "memory usage: 38.4+ KB\n"
     ]
    }
   ],
   "source": [
    "users_full.info()"
   ]
  },
  {
   "cell_type": "code",
   "execution_count": 45,
   "metadata": {},
   "outputs": [
    {
     "data": {
      "text/html": [
       "<div>\n",
       "<style scoped>\n",
       "    .dataframe tbody tr th:only-of-type {\n",
       "        vertical-align: middle;\n",
       "    }\n",
       "\n",
       "    .dataframe tbody tr th {\n",
       "        vertical-align: top;\n",
       "    }\n",
       "\n",
       "    .dataframe thead th {\n",
       "        text-align: right;\n",
       "    }\n",
       "</style>\n",
       "<table border=\"1\" class=\"dataframe\">\n",
       "  <thead>\n",
       "    <tr style=\"text-align: right;\">\n",
       "      <th></th>\n",
       "      <th>user_id</th>\n",
       "      <th>first_name</th>\n",
       "      <th>last_name</th>\n",
       "      <th>age</th>\n",
       "      <th>city</th>\n",
       "      <th>reg_date</th>\n",
       "      <th>plan</th>\n",
       "      <th>churn_date</th>\n",
       "      <th>calls_per_moth</th>\n",
       "      <th>duration_call_per_month</th>\n",
       "      <th>messages_per_moth</th>\n",
       "      <th>gb_per_moth</th>\n",
       "      <th>month_income</th>\n",
       "    </tr>\n",
       "  </thead>\n",
       "  <tbody>\n",
       "    <tr>\n",
       "      <th>0</th>\n",
       "      <td>1000</td>\n",
       "      <td>Anamaria</td>\n",
       "      <td>Bauer</td>\n",
       "      <td>45</td>\n",
       "      <td>Atlanta-Sandy Springs-Roswell, GA MSA</td>\n",
       "      <td>2018-12-24</td>\n",
       "      <td>ultimate</td>\n",
       "      <td>NaT</td>\n",
       "      <td>1</td>\n",
       "      <td>10</td>\n",
       "      <td>0</td>\n",
       "      <td>1</td>\n",
       "      <td>70.0</td>\n",
       "    </tr>\n",
       "    <tr>\n",
       "      <th>1</th>\n",
       "      <td>1001</td>\n",
       "      <td>Mickey</td>\n",
       "      <td>Wilkerson</td>\n",
       "      <td>28</td>\n",
       "      <td>Seattle-Tacoma-Bellevue, WA MSA</td>\n",
       "      <td>2018-08-13</td>\n",
       "      <td>surf</td>\n",
       "      <td>NaT</td>\n",
       "      <td>21</td>\n",
       "      <td>144</td>\n",
       "      <td>17</td>\n",
       "      <td>7</td>\n",
       "      <td>20.0</td>\n",
       "    </tr>\n",
       "    <tr>\n",
       "      <th>2</th>\n",
       "      <td>1002</td>\n",
       "      <td>Carlee</td>\n",
       "      <td>Hoffman</td>\n",
       "      <td>36</td>\n",
       "      <td>Las Vegas-Henderson-Paradise, NV MSA</td>\n",
       "      <td>2018-10-21</td>\n",
       "      <td>surf</td>\n",
       "      <td>NaT</td>\n",
       "      <td>9</td>\n",
       "      <td>69</td>\n",
       "      <td>7</td>\n",
       "      <td>4</td>\n",
       "      <td>20.0</td>\n",
       "    </tr>\n",
       "    <tr>\n",
       "      <th>3</th>\n",
       "      <td>1003</td>\n",
       "      <td>Reynaldo</td>\n",
       "      <td>Jenkins</td>\n",
       "      <td>52</td>\n",
       "      <td>Tulsa, OK MSA</td>\n",
       "      <td>2018-01-28</td>\n",
       "      <td>surf</td>\n",
       "      <td>NaT</td>\n",
       "      <td>12</td>\n",
       "      <td>92</td>\n",
       "      <td>4</td>\n",
       "      <td>3</td>\n",
       "      <td>20.0</td>\n",
       "    </tr>\n",
       "    <tr>\n",
       "      <th>4</th>\n",
       "      <td>1004</td>\n",
       "      <td>Leonila</td>\n",
       "      <td>Thompson</td>\n",
       "      <td>40</td>\n",
       "      <td>Seattle-Tacoma-Bellevue, WA MSA</td>\n",
       "      <td>2018-05-23</td>\n",
       "      <td>surf</td>\n",
       "      <td>NaT</td>\n",
       "      <td>30</td>\n",
       "      <td>231</td>\n",
       "      <td>14</td>\n",
       "      <td>14</td>\n",
       "      <td>20.0</td>\n",
       "    </tr>\n",
       "  </tbody>\n",
       "</table>\n",
       "</div>"
      ],
      "text/plain": [
       "   user_id first_name  last_name  age                                   city  \\\n",
       "0     1000   Anamaria      Bauer   45  Atlanta-Sandy Springs-Roswell, GA MSA   \n",
       "1     1001     Mickey  Wilkerson   28        Seattle-Tacoma-Bellevue, WA MSA   \n",
       "2     1002     Carlee    Hoffman   36   Las Vegas-Henderson-Paradise, NV MSA   \n",
       "3     1003   Reynaldo    Jenkins   52                          Tulsa, OK MSA   \n",
       "4     1004    Leonila   Thompson   40        Seattle-Tacoma-Bellevue, WA MSA   \n",
       "\n",
       "    reg_date      plan churn_date  calls_per_moth  duration_call_per_month  \\\n",
       "0 2018-12-24  ultimate        NaT               1                       10   \n",
       "1 2018-08-13      surf        NaT              21                      144   \n",
       "2 2018-10-21      surf        NaT               9                       69   \n",
       "3 2018-01-28      surf        NaT              12                       92   \n",
       "4 2018-05-23      surf        NaT              30                      231   \n",
       "\n",
       "   messages_per_moth  gb_per_moth  month_income  \n",
       "0                  0            1          70.0  \n",
       "1                 17            7          20.0  \n",
       "2                  7            4          20.0  \n",
       "3                  4            3          20.0  \n",
       "4                 14           14          20.0  "
      ]
     },
     "execution_count": 45,
     "metadata": {},
     "output_type": "execute_result"
    }
   ],
   "source": [
    "users_full.head()"
   ]
  },
  {
   "cell_type": "markdown",
   "metadata": {},
   "source": [
    "Finalmente hemos obtenido un único dataframe que, con las columnas adicionales de número de llamadas por mes, duración de las llamadas por mes, numero de mensajes enviados por mes y datos utilizados por mes, que se utilizara para el análisis objetivo del proyecto. A de remarcarse que la cantidad de filas de este dataframe a disminuido de 500 usuarios distintos a 393, esto se explica debido a que, como se mencionó en la sección anterior, los dataframes de \"calls\", \"messages\" y \"internet\" no poseían registros de los 500 usuarios distintos dentro de sí mismos por lo que al realizar el cruce de información entre estos la cantidad de usuarios disminuyo a los que eran comunes para estos tres dataframes."
   ]
  },
  {
   "cell_type": "markdown",
   "metadata": {},
   "source": [
    "## 6. Análisis de los datos"
   ]
  },
  {
   "cell_type": "markdown",
   "metadata": {},
   "source": [
    "En esta sección crearemos dataframes independientes para cada uno de los planes a analizar, con estos dataframes describiremos el comportamiento de los clientes para cada uno de los parámetros de los que consta el plan, observaremos los promedios, varianzas, desviación estándar y las distribuciones.\n",
    "\n",
    "Partiremos definiendo una función que nos ayude con el análisis y creando los dataframes antes mencionados."
   ]
  },
  {
   "cell_type": "code",
   "execution_count": 46,
   "metadata": {},
   "outputs": [],
   "source": [
    "def param_stad(data, column):\n",
    "    prom = round(data[column].mean(), 2)\n",
    "    var = round(np.var(data[column]), 2)\n",
    "    est = round(np.std(data[column]), 2)\n",
    "    print(f'promedio: {prom}, varianza: {var}, desv estandar: {est}')"
   ]
  },
  {
   "cell_type": "code",
   "execution_count": 47,
   "metadata": {},
   "outputs": [],
   "source": [
    "users_ultimate = users_full[users_full[\"plan\"]==\"ultimate\"]\n",
    "users_surf = users_full[users_full[\"plan\"]==\"surf\"]"
   ]
  },
  {
   "cell_type": "markdown",
   "metadata": {},
   "source": [
    "### 6.1. Análisis plan ultimate"
   ]
  },
  {
   "cell_type": "code",
   "execution_count": 48,
   "metadata": {},
   "outputs": [
    {
     "name": "stdout",
     "output_type": "stream",
     "text": [
      "promedio: 70.16, varianza: 3.34, desv estandar: 1.83\n"
     ]
    }
   ],
   "source": [
    "param_stad(users_ultimate, \"month_income\")"
   ]
  },
  {
   "cell_type": "code",
   "execution_count": 49,
   "metadata": {},
   "outputs": [
    {
     "data": {
      "text/plain": [
       "Text(0, 0.5, 'users')"
      ]
     },
     "execution_count": 49,
     "metadata": {},
     "output_type": "execute_result"
    },
    {
     "data": {
      "image/png": "[encoded data removed]",
      "text/plain": [
       "<Figure size 640x480 with 1 Axes>"
      ]
     },
     "metadata": {},
     "output_type": "display_data"
    }
   ],
   "source": [
    "users_ultimate.hist('month_income',bins=100)\n",
    "plt.title('Ultimate')\n",
    "plt.xlabel('month_income')\n",
    "plt.ylabel(\"users\")"
   ]
  },
  {
   "cell_type": "code",
   "execution_count": 50,
   "metadata": {},
   "outputs": [
    {
     "data": {
      "text/html": [
       "<div>\n",
       "<style scoped>\n",
       "    .dataframe tbody tr th:only-of-type {\n",
       "        vertical-align: middle;\n",
       "    }\n",
       "\n",
       "    .dataframe tbody tr th {\n",
       "        vertical-align: top;\n",
       "    }\n",
       "\n",
       "    .dataframe thead th {\n",
       "        text-align: right;\n",
       "    }\n",
       "</style>\n",
       "<table border=\"1\" class=\"dataframe\">\n",
       "  <thead>\n",
       "    <tr style=\"text-align: right;\">\n",
       "      <th></th>\n",
       "      <th>user_id</th>\n",
       "      <th>first_name</th>\n",
       "      <th>last_name</th>\n",
       "      <th>age</th>\n",
       "      <th>city</th>\n",
       "      <th>reg_date</th>\n",
       "      <th>plan</th>\n",
       "      <th>churn_date</th>\n",
       "      <th>calls_per_moth</th>\n",
       "      <th>duration_call_per_month</th>\n",
       "      <th>messages_per_moth</th>\n",
       "      <th>gb_per_moth</th>\n",
       "      <th>month_income</th>\n",
       "    </tr>\n",
       "  </thead>\n",
       "  <tbody>\n",
       "    <tr>\n",
       "      <th>21</th>\n",
       "      <td>1028</td>\n",
       "      <td>Jefferey</td>\n",
       "      <td>Rasmussen</td>\n",
       "      <td>57</td>\n",
       "      <td>Philadelphia-Camden-Wilmington, PA-NJ-DE-MD MSA</td>\n",
       "      <td>2018-02-21</td>\n",
       "      <td>ultimate</td>\n",
       "      <td>NaT</td>\n",
       "      <td>6</td>\n",
       "      <td>43</td>\n",
       "      <td>63</td>\n",
       "      <td>33</td>\n",
       "      <td>91.0</td>\n",
       "    </tr>\n",
       "  </tbody>\n",
       "</table>\n",
       "</div>"
      ],
      "text/plain": [
       "    user_id first_name  last_name  age  \\\n",
       "21     1028   Jefferey  Rasmussen   57   \n",
       "\n",
       "                                               city   reg_date      plan  \\\n",
       "21  Philadelphia-Camden-Wilmington, PA-NJ-DE-MD MSA 2018-02-21  ultimate   \n",
       "\n",
       "   churn_date  calls_per_moth  duration_call_per_month  messages_per_moth  \\\n",
       "21        NaT               6                       43                 63   \n",
       "\n",
       "    gb_per_moth  month_income  \n",
       "21           33          91.0  "
      ]
     },
     "execution_count": 50,
     "metadata": {},
     "output_type": "execute_result"
    }
   ],
   "source": [
    "users_ultimate[users_ultimate[\"month_income\"]>70]"
   ]
  },
  {
   "cell_type": "markdown",
   "metadata": {},
   "source": [
    "Como podemos apreciar para el ingreso mensual entregado por el plan \"ultimate\", prácticamente todos los usuarios de este plan se mantienen dentro del pago mensual sin pagar excedentes a excepción de un único usuario que pagó excedentes por pasarse en el uso de datos de internet. Debido a lo anterior el promedio es se mantiene muy cercano al precio propio del plan de 70 dólares y la variación estándar es muy baja."
   ]
  },
  {
   "cell_type": "code",
   "execution_count": 51,
   "metadata": {},
   "outputs": [
    {
     "data": {
      "text/plain": [
       "Text(0, 0.5, 'users')"
      ]
     },
     "execution_count": 51,
     "metadata": {},
     "output_type": "execute_result"
    },
    {
     "data": {
      "image/png": "[encoded data removed]",
      "text/plain": [
       "<Figure size 640x480 with 1 Axes>"
      ]
     },
     "metadata": {},
     "output_type": "display_data"
    },
    {
     "data": {
      "image/png": "[encoded data removed]",
      "text/plain": [
       "<Figure size 640x480 with 1 Axes>"
      ]
     },
     "metadata": {},
     "output_type": "display_data"
    },
    {
     "data": {
      "image/png": "[encoded data removed]",
      "text/plain": [
       "<Figure size 640x480 with 1 Axes>"
      ]
     },
     "metadata": {},
     "output_type": "display_data"
    }
   ],
   "source": [
    "users_ultimate.hist('duration_call_per_month',bins=100)\n",
    "plt.ylabel(\"users\")\n",
    "users_ultimate.hist('messages_per_moth',bins=100)\n",
    "plt.ylabel(\"users\")\n",
    "users_ultimate.hist('gb_per_moth',bins=100)\n",
    "plt.ylabel(\"users\")"
   ]
  },
  {
   "cell_type": "markdown",
   "metadata": {},
   "source": [
    "Podemos observar que en todas las columnas de parámetros que afectan los ingresos por mes presentan un sesgo positivo, es decir una asimetría positiva. \n",
    "\n",
    "Para el caso de la duración de las llamadas por mes podemos observar el mayor peak de duración alrededor de los 90 minutos de llamadas por mes, también podemos observar que a partir de los 300 minutos por mes la cantidad de personas que ocupan esta cantidad de minutos se mantiene más o menos contante hasta la duración máxima de 700 minutos por mes.\n",
    "\n",
    "Para el caso de la cantidad de mensajes enviados podemos observar que el peak se encuentra en los 0 mensajes y a partir de aquí disminuyen la cantidad de usuarios conforme aumenta la cantidad de mensajes enviados. Con lo anterior podemos concluir que los mensajes es una de las funciones que menos utilizan los usuarios del plan \"ultimate\".\n",
    "\n",
    "Para el caso de los datos utilizados el peak se encuentra en los 2 gigabytes utilizados al mes, disminuyendo hasta los 23 gigabytes, existiendo un valor atípico de 33 gigabytes el cual es el usuario que paga excedentes."
   ]
  },
  {
   "cell_type": "markdown",
   "metadata": {},
   "source": [
    "### 6.2. Análisis plan surf"
   ]
  },
  {
   "cell_type": "code",
   "execution_count": 52,
   "metadata": {},
   "outputs": [
    {
     "name": "stdout",
     "output_type": "stream",
     "text": [
      "promedio: 22.12, varianza: 124.19, desv estandar: 11.14\n"
     ]
    }
   ],
   "source": [
    "param_stad(users_surf, \"month_income\")"
   ]
  },
  {
   "cell_type": "code",
   "execution_count": 53,
   "metadata": {},
   "outputs": [
    {
     "data": {
      "text/plain": [
       "262"
      ]
     },
     "execution_count": 53,
     "metadata": {},
     "output_type": "execute_result"
    }
   ],
   "source": [
    "len(users_surf)"
   ]
  },
  {
   "cell_type": "code",
   "execution_count": 54,
   "metadata": {},
   "outputs": [
    {
     "data": {
      "text/plain": [
       "Text(0, 0.5, 'users')"
      ]
     },
     "execution_count": 54,
     "metadata": {},
     "output_type": "execute_result"
    },
    {
     "data": {
      "image/png": "[encoded data removed]",
      "text/plain": [
       "<Figure size 640x480 with 1 Axes>"
      ]
     },
     "metadata": {},
     "output_type": "display_data"
    }
   ],
   "source": [
    "users_surf.hist('month_income',bins=100)\n",
    "plt.title('Surf')\n",
    "plt.xlabel('month_income')\n",
    "plt.ylabel(\"users\")"
   ]
  },
  {
   "cell_type": "code",
   "execution_count": 55,
   "metadata": {},
   "outputs": [
    {
     "data": {
      "text/plain": [
       "<AxesSubplot:>"
      ]
     },
     "execution_count": 55,
     "metadata": {},
     "output_type": "execute_result"
    },
    {
     "data": {
      "image/png": "[encoded data removed]",
      "text/plain": [
       "<Figure size 1500x500 with 1 Axes>"
      ]
     },
     "metadata": {},
     "output_type": "display_data"
    }
   ],
   "source": [
    "users_surf.boxplot(column=\"month_income\", figsize=(15,5))"
   ]
  },
  {
   "cell_type": "code",
   "execution_count": 56,
   "metadata": {
    "scrolled": true
   },
   "outputs": [
    {
     "data": {
      "text/plain": [
       "22"
      ]
     },
     "execution_count": 56,
     "metadata": {},
     "output_type": "execute_result"
    }
   ],
   "source": [
    "len(users_surf[users_surf[\"month_income\"]>20])"
   ]
  },
  {
   "cell_type": "markdown",
   "metadata": {},
   "source": [
    "En el caso del plan \"surf\" alrededor de un 10% de los usuarios pagan excedentes por el uso de su plan mensual, observando el promedio de ingresos mensuales por este plan es un valor de un 10% mayor al costo de 20 dólares del plan, debido a todo lo anterior expuesto la desviación estándar para este plan es mucho mayor que para el plan \"ultimate\", siendo de 11 dólares aproximadamente debido a los usuarios que pagan excedentes. "
   ]
  },
  {
   "cell_type": "code",
   "execution_count": 57,
   "metadata": {},
   "outputs": [
    {
     "data": {
      "text/plain": [
       "Text(0, 0.5, 'users')"
      ]
     },
     "execution_count": 57,
     "metadata": {},
     "output_type": "execute_result"
    },
    {
     "data": {
      "image/png": "[encoded data removed]",
      "text/plain": [
       "<Figure size 640x480 with 1 Axes>"
      ]
     },
     "metadata": {},
     "output_type": "display_data"
    },
    {
     "data": {
      "image/png": "[encoded data removed]",
      "text/plain": [
       "<Figure size 640x480 with 1 Axes>"
      ]
     },
     "metadata": {},
     "output_type": "display_data"
    },
    {
     "data": {
      "image/png": "[encoded data removed]",
      "text/plain": [
       "<Figure size 640x480 with 1 Axes>"
      ]
     },
     "metadata": {},
     "output_type": "display_data"
    }
   ],
   "source": [
    "users_surf.hist('duration_call_per_month',bins=100)\n",
    "plt.ylabel(\"users\")\n",
    "users_surf.hist('messages_per_moth',bins=100)\n",
    "plt.ylabel(\"users\")\n",
    "users_surf.hist('gb_per_moth',bins=100)\n",
    "plt.ylabel(\"users\")"
   ]
  },
  {
   "cell_type": "markdown",
   "metadata": {},
   "source": [
    "Al igual que en el caso del plan \"ultimate\" podemos observar que los parámetros que afectan los ingresos poseen un sesgo positivo en su distribución.\n",
    "\n",
    "En el caso de la duración de las llamadas por mes, para este plan podemos observar una distribución similar a la del plan anterior, aunque se puede observar que el peak de usuarios de este grafico es mayor que en el plan anterior, también a partir de los 460 minutos de duración de llamadas por mes podemos apreciar los usuarios que sobrepasan el límite de minutos que abarca el plan y por ende comienzan a pagar excedentes.\n",
    "\n",
    "Para el caso de la cantidad de mensajes enviados por mes, estos también muestran un peak en los 0 mensajes y comienzan a disminuir progresivamente según comienza a aumentar el envío de los mismos, a partir de los 50 mensajes que es el límite otorgado por el plan podemos encontrar usuarios que sobrepasan este límite hasta llegar a alrededor de los 60 mensajes y más a la derecha vemos casos atípicos de usuarios que mandan alrededor de 100 mensajes por mes.\n",
    "\n",
    "Para finalizar con los datos utilizados al mes el peak vuelve a encontrarse en los 2 gigabytes y a partir de los 15 gigabytes encontramos a los usuarios que pagan excedentes."
   ]
  },
  {
   "cell_type": "markdown",
   "metadata": {},
   "source": [
    "### 6.3. Conclusiones preliminares"
   ]
  },
  {
   "cell_type": "markdown",
   "metadata": {},
   "source": [
    "Comparando la distribución de ambos planes podemos concluir que son similares presentando patrones de asimetría iguales y tendencias muy parecidas, en el caso del plan \"surf\" podemos observar que alrededor de un 10% de los usuarios exceden los límites que presenta este plan mientras que de los usuarios del plan \"ultimate\" solo uno de los usuarios registrados en el dataset sobrepasa los límites de ese plan."
   ]
  },
  {
   "cell_type": "markdown",
   "metadata": {},
   "source": [
    "## 7. Prueba de hipótesis"
   ]
  },
  {
   "cell_type": "markdown",
   "metadata": {},
   "source": [
    "Ahora procederemos a realizar las pruebas de hipótesis con respecto a igualdad de las medias en dos poblaciones, primero comprobaremos la hipótesis de si el ingreso promedio de las tarifas difiere y posteriormente comprobaremos si el ingreso promedio de los usuarios de estados Nueva York-Nueva Jersey no difiere del resto de las otras regiones."
   ]
  },
  {
   "cell_type": "markdown",
   "metadata": {},
   "source": [
    "### 7.1. Ingreso promedio de las tarifas"
   ]
  },
  {
   "cell_type": "markdown",
   "metadata": {},
   "source": [
    "Comenzaremos comprobando la hipótesis de que el ingreso promedio de los usuarios de las tarifas Ultimate y Surf difiere, para este caso definiremos la hipótesis nula como que los ingresos promedios entre las tarifas no varían ya que normalmente se define la hipótesis nula como que no hay variaciones entre los valores estudiados. Para el caso del valor alfa utilizaremos el valor del 5% por ser una medida común de significación estadística."
   ]
  },
  {
   "cell_type": "code",
   "execution_count": 58,
   "metadata": {},
   "outputs": [],
   "source": [
    "alpha = 0.05"
   ]
  },
  {
   "cell_type": "code",
   "execution_count": 59,
   "metadata": {},
   "outputs": [],
   "source": [
    "results = st.ttest_ind(users_ultimate[\"month_income\"], users_surf[\"month_income\"])"
   ]
  },
  {
   "cell_type": "code",
   "execution_count": 60,
   "metadata": {},
   "outputs": [
    {
     "name": "stdout",
     "output_type": "stream",
     "text": [
      "p-value: 1.1540377688740305e-168\n"
     ]
    }
   ],
   "source": [
    "print('p-value:', results.pvalue)"
   ]
  },
  {
   "cell_type": "code",
   "execution_count": 61,
   "metadata": {},
   "outputs": [
    {
     "name": "stdout",
     "output_type": "stream",
     "text": [
      "Rechazamos la hipótesis nula, el ingreso promedio de las tarifas difiere\n"
     ]
    }
   ],
   "source": [
    "if (results.pvalue < alpha):\n",
    "    print(\"Rechazamos la hipótesis nula, el ingreso promedio de las tarifas difiere\")\n",
    "else:\n",
    "    print(\"No rechazamos la hipótesis nula, el ingreso promedio de las tarifas es igual\")"
   ]
  },
  {
   "cell_type": "markdown",
   "metadata": {},
   "source": [
    "Realizada la prueba de hipótesis podemos comprobar que se rechazó la hipótesis nula, es decir el ingreso promedio entre ambas tarifas si difiere. el p-value es de 1.154e-168 aprox, es decir que existe una probabilidad infima de obtener un valor de la igualdad de ingresos en ambas tarifas como hemos establecido en la hipótesis nula, al ser este valor tan bajo es poco probable de la diferencia entre tarifas sea debido al azar y por esto es rechazada la hipótesis nula de que ambas tarifas no difieren."
   ]
  },
  {
   "cell_type": "markdown",
   "metadata": {},
   "source": [
    "### 7.2. Ingreso promedio del estado Nueva York-Nueva Jersey vs otras regiones"
   ]
  },
  {
   "cell_type": "markdown",
   "metadata": {},
   "source": [
    "Continuaremos comprobando la hipótesis de que el ingreso promedio de los usuarios en el área de estados Nueva York-Nueva Jersey es diferente al de los usuarios de otras regiones, para este caso definiremos la hipótesis nula como que el ingreso entre los usuarios de Nueva York-Nueva Jersey no difiere de los del resto de las regiones bajo el mismo argumento que en el caso anterior, para el valor alfa también se utilizara el 5% por ser una medida común de significación estadística."
   ]
  },
  {
   "cell_type": "code",
   "execution_count": 62,
   "metadata": {},
   "outputs": [],
   "source": [
    "alpha = 0.05"
   ]
  },
  {
   "cell_type": "code",
   "execution_count": 63,
   "metadata": {},
   "outputs": [],
   "source": [
    "results = st.ttest_ind(users_full[users_full[\"city\"]==\"New York-Newark-Jersey City, NY-NJ-PA MSA\"][\"month_income\"],\n",
    "                       users_full[users_full[\"city\"]!=\"New York-Newark-Jersey City, NY-NJ-PA MSA\"][\"month_income\"])"
   ]
  },
  {
   "cell_type": "code",
   "execution_count": 64,
   "metadata": {},
   "outputs": [
    {
     "name": "stdout",
     "output_type": "stream",
     "text": [
      "p-value: 0.28810810483002924\n"
     ]
    }
   ],
   "source": [
    "print('p-value:', results.pvalue)"
   ]
  },
  {
   "cell_type": "code",
   "execution_count": 65,
   "metadata": {},
   "outputs": [
    {
     "name": "stdout",
     "output_type": "stream",
     "text": [
      "No rechazamos la hipótesis nula\n"
     ]
    }
   ],
   "source": [
    "if (results.pvalue < alpha):\n",
    "    print(\"Rechazamos la hipótesis nula\")\n",
    "else:\n",
    "    print(\"No rechazamos la hipótesis nula\")"
   ]
  },
  {
   "cell_type": "markdown",
   "metadata": {},
   "source": [
    "Realizada la prueba de hipótesis podemos comprobar que no se rechazó la hipótesis nula, es decir nuestro análisis sugiere que el promedio de ingreso de los usuarios de los estados en el área de estados Nueva York-Nueva Jersey es similar al del resto de los estados por ende nuestra hipótesis original de que estos promedios diferían no puede ser validada. En este caso el p-value es de un 29% aprox por lo que diferencias en los promedios de ingresos pueden verse influenciados por el azar de donde se obtuvieron los datos."
   ]
  },
  {
   "cell_type": "markdown",
   "metadata": {},
   "source": [
    "## 8. Conclusión general"
   ]
  },
  {
   "cell_type": "markdown",
   "metadata": {},
   "source": [
    "Comenzando con el trabajo realizado con el procesamiento de los datos, los dataframe en general se encontraban en muy buenas condiciones siendo el mayor cambio realizado en la mayoría de ellos el cambio de tipo de columna object a datetime en las que correspondían a valores de fechas. Independiente de lo anterior, existen dos casos puntuales que se tuvieron que analizar los cuales son:\n",
    "\n",
    " La presencia de valores de 0 en la duración de las llamadas del dataframe \"calls\", consistiendo en alrededor de un 20% de los valores. Se determinó mantener estos valores de 0, que podían corresponder a llamadas perdidas, ya que su presencia no iba a afectar el análisis de ingresos correspondiente a cada plan y por otra parte el eliminar estas llamadas podía conducir a la eliminación de usuarios del dataframe final al realizar el cruce de datos con el resto de los dataframe con el identificador único de cada usuario, ya que podrían ser usuarios que no tuvieran minutos de uso de las llamadas pero si uso de datos o mensajes y que quedarían fuera al eliminar estas filas.\n",
    " \n",
    " El otro aspecto a analizar fue la ausencia de valores en la columna \"churn_date\" en el dataframe \"users\", esta ausencia de valores corresponde a la gente que al terminar el año 2018 aun seguía utilizando su plan por lo que no poseía una fecha de salida del mismo, se decidió no rellenar estos valores ya que podría entrar en conflicto a la hora de cambiar el tipo de dato de object a datetime.\n",
    " \n",
    " Posteriormente se continuo con el enriquecimiento de datos a través de la creación de un nuevo dataframe \"users_full\" a partir del dataframe users con la adición de columnas que se cruzan con el resto de los dataframe. Se creó una columna de cantidad de llamadas y duración de las llamadas por mes a través del cruce con el dataframe \"calls\", se creó una columna de cantidad de mensajes por mes con el dataframe \"messages\" y otra columna con datos utilizados por mes con el dataframe \"internet\". Finalmente se creó a partir de las columnas recientemente añadidas una última columna con los ingresos mensuales por parte de Megaline a partir de una función que detecta el tipo de plan del usuario y aplica sus condiciones específicas.\n",
    "\n",
    "Procedimos con un análisis individual de cada plan, observando la distribución, promedio, desviación estándar e histogramas de ambos. Se concluye que ambos planes presentan en cada uno de los parámetros que generan ingresos, llamadas, mensajes y datos, una distribución semejante con una asimetría positiva con sus peaks en valores cercanos. El plan \"ultimate\" prácticamente no presenta usuarios que sobrepasen los límites del propio plan siendo su promedio un 0,2% mayor al valor de tarifa del plan, por el contrario, el plan \"surf\" presenta un 10% de usuarios que sobrepasan los límites de tarifa del plan y por ende pagan excedentes lo que aumenta la recaudación de este plan en un 10% por sobre su valor establecido.\n",
    "\n",
    "Finalmente se realizaron dos pruebas de hipótesis, la primera con respecto a que el promedio de tarifas de ambos planes difiere. Para este primer caso se utilizó como hipótesis nula que ambas tarifas no difieren ya que normalmente se utiliza como la misma el hecho de que los valores se mantengan iguales, como valor alpha se escogió un 5% por ser un valor habitual del mismo. Como resultado la hipótesis se procedió a rechazar la hipótesis nula ya que el p-value obtenido era mucho menor que el valor alpha obtenido por lo que las diferencias entre promedio de ingresos de las tarifas no se deben al azar de la recolección de los datos sino a que ambas difieren en sí mismas.\n",
    "\n",
    "Como segunda prueba de hipótesis se verifico si el ingreso promedio de los usuarios en el área de estados Nueva York-Nueva Jersey es diferente al de los usuarios de otras regiones, en este caso se utilizó como hipótesis nula que los ingresos promedios no difieren y un valor alpha de 5% por lo expuesto en la prueba anterior. En este caso se obtuvo un p-value de un 29% aproximadamente por lo que no se puede rechazar la hipótesis nula de que los ingresos promedio de los usuarios en el área de estados Nueva York-Nueva Jersey es igual al del resto de las regiones y por ende rechazamos nuestra hipótesis original que planteaba que diferían.\n",
    "\n",
    "Para concluir, en base a lo analizado y las pruebas de hipótesis realizadas, podemos decantarnos a que el plan \"ultimate\" genera más ingresos a Megaline que el plan \"surf\", el primero posee un promedio de ingresos mucho mayor que el segundo y aunque una mayor cantidad de usuarios tiendan a sobrepasar los límites de las tarifas del plan \"surf\" pagando excedentes esto no alcanza para acercarse al valor base pagado en el plan \"ultimate\". Por otra parte, la prueba de hipótesis realizada nos arroja un resultado lo suficientemente definitorio como para decir que las diferencias de ingresos promedios en los planes son debido a los mismos planes y no debido a que haya una influencia por el azar existente al obtener los datos utilizados para el estudio. En base a lo anterior e que se recomienda a Megaline que invierta sus esfuerzos en promocionar el plan \"ultimate\" en pos de obtener mayores beneficios."
   ]
  }
 ],
 "metadata": {
  "ExecuteTimeLog": [
   {
    "duration": 490,
    "start_time": "2022-06-08T13:16:26.804Z"
   },
   {
    "duration": 727,
    "start_time": "2022-06-08T13:22:42.787Z"
   },
   {
    "duration": 17,
    "start_time": "2022-06-08T13:22:50.415Z"
   },
   {
    "duration": 14,
    "start_time": "2022-06-08T13:23:36.255Z"
   },
   {
    "duration": 15,
    "start_time": "2022-06-08T13:26:41.528Z"
   },
   {
    "duration": 9,
    "start_time": "2022-06-08T13:26:53.461Z"
   },
   {
    "duration": 17,
    "start_time": "2022-06-08T13:27:07.816Z"
   },
   {
    "duration": 9,
    "start_time": "2022-06-08T13:27:14.177Z"
   },
   {
    "duration": 11,
    "start_time": "2022-06-08T13:27:45.300Z"
   },
   {
    "duration": 70,
    "start_time": "2022-06-08T13:27:55.965Z"
   },
   {
    "duration": 10,
    "start_time": "2022-06-08T13:28:00.250Z"
   },
   {
    "duration": 10,
    "start_time": "2022-06-08T13:28:16.613Z"
   },
   {
    "duration": 7,
    "start_time": "2022-06-08T13:28:22.004Z"
   },
   {
    "duration": 9,
    "start_time": "2022-06-08T13:28:30.273Z"
   },
   {
    "duration": 424,
    "start_time": "2022-06-12T22:17:51.581Z"
   },
   {
    "duration": 855,
    "start_time": "2022-06-12T22:17:52.129Z"
   },
   {
    "duration": 28,
    "start_time": "2022-06-12T22:17:52.986Z"
   },
   {
    "duration": 13,
    "start_time": "2022-06-12T22:17:54.168Z"
   },
   {
    "duration": 18,
    "start_time": "2022-06-12T22:17:56.047Z"
   },
   {
    "duration": 8,
    "start_time": "2022-06-12T22:17:56.558Z"
   },
   {
    "duration": 22,
    "start_time": "2022-06-12T22:17:57.783Z"
   },
   {
    "duration": 7,
    "start_time": "2022-06-12T22:17:58.343Z"
   },
   {
    "duration": 12,
    "start_time": "2022-06-12T22:18:00.750Z"
   },
   {
    "duration": 10,
    "start_time": "2022-06-12T22:18:01.135Z"
   },
   {
    "duration": 12,
    "start_time": "2022-06-12T22:18:02.351Z"
   },
   {
    "duration": 11,
    "start_time": "2022-06-12T22:18:08.809Z"
   },
   {
    "duration": 11,
    "start_time": "2022-06-12T22:18:09.206Z"
   },
   {
    "duration": 50,
    "start_time": "2022-06-14T01:46:29.799Z"
   },
   {
    "duration": 394,
    "start_time": "2022-06-14T01:46:37.326Z"
   },
   {
    "duration": 819,
    "start_time": "2022-06-14T01:46:38.269Z"
   },
   {
    "duration": 20,
    "start_time": "2022-06-14T01:46:41.987Z"
   },
   {
    "duration": 13,
    "start_time": "2022-06-14T01:46:44.789Z"
   },
   {
    "duration": 27,
    "start_time": "2022-06-14T01:46:45.830Z"
   },
   {
    "duration": 7,
    "start_time": "2022-06-14T01:46:52.437Z"
   },
   {
    "duration": 46,
    "start_time": "2022-06-14T01:47:56.614Z"
   },
   {
    "duration": 150,
    "start_time": "2022-06-14T01:49:00.832Z"
   },
   {
    "duration": 133,
    "start_time": "2022-06-14T01:49:18.430Z"
   },
   {
    "duration": 7,
    "start_time": "2022-06-14T01:54:57.774Z"
   },
   {
    "duration": 15,
    "start_time": "2022-06-14T01:55:05.247Z"
   },
   {
    "duration": 7,
    "start_time": "2022-06-14T01:56:08.494Z"
   },
   {
    "duration": 8,
    "start_time": "2022-06-14T01:56:19.446Z"
   },
   {
    "duration": 8,
    "start_time": "2022-06-14T01:56:41.822Z"
   },
   {
    "duration": 17,
    "start_time": "2022-06-14T01:59:39.164Z"
   },
   {
    "duration": 12,
    "start_time": "2022-06-14T01:59:41.008Z"
   },
   {
    "duration": 124,
    "start_time": "2022-06-14T01:59:43.300Z"
   },
   {
    "duration": 19,
    "start_time": "2022-06-14T02:00:55.087Z"
   },
   {
    "duration": 32,
    "start_time": "2022-06-14T02:01:20.345Z"
   },
   {
    "duration": 2,
    "start_time": "2022-06-14T02:01:29.662Z"
   },
   {
    "duration": 109,
    "start_time": "2022-06-14T02:01:41.309Z"
   },
   {
    "duration": 3,
    "start_time": "2022-06-14T02:01:55.246Z"
   },
   {
    "duration": 128,
    "start_time": "2022-06-14T02:02:00.078Z"
   },
   {
    "duration": 411,
    "start_time": "2022-06-14T02:02:17.145Z"
   },
   {
    "duration": 3,
    "start_time": "2022-06-14T02:02:32.389Z"
   },
   {
    "duration": 114,
    "start_time": "2022-06-14T02:02:37.406Z"
   },
   {
    "duration": 81,
    "start_time": "2022-06-14T02:02:41.933Z"
   },
   {
    "duration": 3,
    "start_time": "2022-06-14T02:08:22.470Z"
   },
   {
    "duration": 18,
    "start_time": "2022-06-14T02:08:48.055Z"
   },
   {
    "duration": 19,
    "start_time": "2022-06-14T02:08:56.041Z"
   },
   {
    "duration": 17,
    "start_time": "2022-06-14T02:09:38.274Z"
   },
   {
    "duration": 18,
    "start_time": "2022-06-14T02:09:46.382Z"
   },
   {
    "duration": 8,
    "start_time": "2022-06-14T02:11:30.446Z"
   },
   {
    "duration": 2,
    "start_time": "2022-06-14T02:14:00.800Z"
   },
   {
    "duration": 384,
    "start_time": "2022-06-14T02:15:16.072Z"
   },
   {
    "duration": 291,
    "start_time": "2022-06-14T02:15:16.879Z"
   },
   {
    "duration": 3,
    "start_time": "2022-06-14T02:15:19.049Z"
   },
   {
    "duration": 3,
    "start_time": "2022-06-14T02:15:19.455Z"
   },
   {
    "duration": 2,
    "start_time": "2022-06-14T02:15:19.792Z"
   },
   {
    "duration": 20,
    "start_time": "2022-06-14T02:15:22.761Z"
   },
   {
    "duration": 14,
    "start_time": "2022-06-14T02:15:23.638Z"
   },
   {
    "duration": 114,
    "start_time": "2022-06-14T02:15:24.520Z"
   },
   {
    "duration": 6,
    "start_time": "2022-06-14T02:15:27.647Z"
   },
   {
    "duration": 3,
    "start_time": "2022-06-14T02:15:44.608Z"
   },
   {
    "duration": 8,
    "start_time": "2022-06-14T02:15:47.655Z"
   },
   {
    "duration": 24,
    "start_time": "2022-06-14T02:15:50.144Z"
   },
   {
    "duration": 16,
    "start_time": "2022-06-14T02:15:50.888Z"
   },
   {
    "duration": 17,
    "start_time": "2022-06-14T02:15:55.241Z"
   },
   {
    "duration": 7,
    "start_time": "2022-06-14T02:15:55.736Z"
   },
   {
    "duration": 87,
    "start_time": "2022-06-14T02:15:56.463Z"
   },
   {
    "duration": 6,
    "start_time": "2022-06-14T02:16:34.512Z"
   },
   {
    "duration": 16,
    "start_time": "2022-06-14T02:16:37.552Z"
   },
   {
    "duration": 13,
    "start_time": "2022-06-14T02:16:38.427Z"
   },
   {
    "duration": 16,
    "start_time": "2022-06-14T02:17:06.400Z"
   },
   {
    "duration": 7,
    "start_time": "2022-06-14T02:17:11.007Z"
   },
   {
    "duration": 67,
    "start_time": "2022-06-14T02:17:16.255Z"
   },
   {
    "duration": 12,
    "start_time": "2022-06-14T02:18:36.431Z"
   },
   {
    "duration": 11,
    "start_time": "2022-06-14T02:18:45.831Z"
   },
   {
    "duration": 11,
    "start_time": "2022-06-14T02:21:29.105Z"
   },
   {
    "duration": 8,
    "start_time": "2022-06-14T02:21:53.217Z"
   },
   {
    "duration": 10,
    "start_time": "2022-06-14T02:22:59.568Z"
   },
   {
    "duration": 9,
    "start_time": "2022-06-14T02:23:07.416Z"
   },
   {
    "duration": 21,
    "start_time": "2022-06-14T02:29:37.920Z"
   },
   {
    "duration": 5,
    "start_time": "2022-06-14T02:34:18.712Z"
   },
   {
    "duration": 57,
    "start_time": "2022-06-14T02:34:24.452Z"
   },
   {
    "duration": 4,
    "start_time": "2022-06-14T02:36:44.225Z"
   },
   {
    "duration": 5,
    "start_time": "2022-06-14T02:37:08.876Z"
   },
   {
    "duration": 9,
    "start_time": "2022-06-14T02:37:40.434Z"
   },
   {
    "duration": 20,
    "start_time": "2022-06-14T02:37:52.338Z"
   },
   {
    "duration": 303,
    "start_time": "2022-06-14T02:40:11.095Z"
   },
   {
    "duration": 6,
    "start_time": "2022-06-14T02:40:11.741Z"
   },
   {
    "duration": 4,
    "start_time": "2022-06-14T02:40:17.787Z"
   },
   {
    "duration": 5,
    "start_time": "2022-06-14T02:40:20.777Z"
   },
   {
    "duration": 10,
    "start_time": "2022-06-14T02:40:27.515Z"
   },
   {
    "duration": 10,
    "start_time": "2022-06-14T02:40:58.691Z"
   },
   {
    "duration": 361,
    "start_time": "2022-06-15T01:29:00.410Z"
   },
   {
    "duration": 820,
    "start_time": "2022-06-15T01:29:00.773Z"
   },
   {
    "duration": 3,
    "start_time": "2022-06-15T01:29:01.595Z"
   },
   {
    "duration": 16,
    "start_time": "2022-06-15T01:29:01.600Z"
   },
   {
    "duration": 10,
    "start_time": "2022-06-15T01:29:01.618Z"
   },
   {
    "duration": 27,
    "start_time": "2022-06-15T01:29:01.629Z"
   },
   {
    "duration": 21,
    "start_time": "2022-06-15T01:29:01.657Z"
   },
   {
    "duration": 150,
    "start_time": "2022-06-15T01:29:01.680Z"
   },
   {
    "duration": 16,
    "start_time": "2022-06-15T01:29:01.832Z"
   },
   {
    "duration": 62,
    "start_time": "2022-06-15T01:29:01.851Z"
   },
   {
    "duration": 90,
    "start_time": "2022-06-15T01:29:01.914Z"
   },
   {
    "duration": 90,
    "start_time": "2022-06-15T01:29:02.005Z"
   },
   {
    "duration": 53,
    "start_time": "2022-06-15T01:29:02.096Z"
   },
   {
    "duration": 98,
    "start_time": "2022-06-15T01:29:02.151Z"
   },
   {
    "duration": 6,
    "start_time": "2022-06-15T01:29:02.251Z"
   },
   {
    "duration": 30,
    "start_time": "2022-06-15T01:29:02.259Z"
   },
   {
    "duration": 13,
    "start_time": "2022-06-15T01:29:02.290Z"
   },
   {
    "duration": 12,
    "start_time": "2022-06-15T01:29:02.304Z"
   },
   {
    "duration": 9,
    "start_time": "2022-06-15T01:29:02.318Z"
   },
   {
    "duration": 69,
    "start_time": "2022-06-15T01:29:02.328Z"
   },
   {
    "duration": 11,
    "start_time": "2022-06-15T01:29:02.399Z"
   },
   {
    "duration": 11,
    "start_time": "2022-06-15T01:29:02.412Z"
   },
   {
    "duration": 36,
    "start_time": "2022-06-15T01:29:02.425Z"
   },
   {
    "duration": 17,
    "start_time": "2022-06-15T01:29:02.463Z"
   },
   {
    "duration": 23,
    "start_time": "2022-06-15T01:29:02.482Z"
   },
   {
    "duration": 15,
    "start_time": "2022-06-15T01:29:02.507Z"
   },
   {
    "duration": 19,
    "start_time": "2022-06-15T01:29:02.524Z"
   },
   {
    "duration": 41,
    "start_time": "2022-06-15T01:29:02.547Z"
   },
   {
    "duration": 7,
    "start_time": "2022-06-15T01:29:02.590Z"
   },
   {
    "duration": 28,
    "start_time": "2022-06-15T01:29:02.599Z"
   },
   {
    "duration": 18,
    "start_time": "2022-06-15T01:29:02.630Z"
   },
   {
    "duration": 13,
    "start_time": "2022-06-15T01:46:23.203Z"
   },
   {
    "duration": 11,
    "start_time": "2022-06-15T01:46:31.218Z"
   },
   {
    "duration": 8,
    "start_time": "2022-06-15T01:49:09.333Z"
   },
   {
    "duration": 387,
    "start_time": "2022-06-16T00:52:23.795Z"
   },
   {
    "duration": 826,
    "start_time": "2022-06-16T00:52:24.184Z"
   },
   {
    "duration": 3,
    "start_time": "2022-06-16T00:52:25.012Z"
   },
   {
    "duration": 6,
    "start_time": "2022-06-16T00:52:25.018Z"
   },
   {
    "duration": 8,
    "start_time": "2022-06-16T00:52:25.026Z"
   },
   {
    "duration": 23,
    "start_time": "2022-06-16T00:52:25.036Z"
   },
   {
    "duration": 13,
    "start_time": "2022-06-16T00:52:25.061Z"
   },
   {
    "duration": 153,
    "start_time": "2022-06-16T00:52:25.076Z"
   },
   {
    "duration": 8,
    "start_time": "2022-06-16T00:52:25.231Z"
   },
   {
    "duration": 34,
    "start_time": "2022-06-16T00:52:25.254Z"
   },
   {
    "duration": 15,
    "start_time": "2022-06-16T00:52:25.289Z"
   },
   {
    "duration": 15,
    "start_time": "2022-06-16T00:52:25.306Z"
   },
   {
    "duration": 8,
    "start_time": "2022-06-16T00:52:25.323Z"
   },
   {
    "duration": 105,
    "start_time": "2022-06-16T00:52:25.332Z"
   },
   {
    "duration": 6,
    "start_time": "2022-06-16T00:52:25.452Z"
   },
   {
    "duration": 16,
    "start_time": "2022-06-16T00:52:25.459Z"
   },
   {
    "duration": 11,
    "start_time": "2022-06-16T00:52:25.477Z"
   },
   {
    "duration": 13,
    "start_time": "2022-06-16T00:52:25.490Z"
   },
   {
    "duration": 6,
    "start_time": "2022-06-16T00:52:25.505Z"
   },
   {
    "duration": 82,
    "start_time": "2022-06-16T00:52:25.512Z"
   },
   {
    "duration": 11,
    "start_time": "2022-06-16T00:52:25.596Z"
   },
   {
    "duration": 20,
    "start_time": "2022-06-16T00:52:25.609Z"
   },
   {
    "duration": 22,
    "start_time": "2022-06-16T00:52:25.632Z"
   },
   {
    "duration": 11,
    "start_time": "2022-06-16T00:52:25.656Z"
   },
   {
    "duration": 14,
    "start_time": "2022-06-16T00:52:25.669Z"
   },
   {
    "duration": 11,
    "start_time": "2022-06-16T00:52:25.685Z"
   },
   {
    "duration": 7,
    "start_time": "2022-06-16T00:52:25.698Z"
   },
   {
    "duration": 45,
    "start_time": "2022-06-16T00:52:25.708Z"
   },
   {
    "duration": 4,
    "start_time": "2022-06-16T00:52:25.754Z"
   },
   {
    "duration": 15,
    "start_time": "2022-06-16T00:52:25.760Z"
   },
   {
    "duration": 12,
    "start_time": "2022-06-16T00:52:25.777Z"
   },
   {
    "duration": 9,
    "start_time": "2022-06-16T00:52:25.791Z"
   },
   {
    "duration": 17,
    "start_time": "2022-06-16T00:52:25.801Z"
   },
   {
    "duration": 24,
    "start_time": "2022-06-16T01:05:11.174Z"
   },
   {
    "duration": 20,
    "start_time": "2022-06-16T01:06:14.547Z"
   },
   {
    "duration": 18,
    "start_time": "2022-06-16T01:06:30.660Z"
   },
   {
    "duration": 17,
    "start_time": "2022-06-16T01:11:39.045Z"
   },
   {
    "duration": 24,
    "start_time": "2022-06-16T01:12:19.314Z"
   },
   {
    "duration": 97,
    "start_time": "2022-06-16T01:12:40.867Z"
   },
   {
    "duration": 21,
    "start_time": "2022-06-16T01:13:16.434Z"
   },
   {
    "duration": 19,
    "start_time": "2022-06-16T01:17:05.317Z"
   },
   {
    "duration": 28,
    "start_time": "2022-06-16T01:19:49.862Z"
   },
   {
    "duration": 7,
    "start_time": "2022-06-16T01:20:00.063Z"
   },
   {
    "duration": 3,
    "start_time": "2022-06-16T01:20:22.171Z"
   },
   {
    "duration": 30,
    "start_time": "2022-06-16T01:25:00.388Z"
   },
   {
    "duration": 27,
    "start_time": "2022-06-16T01:27:01.645Z"
   },
   {
    "duration": 398,
    "start_time": "2022-06-16T01:27:49.142Z"
   },
   {
    "duration": 286,
    "start_time": "2022-06-16T01:27:49.542Z"
   },
   {
    "duration": 3,
    "start_time": "2022-06-16T01:27:49.830Z"
   },
   {
    "duration": 7,
    "start_time": "2022-06-16T01:27:49.834Z"
   },
   {
    "duration": 7,
    "start_time": "2022-06-16T01:27:49.843Z"
   },
   {
    "duration": 22,
    "start_time": "2022-06-16T01:27:49.851Z"
   },
   {
    "duration": 14,
    "start_time": "2022-06-16T01:27:49.874Z"
   },
   {
    "duration": 151,
    "start_time": "2022-06-16T01:27:49.890Z"
   },
   {
    "duration": 7,
    "start_time": "2022-06-16T01:27:50.052Z"
   },
   {
    "duration": 23,
    "start_time": "2022-06-16T01:27:50.060Z"
   },
   {
    "duration": 14,
    "start_time": "2022-06-16T01:27:50.085Z"
   },
   {
    "duration": 16,
    "start_time": "2022-06-16T01:27:50.100Z"
   },
   {
    "duration": 41,
    "start_time": "2022-06-16T01:27:50.117Z"
   },
   {
    "duration": 119,
    "start_time": "2022-06-16T01:27:50.161Z"
   },
   {
    "duration": 5,
    "start_time": "2022-06-16T01:27:50.282Z"
   },
   {
    "duration": 21,
    "start_time": "2022-06-16T01:27:50.289Z"
   },
   {
    "duration": 14,
    "start_time": "2022-06-16T01:27:50.311Z"
   },
   {
    "duration": 15,
    "start_time": "2022-06-16T01:27:50.352Z"
   },
   {
    "duration": 7,
    "start_time": "2022-06-16T01:27:50.369Z"
   },
   {
    "duration": 87,
    "start_time": "2022-06-16T01:27:50.377Z"
   },
   {
    "duration": 11,
    "start_time": "2022-06-16T01:27:50.466Z"
   },
   {
    "duration": 13,
    "start_time": "2022-06-16T01:27:50.479Z"
   },
   {
    "duration": 11,
    "start_time": "2022-06-16T01:27:50.494Z"
   },
   {
    "duration": 14,
    "start_time": "2022-06-16T01:27:50.506Z"
   },
   {
    "duration": 40,
    "start_time": "2022-06-16T01:27:50.522Z"
   },
   {
    "duration": 17,
    "start_time": "2022-06-16T01:27:50.564Z"
   },
   {
    "duration": 9,
    "start_time": "2022-06-16T01:27:50.582Z"
   },
   {
    "duration": 24,
    "start_time": "2022-06-16T01:27:50.592Z"
   },
   {
    "duration": 4,
    "start_time": "2022-06-16T01:27:50.617Z"
   },
   {
    "duration": 29,
    "start_time": "2022-06-16T01:27:50.622Z"
   },
   {
    "duration": 11,
    "start_time": "2022-06-16T01:27:50.653Z"
   },
   {
    "duration": 27,
    "start_time": "2022-06-16T01:27:50.666Z"
   },
   {
    "duration": 10,
    "start_time": "2022-06-16T01:27:50.694Z"
   },
   {
    "duration": 17,
    "start_time": "2022-06-16T01:27:50.706Z"
   },
   {
    "duration": 23,
    "start_time": "2022-06-16T01:28:12.665Z"
   },
   {
    "duration": 29,
    "start_time": "2022-06-16T01:28:47.352Z"
   },
   {
    "duration": 355,
    "start_time": "2022-06-16T01:32:09.893Z"
   },
   {
    "duration": 287,
    "start_time": "2022-06-16T01:32:10.251Z"
   },
   {
    "duration": 3,
    "start_time": "2022-06-16T01:32:10.540Z"
   },
   {
    "duration": 5,
    "start_time": "2022-06-16T01:32:10.546Z"
   },
   {
    "duration": 5,
    "start_time": "2022-06-16T01:32:10.553Z"
   },
   {
    "duration": 25,
    "start_time": "2022-06-16T01:32:10.559Z"
   },
   {
    "duration": 15,
    "start_time": "2022-06-16T01:32:10.586Z"
   },
   {
    "duration": 126,
    "start_time": "2022-06-16T01:32:10.602Z"
   },
   {
    "duration": 7,
    "start_time": "2022-06-16T01:32:10.730Z"
   },
   {
    "duration": 21,
    "start_time": "2022-06-16T01:32:10.753Z"
   },
   {
    "duration": 14,
    "start_time": "2022-06-16T01:32:10.776Z"
   },
   {
    "duration": 16,
    "start_time": "2022-06-16T01:32:10.792Z"
   },
   {
    "duration": 11,
    "start_time": "2022-06-16T01:32:10.810Z"
   },
   {
    "duration": 158,
    "start_time": "2022-06-16T01:32:10.822Z"
   },
   {
    "duration": 6,
    "start_time": "2022-06-16T01:32:10.982Z"
   },
   {
    "duration": 17,
    "start_time": "2022-06-16T01:32:10.989Z"
   },
   {
    "duration": 12,
    "start_time": "2022-06-16T01:32:11.008Z"
   },
   {
    "duration": 35,
    "start_time": "2022-06-16T01:32:11.022Z"
   },
   {
    "duration": 6,
    "start_time": "2022-06-16T01:32:11.059Z"
   },
   {
    "duration": 85,
    "start_time": "2022-06-16T01:32:11.067Z"
   },
   {
    "duration": 19,
    "start_time": "2022-06-16T01:32:11.154Z"
   },
   {
    "duration": 14,
    "start_time": "2022-06-16T01:32:11.174Z"
   },
   {
    "duration": 10,
    "start_time": "2022-06-16T01:32:11.190Z"
   },
   {
    "duration": 11,
    "start_time": "2022-06-16T01:32:11.202Z"
   },
   {
    "duration": 39,
    "start_time": "2022-06-16T01:32:11.214Z"
   },
   {
    "duration": 13,
    "start_time": "2022-06-16T01:32:11.255Z"
   },
   {
    "duration": 12,
    "start_time": "2022-06-16T01:32:11.269Z"
   },
   {
    "duration": 21,
    "start_time": "2022-06-16T01:32:11.285Z"
   },
   {
    "duration": 4,
    "start_time": "2022-06-16T01:32:11.308Z"
   },
   {
    "duration": 8,
    "start_time": "2022-06-16T01:32:11.313Z"
   },
   {
    "duration": 42,
    "start_time": "2022-06-16T01:32:11.323Z"
   },
   {
    "duration": 29,
    "start_time": "2022-06-16T01:32:11.367Z"
   },
   {
    "duration": 13,
    "start_time": "2022-06-16T01:32:11.398Z"
   },
   {
    "duration": 16,
    "start_time": "2022-06-16T01:32:11.413Z"
   },
   {
    "duration": 26,
    "start_time": "2022-06-16T01:33:53.259Z"
   },
   {
    "duration": 27,
    "start_time": "2022-06-16T01:34:36.792Z"
   },
   {
    "duration": 25,
    "start_time": "2022-06-16T01:34:45.248Z"
   },
   {
    "duration": 18,
    "start_time": "2022-06-16T01:37:31.503Z"
   },
   {
    "duration": 80,
    "start_time": "2022-06-16T01:37:59.642Z"
   },
   {
    "duration": 16,
    "start_time": "2022-06-16T01:38:29.769Z"
   },
   {
    "duration": 22,
    "start_time": "2022-06-16T01:38:36.768Z"
   },
   {
    "duration": 18,
    "start_time": "2022-06-16T01:39:19.548Z"
   },
   {
    "duration": 11,
    "start_time": "2022-06-16T01:39:31.030Z"
   },
   {
    "duration": 26,
    "start_time": "2022-06-16T01:39:40.331Z"
   },
   {
    "duration": 22,
    "start_time": "2022-06-16T01:39:42.019Z"
   },
   {
    "duration": 14,
    "start_time": "2022-06-16T01:39:45.193Z"
   },
   {
    "duration": 20,
    "start_time": "2022-06-16T01:40:08.146Z"
   },
   {
    "duration": 20,
    "start_time": "2022-06-16T01:40:09.794Z"
   },
   {
    "duration": 19,
    "start_time": "2022-06-16T01:40:11.433Z"
   },
   {
    "duration": 12,
    "start_time": "2022-06-16T01:40:14.090Z"
   },
   {
    "duration": 35,
    "start_time": "2022-06-16T01:45:50.699Z"
   },
   {
    "duration": 11,
    "start_time": "2022-06-16T01:46:44.482Z"
   },
   {
    "duration": 45,
    "start_time": "2022-06-16T01:50:11.818Z"
   },
   {
    "duration": 27,
    "start_time": "2022-06-16T01:50:39.038Z"
   },
   {
    "duration": 28,
    "start_time": "2022-06-16T01:50:48.176Z"
   },
   {
    "duration": 419,
    "start_time": "2022-06-16T01:51:52.586Z"
   },
   {
    "duration": 33,
    "start_time": "2022-06-16T01:52:12.162Z"
   },
   {
    "duration": 33,
    "start_time": "2022-06-16T01:52:28.923Z"
   },
   {
    "duration": 32,
    "start_time": "2022-06-16T01:52:57.649Z"
   },
   {
    "duration": 35,
    "start_time": "2022-06-16T01:53:23.561Z"
   },
   {
    "duration": 38,
    "start_time": "2022-06-16T01:53:47.765Z"
   },
   {
    "duration": 34,
    "start_time": "2022-06-16T01:54:19.393Z"
   },
   {
    "duration": 23,
    "start_time": "2022-06-16T01:54:23.505Z"
   },
   {
    "duration": 18,
    "start_time": "2022-06-16T01:54:24.762Z"
   },
   {
    "duration": 13,
    "start_time": "2022-06-16T01:54:29.858Z"
   },
   {
    "duration": 403,
    "start_time": "2022-06-17T00:41:07.283Z"
   },
   {
    "duration": 831,
    "start_time": "2022-06-17T00:41:07.688Z"
   },
   {
    "duration": 4,
    "start_time": "2022-06-17T00:41:10.145Z"
   },
   {
    "duration": 3,
    "start_time": "2022-06-17T00:41:10.483Z"
   },
   {
    "duration": 3,
    "start_time": "2022-06-17T00:41:10.787Z"
   },
   {
    "duration": 22,
    "start_time": "2022-06-17T00:41:11.986Z"
   },
   {
    "duration": 19,
    "start_time": "2022-06-17T00:41:12.297Z"
   },
   {
    "duration": 137,
    "start_time": "2022-06-17T00:41:13.540Z"
   },
   {
    "duration": 7,
    "start_time": "2022-06-17T00:41:16.065Z"
   },
   {
    "duration": 32,
    "start_time": "2022-06-17T00:41:17.250Z"
   },
   {
    "duration": 15,
    "start_time": "2022-06-17T00:41:17.569Z"
   },
   {
    "duration": 18,
    "start_time": "2022-06-17T00:41:20.787Z"
   },
   {
    "duration": 8,
    "start_time": "2022-06-17T00:41:21.299Z"
   },
   {
    "duration": 124,
    "start_time": "2022-06-17T00:41:24.688Z"
   },
   {
    "duration": 6,
    "start_time": "2022-06-17T00:41:27.000Z"
   },
   {
    "duration": 33,
    "start_time": "2022-06-17T00:41:28.009Z"
   },
   {
    "duration": 14,
    "start_time": "2022-06-17T00:41:28.288Z"
   },
   {
    "duration": 16,
    "start_time": "2022-06-17T00:41:30.753Z"
   },
   {
    "duration": 7,
    "start_time": "2022-06-17T00:41:31.481Z"
   },
   {
    "duration": 53,
    "start_time": "2022-06-17T00:41:32.071Z"
   },
   {
    "duration": 12,
    "start_time": "2022-06-17T00:41:35.409Z"
   },
   {
    "duration": 14,
    "start_time": "2022-06-17T00:41:35.671Z"
   },
   {
    "duration": 12,
    "start_time": "2022-06-17T00:41:37.895Z"
   },
   {
    "duration": 9,
    "start_time": "2022-06-17T00:41:38.466Z"
   },
   {
    "duration": 15,
    "start_time": "2022-06-17T00:41:41.266Z"
   },
   {
    "duration": 10,
    "start_time": "2022-06-17T00:41:41.903Z"
   },
   {
    "duration": 5,
    "start_time": "2022-06-17T00:41:44.328Z"
   },
   {
    "duration": 23,
    "start_time": "2022-06-17T00:41:44.857Z"
   },
   {
    "duration": 3,
    "start_time": "2022-06-17T00:41:47.792Z"
   },
   {
    "duration": 6,
    "start_time": "2022-06-17T00:41:48.131Z"
   },
   {
    "duration": 14,
    "start_time": "2022-06-17T00:41:48.434Z"
   },
   {
    "duration": 34,
    "start_time": "2022-06-17T00:41:51.185Z"
   },
   {
    "duration": 29,
    "start_time": "2022-06-17T00:41:52.121Z"
   },
   {
    "duration": 18,
    "start_time": "2022-06-17T00:41:53.113Z"
   },
   {
    "duration": 18,
    "start_time": "2022-06-17T00:49:59.056Z"
   },
   {
    "duration": 4,
    "start_time": "2022-06-17T00:55:51.560Z"
   },
   {
    "duration": 12,
    "start_time": "2022-06-17T00:55:55.377Z"
   },
   {
    "duration": 3,
    "start_time": "2022-06-17T00:56:15.823Z"
   },
   {
    "duration": 11,
    "start_time": "2022-06-17T00:56:18.094Z"
   },
   {
    "duration": 72,
    "start_time": "2022-06-17T00:56:53.433Z"
   },
   {
    "duration": 46,
    "start_time": "2022-06-17T01:02:34.023Z"
   },
   {
    "duration": 18,
    "start_time": "2022-06-17T01:02:52.104Z"
   },
   {
    "duration": 10,
    "start_time": "2022-06-17T01:03:09.654Z"
   },
   {
    "duration": 12,
    "start_time": "2022-06-17T01:05:24.847Z"
   },
   {
    "duration": 10,
    "start_time": "2022-06-17T01:08:30.469Z"
   },
   {
    "duration": 11,
    "start_time": "2022-06-17T01:17:25.571Z"
   },
   {
    "duration": 15,
    "start_time": "2022-06-17T01:20:27.374Z"
   },
   {
    "duration": 14,
    "start_time": "2022-06-17T01:20:38.909Z"
   },
   {
    "duration": 14,
    "start_time": "2022-06-17T01:22:54.925Z"
   },
   {
    "duration": 17,
    "start_time": "2022-06-17T01:22:57.750Z"
   },
   {
    "duration": 50,
    "start_time": "2022-06-17T01:42:07.933Z"
   },
   {
    "duration": 15,
    "start_time": "2022-06-17T01:42:14.184Z"
   },
   {
    "duration": 446,
    "start_time": "2022-06-17T01:42:35.151Z"
   },
   {
    "duration": 360,
    "start_time": "2022-06-17T01:42:35.599Z"
   },
   {
    "duration": 3,
    "start_time": "2022-06-17T01:42:35.960Z"
   },
   {
    "duration": 12,
    "start_time": "2022-06-17T01:42:35.965Z"
   },
   {
    "duration": 9,
    "start_time": "2022-06-17T01:42:35.979Z"
   },
   {
    "duration": 34,
    "start_time": "2022-06-17T01:42:35.990Z"
   },
   {
    "duration": 27,
    "start_time": "2022-06-17T01:42:36.026Z"
   },
   {
    "duration": 227,
    "start_time": "2022-06-17T01:42:36.055Z"
   },
   {
    "duration": 9,
    "start_time": "2022-06-17T01:42:36.284Z"
   },
   {
    "duration": 62,
    "start_time": "2022-06-17T01:42:36.297Z"
   },
   {
    "duration": 31,
    "start_time": "2022-06-17T01:42:36.364Z"
   },
   {
    "duration": 48,
    "start_time": "2022-06-17T01:42:36.397Z"
   },
   {
    "duration": 15,
    "start_time": "2022-06-17T01:42:36.451Z"
   },
   {
    "duration": 200,
    "start_time": "2022-06-17T01:42:36.469Z"
   },
   {
    "duration": 8,
    "start_time": "2022-06-17T01:42:36.671Z"
   },
   {
    "duration": 27,
    "start_time": "2022-06-17T01:42:36.681Z"
   },
   {
    "duration": 44,
    "start_time": "2022-06-17T01:42:36.710Z"
   },
   {
    "duration": 16,
    "start_time": "2022-06-17T01:42:36.756Z"
   },
   {
    "duration": 7,
    "start_time": "2022-06-17T01:42:36.774Z"
   },
   {
    "duration": 105,
    "start_time": "2022-06-17T01:42:36.783Z"
   },
   {
    "duration": 20,
    "start_time": "2022-06-17T01:42:36.890Z"
   },
   {
    "duration": 54,
    "start_time": "2022-06-17T01:42:36.912Z"
   },
   {
    "duration": 12,
    "start_time": "2022-06-17T01:42:36.969Z"
   },
   {
    "duration": 19,
    "start_time": "2022-06-17T01:42:36.982Z"
   },
   {
    "duration": 14,
    "start_time": "2022-06-17T01:42:37.002Z"
   },
   {
    "duration": 27,
    "start_time": "2022-06-17T01:42:37.018Z"
   },
   {
    "duration": 17,
    "start_time": "2022-06-17T01:42:37.047Z"
   },
   {
    "duration": 31,
    "start_time": "2022-06-17T01:42:37.066Z"
   },
   {
    "duration": 4,
    "start_time": "2022-06-17T01:42:37.099Z"
   },
   {
    "duration": 11,
    "start_time": "2022-06-17T01:42:37.104Z"
   },
   {
    "duration": 26,
    "start_time": "2022-06-17T01:42:37.117Z"
   },
   {
    "duration": 42,
    "start_time": "2022-06-17T01:42:37.148Z"
   },
   {
    "duration": 22,
    "start_time": "2022-06-17T01:42:37.192Z"
   },
   {
    "duration": 42,
    "start_time": "2022-06-17T01:42:37.216Z"
   },
   {
    "duration": 97,
    "start_time": "2022-06-17T01:42:37.260Z"
   },
   {
    "duration": 0,
    "start_time": "2022-06-17T01:42:37.359Z"
   },
   {
    "duration": 0,
    "start_time": "2022-06-17T01:42:37.360Z"
   },
   {
    "duration": 0,
    "start_time": "2022-06-17T01:42:37.361Z"
   },
   {
    "duration": 18,
    "start_time": "2022-06-17T01:42:44.639Z"
   },
   {
    "duration": 16,
    "start_time": "2022-06-17T01:42:47.125Z"
   },
   {
    "duration": 398,
    "start_time": "2022-06-17T01:43:32.788Z"
   },
   {
    "duration": 331,
    "start_time": "2022-06-17T01:43:33.188Z"
   },
   {
    "duration": 3,
    "start_time": "2022-06-17T01:43:33.521Z"
   },
   {
    "duration": 10,
    "start_time": "2022-06-17T01:43:33.525Z"
   },
   {
    "duration": 7,
    "start_time": "2022-06-17T01:43:33.539Z"
   },
   {
    "duration": 24,
    "start_time": "2022-06-17T01:43:33.549Z"
   },
   {
    "duration": 13,
    "start_time": "2022-06-17T01:43:33.575Z"
   },
   {
    "duration": 172,
    "start_time": "2022-06-17T01:43:33.590Z"
   },
   {
    "duration": 7,
    "start_time": "2022-06-17T01:43:33.764Z"
   },
   {
    "duration": 26,
    "start_time": "2022-06-17T01:43:33.772Z"
   },
   {
    "duration": 45,
    "start_time": "2022-06-17T01:43:33.800Z"
   },
   {
    "duration": 29,
    "start_time": "2022-06-17T01:43:33.847Z"
   },
   {
    "duration": 12,
    "start_time": "2022-06-17T01:43:33.879Z"
   },
   {
    "duration": 165,
    "start_time": "2022-06-17T01:43:33.895Z"
   },
   {
    "duration": 5,
    "start_time": "2022-06-17T01:43:34.062Z"
   },
   {
    "duration": 21,
    "start_time": "2022-06-17T01:43:34.069Z"
   },
   {
    "duration": 52,
    "start_time": "2022-06-17T01:43:34.092Z"
   },
   {
    "duration": 18,
    "start_time": "2022-06-17T01:43:34.146Z"
   },
   {
    "duration": 13,
    "start_time": "2022-06-17T01:43:34.167Z"
   },
   {
    "duration": 104,
    "start_time": "2022-06-17T01:43:34.182Z"
   },
   {
    "duration": 20,
    "start_time": "2022-06-17T01:43:34.288Z"
   },
   {
    "duration": 32,
    "start_time": "2022-06-17T01:43:34.310Z"
   },
   {
    "duration": 20,
    "start_time": "2022-06-17T01:43:34.344Z"
   },
   {
    "duration": 12,
    "start_time": "2022-06-17T01:43:34.365Z"
   },
   {
    "duration": 14,
    "start_time": "2022-06-17T01:43:34.378Z"
   },
   {
    "duration": 13,
    "start_time": "2022-06-17T01:43:34.394Z"
   },
   {
    "duration": 10,
    "start_time": "2022-06-17T01:43:34.409Z"
   },
   {
    "duration": 29,
    "start_time": "2022-06-17T01:43:34.430Z"
   },
   {
    "duration": 4,
    "start_time": "2022-06-17T01:43:34.461Z"
   },
   {
    "duration": 7,
    "start_time": "2022-06-17T01:43:34.466Z"
   },
   {
    "duration": 14,
    "start_time": "2022-06-17T01:43:34.474Z"
   },
   {
    "duration": 80,
    "start_time": "2022-06-17T01:43:34.490Z"
   },
   {
    "duration": 22,
    "start_time": "2022-06-17T01:43:34.572Z"
   },
   {
    "duration": 33,
    "start_time": "2022-06-17T01:43:34.596Z"
   },
   {
    "duration": 75,
    "start_time": "2022-06-17T01:43:34.632Z"
   },
   {
    "duration": 1,
    "start_time": "2022-06-17T01:43:34.708Z"
   },
   {
    "duration": 0,
    "start_time": "2022-06-17T01:43:34.710Z"
   },
   {
    "duration": 0,
    "start_time": "2022-06-17T01:43:34.711Z"
   },
   {
    "duration": 12,
    "start_time": "2022-06-17T01:43:58.013Z"
   },
   {
    "duration": 16,
    "start_time": "2022-06-17T01:44:03.725Z"
   },
   {
    "duration": 402,
    "start_time": "2022-06-18T01:43:17.895Z"
   },
   {
    "duration": 844,
    "start_time": "2022-06-18T01:43:18.299Z"
   },
   {
    "duration": 3,
    "start_time": "2022-06-18T01:43:21.284Z"
   },
   {
    "duration": 3,
    "start_time": "2022-06-18T01:43:21.642Z"
   },
   {
    "duration": 2,
    "start_time": "2022-06-18T01:43:21.904Z"
   },
   {
    "duration": 21,
    "start_time": "2022-06-18T01:43:24.199Z"
   },
   {
    "duration": 15,
    "start_time": "2022-06-18T01:43:25.014Z"
   },
   {
    "duration": 128,
    "start_time": "2022-06-18T01:43:26.357Z"
   },
   {
    "duration": 7,
    "start_time": "2022-06-18T01:43:28.695Z"
   },
   {
    "duration": 24,
    "start_time": "2022-06-18T01:43:30.479Z"
   },
   {
    "duration": 17,
    "start_time": "2022-06-18T01:43:30.870Z"
   },
   {
    "duration": 18,
    "start_time": "2022-06-18T01:43:34.511Z"
   },
   {
    "duration": 8,
    "start_time": "2022-06-18T01:43:35.087Z"
   },
   {
    "duration": 101,
    "start_time": "2022-06-18T01:43:35.773Z"
   },
   {
    "duration": 7,
    "start_time": "2022-06-18T01:43:37.869Z"
   },
   {
    "duration": 19,
    "start_time": "2022-06-18T01:43:39.213Z"
   },
   {
    "duration": 15,
    "start_time": "2022-06-18T01:43:39.526Z"
   },
   {
    "duration": 15,
    "start_time": "2022-06-18T01:43:40.800Z"
   },
   {
    "duration": 8,
    "start_time": "2022-06-18T01:43:42.877Z"
   },
   {
    "duration": 58,
    "start_time": "2022-06-18T01:43:43.735Z"
   },
   {
    "duration": 14,
    "start_time": "2022-06-18T01:43:45.573Z"
   },
   {
    "duration": 14,
    "start_time": "2022-06-18T01:43:45.829Z"
   },
   {
    "duration": 13,
    "start_time": "2022-06-18T01:43:48.645Z"
   },
   {
    "duration": 10,
    "start_time": "2022-06-18T01:43:49.237Z"
   },
   {
    "duration": 11,
    "start_time": "2022-06-18T01:43:52.990Z"
   },
   {
    "duration": 10,
    "start_time": "2022-06-18T01:43:53.864Z"
   },
   {
    "duration": 5,
    "start_time": "2022-06-18T01:43:56.373Z"
   },
   {
    "duration": 21,
    "start_time": "2022-06-18T01:43:57.255Z"
   },
   {
    "duration": 4,
    "start_time": "2022-06-18T01:44:03.455Z"
   },
   {
    "duration": 5,
    "start_time": "2022-06-18T01:44:03.830Z"
   },
   {
    "duration": 12,
    "start_time": "2022-06-18T01:44:04.294Z"
   },
   {
    "duration": 3,
    "start_time": "2022-06-18T02:09:42.102Z"
   },
   {
    "duration": 39,
    "start_time": "2022-06-18T02:17:10.895Z"
   },
   {
    "duration": 15,
    "start_time": "2022-06-18T02:17:11.814Z"
   },
   {
    "duration": 32,
    "start_time": "2022-06-18T02:20:56.902Z"
   },
   {
    "duration": 10,
    "start_time": "2022-06-18T02:21:01.983Z"
   },
   {
    "duration": 19,
    "start_time": "2022-06-18T02:21:24.005Z"
   },
   {
    "duration": 11,
    "start_time": "2022-06-18T02:21:26.884Z"
   },
   {
    "duration": 13,
    "start_time": "2022-06-18T02:21:33.863Z"
   },
   {
    "duration": 12,
    "start_time": "2022-06-18T02:21:47.717Z"
   },
   {
    "duration": 12,
    "start_time": "2022-06-18T02:26:01.952Z"
   },
   {
    "duration": 19,
    "start_time": "2022-06-18T02:31:58.310Z"
   },
   {
    "duration": 15,
    "start_time": "2022-06-18T02:32:05.999Z"
   },
   {
    "duration": 11,
    "start_time": "2022-06-18T02:32:09.813Z"
   },
   {
    "duration": 11,
    "start_time": "2022-06-18T02:35:01.518Z"
   },
   {
    "duration": 12,
    "start_time": "2022-06-18T02:35:14.288Z"
   },
   {
    "duration": 11,
    "start_time": "2022-06-18T02:36:42.652Z"
   },
   {
    "duration": 13,
    "start_time": "2022-06-18T02:36:46.693Z"
   },
   {
    "duration": 12,
    "start_time": "2022-06-18T02:43:39.751Z"
   },
   {
    "duration": 13,
    "start_time": "2022-06-18T02:43:44.077Z"
   },
   {
    "duration": 11,
    "start_time": "2022-06-18T02:44:21.961Z"
   },
   {
    "duration": 13,
    "start_time": "2022-06-18T02:44:24.764Z"
   },
   {
    "duration": 15,
    "start_time": "2022-06-18T02:44:39.044Z"
   },
   {
    "duration": 13,
    "start_time": "2022-06-18T02:45:12.141Z"
   },
   {
    "duration": 14,
    "start_time": "2022-06-18T02:45:17.598Z"
   },
   {
    "duration": 19,
    "start_time": "2022-06-18T02:45:52.141Z"
   },
   {
    "duration": 18,
    "start_time": "2022-06-18T02:46:11.051Z"
   },
   {
    "duration": 13,
    "start_time": "2022-06-18T02:47:20.997Z"
   },
   {
    "duration": 15,
    "start_time": "2022-06-18T02:47:23.277Z"
   },
   {
    "duration": 13,
    "start_time": "2022-06-18T02:48:01.641Z"
   },
   {
    "duration": 16,
    "start_time": "2022-06-18T02:48:04.429Z"
   },
   {
    "duration": 26,
    "start_time": "2022-06-18T02:49:30.998Z"
   },
   {
    "duration": 15,
    "start_time": "2022-06-18T02:49:33.856Z"
   },
   {
    "duration": 15,
    "start_time": "2022-06-18T02:49:42.349Z"
   },
   {
    "duration": 16,
    "start_time": "2022-06-18T02:49:57.636Z"
   },
   {
    "duration": 341,
    "start_time": "2022-06-18T02:50:25.814Z"
   },
   {
    "duration": 20,
    "start_time": "2022-06-18T02:50:38.085Z"
   },
   {
    "duration": 12,
    "start_time": "2022-06-18T02:51:23.946Z"
   },
   {
    "duration": 13,
    "start_time": "2022-06-18T02:51:31.782Z"
   },
   {
    "duration": 13,
    "start_time": "2022-06-18T02:51:35.509Z"
   },
   {
    "duration": 50,
    "start_time": "2022-06-18T13:45:58.123Z"
   },
   {
    "duration": 435,
    "start_time": "2022-06-18T13:46:12.285Z"
   },
   {
    "duration": 918,
    "start_time": "2022-06-18T13:46:12.722Z"
   },
   {
    "duration": 3,
    "start_time": "2022-06-18T13:46:13.642Z"
   },
   {
    "duration": 7,
    "start_time": "2022-06-18T13:46:13.647Z"
   },
   {
    "duration": 6,
    "start_time": "2022-06-18T13:46:13.656Z"
   },
   {
    "duration": 24,
    "start_time": "2022-06-18T13:46:13.663Z"
   },
   {
    "duration": 14,
    "start_time": "2022-06-18T13:46:13.689Z"
   },
   {
    "duration": 143,
    "start_time": "2022-06-18T13:46:13.705Z"
   },
   {
    "duration": 7,
    "start_time": "2022-06-18T13:46:13.849Z"
   },
   {
    "duration": 43,
    "start_time": "2022-06-18T13:46:13.860Z"
   },
   {
    "duration": 43,
    "start_time": "2022-06-18T13:46:13.905Z"
   },
   {
    "duration": 18,
    "start_time": "2022-06-18T13:46:13.950Z"
   },
   {
    "duration": 42,
    "start_time": "2022-06-18T13:46:13.971Z"
   },
   {
    "duration": 8,
    "start_time": "2022-06-18T13:46:14.015Z"
   },
   {
    "duration": 137,
    "start_time": "2022-06-18T13:46:14.025Z"
   },
   {
    "duration": 6,
    "start_time": "2022-06-18T13:46:14.164Z"
   },
   {
    "duration": 29,
    "start_time": "2022-06-18T13:46:14.171Z"
   },
   {
    "duration": 15,
    "start_time": "2022-06-18T13:46:14.201Z"
   },
   {
    "duration": 16,
    "start_time": "2022-06-18T13:46:14.217Z"
   },
   {
    "duration": 9,
    "start_time": "2022-06-18T13:46:14.234Z"
   },
   {
    "duration": 107,
    "start_time": "2022-06-18T13:46:14.245Z"
   },
   {
    "duration": 14,
    "start_time": "2022-06-18T13:46:14.354Z"
   },
   {
    "duration": 42,
    "start_time": "2022-06-18T13:46:14.371Z"
   },
   {
    "duration": 11,
    "start_time": "2022-06-18T13:46:14.415Z"
   },
   {
    "duration": 13,
    "start_time": "2022-06-18T13:46:14.428Z"
   },
   {
    "duration": 13,
    "start_time": "2022-06-18T13:46:14.443Z"
   },
   {
    "duration": 20,
    "start_time": "2022-06-18T13:46:14.458Z"
   },
   {
    "duration": 16,
    "start_time": "2022-06-18T13:46:14.481Z"
   },
   {
    "duration": 22,
    "start_time": "2022-06-18T13:46:14.499Z"
   },
   {
    "duration": 4,
    "start_time": "2022-06-18T13:46:14.523Z"
   },
   {
    "duration": 13,
    "start_time": "2022-06-18T13:46:14.528Z"
   },
   {
    "duration": 13,
    "start_time": "2022-06-18T13:46:14.543Z"
   },
   {
    "duration": 56,
    "start_time": "2022-06-18T13:46:14.558Z"
   },
   {
    "duration": 21,
    "start_time": "2022-06-18T13:46:14.616Z"
   },
   {
    "duration": 18,
    "start_time": "2022-06-18T13:46:14.638Z"
   },
   {
    "duration": 17,
    "start_time": "2022-06-18T13:46:14.658Z"
   },
   {
    "duration": 12,
    "start_time": "2022-06-18T13:46:14.695Z"
   },
   {
    "duration": 18,
    "start_time": "2022-06-18T13:46:14.710Z"
   },
   {
    "duration": 1230,
    "start_time": "2022-06-18T13:46:14.731Z"
   },
   {
    "duration": 201,
    "start_time": "2022-06-18T14:16:40.083Z"
   },
   {
    "duration": 196,
    "start_time": "2022-06-18T14:17:04.327Z"
   },
   {
    "duration": 197,
    "start_time": "2022-06-18T14:18:32.066Z"
   },
   {
    "duration": 365,
    "start_time": "2022-06-18T14:18:49.947Z"
   },
   {
    "duration": 21,
    "start_time": "2022-06-18T14:19:13.705Z"
   },
   {
    "duration": 12,
    "start_time": "2022-06-18T14:19:23.755Z"
   },
   {
    "duration": 36,
    "start_time": "2022-06-18T14:20:06.428Z"
   },
   {
    "duration": 9,
    "start_time": "2022-06-18T14:20:22.246Z"
   },
   {
    "duration": 5,
    "start_time": "2022-06-18T14:30:44.974Z"
   },
   {
    "duration": 438,
    "start_time": "2022-06-18T14:31:09.492Z"
   },
   {
    "duration": 4,
    "start_time": "2022-06-18T14:32:14.380Z"
   },
   {
    "duration": 416,
    "start_time": "2022-06-18T14:32:25.060Z"
   },
   {
    "duration": 8,
    "start_time": "2022-06-18T14:32:40.001Z"
   },
   {
    "duration": 3,
    "start_time": "2022-06-18T14:34:32.474Z"
   },
   {
    "duration": 8,
    "start_time": "2022-06-18T14:35:16.004Z"
   },
   {
    "duration": 5,
    "start_time": "2022-06-18T14:35:23.645Z"
   },
   {
    "duration": 5,
    "start_time": "2022-06-18T14:35:27.346Z"
   },
   {
    "duration": 5,
    "start_time": "2022-06-18T14:35:38.082Z"
   },
   {
    "duration": 5,
    "start_time": "2022-06-18T14:37:03.846Z"
   },
   {
    "duration": 4,
    "start_time": "2022-06-18T14:37:14.284Z"
   },
   {
    "duration": 371,
    "start_time": "2022-06-19T00:51:55.454Z"
   },
   {
    "duration": 860,
    "start_time": "2022-06-19T00:51:55.828Z"
   },
   {
    "duration": 3,
    "start_time": "2022-06-19T00:51:56.690Z"
   },
   {
    "duration": 6,
    "start_time": "2022-06-19T00:51:56.695Z"
   },
   {
    "duration": 5,
    "start_time": "2022-06-19T00:51:56.703Z"
   },
   {
    "duration": 25,
    "start_time": "2022-06-19T00:51:56.709Z"
   },
   {
    "duration": 14,
    "start_time": "2022-06-19T00:51:56.736Z"
   },
   {
    "duration": 171,
    "start_time": "2022-06-19T00:51:56.752Z"
   },
   {
    "duration": 6,
    "start_time": "2022-06-19T00:51:56.925Z"
   },
   {
    "duration": 21,
    "start_time": "2022-06-19T00:51:56.935Z"
   },
   {
    "duration": 61,
    "start_time": "2022-06-19T00:51:56.957Z"
   },
   {
    "duration": 16,
    "start_time": "2022-06-19T00:51:57.020Z"
   },
   {
    "duration": 17,
    "start_time": "2022-06-19T00:51:57.038Z"
   },
   {
    "duration": 8,
    "start_time": "2022-06-19T00:51:57.056Z"
   },
   {
    "duration": 133,
    "start_time": "2022-06-19T00:51:57.066Z"
   },
   {
    "duration": 5,
    "start_time": "2022-06-19T00:51:57.201Z"
   },
   {
    "duration": 19,
    "start_time": "2022-06-19T00:51:57.208Z"
   },
   {
    "duration": 13,
    "start_time": "2022-06-19T00:51:57.229Z"
   },
   {
    "duration": 14,
    "start_time": "2022-06-19T00:51:57.244Z"
   },
   {
    "duration": 7,
    "start_time": "2022-06-19T00:51:57.259Z"
   },
   {
    "duration": 58,
    "start_time": "2022-06-19T00:51:57.295Z"
   },
   {
    "duration": 12,
    "start_time": "2022-06-19T00:51:57.354Z"
   },
   {
    "duration": 32,
    "start_time": "2022-06-19T00:51:57.367Z"
   },
   {
    "duration": 10,
    "start_time": "2022-06-19T00:51:57.401Z"
   },
   {
    "duration": 9,
    "start_time": "2022-06-19T00:51:57.413Z"
   },
   {
    "duration": 11,
    "start_time": "2022-06-19T00:51:57.424Z"
   },
   {
    "duration": 10,
    "start_time": "2022-06-19T00:51:57.437Z"
   },
   {
    "duration": 5,
    "start_time": "2022-06-19T00:51:57.451Z"
   },
   {
    "duration": 52,
    "start_time": "2022-06-19T00:51:57.458Z"
   },
   {
    "duration": 3,
    "start_time": "2022-06-19T00:51:57.512Z"
   },
   {
    "duration": 7,
    "start_time": "2022-06-19T00:51:57.517Z"
   },
   {
    "duration": 13,
    "start_time": "2022-06-19T00:51:57.526Z"
   },
   {
    "duration": 32,
    "start_time": "2022-06-19T00:51:57.540Z"
   },
   {
    "duration": 21,
    "start_time": "2022-06-19T00:51:57.595Z"
   },
   {
    "duration": 17,
    "start_time": "2022-06-19T00:51:57.618Z"
   },
   {
    "duration": 17,
    "start_time": "2022-06-19T00:51:57.636Z"
   },
   {
    "duration": 10,
    "start_time": "2022-06-19T00:51:57.654Z"
   },
   {
    "duration": 39,
    "start_time": "2022-06-19T00:51:57.666Z"
   },
   {
    "duration": 10,
    "start_time": "2022-06-19T00:51:57.706Z"
   },
   {
    "duration": 6,
    "start_time": "2022-06-19T00:51:57.717Z"
   },
   {
    "duration": 733,
    "start_time": "2022-06-19T00:51:57.724Z"
   },
   {
    "duration": 5,
    "start_time": "2022-06-19T00:51:58.458Z"
   },
   {
    "duration": 8,
    "start_time": "2022-06-19T00:51:58.464Z"
   },
   {
    "duration": 20,
    "start_time": "2022-06-19T00:51:58.474Z"
   },
   {
    "duration": 6,
    "start_time": "2022-06-19T00:51:58.496Z"
   },
   {
    "duration": 6,
    "start_time": "2022-06-19T00:51:58.504Z"
   },
   {
    "duration": 5,
    "start_time": "2022-06-19T00:51:58.512Z"
   },
   {
    "duration": 1317,
    "start_time": "2022-06-19T00:52:06.538Z"
   },
   {
    "duration": 735,
    "start_time": "2022-06-19T00:52:16.814Z"
   },
   {
    "duration": 438,
    "start_time": "2022-06-19T00:52:49.418Z"
   },
   {
    "duration": 107,
    "start_time": "2022-06-19T01:07:19.420Z"
   },
   {
    "duration": 13,
    "start_time": "2022-06-19T01:13:13.377Z"
   },
   {
    "duration": 107,
    "start_time": "2022-06-19T01:15:20.782Z"
   },
   {
    "duration": 16,
    "start_time": "2022-06-19T01:15:46.575Z"
   },
   {
    "duration": 340,
    "start_time": "2022-06-19T02:00:23.834Z"
   },
   {
    "duration": 112,
    "start_time": "2022-06-19T02:00:36.226Z"
   },
   {
    "duration": 11,
    "start_time": "2022-06-19T02:00:47.183Z"
   },
   {
    "duration": 3,
    "start_time": "2022-06-19T02:10:18.693Z"
   },
   {
    "duration": 4,
    "start_time": "2022-06-19T02:10:42.611Z"
   },
   {
    "duration": 3,
    "start_time": "2022-06-19T02:10:56.260Z"
   },
   {
    "duration": 4,
    "start_time": "2022-06-19T02:10:59.997Z"
   },
   {
    "duration": 4,
    "start_time": "2022-06-19T02:11:49.452Z"
   },
   {
    "duration": 6,
    "start_time": "2022-06-19T02:11:52.531Z"
   },
   {
    "duration": 3,
    "start_time": "2022-06-19T02:12:13.188Z"
   },
   {
    "duration": 4,
    "start_time": "2022-06-19T02:12:16.163Z"
   },
   {
    "duration": 228,
    "start_time": "2022-06-19T02:15:59.446Z"
   },
   {
    "duration": 117,
    "start_time": "2022-06-19T02:16:28.013Z"
   },
   {
    "duration": 15,
    "start_time": "2022-06-19T02:16:58.388Z"
   },
   {
    "duration": 4,
    "start_time": "2022-06-19T02:17:24.264Z"
   },
   {
    "duration": 488,
    "start_time": "2022-06-19T02:54:36.620Z"
   },
   {
    "duration": 3,
    "start_time": "2022-06-19T02:54:52.531Z"
   },
   {
    "duration": 4,
    "start_time": "2022-06-19T02:56:32.830Z"
   },
   {
    "duration": 3,
    "start_time": "2022-06-19T02:56:43.553Z"
   },
   {
    "duration": 4,
    "start_time": "2022-06-19T02:57:10.809Z"
   },
   {
    "duration": 3,
    "start_time": "2022-06-19T03:01:03.736Z"
   },
   {
    "duration": 3,
    "start_time": "2022-06-19T03:01:04.529Z"
   },
   {
    "duration": 4,
    "start_time": "2022-06-19T03:01:05.401Z"
   },
   {
    "duration": 3,
    "start_time": "2022-06-19T03:01:06.656Z"
   },
   {
    "duration": 3,
    "start_time": "2022-06-19T03:01:16.847Z"
   },
   {
    "duration": 4,
    "start_time": "2022-06-19T03:01:17.249Z"
   },
   {
    "duration": 4,
    "start_time": "2022-06-19T03:01:17.903Z"
   },
   {
    "duration": 3,
    "start_time": "2022-06-19T03:03:43.402Z"
   },
   {
    "duration": 3,
    "start_time": "2022-06-19T03:05:32.654Z"
   },
   {
    "duration": 129,
    "start_time": "2022-06-19T03:05:50.178Z"
   },
   {
    "duration": 6,
    "start_time": "2022-06-19T03:06:30.114Z"
   },
   {
    "duration": 4,
    "start_time": "2022-06-19T03:06:37.146Z"
   },
   {
    "duration": 4,
    "start_time": "2022-06-19T03:06:47.123Z"
   },
   {
    "duration": 46,
    "start_time": "2022-06-19T15:46:39.067Z"
   },
   {
    "duration": 921,
    "start_time": "2022-06-19T15:46:46.007Z"
   },
   {
    "duration": 748,
    "start_time": "2022-06-19T15:46:48.163Z"
   },
   {
    "duration": 3,
    "start_time": "2022-06-19T15:46:50.596Z"
   },
   {
    "duration": 2,
    "start_time": "2022-06-19T15:46:50.813Z"
   },
   {
    "duration": 4,
    "start_time": "2022-06-19T15:46:51.063Z"
   },
   {
    "duration": 20,
    "start_time": "2022-06-19T15:46:52.764Z"
   },
   {
    "duration": 15,
    "start_time": "2022-06-19T15:46:54.512Z"
   },
   {
    "duration": 167,
    "start_time": "2022-06-19T15:46:56.660Z"
   },
   {
    "duration": 8,
    "start_time": "2022-06-19T15:46:58.880Z"
   },
   {
    "duration": 23,
    "start_time": "2022-06-19T15:47:01.060Z"
   },
   {
    "duration": 49,
    "start_time": "2022-06-19T15:47:01.356Z"
   },
   {
    "duration": 16,
    "start_time": "2022-06-19T15:47:01.628Z"
   },
   {
    "duration": 8,
    "start_time": "2022-06-19T15:47:03.616Z"
   },
   {
    "duration": 17,
    "start_time": "2022-06-19T15:47:23.956Z"
   },
   {
    "duration": 12,
    "start_time": "2022-06-19T15:47:25.396Z"
   },
   {
    "duration": 109,
    "start_time": "2022-06-19T15:47:29.284Z"
   },
   {
    "duration": 7,
    "start_time": "2022-06-19T15:47:32.856Z"
   },
   {
    "duration": 870,
    "start_time": "2022-06-19T16:01:16.733Z"
   },
   {
    "duration": 317,
    "start_time": "2022-06-19T16:01:18.460Z"
   },
   {
    "duration": 3,
    "start_time": "2022-06-19T16:01:19.506Z"
   },
   {
    "duration": 3,
    "start_time": "2022-06-19T16:01:20.892Z"
   },
   {
    "duration": 3,
    "start_time": "2022-06-19T16:01:21.201Z"
   },
   {
    "duration": 25,
    "start_time": "2022-06-19T16:01:22.002Z"
   },
   {
    "duration": 20,
    "start_time": "2022-06-19T16:01:24.031Z"
   },
   {
    "duration": 156,
    "start_time": "2022-06-19T16:01:24.408Z"
   },
   {
    "duration": 7,
    "start_time": "2022-06-19T16:01:26.468Z"
   },
   {
    "duration": 24,
    "start_time": "2022-06-19T16:01:27.363Z"
   },
   {
    "duration": 41,
    "start_time": "2022-06-19T16:01:27.567Z"
   },
   {
    "duration": 15,
    "start_time": "2022-06-19T16:01:27.807Z"
   },
   {
    "duration": 10,
    "start_time": "2022-06-19T16:01:29.031Z"
   },
   {
    "duration": 17,
    "start_time": "2022-06-19T16:01:30.532Z"
   },
   {
    "duration": 9,
    "start_time": "2022-06-19T16:01:31.356Z"
   },
   {
    "duration": 126,
    "start_time": "2022-06-19T16:01:32.475Z"
   },
   {
    "duration": 6,
    "start_time": "2022-06-19T16:01:33.402Z"
   },
   {
    "duration": 18,
    "start_time": "2022-06-19T16:01:34.607Z"
   },
   {
    "duration": 16,
    "start_time": "2022-06-19T16:01:34.816Z"
   },
   {
    "duration": 15,
    "start_time": "2022-06-19T16:01:37.295Z"
   },
   {
    "duration": 8,
    "start_time": "2022-06-19T16:01:37.525Z"
   },
   {
    "duration": 64,
    "start_time": "2022-06-19T16:01:38.259Z"
   },
   {
    "duration": 14,
    "start_time": "2022-06-19T16:01:43.110Z"
   },
   {
    "duration": 17,
    "start_time": "2022-06-19T16:01:43.358Z"
   },
   {
    "duration": 11,
    "start_time": "2022-06-19T16:01:45.105Z"
   },
   {
    "duration": 8,
    "start_time": "2022-06-19T16:01:45.408Z"
   },
   {
    "duration": 12,
    "start_time": "2022-06-19T16:01:47.115Z"
   },
   {
    "duration": 10,
    "start_time": "2022-06-19T16:01:47.704Z"
   },
   {
    "duration": 4,
    "start_time": "2022-06-19T16:01:49.704Z"
   },
   {
    "duration": 23,
    "start_time": "2022-06-19T16:01:49.951Z"
   },
   {
    "duration": 3,
    "start_time": "2022-06-19T16:01:51.236Z"
   },
   {
    "duration": 6,
    "start_time": "2022-06-19T16:01:51.416Z"
   },
   {
    "duration": 13,
    "start_time": "2022-06-19T16:01:51.924Z"
   },
   {
    "duration": 32,
    "start_time": "2022-06-19T16:02:09.667Z"
   },
   {
    "duration": 19,
    "start_time": "2022-06-19T16:02:18.342Z"
   },
   {
    "duration": 102,
    "start_time": "2022-06-19T16:03:05.572Z"
   },
   {
    "duration": 4513,
    "start_time": "2022-06-19T16:03:11.972Z"
   },
   {
    "duration": 32,
    "start_time": "2022-06-19T16:03:26.156Z"
   },
   {
    "duration": 30,
    "start_time": "2022-06-19T16:03:33.002Z"
   },
   {
    "duration": 6,
    "start_time": "2022-06-19T16:03:45.880Z"
   },
   {
    "duration": 10,
    "start_time": "2022-06-19T16:04:00.108Z"
   },
   {
    "duration": 5,
    "start_time": "2022-06-19T16:04:04.559Z"
   },
   {
    "duration": 7,
    "start_time": "2022-06-19T16:04:42.520Z"
   },
   {
    "duration": 4,
    "start_time": "2022-06-19T16:05:11.842Z"
   },
   {
    "duration": 10,
    "start_time": "2022-06-19T16:05:38.031Z"
   },
   {
    "duration": 9,
    "start_time": "2022-06-19T16:05:46.979Z"
   },
   {
    "duration": 11,
    "start_time": "2022-06-19T16:05:50.668Z"
   },
   {
    "duration": 848,
    "start_time": "2022-06-19T23:49:57.618Z"
   },
   {
    "duration": 852,
    "start_time": "2022-06-19T23:49:58.469Z"
   },
   {
    "duration": 3,
    "start_time": "2022-06-19T23:49:59.323Z"
   },
   {
    "duration": 14,
    "start_time": "2022-06-19T23:49:59.328Z"
   },
   {
    "duration": 9,
    "start_time": "2022-06-19T23:49:59.344Z"
   },
   {
    "duration": 26,
    "start_time": "2022-06-19T23:49:59.354Z"
   },
   {
    "duration": 19,
    "start_time": "2022-06-19T23:49:59.382Z"
   },
   {
    "duration": 183,
    "start_time": "2022-06-19T23:49:59.403Z"
   },
   {
    "duration": 6,
    "start_time": "2022-06-19T23:49:59.588Z"
   },
   {
    "duration": 9,
    "start_time": "2022-06-19T23:49:59.597Z"
   },
   {
    "duration": 35,
    "start_time": "2022-06-19T23:49:59.628Z"
   },
   {
    "duration": 41,
    "start_time": "2022-06-19T23:49:59.665Z"
   },
   {
    "duration": 39,
    "start_time": "2022-06-19T23:49:59.707Z"
   },
   {
    "duration": 8,
    "start_time": "2022-06-19T23:49:59.748Z"
   },
   {
    "duration": 34,
    "start_time": "2022-06-19T23:49:59.758Z"
   },
   {
    "duration": 8,
    "start_time": "2022-06-19T23:49:59.794Z"
   },
   {
    "duration": 142,
    "start_time": "2022-06-19T23:49:59.826Z"
   },
   {
    "duration": 4,
    "start_time": "2022-06-19T23:49:59.970Z"
   },
   {
    "duration": 8,
    "start_time": "2022-06-19T23:49:59.976Z"
   },
   {
    "duration": 41,
    "start_time": "2022-06-19T23:49:59.986Z"
   },
   {
    "duration": 17,
    "start_time": "2022-06-19T23:50:00.029Z"
   },
   {
    "duration": 17,
    "start_time": "2022-06-19T23:50:00.048Z"
   },
   {
    "duration": 9,
    "start_time": "2022-06-19T23:50:00.067Z"
   },
   {
    "duration": 137,
    "start_time": "2022-06-19T23:50:00.078Z"
   },
   {
    "duration": 12,
    "start_time": "2022-06-19T23:50:00.216Z"
   },
   {
    "duration": 28,
    "start_time": "2022-06-19T23:50:00.230Z"
   },
   {
    "duration": 16,
    "start_time": "2022-06-19T23:50:00.261Z"
   },
   {
    "duration": 33,
    "start_time": "2022-06-19T23:50:00.282Z"
   },
   {
    "duration": 20,
    "start_time": "2022-06-19T23:50:00.327Z"
   },
   {
    "duration": 19,
    "start_time": "2022-06-19T23:50:00.349Z"
   },
   {
    "duration": 37,
    "start_time": "2022-06-19T23:50:00.371Z"
   },
   {
    "duration": 32,
    "start_time": "2022-06-19T23:50:00.410Z"
   },
   {
    "duration": 38,
    "start_time": "2022-06-19T23:50:00.444Z"
   },
   {
    "duration": 4,
    "start_time": "2022-06-19T23:50:00.484Z"
   },
   {
    "duration": 34,
    "start_time": "2022-06-19T23:50:00.489Z"
   },
   {
    "duration": 47,
    "start_time": "2022-06-19T23:50:00.525Z"
   },
   {
    "duration": 68,
    "start_time": "2022-06-19T23:50:00.574Z"
   },
   {
    "duration": 19,
    "start_time": "2022-06-19T23:50:00.644Z"
   },
   {
    "duration": 35,
    "start_time": "2022-06-19T23:50:00.665Z"
   },
   {
    "duration": 24,
    "start_time": "2022-06-19T23:50:00.702Z"
   },
   {
    "duration": 12,
    "start_time": "2022-06-19T23:50:00.728Z"
   },
   {
    "duration": 29,
    "start_time": "2022-06-19T23:50:00.741Z"
   },
   {
    "duration": 27,
    "start_time": "2022-06-19T23:50:00.771Z"
   },
   {
    "duration": 38,
    "start_time": "2022-06-19T23:50:00.800Z"
   },
   {
    "duration": 751,
    "start_time": "2022-06-19T23:50:00.840Z"
   },
   {
    "duration": 151,
    "start_time": "2022-06-19T23:50:01.593Z"
   },
   {
    "duration": 14,
    "start_time": "2022-06-19T23:50:01.746Z"
   },
   {
    "duration": 23,
    "start_time": "2022-06-19T23:50:01.761Z"
   },
   {
    "duration": 261,
    "start_time": "2022-06-19T23:50:01.785Z"
   },
   {
    "duration": 141,
    "start_time": "2022-06-19T23:50:02.049Z"
   },
   {
    "duration": 18,
    "start_time": "2022-06-19T23:50:02.192Z"
   },
   {
    "duration": 25,
    "start_time": "2022-06-19T23:50:02.226Z"
   },
   {
    "duration": 14,
    "start_time": "2022-06-19T23:50:02.253Z"
   },
   {
    "duration": 29,
    "start_time": "2022-06-19T23:50:02.269Z"
   },
   {
    "duration": 19,
    "start_time": "2022-06-19T23:50:02.300Z"
   },
   {
    "duration": 22,
    "start_time": "2022-06-19T23:50:02.321Z"
   },
   {
    "duration": 10,
    "start_time": "2022-06-19T23:50:02.345Z"
   },
   {
    "duration": 12,
    "start_time": "2022-06-19T23:50:02.356Z"
   },
   {
    "duration": 10,
    "start_time": "2022-06-19T23:50:02.370Z"
   },
   {
    "duration": 13,
    "start_time": "2022-06-19T23:50:02.381Z"
   },
   {
    "duration": 6,
    "start_time": "2022-06-20T00:14:01.127Z"
   },
   {
    "duration": 269,
    "start_time": "2022-06-20T00:19:25.360Z"
   },
   {
    "duration": 875,
    "start_time": "2022-06-20T00:19:56.225Z"
   },
   {
    "duration": 4,
    "start_time": "2022-06-20T00:41:32.554Z"
   },
   {
    "duration": 264,
    "start_time": "2022-06-20T00:41:58.739Z"
   },
   {
    "duration": 8,
    "start_time": "2022-06-20T00:43:22.207Z"
   },
   {
    "duration": 5,
    "start_time": "2022-06-20T00:43:39.264Z"
   },
   {
    "duration": 729,
    "start_time": "2022-06-20T00:52:16.221Z"
   },
   {
    "duration": 28,
    "start_time": "2022-06-20T01:26:28.696Z"
   },
   {
    "duration": 12,
    "start_time": "2022-06-20T01:26:32.767Z"
   },
   {
    "duration": 862,
    "start_time": "2022-06-20T01:26:45.779Z"
   },
   {
    "duration": 330,
    "start_time": "2022-06-20T01:26:46.643Z"
   },
   {
    "duration": 3,
    "start_time": "2022-06-20T01:26:46.975Z"
   },
   {
    "duration": 12,
    "start_time": "2022-06-20T01:26:46.980Z"
   },
   {
    "duration": 6,
    "start_time": "2022-06-20T01:26:46.993Z"
   },
   {
    "duration": 40,
    "start_time": "2022-06-20T01:26:47.000Z"
   },
   {
    "duration": 14,
    "start_time": "2022-06-20T01:26:47.043Z"
   },
   {
    "duration": 164,
    "start_time": "2022-06-20T01:26:47.058Z"
   },
   {
    "duration": 10,
    "start_time": "2022-06-20T01:26:47.223Z"
   },
   {
    "duration": 17,
    "start_time": "2022-06-20T01:26:47.239Z"
   },
   {
    "duration": 24,
    "start_time": "2022-06-20T01:26:47.258Z"
   },
   {
    "duration": 63,
    "start_time": "2022-06-20T01:26:47.284Z"
   },
   {
    "duration": 17,
    "start_time": "2022-06-20T01:26:47.348Z"
   },
   {
    "duration": 8,
    "start_time": "2022-06-20T01:26:47.367Z"
   },
   {
    "duration": 19,
    "start_time": "2022-06-20T01:26:47.376Z"
   },
   {
    "duration": 9,
    "start_time": "2022-06-20T01:26:47.397Z"
   },
   {
    "duration": 140,
    "start_time": "2022-06-20T01:26:47.428Z"
   },
   {
    "duration": 4,
    "start_time": "2022-06-20T01:26:47.570Z"
   },
   {
    "duration": 9,
    "start_time": "2022-06-20T01:26:47.575Z"
   },
   {
    "duration": 18,
    "start_time": "2022-06-20T01:26:47.585Z"
   },
   {
    "duration": 38,
    "start_time": "2022-06-20T01:26:47.604Z"
   },
   {
    "duration": 16,
    "start_time": "2022-06-20T01:26:47.644Z"
   },
   {
    "duration": 7,
    "start_time": "2022-06-20T01:26:47.662Z"
   },
   {
    "duration": 90,
    "start_time": "2022-06-20T01:26:47.671Z"
   },
   {
    "duration": 5,
    "start_time": "2022-06-20T01:26:47.763Z"
   },
   {
    "duration": 13,
    "start_time": "2022-06-20T01:26:47.770Z"
   },
   {
    "duration": 12,
    "start_time": "2022-06-20T01:26:47.785Z"
   },
   {
    "duration": 15,
    "start_time": "2022-06-20T01:26:47.827Z"
   },
   {
    "duration": 15,
    "start_time": "2022-06-20T01:26:47.845Z"
   },
   {
    "duration": 15,
    "start_time": "2022-06-20T01:26:47.861Z"
   },
   {
    "duration": 11,
    "start_time": "2022-06-20T01:26:47.877Z"
   },
   {
    "duration": 7,
    "start_time": "2022-06-20T01:26:47.890Z"
   },
   {
    "duration": 44,
    "start_time": "2022-06-20T01:26:47.898Z"
   },
   {
    "duration": 3,
    "start_time": "2022-06-20T01:26:47.944Z"
   },
   {
    "duration": 9,
    "start_time": "2022-06-20T01:26:47.949Z"
   },
   {
    "duration": 16,
    "start_time": "2022-06-20T01:26:47.960Z"
   },
   {
    "duration": 32,
    "start_time": "2022-06-20T01:26:47.978Z"
   },
   {
    "duration": 24,
    "start_time": "2022-06-20T01:26:48.027Z"
   },
   {
    "duration": 15,
    "start_time": "2022-06-20T01:26:48.053Z"
   },
   {
    "duration": 1106,
    "start_time": "2022-06-20T01:26:48.070Z"
   },
   {
    "duration": 0,
    "start_time": "2022-06-20T01:26:49.178Z"
   },
   {
    "duration": 0,
    "start_time": "2022-06-20T01:26:49.179Z"
   },
   {
    "duration": 0,
    "start_time": "2022-06-20T01:26:49.180Z"
   },
   {
    "duration": 0,
    "start_time": "2022-06-20T01:26:49.181Z"
   },
   {
    "duration": 0,
    "start_time": "2022-06-20T01:26:49.182Z"
   },
   {
    "duration": 0,
    "start_time": "2022-06-20T01:26:49.183Z"
   },
   {
    "duration": 0,
    "start_time": "2022-06-20T01:26:49.184Z"
   },
   {
    "duration": 0,
    "start_time": "2022-06-20T01:26:49.185Z"
   },
   {
    "duration": 0,
    "start_time": "2022-06-20T01:26:49.186Z"
   },
   {
    "duration": 0,
    "start_time": "2022-06-20T01:26:49.187Z"
   },
   {
    "duration": 0,
    "start_time": "2022-06-20T01:26:49.189Z"
   },
   {
    "duration": 0,
    "start_time": "2022-06-20T01:26:49.190Z"
   },
   {
    "duration": 0,
    "start_time": "2022-06-20T01:26:49.191Z"
   },
   {
    "duration": 0,
    "start_time": "2022-06-20T01:26:49.192Z"
   },
   {
    "duration": 0,
    "start_time": "2022-06-20T01:26:49.193Z"
   },
   {
    "duration": 0,
    "start_time": "2022-06-20T01:26:49.194Z"
   },
   {
    "duration": 0,
    "start_time": "2022-06-20T01:26:49.195Z"
   },
   {
    "duration": 0,
    "start_time": "2022-06-20T01:26:49.196Z"
   },
   {
    "duration": 0,
    "start_time": "2022-06-20T01:26:49.198Z"
   },
   {
    "duration": 0,
    "start_time": "2022-06-20T01:26:49.199Z"
   },
   {
    "duration": 0,
    "start_time": "2022-06-20T01:26:49.199Z"
   },
   {
    "duration": 0,
    "start_time": "2022-06-20T01:26:49.201Z"
   },
   {
    "duration": 0,
    "start_time": "2022-06-20T01:26:49.202Z"
   },
   {
    "duration": 810,
    "start_time": "2022-06-20T01:27:10.585Z"
   },
   {
    "duration": 358,
    "start_time": "2022-06-20T01:27:11.397Z"
   },
   {
    "duration": 3,
    "start_time": "2022-06-20T01:27:11.757Z"
   },
   {
    "duration": 6,
    "start_time": "2022-06-20T01:27:11.762Z"
   },
   {
    "duration": 12,
    "start_time": "2022-06-20T01:27:11.769Z"
   },
   {
    "duration": 25,
    "start_time": "2022-06-20T01:27:11.783Z"
   },
   {
    "duration": 14,
    "start_time": "2022-06-20T01:27:11.810Z"
   },
   {
    "duration": 154,
    "start_time": "2022-06-20T01:27:11.828Z"
   },
   {
    "duration": 5,
    "start_time": "2022-06-20T01:27:11.984Z"
   },
   {
    "duration": 19,
    "start_time": "2022-06-20T01:27:11.991Z"
   },
   {
    "duration": 34,
    "start_time": "2022-06-20T01:27:12.012Z"
   },
   {
    "duration": 40,
    "start_time": "2022-06-20T01:27:12.048Z"
   },
   {
    "duration": 20,
    "start_time": "2022-06-20T01:27:12.090Z"
   },
   {
    "duration": 31,
    "start_time": "2022-06-20T01:27:12.111Z"
   },
   {
    "duration": 18,
    "start_time": "2022-06-20T01:27:12.144Z"
   },
   {
    "duration": 8,
    "start_time": "2022-06-20T01:27:12.164Z"
   },
   {
    "duration": 133,
    "start_time": "2022-06-20T01:27:12.173Z"
   },
   {
    "duration": 5,
    "start_time": "2022-06-20T01:27:12.308Z"
   },
   {
    "duration": 16,
    "start_time": "2022-06-20T01:27:12.328Z"
   },
   {
    "duration": 21,
    "start_time": "2022-06-20T01:27:12.346Z"
   },
   {
    "duration": 15,
    "start_time": "2022-06-20T01:27:12.369Z"
   },
   {
    "duration": 14,
    "start_time": "2022-06-20T01:27:12.385Z"
   },
   {
    "duration": 6,
    "start_time": "2022-06-20T01:27:12.401Z"
   },
   {
    "duration": 77,
    "start_time": "2022-06-20T01:27:12.409Z"
   },
   {
    "duration": 4,
    "start_time": "2022-06-20T01:27:12.487Z"
   },
   {
    "duration": 20,
    "start_time": "2022-06-20T01:27:12.493Z"
   },
   {
    "duration": 20,
    "start_time": "2022-06-20T01:27:12.527Z"
   },
   {
    "duration": 16,
    "start_time": "2022-06-20T01:27:12.552Z"
   },
   {
    "duration": 17,
    "start_time": "2022-06-20T01:27:12.571Z"
   },
   {
    "duration": 15,
    "start_time": "2022-06-20T01:27:12.590Z"
   },
   {
    "duration": 31,
    "start_time": "2022-06-20T01:27:12.607Z"
   },
   {
    "duration": 14,
    "start_time": "2022-06-20T01:27:12.640Z"
   },
   {
    "duration": 25,
    "start_time": "2022-06-20T01:27:12.656Z"
   },
   {
    "duration": 3,
    "start_time": "2022-06-20T01:27:12.683Z"
   },
   {
    "duration": 7,
    "start_time": "2022-06-20T01:27:12.688Z"
   },
   {
    "duration": 36,
    "start_time": "2022-06-20T01:27:12.696Z"
   },
   {
    "duration": 32,
    "start_time": "2022-06-20T01:27:12.741Z"
   },
   {
    "duration": 19,
    "start_time": "2022-06-20T01:27:12.775Z"
   },
   {
    "duration": 17,
    "start_time": "2022-06-20T01:27:12.795Z"
   },
   {
    "duration": 881,
    "start_time": "2022-06-20T01:27:12.813Z"
   },
   {
    "duration": 0,
    "start_time": "2022-06-20T01:27:13.697Z"
   },
   {
    "duration": 0,
    "start_time": "2022-06-20T01:27:13.699Z"
   },
   {
    "duration": 1,
    "start_time": "2022-06-20T01:27:13.700Z"
   },
   {
    "duration": 0,
    "start_time": "2022-06-20T01:27:13.702Z"
   },
   {
    "duration": 0,
    "start_time": "2022-06-20T01:27:13.704Z"
   },
   {
    "duration": 0,
    "start_time": "2022-06-20T01:27:13.705Z"
   },
   {
    "duration": 0,
    "start_time": "2022-06-20T01:27:13.707Z"
   },
   {
    "duration": 0,
    "start_time": "2022-06-20T01:27:13.708Z"
   },
   {
    "duration": 0,
    "start_time": "2022-06-20T01:27:13.710Z"
   },
   {
    "duration": 0,
    "start_time": "2022-06-20T01:27:13.712Z"
   },
   {
    "duration": 0,
    "start_time": "2022-06-20T01:27:13.713Z"
   },
   {
    "duration": 0,
    "start_time": "2022-06-20T01:27:13.714Z"
   },
   {
    "duration": 0,
    "start_time": "2022-06-20T01:27:13.714Z"
   },
   {
    "duration": 0,
    "start_time": "2022-06-20T01:27:13.715Z"
   },
   {
    "duration": 0,
    "start_time": "2022-06-20T01:27:13.717Z"
   },
   {
    "duration": 0,
    "start_time": "2022-06-20T01:27:13.718Z"
   },
   {
    "duration": 0,
    "start_time": "2022-06-20T01:27:13.720Z"
   },
   {
    "duration": 0,
    "start_time": "2022-06-20T01:27:13.721Z"
   },
   {
    "duration": 0,
    "start_time": "2022-06-20T01:27:13.722Z"
   },
   {
    "duration": 0,
    "start_time": "2022-06-20T01:27:13.723Z"
   },
   {
    "duration": 0,
    "start_time": "2022-06-20T01:27:13.724Z"
   },
   {
    "duration": 0,
    "start_time": "2022-06-20T01:27:13.725Z"
   },
   {
    "duration": 0,
    "start_time": "2022-06-20T01:27:13.728Z"
   },
   {
    "duration": 855,
    "start_time": "2022-06-20T01:27:28.839Z"
   },
   {
    "duration": 359,
    "start_time": "2022-06-20T01:27:29.696Z"
   },
   {
    "duration": 4,
    "start_time": "2022-06-20T01:27:30.056Z"
   },
   {
    "duration": 10,
    "start_time": "2022-06-20T01:27:30.062Z"
   },
   {
    "duration": 20,
    "start_time": "2022-06-20T01:27:30.075Z"
   },
   {
    "duration": 43,
    "start_time": "2022-06-20T01:27:30.097Z"
   },
   {
    "duration": 18,
    "start_time": "2022-06-20T01:27:30.142Z"
   },
   {
    "duration": 169,
    "start_time": "2022-06-20T01:27:30.162Z"
   },
   {
    "duration": 6,
    "start_time": "2022-06-20T01:27:30.332Z"
   },
   {
    "duration": 39,
    "start_time": "2022-06-20T01:27:30.339Z"
   },
   {
    "duration": 33,
    "start_time": "2022-06-20T01:27:30.380Z"
   },
   {
    "duration": 51,
    "start_time": "2022-06-20T01:27:30.414Z"
   },
   {
    "duration": 29,
    "start_time": "2022-06-20T01:27:30.468Z"
   },
   {
    "duration": 20,
    "start_time": "2022-06-20T01:27:30.500Z"
   },
   {
    "duration": 41,
    "start_time": "2022-06-20T01:27:30.521Z"
   },
   {
    "duration": 17,
    "start_time": "2022-06-20T01:27:30.564Z"
   },
   {
    "duration": 135,
    "start_time": "2022-06-20T01:27:30.582Z"
   },
   {
    "duration": 4,
    "start_time": "2022-06-20T01:27:30.719Z"
   },
   {
    "duration": 38,
    "start_time": "2022-06-20T01:27:30.726Z"
   },
   {
    "duration": 43,
    "start_time": "2022-06-20T01:27:30.766Z"
   },
   {
    "duration": 17,
    "start_time": "2022-06-20T01:27:30.811Z"
   },
   {
    "duration": 42,
    "start_time": "2022-06-20T01:27:30.829Z"
   },
   {
    "duration": 8,
    "start_time": "2022-06-20T01:27:30.873Z"
   },
   {
    "duration": 100,
    "start_time": "2022-06-20T01:27:30.883Z"
   },
   {
    "duration": 5,
    "start_time": "2022-06-20T01:27:30.985Z"
   },
   {
    "duration": 27,
    "start_time": "2022-06-20T01:27:30.992Z"
   },
   {
    "duration": 34,
    "start_time": "2022-06-20T01:27:31.021Z"
   },
   {
    "duration": 18,
    "start_time": "2022-06-20T01:27:31.057Z"
   },
   {
    "duration": 83,
    "start_time": "2022-06-20T01:27:31.076Z"
   },
   {
    "duration": 19,
    "start_time": "2022-06-20T01:27:31.160Z"
   },
   {
    "duration": 21,
    "start_time": "2022-06-20T01:27:31.180Z"
   },
   {
    "duration": 12,
    "start_time": "2022-06-20T01:27:31.203Z"
   },
   {
    "duration": 36,
    "start_time": "2022-06-20T01:27:31.217Z"
   },
   {
    "duration": 10,
    "start_time": "2022-06-20T01:27:31.255Z"
   },
   {
    "duration": 34,
    "start_time": "2022-06-20T01:27:31.266Z"
   },
   {
    "duration": 26,
    "start_time": "2022-06-20T01:27:31.303Z"
   },
   {
    "duration": 47,
    "start_time": "2022-06-20T01:27:31.335Z"
   },
   {
    "duration": 18,
    "start_time": "2022-06-20T01:27:31.384Z"
   },
   {
    "duration": 52,
    "start_time": "2022-06-20T01:27:31.403Z"
   },
   {
    "duration": 33,
    "start_time": "2022-06-20T01:27:31.457Z"
   },
   {
    "duration": 60,
    "start_time": "2022-06-20T01:27:31.496Z"
   },
   {
    "duration": 45,
    "start_time": "2022-06-20T01:27:31.558Z"
   },
   {
    "duration": 38,
    "start_time": "2022-06-20T01:27:31.605Z"
   },
   {
    "duration": 26,
    "start_time": "2022-06-20T01:27:31.644Z"
   },
   {
    "duration": 20,
    "start_time": "2022-06-20T01:27:31.672Z"
   },
   {
    "duration": 552,
    "start_time": "2022-06-20T01:27:31.693Z"
   },
   {
    "duration": 13,
    "start_time": "2022-06-20T01:27:32.247Z"
   },
   {
    "duration": 16,
    "start_time": "2022-06-20T01:27:32.262Z"
   },
   {
    "duration": 630,
    "start_time": "2022-06-20T01:27:32.280Z"
   },
   {
    "duration": 0,
    "start_time": "2022-06-20T01:27:32.912Z"
   },
   {
    "duration": 0,
    "start_time": "2022-06-20T01:27:32.914Z"
   },
   {
    "duration": 0,
    "start_time": "2022-06-20T01:27:32.915Z"
   },
   {
    "duration": 0,
    "start_time": "2022-06-20T01:27:32.916Z"
   },
   {
    "duration": 0,
    "start_time": "2022-06-20T01:27:32.925Z"
   },
   {
    "duration": 0,
    "start_time": "2022-06-20T01:27:32.926Z"
   },
   {
    "duration": 0,
    "start_time": "2022-06-20T01:27:32.926Z"
   },
   {
    "duration": 0,
    "start_time": "2022-06-20T01:27:32.927Z"
   },
   {
    "duration": 0,
    "start_time": "2022-06-20T01:27:32.928Z"
   },
   {
    "duration": 0,
    "start_time": "2022-06-20T01:27:32.929Z"
   },
   {
    "duration": 0,
    "start_time": "2022-06-20T01:27:32.929Z"
   },
   {
    "duration": 0,
    "start_time": "2022-06-20T01:27:32.933Z"
   },
   {
    "duration": 0,
    "start_time": "2022-06-20T01:27:32.934Z"
   },
   {
    "duration": 0,
    "start_time": "2022-06-20T01:27:32.935Z"
   },
   {
    "duration": 797,
    "start_time": "2022-06-20T01:28:12.564Z"
   },
   {
    "duration": 319,
    "start_time": "2022-06-20T01:28:13.363Z"
   },
   {
    "duration": 4,
    "start_time": "2022-06-20T01:28:13.683Z"
   },
   {
    "duration": 8,
    "start_time": "2022-06-20T01:28:13.688Z"
   },
   {
    "duration": 6,
    "start_time": "2022-06-20T01:28:13.697Z"
   },
   {
    "duration": 26,
    "start_time": "2022-06-20T01:28:13.704Z"
   },
   {
    "duration": 17,
    "start_time": "2022-06-20T01:28:13.732Z"
   },
   {
    "duration": 162,
    "start_time": "2022-06-20T01:28:13.750Z"
   },
   {
    "duration": 5,
    "start_time": "2022-06-20T01:28:13.914Z"
   },
   {
    "duration": 21,
    "start_time": "2022-06-20T01:28:13.927Z"
   },
   {
    "duration": 25,
    "start_time": "2022-06-20T01:28:13.950Z"
   },
   {
    "duration": 39,
    "start_time": "2022-06-20T01:28:13.977Z"
   },
   {
    "duration": 29,
    "start_time": "2022-06-20T01:28:14.018Z"
   },
   {
    "duration": 7,
    "start_time": "2022-06-20T01:28:14.049Z"
   },
   {
    "duration": 22,
    "start_time": "2022-06-20T01:28:14.058Z"
   },
   {
    "duration": 9,
    "start_time": "2022-06-20T01:28:14.081Z"
   },
   {
    "duration": 155,
    "start_time": "2022-06-20T01:28:14.092Z"
   },
   {
    "duration": 4,
    "start_time": "2022-06-20T01:28:14.249Z"
   },
   {
    "duration": 10,
    "start_time": "2022-06-20T01:28:14.254Z"
   },
   {
    "duration": 25,
    "start_time": "2022-06-20T01:28:14.267Z"
   },
   {
    "duration": 18,
    "start_time": "2022-06-20T01:28:14.293Z"
   },
   {
    "duration": 25,
    "start_time": "2022-06-20T01:28:14.334Z"
   },
   {
    "duration": 10,
    "start_time": "2022-06-20T01:28:14.361Z"
   },
   {
    "duration": 100,
    "start_time": "2022-06-20T01:28:14.373Z"
   },
   {
    "duration": 6,
    "start_time": "2022-06-20T01:28:14.475Z"
   },
   {
    "duration": 16,
    "start_time": "2022-06-20T01:28:14.483Z"
   },
   {
    "duration": 36,
    "start_time": "2022-06-20T01:28:14.501Z"
   },
   {
    "duration": 23,
    "start_time": "2022-06-20T01:28:14.544Z"
   },
   {
    "duration": 26,
    "start_time": "2022-06-20T01:28:14.569Z"
   },
   {
    "duration": 29,
    "start_time": "2022-06-20T01:28:14.597Z"
   },
   {
    "duration": 29,
    "start_time": "2022-06-20T01:28:14.630Z"
   },
   {
    "duration": 6,
    "start_time": "2022-06-20T01:28:14.661Z"
   },
   {
    "duration": 26,
    "start_time": "2022-06-20T01:28:14.669Z"
   },
   {
    "duration": 4,
    "start_time": "2022-06-20T01:28:14.697Z"
   },
   {
    "duration": 6,
    "start_time": "2022-06-20T01:28:14.703Z"
   },
   {
    "duration": 21,
    "start_time": "2022-06-20T01:28:14.711Z"
   },
   {
    "duration": 43,
    "start_time": "2022-06-20T01:28:14.733Z"
   },
   {
    "duration": 20,
    "start_time": "2022-06-20T01:28:14.777Z"
   },
   {
    "duration": 17,
    "start_time": "2022-06-20T01:28:14.798Z"
   },
   {
    "duration": 27,
    "start_time": "2022-06-20T01:28:14.817Z"
   },
   {
    "duration": 15,
    "start_time": "2022-06-20T01:28:14.846Z"
   },
   {
    "duration": 16,
    "start_time": "2022-06-20T01:28:14.862Z"
   },
   {
    "duration": 6,
    "start_time": "2022-06-20T01:28:14.880Z"
   },
   {
    "duration": 13,
    "start_time": "2022-06-20T01:28:14.888Z"
   },
   {
    "duration": 10,
    "start_time": "2022-06-20T01:28:14.903Z"
   },
   {
    "duration": 571,
    "start_time": "2022-06-20T01:28:14.915Z"
   },
   {
    "duration": 12,
    "start_time": "2022-06-20T01:28:15.488Z"
   },
   {
    "duration": 9,
    "start_time": "2022-06-20T01:28:15.502Z"
   },
   {
    "duration": 780,
    "start_time": "2022-06-20T01:28:15.513Z"
   },
   {
    "duration": 5,
    "start_time": "2022-06-20T01:28:16.294Z"
   },
   {
    "duration": 14,
    "start_time": "2022-06-20T01:28:16.300Z"
   },
   {
    "duration": 239,
    "start_time": "2022-06-20T01:28:16.316Z"
   },
   {
    "duration": 132,
    "start_time": "2022-06-20T01:28:16.557Z"
   },
   {
    "duration": 7,
    "start_time": "2022-06-20T01:28:16.692Z"
   },
   {
    "duration": 851,
    "start_time": "2022-06-20T01:28:16.702Z"
   },
   {
    "duration": 3,
    "start_time": "2022-06-20T01:28:17.555Z"
   },
   {
    "duration": 9,
    "start_time": "2022-06-20T01:28:17.559Z"
   },
   {
    "duration": 7,
    "start_time": "2022-06-20T01:28:17.569Z"
   },
   {
    "duration": 8,
    "start_time": "2022-06-20T01:28:17.577Z"
   },
   {
    "duration": 7,
    "start_time": "2022-06-20T01:28:17.587Z"
   },
   {
    "duration": 10,
    "start_time": "2022-06-20T01:28:17.595Z"
   },
   {
    "duration": 21,
    "start_time": "2022-06-20T01:28:17.606Z"
   },
   {
    "duration": 8,
    "start_time": "2022-06-20T01:28:17.630Z"
   },
   {
    "duration": 5,
    "start_time": "2022-06-20T01:34:09.691Z"
   },
   {
    "duration": 4,
    "start_time": "2022-06-20T01:34:10.508Z"
   },
   {
    "duration": 5,
    "start_time": "2022-06-20T01:34:12.428Z"
   },
   {
    "duration": 3,
    "start_time": "2022-06-20T01:35:04.196Z"
   },
   {
    "duration": 4,
    "start_time": "2022-06-20T01:35:05.185Z"
   },
   {
    "duration": 4,
    "start_time": "2022-06-20T01:36:09.083Z"
   },
   {
    "duration": 7,
    "start_time": "2022-06-20T01:56:20.468Z"
   },
   {
    "duration": 4,
    "start_time": "2022-06-20T01:56:21.595Z"
   },
   {
    "duration": 3,
    "start_time": "2022-06-20T01:56:27.161Z"
   },
   {
    "duration": 786,
    "start_time": "2022-06-20T13:08:59.947Z"
   },
   {
    "duration": 839,
    "start_time": "2022-06-20T13:09:02.822Z"
   },
   {
    "duration": 3,
    "start_time": "2022-06-20T13:09:06.157Z"
   },
   {
    "duration": 3,
    "start_time": "2022-06-20T13:09:06.481Z"
   },
   {
    "duration": 3,
    "start_time": "2022-06-20T13:09:06.737Z"
   },
   {
    "duration": 23,
    "start_time": "2022-06-20T13:09:09.139Z"
   },
   {
    "duration": 18,
    "start_time": "2022-06-20T13:09:11.246Z"
   },
   {
    "duration": 142,
    "start_time": "2022-06-20T13:09:12.177Z"
   },
   {
    "duration": 6,
    "start_time": "2022-06-20T13:09:15.466Z"
   },
   {
    "duration": 7,
    "start_time": "2022-06-20T13:09:15.929Z"
   },
   {
    "duration": 34,
    "start_time": "2022-06-20T13:09:18.548Z"
   },
   {
    "duration": 40,
    "start_time": "2022-06-20T13:09:18.826Z"
   },
   {
    "duration": 18,
    "start_time": "2022-06-20T13:09:19.084Z"
   },
   {
    "duration": 11,
    "start_time": "2022-06-20T13:09:21.281Z"
   },
   {
    "duration": 19,
    "start_time": "2022-06-20T13:09:23.599Z"
   },
   {
    "duration": 8,
    "start_time": "2022-06-20T13:09:23.993Z"
   },
   {
    "duration": 95,
    "start_time": "2022-06-20T13:09:25.882Z"
   },
   {
    "duration": 5,
    "start_time": "2022-06-20T13:09:28.006Z"
   },
   {
    "duration": 7,
    "start_time": "2022-06-20T13:09:28.248Z"
   },
   {
    "duration": 18,
    "start_time": "2022-06-20T13:09:30.523Z"
   },
   {
    "duration": 19,
    "start_time": "2022-06-20T13:09:30.727Z"
   },
   {
    "duration": 16,
    "start_time": "2022-06-20T13:09:33.436Z"
   },
   {
    "duration": 7,
    "start_time": "2022-06-20T13:09:33.727Z"
   },
   {
    "duration": 74,
    "start_time": "2022-06-20T13:09:35.582Z"
   },
   {
    "duration": 5,
    "start_time": "2022-06-20T13:09:37.435Z"
   },
   {
    "duration": 13,
    "start_time": "2022-06-20T13:09:38.976Z"
   },
   {
    "duration": 15,
    "start_time": "2022-06-20T13:09:39.196Z"
   },
   {
    "duration": 11,
    "start_time": "2022-06-20T13:09:40.497Z"
   },
   {
    "duration": 9,
    "start_time": "2022-06-20T13:09:40.916Z"
   },
   {
    "duration": 11,
    "start_time": "2022-06-20T13:09:43.183Z"
   },
   {
    "duration": 9,
    "start_time": "2022-06-20T13:09:43.917Z"
   },
   {
    "duration": 4,
    "start_time": "2022-06-20T13:09:45.697Z"
   },
   {
    "duration": 22,
    "start_time": "2022-06-20T13:09:46.056Z"
   },
   {
    "duration": 4,
    "start_time": "2022-06-20T13:09:49.014Z"
   },
   {
    "duration": 5,
    "start_time": "2022-06-20T13:09:49.242Z"
   },
   {
    "duration": 13,
    "start_time": "2022-06-20T13:09:49.477Z"
   },
   {
    "duration": 30,
    "start_time": "2022-06-20T13:09:51.949Z"
   },
   {
    "duration": 20,
    "start_time": "2022-06-20T13:09:55.305Z"
   },
   {
    "duration": 18,
    "start_time": "2022-06-20T13:09:57.691Z"
   },
   {
    "duration": 20,
    "start_time": "2022-06-20T13:16:38.280Z"
   },
   {
    "duration": 13,
    "start_time": "2022-06-20T13:16:44.109Z"
   },
   {
    "duration": 13,
    "start_time": "2022-06-20T13:16:46.407Z"
   },
   {
    "duration": 4,
    "start_time": "2022-06-20T13:16:49.592Z"
   },
   {
    "duration": 5,
    "start_time": "2022-06-20T13:16:49.933Z"
   },
   {
    "duration": 4,
    "start_time": "2022-06-20T13:16:52.557Z"
   },
   {
    "duration": 721,
    "start_time": "2022-06-20T13:16:53.257Z"
   },
   {
    "duration": 14,
    "start_time": "2022-06-20T13:16:57.643Z"
   },
   {
    "duration": 5,
    "start_time": "2022-06-20T13:16:59.996Z"
   },
   {
    "duration": 781,
    "start_time": "2022-06-20T13:17:02.187Z"
   },
   {
    "duration": 5,
    "start_time": "2022-06-20T13:17:08.106Z"
   },
   {
    "duration": 4,
    "start_time": "2022-06-20T13:17:08.827Z"
   },
   {
    "duration": 252,
    "start_time": "2022-06-20T13:17:09.836Z"
   },
   {
    "duration": 223,
    "start_time": "2022-06-20T13:17:15.133Z"
   },
   {
    "duration": 6,
    "start_time": "2022-06-20T13:17:19.847Z"
   },
   {
    "duration": 776,
    "start_time": "2022-06-20T13:17:23.307Z"
   },
   {
    "duration": 3,
    "start_time": "2022-06-20T13:22:52.453Z"
   },
   {
    "duration": 3,
    "start_time": "2022-06-20T13:22:52.753Z"
   },
   {
    "duration": 4,
    "start_time": "2022-06-20T13:22:53.098Z"
   },
   {
    "duration": 3,
    "start_time": "2022-06-20T13:23:02.757Z"
   },
   {
    "duration": 5,
    "start_time": "2022-06-20T13:23:59.009Z"
   },
   {
    "duration": 5,
    "start_time": "2022-06-20T13:23:59.318Z"
   },
   {
    "duration": 3,
    "start_time": "2022-06-20T13:24:00.026Z"
   },
   {
    "duration": 4,
    "start_time": "2022-06-20T13:24:02.566Z"
   },
   {
    "duration": 941,
    "start_time": "2022-06-20T20:06:44.719Z"
   },
   {
    "duration": 996,
    "start_time": "2022-06-20T20:06:45.662Z"
   },
   {
    "duration": 3,
    "start_time": "2022-06-20T20:06:46.661Z"
   },
   {
    "duration": 8,
    "start_time": "2022-06-20T20:06:46.667Z"
   },
   {
    "duration": 8,
    "start_time": "2022-06-20T20:06:46.677Z"
   },
   {
    "duration": 42,
    "start_time": "2022-06-20T20:06:46.687Z"
   },
   {
    "duration": 22,
    "start_time": "2022-06-20T20:06:46.731Z"
   },
   {
    "duration": 202,
    "start_time": "2022-06-20T20:06:46.756Z"
   },
   {
    "duration": 6,
    "start_time": "2022-06-20T20:06:46.960Z"
   },
   {
    "duration": 7,
    "start_time": "2022-06-20T20:06:46.969Z"
   },
   {
    "duration": 38,
    "start_time": "2022-06-20T20:06:46.994Z"
   },
   {
    "duration": 73,
    "start_time": "2022-06-20T20:06:47.034Z"
   },
   {
    "duration": 22,
    "start_time": "2022-06-20T20:06:47.116Z"
   },
   {
    "duration": 8,
    "start_time": "2022-06-20T20:06:47.140Z"
   },
   {
    "duration": 27,
    "start_time": "2022-06-20T20:06:47.150Z"
   },
   {
    "duration": 24,
    "start_time": "2022-06-20T20:06:47.178Z"
   },
   {
    "duration": 133,
    "start_time": "2022-06-20T20:06:47.209Z"
   },
   {
    "duration": 6,
    "start_time": "2022-06-20T20:06:47.344Z"
   },
   {
    "duration": 10,
    "start_time": "2022-06-20T20:06:47.352Z"
   },
   {
    "duration": 44,
    "start_time": "2022-06-20T20:06:47.363Z"
   },
   {
    "duration": 21,
    "start_time": "2022-06-20T20:06:47.409Z"
   },
   {
    "duration": 24,
    "start_time": "2022-06-20T20:06:47.432Z"
   },
   {
    "duration": 8,
    "start_time": "2022-06-20T20:06:47.458Z"
   },
   {
    "duration": 83,
    "start_time": "2022-06-20T20:06:47.497Z"
   },
   {
    "duration": 4,
    "start_time": "2022-06-20T20:06:47.582Z"
   },
   {
    "duration": 41,
    "start_time": "2022-06-20T20:06:47.596Z"
   },
   {
    "duration": 16,
    "start_time": "2022-06-20T20:06:47.639Z"
   },
   {
    "duration": 11,
    "start_time": "2022-06-20T20:06:47.661Z"
   },
   {
    "duration": 19,
    "start_time": "2022-06-20T20:06:47.674Z"
   },
   {
    "duration": 32,
    "start_time": "2022-06-20T20:06:47.702Z"
   },
   {
    "duration": 14,
    "start_time": "2022-06-20T20:06:47.737Z"
   },
   {
    "duration": 6,
    "start_time": "2022-06-20T20:06:47.752Z"
   },
   {
    "duration": 23,
    "start_time": "2022-06-20T20:06:47.759Z"
   },
   {
    "duration": 5,
    "start_time": "2022-06-20T20:06:47.783Z"
   },
   {
    "duration": 14,
    "start_time": "2022-06-20T20:06:47.789Z"
   },
   {
    "duration": 33,
    "start_time": "2022-06-20T20:06:47.804Z"
   },
   {
    "duration": 38,
    "start_time": "2022-06-20T20:06:47.839Z"
   },
   {
    "duration": 27,
    "start_time": "2022-06-20T20:06:47.879Z"
   },
   {
    "duration": 25,
    "start_time": "2022-06-20T20:06:47.911Z"
   },
   {
    "duration": 22,
    "start_time": "2022-06-20T20:06:47.938Z"
   },
   {
    "duration": 13,
    "start_time": "2022-06-20T20:06:47.962Z"
   },
   {
    "duration": 41,
    "start_time": "2022-06-20T20:06:47.977Z"
   },
   {
    "duration": 8,
    "start_time": "2022-06-20T20:06:48.021Z"
   },
   {
    "duration": 11,
    "start_time": "2022-06-20T20:06:48.031Z"
   },
   {
    "duration": 13,
    "start_time": "2022-06-20T20:06:48.044Z"
   },
   {
    "duration": 725,
    "start_time": "2022-06-20T20:06:48.059Z"
   },
   {
    "duration": 34,
    "start_time": "2022-06-20T20:06:48.785Z"
   },
   {
    "duration": 8,
    "start_time": "2022-06-20T20:06:48.820Z"
   },
   {
    "duration": 895,
    "start_time": "2022-06-20T20:06:48.830Z"
   },
   {
    "duration": 5,
    "start_time": "2022-06-20T20:06:49.728Z"
   },
   {
    "duration": 7,
    "start_time": "2022-06-20T20:06:49.735Z"
   },
   {
    "duration": 288,
    "start_time": "2022-06-20T20:06:49.744Z"
   },
   {
    "duration": 230,
    "start_time": "2022-06-20T20:06:50.034Z"
   },
   {
    "duration": 5,
    "start_time": "2022-06-20T20:06:50.266Z"
   },
   {
    "duration": 802,
    "start_time": "2022-06-20T20:06:50.273Z"
   },
   {
    "duration": 3,
    "start_time": "2022-06-20T20:06:51.076Z"
   },
   {
    "duration": 14,
    "start_time": "2022-06-20T20:06:51.081Z"
   },
   {
    "duration": 21,
    "start_time": "2022-06-20T20:06:51.097Z"
   },
   {
    "duration": 8,
    "start_time": "2022-06-20T20:06:51.120Z"
   },
   {
    "duration": 8,
    "start_time": "2022-06-20T20:06:51.130Z"
   },
   {
    "duration": 8,
    "start_time": "2022-06-20T20:06:51.140Z"
   },
   {
    "duration": 7,
    "start_time": "2022-06-20T20:06:51.150Z"
   },
   {
    "duration": 7,
    "start_time": "2022-06-20T20:06:51.158Z"
   }
  ],
  "kernelspec": {
   "display_name": "Python 3 (ipykernel)",
   "language": "python",
   "name": "python3"
  },
  "language_info": {
   "codemirror_mode": {
    "name": "ipython",
    "version": 3
   },
   "file_extension": ".py",
   "mimetype": "text/x-python",
   "name": "python",
   "nbconvert_exporter": "python",
   "pygments_lexer": "ipython3",
   "version": "3.9.13"
  },
  "toc": {
   "base_numbering": 1,
   "nav_menu": {},
   "number_sections": true,
   "sideBar": true,
   "skip_h1_title": true,
   "title_cell": "Table of Contents",
   "title_sidebar": "Contents",
   "toc_cell": false,
   "toc_position": {},
   "toc_section_display": true,
   "toc_window_display": false
  }
 },
 "nbformat": 4,
 "nbformat_minor": 2
}
