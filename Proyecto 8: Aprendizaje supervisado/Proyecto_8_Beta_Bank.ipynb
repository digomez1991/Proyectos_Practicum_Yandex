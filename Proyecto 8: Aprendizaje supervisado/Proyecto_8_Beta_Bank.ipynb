{
 "cells": [
  {
   "cell_type": "markdown",
   "metadata": {},
   "source": [
    "## Beta Bank"
   ]
  },
  {
   "cell_type": "markdown",
   "metadata": {},
   "source": [
    "## 1. Contenido"
   ]
  },
  {
   "cell_type": "markdown",
   "metadata": {},
   "source": [
    "* [1 Contenido](#content)\n",
    "* [2 Introducción](#intro)\n",
    "* [3 Inicialización](#inic)\n",
    "    * [3.1 Cargar Librerias](#library)\n",
    "    * [3.2 Cargar Datos](#datos)\n",
    "* [4 Exploración de los datos](#exp)\n",
    "    * [4.1 Completar valores ausentes](#ausentes)      \n",
    "* [5 Segmentación de los datos](#segmentacion) \n",
    "* [6 Equilibrio de clases](#equilibrio)\n",
    "    * [6.1 Matriz de confusión](#matriz)    \n",
    "* [7 Calidad y elección del modelo](#calidad)\n",
    "    * [7.1 Elección del modelo](#modelo)\n",
    "        * [7.1.1 Árbol de desición](#arbol)\n",
    "        * [7.2.1 Bosque aleatorio](#bosque)\n",
    "        * [7.3.1 Regresión logística](#regresion)\n",
    "    * [7.2 Desequilibrio de clases](#desequilibrio)\n",
    "        * [7.2.1 Ajuste peso de clase](#ajuste)\n",
    "        * [7.2.2 Submuestreo](#sub)\n",
    "        * [7.2.3 Sobremuestreo](#sob)\n",
    "    * [7.2 Conclusión modelos](#end_m)        \n",
    "* [8 Prueba final](#final)    \n",
    "* [9 Conclusiones](#end)"
   ]
  },
  {
   "cell_type": "markdown",
   "metadata": {},
   "source": [
    "## 2. Introducción"
   ]
  },
  {
   "cell_type": "markdown",
   "metadata": {},
   "source": [
    "En el presente proyecto Beta Bank nos ha solicitado desarrollar un modelo para predecir si sus clientes dejarán el banco a corto plazo. Beta Bank nos ha proporcionado un dataset con los datos sobre el comportamiento de clientes pasados e información sobre la terminación de sus contratos.\n",
    "\n",
    "Comenzaremos revisando el dataset proporcionado, examinaremos el equilibrio de clases existente en el dataset, comprobaremos distintos modelos y mejoraremos su calidad a través del ajuste de parámetros para encontrar el más óptimo para el proyecto."
   ]
  },
  {
   "cell_type": "markdown",
   "metadata": {},
   "source": [
    "## 3. Inicialización"
   ]
  },
  {
   "cell_type": "markdown",
   "metadata": {},
   "source": [
    "### 3.1 Cargar librerias"
   ]
  },
  {
   "cell_type": "markdown",
   "metadata": {},
   "source": [
    "Se procede a cargar las librerías que se utilizaran en el proyecto."
   ]
  },
  {
   "cell_type": "code",
   "execution_count": 1,
   "metadata": {},
   "outputs": [],
   "source": [
    "import pandas as pd\n",
    "from sklearn.model_selection import train_test_split\n",
    "from sklearn.ensemble import RandomForestClassifier\n",
    "from sklearn.preprocessing import OrdinalEncoder\n",
    "from sklearn.metrics import accuracy_score\n",
    "from sklearn.metrics import confusion_matrix\n",
    "from sklearn.metrics import f1_score\n",
    "from sklearn.utils import shuffle\n",
    "import matplotlib.pyplot as plt\n",
    "from sklearn.metrics import roc_curve\n",
    "from sklearn.metrics import roc_auc_score\n",
    "from sklearn.tree import DecisionTreeClassifier\n",
    "from sklearn.linear_model import LogisticRegression\n",
    "import numpy as np"
   ]
  },
  {
   "cell_type": "markdown",
   "metadata": {},
   "source": [
    "### 3.2 Cargar datos"
   ]
  },
  {
   "cell_type": "markdown",
   "metadata": {},
   "source": [
    "Se procede a cargar los datos."
   ]
  },
  {
   "cell_type": "code",
   "execution_count": 2,
   "metadata": {},
   "outputs": [],
   "source": [
    "bank = pd.read_csv('datasets/Churn.csv')"
   ]
  },
  {
   "cell_type": "markdown",
   "metadata": {},
   "source": [
    "## 4. Exploración de los datos"
   ]
  },
  {
   "cell_type": "markdown",
   "metadata": {},
   "source": [
    "A continuación, procederemos a realizar un análisis sobre los datos entregados por Beta Bank."
   ]
  },
  {
   "cell_type": "code",
   "execution_count": 3,
   "metadata": {},
   "outputs": [
    {
     "name": "stdout",
     "output_type": "stream",
     "text": [
      "<class 'pandas.core.frame.DataFrame'>\n",
      "RangeIndex: 10000 entries, 0 to 9999\n",
      "Data columns (total 14 columns):\n",
      " #   Column           Non-Null Count  Dtype  \n",
      "---  ------           --------------  -----  \n",
      " 0   RowNumber        10000 non-null  int64  \n",
      " 1   CustomerId       10000 non-null  int64  \n",
      " 2   Surname          10000 non-null  object \n",
      " 3   CreditScore      10000 non-null  int64  \n",
      " 4   Geography        10000 non-null  object \n",
      " 5   Gender           10000 non-null  object \n",
      " 6   Age              10000 non-null  int64  \n",
      " 7   Tenure           9091 non-null   float64\n",
      " 8   Balance          10000 non-null  float64\n",
      " 9   NumOfProducts    10000 non-null  int64  \n",
      " 10  HasCrCard        10000 non-null  int64  \n",
      " 11  IsActiveMember   10000 non-null  int64  \n",
      " 12  EstimatedSalary  10000 non-null  float64\n",
      " 13  Exited           10000 non-null  int64  \n",
      "dtypes: float64(3), int64(8), object(3)\n",
      "memory usage: 1.1+ MB\n"
     ]
    }
   ],
   "source": [
    "bank.info()"
   ]
  },
  {
   "cell_type": "code",
   "execution_count": 4,
   "metadata": {},
   "outputs": [
    {
     "data": {
      "text/html": [
       "<div>\n",
       "<style scoped>\n",
       "    .dataframe tbody tr th:only-of-type {\n",
       "        vertical-align: middle;\n",
       "    }\n",
       "\n",
       "    .dataframe tbody tr th {\n",
       "        vertical-align: top;\n",
       "    }\n",
       "\n",
       "    .dataframe thead th {\n",
       "        text-align: right;\n",
       "    }\n",
       "</style>\n",
       "<table border=\"1\" class=\"dataframe\">\n",
       "  <thead>\n",
       "    <tr style=\"text-align: right;\">\n",
       "      <th></th>\n",
       "      <th>RowNumber</th>\n",
       "      <th>CustomerId</th>\n",
       "      <th>Surname</th>\n",
       "      <th>CreditScore</th>\n",
       "      <th>Geography</th>\n",
       "      <th>Gender</th>\n",
       "      <th>Age</th>\n",
       "      <th>Tenure</th>\n",
       "      <th>Balance</th>\n",
       "      <th>NumOfProducts</th>\n",
       "      <th>HasCrCard</th>\n",
       "      <th>IsActiveMember</th>\n",
       "      <th>EstimatedSalary</th>\n",
       "      <th>Exited</th>\n",
       "    </tr>\n",
       "  </thead>\n",
       "  <tbody>\n",
       "    <tr>\n",
       "      <th>0</th>\n",
       "      <td>1</td>\n",
       "      <td>15634602</td>\n",
       "      <td>Hargrave</td>\n",
       "      <td>619</td>\n",
       "      <td>France</td>\n",
       "      <td>Female</td>\n",
       "      <td>42</td>\n",
       "      <td>2.0</td>\n",
       "      <td>0.00</td>\n",
       "      <td>1</td>\n",
       "      <td>1</td>\n",
       "      <td>1</td>\n",
       "      <td>101348.88</td>\n",
       "      <td>1</td>\n",
       "    </tr>\n",
       "    <tr>\n",
       "      <th>1</th>\n",
       "      <td>2</td>\n",
       "      <td>15647311</td>\n",
       "      <td>Hill</td>\n",
       "      <td>608</td>\n",
       "      <td>Spain</td>\n",
       "      <td>Female</td>\n",
       "      <td>41</td>\n",
       "      <td>1.0</td>\n",
       "      <td>83807.86</td>\n",
       "      <td>1</td>\n",
       "      <td>0</td>\n",
       "      <td>1</td>\n",
       "      <td>112542.58</td>\n",
       "      <td>0</td>\n",
       "    </tr>\n",
       "    <tr>\n",
       "      <th>2</th>\n",
       "      <td>3</td>\n",
       "      <td>15619304</td>\n",
       "      <td>Onio</td>\n",
       "      <td>502</td>\n",
       "      <td>France</td>\n",
       "      <td>Female</td>\n",
       "      <td>42</td>\n",
       "      <td>8.0</td>\n",
       "      <td>159660.80</td>\n",
       "      <td>3</td>\n",
       "      <td>1</td>\n",
       "      <td>0</td>\n",
       "      <td>113931.57</td>\n",
       "      <td>1</td>\n",
       "    </tr>\n",
       "    <tr>\n",
       "      <th>3</th>\n",
       "      <td>4</td>\n",
       "      <td>15701354</td>\n",
       "      <td>Boni</td>\n",
       "      <td>699</td>\n",
       "      <td>France</td>\n",
       "      <td>Female</td>\n",
       "      <td>39</td>\n",
       "      <td>1.0</td>\n",
       "      <td>0.00</td>\n",
       "      <td>2</td>\n",
       "      <td>0</td>\n",
       "      <td>0</td>\n",
       "      <td>93826.63</td>\n",
       "      <td>0</td>\n",
       "    </tr>\n",
       "    <tr>\n",
       "      <th>4</th>\n",
       "      <td>5</td>\n",
       "      <td>15737888</td>\n",
       "      <td>Mitchell</td>\n",
       "      <td>850</td>\n",
       "      <td>Spain</td>\n",
       "      <td>Female</td>\n",
       "      <td>43</td>\n",
       "      <td>2.0</td>\n",
       "      <td>125510.82</td>\n",
       "      <td>1</td>\n",
       "      <td>1</td>\n",
       "      <td>1</td>\n",
       "      <td>79084.10</td>\n",
       "      <td>0</td>\n",
       "    </tr>\n",
       "  </tbody>\n",
       "</table>\n",
       "</div>"
      ],
      "text/plain": [
       "   RowNumber  CustomerId   Surname  CreditScore Geography  Gender  Age  \\\n",
       "0          1    15634602  Hargrave          619    France  Female   42   \n",
       "1          2    15647311      Hill          608     Spain  Female   41   \n",
       "2          3    15619304      Onio          502    France  Female   42   \n",
       "3          4    15701354      Boni          699    France  Female   39   \n",
       "4          5    15737888  Mitchell          850     Spain  Female   43   \n",
       "\n",
       "   Tenure    Balance  NumOfProducts  HasCrCard  IsActiveMember  \\\n",
       "0     2.0       0.00              1          1               1   \n",
       "1     1.0   83807.86              1          0               1   \n",
       "2     8.0  159660.80              3          1               0   \n",
       "3     1.0       0.00              2          0               0   \n",
       "4     2.0  125510.82              1          1               1   \n",
       "\n",
       "   EstimatedSalary  Exited  \n",
       "0        101348.88       1  \n",
       "1        112542.58       0  \n",
       "2        113931.57       1  \n",
       "3         93826.63       0  \n",
       "4         79084.10       0  "
      ]
     },
     "execution_count": 4,
     "metadata": {},
     "output_type": "execute_result"
    }
   ],
   "source": [
    "bank.head()"
   ]
  },
  {
   "cell_type": "markdown",
   "metadata": {},
   "source": [
    "En primera instancia podemos observar datos ausentes en la columna \"Tenure\", estas filas deberán ser rellenadas o eliminadas ya que los modelos utilizados no aceptan valores ausentes dentro de los datos. Continuaremos revisando la existencia de filas duplicadas o datos extraños dentro de los datos para posteriormente abordar la columna \"Tenure\"."
   ]
  },
  {
   "cell_type": "code",
   "execution_count": 5,
   "metadata": {},
   "outputs": [
    {
     "data": {
      "text/plain": [
       "0"
      ]
     },
     "execution_count": 5,
     "metadata": {},
     "output_type": "execute_result"
    }
   ],
   "source": [
    "bank['CustomerId'].duplicated().sum()"
   ]
  },
  {
   "cell_type": "markdown",
   "metadata": {},
   "source": [
    "Observando la cantidad de valores duplicados en la columna \"CustomerID\" que funciona como identificador único de cada cliente podemos concluir que no existen filas duplicadas."
   ]
  },
  {
   "cell_type": "code",
   "execution_count": 6,
   "metadata": {},
   "outputs": [
    {
     "name": "stdout",
     "output_type": "stream",
     "text": [
      "CreditScore: 10000\n",
      "Balance: 10000\n",
      "EstimatedSalary: 10000\n",
      "NumOfProducts: 10000\n"
     ]
    }
   ],
   "source": [
    "for column in bank[['CreditScore', 'Balance', 'EstimatedSalary', 'NumOfProducts']]:\n",
    "    print(f'{column}: {(bank[bank[column] >= 0][column]).count()}')"
   ]
  },
  {
   "cell_type": "markdown",
   "metadata": {},
   "source": [
    "No se aprecian valores negativos extraños en las columnas."
   ]
  },
  {
   "cell_type": "code",
   "execution_count": 7,
   "metadata": {},
   "outputs": [
    {
     "data": {
      "text/plain": [
       "array(['France', 'Spain', 'Germany'], dtype=object)"
      ]
     },
     "execution_count": 7,
     "metadata": {},
     "output_type": "execute_result"
    }
   ],
   "source": [
    "bank['Geography'].unique()"
   ]
  },
  {
   "cell_type": "markdown",
   "metadata": {},
   "source": [
    "Se observa que los clientes de Beta Bank pertenecen a los paises de Francia, España o Alemania."
   ]
  },
  {
   "cell_type": "code",
   "execution_count": 8,
   "metadata": {},
   "outputs": [
    {
     "data": {
      "text/plain": [
       "Age    10000\n",
       "dtype: int64"
      ]
     },
     "execution_count": 8,
     "metadata": {},
     "output_type": "execute_result"
    }
   ],
   "source": [
    "bank.loc[(bank['Age'] >= 18) & (bank['Age'] <= 92), ['Age']].count()"
   ]
  },
  {
   "cell_type": "markdown",
   "metadata": {},
   "source": [
    "El valor de edad de todos los clientes se encuentra entre la mayoría de edad y los 92 años."
   ]
  },
  {
   "cell_type": "code",
   "execution_count": 9,
   "metadata": {},
   "outputs": [
    {
     "name": "stdout",
     "output_type": "stream",
     "text": [
      "HasCrCard: [1 0]\n",
      "IsActiveMember: [1 0]\n",
      "Exited: [1 0]\n"
     ]
    }
   ],
   "source": [
    "for column in bank[['HasCrCard', 'IsActiveMember', 'Exited']]:\n",
    "    print(f'{column}: {bank[column].unique()}')"
   ]
  },
  {
   "cell_type": "markdown",
   "metadata": {},
   "source": [
    "Las columnas \"HasCrCard\", \"IsActiveMember\" y \"Exited\" solo poseen valores de carácter booleano como deber ser para columnas que representan si los clientes han hecho o no algo."
   ]
  },
  {
   "cell_type": "markdown",
   "metadata": {},
   "source": [
    "### 4.1 Completar valores ausentes"
   ]
  },
  {
   "cell_type": "markdown",
   "metadata": {},
   "source": [
    "Se procederá a analizar la columna \"Tenure\"."
   ]
  },
  {
   "cell_type": "code",
   "execution_count": 10,
   "metadata": {},
   "outputs": [
    {
     "data": {
      "text/plain": [
       "1.0     0.104719\n",
       "2.0     0.104499\n",
       "8.0     0.102629\n",
       "3.0     0.102079\n",
       "5.0     0.101969\n",
       "7.0     0.101749\n",
       "4.0     0.097349\n",
       "9.0     0.097019\n",
       "6.0     0.096909\n",
       "10.0    0.049060\n",
       "Name: Tenure, dtype: float64"
      ]
     },
     "execution_count": 10,
     "metadata": {},
     "output_type": "execute_result"
    }
   ],
   "source": [
    "bank['Tenure'].value_counts(normalize=True).head(10)"
   ]
  },
  {
   "cell_type": "markdown",
   "metadata": {},
   "source": [
    "Podemos observar la distribución de valores de la columna “Tenure” para un posterior análisis de cómo afecta el llenado de datos que realizaremos. Por otra parte, apreciamos que la distribución para el periodo de maduración de los depósitos de los clientes es más o menos parejos para todos los años presentes en los datos exceptuando el plazo de 10 años. Debido a que los valores de años son números enteros utilizaremos la moda para completar los datos para que no se completen los datos con valores decimales por utilizar la mediana o la media.\n",
    "\n",
    "Con respecto a sobre que columna iterar los datos se decidió utilizar el salario estimado de cada cliente bajo la hipótesis de que la cantidad de años de maduración que solicita el cliente para sus depósitos fijos está relacionado con el salario del mismo debido a que un mayor salario puede permitir a la persona tener ese dinero “retenido” por una mayor cantidad de años.\n",
    "\n",
    "Procederemos creando una nueva columna para agrupar los salarios en rangos, posteriormente rellenaremos los valores ausentes en función de la moda de estos rangos, finalmente compararemos como ha variado la distribución de valores de la columna \"Tenure\"."
   ]
  },
  {
   "cell_type": "code",
   "execution_count": 11,
   "metadata": {},
   "outputs": [],
   "source": [
    "def salary_group(salary):\n",
    "    if 0 <= salary < 25000:\n",
    "        return \"0-24999\"\n",
    "    elif 25000 <= salary < 50000:\n",
    "        return \"25000-49999\"\n",
    "    elif 50000 <= salary < 75000:\n",
    "        return \"50000-74999\"\n",
    "    elif 75000 <= salary < 100000:\n",
    "        return \"75000-99999\"\n",
    "    elif 100000 <= salary < 125000:\n",
    "        return \"100000-124999\"\n",
    "    elif 125000 <= salary < 150000:\n",
    "        return \"125000-149999\"\n",
    "    elif 150000 <= salary < 175000:\n",
    "        return \"150000-174999\"\n",
    "    elif 175000 <= salary <= 200000:\n",
    "        return \"175000-200000\""
   ]
  },
  {
   "cell_type": "code",
   "execution_count": 12,
   "metadata": {},
   "outputs": [],
   "source": [
    "bank[\"salary_group\"] = bank[\"EstimatedSalary\"].apply(salary_group)"
   ]
  },
  {
   "cell_type": "code",
   "execution_count": 13,
   "metadata": {},
   "outputs": [],
   "source": [
    "tenure_not_null = bank.dropna()"
   ]
  },
  {
   "cell_type": "code",
   "execution_count": 14,
   "metadata": {},
   "outputs": [
    {
     "data": {
      "text/html": [
       "<div>\n",
       "<style scoped>\n",
       "    .dataframe tbody tr th:only-of-type {\n",
       "        vertical-align: middle;\n",
       "    }\n",
       "\n",
       "    .dataframe tbody tr th {\n",
       "        vertical-align: top;\n",
       "    }\n",
       "\n",
       "    .dataframe thead th {\n",
       "        text-align: right;\n",
       "    }\n",
       "</style>\n",
       "<table border=\"1\" class=\"dataframe\">\n",
       "  <thead>\n",
       "    <tr style=\"text-align: right;\">\n",
       "      <th></th>\n",
       "      <th>Tenure</th>\n",
       "    </tr>\n",
       "    <tr>\n",
       "      <th>salary_group</th>\n",
       "      <th></th>\n",
       "    </tr>\n",
       "  </thead>\n",
       "  <tbody>\n",
       "    <tr>\n",
       "      <th>0-24999</th>\n",
       "      <td>1.0</td>\n",
       "    </tr>\n",
       "    <tr>\n",
       "      <th>100000-124999</th>\n",
       "      <td>1.0</td>\n",
       "    </tr>\n",
       "    <tr>\n",
       "      <th>125000-149999</th>\n",
       "      <td>8.0</td>\n",
       "    </tr>\n",
       "    <tr>\n",
       "      <th>150000-174999</th>\n",
       "      <td>5.0</td>\n",
       "    </tr>\n",
       "    <tr>\n",
       "      <th>175000-200000</th>\n",
       "      <td>8.0</td>\n",
       "    </tr>\n",
       "    <tr>\n",
       "      <th>25000-49999</th>\n",
       "      <td>3.0</td>\n",
       "    </tr>\n",
       "    <tr>\n",
       "      <th>50000-74999</th>\n",
       "      <td>3.0</td>\n",
       "    </tr>\n",
       "    <tr>\n",
       "      <th>75000-99999</th>\n",
       "      <td>5.0</td>\n",
       "    </tr>\n",
       "  </tbody>\n",
       "</table>\n",
       "</div>"
      ],
      "text/plain": [
       "               Tenure\n",
       "salary_group         \n",
       "0-24999           1.0\n",
       "100000-124999     1.0\n",
       "125000-149999     8.0\n",
       "150000-174999     5.0\n",
       "175000-200000     8.0\n",
       "25000-49999       3.0\n",
       "50000-74999       3.0\n",
       "75000-99999       5.0"
      ]
     },
     "execution_count": 14,
     "metadata": {},
     "output_type": "execute_result"
    }
   ],
   "source": [
    "tenure_mode = tenure_not_null.pivot_table(index=[\"salary_group\"], values=\"Tenure\", \n",
    "                                                aggfunc = lambda x: x.mode().iloc[0])\n",
    "tenure_mode"
   ]
  },
  {
   "cell_type": "code",
   "execution_count": 15,
   "metadata": {},
   "outputs": [],
   "source": [
    "def llenar(carac, moda):\n",
    "    bank.loc[(bank[\"salary_group\"]==carac), \"Tenure\"\n",
    "             ] = bank.loc[(bank[\"salary_group\"]==carac)][\"Tenure\"].fillna(moda)"
   ]
  },
  {
   "cell_type": "code",
   "execution_count": 16,
   "metadata": {},
   "outputs": [
    {
     "data": {
      "text/plain": [
       "0    None\n",
       "1    None\n",
       "2    None\n",
       "3    None\n",
       "4    None\n",
       "5    None\n",
       "6    None\n",
       "7    None\n",
       "dtype: object"
      ]
     },
     "execution_count": 16,
     "metadata": {},
     "output_type": "execute_result"
    }
   ],
   "source": [
    "df_tenure_mode = tenure_mode.reset_index()\n",
    "df_tenure_mode.apply(lambda x: llenar(x[\"salary_group\"], x[\"Tenure\"]), axis=1)"
   ]
  },
  {
   "cell_type": "code",
   "execution_count": 17,
   "metadata": {},
   "outputs": [
    {
     "data": {
      "text/plain": [
       "0"
      ]
     },
     "execution_count": 17,
     "metadata": {},
     "output_type": "execute_result"
    }
   ],
   "source": [
    "bank[\"Tenure\"].isna().sum()"
   ]
  },
  {
   "cell_type": "code",
   "execution_count": 18,
   "metadata": {},
   "outputs": [
    {
     "data": {
      "text/plain": [
       "3.0     0.1181\n",
       "1.0     0.1176\n",
       "8.0     0.1155\n",
       "5.0     0.1137\n",
       "2.0     0.0950\n",
       "7.0     0.0925\n",
       "4.0     0.0885\n",
       "9.0     0.0882\n",
       "6.0     0.0881\n",
       "10.0    0.0446\n",
       "Name: Tenure, dtype: float64"
      ]
     },
     "execution_count": 18,
     "metadata": {},
     "output_type": "execute_result"
    }
   ],
   "source": [
    "bank['Tenure'].value_counts(normalize=True).head(10)"
   ]
  },
  {
   "cell_type": "markdown",
   "metadata": {},
   "source": [
    "Se puede observar que ha existido una variación en la distribución de valores de la columna \"Tenure\" pero la máxima variación ha sido de alrededor de un 1,5% lo cual es un valor aceptable."
   ]
  },
  {
   "cell_type": "code",
   "execution_count": 19,
   "metadata": {},
   "outputs": [
    {
     "name": "stdout",
     "output_type": "stream",
     "text": [
      "<class 'pandas.core.frame.DataFrame'>\n",
      "RangeIndex: 10000 entries, 0 to 9999\n",
      "Data columns (total 15 columns):\n",
      " #   Column           Non-Null Count  Dtype  \n",
      "---  ------           --------------  -----  \n",
      " 0   RowNumber        10000 non-null  int64  \n",
      " 1   CustomerId       10000 non-null  int64  \n",
      " 2   Surname          10000 non-null  object \n",
      " 3   CreditScore      10000 non-null  int64  \n",
      " 4   Geography        10000 non-null  object \n",
      " 5   Gender           10000 non-null  object \n",
      " 6   Age              10000 non-null  int64  \n",
      " 7   Tenure           10000 non-null  float64\n",
      " 8   Balance          10000 non-null  float64\n",
      " 9   NumOfProducts    10000 non-null  int64  \n",
      " 10  HasCrCard        10000 non-null  int64  \n",
      " 11  IsActiveMember   10000 non-null  int64  \n",
      " 12  EstimatedSalary  10000 non-null  float64\n",
      " 13  Exited           10000 non-null  int64  \n",
      " 14  salary_group     10000 non-null  object \n",
      "dtypes: float64(3), int64(8), object(4)\n",
      "memory usage: 1.1+ MB\n"
     ]
    }
   ],
   "source": [
    "bank.info()"
   ]
  },
  {
   "cell_type": "markdown",
   "metadata": {},
   "source": [
    "## 5. Segmentación de los datos"
   ]
  },
  {
   "cell_type": "markdown",
   "metadata": {},
   "source": [
    "Continuaremos con la segmentación de los datos, comenzaremos utilizando una codificación de etiquetas para las columnas debido a que utilizaremos modelos basados en árboles."
   ]
  },
  {
   "cell_type": "code",
   "execution_count": 20,
   "metadata": {},
   "outputs": [],
   "source": [
    "encoder = OrdinalEncoder()\n",
    "bank_ordinal = pd.DataFrame(encoder.fit_transform(bank), columns=bank.columns)"
   ]
  },
  {
   "cell_type": "markdown",
   "metadata": {},
   "source": [
    "Continuamos dividiendo el dataframe en dos, uno con las columnas \"características\" y otro con la columna \"objetivo\". En el caso del dataframe \"características\" eliminamos la columna \"objetivo\" y las columnas que no son de interés para el entrenamiento de nuestro modelo."
   ]
  },
  {
   "cell_type": "code",
   "execution_count": 21,
   "metadata": {},
   "outputs": [],
   "source": [
    "features = bank_ordinal.drop(['Exited', 'RowNumber', 'CustomerId', 'Surname', 'salary_group'], axis=1)\n",
    "target = bank_ordinal['Exited']"
   ]
  },
  {
   "cell_type": "markdown",
   "metadata": {},
   "source": [
    "Ahora procederemos a realizar la segmentación de los datos en tres conjuntos, uno de entrenamiento, uno de validación y uno de prueba. Para llevarlo a cabo utilizaremos la función \"train_test_split\" la cual separa nuestro dataframe en dos, como necesitamos tres conjuntos realizaremos este proceso dos veces para conseguir los conjuntos anteriormente mencionados en una proporción de 3:1:1."
   ]
  },
  {
   "cell_type": "code",
   "execution_count": 22,
   "metadata": {},
   "outputs": [],
   "source": [
    "features_train1, features_valid, target_train1, target_valid = train_test_split(\n",
    "    features, target, test_size=0.2, random_state=12345)"
   ]
  },
  {
   "cell_type": "code",
   "execution_count": 23,
   "metadata": {},
   "outputs": [],
   "source": [
    "features_train, features_test, target_train, target_test = train_test_split(\n",
    "    features_train1, target_train1, test_size=0.25, random_state=12345)"
   ]
  },
  {
   "cell_type": "code",
   "execution_count": 24,
   "metadata": {},
   "outputs": [
    {
     "name": "stdout",
     "output_type": "stream",
     "text": [
      "0.6\n",
      "0.2\n",
      "0.2\n"
     ]
    }
   ],
   "source": [
    "for data in [features_train, features_valid, features_test]:\n",
    "    print(f'{len(data)/len(features)}')"
   ]
  },
  {
   "cell_type": "markdown",
   "metadata": {},
   "source": [
    "Podemos observar que los dataframes obtenido de entrenamiento, validación y prueba se encuentran en la proporción 3:1:1 definida."
   ]
  },
  {
   "cell_type": "markdown",
   "metadata": {},
   "source": [
    "## 6. Equilibrio de clases"
   ]
  },
  {
   "cell_type": "markdown",
   "metadata": {},
   "source": [
    "Procederemos a examinar el equilibro de clases existente en los datos, para esto utilizaremos un modelo de prueba sin mayores ajustes."
   ]
  },
  {
   "cell_type": "code",
   "execution_count": 25,
   "metadata": {},
   "outputs": [
    {
     "data": {
      "text/plain": [
       "0.7865"
      ]
     },
     "execution_count": 25,
     "metadata": {},
     "output_type": "execute_result"
    }
   ],
   "source": [
    "model = DecisionTreeClassifier(random_state=12345)\n",
    "model.fit(features_train, target_train) \n",
    "predictions = model.predict(features_valid) \n",
    "result = accuracy_score(target_valid, predictions)\n",
    "result"
   ]
  },
  {
   "cell_type": "code",
   "execution_count": 26,
   "metadata": {},
   "outputs": [
    {
     "name": "stdout",
     "output_type": "stream",
     "text": [
      "0.7963\n"
     ]
    }
   ],
   "source": [
    "target_pred_constant = pd.Series(target.replace({1 : 0}))\n",
    "print(accuracy_score(target, target_pred_constant)) "
   ]
  },
  {
   "cell_type": "markdown",
   "metadata": {},
   "source": [
    "Podemos apreciar un claro desequilibrio de clases en los datos entregados, al comprobar la exactitud de un modelo con un valor constante de 0 en la columna \"Exited\" representando que todos los clientes se mantienen en el banco la tasa de exactitud del modelo es de 0.79, un valor muy alto para un modelo de predicción constante y a su vez teniendo una exactitud mayor que el modelo entrenado de prueba."
   ]
  },
  {
   "cell_type": "markdown",
   "metadata": {},
   "source": [
    "### 6.1 Matriz de confusion"
   ]
  },
  {
   "cell_type": "code",
   "execution_count": 27,
   "metadata": {},
   "outputs": [
    {
     "name": "stdout",
     "output_type": "stream",
     "text": [
      "[[1362  211]\n",
      " [ 216  211]]\n"
     ]
    }
   ],
   "source": [
    "print(confusion_matrix(target_valid,predictions))"
   ]
  },
  {
   "cell_type": "markdown",
   "metadata": {},
   "source": [
    "Al observar la matriz de confusión del modelo entrenado podemos apreciar que la mayoría de los resultados son verdaderos negativos, encontrándose estos en una proporción 7 veces mayor con respecto al resto de los resultados. Lo anterior corrobora el resultado obtenido anteriormente de que los datos presentan un claro desequilibrio de clases en favor de los valores de 0 en la columna \"Tenure\"."
   ]
  },
  {
   "cell_type": "markdown",
   "metadata": {},
   "source": [
    "## 7. Elección y ajuste de modelo"
   ]
  },
  {
   "cell_type": "markdown",
   "metadata": {},
   "source": [
    "### 7.1 Elección del modelo"
   ]
  },
  {
   "cell_type": "markdown",
   "metadata": {},
   "source": [
    "Comenzaremos con una comparación entre distintos algoritmos de aprendizaje realizando a su vez el ajuste de sus hiperparámetros para obtener el mejor resultado posible, así elegiremos el modelo que presente un mayor valor f1."
   ]
  },
  {
   "cell_type": "markdown",
   "metadata": {},
   "source": [
    "#### 7.1.1. Árbol de desición"
   ]
  },
  {
   "cell_type": "code",
   "execution_count": 28,
   "metadata": {},
   "outputs": [
    {
     "name": "stdout",
     "output_type": "stream",
     "text": [
      "mejor modelo para mayor F1 0.5535714285714285 min_leaf: 8 best_depth: 7 best_split: 2\n"
     ]
    }
   ],
   "source": [
    "best_model = None\n",
    "best_result = 0\n",
    "best_leaf = 0\n",
    "best_depth = 0\n",
    "bs_split = 0\n",
    "for leaf in range(1, 10):\n",
    "    for depth in range (1, 10):\n",
    "        for split in range(2,10):\n",
    "            model = DecisionTreeClassifier(random_state=12345, min_samples_leaf=leaf,  max_depth=depth, min_samples_split=split)\n",
    "            model.fit(features_train, target_train) \n",
    "            predictions = model.predict(features_valid) \n",
    "            result = f1_score(target_valid, predictions)\n",
    "            if result > best_result:\n",
    "                best_model = model\n",
    "                best_result = result\n",
    "                best_leaf = leaf\n",
    "                best_depth = depth\n",
    "                best_split = split\n",
    "print(\"mejor modelo para mayor F1\", best_result, \"min_leaf:\", best_leaf, \"best_depth:\", best_depth, \"best_split:\", best_split)"
   ]
  },
  {
   "cell_type": "markdown",
   "metadata": {},
   "source": [
    "#### 7.1.2. Bosque aleatorio"
   ]
  },
  {
   "cell_type": "code",
   "execution_count": 29,
   "metadata": {},
   "outputs": [
    {
     "name": "stdout",
     "output_type": "stream",
     "text": [
      "mejor modelo para mayor F1 0.5485362095531587 n_estimators: 80 best_depth: 10 best_min_sample_split: 3\n"
     ]
    }
   ],
   "source": [
    "best_model = None\n",
    "best_result = 0\n",
    "best_est = 0\n",
    "best_depth = 0\n",
    "best_split = 0\n",
    "for est in range(10, 101, 10):\n",
    "    for depth in range (1, 11):\n",
    "        for split in range(2,8):\n",
    "            model = RandomForestClassifier(random_state=12345, n_estimators=est,  max_depth=depth, min_samples_split=split)\n",
    "            model.fit(features_train, target_train) \n",
    "            predictions = model.predict(features_valid) \n",
    "            result = f1_score(target_valid, predictions)\n",
    "            if result > best_result:\n",
    "                best_model = model\n",
    "                best_result = result\n",
    "                best_est = est\n",
    "                best_depth = depth\n",
    "                best_split = split\n",
    "print(\"mejor modelo para mayor F1\", best_result, \"n_estimators:\", best_est, \"best_depth:\", best_depth, \"best_min_sample_split:\", best_split)"
   ]
  },
  {
   "cell_type": "markdown",
   "metadata": {},
   "source": [
    "#### 7.1.3. Regresión logistica"
   ]
  },
  {
   "cell_type": "code",
   "execution_count": 30,
   "metadata": {},
   "outputs": [
    {
     "name": "stdout",
     "output_type": "stream",
     "text": [
      "mejor modelo en el conjunto de validación 0.7955 solver: liblinear penal: l1\n"
     ]
    },
    {
     "name": "stderr",
     "output_type": "stream",
     "text": [
      "C:\\Users\\digom\\anaconda3\\lib\\site-packages\\sklearn\\linear_model\\_sag.py:352: ConvergenceWarning: The max_iter was reached which means the coef_ did not converge\n",
      "  warnings.warn(\n",
      "C:\\Users\\digom\\anaconda3\\lib\\site-packages\\sklearn\\linear_model\\_sag.py:352: ConvergenceWarning: The max_iter was reached which means the coef_ did not converge\n",
      "  warnings.warn(\n"
     ]
    }
   ],
   "source": [
    "best_model = None\n",
    "best_result = 0\n",
    "best_solv = None\n",
    "best_penal = None\n",
    "for solv in ('liblinear', 'saga'):\n",
    "    for penal in ('l1','l2'):\n",
    "        model = LogisticRegression(random_state=12345, solver=solv, penalty=penal)\n",
    "        model.fit(features_train, target_train) \n",
    "        predictions = model.predict(features_valid) \n",
    "        result = accuracy_score(target_valid, predictions)\n",
    "        if result > best_result:\n",
    "                    best_model = model\n",
    "                    best_result = result\n",
    "                    best_solv = solv\n",
    "                    best_penal = penal\n",
    "print(\"mejor modelo en el conjunto de validación\", best_result, \"solver:\", best_solv, \"penal:\", best_penal)"
   ]
  },
  {
   "cell_type": "code",
   "execution_count": 31,
   "metadata": {},
   "outputs": [
    {
     "name": "stdout",
     "output_type": "stream",
     "text": [
      "F1: 0.24118738404452691\n"
     ]
    }
   ],
   "source": [
    "model = LogisticRegression(random_state=12345, solver='liblinear', penalty='l1')\n",
    "model.fit(features_train, target_train) \n",
    "predictions = model.predict(features_valid) \n",
    "print('F1:', f1_score(target_valid, predictions))"
   ]
  },
  {
   "cell_type": "markdown",
   "metadata": {},
   "source": [
    "Observando los resultados obtenidos con cada modelo, continuaremos el proyecto evaluando tanto el árbol de decisión como el bosque aleatorio con los hiperparámetros definidos ya que la diferencia en el F1 obtenida es muy estrecha."
   ]
  },
  {
   "cell_type": "markdown",
   "metadata": {},
   "source": [
    "### 7.2 Desequilibrio de clases"
   ]
  },
  {
   "cell_type": "markdown",
   "metadata": {},
   "source": [
    "Continuaremos haciendo uso del modelo anteriormente escogido y afrontando el desequilibrio de clases haciendo uso de diversos enfoques con el objetivo de maximizar f1 lo más posible."
   ]
  },
  {
   "cell_type": "markdown",
   "metadata": {},
   "source": [
    "#### 7.2.1. Ajuste peso de clase"
   ]
  },
  {
   "cell_type": "code",
   "execution_count": 32,
   "metadata": {},
   "outputs": [
    {
     "name": "stdout",
     "output_type": "stream",
     "text": [
      "F1: 0.582089552238806\n"
     ]
    }
   ],
   "source": [
    "model = DecisionTreeClassifier(random_state=12345, min_samples_leaf=8,  max_depth=7,  min_samples_split=2, class_weight='balanced')\n",
    "model.fit(features_train, target_train)\n",
    "predictions = model.predict(features_valid) \n",
    "print('F1:', f1_score(target_valid, predictions))"
   ]
  },
  {
   "cell_type": "code",
   "execution_count": 65,
   "metadata": {},
   "outputs": [
    {
     "name": "stdout",
     "output_type": "stream",
     "text": [
      "F1: 0.6330597889800703\n"
     ]
    }
   ],
   "source": [
    "model =RandomForestClassifier(random_state=12345, n_estimators=80,  max_depth=10, min_samples_split=2, class_weight='balanced')\n",
    "model.fit(features_train, target_train)\n",
    "predictions = model.predict(features_valid) \n",
    "print('F1:', f1_score(target_valid, predictions))"
   ]
  },
  {
   "cell_type": "markdown",
   "metadata": {},
   "source": [
    "En una primera instancia el mayor aumento de F1 se da con class_weight=\"balanced\" en el modelo de bosque aleatorio."
   ]
  },
  {
   "cell_type": "markdown",
   "metadata": {},
   "source": [
    "#### 7.2.2. Submuestreo"
   ]
  },
  {
   "cell_type": "code",
   "execution_count": 34,
   "metadata": {},
   "outputs": [],
   "source": [
    "def downsample(features, target, fraction):\n",
    "    features_zeros = features[target == 0]\n",
    "    features_ones = features[target == 1]\n",
    "    target_zeros = target[target == 0]\n",
    "    target_ones = target[target == 1]\n",
    "\n",
    "    features_downsampled = pd.concat(\n",
    "        [features_zeros.sample(frac=fraction, random_state=12345)]\n",
    "        + [features_ones]\n",
    "    )\n",
    "    target_downsampled = pd.concat(\n",
    "        [target_zeros.sample(frac=fraction, random_state=12345)]\n",
    "        + [target_ones]\n",
    "    )\n",
    "\n",
    "    features_downsampled, target_downsampled = shuffle(\n",
    "        features_downsampled, target_downsampled, random_state=12345\n",
    "    )\n",
    "\n",
    "    return features_downsampled, target_downsampled"
   ]
  },
  {
   "cell_type": "code",
   "execution_count": 35,
   "metadata": {},
   "outputs": [
    {
     "name": "stdout",
     "output_type": "stream",
     "text": [
      "mejor F1 0.6012121212121212 fraccionamiento: 0.6000000000000001\n"
     ]
    }
   ],
   "source": [
    "best_model = None\n",
    "best_frac = 0\n",
    "best_result = 0\n",
    "for frac in np.arange(0.1, 1, 0.02):\n",
    "    features_downsampled, target_downsampled = downsample(features_train, target_train, frac)\n",
    "    model = DecisionTreeClassifier(random_state=12345, min_samples_leaf=8,  max_depth=7,  min_samples_split=2)\n",
    "    model.fit(features_downsampled, target_downsampled) \n",
    "    predicted_valid = model.predict(features_valid)\n",
    "    result = f1_score(target_valid, predicted_valid)\n",
    "    if result > best_result:\n",
    "                best_model = model\n",
    "                best_result = result\n",
    "                best_frac = frac\n",
    "print(\"mejor F1\", best_result, \"fraccionamiento:\", best_frac)"
   ]
  },
  {
   "cell_type": "code",
   "execution_count": 36,
   "metadata": {},
   "outputs": [
    {
     "name": "stdout",
     "output_type": "stream",
     "text": [
      "mejor F1 0.6386138613861386 fraccionamiento: 0.4800000000000001\n"
     ]
    }
   ],
   "source": [
    "best_model = None\n",
    "best_frac = 0\n",
    "best_result = 0\n",
    "for frac in np.arange(0.1, 1, 0.02):\n",
    "    features_downsampled, target_downsampled = downsample(features_train, target_train, frac)\n",
    "    model = RandomForestClassifier(random_state=12345, n_estimators=80,  max_depth=10, min_samples_split=2)\n",
    "    model.fit(features_downsampled, target_downsampled) \n",
    "    predicted_valid = model.predict(features_valid)\n",
    "    result = f1_score(target_valid, predicted_valid)\n",
    "    if result > best_result:\n",
    "                best_model = model\n",
    "                best_result = result\n",
    "                best_frac = frac\n",
    "print(\"mejor F1\", best_result, \"fraccionamiento:\", best_frac)"
   ]
  },
  {
   "cell_type": "markdown",
   "metadata": {},
   "source": [
    "En este punto el mayor F1 se obtiene al utilizar el submuestreo con un fraccionamiento de 0.48 en el modelo de bosque aleatorio."
   ]
  },
  {
   "cell_type": "markdown",
   "metadata": {},
   "source": [
    "#### 7.2.3. Sobremuestreo"
   ]
  },
  {
   "cell_type": "code",
   "execution_count": 37,
   "metadata": {},
   "outputs": [],
   "source": [
    "def upsample(features, target, repeat):\n",
    "    features_zeros = features[target == 0]\n",
    "    features_ones = features[target == 1]\n",
    "    target_zeros = target[target == 0]\n",
    "    target_ones = target[target == 1]\n",
    "\n",
    "    features_upsampled = pd.concat([features_zeros] + [features_ones] * repeat)\n",
    "    target_upsampled = pd.concat([target_zeros] + [target_ones] * repeat)\n",
    "\n",
    "    features_upsampled, target_upsampled = shuffle(\n",
    "        features_upsampled, target_upsampled, random_state=12345\n",
    "    )\n",
    "\n",
    "    return features_upsampled, target_upsampled"
   ]
  },
  {
   "cell_type": "code",
   "execution_count": 38,
   "metadata": {},
   "outputs": [
    {
     "name": "stdout",
     "output_type": "stream",
     "text": [
      "mejor F1 0.5969447708578143 repetición: 2\n"
     ]
    }
   ],
   "source": [
    "best_model = None\n",
    "best_repeat = 0\n",
    "best_result = 0\n",
    "for repeat in range(1, 10):\n",
    "    features_upsampled, target_upsampled = upsample(features_train, target_train, repeat)\n",
    "    model = DecisionTreeClassifier(random_state=12345, min_samples_leaf=8,  max_depth=7,  min_samples_split=2)\n",
    "    model.fit(features_upsampled, target_upsampled) \n",
    "    predicted_valid = model.predict(features_valid)\n",
    "    result = f1_score(target_valid, predicted_valid)\n",
    "    if result > best_result:\n",
    "                best_model = model\n",
    "                best_result = result\n",
    "                best_repeat = repeat\n",
    "print(\"mejor F1\", best_result, \"repetición:\", best_repeat)"
   ]
  },
  {
   "cell_type": "code",
   "execution_count": 39,
   "metadata": {},
   "outputs": [
    {
     "name": "stdout",
     "output_type": "stream",
     "text": [
      "mejor F1 0.6305882352941177 repetición: 3\n"
     ]
    }
   ],
   "source": [
    "best_model = None\n",
    "best_repeat = 0\n",
    "best_result = 0\n",
    "for repeat in range(1, 10):\n",
    "    features_upsampled, target_upsampled = upsample(features_train, target_train, repeat)\n",
    "    model = RandomForestClassifier(random_state=12345, n_estimators=80,  max_depth=10, min_samples_split=2)\n",
    "    model.fit(features_upsampled, target_upsampled) \n",
    "    predicted_valid = model.predict(features_valid)\n",
    "    result = f1_score(target_valid, predicted_valid)\n",
    "    if result > best_result:\n",
    "                best_model = model\n",
    "                best_result = result\n",
    "                best_repeat = repeat\n",
    "print(\"mejor F1\", best_result, \"repetición:\", best_repeat)"
   ]
  },
  {
   "cell_type": "markdown",
   "metadata": {},
   "source": [
    "### 7.3 Conclusión modelos"
   ]
  },
  {
   "cell_type": "markdown",
   "metadata": {},
   "source": [
    "Al observar todos los valores de F1 obtenidos, los mejores resultados se dan con el modelo de bosque aleatorio y específicamente con el método de submuestreo seguido por una diferencia ínfima por el método de ajuste de peso de clase, por lo cual se probarán ambos métodos en la siguiente seccion para la prueba final."
   ]
  },
  {
   "cell_type": "markdown",
   "metadata": {},
   "source": [
    "## 8. Prueba Final"
   ]
  },
  {
   "cell_type": "markdown",
   "metadata": {},
   "source": [
    "Finalmente procederemos a realizar pruebas con los dos modelos seleccionados en la sección anterior con el conjunto de prueba, elegiremos el que tenga mayor valor f1 y a partir de este observaremos la exactitud, la curva ROC y el valor AUC-ROC."
   ]
  },
  {
   "cell_type": "code",
   "execution_count": 66,
   "metadata": {},
   "outputs": [],
   "source": [
    "features_downsampled, target_downsampled = downsample(features_train, target_train, 0.48)"
   ]
  },
  {
   "cell_type": "code",
   "execution_count": 67,
   "metadata": {},
   "outputs": [
    {
     "name": "stdout",
     "output_type": "stream",
     "text": [
      "Accuracy: 0.8425\n",
      "F1: 0.5725915875169606\n"
     ]
    }
   ],
   "source": [
    "model = RandomForestClassifier(random_state=12345, n_estimators=80,  max_depth=10, min_samples_split=2)\n",
    "model.fit(features_downsampled, target_downsampled) \n",
    "predicted_test = model.predict(features_test) \n",
    "print('Accuracy:', accuracy_score(target_test, predicted_test))\n",
    "print('F1:', f1_score(target_test, predicted_test))"
   ]
  },
  {
   "cell_type": "code",
   "execution_count": 68,
   "metadata": {},
   "outputs": [
    {
     "name": "stdout",
     "output_type": "stream",
     "text": [
      "Accuracy: 0.8385\n",
      "F1: 0.5821474773609314\n"
     ]
    }
   ],
   "source": [
    "model = RandomForestClassifier(random_state=12345, n_estimators=80,  max_depth=10, min_samples_split=2, class_weight=\"balanced\")\n",
    "model.fit(features_train, target_train) \n",
    "predicted_test = model.predict(features_test) \n",
    "print('Accuracy:', accuracy_score(target_test, predicted_test))\n",
    "print('F1:', f1_score(target_test, predicted_test))"
   ]
  },
  {
   "cell_type": "markdown",
   "metadata": {},
   "source": [
    "Finalmente, se consiguió obtener el máximo valor de F1 posible con el método del bosque aleatorio y el ajuste de peso de clase, continuaremos observando la curva ROC y el valor AUC-ROC con este modelo."
   ]
  },
  {
   "cell_type": "code",
   "execution_count": 69,
   "metadata": {},
   "outputs": [],
   "source": [
    "probabilities_test = model.predict_proba(features_test)\n",
    "probabilities_one_test = probabilities_test[:, 1]"
   ]
  },
  {
   "cell_type": "code",
   "execution_count": 70,
   "metadata": {},
   "outputs": [
    {
     "data": {
      "image/png": "[encoded data removed]",
      "text/plain": [
       "<Figure size 640x480 with 1 Axes>"
      ]
     },
     "metadata": {},
     "output_type": "display_data"
    }
   ],
   "source": [
    "fpr, tpr, thresholds = roc_curve(target_test, probabilities_one_test)\n",
    "\n",
    "plt.figure()\n",
    "plt.plot(fpr, tpr)\n",
    "plt.plot([0, 1], [0, 1], linestyle='--')\n",
    "plt.ylim([0.0, 1.0])\n",
    "plt.xlim([0.0, 1.0])\n",
    "plt.xlabel('Tasa de falsos positivos')\n",
    "plt.ylabel('Tasa de verdaderos positivos')\n",
    "plt.title('Curva ROC')\n",
    "plt.show()"
   ]
  },
  {
   "cell_type": "code",
   "execution_count": 71,
   "metadata": {},
   "outputs": [
    {
     "data": {
      "text/plain": [
       "0.8510456686254905"
      ]
     },
     "execution_count": 71,
     "metadata": {},
     "output_type": "execute_result"
    }
   ],
   "source": [
    "auc_roc = roc_auc_score(target_test,probabilities_one_test)\n",
    "auc_roc"
   ]
  },
  {
   "cell_type": "markdown",
   "metadata": {},
   "source": [
    "Podemos comprobar que nuestro modelo funciona, posee un nivel de exactitud bueno de 0.851 aunque esta métrica no es demasiado fiable al ser este un caso con datos desbalanceados, mientras que por el lado del valor F1 es de una magnitud razonable aunque bajo a 0.582 con la base de datos de prueba. El valor de AUC-ROC nos dice que existe un 85% de probabilidades que los resultados arrojados por nuestro modelo sean correctos versus un modelo que arroje resultados aleatorios lo cual se encuentra dentro de un muy buen rango."
   ]
  },
  {
   "cell_type": "markdown",
   "metadata": {},
   "source": [
    "## 9. Conclusiones"
   ]
  },
  {
   "cell_type": "markdown",
   "metadata": {},
   "source": [
    "Comenzamos el proyecto realizando una rápida exploración a la base de datos entregada por Beta Bank, encontrando valores ausentes en la columna \"Tenure\", estos debieron eran alrededor de un 10% de los datos y debían ser completados para poder correr de forma correcta los modelos predictivos. Independiente de lo anterior, no se encontraron problemas en ninguna de las otras columnas de la base de datos.\n",
    "\n",
    "Continuamos con la segmentación de los datos, al solo poseer la base de datos entregada por Beta Bank se dividió la misma en tres segmentos para poder realizar el entrenamiento, validación y prueba del modelo.\n",
    "\n",
    "Posteriormente procedimos a probar un modelo sin mayores ajustes, con este logramos comprobar que la base de datos posee un fuerte desequilibrio de clases que debería ser abordado más adelante.\n",
    "\n",
    "Damos paso a la elección y mejoramiento del modelo, se realizaron pruebas sobre tres algoritmos de aprendizaje distintos, árbol de decisión, bosque aleatorio y regresión logística, buscando obtener el mejor valor f1 posible ajustando sus hiperparámetros. De las pruebas anteriormente realizadas los mejores modelos fueron uno basado en el arbol de decisión seguido del bosque aleatorio por una muy baja diferencia, en función a esto se procedió a resolver el desequilibrio de clases utilizando el hiperparámetro class_weight, el método de submuestreo y el método de sobremuestreo para elevar el valor F1 lo máximo posible por sobre lo requerido en el proyecto. Así se llegó a obtener dos modelos basados en el bosque aleatorio, uno utilizando el submuestreo y otro con el hiperparámetro class_weight, que poseen el valor F1 más alto y a su vez tienen una infima diferencia en este valor.\n",
    "\n",
    "Finalmente se procedió a probar ambos modelos con el segmento de datos de prueba, obteniendo el mejor resultado con el hiperparámetro class_weight, con lo cual el modelo según el parámetro AUC-ROC tiene un 85% de probabilidades de predecir si un cliente dejara el servicio del banco versus decidirlo aleatoriamente, al comparar el valor final obtenido de AUC-ROC versus el valor F1 podemos notar que el modelo tiene una buena probabilidad de distinguir entre clases positivas y negativas pero que al ponderar la precisión y sensibilidad del mismo esta disminuye a un 58%."
   ]
  },
  {
   "cell_type": "code",
   "execution_count": null,
   "metadata": {},
   "outputs": [],
   "source": []
  }
 ],
 "metadata": {
  "ExecuteTimeLog": [
   {
    "duration": 372,
    "start_time": "2022-08-09T19:53:49.133Z"
   },
   {
    "duration": 77,
    "start_time": "2022-08-09T19:54:20.748Z"
   },
   {
    "duration": 39,
    "start_time": "2022-08-09T20:13:34.313Z"
   },
   {
    "duration": 16,
    "start_time": "2022-08-09T20:13:41.080Z"
   },
   {
    "duration": 24,
    "start_time": "2022-08-09T20:13:57.167Z"
   },
   {
    "duration": 1255,
    "start_time": "2022-08-11T17:53:50.983Z"
   },
   {
    "duration": 86,
    "start_time": "2022-08-11T17:53:59.443Z"
   },
   {
    "duration": 4,
    "start_time": "2022-08-11T17:57:44.619Z"
   },
   {
    "duration": 34,
    "start_time": "2022-08-11T17:57:49.412Z"
   },
   {
    "duration": 5,
    "start_time": "2022-08-11T17:58:03.457Z"
   },
   {
    "duration": 6,
    "start_time": "2022-08-11T17:59:07.316Z"
   },
   {
    "duration": 7,
    "start_time": "2022-08-11T17:59:47.499Z"
   },
   {
    "duration": 101,
    "start_time": "2022-08-11T18:25:24.831Z"
   },
   {
    "duration": 7,
    "start_time": "2022-08-11T18:33:31.801Z"
   },
   {
    "duration": 20,
    "start_time": "2022-08-11T18:33:45.416Z"
   },
   {
    "duration": 20,
    "start_time": "2022-08-11T18:33:48.811Z"
   },
   {
    "duration": 2,
    "start_time": "2022-08-11T18:48:47.914Z"
   },
   {
    "duration": 182,
    "start_time": "2022-08-11T18:49:52.014Z"
   },
   {
    "duration": 68,
    "start_time": "2022-08-11T18:49:53.008Z"
   },
   {
    "duration": 58,
    "start_time": "2022-08-11T18:49:53.977Z"
   },
   {
    "duration": 363,
    "start_time": "2022-08-11T18:49:54.953Z"
   },
   {
    "duration": 38,
    "start_time": "2022-08-11T18:57:01.681Z"
   },
   {
    "duration": 54,
    "start_time": "2022-08-11T18:57:02.437Z"
   },
   {
    "duration": 4,
    "start_time": "2022-08-11T18:57:03.180Z"
   },
   {
    "duration": 369,
    "start_time": "2022-08-11T18:57:03.930Z"
   },
   {
    "duration": 29,
    "start_time": "2022-08-11T18:57:57.857Z"
   },
   {
    "duration": 366,
    "start_time": "2022-08-11T18:58:06.381Z"
   },
   {
    "duration": 6,
    "start_time": "2022-08-11T19:38:02.557Z"
   },
   {
    "duration": 370,
    "start_time": "2022-08-11T19:38:13.669Z"
   },
   {
    "duration": 359,
    "start_time": "2022-08-11T19:38:22.185Z"
   },
   {
    "duration": 24,
    "start_time": "2022-08-11T19:38:25.353Z"
   },
   {
    "duration": 186,
    "start_time": "2022-08-11T20:52:40.726Z"
   },
   {
    "duration": 1091,
    "start_time": "2022-08-11T20:53:01.345Z"
   },
   {
    "duration": 43,
    "start_time": "2022-08-11T20:53:05.641Z"
   },
   {
    "duration": 12,
    "start_time": "2022-08-11T20:53:08.705Z"
   },
   {
    "duration": 10,
    "start_time": "2022-08-11T20:53:16.509Z"
   },
   {
    "duration": 12,
    "start_time": "2022-08-11T20:53:19.611Z"
   },
   {
    "duration": 4,
    "start_time": "2022-08-11T20:53:26.810Z"
   },
   {
    "duration": 95,
    "start_time": "2022-08-11T20:53:30.194Z"
   },
   {
    "duration": 1022,
    "start_time": "2022-08-11T20:53:56.338Z"
   },
   {
    "duration": 42,
    "start_time": "2022-08-11T20:53:59.215Z"
   },
   {
    "duration": 12,
    "start_time": "2022-08-11T20:54:01.246Z"
   },
   {
    "duration": 6,
    "start_time": "2022-08-11T20:54:03.933Z"
   },
   {
    "duration": 12,
    "start_time": "2022-08-11T20:54:06.853Z"
   },
   {
    "duration": 193,
    "start_time": "2022-08-11T20:54:11.540Z"
   },
   {
    "duration": 67,
    "start_time": "2022-08-11T20:54:12.601Z"
   },
   {
    "duration": 56,
    "start_time": "2022-08-11T20:54:15.563Z"
   },
   {
    "duration": 6169,
    "start_time": "2022-08-11T20:54:19.041Z"
   },
   {
    "duration": 979,
    "start_time": "2022-08-11T20:57:30.097Z"
   },
   {
    "duration": 43,
    "start_time": "2022-08-11T20:57:33.260Z"
   },
   {
    "duration": 5,
    "start_time": "2022-08-11T20:57:52.813Z"
   },
   {
    "duration": 5,
    "start_time": "2022-08-11T20:58:05.099Z"
   },
   {
    "duration": 6,
    "start_time": "2022-08-11T20:58:06.727Z"
   },
   {
    "duration": 109,
    "start_time": "2022-08-11T20:58:07.920Z"
   },
   {
    "duration": 190,
    "start_time": "2022-08-11T20:58:37.971Z"
   },
   {
    "duration": 67,
    "start_time": "2022-08-11T20:58:47.003Z"
   },
   {
    "duration": 57,
    "start_time": "2022-08-11T20:58:47.965Z"
   },
   {
    "duration": 6214,
    "start_time": "2022-08-11T20:58:49.196Z"
   },
   {
    "duration": 13,
    "start_time": "2022-08-11T20:59:10.651Z"
   },
   {
    "duration": 1026,
    "start_time": "2022-08-11T20:59:35.910Z"
   },
   {
    "duration": 42,
    "start_time": "2022-08-11T20:59:38.545Z"
   },
   {
    "duration": 13,
    "start_time": "2022-08-11T20:59:41.281Z"
   },
   {
    "duration": 4,
    "start_time": "2022-08-11T20:59:56.415Z"
   },
   {
    "duration": 8,
    "start_time": "2022-08-11T20:59:57.213Z"
   },
   {
    "duration": 97,
    "start_time": "2022-08-11T20:59:58.298Z"
   },
   {
    "duration": 188,
    "start_time": "2022-08-11T21:00:11.849Z"
   },
   {
    "duration": 65,
    "start_time": "2022-08-11T21:00:12.855Z"
   },
   {
    "duration": 59,
    "start_time": "2022-08-11T21:00:13.982Z"
   },
   {
    "duration": 366,
    "start_time": "2022-08-11T21:00:14.939Z"
   },
   {
    "duration": 4,
    "start_time": "2022-08-11T21:00:21.047Z"
   },
   {
    "duration": 201,
    "start_time": "2022-08-11T21:00:21.370Z"
   },
   {
    "duration": 43,
    "start_time": "2022-08-11T21:00:21.662Z"
   },
   {
    "duration": 53,
    "start_time": "2022-08-11T21:00:21.978Z"
   },
   {
    "duration": 6101,
    "start_time": "2022-08-11T21:00:22.510Z"
   },
   {
    "duration": 19,
    "start_time": "2022-08-12T01:22:52.007Z"
   },
   {
    "duration": 967,
    "start_time": "2022-08-12T01:23:16.253Z"
   },
   {
    "duration": 42,
    "start_time": "2022-08-12T01:23:19.807Z"
   },
   {
    "duration": 13,
    "start_time": "2022-08-12T01:23:22.190Z"
   },
   {
    "duration": 5,
    "start_time": "2022-08-12T01:23:34.763Z"
   },
   {
    "duration": 8,
    "start_time": "2022-08-12T01:23:35.972Z"
   },
   {
    "duration": 101,
    "start_time": "2022-08-12T01:23:37.228Z"
   },
   {
    "duration": 3,
    "start_time": "2022-08-12T01:26:25.626Z"
   },
   {
    "duration": 15,
    "start_time": "2022-08-12T01:27:18.912Z"
   },
   {
    "duration": 5,
    "start_time": "2022-08-12T01:27:27.310Z"
   },
   {
    "duration": 33,
    "start_time": "2022-08-12T01:27:28.263Z"
   },
   {
    "duration": 3,
    "start_time": "2022-08-12T01:29:07.352Z"
   },
   {
    "duration": 5,
    "start_time": "2022-08-12T01:29:08.674Z"
   },
   {
    "duration": 49,
    "start_time": "2022-08-12T01:29:10.716Z"
   },
   {
    "duration": 3,
    "start_time": "2022-08-12T01:31:24.073Z"
   },
   {
    "duration": 45,
    "start_time": "2022-08-12T01:31:42.697Z"
   },
   {
    "duration": 47,
    "start_time": "2022-08-12T01:31:50.509Z"
   },
   {
    "duration": 6,
    "start_time": "2022-08-12T01:34:08.411Z"
   },
   {
    "duration": 6,
    "start_time": "2022-08-12T01:34:20.435Z"
   },
   {
    "duration": 6,
    "start_time": "2022-08-12T01:34:26.323Z"
   },
   {
    "duration": 5,
    "start_time": "2022-08-12T01:34:41.235Z"
   },
   {
    "duration": 1082,
    "start_time": "2022-08-13T00:39:02.086Z"
   },
   {
    "duration": 82,
    "start_time": "2022-08-13T00:39:03.170Z"
   },
   {
    "duration": 17,
    "start_time": "2022-08-13T00:39:03.254Z"
   },
   {
    "duration": 18,
    "start_time": "2022-08-13T00:39:03.274Z"
   },
   {
    "duration": 4,
    "start_time": "2022-08-13T00:39:03.293Z"
   },
   {
    "duration": 40,
    "start_time": "2022-08-13T00:39:03.298Z"
   },
   {
    "duration": 4,
    "start_time": "2022-08-13T00:39:03.340Z"
   },
   {
    "duration": 11,
    "start_time": "2022-08-13T00:39:03.346Z"
   },
   {
    "duration": 54,
    "start_time": "2022-08-13T00:39:03.358Z"
   },
   {
    "duration": 5,
    "start_time": "2022-08-13T00:39:03.414Z"
   },
   {
    "duration": 21,
    "start_time": "2022-08-13T00:39:03.420Z"
   },
   {
    "duration": 3,
    "start_time": "2022-08-13T00:44:39.840Z"
   },
   {
    "duration": 7,
    "start_time": "2022-08-13T00:44:55.792Z"
   },
   {
    "duration": 3,
    "start_time": "2022-08-13T00:49:00.722Z"
   },
   {
    "duration": 7,
    "start_time": "2022-08-13T00:49:16.120Z"
   },
   {
    "duration": 2,
    "start_time": "2022-08-13T00:51:56.764Z"
   },
   {
    "duration": 6,
    "start_time": "2022-08-13T00:52:10.773Z"
   },
   {
    "duration": 44,
    "start_time": "2022-08-13T01:21:05.009Z"
   },
   {
    "duration": 89,
    "start_time": "2022-08-13T01:36:41.466Z"
   },
   {
    "duration": 12,
    "start_time": "2022-08-13T01:37:55.039Z"
   },
   {
    "duration": 25262,
    "start_time": "2022-08-13T01:38:00.041Z"
   },
   {
    "duration": 153267,
    "start_time": "2022-08-13T01:51:08.596Z"
   },
   {
    "duration": 152849,
    "start_time": "2022-08-13T01:54:26.474Z"
   },
   {
    "duration": 5,
    "start_time": "2022-08-13T01:57:56.319Z"
   },
   {
    "duration": 5,
    "start_time": "2022-08-13T01:58:00.210Z"
   },
   {
    "duration": 6,
    "start_time": "2022-08-13T01:58:04.794Z"
   },
   {
    "duration": 6,
    "start_time": "2022-08-13T01:58:08.154Z"
   },
   {
    "duration": 6,
    "start_time": "2022-08-13T01:58:12.836Z"
   },
   {
    "duration": 6,
    "start_time": "2022-08-13T01:59:38.632Z"
   },
   {
    "duration": 6,
    "start_time": "2022-08-13T01:59:42.226Z"
   },
   {
    "duration": 7,
    "start_time": "2022-08-13T01:59:47.627Z"
   },
   {
    "duration": 7,
    "start_time": "2022-08-13T01:59:51.288Z"
   },
   {
    "duration": 210,
    "start_time": "2022-08-13T02:01:17.114Z"
   },
   {
    "duration": 208,
    "start_time": "2022-08-13T02:01:48.435Z"
   },
   {
    "duration": 3,
    "start_time": "2022-08-13T02:06:20.275Z"
   },
   {
    "duration": 3,
    "start_time": "2022-08-13T02:06:59.996Z"
   },
   {
    "duration": 4,
    "start_time": "2022-08-13T02:10:27.325Z"
   },
   {
    "duration": 23,
    "start_time": "2022-08-13T02:10:48.797Z"
   },
   {
    "duration": 408,
    "start_time": "2022-08-13T02:11:21.997Z"
   },
   {
    "duration": 3,
    "start_time": "2022-08-13T02:12:20.525Z"
   },
   {
    "duration": 8,
    "start_time": "2022-08-13T02:12:30.529Z"
   },
   {
    "duration": 94,
    "start_time": "2022-08-13T02:13:24.794Z"
   },
   {
    "duration": 314,
    "start_time": "2022-08-13T02:20:31.475Z"
   },
   {
    "duration": 18,
    "start_time": "2022-08-13T02:24:19.807Z"
   },
   {
    "duration": 8,
    "start_time": "2022-08-13T02:24:48.360Z"
   },
   {
    "duration": 9,
    "start_time": "2022-08-13T02:25:46.818Z"
   },
   {
    "duration": 3,
    "start_time": "2022-08-13T02:26:13.675Z"
   },
   {
    "duration": 15,
    "start_time": "2022-08-13T02:26:19.619Z"
   },
   {
    "duration": 3,
    "start_time": "2022-08-13T02:26:42.970Z"
   },
   {
    "duration": 3,
    "start_time": "2022-08-13T02:26:46.675Z"
   },
   {
    "duration": 3,
    "start_time": "2022-08-13T02:33:54.035Z"
   },
   {
    "duration": 222,
    "start_time": "2022-08-13T02:34:42.895Z"
   },
   {
    "duration": 108,
    "start_time": "2022-08-13T02:34:56.656Z"
   },
   {
    "duration": 3,
    "start_time": "2022-08-13T02:35:45.521Z"
   },
   {
    "duration": 6,
    "start_time": "2022-08-13T02:36:04.954Z"
   },
   {
    "duration": 3,
    "start_time": "2022-08-13T02:58:27.471Z"
   },
   {
    "duration": 209,
    "start_time": "2022-08-13T02:59:15.424Z"
   },
   {
    "duration": 40,
    "start_time": "2022-08-13T03:01:43.064Z"
   },
   {
    "duration": 29,
    "start_time": "2022-08-13T03:02:01.880Z"
   },
   {
    "duration": 40,
    "start_time": "2022-08-13T03:02:12.978Z"
   },
   {
    "duration": 68,
    "start_time": "2022-08-13T03:02:34.063Z"
   },
   {
    "duration": 49,
    "start_time": "2022-08-13T03:02:55.630Z"
   },
   {
    "duration": 48,
    "start_time": "2022-08-13T03:03:10.222Z"
   },
   {
    "duration": 4,
    "start_time": "2022-08-13T03:05:06.882Z"
   },
   {
    "duration": 107,
    "start_time": "2022-08-13T03:06:11.981Z"
   },
   {
    "duration": 1722,
    "start_time": "2022-08-13T16:30:35.759Z"
   },
   {
    "duration": 162,
    "start_time": "2022-08-13T16:30:40.319Z"
   },
   {
    "duration": 15,
    "start_time": "2022-08-13T16:30:46.676Z"
   },
   {
    "duration": 5,
    "start_time": "2022-08-13T16:30:50.632Z"
   },
   {
    "duration": 35,
    "start_time": "2022-08-13T16:30:55.327Z"
   },
   {
    "duration": 5,
    "start_time": "2022-08-13T16:30:56.232Z"
   },
   {
    "duration": 6,
    "start_time": "2022-08-13T16:30:56.958Z"
   },
   {
    "duration": 191334,
    "start_time": "2022-08-13T16:30:57.680Z"
   },
   {
    "duration": 1396,
    "start_time": "2022-08-14T15:50:36.068Z"
   },
   {
    "duration": 88,
    "start_time": "2022-08-14T15:50:40.073Z"
   },
   {
    "duration": 5,
    "start_time": "2022-08-14T15:50:43.984Z"
   },
   {
    "duration": 32,
    "start_time": "2022-08-14T15:50:47.067Z"
   },
   {
    "duration": 4,
    "start_time": "2022-08-14T15:50:47.905Z"
   },
   {
    "duration": 6,
    "start_time": "2022-08-14T15:50:49.027Z"
   },
   {
    "duration": 13151,
    "start_time": "2022-08-14T15:52:19.035Z"
   },
   {
    "duration": 2,
    "start_time": "2022-08-14T15:52:59.232Z"
   },
   {
    "duration": 169206,
    "start_time": "2022-08-14T15:53:33.668Z"
   },
   {
    "duration": 5987,
    "start_time": "2022-08-14T16:06:05.038Z"
   },
   {
    "duration": 1525,
    "start_time": "2022-08-17T01:37:09.521Z"
   },
   {
    "duration": 80,
    "start_time": "2022-08-17T01:37:15.694Z"
   },
   {
    "duration": 14,
    "start_time": "2022-08-17T01:37:33.847Z"
   },
   {
    "duration": 17,
    "start_time": "2022-08-17T01:37:38.333Z"
   },
   {
    "duration": 4,
    "start_time": "2022-08-17T01:38:02.851Z"
   },
   {
    "duration": 12,
    "start_time": "2022-08-17T01:38:17.156Z"
   },
   {
    "duration": 5,
    "start_time": "2022-08-17T01:38:33.080Z"
   },
   {
    "duration": 8,
    "start_time": "2022-08-17T01:38:47.662Z"
   },
   {
    "duration": 5,
    "start_time": "2022-08-17T01:39:00.063Z"
   },
   {
    "duration": 7,
    "start_time": "2022-08-17T01:39:49.424Z"
   },
   {
    "duration": 4,
    "start_time": "2022-08-17T01:40:07.148Z"
   },
   {
    "duration": 8,
    "start_time": "2022-08-17T01:40:12.315Z"
   },
   {
    "duration": 7,
    "start_time": "2022-08-17T01:40:16.929Z"
   },
   {
    "duration": 18,
    "start_time": "2022-08-17T01:40:27.547Z"
   },
   {
    "duration": 3,
    "start_time": "2022-08-17T01:40:37.062Z"
   },
   {
    "duration": 27,
    "start_time": "2022-08-17T01:40:42.511Z"
   },
   {
    "duration": 5,
    "start_time": "2022-08-17T01:40:48.327Z"
   },
   {
    "duration": 7,
    "start_time": "2022-08-17T01:40:58.257Z"
   },
   {
    "duration": 12,
    "start_time": "2022-08-17T01:41:11.747Z"
   },
   {
    "duration": 34,
    "start_time": "2022-08-17T01:41:41.864Z"
   },
   {
    "duration": 98,
    "start_time": "2022-08-17T01:42:10.511Z"
   },
   {
    "duration": 4,
    "start_time": "2022-08-17T01:42:18.179Z"
   },
   {
    "duration": 7,
    "start_time": "2022-08-17T01:42:19.873Z"
   },
   {
    "duration": 5,
    "start_time": "2022-08-17T01:42:25.146Z"
   },
   {
    "duration": 3,
    "start_time": "2022-08-17T01:42:54.551Z"
   },
   {
    "duration": 33,
    "start_time": "2022-08-17T01:43:34.308Z"
   },
   {
    "duration": 6,
    "start_time": "2022-08-17T01:43:39.899Z"
   },
   {
    "duration": 7,
    "start_time": "2022-08-17T01:44:08.452Z"
   },
   {
    "duration": 7968,
    "start_time": "2022-08-17T01:45:12.428Z"
   },
   {
    "duration": 25,
    "start_time": "2022-08-17T01:45:35.623Z"
   },
   {
    "duration": 123971,
    "start_time": "2022-08-17T01:46:09.363Z"
   },
   {
    "duration": 372,
    "start_time": "2022-08-17T01:48:17.620Z"
   },
   {
    "duration": 821,
    "start_time": "2022-08-17T01:48:50.080Z"
   },
   {
    "duration": 30,
    "start_time": "2022-08-17T01:49:18.530Z"
   },
   {
    "duration": 370,
    "start_time": "2022-08-17T01:50:05.129Z"
   },
   {
    "duration": 5,
    "start_time": "2022-08-17T01:51:03.875Z"
   },
   {
    "duration": 11,
    "start_time": "2022-08-17T01:51:10.170Z"
   },
   {
    "duration": 344,
    "start_time": "2022-08-17T01:51:16.035Z"
   },
   {
    "duration": 36,
    "start_time": "2022-08-17T01:52:00.650Z"
   },
   {
    "duration": 4,
    "start_time": "2022-08-17T02:05:56.383Z"
   },
   {
    "duration": 31,
    "start_time": "2022-08-17T02:06:33.326Z"
   },
   {
    "duration": 9,
    "start_time": "2022-08-17T02:07:44.135Z"
   },
   {
    "duration": 31,
    "start_time": "2022-08-17T02:07:57.187Z"
   },
   {
    "duration": 19,
    "start_time": "2022-08-17T02:08:17.273Z"
   },
   {
    "duration": 27,
    "start_time": "2022-08-17T02:08:24.557Z"
   },
   {
    "duration": 41,
    "start_time": "2022-08-17T02:08:45.987Z"
   },
   {
    "duration": 18,
    "start_time": "2022-08-17T02:08:55.206Z"
   },
   {
    "duration": 345,
    "start_time": "2022-08-17T02:10:09.122Z"
   },
   {
    "duration": 193,
    "start_time": "2022-08-17T02:10:25.402Z"
   },
   {
    "duration": 3,
    "start_time": "2022-08-17T02:10:48.095Z"
   },
   {
    "duration": 10,
    "start_time": "2022-08-17T02:10:54.657Z"
   },
   {
    "duration": 762,
    "start_time": "2022-08-17T02:11:20.824Z"
   },
   {
    "duration": 13,
    "start_time": "2022-08-17T02:11:30.978Z"
   },
   {
    "duration": 908,
    "start_time": "2022-08-17T02:11:31.317Z"
   },
   {
    "duration": 15,
    "start_time": "2022-08-17T02:11:43.515Z"
   },
   {
    "duration": 1329,
    "start_time": "2022-08-17T02:11:44.097Z"
   },
   {
    "duration": 20,
    "start_time": "2022-08-17T02:11:50.412Z"
   },
   {
    "duration": 1694,
    "start_time": "2022-08-17T02:11:50.754Z"
   },
   {
    "duration": 37,
    "start_time": "2022-08-17T02:12:05.335Z"
   },
   {
    "duration": 4,
    "start_time": "2022-08-17T02:12:13.726Z"
   },
   {
    "duration": 8,
    "start_time": "2022-08-17T02:12:14.209Z"
   },
   {
    "duration": 337,
    "start_time": "2022-08-17T02:12:15.191Z"
   },
   {
    "duration": 34,
    "start_time": "2022-08-17T02:12:18.486Z"
   },
   {
    "duration": 8,
    "start_time": "2022-08-17T02:15:33.158Z"
   },
   {
    "duration": 343,
    "start_time": "2022-08-17T02:15:33.610Z"
   },
   {
    "duration": 9,
    "start_time": "2022-08-17T02:15:38.218Z"
   },
   {
    "duration": 339,
    "start_time": "2022-08-17T02:15:38.577Z"
   },
   {
    "duration": 9,
    "start_time": "2022-08-17T02:15:43.038Z"
   },
   {
    "duration": 355,
    "start_time": "2022-08-17T02:15:43.434Z"
   },
   {
    "duration": 10,
    "start_time": "2022-08-17T02:15:46.930Z"
   },
   {
    "duration": 369,
    "start_time": "2022-08-17T02:15:47.302Z"
   },
   {
    "duration": 8,
    "start_time": "2022-08-17T02:15:52.407Z"
   },
   {
    "duration": 338,
    "start_time": "2022-08-17T02:15:53.519Z"
   },
   {
    "duration": 33,
    "start_time": "2022-08-17T02:15:59.713Z"
   },
   {
    "duration": 379,
    "start_time": "2022-08-17T02:16:13.613Z"
   },
   {
    "duration": 4,
    "start_time": "2022-08-17T02:16:17.722Z"
   },
   {
    "duration": 9,
    "start_time": "2022-08-17T02:16:18.137Z"
   },
   {
    "duration": 338,
    "start_time": "2022-08-17T02:16:18.857Z"
   },
   {
    "duration": 35,
    "start_time": "2022-08-17T02:16:22.366Z"
   },
   {
    "duration": 9,
    "start_time": "2022-08-17T02:16:38.512Z"
   },
   {
    "duration": 362,
    "start_time": "2022-08-17T02:16:39.207Z"
   },
   {
    "duration": 502,
    "start_time": "2022-08-17T02:18:44.603Z"
   },
   {
    "duration": 483,
    "start_time": "2022-08-17T02:19:06.360Z"
   },
   {
    "duration": 106,
    "start_time": "2022-08-17T02:19:48.406Z"
   },
   {
    "duration": 10,
    "start_time": "2022-08-17T02:20:01.602Z"
   },
   {
    "duration": 140,
    "start_time": "2022-08-17T02:20:01.920Z"
   },
   {
    "duration": 9,
    "start_time": "2022-08-17T02:20:05.229Z"
   },
   {
    "duration": 166,
    "start_time": "2022-08-17T02:20:05.521Z"
   },
   {
    "duration": 103,
    "start_time": "2022-08-17T02:20:52.833Z"
   },
   {
    "duration": 519,
    "start_time": "2022-08-17T02:21:05.851Z"
   },
   {
    "duration": 474,
    "start_time": "2022-08-17T02:21:42.212Z"
   },
   {
    "duration": 15,
    "start_time": "2022-08-17T02:21:54.787Z"
   },
   {
    "duration": 11,
    "start_time": "2022-08-17T02:22:29.625Z"
   },
   {
    "duration": 2681,
    "start_time": "2022-08-17T02:22:52.797Z"
   },
   {
    "duration": 13450,
    "start_time": "2022-08-17T02:23:03.178Z"
   },
   {
    "duration": 8,
    "start_time": "2022-08-17T02:23:44.415Z"
   },
   {
    "duration": 349,
    "start_time": "2022-08-17T02:23:44.825Z"
   },
   {
    "duration": 401,
    "start_time": "2022-08-17T02:28:43.863Z"
   },
   {
    "duration": 5,
    "start_time": "2022-08-17T02:28:46.014Z"
   },
   {
    "duration": 18827,
    "start_time": "2022-08-17T02:28:47.666Z"
   },
   {
    "duration": 16883,
    "start_time": "2022-08-17T02:30:08.223Z"
   },
   {
    "duration": 12448,
    "start_time": "2022-08-17T02:30:31.623Z"
   },
   {
    "duration": 12396,
    "start_time": "2022-08-17T02:31:25.596Z"
   },
   {
    "duration": 12466,
    "start_time": "2022-08-17T02:32:15.336Z"
   },
   {
    "duration": 8,
    "start_time": "2022-08-17T02:33:10.116Z"
   },
   {
    "duration": 356,
    "start_time": "2022-08-17T02:33:43.828Z"
   },
   {
    "duration": 329,
    "start_time": "2022-08-17T02:34:11.577Z"
   },
   {
    "duration": 36,
    "start_time": "2022-08-17T02:34:37.169Z"
   },
   {
    "duration": 37,
    "start_time": "2022-08-17T02:34:49.372Z"
   },
   {
    "duration": 119,
    "start_time": "2022-08-17T02:34:51.800Z"
   },
   {
    "duration": 6,
    "start_time": "2022-08-17T02:34:54.921Z"
   },
   {
    "duration": 9,
    "start_time": "2022-08-17T02:36:22.096Z"
   },
   {
    "duration": 351,
    "start_time": "2022-08-17T02:36:31.310Z"
   },
   {
    "duration": 31,
    "start_time": "2022-08-17T02:36:40.904Z"
   },
   {
    "duration": 115,
    "start_time": "2022-08-17T02:36:41.879Z"
   },
   {
    "duration": 6,
    "start_time": "2022-08-17T02:36:46.804Z"
   },
   {
    "duration": 1269,
    "start_time": "2022-08-17T02:43:58.324Z"
   },
   {
    "duration": 42,
    "start_time": "2022-08-17T02:43:59.596Z"
   },
   {
    "duration": 12,
    "start_time": "2022-08-17T02:43:59.640Z"
   },
   {
    "duration": 16,
    "start_time": "2022-08-17T02:43:59.653Z"
   },
   {
    "duration": 4,
    "start_time": "2022-08-17T02:43:59.671Z"
   },
   {
    "duration": 13,
    "start_time": "2022-08-17T02:43:59.676Z"
   },
   {
    "duration": 11,
    "start_time": "2022-08-17T02:43:59.691Z"
   },
   {
    "duration": 18,
    "start_time": "2022-08-17T02:43:59.704Z"
   },
   {
    "duration": 5,
    "start_time": "2022-08-17T02:43:59.724Z"
   },
   {
    "duration": 10,
    "start_time": "2022-08-17T02:43:59.731Z"
   },
   {
    "duration": 8,
    "start_time": "2022-08-17T02:43:59.742Z"
   },
   {
    "duration": 13,
    "start_time": "2022-08-17T02:43:59.752Z"
   },
   {
    "duration": 8,
    "start_time": "2022-08-17T02:43:59.767Z"
   },
   {
    "duration": 35,
    "start_time": "2022-08-17T02:43:59.779Z"
   },
   {
    "duration": 4,
    "start_time": "2022-08-17T02:43:59.816Z"
   },
   {
    "duration": 32,
    "start_time": "2022-08-17T02:43:59.822Z"
   },
   {
    "duration": 4,
    "start_time": "2022-08-17T02:43:59.856Z"
   },
   {
    "duration": 10,
    "start_time": "2022-08-17T02:43:59.862Z"
   },
   {
    "duration": 35,
    "start_time": "2022-08-17T02:43:59.873Z"
   },
   {
    "duration": 35,
    "start_time": "2022-08-17T02:43:59.910Z"
   },
   {
    "duration": 4,
    "start_time": "2022-08-17T02:43:59.946Z"
   },
   {
    "duration": 12,
    "start_time": "2022-08-17T02:43:59.952Z"
   },
   {
    "duration": 5,
    "start_time": "2022-08-17T02:43:59.965Z"
   },
   {
    "duration": 5,
    "start_time": "2022-08-17T02:43:59.971Z"
   },
   {
    "duration": 56,
    "start_time": "2022-08-17T02:43:59.978Z"
   },
   {
    "duration": 6,
    "start_time": "2022-08-17T02:44:00.036Z"
   },
   {
    "duration": 12,
    "start_time": "2022-08-17T02:44:00.044Z"
   },
   {
    "duration": 8440,
    "start_time": "2022-08-17T02:44:00.058Z"
   },
   {
    "duration": 25,
    "start_time": "2022-08-17T02:44:08.500Z"
   },
   {
    "duration": 126845,
    "start_time": "2022-08-17T02:44:08.527Z"
   },
   {
    "duration": 390,
    "start_time": "2022-08-17T02:46:15.374Z"
   },
   {
    "duration": 839,
    "start_time": "2022-08-17T02:46:15.765Z"
   },
   {
    "duration": 117,
    "start_time": "2022-08-17T02:46:16.607Z"
   },
   {
    "duration": 1682,
    "start_time": "2022-08-17T02:46:16.725Z"
   },
   {
    "duration": 4,
    "start_time": "2022-08-17T02:46:18.409Z"
   },
   {
    "duration": 12903,
    "start_time": "2022-08-17T02:46:18.414Z"
   },
   {
    "duration": 9,
    "start_time": "2022-08-17T02:46:31.318Z"
   },
   {
    "duration": 404,
    "start_time": "2022-08-17T02:46:31.328Z"
   },
   {
    "duration": 28,
    "start_time": "2022-08-17T02:46:31.734Z"
   },
   {
    "duration": 135,
    "start_time": "2022-08-17T02:46:31.763Z"
   },
   {
    "duration": 6,
    "start_time": "2022-08-17T02:46:31.902Z"
   },
   {
    "duration": 1490,
    "start_time": "2022-08-17T19:06:02.338Z"
   },
   {
    "duration": 80,
    "start_time": "2022-08-17T19:06:03.830Z"
   },
   {
    "duration": 14,
    "start_time": "2022-08-17T19:06:03.912Z"
   },
   {
    "duration": 17,
    "start_time": "2022-08-17T19:06:03.928Z"
   },
   {
    "duration": 5,
    "start_time": "2022-08-17T19:06:03.946Z"
   },
   {
    "duration": 14,
    "start_time": "2022-08-17T19:06:03.953Z"
   },
   {
    "duration": 4,
    "start_time": "2022-08-17T19:06:03.969Z"
   },
   {
    "duration": 29,
    "start_time": "2022-08-17T19:06:03.975Z"
   },
   {
    "duration": 5,
    "start_time": "2022-08-17T19:06:04.005Z"
   },
   {
    "duration": 27,
    "start_time": "2022-08-17T19:06:04.013Z"
   },
   {
    "duration": 5,
    "start_time": "2022-08-17T19:06:04.042Z"
   },
   {
    "duration": 15,
    "start_time": "2022-08-17T19:06:04.048Z"
   },
   {
    "duration": 9,
    "start_time": "2022-08-17T19:06:04.064Z"
   },
   {
    "duration": 35,
    "start_time": "2022-08-17T19:06:04.075Z"
   },
   {
    "duration": 3,
    "start_time": "2022-08-17T19:06:04.112Z"
   },
   {
    "duration": 34,
    "start_time": "2022-08-17T19:06:04.117Z"
   },
   {
    "duration": 4,
    "start_time": "2022-08-17T19:06:04.153Z"
   },
   {
    "duration": 11,
    "start_time": "2022-08-17T19:06:04.159Z"
   },
   {
    "duration": 41,
    "start_time": "2022-08-17T19:06:04.172Z"
   },
   {
    "duration": 42,
    "start_time": "2022-08-17T19:06:04.215Z"
   },
   {
    "duration": 4,
    "start_time": "2022-08-17T19:06:04.258Z"
   },
   {
    "duration": 9,
    "start_time": "2022-08-17T19:06:04.264Z"
   },
   {
    "duration": 30,
    "start_time": "2022-08-17T19:06:04.275Z"
   },
   {
    "duration": 5,
    "start_time": "2022-08-17T19:06:04.307Z"
   },
   {
    "duration": 37,
    "start_time": "2022-08-17T19:06:04.314Z"
   },
   {
    "duration": 7,
    "start_time": "2022-08-17T19:06:04.353Z"
   },
   {
    "duration": 16,
    "start_time": "2022-08-17T19:06:04.361Z"
   },
   {
    "duration": 9683,
    "start_time": "2022-08-17T19:06:04.381Z"
   },
   {
    "duration": 38,
    "start_time": "2022-08-17T19:06:14.065Z"
   },
   {
    "duration": 147827,
    "start_time": "2022-08-17T19:06:14.104Z"
   },
   {
    "duration": 463,
    "start_time": "2022-08-17T19:08:41.933Z"
   },
   {
    "duration": 806,
    "start_time": "2022-08-17T19:08:42.398Z"
   },
   {
    "duration": 213,
    "start_time": "2022-08-17T19:08:43.209Z"
   },
   {
    "duration": 609,
    "start_time": "2022-08-17T19:08:43.424Z"
   },
   {
    "duration": 4,
    "start_time": "2022-08-17T19:08:44.035Z"
   },
   {
    "duration": 15080,
    "start_time": "2022-08-17T19:08:44.041Z"
   },
   {
    "duration": 11,
    "start_time": "2022-08-17T19:08:59.124Z"
   },
   {
    "duration": 462,
    "start_time": "2022-08-17T19:08:59.138Z"
   },
   {
    "duration": 34,
    "start_time": "2022-08-17T19:08:59.603Z"
   },
   {
    "duration": 152,
    "start_time": "2022-08-17T19:08:59.639Z"
   },
   {
    "duration": 15,
    "start_time": "2022-08-17T19:08:59.794Z"
   },
   {
    "duration": 30,
    "start_time": "2022-08-17T20:35:21.283Z"
   },
   {
    "duration": 1537,
    "start_time": "2022-08-17T22:38:27.333Z"
   },
   {
    "duration": 84,
    "start_time": "2022-08-17T22:38:31.268Z"
   },
   {
    "duration": 14,
    "start_time": "2022-08-17T22:38:33.477Z"
   },
   {
    "duration": 19,
    "start_time": "2022-08-17T22:38:36.014Z"
   },
   {
    "duration": 5,
    "start_time": "2022-08-17T22:38:38.349Z"
   },
   {
    "duration": 14,
    "start_time": "2022-08-17T22:38:40.322Z"
   },
   {
    "duration": 4,
    "start_time": "2022-08-17T22:38:42.616Z"
   },
   {
    "duration": 9,
    "start_time": "2022-08-17T22:38:44.263Z"
   },
   {
    "duration": 6,
    "start_time": "2022-08-17T22:38:45.101Z"
   },
   {
    "duration": 7,
    "start_time": "2022-08-17T22:38:47.963Z"
   },
   {
    "duration": 5,
    "start_time": "2022-08-17T22:38:51.597Z"
   },
   {
    "duration": 9,
    "start_time": "2022-08-17T22:38:52.396Z"
   },
   {
    "duration": 8,
    "start_time": "2022-08-17T22:39:31.108Z"
   },
   {
    "duration": 18,
    "start_time": "2022-08-17T22:39:54.490Z"
   },
   {
    "duration": 3,
    "start_time": "2022-08-17T22:40:07.223Z"
   },
   {
    "duration": 29,
    "start_time": "2022-08-17T22:40:07.869Z"
   },
   {
    "duration": 5,
    "start_time": "2022-08-17T22:40:09.973Z"
   },
   {
    "duration": 6,
    "start_time": "2022-08-17T22:40:20.091Z"
   },
   {
    "duration": 14,
    "start_time": "2022-08-17T22:40:34.968Z"
   },
   {
    "duration": 38,
    "start_time": "2022-08-17T22:41:27.579Z"
   },
   {
    "duration": 4,
    "start_time": "2022-08-17T22:41:29.845Z"
   },
   {
    "duration": 7,
    "start_time": "2022-08-17T22:41:42.324Z"
   },
   {
    "duration": 6,
    "start_time": "2022-08-17T22:41:42.740Z"
   },
   {
    "duration": 4,
    "start_time": "2022-08-17T22:41:43.322Z"
   },
   {
    "duration": 35,
    "start_time": "2022-08-17T22:43:03.052Z"
   },
   {
    "duration": 7,
    "start_time": "2022-08-17T22:43:03.800Z"
   },
   {
    "duration": 9167,
    "start_time": "2022-08-17T22:59:21.707Z"
   },
   {
    "duration": 10340,
    "start_time": "2022-08-17T23:04:05.082Z"
   },
   {
    "duration": 10378,
    "start_time": "2022-08-17T23:04:46.983Z"
   },
   {
    "duration": 144927,
    "start_time": "2022-08-17T23:09:30.203Z"
   },
   {
    "duration": 28,
    "start_time": "2022-08-17T23:56:03.353Z"
   },
   {
    "duration": 491,
    "start_time": "2022-08-17T23:57:22.985Z"
   },
   {
    "duration": 4,
    "start_time": "2022-08-17T23:57:50.233Z"
   },
   {
    "duration": 16254,
    "start_time": "2022-08-17T23:58:14.963Z"
   },
   {
    "duration": 32,
    "start_time": "2022-08-18T00:03:51.283Z"
   },
   {
    "duration": 862,
    "start_time": "2022-08-18T00:04:06.702Z"
   },
   {
    "duration": 515,
    "start_time": "2022-08-18T00:05:04.211Z"
   },
   {
    "duration": 4,
    "start_time": "2022-08-18T00:07:43.025Z"
   },
   {
    "duration": 325,
    "start_time": "2022-08-18T00:09:07.956Z"
   },
   {
    "duration": 332,
    "start_time": "2022-08-18T00:09:37.463Z"
   },
   {
    "duration": 10773,
    "start_time": "2022-08-18T00:09:43.487Z"
   },
   {
    "duration": 10455,
    "start_time": "2022-08-18T00:10:34.728Z"
   },
   {
    "duration": 487,
    "start_time": "2022-08-18T00:11:25.333Z"
   },
   {
    "duration": 16723,
    "start_time": "2022-08-18T00:11:38.557Z"
   },
   {
    "duration": 263476,
    "start_time": "2022-08-18T00:12:15.962Z"
   },
   {
    "duration": 9,
    "start_time": "2022-08-18T00:17:41.581Z"
   },
   {
    "duration": 650,
    "start_time": "2022-08-18T00:17:56.909Z"
   },
   {
    "duration": 27,
    "start_time": "2022-08-18T00:20:26.554Z"
   },
   {
    "duration": 4,
    "start_time": "2022-08-18T00:20:31.399Z"
   },
   {
    "duration": 877,
    "start_time": "2022-08-18T00:20:38.154Z"
   },
   {
    "duration": 5,
    "start_time": "2022-08-18T00:20:53.068Z"
   },
   {
    "duration": 10505,
    "start_time": "2022-08-18T00:21:06.335Z"
   },
   {
    "duration": 10,
    "start_time": "2022-08-18T00:21:32.716Z"
   },
   {
    "duration": 22,
    "start_time": "2022-08-18T00:21:45.405Z"
   },
   {
    "duration": 477,
    "start_time": "2022-08-18T00:28:23.374Z"
   },
   {
    "duration": 4,
    "start_time": "2022-08-18T00:29:08.416Z"
   },
   {
    "duration": 4,
    "start_time": "2022-08-18T00:32:48.477Z"
   },
   {
    "duration": 879,
    "start_time": "2022-08-18T00:32:52.050Z"
   },
   {
    "duration": 16368,
    "start_time": "2022-08-18T00:32:56.089Z"
   },
   {
    "duration": 4,
    "start_time": "2022-08-18T00:38:42.235Z"
   },
   {
    "duration": 292,
    "start_time": "2022-08-18T00:39:39.338Z"
   },
   {
    "duration": 6418,
    "start_time": "2022-08-18T00:39:44.432Z"
   },
   {
    "duration": 8,
    "start_time": "2022-08-18T00:40:40.032Z"
   },
   {
    "duration": 356,
    "start_time": "2022-08-18T00:40:54.067Z"
   },
   {
    "duration": 763,
    "start_time": "2022-08-18T00:42:07.778Z"
   },
   {
    "duration": 8,
    "start_time": "2022-08-18T01:08:58.727Z"
   },
   {
    "duration": 343,
    "start_time": "2022-08-18T01:09:35.589Z"
   },
   {
    "duration": 345,
    "start_time": "2022-08-18T01:09:48.391Z"
   },
   {
    "duration": 783,
    "start_time": "2022-08-18T01:09:54.650Z"
   },
   {
    "duration": 36,
    "start_time": "2022-08-18T01:11:43.511Z"
   },
   {
    "duration": 126,
    "start_time": "2022-08-18T01:11:46.996Z"
   },
   {
    "duration": 6,
    "start_time": "2022-08-18T01:11:51.113Z"
   },
   {
    "duration": 1343,
    "start_time": "2022-08-18T01:29:01.948Z"
   },
   {
    "duration": 45,
    "start_time": "2022-08-18T01:29:03.293Z"
   },
   {
    "duration": 14,
    "start_time": "2022-08-18T01:29:03.340Z"
   },
   {
    "duration": 17,
    "start_time": "2022-08-18T01:29:03.356Z"
   },
   {
    "duration": 5,
    "start_time": "2022-08-18T01:29:03.376Z"
   },
   {
    "duration": 24,
    "start_time": "2022-08-18T01:29:03.383Z"
   },
   {
    "duration": 6,
    "start_time": "2022-08-18T01:29:03.409Z"
   },
   {
    "duration": 13,
    "start_time": "2022-08-18T01:29:03.416Z"
   },
   {
    "duration": 6,
    "start_time": "2022-08-18T01:29:03.431Z"
   },
   {
    "duration": 19,
    "start_time": "2022-08-18T01:29:03.439Z"
   },
   {
    "duration": 14,
    "start_time": "2022-08-18T01:29:03.460Z"
   },
   {
    "duration": 13,
    "start_time": "2022-08-18T01:29:03.476Z"
   },
   {
    "duration": 12,
    "start_time": "2022-08-18T01:29:03.502Z"
   },
   {
    "duration": 19,
    "start_time": "2022-08-18T01:29:03.518Z"
   },
   {
    "duration": 4,
    "start_time": "2022-08-18T01:29:03.539Z"
   },
   {
    "duration": 38,
    "start_time": "2022-08-18T01:29:03.544Z"
   },
   {
    "duration": 21,
    "start_time": "2022-08-18T01:29:03.584Z"
   },
   {
    "duration": 21,
    "start_time": "2022-08-18T01:29:03.607Z"
   },
   {
    "duration": 19,
    "start_time": "2022-08-18T01:29:03.630Z"
   },
   {
    "duration": 37,
    "start_time": "2022-08-18T01:29:03.651Z"
   },
   {
    "duration": 6,
    "start_time": "2022-08-18T01:29:03.689Z"
   },
   {
    "duration": 6,
    "start_time": "2022-08-18T01:29:03.703Z"
   },
   {
    "duration": 5,
    "start_time": "2022-08-18T01:29:03.711Z"
   },
   {
    "duration": 4,
    "start_time": "2022-08-18T01:29:03.718Z"
   },
   {
    "duration": 38,
    "start_time": "2022-08-18T01:29:03.723Z"
   },
   {
    "duration": 6,
    "start_time": "2022-08-18T01:29:03.763Z"
   },
   {
    "duration": 7,
    "start_time": "2022-08-18T01:29:03.803Z"
   },
   {
    "duration": 10448,
    "start_time": "2022-08-18T01:29:03.812Z"
   },
   {
    "duration": 143484,
    "start_time": "2022-08-18T01:29:14.261Z"
   },
   {
    "duration": 757,
    "start_time": "2022-08-18T01:31:37.747Z"
   },
   {
    "duration": 217,
    "start_time": "2022-08-18T01:31:38.506Z"
   },
   {
    "duration": 196,
    "start_time": "2022-08-18T01:31:38.725Z"
   },
   {
    "duration": 525,
    "start_time": "2022-08-18T01:31:38.923Z"
   },
   {
    "duration": 4,
    "start_time": "2022-08-18T01:31:39.450Z"
   },
   {
    "duration": 883,
    "start_time": "2022-08-18T01:31:39.456Z"
   },
   {
    "duration": 16438,
    "start_time": "2022-08-18T01:31:40.341Z"
   },
   {
    "duration": 4,
    "start_time": "2022-08-18T01:31:56.781Z"
   },
   {
    "duration": 300,
    "start_time": "2022-08-18T01:31:56.787Z"
   },
   {
    "duration": 6430,
    "start_time": "2022-08-18T01:31:57.088Z"
   },
   {
    "duration": 9,
    "start_time": "2022-08-18T01:32:03.520Z"
   },
   {
    "duration": 361,
    "start_time": "2022-08-18T01:32:03.532Z"
   },
   {
    "duration": 774,
    "start_time": "2022-08-18T01:32:03.895Z"
   },
   {
    "duration": 45,
    "start_time": "2022-08-18T01:32:04.670Z"
   },
   {
    "duration": 137,
    "start_time": "2022-08-18T01:32:04.716Z"
   },
   {
    "duration": 7,
    "start_time": "2022-08-18T01:32:04.855Z"
   },
   {
    "duration": 1431,
    "start_time": "2022-08-18T01:52:51.625Z"
   },
   {
    "duration": 42,
    "start_time": "2022-08-18T01:52:53.058Z"
   },
   {
    "duration": 13,
    "start_time": "2022-08-18T01:52:53.102Z"
   },
   {
    "duration": 17,
    "start_time": "2022-08-18T01:52:53.118Z"
   },
   {
    "duration": 5,
    "start_time": "2022-08-18T01:52:53.136Z"
   },
   {
    "duration": 16,
    "start_time": "2022-08-18T01:52:53.143Z"
   },
   {
    "duration": 14,
    "start_time": "2022-08-18T01:52:53.161Z"
   },
   {
    "duration": 39,
    "start_time": "2022-08-18T01:52:53.177Z"
   },
   {
    "duration": 22,
    "start_time": "2022-08-18T01:52:53.217Z"
   },
   {
    "duration": 22,
    "start_time": "2022-08-18T01:52:53.242Z"
   },
   {
    "duration": 12,
    "start_time": "2022-08-18T01:52:53.265Z"
   },
   {
    "duration": 32,
    "start_time": "2022-08-18T01:52:53.279Z"
   },
   {
    "duration": 35,
    "start_time": "2022-08-18T01:52:53.313Z"
   },
   {
    "duration": 36,
    "start_time": "2022-08-18T01:52:53.349Z"
   },
   {
    "duration": 3,
    "start_time": "2022-08-18T01:52:53.386Z"
   },
   {
    "duration": 49,
    "start_time": "2022-08-18T01:52:53.391Z"
   },
   {
    "duration": 5,
    "start_time": "2022-08-18T01:52:53.442Z"
   },
   {
    "duration": 26,
    "start_time": "2022-08-18T01:52:53.448Z"
   },
   {
    "duration": 36,
    "start_time": "2022-08-18T01:52:53.475Z"
   },
   {
    "duration": 47,
    "start_time": "2022-08-18T01:52:53.513Z"
   },
   {
    "duration": 5,
    "start_time": "2022-08-18T01:52:53.562Z"
   },
   {
    "duration": 28,
    "start_time": "2022-08-18T01:52:53.569Z"
   },
   {
    "duration": 16,
    "start_time": "2022-08-18T01:52:53.598Z"
   },
   {
    "duration": 26,
    "start_time": "2022-08-18T01:52:53.615Z"
   },
   {
    "duration": 46,
    "start_time": "2022-08-18T01:52:53.643Z"
   },
   {
    "duration": 5,
    "start_time": "2022-08-18T01:52:53.691Z"
   },
   {
    "duration": 31,
    "start_time": "2022-08-18T01:52:53.698Z"
   },
   {
    "duration": 11108,
    "start_time": "2022-08-18T01:52:53.732Z"
   },
   {
    "duration": 144820,
    "start_time": "2022-08-18T01:53:04.842Z"
   },
   {
    "duration": 841,
    "start_time": "2022-08-18T01:55:29.664Z"
   },
   {
    "duration": 126,
    "start_time": "2022-08-18T01:55:30.507Z"
   },
   {
    "duration": 179,
    "start_time": "2022-08-18T01:55:30.634Z"
   },
   {
    "duration": 510,
    "start_time": "2022-08-18T01:55:30.814Z"
   },
   {
    "duration": 5,
    "start_time": "2022-08-18T01:55:31.325Z"
   },
   {
    "duration": 848,
    "start_time": "2022-08-18T01:55:31.331Z"
   },
   {
    "duration": 16570,
    "start_time": "2022-08-18T01:55:32.181Z"
   },
   {
    "duration": 4,
    "start_time": "2022-08-18T01:55:48.754Z"
   },
   {
    "duration": 334,
    "start_time": "2022-08-18T01:55:48.760Z"
   },
   {
    "duration": 6447,
    "start_time": "2022-08-18T01:55:49.096Z"
   },
   {
    "duration": 11,
    "start_time": "2022-08-18T01:55:55.545Z"
   },
   {
    "duration": 372,
    "start_time": "2022-08-18T01:55:55.558Z"
   },
   {
    "duration": 805,
    "start_time": "2022-08-18T01:55:55.932Z"
   },
   {
    "duration": 50,
    "start_time": "2022-08-18T01:55:56.739Z"
   },
   {
    "duration": 148,
    "start_time": "2022-08-18T01:55:56.803Z"
   },
   {
    "duration": 8,
    "start_time": "2022-08-18T01:55:56.953Z"
   },
   {
    "duration": 47,
    "start_time": "2022-08-18T11:57:39.407Z"
   },
   {
    "duration": 1596,
    "start_time": "2022-08-18T11:57:48.963Z"
   },
   {
    "duration": 88,
    "start_time": "2022-08-18T11:57:50.561Z"
   },
   {
    "duration": 14,
    "start_time": "2022-08-18T11:57:50.651Z"
   },
   {
    "duration": 17,
    "start_time": "2022-08-18T11:57:50.666Z"
   },
   {
    "duration": 5,
    "start_time": "2022-08-18T11:57:50.685Z"
   },
   {
    "duration": 18,
    "start_time": "2022-08-18T11:57:50.692Z"
   },
   {
    "duration": 5,
    "start_time": "2022-08-18T11:57:50.712Z"
   },
   {
    "duration": 38,
    "start_time": "2022-08-18T11:57:50.719Z"
   },
   {
    "duration": 5,
    "start_time": "2022-08-18T11:57:50.759Z"
   },
   {
    "duration": 11,
    "start_time": "2022-08-18T11:57:50.766Z"
   },
   {
    "duration": 8,
    "start_time": "2022-08-18T11:57:50.778Z"
   },
   {
    "duration": 11,
    "start_time": "2022-08-18T11:57:50.788Z"
   },
   {
    "duration": 8,
    "start_time": "2022-08-18T11:57:50.801Z"
   },
   {
    "duration": 20,
    "start_time": "2022-08-18T11:57:50.813Z"
   },
   {
    "duration": 4,
    "start_time": "2022-08-18T11:57:50.857Z"
   },
   {
    "duration": 30,
    "start_time": "2022-08-18T11:57:50.862Z"
   },
   {
    "duration": 5,
    "start_time": "2022-08-18T11:57:50.893Z"
   },
   {
    "duration": 14,
    "start_time": "2022-08-18T11:57:50.899Z"
   },
   {
    "duration": 24,
    "start_time": "2022-08-18T11:57:50.914Z"
   },
   {
    "duration": 58,
    "start_time": "2022-08-18T11:57:50.940Z"
   },
   {
    "duration": 5,
    "start_time": "2022-08-18T11:57:51.000Z"
   },
   {
    "duration": 22,
    "start_time": "2022-08-18T11:57:51.007Z"
   },
   {
    "duration": 7,
    "start_time": "2022-08-18T11:57:51.031Z"
   },
   {
    "duration": 6,
    "start_time": "2022-08-18T11:57:51.040Z"
   },
   {
    "duration": 45,
    "start_time": "2022-08-18T11:57:51.048Z"
   },
   {
    "duration": 6,
    "start_time": "2022-08-18T11:57:51.095Z"
   },
   {
    "duration": 15,
    "start_time": "2022-08-18T11:57:51.102Z"
   },
   {
    "duration": 9451,
    "start_time": "2022-08-18T11:57:51.119Z"
   },
   {
    "duration": 134069,
    "start_time": "2022-08-18T11:58:00.572Z"
   },
   {
    "duration": 815,
    "start_time": "2022-08-18T12:00:14.643Z"
   },
   {
    "duration": 212,
    "start_time": "2022-08-18T12:00:15.460Z"
   },
   {
    "duration": 101,
    "start_time": "2022-08-18T12:00:15.679Z"
   },
   {
    "duration": 492,
    "start_time": "2022-08-18T12:00:15.782Z"
   },
   {
    "duration": 4,
    "start_time": "2022-08-18T12:00:16.276Z"
   },
   {
    "duration": 819,
    "start_time": "2022-08-18T12:00:16.281Z"
   },
   {
    "duration": 15656,
    "start_time": "2022-08-18T12:00:17.101Z"
   },
   {
    "duration": 5,
    "start_time": "2022-08-18T12:00:32.759Z"
   },
   {
    "duration": 321,
    "start_time": "2022-08-18T12:00:32.766Z"
   },
   {
    "duration": 6077,
    "start_time": "2022-08-18T12:00:33.088Z"
   },
   {
    "duration": 9,
    "start_time": "2022-08-18T12:00:39.167Z"
   },
   {
    "duration": 358,
    "start_time": "2022-08-18T12:00:39.178Z"
   },
   {
    "duration": 481,
    "start_time": "2022-08-18T12:00:39.538Z"
   },
   {
    "duration": 46,
    "start_time": "2022-08-18T12:00:40.021Z"
   },
   {
    "duration": 134,
    "start_time": "2022-08-18T12:00:40.071Z"
   },
   {
    "duration": 7,
    "start_time": "2022-08-18T12:00:40.207Z"
   }
  ],
  "kernelspec": {
   "display_name": "Python 3 (ipykernel)",
   "language": "python",
   "name": "python3"
  },
  "language_info": {
   "codemirror_mode": {
    "name": "ipython",
    "version": 3
   },
   "file_extension": ".py",
   "mimetype": "text/x-python",
   "name": "python",
   "nbconvert_exporter": "python",
   "pygments_lexer": "ipython3",
   "version": "3.9.13"
  },
  "toc": {
   "base_numbering": 1,
   "nav_menu": {},
   "number_sections": true,
   "sideBar": true,
   "skip_h1_title": true,
   "title_cell": "Table of Contents",
   "title_sidebar": "Contents",
   "toc_cell": false,
   "toc_position": {
    "height": "calc(100% - 180px)",
    "left": "10px",
    "top": "150px",
    "width": "272px"
   },
   "toc_section_display": true,
   "toc_window_display": true
  }
 },
 "nbformat": 4,
 "nbformat_minor": 2
}
